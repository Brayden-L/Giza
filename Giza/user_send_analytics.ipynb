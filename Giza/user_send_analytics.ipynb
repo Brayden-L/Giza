{
 "cells": [
  {
   "cell_type": "code",
   "execution_count": 1,
   "metadata": {},
   "outputs": [],
   "source": [
    "import numpy as np\n",
    "import pandas as pd\n",
    "from pandas.api.types import CategoricalDtype\n",
    "import matplotlib.pyplot as plt\n",
    "import seaborn as sns\n",
    "import plotly.express as px\n",
    "import plotly.figure_factory as ff\n",
    "import nltk\n",
    "%matplotlib inline\n",
    "\n",
    "from bs4 import BeautifulSoup\n",
    "import lxml\n",
    "import requests\n",
    "import re\n",
    "import pyinputplus as pyip\n",
    "import requests\n",
    "import datetime as dt\n",
    "from datetime import datetime\n",
    "from tqdm import tqdm\n",
    "import pickle\n",
    "import random\n",
    "import math \n",
    "import string\n",
    "\n",
    "%load_ext autoreload\n",
    "%autoreload 2\n",
    "\n",
    "tqdm.pandas()\n",
    "pd.set_option('display.max_columns', 500)\n",
    "pd.set_option('display.max_rows', 150)"
   ]
  },
  {
   "cell_type": "code",
   "execution_count": 117,
   "metadata": {},
   "outputs": [
    {
     "name": "stdout",
     "output_type": "stream",
     "text": [
      "The autoreload extension is already loaded. To reload it, use:\n",
      "  %reload_ext autoreload\n"
     ]
    }
   ],
   "source": [
    "# Import other files\n",
    "%run climbconstants.py\n",
    "%run unique_route_handling.ipynb"
   ]
  },
  {
   "cell_type": "markdown",
   "metadata": {},
   "source": [
    "--- IMPORT ---"
   ]
  },
  {
   "cell_type": "code",
   "execution_count": 92,
   "metadata": {},
   "outputs": [],
   "source": [
    "upload_link = 'https://www.mountainproject.com/user/200180658/brayden-l'\n",
    "upload_type = 'tick'\n",
    "df_usend = download_routelist(upload_type, upload_link)"
   ]
  },
  {
   "cell_type": "markdown",
   "metadata": {},
   "source": [
    "--- DATA CLEANSE AND STANDARDIZE ---"
   ]
  },
  {
   "cell_type": "code",
   "execution_count": 93,
   "metadata": {},
   "outputs": [],
   "source": [
    "df_usend = data_standardize(df_usend)"
   ]
  },
  {
   "cell_type": "markdown",
   "metadata": {},
   "source": [
    "--- CREATE UNIQUE LIST ---"
   ]
  },
  {
   "cell_type": "code",
   "execution_count": 5,
   "metadata": {},
   "outputs": [],
   "source": [
    "df_usend_uniq = df_usend.drop_duplicates(subset=\"Route ID\")\n",
    "df_usend_uniq = user_uniq_clean(df_usend_uniq)"
   ]
  },
  {
   "cell_type": "markdown",
   "metadata": {},
   "source": [
    "--- GRADE HOMOGENIZATION AND ROUTE LENGTH CLEANUP ---"
   ]
  },
  {
   "cell_type": "code",
   "execution_count": 46,
   "metadata": {},
   "outputs": [],
   "source": [
    "df_usend_uniq = route_length_fixer(df_usend_uniq, 'express')"
   ]
  },
  {
   "cell_type": "code",
   "execution_count": 47,
   "metadata": {},
   "outputs": [],
   "source": [
    "grade_settings = ['letter', 'even_rand', 'flat', 'even_rand']\n",
    "df_usend_uniq = grade_homo(df_usend_uniq, *grade_settings)"
   ]
  },
  {
   "cell_type": "markdown",
   "metadata": {},
   "source": [
    "--- SCRAPE ---"
   ]
  },
  {
   "cell_type": "code",
   "execution_count": null,
   "metadata": {},
   "outputs": [],
   "source": [
    "df_usend_uniq = route_scrape(df_usend_uniq)"
   ]
  },
  {
   "cell_type": "markdown",
   "metadata": {},
   "source": [
    "--- ANALYZE ---"
   ]
  },
  {
   "cell_type": "code",
   "execution_count": 9,
   "metadata": {},
   "outputs": [
    {
     "name": "stderr",
     "output_type": "stream",
     "text": [
      "100%|██████████| 641/641 [00:45<00:00, 14.17it/s]\n"
     ]
    }
   ],
   "source": [
    "df_usend_uniq = extract_default_pitch(df_usend_uniq)"
   ]
  },
  {
   "cell_type": "code",
   "execution_count": 10,
   "metadata": {},
   "outputs": [
    {
     "name": "stderr",
     "output_type": "stream",
     "text": [
      "100%|██████████| 641/641 [14:46<00:00,  1.38s/it]\n"
     ]
    }
   ],
   "source": [
    "df_usend_uniq = extract_tick_details(df_usend_uniq)"
   ]
  },
  {
   "cell_type": "code",
   "execution_count": 11,
   "metadata": {},
   "outputs": [],
   "source": [
    "# Let's save the now scraped dataframe to a pickle file\n",
    "df_usend_uniq.to_pickle('../Data_Archive/df_usend_archive')"
   ]
  },
  {
   "cell_type": "code",
   "execution_count": 3,
   "metadata": {},
   "outputs": [],
   "source": [
    "# To load the new pickle file\n",
    "picklefile = open('../Data_Archive/df_usend_archive', 'rb')\n",
    "df_usend_uniq = pickle.load(picklefile)"
   ]
  },
  {
   "cell_type": "code",
   "execution_count": null,
   "metadata": {},
   "outputs": [],
   "source": [
    "df_usend_uniq = tick_analysis(df_usend_uniq)"
   ]
  },
  {
   "cell_type": "markdown",
   "metadata": {},
   "source": [
    "--- MERGE UNIQUE DATA TO TICK LIST ---"
   ]
  },
  {
   "cell_type": "code",
   "execution_count": 94,
   "metadata": {},
   "outputs": [],
   "source": [
    "# merge unique dataframe details to user data frame. This will delete the user data frame of length and rating information and replace it with that from the unique dataframe\n",
    "df_usendm = df_usend.copy() # We create a copy of the original df_usend to be consequently modified by the user. This leaves the original dataframe alone.\n",
    "df_usendm.drop(columns=['Rating', 'Length'], inplace=True)\n",
    "df_usendm = df_usendm.merge(df_usend_uniq[['Route ID', 'Pitches', 'Lead Ratio', 'Num Ticks', 'Num Tickers', 'OS Ratio', 'Rating', 'Length']], how='left', on='Route ID')"
   ]
  },
  {
   "cell_type": "markdown",
   "metadata": {},
   "source": [
    "--- TAG NOTABLE SENDS ---"
   ]
  },
  {
   "cell_type": "code",
   "execution_count": 95,
   "metadata": {},
   "outputs": [],
   "source": [
    "#Initialize columns\n",
    "\n",
    "df_usendm.insert(len(df_usendm.columns),'Flash/Onsight',None)\n",
    "df_usendm.insert(len(df_usendm.columns),'Worked Clean',None)\n",
    "df_usendm.insert(len(df_usendm.columns),'Grade Breakthrough',None)\n",
    "df_usendm.insert(len(df_usendm.columns),'Attempts',float('NaN'))"
   ]
  },
  {
   "cell_type": "code",
   "execution_count": null,
   "metadata": {},
   "outputs": [],
   "source": []
  },
  {
   "cell_type": "code",
   "execution_count": 118,
   "metadata": {},
   "outputs": [
    {
     "name": "stderr",
     "output_type": "stream",
     "text": [
      "C:\\Users\\Brayden\\AppData\\Local\\Temp\\ipykernel_4136\\509913645.py:12: FutureWarning:\n",
      "\n",
      "Not prepending group keys to the result index of transform-like apply. In the future, the group keys will be included in the index, regardless of whether the applied function returns a like-indexed object.\n",
      "To preserve the previous behavior, use\n",
      "\n",
      "\t>>> .groupby(..., group_keys=False)\n",
      "\n",
      "To adopt the future behavior and silence this warning, use \n",
      "\n",
      "\t>>> .groupby(..., group_keys=True)\n",
      "\n",
      "  0%|          | 1/641 [00:00<00:01, 333.23it/s]\n"
     ]
    },
    {
     "ename": "ValueError",
     "evalue": "attempt to get argmin of an empty sequence",
     "output_type": "error",
     "traceback": [
      "\u001b[1;31m---------------------------------------------------------------------------\u001b[0m",
      "\u001b[1;31mValueError\u001b[0m                                Traceback (most recent call last)",
      "Cell \u001b[1;32mIn [118], line 30\u001b[0m\n\u001b[0;32m     28\u001b[0m df_all_worked\u001b[39m.\u001b[39mloc[df_worked_sub2\u001b[39m.\u001b[39mindex\u001b[39m.\u001b[39mvalues, \u001b[39m\"\u001b[39m\u001b[39mWorked Clean\u001b[39m\u001b[39m\"\u001b[39m] \u001b[39m=\u001b[39m \u001b[39mTrue\u001b[39;00m \u001b[39m# To make the next line work properly, we need to backfill the \"worked clean\" flag to worked clean.\u001b[39;00m\n\u001b[0;32m     29\u001b[0m df_all_worked\u001b[39m.\u001b[39mdrop(df_all_worked[(df_all_worked[\u001b[39m'\u001b[39m\u001b[39mLead Style\u001b[39m\u001b[39m'\u001b[39m]\u001b[39m.\u001b[39misin(CLEAN_SEND_WORKED)) \u001b[39m&\u001b[39m (df_all_worked[\u001b[39m'\u001b[39m\u001b[39mWorked Clean\u001b[39m\u001b[39m'\u001b[39m] \u001b[39m==\u001b[39m \u001b[39m'\u001b[39m\u001b[39m'\u001b[39m)]\u001b[39m.\u001b[39mindex, inplace\u001b[39m=\u001b[39m\u001b[39mTrue\u001b[39;00m) \u001b[39m# remove all redpoints/pinkpoints after first for purpose of counting attempts, this can be done by removing all rows that are redpoints but not marked 'worked clean'\u001b[39;00m\n\u001b[1;32m---> 30\u001b[0m df_usendm[\u001b[39m'\u001b[39m\u001b[39mAttempts\u001b[39m\u001b[39m'\u001b[39m] \u001b[39m=\u001b[39m df_usendm\u001b[39m.\u001b[39;49mgroupby(\u001b[39m'\u001b[39;49m\u001b[39mRoute ID\u001b[39;49m\u001b[39m'\u001b[39;49m)\u001b[39m.\u001b[39;49mprogress_apply(\u001b[39mlambda\u001b[39;49;00m x: count_attempt2rp(x, x[\u001b[39m'\u001b[39;49m\u001b[39mPitches\u001b[39;49m\u001b[39m'\u001b[39;49m]))\n\u001b[0;32m     31\u001b[0m \u001b[39m# num_to_send = df_all_worked.groupby('Route ID')['Pitches Ticked'].sum()\u001b[39;00m\n\u001b[0;32m     32\u001b[0m \u001b[39m# matched_attempts = df_usendm[df_usendm['Worked Clean'] == True].merge(num_to_send, on=\"Route ID\", how=\"left\")\u001b[39;00m\n\u001b[0;32m     33\u001b[0m \u001b[39m# matched_attempts.index = df_usendm[df_usendm['Worked Clean'] == True].index # I'm dumb and this is the best way I could find to get my index to remain\u001b[39;00m\n\u001b[0;32m     34\u001b[0m \u001b[39m# df_usendm.loc[matched_attempts.index, \"Attempts\"] = matched_attempts.iloc[:,-1]\u001b[39;00m\n\u001b[0;32m     35\u001b[0m \u001b[39m# df_usendm.loc[df_usendm['Attempts'] == 1, 'Attempts'] = 2 # This assumes rp with 1 pitch and no prior ticks had one prior attempt\u001b[39;00m\n",
      "File \u001b[1;32mc:\\Users\\Brayden\\Desktop\\Giza\\.venv\\lib\\site-packages\\tqdm\\std.py:814\u001b[0m, in \u001b[0;36mtqdm.pandas.<locals>.inner_generator.<locals>.inner\u001b[1;34m(df, func, *args, **kwargs)\u001b[0m\n\u001b[0;32m    811\u001b[0m \u001b[39m# Apply the provided function (in **kwargs)\u001b[39;00m\n\u001b[0;32m    812\u001b[0m \u001b[39m# on the df using our wrapper (which provides bar updating)\u001b[39;00m\n\u001b[0;32m    813\u001b[0m \u001b[39mtry\u001b[39;00m:\n\u001b[1;32m--> 814\u001b[0m     \u001b[39mreturn\u001b[39;00m \u001b[39mgetattr\u001b[39m(df, df_function)(wrapper, \u001b[39m*\u001b[39m\u001b[39m*\u001b[39mkwargs)\n\u001b[0;32m    815\u001b[0m \u001b[39mfinally\u001b[39;00m:\n\u001b[0;32m    816\u001b[0m     t\u001b[39m.\u001b[39mclose()\n",
      "File \u001b[1;32mc:\\Users\\Brayden\\Desktop\\Giza\\.venv\\lib\\site-packages\\pandas\\core\\groupby\\groupby.py:1558\u001b[0m, in \u001b[0;36mGroupBy.apply\u001b[1;34m(self, func, *args, **kwargs)\u001b[0m\n\u001b[0;32m   1556\u001b[0m \u001b[39mwith\u001b[39;00m option_context(\u001b[39m\"\u001b[39m\u001b[39mmode.chained_assignment\u001b[39m\u001b[39m\"\u001b[39m, \u001b[39mNone\u001b[39;00m):\n\u001b[0;32m   1557\u001b[0m     \u001b[39mtry\u001b[39;00m:\n\u001b[1;32m-> 1558\u001b[0m         result \u001b[39m=\u001b[39m \u001b[39mself\u001b[39;49m\u001b[39m.\u001b[39;49m_python_apply_general(f, \u001b[39mself\u001b[39;49m\u001b[39m.\u001b[39;49m_selected_obj)\n\u001b[0;32m   1559\u001b[0m     \u001b[39mexcept\u001b[39;00m \u001b[39mTypeError\u001b[39;00m:\n\u001b[0;32m   1560\u001b[0m         \u001b[39m# gh-20949\u001b[39;00m\n\u001b[0;32m   1561\u001b[0m         \u001b[39m# try again, with .apply acting as a filtering\u001b[39;00m\n\u001b[1;32m   (...)\u001b[0m\n\u001b[0;32m   1565\u001b[0m         \u001b[39m# fails on *some* columns, e.g. a numeric operation\u001b[39;00m\n\u001b[0;32m   1566\u001b[0m         \u001b[39m# on a string grouper column\u001b[39;00m\n\u001b[0;32m   1568\u001b[0m         \u001b[39mwith\u001b[39;00m \u001b[39mself\u001b[39m\u001b[39m.\u001b[39m_group_selection_context():\n",
      "File \u001b[1;32mc:\\Users\\Brayden\\Desktop\\Giza\\.venv\\lib\\site-packages\\pandas\\core\\groupby\\groupby.py:1610\u001b[0m, in \u001b[0;36mGroupBy._python_apply_general\u001b[1;34m(self, f, data, not_indexed_same, is_transform, is_agg)\u001b[0m\n\u001b[0;32m   1573\u001b[0m \u001b[39m@final\u001b[39m\n\u001b[0;32m   1574\u001b[0m \u001b[39mdef\u001b[39;00m \u001b[39m_python_apply_general\u001b[39m(\n\u001b[0;32m   1575\u001b[0m     \u001b[39mself\u001b[39m,\n\u001b[1;32m   (...)\u001b[0m\n\u001b[0;32m   1580\u001b[0m     is_agg: \u001b[39mbool\u001b[39m \u001b[39m=\u001b[39m \u001b[39mFalse\u001b[39;00m,\n\u001b[0;32m   1581\u001b[0m ) \u001b[39m-\u001b[39m\u001b[39m>\u001b[39m NDFrameT:\n\u001b[0;32m   1582\u001b[0m     \u001b[39m\"\"\"\u001b[39;00m\n\u001b[0;32m   1583\u001b[0m \u001b[39m    Apply function f in python space\u001b[39;00m\n\u001b[0;32m   1584\u001b[0m \n\u001b[1;32m   (...)\u001b[0m\n\u001b[0;32m   1608\u001b[0m \u001b[39m        data after applying f\u001b[39;00m\n\u001b[0;32m   1609\u001b[0m \u001b[39m    \"\"\"\u001b[39;00m\n\u001b[1;32m-> 1610\u001b[0m     values, mutated \u001b[39m=\u001b[39m \u001b[39mself\u001b[39;49m\u001b[39m.\u001b[39;49mgrouper\u001b[39m.\u001b[39;49mapply(f, data, \u001b[39mself\u001b[39;49m\u001b[39m.\u001b[39;49maxis)\n\u001b[0;32m   1611\u001b[0m     \u001b[39mif\u001b[39;00m not_indexed_same \u001b[39mis\u001b[39;00m \u001b[39mNone\u001b[39;00m:\n\u001b[0;32m   1612\u001b[0m         not_indexed_same \u001b[39m=\u001b[39m mutated \u001b[39mor\u001b[39;00m \u001b[39mself\u001b[39m\u001b[39m.\u001b[39mmutated\n",
      "File \u001b[1;32mc:\\Users\\Brayden\\Desktop\\Giza\\.venv\\lib\\site-packages\\pandas\\core\\groupby\\ops.py:839\u001b[0m, in \u001b[0;36mBaseGrouper.apply\u001b[1;34m(self, f, data, axis)\u001b[0m\n\u001b[0;32m    837\u001b[0m \u001b[39m# group might be modified\u001b[39;00m\n\u001b[0;32m    838\u001b[0m group_axes \u001b[39m=\u001b[39m group\u001b[39m.\u001b[39maxes\n\u001b[1;32m--> 839\u001b[0m res \u001b[39m=\u001b[39m f(group)\n\u001b[0;32m    840\u001b[0m \u001b[39mif\u001b[39;00m \u001b[39mnot\u001b[39;00m mutated \u001b[39mand\u001b[39;00m \u001b[39mnot\u001b[39;00m _is_indexed_like(res, group_axes, axis):\n\u001b[0;32m    841\u001b[0m     mutated \u001b[39m=\u001b[39m \u001b[39mTrue\u001b[39;00m\n",
      "File \u001b[1;32mc:\\Users\\Brayden\\Desktop\\Giza\\.venv\\lib\\site-packages\\tqdm\\std.py:809\u001b[0m, in \u001b[0;36mtqdm.pandas.<locals>.inner_generator.<locals>.inner.<locals>.wrapper\u001b[1;34m(*args, **kwargs)\u001b[0m\n\u001b[0;32m    803\u001b[0m \u001b[39mdef\u001b[39;00m \u001b[39mwrapper\u001b[39m(\u001b[39m*\u001b[39margs, \u001b[39m*\u001b[39m\u001b[39m*\u001b[39mkwargs):\n\u001b[0;32m    804\u001b[0m     \u001b[39m# update tbar correctly\u001b[39;00m\n\u001b[0;32m    805\u001b[0m     \u001b[39m# it seems `pandas apply` calls `func` twice\u001b[39;00m\n\u001b[0;32m    806\u001b[0m     \u001b[39m# on the first column/row to decide whether it can\u001b[39;00m\n\u001b[0;32m    807\u001b[0m     \u001b[39m# take a fast or slow code path; so stop when t.total==t.n\u001b[39;00m\n\u001b[0;32m    808\u001b[0m     t\u001b[39m.\u001b[39mupdate(n\u001b[39m=\u001b[39m\u001b[39m1\u001b[39m \u001b[39mif\u001b[39;00m \u001b[39mnot\u001b[39;00m t\u001b[39m.\u001b[39mtotal \u001b[39mor\u001b[39;00m t\u001b[39m.\u001b[39mn \u001b[39m<\u001b[39m t\u001b[39m.\u001b[39mtotal \u001b[39melse\u001b[39;00m \u001b[39m0\u001b[39m)\n\u001b[1;32m--> 809\u001b[0m     \u001b[39mreturn\u001b[39;00m func(\u001b[39m*\u001b[39margs, \u001b[39m*\u001b[39m\u001b[39m*\u001b[39mkwargs)\n",
      "Cell \u001b[1;32mIn [118], line 30\u001b[0m, in \u001b[0;36m<lambda>\u001b[1;34m(x)\u001b[0m\n\u001b[0;32m     28\u001b[0m df_all_worked\u001b[39m.\u001b[39mloc[df_worked_sub2\u001b[39m.\u001b[39mindex\u001b[39m.\u001b[39mvalues, \u001b[39m\"\u001b[39m\u001b[39mWorked Clean\u001b[39m\u001b[39m\"\u001b[39m] \u001b[39m=\u001b[39m \u001b[39mTrue\u001b[39;00m \u001b[39m# To make the next line work properly, we need to backfill the \"worked clean\" flag to worked clean.\u001b[39;00m\n\u001b[0;32m     29\u001b[0m df_all_worked\u001b[39m.\u001b[39mdrop(df_all_worked[(df_all_worked[\u001b[39m'\u001b[39m\u001b[39mLead Style\u001b[39m\u001b[39m'\u001b[39m]\u001b[39m.\u001b[39misin(CLEAN_SEND_WORKED)) \u001b[39m&\u001b[39m (df_all_worked[\u001b[39m'\u001b[39m\u001b[39mWorked Clean\u001b[39m\u001b[39m'\u001b[39m] \u001b[39m==\u001b[39m \u001b[39m'\u001b[39m\u001b[39m'\u001b[39m)]\u001b[39m.\u001b[39mindex, inplace\u001b[39m=\u001b[39m\u001b[39mTrue\u001b[39;00m) \u001b[39m# remove all redpoints/pinkpoints after first for purpose of counting attempts, this can be done by removing all rows that are redpoints but not marked 'worked clean'\u001b[39;00m\n\u001b[1;32m---> 30\u001b[0m df_usendm[\u001b[39m'\u001b[39m\u001b[39mAttempts\u001b[39m\u001b[39m'\u001b[39m] \u001b[39m=\u001b[39m df_usendm\u001b[39m.\u001b[39mgroupby(\u001b[39m'\u001b[39m\u001b[39mRoute ID\u001b[39m\u001b[39m'\u001b[39m)\u001b[39m.\u001b[39mprogress_apply(\u001b[39mlambda\u001b[39;00m x: count_attempt2rp(x, x[\u001b[39m'\u001b[39;49m\u001b[39mPitches\u001b[39;49m\u001b[39m'\u001b[39;49m]))\n\u001b[0;32m     31\u001b[0m \u001b[39m# num_to_send = df_all_worked.groupby('Route ID')['Pitches Ticked'].sum()\u001b[39;00m\n\u001b[0;32m     32\u001b[0m \u001b[39m# matched_attempts = df_usendm[df_usendm['Worked Clean'] == True].merge(num_to_send, on=\"Route ID\", how=\"left\")\u001b[39;00m\n\u001b[0;32m     33\u001b[0m \u001b[39m# matched_attempts.index = df_usendm[df_usendm['Worked Clean'] == True].index # I'm dumb and this is the best way I could find to get my index to remain\u001b[39;00m\n\u001b[0;32m     34\u001b[0m \u001b[39m# df_usendm.loc[matched_attempts.index, \"Attempts\"] = matched_attempts.iloc[:,-1]\u001b[39;00m\n\u001b[0;32m     35\u001b[0m \u001b[39m# df_usendm.loc[df_usendm['Attempts'] == 1, 'Attempts'] = 2 # This assumes rp with 1 pitch and no prior ticks had one prior attempt\u001b[39;00m\n",
      "File \u001b[1;32m~\\AppData\\Local\\Temp\\ipykernel_4136\\2780014295.py:72\u001b[0m, in \u001b[0;36mcount_attempt2rp\u001b[1;34m(df_source, pitchnum)\u001b[0m\n\u001b[0;32m     59\u001b[0m \u001b[39mdef\u001b[39;00m \u001b[39mcount_attempt2rp\u001b[39m(df_source, pitchnum):\n\u001b[0;32m     60\u001b[0m     \u001b[39m\"\"\"Takes a dataframe of a single given users ticks, outputs number of attempts to first rp\u001b[39;00m\n\u001b[0;32m     61\u001b[0m \n\u001b[0;32m     62\u001b[0m \u001b[39m    Parameters\u001b[39;00m\n\u001b[1;32m   (...)\u001b[0m\n\u001b[0;32m     70\u001b[0m \u001b[39m        Number of attempts to first redpoint\u001b[39;00m\n\u001b[0;32m     71\u001b[0m \u001b[39m    \"\"\"\u001b[39;00m\n\u001b[1;32m---> 72\u001b[0m     firstrp_cutoff \u001b[39m=\u001b[39m df_source[df_source[\u001b[39m'\u001b[39;49m\u001b[39mLead Style\u001b[39;49m\u001b[39m'\u001b[39;49m]\u001b[39m.\u001b[39;49misin(CLEAN_SEND_WORKED)][\u001b[39m'\u001b[39;49m\u001b[39mDate\u001b[39;49m\u001b[39m'\u001b[39;49m]\u001b[39m.\u001b[39;49midxmin() \u001b[39m# Find index of first rp\u001b[39;00m\n\u001b[0;32m     73\u001b[0m     \u001b[39m# If multipitch, we count ticks. If singlepitch we count number of total ticked pitches.\u001b[39;00m\n\u001b[0;32m     74\u001b[0m     \u001b[39mif\u001b[39;00m pitchnum \u001b[39m>\u001b[39m \u001b[39m1\u001b[39m:\n",
      "File \u001b[1;32mc:\\Users\\Brayden\\Desktop\\Giza\\.venv\\lib\\site-packages\\pandas\\core\\series.py:2495\u001b[0m, in \u001b[0;36mSeries.idxmin\u001b[1;34m(self, axis, skipna, *args, **kwargs)\u001b[0m\n\u001b[0;32m   2432\u001b[0m \u001b[39mdef\u001b[39;00m \u001b[39midxmin\u001b[39m(\u001b[39mself\u001b[39m, axis: Axis \u001b[39m=\u001b[39m \u001b[39m0\u001b[39m, skipna: \u001b[39mbool\u001b[39m \u001b[39m=\u001b[39m \u001b[39mTrue\u001b[39;00m, \u001b[39m*\u001b[39margs, \u001b[39m*\u001b[39m\u001b[39m*\u001b[39mkwargs) \u001b[39m-\u001b[39m\u001b[39m>\u001b[39m Hashable:\n\u001b[0;32m   2433\u001b[0m     \u001b[39m\"\"\"\u001b[39;00m\n\u001b[0;32m   2434\u001b[0m \u001b[39m    Return the row label of the minimum value.\u001b[39;00m\n\u001b[0;32m   2435\u001b[0m \n\u001b[1;32m   (...)\u001b[0m\n\u001b[0;32m   2493\u001b[0m \u001b[39m    nan\u001b[39;00m\n\u001b[0;32m   2494\u001b[0m \u001b[39m    \"\"\"\u001b[39;00m\n\u001b[1;32m-> 2495\u001b[0m     i \u001b[39m=\u001b[39m \u001b[39mself\u001b[39m\u001b[39m.\u001b[39margmin(axis, skipna, \u001b[39m*\u001b[39margs, \u001b[39m*\u001b[39m\u001b[39m*\u001b[39mkwargs)\n\u001b[0;32m   2496\u001b[0m     \u001b[39mif\u001b[39;00m i \u001b[39m==\u001b[39m \u001b[39m-\u001b[39m\u001b[39m1\u001b[39m:\n\u001b[0;32m   2497\u001b[0m         \u001b[39mreturn\u001b[39;00m np\u001b[39m.\u001b[39mnan\n",
      "File \u001b[1;32mc:\\Users\\Brayden\\Desktop\\Giza\\.venv\\lib\\site-packages\\pandas\\core\\base.py:713\u001b[0m, in \u001b[0;36mIndexOpsMixin.argmin\u001b[1;34m(self, axis, skipna, *args, **kwargs)\u001b[0m\n\u001b[0;32m    711\u001b[0m         \u001b[39mreturn\u001b[39;00m \u001b[39m-\u001b[39m\u001b[39m1\u001b[39m\n\u001b[0;32m    712\u001b[0m     \u001b[39melse\u001b[39;00m:\n\u001b[1;32m--> 713\u001b[0m         \u001b[39mreturn\u001b[39;00m delegate\u001b[39m.\u001b[39;49margmin()\n\u001b[0;32m    714\u001b[0m \u001b[39melse\u001b[39;00m:\n\u001b[0;32m    715\u001b[0m     \u001b[39m# error: Incompatible return value type (got \"Union[int, ndarray]\", expected\u001b[39;00m\n\u001b[0;32m    716\u001b[0m     \u001b[39m# \"int\")\u001b[39;00m\n\u001b[0;32m    717\u001b[0m     \u001b[39mreturn\u001b[39;00m nanops\u001b[39m.\u001b[39mnanargmin(  \u001b[39m# type: ignore[return-value]\u001b[39;00m\n\u001b[0;32m    718\u001b[0m         delegate, skipna\u001b[39m=\u001b[39mskipna\n\u001b[0;32m    719\u001b[0m     )\n",
      "File \u001b[1;32mc:\\Users\\Brayden\\Desktop\\Giza\\.venv\\lib\\site-packages\\pandas\\core\\arrays\\_mixins.py:200\u001b[0m, in \u001b[0;36mNDArrayBackedExtensionArray.argmin\u001b[1;34m(self, axis, skipna)\u001b[0m\n\u001b[0;32m    198\u001b[0m \u001b[39mif\u001b[39;00m \u001b[39mnot\u001b[39;00m skipna \u001b[39mand\u001b[39;00m \u001b[39mself\u001b[39m\u001b[39m.\u001b[39m_hasna:\n\u001b[0;32m    199\u001b[0m     \u001b[39mraise\u001b[39;00m \u001b[39mNotImplementedError\u001b[39;00m\n\u001b[1;32m--> 200\u001b[0m \u001b[39mreturn\u001b[39;00m nargminmax(\u001b[39mself\u001b[39;49m, \u001b[39m\"\u001b[39;49m\u001b[39margmin\u001b[39;49m\u001b[39m\"\u001b[39;49m, axis\u001b[39m=\u001b[39;49maxis)\n",
      "File \u001b[1;32mc:\\Users\\Brayden\\Desktop\\Giza\\.venv\\lib\\site-packages\\pandas\\core\\sorting.py:482\u001b[0m, in \u001b[0;36mnargminmax\u001b[1;34m(values, method, axis)\u001b[0m\n\u001b[0;32m    479\u001b[0m         \u001b[39mreturn\u001b[39;00m np\u001b[39m.\u001b[39marray([_nanargminmax(v, m, func) \u001b[39mfor\u001b[39;00m v, m \u001b[39min\u001b[39;00m zipped])\n\u001b[0;32m    480\u001b[0m     \u001b[39mreturn\u001b[39;00m func(arr_values, axis\u001b[39m=\u001b[39maxis)\n\u001b[1;32m--> 482\u001b[0m \u001b[39mreturn\u001b[39;00m _nanargminmax(arr_values, mask, func)\n",
      "File \u001b[1;32mc:\\Users\\Brayden\\Desktop\\Giza\\.venv\\lib\\site-packages\\pandas\\core\\sorting.py:493\u001b[0m, in \u001b[0;36m_nanargminmax\u001b[1;34m(values, mask, func)\u001b[0m\n\u001b[0;32m    490\u001b[0m non_nans \u001b[39m=\u001b[39m values[\u001b[39m~\u001b[39mmask]\n\u001b[0;32m    491\u001b[0m non_nan_idx \u001b[39m=\u001b[39m idx[\u001b[39m~\u001b[39mmask]\n\u001b[1;32m--> 493\u001b[0m \u001b[39mreturn\u001b[39;00m non_nan_idx[func(non_nans)]\n",
      "File \u001b[1;32m<__array_function__ internals>:180\u001b[0m, in \u001b[0;36margmin\u001b[1;34m(*args, **kwargs)\u001b[0m\n",
      "File \u001b[1;32mc:\\Users\\Brayden\\Desktop\\Giza\\.venv\\lib\\site-packages\\numpy\\core\\fromnumeric.py:1312\u001b[0m, in \u001b[0;36margmin\u001b[1;34m(a, axis, out, keepdims)\u001b[0m\n\u001b[0;32m   1225\u001b[0m \u001b[39m\"\"\"\u001b[39;00m\n\u001b[0;32m   1226\u001b[0m \u001b[39mReturns the indices of the minimum values along an axis.\u001b[39;00m\n\u001b[0;32m   1227\u001b[0m \n\u001b[1;32m   (...)\u001b[0m\n\u001b[0;32m   1309\u001b[0m \u001b[39m(2, 1, 4)\u001b[39;00m\n\u001b[0;32m   1310\u001b[0m \u001b[39m\"\"\"\u001b[39;00m\n\u001b[0;32m   1311\u001b[0m kwds \u001b[39m=\u001b[39m {\u001b[39m'\u001b[39m\u001b[39mkeepdims\u001b[39m\u001b[39m'\u001b[39m: keepdims} \u001b[39mif\u001b[39;00m keepdims \u001b[39mis\u001b[39;00m \u001b[39mnot\u001b[39;00m np\u001b[39m.\u001b[39m_NoValue \u001b[39melse\u001b[39;00m {}\n\u001b[1;32m-> 1312\u001b[0m \u001b[39mreturn\u001b[39;00m _wrapfunc(a, \u001b[39m'\u001b[39m\u001b[39margmin\u001b[39m\u001b[39m'\u001b[39m, axis\u001b[39m=\u001b[39maxis, out\u001b[39m=\u001b[39mout, \u001b[39m*\u001b[39m\u001b[39m*\u001b[39mkwds)\n",
      "File \u001b[1;32mc:\\Users\\Brayden\\Desktop\\Giza\\.venv\\lib\\site-packages\\numpy\\core\\fromnumeric.py:57\u001b[0m, in \u001b[0;36m_wrapfunc\u001b[1;34m(obj, method, *args, **kwds)\u001b[0m\n\u001b[0;32m     54\u001b[0m     \u001b[39mreturn\u001b[39;00m _wrapit(obj, method, \u001b[39m*\u001b[39margs, \u001b[39m*\u001b[39m\u001b[39m*\u001b[39mkwds)\n\u001b[0;32m     56\u001b[0m \u001b[39mtry\u001b[39;00m:\n\u001b[1;32m---> 57\u001b[0m     \u001b[39mreturn\u001b[39;00m bound(\u001b[39m*\u001b[39margs, \u001b[39m*\u001b[39m\u001b[39m*\u001b[39mkwds)\n\u001b[0;32m     58\u001b[0m \u001b[39mexcept\u001b[39;00m \u001b[39mTypeError\u001b[39;00m:\n\u001b[0;32m     59\u001b[0m     \u001b[39m# A TypeError occurs if the object does have such a method in its\u001b[39;00m\n\u001b[0;32m     60\u001b[0m     \u001b[39m# class, but its signature is not identical to that of NumPy's. This\u001b[39;00m\n\u001b[1;32m   (...)\u001b[0m\n\u001b[0;32m     64\u001b[0m     \u001b[39m# Call _wrapit from within the except clause to ensure a potential\u001b[39;00m\n\u001b[0;32m     65\u001b[0m     \u001b[39m# exception has a traceback chain.\u001b[39;00m\n\u001b[0;32m     66\u001b[0m     \u001b[39mreturn\u001b[39;00m _wrapit(obj, method, \u001b[39m*\u001b[39margs, \u001b[39m*\u001b[39m\u001b[39m*\u001b[39mkwds)\n",
      "\u001b[1;31mValueError\u001b[0m: attempt to get argmin of an empty sequence"
     ]
    }
   ],
   "source": [
    "# We want to tag important climbs, namely flash/onsights, worked clean routes and grade breakthroughs.\n",
    "\n",
    "# Tag climbs that were flash/onsight\n",
    "df_usendm.loc[df_usendm['Lead Style'].isin(CLEAN_SEND_FIRST), 'Flash/Onsight'] = True\n",
    "\n",
    "# Create column that flags climbs that were worked. There are three possibilities to consider. We want 1 and 2.\n",
    "# 1. Worked to clean send, no further sends.\n",
    "# 2. Worked to clean send, additional attempts.\n",
    "# 3. Sent clean first try, additional attempts.\n",
    "df_all_dupes = df_usendm[df_usendm.duplicated(subset=\"Route ID\", keep=False)] # First we filter for all duplicate entries.\n",
    "df_all_worked = df_all_dupes.groupby('Route ID').filter(lambda x: ~x['Lead Style'].isin(CLEAN_SEND_FIRST).any()) # Then we remove all groups which have a lead style of flash or onsight to eliminate group 3.\n",
    "df_worked_sub1 = df_all_worked[df_all_worked.groupby('Route ID')['Lead Style'].apply(lambda x: x.isin(CLEAN_SEND_WORKED))] # fell/hungs and TRs remain, so we take ticks from CLEAN_SEND_WORKED.\n",
    "df_worked_sub2 = df_worked_sub1.loc[df_worked_sub1.groupby('Route ID')['Date'].idxmin()] # Use only the earliest redpoint to correctly identify the first redpoint.\n",
    "df_usendm.loc[df_worked_sub2.index.values, \"Worked Clean\"] = True\n",
    "\n",
    "# Flag grade breakthrough ticks\n",
    "dfbreakthr = df_usendm[(df_usendm['Flash/Onsight'] == True) | (df_usendm['Worked Clean'] == True)]\n",
    "breakthrough_indexes = dfbreakthr.groupby('Rating', observed=True)['Date'].idxmin().values\n",
    "df_usendm.loc[breakthrough_indexes, \"Grade Breakthrough\"] = True\n",
    "df_usendm.loc[breakthrough_indexes]\n",
    "\n",
    "def count_user_attempt2rp(df_source):\n",
    "    \"\"\"Takes a dataframe of all user ticks of a given climb, outputs number of attempts to first rp\n",
    "\n",
    "    Parameters\n",
    "    ----------\n",
    "    df_source : df\n",
    "        User ticks of a given climb\n",
    "\n",
    "    Returns\n",
    "    -------\n",
    "    int\n",
    "        Number of attempts to first redpoint\n",
    "    \"\"\"\n",
    "    pitchnum = df_source.iloc[0]['Pitches']\n",
    "    firstrp_cutoff = df_source[df_source['Lead Style'].isin(CLEAN_SEND_WORKED)]['Date'].idxmin() # Find index of first rp\n",
    "    # If multipitch, we count ticks. If singlepitch we count number of total ticked pitches.\n",
    "    if pitchnum > 1:\n",
    "        nattempts = df_source.sort_values('Date', ascending=False).loc[firstrp_cutoff::]['Pitches Ticked'].count()\n",
    "    if pitchnum == 1:\n",
    "        nattempts = df_source.sort_values('Date', ascending=False).loc[firstrp_cutoff::]['Pitches Ticked'].sum() # Sum all pitches attempted prior to that\n",
    "    return nattempts\n",
    "\n",
    "# Count number of attempts to send\n",
    "# Assumes no style lead ticks are fell/hung\n",
    "# Assumes rp/pp with no prior tick history has one prior attempt\n",
    "# Counts clean ticks with multiple pitches as total attempts. It also counts fell/hung, and TR with multiple pitches as multiple attempts.\n",
    "# !!! This will falsely identify a single pitch climb broken into multiple pitches as two attempts, there isn't really a good way to detect this.\n",
    "df_all_worked.loc[df_worked_sub2.index.values, \"Worked Clean\"] = True # To make the next line work properly, we need to backfill the \"worked clean\" flag to worked clean.\n",
    "df_all_worked.drop(df_all_worked[(df_all_worked['Lead Style'].isin(CLEAN_SEND_WORKED)) & (df_all_worked['Worked Clean'] == '')].index, inplace=True) # remove all redpoints/pinkpoints after first for purpose of counting attempts, this can be done by removing all rows that are redpoints but not marked 'worked clean'\n",
    "df_usendm['Attempts'] = df_usendm.groupby('Route ID').progress_apply(lambda x: count_attempt2rp(x, x['Pitches']))\n",
    "# num_to_send = df_all_worked.groupby('Route ID')['Pitches Ticked'].sum()\n",
    "# matched_attempts = df_usendm[df_usendm['Worked Clean'] == True].merge(num_to_send, on=\"Route ID\", how=\"left\")\n",
    "# matched_attempts.index = df_usendm[df_usendm['Worked Clean'] == True].index # I'm dumb and this is the best way I could find to get my index to remain\n",
    "# df_usendm.loc[matched_attempts.index, \"Attempts\"] = matched_attempts.iloc[:,-1]\n",
    "# df_usendm.loc[df_usendm['Attempts'] == 1, 'Attempts'] = 2 # This assumes rp with 1 pitch and no prior ticks had one prior attempt"
   ]
  },
  {
   "cell_type": "code",
   "execution_count": 112,
   "metadata": {},
   "outputs": [
    {
     "data": {
      "text/html": [
       "<div>\n",
       "<style scoped>\n",
       "    .dataframe tbody tr th:only-of-type {\n",
       "        vertical-align: middle;\n",
       "    }\n",
       "\n",
       "    .dataframe tbody tr th {\n",
       "        vertical-align: top;\n",
       "    }\n",
       "\n",
       "    .dataframe thead th {\n",
       "        text-align: right;\n",
       "    }\n",
       "</style>\n",
       "<table border=\"1\" class=\"dataframe\">\n",
       "  <thead>\n",
       "    <tr style=\"text-align: right;\">\n",
       "      <th></th>\n",
       "      <th>Date</th>\n",
       "      <th>Route</th>\n",
       "      <th>Original Rating</th>\n",
       "      <th>Notes</th>\n",
       "      <th>URL</th>\n",
       "      <th>Pitches Ticked</th>\n",
       "      <th>Location</th>\n",
       "      <th>Avg Stars</th>\n",
       "      <th>Your Stars</th>\n",
       "      <th>Style</th>\n",
       "      <th>Lead Style</th>\n",
       "      <th>Route Type</th>\n",
       "      <th>Your Rating</th>\n",
       "      <th>Rating Code</th>\n",
       "      <th>Route ID</th>\n",
       "      <th>Risk</th>\n",
       "      <th>Pitches</th>\n",
       "      <th>Lead Ratio</th>\n",
       "      <th>Num Ticks</th>\n",
       "      <th>Num Tickers</th>\n",
       "      <th>OS Ratio</th>\n",
       "      <th>Rating</th>\n",
       "      <th>Length</th>\n",
       "      <th>Flash/Onsight</th>\n",
       "      <th>Worked Clean</th>\n",
       "      <th>Grade Breakthrough</th>\n",
       "      <th>Attempts</th>\n",
       "    </tr>\n",
       "  </thead>\n",
       "  <tbody>\n",
       "    <tr>\n",
       "      <th>0</th>\n",
       "      <td>2022-12-21</td>\n",
       "      <td>Positive Vibrations</td>\n",
       "      <td>5.11a</td>\n",
       "      <td>nan</td>\n",
       "      <td>https://www.mountainproject.com/route/10586067...</td>\n",
       "      <td>12</td>\n",
       "      <td>California &gt; High Sierra &gt; 02 - The Sawtooth R...</td>\n",
       "      <td>4.0</td>\n",
       "      <td>-1</td>\n",
       "      <td>Lead</td>\n",
       "      <td>Redpoint</td>\n",
       "      <td>Trad</td>\n",
       "      <td>NaN</td>\n",
       "      <td>4600</td>\n",
       "      <td>105860676</td>\n",
       "      <td>NaN</td>\n",
       "      <td>12</td>\n",
       "      <td>0.923529</td>\n",
       "      <td>602.0</td>\n",
       "      <td>487.0</td>\n",
       "      <td>0.615721</td>\n",
       "      <td>5.11a</td>\n",
       "      <td>1200.0</td>\n",
       "      <td>None</td>\n",
       "      <td>True</td>\n",
       "      <td>None</td>\n",
       "      <td>24.0</td>\n",
       "    </tr>\n",
       "    <tr>\n",
       "      <th>1</th>\n",
       "      <td>2022-12-10</td>\n",
       "      <td>Le Bernd</td>\n",
       "      <td>V4</td>\n",
       "      <td>Probably about a dozen various attempts. I was...</td>\n",
       "      <td>https://www.mountainproject.com/route/10867338...</td>\n",
       "      <td>1</td>\n",
       "      <td>California &gt; Central Coast &gt; Santa Barbara &gt; *...</td>\n",
       "      <td>2.9</td>\n",
       "      <td>-1</td>\n",
       "      <td>Send</td>\n",
       "      <td>NaN</td>\n",
       "      <td>Boulder</td>\n",
       "      <td>NaN</td>\n",
       "      <td>20400</td>\n",
       "      <td>108673389</td>\n",
       "      <td>NaN</td>\n",
       "      <td>1</td>\n",
       "      <td>NaN</td>\n",
       "      <td>57.0</td>\n",
       "      <td>53.0</td>\n",
       "      <td>0.160000</td>\n",
       "      <td>V4</td>\n",
       "      <td>12.0</td>\n",
       "      <td>None</td>\n",
       "      <td>None</td>\n",
       "      <td>None</td>\n",
       "      <td>NaN</td>\n",
       "    </tr>\n",
       "    <tr>\n",
       "      <th>2</th>\n",
       "      <td>2022-12-10</td>\n",
       "      <td>West Nile (aka The Warmup)</td>\n",
       "      <td>V3</td>\n",
       "      <td>Big throw. Took me a few tries to figure out t...</td>\n",
       "      <td>https://www.mountainproject.com/route/10867338...</td>\n",
       "      <td>1</td>\n",
       "      <td>California &gt; Central Coast &gt; Santa Barbara &gt; *...</td>\n",
       "      <td>2.3</td>\n",
       "      <td>-1</td>\n",
       "      <td>Send</td>\n",
       "      <td>NaN</td>\n",
       "      <td>Boulder</td>\n",
       "      <td>NaN</td>\n",
       "      <td>20300</td>\n",
       "      <td>108673384</td>\n",
       "      <td>NaN</td>\n",
       "      <td>1</td>\n",
       "      <td>NaN</td>\n",
       "      <td>65.0</td>\n",
       "      <td>61.0</td>\n",
       "      <td>0.125000</td>\n",
       "      <td>V3</td>\n",
       "      <td>12.0</td>\n",
       "      <td>None</td>\n",
       "      <td>None</td>\n",
       "      <td>None</td>\n",
       "      <td>NaN</td>\n",
       "    </tr>\n",
       "    <tr>\n",
       "      <th>3</th>\n",
       "      <td>2022-11-27</td>\n",
       "      <td>The Nose</td>\n",
       "      <td>5.11a</td>\n",
       "      <td>One hang. Feels more possible than it ever has...</td>\n",
       "      <td>https://www.mountainproject.com/route/10579305...</td>\n",
       "      <td>1</td>\n",
       "      <td>California &gt; Central Coast &gt; Santa Barbara &gt; G...</td>\n",
       "      <td>3.4</td>\n",
       "      <td>-1</td>\n",
       "      <td>Lead</td>\n",
       "      <td>Fell/Hung</td>\n",
       "      <td>Trad</td>\n",
       "      <td>NaN</td>\n",
       "      <td>4600</td>\n",
       "      <td>105793054</td>\n",
       "      <td>NaN</td>\n",
       "      <td>1</td>\n",
       "      <td>0.544304</td>\n",
       "      <td>98.0</td>\n",
       "      <td>71.0</td>\n",
       "      <td>0.129032</td>\n",
       "      <td>5.11a</td>\n",
       "      <td>100.0</td>\n",
       "      <td>None</td>\n",
       "      <td>None</td>\n",
       "      <td>None</td>\n",
       "      <td>NaN</td>\n",
       "    </tr>\n",
       "    <tr>\n",
       "      <th>4</th>\n",
       "      <td>2022-11-27</td>\n",
       "      <td>The Nose</td>\n",
       "      <td>5.11a</td>\n",
       "      <td>Second attempt of the day. Took a big clipper ...</td>\n",
       "      <td>https://www.mountainproject.com/route/10579305...</td>\n",
       "      <td>1</td>\n",
       "      <td>California &gt; Central Coast &gt; Santa Barbara &gt; G...</td>\n",
       "      <td>3.4</td>\n",
       "      <td>-1</td>\n",
       "      <td>Lead</td>\n",
       "      <td>Fell/Hung</td>\n",
       "      <td>Trad</td>\n",
       "      <td>NaN</td>\n",
       "      <td>4600</td>\n",
       "      <td>105793054</td>\n",
       "      <td>NaN</td>\n",
       "      <td>1</td>\n",
       "      <td>0.544304</td>\n",
       "      <td>98.0</td>\n",
       "      <td>71.0</td>\n",
       "      <td>0.129032</td>\n",
       "      <td>5.11a</td>\n",
       "      <td>100.0</td>\n",
       "      <td>None</td>\n",
       "      <td>None</td>\n",
       "      <td>None</td>\n",
       "      <td>NaN</td>\n",
       "    </tr>\n",
       "    <tr>\n",
       "      <th>...</th>\n",
       "      <td>...</td>\n",
       "      <td>...</td>\n",
       "      <td>...</td>\n",
       "      <td>...</td>\n",
       "      <td>...</td>\n",
       "      <td>...</td>\n",
       "      <td>...</td>\n",
       "      <td>...</td>\n",
       "      <td>...</td>\n",
       "      <td>...</td>\n",
       "      <td>...</td>\n",
       "      <td>...</td>\n",
       "      <td>...</td>\n",
       "      <td>...</td>\n",
       "      <td>...</td>\n",
       "      <td>...</td>\n",
       "      <td>...</td>\n",
       "      <td>...</td>\n",
       "      <td>...</td>\n",
       "      <td>...</td>\n",
       "      <td>...</td>\n",
       "      <td>...</td>\n",
       "      <td>...</td>\n",
       "      <td>...</td>\n",
       "      <td>...</td>\n",
       "      <td>...</td>\n",
       "      <td>...</td>\n",
       "    </tr>\n",
       "    <tr>\n",
       "      <th>730</th>\n",
       "      <td>2018-02-10</td>\n",
       "      <td>The Rapture</td>\n",
       "      <td>5.8-</td>\n",
       "      <td>nan</td>\n",
       "      <td>https://www.mountainproject.com/route/10579317...</td>\n",
       "      <td>1</td>\n",
       "      <td>California &gt; Central Coast &gt; Santa Barbara &gt; G...</td>\n",
       "      <td>2.4</td>\n",
       "      <td>-1</td>\n",
       "      <td>Lead</td>\n",
       "      <td>Redpoint</td>\n",
       "      <td>Sport</td>\n",
       "      <td>NaN</td>\n",
       "      <td>2000</td>\n",
       "      <td>105793171</td>\n",
       "      <td>NaN</td>\n",
       "      <td>1</td>\n",
       "      <td>0.557377</td>\n",
       "      <td>111.0</td>\n",
       "      <td>94.0</td>\n",
       "      <td>0.851852</td>\n",
       "      <td>5.8</td>\n",
       "      <td>60.0</td>\n",
       "      <td>None</td>\n",
       "      <td>None</td>\n",
       "      <td>None</td>\n",
       "      <td>NaN</td>\n",
       "    </tr>\n",
       "    <tr>\n",
       "      <th>731</th>\n",
       "      <td>2018-02-05</td>\n",
       "      <td>Single Shot</td>\n",
       "      <td>V2</td>\n",
       "      <td>nan</td>\n",
       "      <td>https://www.mountainproject.com/route/10661372...</td>\n",
       "      <td>1</td>\n",
       "      <td>California &gt; Central Coast &gt; Santa Barbara &gt; *...</td>\n",
       "      <td>2.7</td>\n",
       "      <td>-1</td>\n",
       "      <td>Send</td>\n",
       "      <td>NaN</td>\n",
       "      <td>Boulder</td>\n",
       "      <td>NaN</td>\n",
       "      <td>20200</td>\n",
       "      <td>106613724</td>\n",
       "      <td>NaN</td>\n",
       "      <td>1</td>\n",
       "      <td>NaN</td>\n",
       "      <td>44.0</td>\n",
       "      <td>43.0</td>\n",
       "      <td>0.181818</td>\n",
       "      <td>V2</td>\n",
       "      <td>13.0</td>\n",
       "      <td>None</td>\n",
       "      <td>None</td>\n",
       "      <td>None</td>\n",
       "      <td>NaN</td>\n",
       "    </tr>\n",
       "    <tr>\n",
       "      <th>732</th>\n",
       "      <td>2018-01-28</td>\n",
       "      <td>Face the Seam</td>\n",
       "      <td>5.10a/b</td>\n",
       "      <td>nan</td>\n",
       "      <td>https://www.mountainproject.com/route/10592542...</td>\n",
       "      <td>1</td>\n",
       "      <td>California &gt; Central Coast &gt; Santa Barbara &gt; F...</td>\n",
       "      <td>2.0</td>\n",
       "      <td>-1</td>\n",
       "      <td>TR</td>\n",
       "      <td>NaN</td>\n",
       "      <td>Sport</td>\n",
       "      <td>NaN</td>\n",
       "      <td>2800</td>\n",
       "      <td>105925427</td>\n",
       "      <td>NaN</td>\n",
       "      <td>1</td>\n",
       "      <td>0.729167</td>\n",
       "      <td>68.0</td>\n",
       "      <td>63.0</td>\n",
       "      <td>0.600000</td>\n",
       "      <td>5.10a</td>\n",
       "      <td>35.0</td>\n",
       "      <td>None</td>\n",
       "      <td>None</td>\n",
       "      <td>None</td>\n",
       "      <td>NaN</td>\n",
       "    </tr>\n",
       "    <tr>\n",
       "      <th>733</th>\n",
       "      <td>2018-01-28</td>\n",
       "      <td>Short Shot</td>\n",
       "      <td>5.8</td>\n",
       "      <td>nan</td>\n",
       "      <td>https://www.mountainproject.com/route/10579742...</td>\n",
       "      <td>1</td>\n",
       "      <td>California &gt; Central Coast &gt; Santa Barbara &gt; F...</td>\n",
       "      <td>1.5</td>\n",
       "      <td>-1</td>\n",
       "      <td>Lead</td>\n",
       "      <td>Redpoint</td>\n",
       "      <td>Sport</td>\n",
       "      <td>NaN</td>\n",
       "      <td>2100</td>\n",
       "      <td>105797420</td>\n",
       "      <td>NaN</td>\n",
       "      <td>1</td>\n",
       "      <td>0.523364</td>\n",
       "      <td>147.0</td>\n",
       "      <td>124.0</td>\n",
       "      <td>0.738095</td>\n",
       "      <td>5.8</td>\n",
       "      <td>30.0</td>\n",
       "      <td>None</td>\n",
       "      <td>None</td>\n",
       "      <td>None</td>\n",
       "      <td>NaN</td>\n",
       "    </tr>\n",
       "    <tr>\n",
       "      <th>734</th>\n",
       "      <td>2017-09-05</td>\n",
       "      <td>Potstash</td>\n",
       "      <td>5.9</td>\n",
       "      <td>nan</td>\n",
       "      <td>https://www.mountainproject.com/route/10589477...</td>\n",
       "      <td>1</td>\n",
       "      <td>Utah &gt; Southeast Utah &gt; Potash Road &gt; Wall Street</td>\n",
       "      <td>2.5</td>\n",
       "      <td>-1</td>\n",
       "      <td>TR</td>\n",
       "      <td>NaN</td>\n",
       "      <td>Sport</td>\n",
       "      <td>NaN</td>\n",
       "      <td>2400</td>\n",
       "      <td>105894776</td>\n",
       "      <td>NaN</td>\n",
       "      <td>1</td>\n",
       "      <td>0.727638</td>\n",
       "      <td>1382.0</td>\n",
       "      <td>1206.0</td>\n",
       "      <td>0.775439</td>\n",
       "      <td>5.9</td>\n",
       "      <td>60.0</td>\n",
       "      <td>None</td>\n",
       "      <td>None</td>\n",
       "      <td>None</td>\n",
       "      <td>NaN</td>\n",
       "    </tr>\n",
       "  </tbody>\n",
       "</table>\n",
       "<p>735 rows × 27 columns</p>\n",
       "</div>"
      ],
      "text/plain": [
       "          Date                       Route Original Rating  \\\n",
       "0   2022-12-21         Positive Vibrations           5.11a   \n",
       "1   2022-12-10                    Le Bernd              V4   \n",
       "2   2022-12-10  West Nile (aka The Warmup)              V3   \n",
       "3   2022-11-27                    The Nose           5.11a   \n",
       "4   2022-11-27                    The Nose           5.11a   \n",
       "..         ...                         ...             ...   \n",
       "730 2018-02-10                 The Rapture            5.8-   \n",
       "731 2018-02-05                 Single Shot              V2   \n",
       "732 2018-01-28               Face the Seam         5.10a/b   \n",
       "733 2018-01-28                  Short Shot             5.8   \n",
       "734 2017-09-05                    Potstash             5.9   \n",
       "\n",
       "                                                 Notes  \\\n",
       "0                                                  nan   \n",
       "1    Probably about a dozen various attempts. I was...   \n",
       "2    Big throw. Took me a few tries to figure out t...   \n",
       "3    One hang. Feels more possible than it ever has...   \n",
       "4    Second attempt of the day. Took a big clipper ...   \n",
       "..                                                 ...   \n",
       "730                                                nan   \n",
       "731                                                nan   \n",
       "732                                                nan   \n",
       "733                                                nan   \n",
       "734                                                nan   \n",
       "\n",
       "                                                   URL  Pitches Ticked  \\\n",
       "0    https://www.mountainproject.com/route/10586067...              12   \n",
       "1    https://www.mountainproject.com/route/10867338...               1   \n",
       "2    https://www.mountainproject.com/route/10867338...               1   \n",
       "3    https://www.mountainproject.com/route/10579305...               1   \n",
       "4    https://www.mountainproject.com/route/10579305...               1   \n",
       "..                                                 ...             ...   \n",
       "730  https://www.mountainproject.com/route/10579317...               1   \n",
       "731  https://www.mountainproject.com/route/10661372...               1   \n",
       "732  https://www.mountainproject.com/route/10592542...               1   \n",
       "733  https://www.mountainproject.com/route/10579742...               1   \n",
       "734  https://www.mountainproject.com/route/10589477...               1   \n",
       "\n",
       "                                              Location  Avg Stars  Your Stars  \\\n",
       "0    California > High Sierra > 02 - The Sawtooth R...        4.0          -1   \n",
       "1    California > Central Coast > Santa Barbara > *...        2.9          -1   \n",
       "2    California > Central Coast > Santa Barbara > *...        2.3          -1   \n",
       "3    California > Central Coast > Santa Barbara > G...        3.4          -1   \n",
       "4    California > Central Coast > Santa Barbara > G...        3.4          -1   \n",
       "..                                                 ...        ...         ...   \n",
       "730  California > Central Coast > Santa Barbara > G...        2.4          -1   \n",
       "731  California > Central Coast > Santa Barbara > *...        2.7          -1   \n",
       "732  California > Central Coast > Santa Barbara > F...        2.0          -1   \n",
       "733  California > Central Coast > Santa Barbara > F...        1.5          -1   \n",
       "734  Utah > Southeast Utah > Potash Road > Wall Street        2.5          -1   \n",
       "\n",
       "    Style Lead Style Route Type Your Rating  Rating Code   Route ID Risk  \\\n",
       "0    Lead   Redpoint       Trad         NaN         4600  105860676  NaN   \n",
       "1    Send        NaN    Boulder         NaN        20400  108673389  NaN   \n",
       "2    Send        NaN    Boulder         NaN        20300  108673384  NaN   \n",
       "3    Lead  Fell/Hung       Trad         NaN         4600  105793054  NaN   \n",
       "4    Lead  Fell/Hung       Trad         NaN         4600  105793054  NaN   \n",
       "..    ...        ...        ...         ...          ...        ...  ...   \n",
       "730  Lead   Redpoint      Sport         NaN         2000  105793171  NaN   \n",
       "731  Send        NaN    Boulder         NaN        20200  106613724  NaN   \n",
       "732    TR        NaN      Sport         NaN         2800  105925427  NaN   \n",
       "733  Lead   Redpoint      Sport         NaN         2100  105797420  NaN   \n",
       "734    TR        NaN      Sport         NaN         2400  105894776  NaN   \n",
       "\n",
       "     Pitches  Lead Ratio  Num Ticks  Num Tickers  OS Ratio Rating  Length  \\\n",
       "0         12    0.923529      602.0        487.0  0.615721  5.11a  1200.0   \n",
       "1          1         NaN       57.0         53.0  0.160000     V4    12.0   \n",
       "2          1         NaN       65.0         61.0  0.125000     V3    12.0   \n",
       "3          1    0.544304       98.0         71.0  0.129032  5.11a   100.0   \n",
       "4          1    0.544304       98.0         71.0  0.129032  5.11a   100.0   \n",
       "..       ...         ...        ...          ...       ...    ...     ...   \n",
       "730        1    0.557377      111.0         94.0  0.851852    5.8    60.0   \n",
       "731        1         NaN       44.0         43.0  0.181818     V2    13.0   \n",
       "732        1    0.729167       68.0         63.0  0.600000  5.10a    35.0   \n",
       "733        1    0.523364      147.0        124.0  0.738095    5.8    30.0   \n",
       "734        1    0.727638     1382.0       1206.0  0.775439    5.9    60.0   \n",
       "\n",
       "    Flash/Onsight Worked Clean Grade Breakthrough  Attempts  \n",
       "0            None         True               None      24.0  \n",
       "1            None         None               None       NaN  \n",
       "2            None         None               None       NaN  \n",
       "3            None         None               None       NaN  \n",
       "4            None         None               None       NaN  \n",
       "..            ...          ...                ...       ...  \n",
       "730          None         None               None       NaN  \n",
       "731          None         None               None       NaN  \n",
       "732          None         None               None       NaN  \n",
       "733          None         None               None       NaN  \n",
       "734          None         None               None       NaN  \n",
       "\n",
       "[735 rows x 27 columns]"
      ]
     },
     "execution_count": 112,
     "metadata": {},
     "output_type": "execute_result"
    }
   ],
   "source": [
    "df_usendm"
   ]
  },
  {
   "cell_type": "markdown",
   "metadata": {},
   "source": [
    "--- ANALYZE FOR NOTABLE ELEMENTS ---"
   ]
  },
  {
   "cell_type": "code",
   "execution_count": 97,
   "metadata": {},
   "outputs": [],
   "source": [
    "# User led something rarely led\n",
    "df_bold_leads = df_usendm[(df_usendm['Num Ticks'] >= 30) & (df_usendm['Lead Ratio'] < 0.4) & (df_usendm['Style'] == 'Lead') & (df_usendm['Route Type'] != 'Boulder')].sort_values(by='Lead Ratio', ascending=False)\n",
    "\n",
    "# User onsighted something rarely onsighted\n",
    "df_impressive_OS = df_usendm[(df_usendm['Num Ticks'] >= 30) & (df_usendm['OS Ratio'] < 0.35) & (df_usendm['Flash/Onsight'] == True) & (df_usendm['Route Type'] != 'Boulder')].sort_values(by='OS Ratio')\n",
    "\n",
    "# User fell on something rarely fallen on\n",
    "df_woops_falls = df_usendm[(df_usendm['Num Ticks'] >= 30) & (df_usendm['OS Ratio'] > 0.8) & (df_usendm['Style'] == 'Lead') & (df_usendm['Lead Style'] == 'Fell/Hung') & (df_usendm['Route Type'] != 'Boulder')].sort_values(by='OS Ratio')\n"
   ]
  },
  {
   "cell_type": "markdown",
   "metadata": {},
   "source": [
    "--- FILTER FOR VIS ---"
   ]
  },
  {
   "cell_type": "code",
   "execution_count": 98,
   "metadata": {},
   "outputs": [],
   "source": [
    "# First we create a copy of the user modified dataframe, which we will refer to as the filtered dataframe\n",
    "df_usendf = df_usendm.copy()\n",
    "\n",
    "# Filters, these would be sliders and options in an interactive plot\n",
    "roped_grade_min = '5.10a'\n",
    "boulder_grade_min = 'V0'\n",
    "\n",
    "# We slice the dataframe into a route and a boulder type. Each type will receive it's own independent filtering.\n",
    "\n",
    "df_usendf_r = df_usendf[df_usendf['Rating'].isin(YDS_GRADES_FULL[YDS_GRADES_FULL.index(roped_grade_min):])] # the : here is key, it makes it so that it includes all grades above the min included.\n",
    "df_usendf_b = df_usendf[df_usendf['Rating'].isin(V_GRADES_FULL[V_GRADES_FULL.index(boulder_grade_min):])]"
   ]
  },
  {
   "cell_type": "code",
   "execution_count": 99,
   "metadata": {},
   "outputs": [],
   "source": [
    "# Set visualization settings accordant to modifications and filters.\n",
    "\n",
    "if grade_settings[0] == 'letter':\n",
    "    ryaxorder = YDS_GRADES_LETTER\n",
    "if grade_settings[0] == 'sign':\n",
    "    ryaxorder = YDS_GRADES_SIGN\n",
    "\n",
    "if grade_settings[2] == 'flat':\n",
    "    byaxorder = V_GRADES_FLAT\n",
    "if grade_settings[2] == 'sign':\n",
    "    byaxorder = V_GRADES_SIGN"
   ]
  },
  {
   "cell_type": "markdown",
   "metadata": {},
   "source": [
    "--- SPLIT INTO ROPED AND BOULDER SUBSETS ---"
   ]
  },
  {
   "cell_type": "code",
   "execution_count": 100,
   "metadata": {},
   "outputs": [],
   "source": [
    "# Create dataframe of clean sends for analysis\n",
    "\n",
    "df_usendf_r.loc[df_usendf_r['Lead Style'].isin(CLEAN_SEND_FIRST), \"Attempts\"] = '' # Optionally change attempts from blank to 1 or other\n",
    "df_clean_sends_r = df_usendf_r[(df_usendf_r['Lead Style'].isin(CLEAN_SEND))]\n",
    "# df_clean_sends_r = df_clean_sends_r.loc[df_clean_sends_r.groupby('Route ID')['Date'].idxmin()] # Optionally ignore subequent clean sends\n",
    "df_clean_sends_r['Date Formatted'] = df_clean_sends_r['Date'].dt.date\n",
    "\n",
    "df_usendf_b.loc[df_usendf_b['Lead Style'].isin(CLEAN_SEND_FIRST), \"Attempts\"] = '' # Optionally change attempts from blank to 1 or other\n",
    "df_clean_sends_b = df_usendf_b[(df_usendf_b['Style'].isin(CLEAN_SEND))]\n",
    "# df_clean_sends_b = df_clean_sends_b.loc[df_clean_sends_r.groupby('Route ID')['Date'].idxmin()] # Optionally ignore subequent clean sends\n",
    "df_clean_sends_b['Date Formatted'] = df_clean_sends_b['Date'].dt.date"
   ]
  },
  {
   "cell_type": "code",
   "execution_count": 101,
   "metadata": {},
   "outputs": [
    {
     "data": {
      "application/vnd.plotly.v1+json": {
       "config": {
        "plotlyServerURL": "https://plot.ly"
       },
       "data": [
        {
         "alignmentgroup": "True",
         "customdata": [
          [
           "Positive Vibrations",
           "2022-12-21",
           "California > High Sierra > 02 - The Sawtooth Ridge > Incredible Hulk",
           1200,
           4
          ],
          [
           "Big Guy",
           "2022-11-25",
           "Utah > Southeast Utah > Indian Creek > Scarface",
           120,
           3.9
          ],
          [
           "Unnamed offwidth",
           "2022-11-24",
           "Utah > Southeast Utah > Indian Creek > South Sixshooter",
           70,
           3
          ],
          [
           "South Face Angling Crack?",
           "2022-11-24",
           "Utah > Southeast Utah > Indian Creek > South Sixshooter",
           90,
           3
          ],
          [
           "Lonely Vigil",
           "2022-11-20",
           "Utah > Southeast Utah > River Road > Lighthouse Tower",
           350,
           3.5
          ],
          [
           "Chasin' Skirt",
           "2022-11-19",
           "Utah > Southeast Utah > Potash Road > Long Canyon > Deadman's Buttress",
           150,
           3.3
          ],
          [
           "Chopper",
           "2022-11-19",
           "Utah > Southeast Utah > Potash Road > Long Canyon > Deadman's Buttress",
           190,
           3.6
          ],
          [
           "Program Director",
           "2022-11-19",
           "Utah > Southeast Utah > Potash Road > Long Canyon > Deadman's Buttress",
           190,
           3.4
          ],
          [
           "Urban Struggle",
           "2022-11-05",
           "California > Los Angeles Basin > Santa Monica Mountains > Malibu Creek State Park > Ghetto Wall",
           50,
           3.4
          ],
          [
           "Directpissima",
           "2022-11-05",
           "California > Los Angeles Basin > Santa Monica Mountains > Malibu Creek State Park > Ghetto Wall",
           50,
           2.4
          ],
          [
           "Unnamed",
           "2022-11-05",
           "California > Los Angeles Basin > Santa Monica Mountains > Malibu Creek State Park > Ghetto Wall",
           45,
           2.4
          ],
          [
           "Three Fools aka Kelley Route 32",
           "2022-10-21",
           "Utah > Southeast Utah > Indian Creek > Reservoir Wall",
           60,
           2.5
          ],
          [
           "Blue Sky Mining",
           "2022-10-20",
           "Utah > Southeast Utah > Indian Creek > Broken Tooth",
           50,
           2.4
          ],
          [
           "unnamed classic hand crack aka Gold Crown",
           "2022-10-20",
           "Utah > Southeast Utah > Indian Creek > Broken Tooth",
           120,
           3.7
          ],
          [
           "Rock Lobster",
           "2022-10-20",
           "Utah > Southeast Utah > Indian Creek > Broken Tooth",
           115,
           3.8
          ],
          [
           "The Mayes",
           "2022-10-17",
           "Utah > Southeast Utah > Indian Creek > Battle of the Bulge Buttress",
           50,
           2.4
          ],
          [
           "Think Pink",
           "2022-10-17",
           "Utah > Southeast Utah > Indian Creek > Battle of the Bulge Buttress",
           70,
           3.4
          ],
          [
           "Crack Attack",
           "2022-10-17",
           "Utah > Southeast Utah > Indian Creek > Battle of the Bulge Buttress",
           70,
           3.7
          ],
          [
           "Desire",
           "2022-10-15",
           "Utah > Southeast Utah > Indian Creek > Way Rambo",
           95,
           2.8
          ],
          [
           "Fuzz",
           "2022-10-15",
           "Utah > Southeast Utah > Indian Creek > Way Rambo",
           115,
           3.3
          ],
          [
           "Pocket  Rocket",
           "2022-10-14",
           "Utah > Southeast Utah > Potash Road > Day Canyon > Day Canyon Cragging Routes",
           65,
           3.5
          ],
          [
           "Brush Painted Datsun",
           "2022-10-14",
           "Utah > Southeast Utah > Potash Road > Day Canyon > Day Canyon Cragging Routes",
           70,
           3.6
          ],
          [
           "Boognish Tower",
           "2022-10-14",
           "Utah > Southeast Utah > Potash Road > Day Canyon > Boognish Tower",
           120,
           3.4
          ],
          [
           "Makunaima",
           "2022-10-08",
           "California > Central Coast > Santa Barbara > Gibraltar Area > Cold Springs Dome > Makunaima Amphitheater",
           90,
           3.9
          ],
          [
           "Anasazi",
           "2022-10-08",
           "California > Central Coast > Santa Barbara > Gibraltar Area > Cold Springs Dome > Makunaima Amphitheater",
           50,
           3
          ],
          [
           "The Consolation Direct",
           "2022-10-01",
           "California > Tahquitz & Suicide Rocks > Tahquitz Rock > (d) Northwest Recess",
           800,
           3.3
          ],
          [
           "Daximus",
           "2022-08-20",
           "California > Central Coast > Santa Barbara > Gibraltar Area > Cold Springs Dome > Makunaima Amphitheater",
           90,
           3.4
          ],
          [
           "Rites of Spring",
           "2022-07-22",
           "California > Sierra Eastside > Bishop Area > Pine Creek Canyon > Scheelite Canyon / Pratt's Crack Gully > Armando's Stilletto / Rites of Spring",
           400,
           3.5
          ],
          [
           "Baby Scorpions",
           "2022-07-17",
           "California > Central Coast > Santa Barbara > Gibraltar Area > Cold Springs Dome > Makunaima Amphitheater",
           70,
           2.6
          ],
          [
           "Anasazi",
           "2022-07-17",
           "California > Central Coast > Santa Barbara > Gibraltar Area > Cold Springs Dome > Makunaima Amphitheater",
           50,
           3
          ],
          [
           "The Dihedral Route",
           "2022-07-09",
           "California > High Sierra > 02 - The Sawtooth Ridge > The Juggernaut",
           750,
           3.3
          ],
          [
           "Crimson Gem",
           "2022-07-08",
           "California > High Sierra > 02 - The Sawtooth Ridge > The Juggernaut",
           750,
           3.6
          ],
          [
           "D.D.D.",
           "2022-07-06",
           "California > Sierra Eastside > Mammoth Lakes Area > Lake George > Horseshoe Piles > Spring Wall",
           90,
           3.6
          ],
          [
           "Reallyfivenineplus",
           "2022-07-06",
           "California > Sierra Eastside > Mammoth Lakes Area > Lake George > Horseshoe Piles > Spring Wall",
           80,
           3.1
          ],
          [
           "Fall Harvest",
           "2022-07-05",
           "California > Sierra Eastside > Mammoth Lakes Area > Lake George > Horseshoe Piles > Spring Wall",
           50,
           2.7
          ],
          [
           "Mongoloid",
           "2022-07-04",
           "California > Sierra Eastside > Mammoth Lakes Area > Lake George > Dike Wall > North Face",
           60,
           2.3
          ],
          [
           "Black Lassie",
           "2022-07-04",
           "California > Sierra Eastside > Mammoth Lakes Area > Lake George > Dike Wall > East Face",
           80,
           3.4
          ],
          [
           "Sideshow",
           "2022-07-02",
           "California > Sierra Eastside > Mammoth Lakes Area > Rock Creek > Gong Show Wall",
           100,
           3.4
          ],
          [
           "He She",
           "2022-07-02",
           "California > Sierra Eastside > Mammoth Lakes Area > Rock Creek > Gong Show Wall",
           130,
           3.6
          ],
          [
           "Economique",
           "2022-06-18",
           "California > Central Coast > Hwy 33/Ojai > Wheeler Gorge",
           80,
           3.1
          ],
          [
           "Blush",
           "2022-06-18",
           "California > Central Coast > Hwy 33/Ojai > Wheeler Gorge",
           60,
           2.8
          ],
          [
           "The Surprise",
           "2022-05-29",
           "California > Yosemite National Park > Yosemite Valley > Valley North Side > E. Yosemite Falls Area > Five Open Books > First Tier",
           400,
           3.1
          ],
          [
           "Werner's Ant Trees",
           "2022-05-29",
           "California > Yosemite National Park > Yosemite Valley > Valley North Side > E. Yosemite Falls Area > Five Open Books > First Tier",
           75,
           3.1
          ],
          [
           "Outer Limits",
           "2022-05-13",
           "California > Yosemite National Park > Yosemite Valley > Lower Merced River Canyon > Aj. Cookie Area > The Cookie Cliff",
           190,
           3.8
          ],
          [
           "Beverly's Tower",
           "2022-05-13",
           "California > Yosemite National Park > Yosemite Valley > Lower Merced River Canyon > Aj. Cookie Area > The Cookie Cliff",
           100,
           2.7
          ],
          [
           "No Man Knows the Hour",
           "2022-05-07",
           "California > Central Coast > Santa Barbara > Lower Mission Canyon / Seven Falls > Upper Theology Crag",
           110,
           2.8
          ],
          [
           "Chimps Ahoy",
           "2022-04-16",
           "California > Los Angeles Basin > Santa Monica Mountains > Malibu Creek State Park > Stumbling Blocks",
           80,
           2.5
          ],
          [
           "Sons of Yesterday",
           "2022-04-09",
           "California > Yosemite National Park > Yosemite Valley > Valley North Side > H. Royal Arches Area > Royal Arches > Western Royal Arches",
           600,
           3.9
          ],
          [
           "Serenity Crack",
           "2022-04-09",
           "California > Yosemite National Park > Yosemite Valley > Valley North Side > H. Royal Arches Area > Royal Arches > Western Royal Arches",
           350,
           3.8
          ],
          [
           "Have a Beer with Fear",
           "2022-03-13",
           "Nevada > Southern Nevada > Red Rocks > 01-Calico Basin > Cannibal Crag",
           60,
           2.7
          ],
          [
           "What's Eating You",
           "2022-03-13",
           "Nevada > Southern Nevada > Red Rocks > 01-Calico Basin > Cannibal Crag",
           60,
           2.2
          ],
          [
           "Caustic Cock",
           "2022-03-13",
           "Nevada > Southern Nevada > Red Rocks > 01-Calico Basin > Cannibal Crag",
           40,
           3.4
          ],
          [
           "The Walker Spur",
           "2022-03-12",
           "Nevada > Southern Nevada > Red Rocks > 10-Pine Creek Canyon > Mescalito > East Face",
           550,
           3.3
          ],
          [
           "Small Purchase",
           "2022-03-12",
           "Nevada > Southern Nevada > Red Rocks > 10-Pine Creek Canyon > Magic Mountain > North Face",
           100,
           3.4
          ],
          [
           "Bone Saw",
           "2022-03-11",
           "Nevada > Southern Nevada > Red Rocks > 16-Black Velvet Canyon > The Monument",
           55,
           2.5
          ],
          [
           "Handbone",
           "2022-03-11",
           "Nevada > Southern Nevada > Red Rocks > 16-Black Velvet Canyon > The Monument",
           70,
           3.3
          ],
          [
           "The Gobbler",
           "2022-03-11",
           "Nevada > Southern Nevada > Red Rocks > 16-Black Velvet Canyon > Black Velvet Wall",
           200,
           3.2
          ],
          [
           "Cockblock",
           "2022-02-05",
           "California > Los Angeles Basin > Santa Monica Mountains > Malibu Creek State Park > Stumbling Blocks",
           40,
           2.5
          ],
          [
           "Skeezer Pleaser",
           "2022-02-05",
           "California > Los Angeles Basin > Santa Monica Mountains > Malibu Creek State Park > Ghetto Wall",
           45,
           2.8
          ],
          [
           "Dick Pics",
           "2022-02-05",
           "California > Los Angeles Basin > Santa Monica Mountains > Malibu Creek State Park > Mt. Gorgeous",
           50,
           2.6
          ],
          [
           "Johnny Can't Lead",
           "2022-02-05",
           "California > Los Angeles Basin > Santa Monica Mountains > Malibu Creek State Park > Ghetto Wall",
           40,
           3.2
          ],
          [
           "The Third Degree",
           "2022-01-23",
           "California > Los Angeles Basin > Santa Monica Mountains > Malibu Creek State Park > Stumbling Blocks",
           70,
           2.4
          ],
          [
           "Guerilla Drilla",
           "2022-01-23",
           "California > Los Angeles Basin > Santa Monica Mountains > Malibu Creek State Park > Stumbling Blocks",
           70,
           2.4
          ],
          [
           "Gorgeous",
           "2022-01-23",
           "California > Los Angeles Basin > Santa Monica Mountains > Malibu Creek State Park > Mt. Gorgeous",
           60,
           2.7
          ],
          [
           "Luscious",
           "2022-01-23",
           "California > Los Angeles Basin > Santa Monica Mountains > Malibu Creek State Park > Mt. Gorgeous",
           60,
           3.1
          ],
          [
           "Rain Dance",
           "2022-01-15",
           "Nevada > Southern Nevada > Red Rocks > 16-Black Velvet Canyon > Whiskey Peak > North Face",
           130,
           2.8
          ],
          [
           "Run For Your Life",
           "2021-12-04",
           "California > Joshua Tree National Park > Hidden Valley Area > Real Hidden Valley > Tumbling Rainbow Formation",
           90,
           3.7
          ],
          [
           "Illusion Dweller",
           "2021-12-04",
           "California > Joshua Tree National Park > Hidden Valley Area > Real Hidden Valley > The Sentinel > The Sentinel - West Face",
           100,
           3.8
          ],
          [
           "Dancin' with a God",
           "2021-11-07",
           "Nevada > Southern Nevada > Red Rocks > 04-Second Pullout (Calico II) > The Black Corridor > Upper Level > Upper Level - Left",
           50,
           2.6
          ],
          [
           "Rebel Without a Pause",
           "2021-11-07",
           "Nevada > Southern Nevada > Red Rocks > 04-Second Pullout (Calico II) > The Black Corridor > Upper Level > Upper Level - Right",
           50,
           3
          ],
          [
           "Slot Machine",
           "2021-11-06",
           "Nevada > Southern Nevada > Red Rocks > 10-Pine Creek Canyon > Mescalito > Dark Shadows Wall",
           70,
           3.3
          ],
          [
           "Risky Business",
           "2021-11-06",
           "Nevada > Southern Nevada > Red Rocks > 10-Pine Creek Canyon > Mescalito > Dark Shadows Wall",
           400,
           3.8
          ],
          [
           "Sour Mash",
           "2021-11-05",
           "Nevada > Southern Nevada > Red Rocks > 16-Black Velvet Canyon > Black Velvet Wall",
           600,
           3.6
          ],
          [
           "Bittersweet",
           "2021-10-30",
           "California > Los Angeles Basin > Santa Monica Mountains > Echo Cliffs > Chocolate Wall",
           70,
           2.6
          ],
          [
           "Keyhole Flake",
           "2021-10-21",
           "Utah > Southeast Utah > Indian Creek > Supercrack Buttress",
           70,
           3.1
          ],
          [
           "Gorilla",
           "2021-10-21",
           "Utah > Southeast Utah > Indian Creek > Supercrack Buttress",
           70,
           3.1
          ],
          [
           "Bad Rad Duality",
           "2021-10-21",
           "Utah > Southeast Utah > Indian Creek > Supercrack Buttress",
           120,
           3.5
          ],
          [
           "Unnamed 38 - wide to fists and kind of wavy",
           "2021-10-20",
           "Utah > Southeast Utah > Indian Creek > Reservoir Wall",
           65,
           2.8
          ],
          [
           "Ernie Used to Box",
           "2021-10-20",
           "Utah > Southeast Utah > Indian Creek > Reservoir Wall",
           100,
           3.8
          ],
          [
           "Warm-Up Handcrack",
           "2021-10-20",
           "Utah > Southeast Utah > Indian Creek > Reservoir Wall",
           100,
           3.7
          ],
          [
           "Where's Carruthers?",
           "2021-10-18",
           "Utah > Southeast Utah > Indian Creek > Scarface",
           60,
           2.7
          ],
          [
           "Wavy Gravy",
           "2021-10-18",
           "Utah > Southeast Utah > Indian Creek > Scarface",
           70,
           3.2
          ],
          [
           "Divide and Conquer",
           "2021-10-17",
           "Utah > Southeast Utah > Indian Creek > Sparks Wall",
           100,
           3.1
          ],
          [
           "Go Sparky Go",
           "2021-10-17",
           "Utah > Southeast Utah > Indian Creek > Sparks Wall",
           70,
           3.4
          ],
          [
           "Jupiter Crack",
           "2021-10-17",
           "Utah > Southeast Utah > Indian Creek > Sparks Wall",
           130,
           3.9
          ],
          [
           "Purple Rain",
           "2021-10-16",
           "Utah > Southeast Utah > Indian Creek > Technicolor Wall",
           70,
           2.7
          ],
          [
           "On the Up and Up",
           "2021-10-16",
           "Utah > Southeast Utah > Indian Creek > Technicolor Wall",
           70,
           3.2
          ],
          [
           "Whale's Back",
           "2021-10-16",
           "Utah > Southeast Utah > Indian Creek > Technicolor Wall",
           120,
           3.7
          ],
          [
           "Salathe (pitch 1)",
           "2021-09-16",
           "California > Yosemite National Park > Yosemite Valley > Valley North Side > B. El Capitan > 1. Base Routes > Southwest Base > Moby Dick and Pterodactyl Terrace",
           160,
           3.8
          ],
          [
           "Americano",
           "2021-09-03",
           "California > Los Angeles Basin > Santa Monica Mountains > Echo Cliffs > Java Wall",
           100,
           3
          ],
          [
           "Great Race",
           "2021-08-29",
           "California > Central Coast > Santa Barbara > San Ysidro",
           70,
           3
          ],
          [
           "Dark Star",
           "2021-08-21",
           "California > High Sierra > 09 - Palisades & Surrounding Peaks > Temple Crag",
           2000,
           3.4
          ],
          [
           "V8 Crack",
           "2021-08-20",
           "California > Sierra Eastside > Bishop Area > Cardinal Pinnacle",
           80,
           3.9
          ],
          [
           "Crack Kingdom",
           "2021-08-20",
           "California > Sierra Eastside > Bishop Area > Cardinal Pinnacle",
           550,
           3.5
          ],
          [
           "Little Sheba",
           "2021-07-23",
           "California > Yosemite National Park > Tuolumne Meadows > Lamb Dome > West Face of the Lamb",
           110,
           3.3
          ],
          [
           "Black Lassie",
           "2021-07-22",
           "California > Sierra Eastside > Mammoth Lakes Area > Lake George > Dike Wall > East Face",
           80,
           3.4
          ],
          [
           "Cromagnon",
           "2021-07-22",
           "California > Sierra Eastside > Mammoth Lakes Area > Lake George > Dike Wall > East Face",
           80,
           3.7
          ],
          [
           "Mongoloid",
           "2021-07-22",
           "California > Sierra Eastside > Mammoth Lakes Area > Lake George > Dike Wall > North Face",
           60,
           2.3
          ],
          [
           "Grim Reality",
           "2021-07-22",
           "California > Sierra Eastside > Mammoth Lakes Area > Lake George > Dike Wall > East Face",
           90,
           2.2
          ],
          [
           "Black Dihedral",
           "2021-07-20",
           "California > Sierra Eastside > Mammoth Lakes Area > Lake George > Dike Wall > East Face",
           70,
           3.4
          ],
          [
           "Direct Northwest Face",
           "2021-06-05",
           "California > Yosemite National Park > Tuolumne Meadows > Lembert Dome > Northwest Face",
           400,
           3.4
          ],
          [
           "Third Pillar, Regular Route",
           "2021-06-04",
           "California > Sierra Eastside > Lee Vining Canyon / Tioga Road > Dana Plateau",
           800,
           3.8
          ],
          [
           "Faithful Friend",
           "2021-06-03",
           "California > Sierra Eastside > Mammoth Lakes Area > Horseshoe Lake Area > Sunshine Wall",
           100,
           2.4
          ],
          [
           "Edgehog",
           "2021-06-03",
           "California > Sierra Eastside > Mammoth Lakes Area > Horseshoe Lake Area > Sunshine Wall",
           100,
           2.4
          ],
          [
           "Kung Fu Fighter",
           "2021-05-13",
           "Utah > Southwest Utah > Zion National Park > Mount Carmel Tunnel > Kung Fu Theater",
           450,
           3.6
          ],
          [
           "The Headache",
           "2021-05-13",
           "Utah > Southwest Utah > Zion National Park > Mount Carmel Tunnel > Headache Area",
           380,
           3.9
          ],
          [
           "X Files",
           "2021-05-02",
           "California > Los Angeles Basin > Santa Monica Mountains > Malibu Creek State Park > Stumbling Blocks",
           30,
           2.1
          ],
          [
           "Mr. Big",
           "2021-05-02",
           "California > Los Angeles Basin > Santa Monica Mountains > Malibu Creek State Park > Stumbling Blocks",
           35,
           3.1
          ],
          [
           "The Fox",
           "2021-04-11",
           "Nevada > Southern Nevada > Red Rocks > 01-Calico Basin > The Fox Area",
           150,
           3.9
          ],
          [
           "Unimpeachable Groping",
           "2021-04-09",
           "Nevada > Southern Nevada > Red Rocks > 11-Juniper Canyon > Ginger Buttress",
           760,
           3.5
          ],
          [
           "Tea Bag",
           "2021-03-27",
           "California > Los Angeles Basin > Santa Monica Mountains > Echo Cliffs > The Tea Room",
           85,
           3
          ],
          [
           "English Breakfast Tea",
           "2021-03-27",
           "California > Los Angeles Basin > Santa Monica Mountains > Echo Cliffs > The Tea Room",
           80,
           2.5
          ],
          [
           "Fen Gliddich",
           "2021-03-27",
           "California > Los Angeles Basin > Santa Monica Mountains > Echo Cliffs > The Tea Room",
           85,
           2.8
          ],
          [
           "Darjeeling Extra Fancy",
           "2021-03-27",
           "California > Los Angeles Basin > Santa Monica Mountains > Echo Cliffs > The Tea Room",
           85,
           2.6
          ],
          [
           "Irish Car Bomb",
           "2021-03-27",
           "California > Los Angeles Basin > Santa Monica Mountains > Echo Cliffs > The Tea Room",
           80,
           2.6
          ],
          [
           "Casey at the Bat",
           "2021-03-27",
           "California > Los Angeles Basin > Santa Monica Mountains > Echo Cliffs > Easy Street",
           100,
           3
          ],
          [
           "Too Proud to Ignore",
           "2021-03-21",
           "California > Sierra Eastside > Bishop Area > Owens River Gorge > Upper Gorge > Dihedrals",
           40,
           2.6
          ],
          [
           "Slackjaw",
           "2021-03-21",
           "California > Sierra Eastside > Bishop Area > Owens River Gorge > Upper Gorge > Dihedrals",
           80,
           2.8
          ],
          [
           "Life During Wartime",
           "2021-03-21",
           "California > Sierra Eastside > Bishop Area > Owens River Gorge > Upper Gorge > Dihedrals",
           80,
           2.8
          ],
          [
           "Nirvana",
           "2021-03-14",
           "California > Sierra Eastside > Bishop Area > Owens River Gorge > Central Gorge > Upper Crust",
           70,
           2.3
          ],
          [
           "Hardly Wallbanger",
           "2021-03-14",
           "California > Sierra Eastside > Bishop Area > Owens River Gorge > Central Gorge > Pub Wall",
           90,
           3.6
          ],
          [
           "Spinal Fracture",
           "2021-03-09",
           "California > Sierra Eastside > Bishop Area > Owens River Gorge > Central Gorge > Social Platform",
           70,
           3.2
          ],
          [
           "Glitter Gulch",
           "2021-02-28",
           "Nevada > Southern Nevada > Red Rocks > 04-Second Pullout (Calico II) > Sweet Pain Wall",
           65,
           3.4
          ],
          [
           "Bring Out Your Dead",
           "2021-02-20",
           "California > Central Coast > Santa Barbara > Renaissance Crag",
           40,
           2.2
          ],
          [
           "Pirates on Horseback",
           "2021-02-13",
           "California > Sierra Eastside > Lone Pine Area > Alabama Hills > Alabama Hills North > The Shark's Fin",
           50,
           2.5
          ],
          [
           "Espresso",
           "2021-02-10",
           "California > Los Angeles Basin > Santa Monica Mountains > Echo Cliffs > Java Wall",
           90,
           3.2
          ],
          [
           "B-Line",
           "2021-02-06",
           "California > Los Angeles Basin > Santa Monica Mountains > Echo Cliffs > Left Flank",
           90,
           2.3
          ],
          [
           "Broken Glass",
           "2021-01-31",
           "California > Joshua Tree National Park > Hidden Valley Area > Real Hidden Valley > Gateway Rock",
           60,
           2.4
          ],
          [
           "Bird on a Wire",
           "2021-01-30",
           "California > Joshua Tree National Park > Lost Horse Area > Lost Horse Wall > Lost Horse Wall - Right Side",
           330,
           3.3
          ],
          [
           "The Paw",
           "2021-01-30",
           "California > Joshua Tree National Park > Central Joshua Tree > Echo Rock Area > Little Hunk > Little Hunk - SW Face > SW Face Right (Monkey Business Wall)",
           35,
           2.1
          ],
          [
           "Roofing Company",
           "2021-01-30",
           "California > Joshua Tree National Park > Central Joshua Tree > Echo Rock Area > Little Hunk > Little Hunk - SW Face > SW Face Right (Monkey Business Wall)",
           50,
           2.2
          ],
          [
           "Mic's Master",
           "2021-01-17",
           "Nevada > Southern Nevada > Red Rocks > 05-Sandstone Quarry > Wake Up Wall Area > The Wake-Up Wall",
           55,
           2.7
          ],
          [
           "The Last Drag",
           "2021-01-17",
           "Nevada > Southern Nevada > Red Rocks > 05-Sandstone Quarry > Wake Up Wall Area > The Wake-Up Wall",
           50,
           2.4
          ],
          [
           "First Born",
           "2021-01-17",
           "Nevada > Southern Nevada > Red Rocks > 05-Sandstone Quarry > Wake Up Wall Area > The Wake-Up Wall",
           65,
           1.9
          ],
          [
           "Spanky Spangler",
           "2021-01-17",
           "Nevada > Southern Nevada > Red Rocks > 05-Sandstone Quarry > Wake Up Wall Area > The Wake-Up Wall",
           65,
           2.7
          ],
          [
           "Fall of Vegas",
           "2021-01-17",
           "Nevada > Southern Nevada > Red Rocks > 05-Sandstone Quarry > Wake Up Wall Area > The Wake-Up Wall",
           50,
           2.3
          ],
          [
           "Mushroom People",
           "2021-01-15",
           "Nevada > Southern Nevada > Red Rocks > 10-Pine Creek Canyon > Brass Wall",
           100,
           3.4
          ],
          [
           "Delicious",
           "2020-12-12",
           "California > Los Angeles Basin > Santa Monica Mountains > Malibu Creek State Park > Mt. Gorgeous",
           85,
           3
          ],
          [
           "Family Jewel",
           "2020-12-12",
           "California > Los Angeles Basin > Santa Monica Mountains > Malibu Creek State Park > Mt. Gorgeous",
           50,
           2.9
          ],
          [
           "Stuart's Rig (aka Stu Boy)",
           "2020-12-05",
           "California > Central Coast > Hwy 33/Ojai > Wheeler Gorge",
           75,
           2.7
          ],
          [
           "Pigs In Space",
           "2020-11-22",
           "Utah > Southeast Utah > Indian Creek > Battle of the Bulge Buttress",
           120,
           2.9
          ],
          [
           "Casey's Route",
           "2020-11-21",
           "Utah > Southeast Utah > Indian Creek > The Optimator",
           70,
           2.7
          ],
          [
           "Ditch 'em",
           "2020-11-21",
           "Utah > Southeast Utah > Indian Creek > The Optimator",
           50,
           2.6
          ],
          [
           "Lady Pillar",
           "2020-11-21",
           "Utah > Southeast Utah > Indian Creek > The Optimator",
           110,
           2.6
          ],
          [
           "Hayutake",
           "2020-11-21",
           "Utah > Southeast Utah > Indian Creek > The Optimator",
           120,
           3.2
          ],
          [
           "Neat",
           "2020-11-21",
           "Utah > Southeast Utah > Indian Creek > The Optimator",
           100,
           3.2
          ],
          [
           "Dirty Woman",
           "2020-11-20",
           "Utah > Southeast Utah > Indian Creek > The Wall",
           35,
           2.1
          ],
          [
           "Freebird",
           "2020-11-20",
           "Utah > Southeast Utah > Indian Creek > The Wall",
           60,
           3.1
          ],
          [
           "Run Like Hell",
           "2020-11-20",
           "Utah > Southeast Utah > Indian Creek > The Wall",
           70,
           3.5
          ],
          [
           "3AM Crack",
           "2020-11-19",
           "Utah > Southeast Utah > Indian Creek > Supercrack Buttress",
           115,
           3.5
          ],
          [
           "Princess Buttercup",
           "2020-11-18",
           "Utah > Southeast Utah > Indian Creek > Cliffs of Insanity",
           70,
           3
          ],
          [
           "Iocane Powder",
           "2020-11-18",
           "Utah > Southeast Utah > Indian Creek > Cliffs of Insanity",
           35,
           2.5
          ],
          [
           "Blue Sun",
           "2020-11-15",
           "Utah > Southeast Utah > Indian Creek > Way Rambo",
           70,
           3.6
          ],
          [
           "Elephant Man",
           "2020-11-14",
           "Utah > Southeast Utah > Indian Creek > Donnelly Canyon",
           80,
           2.5
          ],
          [
           "Owl Crack",
           "2020-11-14",
           "Utah > Southeast Utah > Indian Creek > Donnelly Canyon",
           80,
           3.1
          ],
          [
           "Idiot Parade (aka Need to Rest)",
           "2020-10-18",
           "Nevada > Southern Nevada > Red Rocks > 04-Second Pullout (Calico II) > The Black Corridor > Lower Level > Lower Level - Right",
           50,
           2.9
          ],
          [
           "Vagabonds",
           "2020-10-18",
           "Nevada > Southern Nevada > Red Rocks > 04-Second Pullout (Calico II) > The Black Corridor > Lower Level > Lower Level - Left",
           70,
           2.7
          ],
          [
           "Atman",
           "2020-10-17",
           "Nevada > Southern Nevada > Red Rocks > 01-Calico Basin > Kraft Mountain Area > Yin and Yang Cliff",
           40,
           3.1
          ],
          [
           "Miss Conception",
           "2020-10-16",
           "Nevada > Southern Nevada > Red Rocks > 16-Black Velvet Canyon > Whiskey Peak > North Face",
           200,
           2.8
          ],
          [
           "Spark Plug",
           "2020-10-16",
           "Nevada > Southern Nevada > Red Rocks > 16-Black Velvet Canyon > Black Velvet Wall",
           100,
           3
          ],
          [
           "Sand Felipe",
           "2020-10-16",
           "Nevada > Southern Nevada > Red Rocks > 16-Black Velvet Canyon > Whiskey Peak > North Face",
           110,
           2.6
          ],
          [
           "Face the Seam",
           "2020-10-12",
           "California > Central Coast > Santa Barbara > Fire Crags",
           35,
           2
          ],
          [
           "Gorgeous",
           "2020-09-26",
           "California > Los Angeles Basin > Santa Monica Mountains > Malibu Creek State Park > Mt. Gorgeous",
           60,
           2.7
          ],
          [
           "Jensen's Jugs",
           "2020-09-14",
           "California > Central Coast > Santa Barbara > Fire Crags",
           50,
           2.4
          ],
          [
           "Miss Apprehension",
           "2020-09-06",
           "California > Yosemite National Park > Tuolumne Meadows > Olmsted Area > Olmsted Canyon Right",
           55,
           2
          ],
          [
           "Crying Time Again",
           "2020-08-28",
           "California > Yosemite National Park > Tuolumne Meadows > Lembert Dome > Northwest Face",
           400,
           3.5
          ],
          [
           "But I Don't Drink Scotch",
           "2020-08-15",
           "California > Sierra Eastside > Mammoth Lakes Area > Lake George > Crystal Crag > Highlands Wall",
           100,
           2.7
          ],
          [
           "Springbank",
           "2020-08-15",
           "California > Sierra Eastside > Mammoth Lakes Area > Lake George > Crystal Crag > Highlands Wall",
           90,
           3.6
          ],
          [
           "Gridlock",
           "2020-08-09",
           "California > Central Coast > Hwy 33/Ojai > Wheeler Gorge",
           65,
           2.6
          ],
          [
           "Sick Boy",
           "2020-08-09",
           "California > Central Coast > Hwy 33/Ojai > Wheeler Gorge",
           55,
           3
          ],
          [
           "Cucumbers",
           "2020-07-17",
           "California > Sierra Eastside > Bishop Area > Cardinal Pinnacle",
           350,
           3.2
          ],
          [
           "West Face",
           "2020-07-17",
           "California > Sierra Eastside > Bishop Area > Cardinal Pinnacle",
           550,
           3.8
          ],
          [
           "Cut the Cord",
           "2020-07-11",
           "California > Los Angeles Basin > Santa Monica Mountains > Malibu Creek State Park > Ghetto Wall",
           30,
           2.1
          ],
          [
           "Kathmandu",
           "2020-07-11",
           "California > Los Angeles Basin > Santa Monica Mountains > Malibu Creek State Park > Ghetto Wall",
           35,
           2.6
          ],
          [
           "Careful, There's A Beverage Here!",
           "2020-06-21",
           "California > Central Coast > Santa Barbara > The Playground > Little Lebowski Urban Achievers Crag",
           50,
           2.2
          ],
          [
           "Airy Interlude",
           "2020-06-13",
           "California > Southern-Western Sierra > Southern Sierra - The Needles, Kern River, Domelands, etc. > The Needles > The Witch",
           70,
           3.9
          ],
          [
           "The Gibbon",
           "2020-05-10",
           "California > Central Coast > Santa Barbara > Gibraltar Area > Upper Gibraltar",
           100,
           2.5
          ],
          [
           "T-Crack",
           "2020-04-24",
           "California > Central Coast > Santa Barbara > Gibraltar Area > Gibraltar Rock",
           60,
           3.7
          ],
          [
           "Triassic Sands",
           "2020-02-07",
           "Nevada > Southern Nevada > Red Rocks > 16-Black Velvet Canyon > Whiskey Peak > North Face",
           700,
           3.8
          ],
          [
           "No Calculators Allowed",
           "2019-11-16",
           "California > Joshua Tree National Park > Hidden Valley Area > Real Hidden Valley > The Thin Wall",
           50,
           2.6
          ],
          [
           "Fisticuffs",
           "2019-11-16",
           "California > Joshua Tree National Park > Hidden Valley Area > Real Hidden Valley > Tumbling Rainbow Formation",
           30,
           2.9
          ],
          [
           "Crack   6",
           "2019-11-15",
           "California > Joshua Tree National Park > Pinto Basin > Split Rocks > Split Rocks West > Isles in the Sky > Isles Corridor > Isles Corridor - Left Side",
           50,
           2.9
          ],
          [
           "Bird of Fire",
           "2019-11-15",
           "California > Joshua Tree National Park > Pinto Basin > Split Rocks > Split Rocks West > Isles in the Sky > Isles in the Sky (Northeast Face)",
           80,
           3.8
          ],
          [
           "Moubit",
           "2019-11-09",
           "California > Joshua Tree National Park > Pinto Basin > Split Rocks > Split Rocks West > Isles in the Sky > Isles Corridor > Isles Corridor - Right Side",
           60,
           2.3
          ],
          [
           "The Guillotine",
           "2019-11-02",
           "California > Los Angeles Basin > Santa Monica Mountains > Echo Cliffs > The Alcove",
           90,
           3.4
          ],
          [
           "Caution: Falling Snakes",
           "2019-10-06",
           "California > Central Coast > Santa Barbara > Invisible Wall > Lower Main Wall",
           70,
           3
          ],
          [
           "Raised On Robbery",
           "2019-09-05",
           "Wyoming > Laramie Area > Vedauwoo > Blair (overview) > Lower Blair I, II, III, and vicinity > Lower Blair I",
           70,
           3.5
          ],
          [
           "McTech Arete",
           "2019-08-27",
           "International > North America > Canada > British Columbia > Bugaboos > Crescent Spire",
           500,
           3.8
          ],
          [
           "Arrowroot",
           "2019-08-20",
           "International > North America > Canada > British Columbia > Squamish > Stawamus Chief > Grand Wall Base Area",
           115,
           3.5
          ],
          [
           "Seasoned in the Sun",
           "2019-08-20",
           "International > North America > Canada > British Columbia > Squamish > Stawamus Chief > Grand Wall Base Area",
           95,
           3.6
          ],
          [
           "Coronary Bypass",
           "2019-08-19",
           "International > North America > Canada > British Columbia > Squamish > The Smoke Bluffs > Respiration Rock",
           40,
           2.8
          ],
          [
           "The Ultimate Everything",
           "2019-08-18",
           "International > North America > Canada > British Columbia > Squamish > Stawamus Chief > Echelon Wall",
           1300,
           2.9
          ],
          [
           "Rock On",
           "2019-08-18",
           "International > North America > Canada > British Columbia > Squamish > Stawamus Chief > The Apron",
           400,
           3.6
          ],
          [
           "Hungry, Hungry Hippos",
           "2019-08-16",
           "International > North America > Canada > British Columbia > Squamish > Murrin Park > Commonwealth",
           65,
           2.4
          ],
          [
           "Pop-Sickle",
           "2019-08-16",
           "International > North America > Canada > British Columbia > Squamish > Murrin Park > Commonwealth",
           80,
           2
          ],
          [
           "Neat and Cool Offwidth",
           "2019-08-14",
           "International > North America > Canada > British Columbia > Squamish > The Smoke Bluffs > Neat and Cool",
           70,
           2.4
          ],
          [
           "Flying Circus",
           "2019-08-14",
           "International > North America > Canada > British Columbia > Squamish > The Smoke Bluffs > Neat and Cool",
           100,
           3.6
          ],
          [
           "Rattletale",
           "2019-08-01",
           "Washington > Central-West Cascades & Seattle > Skykomish Valley > Index > Lookout Point Area > Rattletale Wall",
           70,
           3.8
          ],
          [
           "Tofu Crack",
           "2019-05-13",
           "Utah > Southeast Utah > Indian Creek > 2nd Meat Wall",
           115,
           3.3
          ],
          [
           "No Name Crack",
           "2019-05-12",
           "Utah > Southeast Utah > Indian Creek > Supercrack Buttress",
           110,
           3.2
          ],
          [
           "Hot Toddy",
           "2019-05-11",
           "Utah > Southeast Utah > Potash Road > Long Canyon > Maverick Buttress",
           80,
           2.9
          ],
          [
           "Texas Two Step",
           "2019-05-11",
           "Utah > Southeast Utah > Potash Road > Long Canyon > Maverick Buttress",
           70,
           2.7
          ],
          [
           "Pocket  Rocket",
           "2019-05-09",
           "Utah > Southeast Utah > Potash Road > Day Canyon > Day Canyon Cragging Routes",
           65,
           3.5
          ],
          [
           "Dread Pirate Roberts",
           "2019-05-04",
           "Utah > Southeast Utah > Indian Creek > Cliffs of Insanity",
           60,
           3.1
          ],
          [
           "Kelley Route 1",
           "2019-05-04",
           "Utah > Southeast Utah > Indian Creek > Cliffs of Insanity",
           130,
           3.6
          ],
          [
           "Supercrack of the Desert",
           "2019-05-03",
           "Utah > Southeast Utah > Indian Creek > Supercrack Buttress",
           70,
           3.8
          ],
          [
           "Incredible Hand Crack",
           "2019-05-03",
           "Utah > Southeast Utah > Indian Creek > Supercrack Buttress",
           100,
           3.8
          ],
          [
           "Generic Crack",
           "2019-05-02",
           "Utah > Southeast Utah > Indian Creek > Donnelly Canyon",
           120,
           3.4
          ],
          [
           "Dawn of an Age",
           "2019-05-01",
           "Utah > Southeast Utah > Indian Creek > Blue Gramma Cliff",
           50,
           2.5
          ],
          [
           "Kemosabe",
           "2019-04-22",
           "Nevada > Southern Nevada > Red Rocks > 07-Willow Spring > Ragged Edges Area",
           100,
           2.6
          ],
          [
           "Getaway",
           "2019-01-19",
           "California > High Desert > Barstow Area > New Jack City > Box Canyon East > The Getaway",
           65,
           3.3
          ],
          [
           "Holey Moley",
           "2019-01-19",
           "California > High Desert > Barstow Area > New Jack City > Box Canyon East > Raven Rocks > Raven Rocks North Face \"Power Block\" Area",
           90,
           3
          ],
          [
           "Celestial Spheres",
           "2018-12-16",
           "Nevada > Southern Nevada > Red Rocks > 03-First Pullout (Calico I) > Dante's Wall",
           65,
           2.6
          ],
          [
           "Divine Comedy",
           "2018-12-16",
           "Nevada > Southern Nevada > Red Rocks > 03-First Pullout (Calico I) > Dante's Wall",
           65,
           3.3
          ],
          [
           "The Right Road Lost",
           "2018-12-16",
           "Nevada > Southern Nevada > Red Rocks > 03-First Pullout (Calico I) > Dante's Wall",
           50,
           2.6
          ],
          [
           "Ches Game",
           "2018-10-25",
           "California > Central Coast > Santa Barbara > Invisible Wall > Lower Main Wall",
           70,
           2.3
          ],
          [
           "Twice Stung and Forever Shy",
           "2018-10-25",
           "California > Central Coast > Santa Barbara > Invisible Wall > Bug Wall",
           70,
           2.9
          ],
          [
           "Tut",
           "2018-10-21",
           "California > Los Angeles Basin > Santa Monica Mountains > Malibu Creek State Park > Century Lake Area > Little Cheops",
           40,
           2
          ],
          [
           "Power Station",
           "2018-10-21",
           "California > Los Angeles Basin > Santa Monica Mountains > Malibu Creek State Park > Century Lake Area > The Power Wall",
           50,
           2.9
          ],
          [
           "Power Grid",
           "2018-10-21",
           "California > Los Angeles Basin > Santa Monica Mountains > Malibu Creek State Park > Century Lake Area > The Power Wall",
           60,
           2.6
          ],
          [
           "Cleaning Lady",
           "2018-09-17",
           "California > Central Coast > Hwy 33/Ojai > Potrero John",
           80,
           2.8
          ]
         ],
         "hovertemplate": "Name: %{customdata[0]}<br>Date: %{customdata[1]}<br>Location: %{customdata[2]}<br>Length: %{customdata[3]}ft<br>Avg Stars: %{customdata[4]}",
         "legendgroup": "",
         "marker": {
          "color": "#7A4F25",
          "pattern": {
           "shape": ""
          }
         },
         "name": "",
         "offsetgroup": "",
         "orientation": "h",
         "showlegend": false,
         "text": [
          24,
          "",
          "",
          "",
          "",
          "",
          "",
          "",
          4,
          2,
          "",
          "",
          "",
          "",
          "",
          "",
          "",
          "",
          "",
          "",
          null,
          2,
          "",
          16,
          null,
          "",
          "",
          "",
          "",
          "",
          "",
          "",
          "",
          "",
          "",
          null,
          null,
          "",
          "",
          "",
          2,
          "",
          "",
          "",
          "",
          2,
          "",
          "",
          "",
          "",
          "",
          2,
          "",
          "",
          "",
          "",
          "",
          2,
          2,
          "",
          2,
          "",
          "",
          null,
          "",
          "",
          "",
          "",
          "",
          2,
          "",
          "",
          "",
          "",
          "",
          "",
          "",
          "",
          "",
          "",
          "",
          "",
          "",
          "",
          "",
          "",
          "",
          "",
          "",
          2,
          "",
          "",
          "",
          "",
          "",
          "",
          3,
          3,
          2,
          "",
          "",
          "",
          "",
          "",
          "",
          "",
          "",
          null,
          "",
          "",
          "",
          "",
          "",
          "",
          "",
          "",
          "",
          "",
          "",
          "",
          "",
          "",
          "",
          "",
          "",
          5,
          "",
          "",
          "",
          "",
          "",
          "",
          "",
          "",
          "",
          "",
          "",
          2,
          2,
          2,
          "",
          "",
          "",
          "",
          "",
          "",
          "",
          "",
          "",
          2,
          "",
          "",
          "",
          "",
          "",
          "",
          "",
          3,
          "",
          "",
          "",
          3,
          "",
          4,
          "",
          "",
          "",
          "",
          "",
          "",
          "",
          "",
          "",
          "",
          "",
          "",
          "",
          12,
          "",
          "",
          "",
          "",
          "",
          "",
          "",
          "",
          "",
          "",
          "",
          "",
          "",
          "",
          "",
          "",
          "",
          "",
          "",
          "",
          "",
          "",
          "",
          "",
          "",
          "",
          "",
          "",
          2,
          "",
          "",
          "",
          "",
          "",
          "",
          "",
          "",
          "",
          "",
          "",
          "",
          "",
          ""
         ],
         "textfont": {
          "color": "White",
          "family": "Arial Black",
          "size": 12
         },
         "textposition": "inside",
         "type": "bar",
         "x": [
          1,
          1,
          1,
          1,
          1,
          1,
          1,
          1,
          1,
          1,
          1,
          1,
          1,
          1,
          1,
          1,
          1,
          1,
          1,
          1,
          1,
          1,
          1,
          1,
          1,
          1,
          1,
          1,
          1,
          1,
          1,
          1,
          1,
          1,
          1,
          1,
          1,
          1,
          1,
          1,
          1,
          1,
          1,
          1,
          1,
          1,
          1,
          1,
          1,
          1,
          1,
          1,
          1,
          1,
          1,
          1,
          1,
          1,
          1,
          1,
          1,
          1,
          1,
          1,
          1,
          1,
          1,
          1,
          1,
          1,
          1,
          1,
          1,
          1,
          1,
          1,
          1,
          1,
          1,
          1,
          1,
          1,
          1,
          1,
          1,
          1,
          1,
          1,
          1,
          1,
          1,
          1,
          1,
          1,
          1,
          1,
          1,
          1,
          1,
          1,
          1,
          1,
          1,
          1,
          1,
          1,
          1,
          1,
          1,
          1,
          1,
          1,
          1,
          1,
          1,
          1,
          1,
          1,
          1,
          1,
          1,
          1,
          1,
          1,
          1,
          1,
          1,
          1,
          1,
          1,
          1,
          1,
          1,
          1,
          1,
          1,
          1,
          1,
          1,
          1,
          1,
          1,
          1,
          1,
          1,
          1,
          1,
          1,
          1,
          1,
          1,
          1,
          1,
          1,
          1,
          1,
          1,
          1,
          1,
          1,
          1,
          1,
          1,
          1,
          1,
          1,
          1,
          1,
          1,
          1,
          1,
          1,
          1,
          1,
          1,
          1,
          1,
          1,
          1,
          1,
          1,
          1,
          1,
          1,
          1,
          1,
          1,
          1,
          1,
          1,
          1,
          1,
          1,
          1,
          1,
          1,
          1,
          1,
          1,
          1,
          1,
          1,
          1,
          1,
          1,
          1,
          1,
          1,
          1,
          1,
          1,
          1,
          1,
          1,
          1,
          1,
          1,
          1,
          1,
          1,
          1
         ],
         "xaxis": "x",
         "y": [
          "5.11a",
          "5.11a",
          "5.10b",
          "5.10b",
          "5.10b",
          "5.10c",
          "5.10c",
          "5.10b",
          "5.12a",
          "5.11a",
          "5.10d",
          "5.10b",
          "5.10c",
          "5.11a",
          "5.11b",
          "5.10b",
          "5.11a",
          "5.11a",
          "5.10b",
          "5.10b",
          "5.10c",
          "5.10b",
          "5.10b",
          "5.11c",
          "5.10b",
          "5.10a",
          "5.10a",
          "5.10d",
          "5.10c",
          "5.10b",
          "5.10b",
          "5.10b",
          "5.11a",
          "5.10c",
          "5.10b",
          "5.10b",
          "5.10c",
          "5.10a",
          "5.10b",
          "5.10a",
          "5.11a",
          "5.10a",
          "5.10c",
          "5.10c",
          "5.10a",
          "5.10d",
          "5.10a",
          "5.10a",
          "5.10d",
          "5.11b",
          "5.10a",
          "5.11b",
          "5.10b",
          "5.10a",
          "5.10a",
          "5.10b",
          "5.10a",
          "5.10d",
          "5.11b",
          "5.10b",
          "5.11a",
          "5.10b",
          "5.10a",
          "5.10a",
          "5.11b",
          "5.10a",
          "5.10b",
          "5.10b",
          "5.10a",
          "5.11a",
          "5.10b",
          "5.10c",
          "5.10a",
          "5.10c",
          "5.10b",
          "5.10b",
          "5.10c",
          "5.10c",
          "5.10c",
          "5.10b",
          "5.10c",
          "5.10b",
          "5.10c",
          "5.11b",
          "5.11b",
          "5.10b",
          "5.10b",
          "5.10c",
          "5.10c",
          "5.11a",
          "5.10a",
          "5.10c",
          "5.10c",
          "5.10c",
          "5.10a",
          "5.10c",
          "5.10a",
          "5.10b",
          "5.10b",
          "5.10b",
          "5.10b",
          "5.10a",
          "5.10b",
          "5.10a",
          "5.11a",
          "5.10b",
          "5.10c",
          "5.10d",
          "5.10c",
          "5.10b",
          "5.10b",
          "5.10a",
          "5.10a",
          "5.10c",
          "5.10c",
          "5.10b",
          "5.10b",
          "5.10a",
          "5.10a",
          "5.10a",
          "5.10c",
          "5.11a",
          "5.11a",
          "5.10a",
          "5.10b",
          "5.11a",
          "5.10a",
          "5.10a",
          "5.10a",
          "5.10b",
          "5.10a",
          "5.10b",
          "5.10a",
          "5.10b",
          "5.10b",
          "5.10a",
          "5.10c",
          "5.10d",
          "5.10c",
          "5.11a",
          "5.10b",
          "5.10c",
          "5.10b",
          "5.10a",
          "5.10c",
          "5.10b",
          "5.10b",
          "5.10a",
          "5.10b",
          "5.10b",
          "5.10a",
          "5.10a",
          "5.10a",
          "5.10a",
          "5.10b",
          "5.10c",
          "5.10a",
          "5.10a",
          "5.10b",
          "5.10b",
          "5.10a",
          "5.10a",
          "5.10a",
          "5.10c",
          "5.10a",
          "5.10a",
          "5.10a",
          "5.10a",
          "5.10a",
          "5.10b",
          "5.10a",
          "5.10a",
          "5.10b",
          "5.10a",
          "5.10a",
          "5.10a",
          "5.10b",
          "5.10c",
          "5.10b",
          "5.10a",
          "5.10b",
          "5.10a",
          "5.10a",
          "5.10a",
          "5.10a",
          "5.10b",
          "5.10b",
          "5.10a",
          "5.10b",
          "5.10a",
          "5.10a",
          "5.10a",
          "5.10a",
          "5.10a",
          "5.10c",
          "5.10a",
          "5.10a",
          "5.10b",
          "5.10b",
          "5.10b",
          "5.10b",
          "5.10b",
          "5.10c",
          "5.10c",
          "5.10c",
          "5.10b",
          "5.10b",
          "5.10a",
          "5.10b",
          "5.10a",
          "5.10a",
          "5.10a",
          "5.10b",
          "5.10a",
          "5.10a",
          "5.10b",
          "5.10a",
          "5.10a",
          "5.10b",
          "5.10a",
          "5.10b"
         ],
         "yaxis": "y"
        }
       ],
       "layout": {
        "bargap": 0,
        "barmode": "relative",
        "font": {
         "color": "black",
         "family": "Courier New",
         "size": 20
        },
        "legend": {
         "tracegroupgap": 0
        },
        "margin": {
         "t": 60
        },
        "paper_bgcolor": "#ece5dc",
        "plot_bgcolor": "#F5D3A5",
        "template": {
         "data": {
          "bar": [
           {
            "error_x": {
             "color": "#2a3f5f"
            },
            "error_y": {
             "color": "#2a3f5f"
            },
            "marker": {
             "line": {
              "color": "#E5ECF6",
              "width": 0.5
             },
             "pattern": {
              "fillmode": "overlay",
              "size": 10,
              "solidity": 0.2
             }
            },
            "type": "bar"
           }
          ],
          "barpolar": [
           {
            "marker": {
             "line": {
              "color": "#E5ECF6",
              "width": 0.5
             },
             "pattern": {
              "fillmode": "overlay",
              "size": 10,
              "solidity": 0.2
             }
            },
            "type": "barpolar"
           }
          ],
          "carpet": [
           {
            "aaxis": {
             "endlinecolor": "#2a3f5f",
             "gridcolor": "white",
             "linecolor": "white",
             "minorgridcolor": "white",
             "startlinecolor": "#2a3f5f"
            },
            "baxis": {
             "endlinecolor": "#2a3f5f",
             "gridcolor": "white",
             "linecolor": "white",
             "minorgridcolor": "white",
             "startlinecolor": "#2a3f5f"
            },
            "type": "carpet"
           }
          ],
          "choropleth": [
           {
            "colorbar": {
             "outlinewidth": 0,
             "ticks": ""
            },
            "type": "choropleth"
           }
          ],
          "contour": [
           {
            "colorbar": {
             "outlinewidth": 0,
             "ticks": ""
            },
            "colorscale": [
             [
              0,
              "#0d0887"
             ],
             [
              0.1111111111111111,
              "#46039f"
             ],
             [
              0.2222222222222222,
              "#7201a8"
             ],
             [
              0.3333333333333333,
              "#9c179e"
             ],
             [
              0.4444444444444444,
              "#bd3786"
             ],
             [
              0.5555555555555556,
              "#d8576b"
             ],
             [
              0.6666666666666666,
              "#ed7953"
             ],
             [
              0.7777777777777778,
              "#fb9f3a"
             ],
             [
              0.8888888888888888,
              "#fdca26"
             ],
             [
              1,
              "#f0f921"
             ]
            ],
            "type": "contour"
           }
          ],
          "contourcarpet": [
           {
            "colorbar": {
             "outlinewidth": 0,
             "ticks": ""
            },
            "type": "contourcarpet"
           }
          ],
          "heatmap": [
           {
            "colorbar": {
             "outlinewidth": 0,
             "ticks": ""
            },
            "colorscale": [
             [
              0,
              "#0d0887"
             ],
             [
              0.1111111111111111,
              "#46039f"
             ],
             [
              0.2222222222222222,
              "#7201a8"
             ],
             [
              0.3333333333333333,
              "#9c179e"
             ],
             [
              0.4444444444444444,
              "#bd3786"
             ],
             [
              0.5555555555555556,
              "#d8576b"
             ],
             [
              0.6666666666666666,
              "#ed7953"
             ],
             [
              0.7777777777777778,
              "#fb9f3a"
             ],
             [
              0.8888888888888888,
              "#fdca26"
             ],
             [
              1,
              "#f0f921"
             ]
            ],
            "type": "heatmap"
           }
          ],
          "heatmapgl": [
           {
            "colorbar": {
             "outlinewidth": 0,
             "ticks": ""
            },
            "colorscale": [
             [
              0,
              "#0d0887"
             ],
             [
              0.1111111111111111,
              "#46039f"
             ],
             [
              0.2222222222222222,
              "#7201a8"
             ],
             [
              0.3333333333333333,
              "#9c179e"
             ],
             [
              0.4444444444444444,
              "#bd3786"
             ],
             [
              0.5555555555555556,
              "#d8576b"
             ],
             [
              0.6666666666666666,
              "#ed7953"
             ],
             [
              0.7777777777777778,
              "#fb9f3a"
             ],
             [
              0.8888888888888888,
              "#fdca26"
             ],
             [
              1,
              "#f0f921"
             ]
            ],
            "type": "heatmapgl"
           }
          ],
          "histogram": [
           {
            "marker": {
             "pattern": {
              "fillmode": "overlay",
              "size": 10,
              "solidity": 0.2
             }
            },
            "type": "histogram"
           }
          ],
          "histogram2d": [
           {
            "colorbar": {
             "outlinewidth": 0,
             "ticks": ""
            },
            "colorscale": [
             [
              0,
              "#0d0887"
             ],
             [
              0.1111111111111111,
              "#46039f"
             ],
             [
              0.2222222222222222,
              "#7201a8"
             ],
             [
              0.3333333333333333,
              "#9c179e"
             ],
             [
              0.4444444444444444,
              "#bd3786"
             ],
             [
              0.5555555555555556,
              "#d8576b"
             ],
             [
              0.6666666666666666,
              "#ed7953"
             ],
             [
              0.7777777777777778,
              "#fb9f3a"
             ],
             [
              0.8888888888888888,
              "#fdca26"
             ],
             [
              1,
              "#f0f921"
             ]
            ],
            "type": "histogram2d"
           }
          ],
          "histogram2dcontour": [
           {
            "colorbar": {
             "outlinewidth": 0,
             "ticks": ""
            },
            "colorscale": [
             [
              0,
              "#0d0887"
             ],
             [
              0.1111111111111111,
              "#46039f"
             ],
             [
              0.2222222222222222,
              "#7201a8"
             ],
             [
              0.3333333333333333,
              "#9c179e"
             ],
             [
              0.4444444444444444,
              "#bd3786"
             ],
             [
              0.5555555555555556,
              "#d8576b"
             ],
             [
              0.6666666666666666,
              "#ed7953"
             ],
             [
              0.7777777777777778,
              "#fb9f3a"
             ],
             [
              0.8888888888888888,
              "#fdca26"
             ],
             [
              1,
              "#f0f921"
             ]
            ],
            "type": "histogram2dcontour"
           }
          ],
          "mesh3d": [
           {
            "colorbar": {
             "outlinewidth": 0,
             "ticks": ""
            },
            "type": "mesh3d"
           }
          ],
          "parcoords": [
           {
            "line": {
             "colorbar": {
              "outlinewidth": 0,
              "ticks": ""
             }
            },
            "type": "parcoords"
           }
          ],
          "pie": [
           {
            "automargin": true,
            "type": "pie"
           }
          ],
          "scatter": [
           {
            "fillpattern": {
             "fillmode": "overlay",
             "size": 10,
             "solidity": 0.2
            },
            "type": "scatter"
           }
          ],
          "scatter3d": [
           {
            "line": {
             "colorbar": {
              "outlinewidth": 0,
              "ticks": ""
             }
            },
            "marker": {
             "colorbar": {
              "outlinewidth": 0,
              "ticks": ""
             }
            },
            "type": "scatter3d"
           }
          ],
          "scattercarpet": [
           {
            "marker": {
             "colorbar": {
              "outlinewidth": 0,
              "ticks": ""
             }
            },
            "type": "scattercarpet"
           }
          ],
          "scattergeo": [
           {
            "marker": {
             "colorbar": {
              "outlinewidth": 0,
              "ticks": ""
             }
            },
            "type": "scattergeo"
           }
          ],
          "scattergl": [
           {
            "marker": {
             "colorbar": {
              "outlinewidth": 0,
              "ticks": ""
             }
            },
            "type": "scattergl"
           }
          ],
          "scattermapbox": [
           {
            "marker": {
             "colorbar": {
              "outlinewidth": 0,
              "ticks": ""
             }
            },
            "type": "scattermapbox"
           }
          ],
          "scatterpolar": [
           {
            "marker": {
             "colorbar": {
              "outlinewidth": 0,
              "ticks": ""
             }
            },
            "type": "scatterpolar"
           }
          ],
          "scatterpolargl": [
           {
            "marker": {
             "colorbar": {
              "outlinewidth": 0,
              "ticks": ""
             }
            },
            "type": "scatterpolargl"
           }
          ],
          "scatterternary": [
           {
            "marker": {
             "colorbar": {
              "outlinewidth": 0,
              "ticks": ""
             }
            },
            "type": "scatterternary"
           }
          ],
          "surface": [
           {
            "colorbar": {
             "outlinewidth": 0,
             "ticks": ""
            },
            "colorscale": [
             [
              0,
              "#0d0887"
             ],
             [
              0.1111111111111111,
              "#46039f"
             ],
             [
              0.2222222222222222,
              "#7201a8"
             ],
             [
              0.3333333333333333,
              "#9c179e"
             ],
             [
              0.4444444444444444,
              "#bd3786"
             ],
             [
              0.5555555555555556,
              "#d8576b"
             ],
             [
              0.6666666666666666,
              "#ed7953"
             ],
             [
              0.7777777777777778,
              "#fb9f3a"
             ],
             [
              0.8888888888888888,
              "#fdca26"
             ],
             [
              1,
              "#f0f921"
             ]
            ],
            "type": "surface"
           }
          ],
          "table": [
           {
            "cells": {
             "fill": {
              "color": "#EBF0F8"
             },
             "line": {
              "color": "white"
             }
            },
            "header": {
             "fill": {
              "color": "#C8D4E3"
             },
             "line": {
              "color": "white"
             }
            },
            "type": "table"
           }
          ]
         },
         "layout": {
          "annotationdefaults": {
           "arrowcolor": "#2a3f5f",
           "arrowhead": 0,
           "arrowwidth": 1
          },
          "autotypenumbers": "strict",
          "coloraxis": {
           "colorbar": {
            "outlinewidth": 0,
            "ticks": ""
           }
          },
          "colorscale": {
           "diverging": [
            [
             0,
             "#8e0152"
            ],
            [
             0.1,
             "#c51b7d"
            ],
            [
             0.2,
             "#de77ae"
            ],
            [
             0.3,
             "#f1b6da"
            ],
            [
             0.4,
             "#fde0ef"
            ],
            [
             0.5,
             "#f7f7f7"
            ],
            [
             0.6,
             "#e6f5d0"
            ],
            [
             0.7,
             "#b8e186"
            ],
            [
             0.8,
             "#7fbc41"
            ],
            [
             0.9,
             "#4d9221"
            ],
            [
             1,
             "#276419"
            ]
           ],
           "sequential": [
            [
             0,
             "#0d0887"
            ],
            [
             0.1111111111111111,
             "#46039f"
            ],
            [
             0.2222222222222222,
             "#7201a8"
            ],
            [
             0.3333333333333333,
             "#9c179e"
            ],
            [
             0.4444444444444444,
             "#bd3786"
            ],
            [
             0.5555555555555556,
             "#d8576b"
            ],
            [
             0.6666666666666666,
             "#ed7953"
            ],
            [
             0.7777777777777778,
             "#fb9f3a"
            ],
            [
             0.8888888888888888,
             "#fdca26"
            ],
            [
             1,
             "#f0f921"
            ]
           ],
           "sequentialminus": [
            [
             0,
             "#0d0887"
            ],
            [
             0.1111111111111111,
             "#46039f"
            ],
            [
             0.2222222222222222,
             "#7201a8"
            ],
            [
             0.3333333333333333,
             "#9c179e"
            ],
            [
             0.4444444444444444,
             "#bd3786"
            ],
            [
             0.5555555555555556,
             "#d8576b"
            ],
            [
             0.6666666666666666,
             "#ed7953"
            ],
            [
             0.7777777777777778,
             "#fb9f3a"
            ],
            [
             0.8888888888888888,
             "#fdca26"
            ],
            [
             1,
             "#f0f921"
            ]
           ]
          },
          "colorway": [
           "#636efa",
           "#EF553B",
           "#00cc96",
           "#ab63fa",
           "#FFA15A",
           "#19d3f3",
           "#FF6692",
           "#B6E880",
           "#FF97FF",
           "#FECB52"
          ],
          "font": {
           "color": "#2a3f5f"
          },
          "geo": {
           "bgcolor": "white",
           "lakecolor": "white",
           "landcolor": "#E5ECF6",
           "showlakes": true,
           "showland": true,
           "subunitcolor": "white"
          },
          "hoverlabel": {
           "align": "left"
          },
          "hovermode": "closest",
          "mapbox": {
           "style": "light"
          },
          "paper_bgcolor": "white",
          "plot_bgcolor": "#E5ECF6",
          "polar": {
           "angularaxis": {
            "gridcolor": "white",
            "linecolor": "white",
            "ticks": ""
           },
           "bgcolor": "#E5ECF6",
           "radialaxis": {
            "gridcolor": "white",
            "linecolor": "white",
            "ticks": ""
           }
          },
          "scene": {
           "xaxis": {
            "backgroundcolor": "#E5ECF6",
            "gridcolor": "white",
            "gridwidth": 2,
            "linecolor": "white",
            "showbackground": true,
            "ticks": "",
            "zerolinecolor": "white"
           },
           "yaxis": {
            "backgroundcolor": "#E5ECF6",
            "gridcolor": "white",
            "gridwidth": 2,
            "linecolor": "white",
            "showbackground": true,
            "ticks": "",
            "zerolinecolor": "white"
           },
           "zaxis": {
            "backgroundcolor": "#E5ECF6",
            "gridcolor": "white",
            "gridwidth": 2,
            "linecolor": "white",
            "showbackground": true,
            "ticks": "",
            "zerolinecolor": "white"
           }
          },
          "shapedefaults": {
           "line": {
            "color": "#2a3f5f"
           }
          },
          "ternary": {
           "aaxis": {
            "gridcolor": "white",
            "linecolor": "white",
            "ticks": ""
           },
           "baxis": {
            "gridcolor": "white",
            "linecolor": "white",
            "ticks": ""
           },
           "bgcolor": "#E5ECF6",
           "caxis": {
            "gridcolor": "white",
            "linecolor": "white",
            "ticks": ""
           }
          },
          "title": {
           "x": 0.05
          },
          "xaxis": {
           "automargin": true,
           "gridcolor": "white",
           "linecolor": "white",
           "ticks": "",
           "title": {
            "standoff": 15
           },
           "zerolinecolor": "white",
           "zerolinewidth": 2
          },
          "yaxis": {
           "automargin": true,
           "gridcolor": "white",
           "linecolor": "white",
           "ticks": "",
           "title": {
            "standoff": 15
           },
           "zerolinecolor": "white",
           "zerolinewidth": 2
          }
         }
        },
        "title": {
         "font": {
          "size": 30
         },
         "text": "<b>Climbing Pyramid</b>",
         "x": 0.5
        },
        "xaxis": {
         "anchor": "y",
         "domain": [
          0,
          1
         ],
         "title": {
          "text": "Number of Routes Sent"
         }
        },
        "yaxis": {
         "anchor": "x",
         "categoryarray": [
          "5.0",
          "5.1",
          "5.2",
          "5.3",
          "5.4",
          "5.5",
          "5.6",
          "5.7",
          "5.8",
          "5.9",
          "5.10a",
          "5.10b",
          "5.10c",
          "5.10d",
          "5.11a",
          "5.11b",
          "5.11c",
          "5.11d",
          "5.12a",
          "5.12b",
          "5.12c",
          "5.12d",
          "5.13a",
          "5.13b",
          "5.13c",
          "5.13d",
          "5.14a",
          "5.14b",
          "5.14c",
          "5.14d",
          "5.15a",
          "5.15b",
          "5.15c",
          "5.15d"
         ],
         "categoryorder": "array",
         "domain": [
          0,
          1
         ],
         "title": {
          "text": "Grade"
         }
        }
       }
      }
     },
     "metadata": {},
     "output_type": "display_data"
    }
   ],
   "source": [
    "fig = px.bar(df_clean_sends_r, y=\"Rating\", orientation='h', category_orders={\"Rating\": ryaxorder[::-1]}, text='Attempts', custom_data=['Route', 'Date Formatted', 'Location', 'Length', 'Avg Stars']) # The [::-1] is an inverse slice\n",
    "fig.update_layout(font={'family':'Courier New', 'color':'black', 'size':20}, title={'text':'<b>Climbing Pyramid</b>', 'x':0.5, 'font_size':30}, xaxis={'title': 'Number of Routes Sent'}, yaxis={'title': 'Grade'}, paper_bgcolor='#ece5dc', plot_bgcolor='#F5D3A5', bargap=0)\n",
    "fig.update_traces(marker_color='#7A4F25', textposition = \"inside\", textfont={\"color\": 'White', \"size\": 12, \"family\": 'Arial Black'},  hovertemplate='Name: %{customdata[0]}<br>Date: %{customdata[1]}<br>Location: %{customdata[2]}<br>Length: %{customdata[3]}ft<br>Avg Stars: %{customdata[4]}')\n",
    "# fig.update_traces(marker_color=list(map(lambda x: '#7A4F25' if (x=='') else '#bf9315', df_clean_sends['Attempts'])), textposition = \"inside\",  hovertemplate='Name: %{customdata[0]}<br>Date: %{customdata[1]}<br>Location: %{customdata[2]}<br>Length: %{customdata[3]}ft<br>Avg Stars: %{customdata[4]}')"
   ]
  },
  {
   "cell_type": "code",
   "execution_count": 102,
   "metadata": {},
   "outputs": [
    {
     "data": {
      "application/vnd.plotly.v1+json": {
       "config": {
        "plotlyServerURL": "https://plot.ly"
       },
       "data": [
        {
         "customdata": [
          [
           "Positive Vibrations",
           "2022-12-21",
           "California > High Sierra > 02 - The Sawtooth Ridge > Incredible Hulk",
           1200,
           4
          ],
          [
           "Big Guy",
           "2022-11-25",
           "Utah > Southeast Utah > Indian Creek > Scarface",
           120,
           3.9
          ],
          [
           "Unnamed offwidth",
           "2022-11-24",
           "Utah > Southeast Utah > Indian Creek > South Sixshooter",
           70,
           3
          ],
          [
           "South Face Angling Crack?",
           "2022-11-24",
           "Utah > Southeast Utah > Indian Creek > South Sixshooter",
           90,
           3
          ],
          [
           "Lonely Vigil",
           "2022-11-20",
           "Utah > Southeast Utah > River Road > Lighthouse Tower",
           350,
           3.5
          ],
          [
           "Chasin' Skirt",
           "2022-11-19",
           "Utah > Southeast Utah > Potash Road > Long Canyon > Deadman's Buttress",
           150,
           3.3
          ],
          [
           "Chopper",
           "2022-11-19",
           "Utah > Southeast Utah > Potash Road > Long Canyon > Deadman's Buttress",
           190,
           3.6
          ],
          [
           "Program Director",
           "2022-11-19",
           "Utah > Southeast Utah > Potash Road > Long Canyon > Deadman's Buttress",
           190,
           3.4
          ],
          [
           "Urban Struggle",
           "2022-11-05",
           "California > Los Angeles Basin > Santa Monica Mountains > Malibu Creek State Park > Ghetto Wall",
           50,
           3.4
          ],
          [
           "Directpissima",
           "2022-11-05",
           "California > Los Angeles Basin > Santa Monica Mountains > Malibu Creek State Park > Ghetto Wall",
           50,
           2.4
          ],
          [
           "Unnamed",
           "2022-11-05",
           "California > Los Angeles Basin > Santa Monica Mountains > Malibu Creek State Park > Ghetto Wall",
           45,
           2.4
          ],
          [
           "Three Fools aka Kelley Route 32",
           "2022-10-21",
           "Utah > Southeast Utah > Indian Creek > Reservoir Wall",
           60,
           2.5
          ],
          [
           "Blue Sky Mining",
           "2022-10-20",
           "Utah > Southeast Utah > Indian Creek > Broken Tooth",
           50,
           2.4
          ],
          [
           "unnamed classic hand crack aka Gold Crown",
           "2022-10-20",
           "Utah > Southeast Utah > Indian Creek > Broken Tooth",
           120,
           3.7
          ],
          [
           "Rock Lobster",
           "2022-10-20",
           "Utah > Southeast Utah > Indian Creek > Broken Tooth",
           115,
           3.8
          ],
          [
           "The Mayes",
           "2022-10-17",
           "Utah > Southeast Utah > Indian Creek > Battle of the Bulge Buttress",
           50,
           2.4
          ],
          [
           "Think Pink",
           "2022-10-17",
           "Utah > Southeast Utah > Indian Creek > Battle of the Bulge Buttress",
           70,
           3.4
          ],
          [
           "Crack Attack",
           "2022-10-17",
           "Utah > Southeast Utah > Indian Creek > Battle of the Bulge Buttress",
           70,
           3.7
          ],
          [
           "Desire",
           "2022-10-15",
           "Utah > Southeast Utah > Indian Creek > Way Rambo",
           95,
           2.8
          ],
          [
           "Fuzz",
           "2022-10-15",
           "Utah > Southeast Utah > Indian Creek > Way Rambo",
           115,
           3.3
          ],
          [
           "Pocket  Rocket",
           "2022-10-14",
           "Utah > Southeast Utah > Potash Road > Day Canyon > Day Canyon Cragging Routes",
           65,
           3.5
          ],
          [
           "Brush Painted Datsun",
           "2022-10-14",
           "Utah > Southeast Utah > Potash Road > Day Canyon > Day Canyon Cragging Routes",
           70,
           3.6
          ],
          [
           "Boognish Tower",
           "2022-10-14",
           "Utah > Southeast Utah > Potash Road > Day Canyon > Boognish Tower",
           120,
           3.4
          ],
          [
           "Makunaima",
           "2022-10-08",
           "California > Central Coast > Santa Barbara > Gibraltar Area > Cold Springs Dome > Makunaima Amphitheater",
           90,
           3.9
          ],
          [
           "Anasazi",
           "2022-10-08",
           "California > Central Coast > Santa Barbara > Gibraltar Area > Cold Springs Dome > Makunaima Amphitheater",
           50,
           3
          ],
          [
           "The Consolation Direct",
           "2022-10-01",
           "California > Tahquitz & Suicide Rocks > Tahquitz Rock > (d) Northwest Recess",
           800,
           3.3
          ],
          [
           "Daximus",
           "2022-08-20",
           "California > Central Coast > Santa Barbara > Gibraltar Area > Cold Springs Dome > Makunaima Amphitheater",
           90,
           3.4
          ],
          [
           "Rites of Spring",
           "2022-07-22",
           "California > Sierra Eastside > Bishop Area > Pine Creek Canyon > Scheelite Canyon / Pratt's Crack Gully > Armando's Stilletto / Rites of Spring",
           400,
           3.5
          ],
          [
           "Baby Scorpions",
           "2022-07-17",
           "California > Central Coast > Santa Barbara > Gibraltar Area > Cold Springs Dome > Makunaima Amphitheater",
           70,
           2.6
          ],
          [
           "Anasazi",
           "2022-07-17",
           "California > Central Coast > Santa Barbara > Gibraltar Area > Cold Springs Dome > Makunaima Amphitheater",
           50,
           3
          ],
          [
           "The Dihedral Route",
           "2022-07-09",
           "California > High Sierra > 02 - The Sawtooth Ridge > The Juggernaut",
           750,
           3.3
          ],
          [
           "Crimson Gem",
           "2022-07-08",
           "California > High Sierra > 02 - The Sawtooth Ridge > The Juggernaut",
           750,
           3.6
          ],
          [
           "D.D.D.",
           "2022-07-06",
           "California > Sierra Eastside > Mammoth Lakes Area > Lake George > Horseshoe Piles > Spring Wall",
           90,
           3.6
          ],
          [
           "Reallyfivenineplus",
           "2022-07-06",
           "California > Sierra Eastside > Mammoth Lakes Area > Lake George > Horseshoe Piles > Spring Wall",
           80,
           3.1
          ],
          [
           "Fall Harvest",
           "2022-07-05",
           "California > Sierra Eastside > Mammoth Lakes Area > Lake George > Horseshoe Piles > Spring Wall",
           50,
           2.7
          ],
          [
           "Mongoloid",
           "2022-07-04",
           "California > Sierra Eastside > Mammoth Lakes Area > Lake George > Dike Wall > North Face",
           60,
           2.3
          ],
          [
           "Black Lassie",
           "2022-07-04",
           "California > Sierra Eastside > Mammoth Lakes Area > Lake George > Dike Wall > East Face",
           80,
           3.4
          ],
          [
           "Sideshow",
           "2022-07-02",
           "California > Sierra Eastside > Mammoth Lakes Area > Rock Creek > Gong Show Wall",
           100,
           3.4
          ],
          [
           "He She",
           "2022-07-02",
           "California > Sierra Eastside > Mammoth Lakes Area > Rock Creek > Gong Show Wall",
           130,
           3.6
          ],
          [
           "Economique",
           "2022-06-18",
           "California > Central Coast > Hwy 33/Ojai > Wheeler Gorge",
           80,
           3.1
          ],
          [
           "Blush",
           "2022-06-18",
           "California > Central Coast > Hwy 33/Ojai > Wheeler Gorge",
           60,
           2.8
          ],
          [
           "The Surprise",
           "2022-05-29",
           "California > Yosemite National Park > Yosemite Valley > Valley North Side > E. Yosemite Falls Area > Five Open Books > First Tier",
           400,
           3.1
          ],
          [
           "Werner's Ant Trees",
           "2022-05-29",
           "California > Yosemite National Park > Yosemite Valley > Valley North Side > E. Yosemite Falls Area > Five Open Books > First Tier",
           75,
           3.1
          ],
          [
           "Outer Limits",
           "2022-05-13",
           "California > Yosemite National Park > Yosemite Valley > Lower Merced River Canyon > Aj. Cookie Area > The Cookie Cliff",
           190,
           3.8
          ],
          [
           "Beverly's Tower",
           "2022-05-13",
           "California > Yosemite National Park > Yosemite Valley > Lower Merced River Canyon > Aj. Cookie Area > The Cookie Cliff",
           100,
           2.7
          ],
          [
           "No Man Knows the Hour",
           "2022-05-07",
           "California > Central Coast > Santa Barbara > Lower Mission Canyon / Seven Falls > Upper Theology Crag",
           110,
           2.8
          ],
          [
           "Chimps Ahoy",
           "2022-04-16",
           "California > Los Angeles Basin > Santa Monica Mountains > Malibu Creek State Park > Stumbling Blocks",
           80,
           2.5
          ],
          [
           "Sons of Yesterday",
           "2022-04-09",
           "California > Yosemite National Park > Yosemite Valley > Valley North Side > H. Royal Arches Area > Royal Arches > Western Royal Arches",
           600,
           3.9
          ],
          [
           "Serenity Crack",
           "2022-04-09",
           "California > Yosemite National Park > Yosemite Valley > Valley North Side > H. Royal Arches Area > Royal Arches > Western Royal Arches",
           350,
           3.8
          ],
          [
           "Have a Beer with Fear",
           "2022-03-13",
           "Nevada > Southern Nevada > Red Rocks > 01-Calico Basin > Cannibal Crag",
           60,
           2.7
          ],
          [
           "What's Eating You",
           "2022-03-13",
           "Nevada > Southern Nevada > Red Rocks > 01-Calico Basin > Cannibal Crag",
           60,
           2.2
          ],
          [
           "Caustic Cock",
           "2022-03-13",
           "Nevada > Southern Nevada > Red Rocks > 01-Calico Basin > Cannibal Crag",
           40,
           3.4
          ],
          [
           "The Walker Spur",
           "2022-03-12",
           "Nevada > Southern Nevada > Red Rocks > 10-Pine Creek Canyon > Mescalito > East Face",
           550,
           3.3
          ],
          [
           "Small Purchase",
           "2022-03-12",
           "Nevada > Southern Nevada > Red Rocks > 10-Pine Creek Canyon > Magic Mountain > North Face",
           100,
           3.4
          ],
          [
           "Bone Saw",
           "2022-03-11",
           "Nevada > Southern Nevada > Red Rocks > 16-Black Velvet Canyon > The Monument",
           55,
           2.5
          ],
          [
           "Handbone",
           "2022-03-11",
           "Nevada > Southern Nevada > Red Rocks > 16-Black Velvet Canyon > The Monument",
           70,
           3.3
          ],
          [
           "The Gobbler",
           "2022-03-11",
           "Nevada > Southern Nevada > Red Rocks > 16-Black Velvet Canyon > Black Velvet Wall",
           200,
           3.2
          ],
          [
           "Cockblock",
           "2022-02-05",
           "California > Los Angeles Basin > Santa Monica Mountains > Malibu Creek State Park > Stumbling Blocks",
           40,
           2.5
          ],
          [
           "Skeezer Pleaser",
           "2022-02-05",
           "California > Los Angeles Basin > Santa Monica Mountains > Malibu Creek State Park > Ghetto Wall",
           45,
           2.8
          ],
          [
           "Dick Pics",
           "2022-02-05",
           "California > Los Angeles Basin > Santa Monica Mountains > Malibu Creek State Park > Mt. Gorgeous",
           50,
           2.6
          ],
          [
           "Johnny Can't Lead",
           "2022-02-05",
           "California > Los Angeles Basin > Santa Monica Mountains > Malibu Creek State Park > Ghetto Wall",
           40,
           3.2
          ],
          [
           "The Third Degree",
           "2022-01-23",
           "California > Los Angeles Basin > Santa Monica Mountains > Malibu Creek State Park > Stumbling Blocks",
           70,
           2.4
          ],
          [
           "Guerilla Drilla",
           "2022-01-23",
           "California > Los Angeles Basin > Santa Monica Mountains > Malibu Creek State Park > Stumbling Blocks",
           70,
           2.4
          ],
          [
           "Gorgeous",
           "2022-01-23",
           "California > Los Angeles Basin > Santa Monica Mountains > Malibu Creek State Park > Mt. Gorgeous",
           60,
           2.7
          ],
          [
           "Luscious",
           "2022-01-23",
           "California > Los Angeles Basin > Santa Monica Mountains > Malibu Creek State Park > Mt. Gorgeous",
           60,
           3.1
          ],
          [
           "Rain Dance",
           "2022-01-15",
           "Nevada > Southern Nevada > Red Rocks > 16-Black Velvet Canyon > Whiskey Peak > North Face",
           130,
           2.8
          ],
          [
           "Run For Your Life",
           "2021-12-04",
           "California > Joshua Tree National Park > Hidden Valley Area > Real Hidden Valley > Tumbling Rainbow Formation",
           90,
           3.7
          ],
          [
           "Illusion Dweller",
           "2021-12-04",
           "California > Joshua Tree National Park > Hidden Valley Area > Real Hidden Valley > The Sentinel > The Sentinel - West Face",
           100,
           3.8
          ],
          [
           "Dancin' with a God",
           "2021-11-07",
           "Nevada > Southern Nevada > Red Rocks > 04-Second Pullout (Calico II) > The Black Corridor > Upper Level > Upper Level - Left",
           50,
           2.6
          ],
          [
           "Rebel Without a Pause",
           "2021-11-07",
           "Nevada > Southern Nevada > Red Rocks > 04-Second Pullout (Calico II) > The Black Corridor > Upper Level > Upper Level - Right",
           50,
           3
          ],
          [
           "Slot Machine",
           "2021-11-06",
           "Nevada > Southern Nevada > Red Rocks > 10-Pine Creek Canyon > Mescalito > Dark Shadows Wall",
           70,
           3.3
          ],
          [
           "Risky Business",
           "2021-11-06",
           "Nevada > Southern Nevada > Red Rocks > 10-Pine Creek Canyon > Mescalito > Dark Shadows Wall",
           400,
           3.8
          ],
          [
           "Sour Mash",
           "2021-11-05",
           "Nevada > Southern Nevada > Red Rocks > 16-Black Velvet Canyon > Black Velvet Wall",
           600,
           3.6
          ],
          [
           "Bittersweet",
           "2021-10-30",
           "California > Los Angeles Basin > Santa Monica Mountains > Echo Cliffs > Chocolate Wall",
           70,
           2.6
          ],
          [
           "Keyhole Flake",
           "2021-10-21",
           "Utah > Southeast Utah > Indian Creek > Supercrack Buttress",
           70,
           3.1
          ],
          [
           "Gorilla",
           "2021-10-21",
           "Utah > Southeast Utah > Indian Creek > Supercrack Buttress",
           70,
           3.1
          ],
          [
           "Bad Rad Duality",
           "2021-10-21",
           "Utah > Southeast Utah > Indian Creek > Supercrack Buttress",
           120,
           3.5
          ],
          [
           "Unnamed 38 - wide to fists and kind of wavy",
           "2021-10-20",
           "Utah > Southeast Utah > Indian Creek > Reservoir Wall",
           65,
           2.8
          ],
          [
           "Ernie Used to Box",
           "2021-10-20",
           "Utah > Southeast Utah > Indian Creek > Reservoir Wall",
           100,
           3.8
          ],
          [
           "Warm-Up Handcrack",
           "2021-10-20",
           "Utah > Southeast Utah > Indian Creek > Reservoir Wall",
           100,
           3.7
          ],
          [
           "Where's Carruthers?",
           "2021-10-18",
           "Utah > Southeast Utah > Indian Creek > Scarface",
           60,
           2.7
          ],
          [
           "Wavy Gravy",
           "2021-10-18",
           "Utah > Southeast Utah > Indian Creek > Scarface",
           70,
           3.2
          ],
          [
           "Divide and Conquer",
           "2021-10-17",
           "Utah > Southeast Utah > Indian Creek > Sparks Wall",
           100,
           3.1
          ],
          [
           "Go Sparky Go",
           "2021-10-17",
           "Utah > Southeast Utah > Indian Creek > Sparks Wall",
           70,
           3.4
          ],
          [
           "Jupiter Crack",
           "2021-10-17",
           "Utah > Southeast Utah > Indian Creek > Sparks Wall",
           130,
           3.9
          ],
          [
           "Purple Rain",
           "2021-10-16",
           "Utah > Southeast Utah > Indian Creek > Technicolor Wall",
           70,
           2.7
          ],
          [
           "On the Up and Up",
           "2021-10-16",
           "Utah > Southeast Utah > Indian Creek > Technicolor Wall",
           70,
           3.2
          ],
          [
           "Whale's Back",
           "2021-10-16",
           "Utah > Southeast Utah > Indian Creek > Technicolor Wall",
           120,
           3.7
          ],
          [
           "Salathe (pitch 1)",
           "2021-09-16",
           "California > Yosemite National Park > Yosemite Valley > Valley North Side > B. El Capitan > 1. Base Routes > Southwest Base > Moby Dick and Pterodactyl Terrace",
           160,
           3.8
          ],
          [
           "Americano",
           "2021-09-03",
           "California > Los Angeles Basin > Santa Monica Mountains > Echo Cliffs > Java Wall",
           100,
           3
          ],
          [
           "Great Race",
           "2021-08-29",
           "California > Central Coast > Santa Barbara > San Ysidro",
           70,
           3
          ],
          [
           "Dark Star",
           "2021-08-21",
           "California > High Sierra > 09 - Palisades & Surrounding Peaks > Temple Crag",
           2000,
           3.4
          ],
          [
           "V8 Crack",
           "2021-08-20",
           "California > Sierra Eastside > Bishop Area > Cardinal Pinnacle",
           80,
           3.9
          ],
          [
           "Crack Kingdom",
           "2021-08-20",
           "California > Sierra Eastside > Bishop Area > Cardinal Pinnacle",
           550,
           3.5
          ],
          [
           "Little Sheba",
           "2021-07-23",
           "California > Yosemite National Park > Tuolumne Meadows > Lamb Dome > West Face of the Lamb",
           110,
           3.3
          ],
          [
           "Black Lassie",
           "2021-07-22",
           "California > Sierra Eastside > Mammoth Lakes Area > Lake George > Dike Wall > East Face",
           80,
           3.4
          ],
          [
           "Cromagnon",
           "2021-07-22",
           "California > Sierra Eastside > Mammoth Lakes Area > Lake George > Dike Wall > East Face",
           80,
           3.7
          ],
          [
           "Mongoloid",
           "2021-07-22",
           "California > Sierra Eastside > Mammoth Lakes Area > Lake George > Dike Wall > North Face",
           60,
           2.3
          ],
          [
           "Grim Reality",
           "2021-07-22",
           "California > Sierra Eastside > Mammoth Lakes Area > Lake George > Dike Wall > East Face",
           90,
           2.2
          ],
          [
           "Black Dihedral",
           "2021-07-20",
           "California > Sierra Eastside > Mammoth Lakes Area > Lake George > Dike Wall > East Face",
           70,
           3.4
          ],
          [
           "Direct Northwest Face",
           "2021-06-05",
           "California > Yosemite National Park > Tuolumne Meadows > Lembert Dome > Northwest Face",
           400,
           3.4
          ],
          [
           "Third Pillar, Regular Route",
           "2021-06-04",
           "California > Sierra Eastside > Lee Vining Canyon / Tioga Road > Dana Plateau",
           800,
           3.8
          ],
          [
           "Faithful Friend",
           "2021-06-03",
           "California > Sierra Eastside > Mammoth Lakes Area > Horseshoe Lake Area > Sunshine Wall",
           100,
           2.4
          ],
          [
           "Edgehog",
           "2021-06-03",
           "California > Sierra Eastside > Mammoth Lakes Area > Horseshoe Lake Area > Sunshine Wall",
           100,
           2.4
          ],
          [
           "Kung Fu Fighter",
           "2021-05-13",
           "Utah > Southwest Utah > Zion National Park > Mount Carmel Tunnel > Kung Fu Theater",
           450,
           3.6
          ],
          [
           "The Headache",
           "2021-05-13",
           "Utah > Southwest Utah > Zion National Park > Mount Carmel Tunnel > Headache Area",
           380,
           3.9
          ],
          [
           "X Files",
           "2021-05-02",
           "California > Los Angeles Basin > Santa Monica Mountains > Malibu Creek State Park > Stumbling Blocks",
           30,
           2.1
          ],
          [
           "Mr. Big",
           "2021-05-02",
           "California > Los Angeles Basin > Santa Monica Mountains > Malibu Creek State Park > Stumbling Blocks",
           35,
           3.1
          ],
          [
           "The Fox",
           "2021-04-11",
           "Nevada > Southern Nevada > Red Rocks > 01-Calico Basin > The Fox Area",
           150,
           3.9
          ],
          [
           "Unimpeachable Groping",
           "2021-04-09",
           "Nevada > Southern Nevada > Red Rocks > 11-Juniper Canyon > Ginger Buttress",
           760,
           3.5
          ],
          [
           "Tea Bag",
           "2021-03-27",
           "California > Los Angeles Basin > Santa Monica Mountains > Echo Cliffs > The Tea Room",
           85,
           3
          ],
          [
           "English Breakfast Tea",
           "2021-03-27",
           "California > Los Angeles Basin > Santa Monica Mountains > Echo Cliffs > The Tea Room",
           80,
           2.5
          ],
          [
           "Fen Gliddich",
           "2021-03-27",
           "California > Los Angeles Basin > Santa Monica Mountains > Echo Cliffs > The Tea Room",
           85,
           2.8
          ],
          [
           "Darjeeling Extra Fancy",
           "2021-03-27",
           "California > Los Angeles Basin > Santa Monica Mountains > Echo Cliffs > The Tea Room",
           85,
           2.6
          ],
          [
           "Irish Car Bomb",
           "2021-03-27",
           "California > Los Angeles Basin > Santa Monica Mountains > Echo Cliffs > The Tea Room",
           80,
           2.6
          ],
          [
           "Casey at the Bat",
           "2021-03-27",
           "California > Los Angeles Basin > Santa Monica Mountains > Echo Cliffs > Easy Street",
           100,
           3
          ],
          [
           "Too Proud to Ignore",
           "2021-03-21",
           "California > Sierra Eastside > Bishop Area > Owens River Gorge > Upper Gorge > Dihedrals",
           40,
           2.6
          ],
          [
           "Slackjaw",
           "2021-03-21",
           "California > Sierra Eastside > Bishop Area > Owens River Gorge > Upper Gorge > Dihedrals",
           80,
           2.8
          ],
          [
           "Life During Wartime",
           "2021-03-21",
           "California > Sierra Eastside > Bishop Area > Owens River Gorge > Upper Gorge > Dihedrals",
           80,
           2.8
          ],
          [
           "Nirvana",
           "2021-03-14",
           "California > Sierra Eastside > Bishop Area > Owens River Gorge > Central Gorge > Upper Crust",
           70,
           2.3
          ],
          [
           "Hardly Wallbanger",
           "2021-03-14",
           "California > Sierra Eastside > Bishop Area > Owens River Gorge > Central Gorge > Pub Wall",
           90,
           3.6
          ],
          [
           "Spinal Fracture",
           "2021-03-09",
           "California > Sierra Eastside > Bishop Area > Owens River Gorge > Central Gorge > Social Platform",
           70,
           3.2
          ],
          [
           "Glitter Gulch",
           "2021-02-28",
           "Nevada > Southern Nevada > Red Rocks > 04-Second Pullout (Calico II) > Sweet Pain Wall",
           65,
           3.4
          ],
          [
           "Bring Out Your Dead",
           "2021-02-20",
           "California > Central Coast > Santa Barbara > Renaissance Crag",
           40,
           2.2
          ],
          [
           "Pirates on Horseback",
           "2021-02-13",
           "California > Sierra Eastside > Lone Pine Area > Alabama Hills > Alabama Hills North > The Shark's Fin",
           50,
           2.5
          ],
          [
           "Espresso",
           "2021-02-10",
           "California > Los Angeles Basin > Santa Monica Mountains > Echo Cliffs > Java Wall",
           90,
           3.2
          ],
          [
           "B-Line",
           "2021-02-06",
           "California > Los Angeles Basin > Santa Monica Mountains > Echo Cliffs > Left Flank",
           90,
           2.3
          ],
          [
           "Broken Glass",
           "2021-01-31",
           "California > Joshua Tree National Park > Hidden Valley Area > Real Hidden Valley > Gateway Rock",
           60,
           2.4
          ],
          [
           "Bird on a Wire",
           "2021-01-30",
           "California > Joshua Tree National Park > Lost Horse Area > Lost Horse Wall > Lost Horse Wall - Right Side",
           330,
           3.3
          ],
          [
           "The Paw",
           "2021-01-30",
           "California > Joshua Tree National Park > Central Joshua Tree > Echo Rock Area > Little Hunk > Little Hunk - SW Face > SW Face Right (Monkey Business Wall)",
           35,
           2.1
          ],
          [
           "Roofing Company",
           "2021-01-30",
           "California > Joshua Tree National Park > Central Joshua Tree > Echo Rock Area > Little Hunk > Little Hunk - SW Face > SW Face Right (Monkey Business Wall)",
           50,
           2.2
          ],
          [
           "Mic's Master",
           "2021-01-17",
           "Nevada > Southern Nevada > Red Rocks > 05-Sandstone Quarry > Wake Up Wall Area > The Wake-Up Wall",
           55,
           2.7
          ],
          [
           "The Last Drag",
           "2021-01-17",
           "Nevada > Southern Nevada > Red Rocks > 05-Sandstone Quarry > Wake Up Wall Area > The Wake-Up Wall",
           50,
           2.4
          ],
          [
           "First Born",
           "2021-01-17",
           "Nevada > Southern Nevada > Red Rocks > 05-Sandstone Quarry > Wake Up Wall Area > The Wake-Up Wall",
           65,
           1.9
          ],
          [
           "Spanky Spangler",
           "2021-01-17",
           "Nevada > Southern Nevada > Red Rocks > 05-Sandstone Quarry > Wake Up Wall Area > The Wake-Up Wall",
           65,
           2.7
          ],
          [
           "Fall of Vegas",
           "2021-01-17",
           "Nevada > Southern Nevada > Red Rocks > 05-Sandstone Quarry > Wake Up Wall Area > The Wake-Up Wall",
           50,
           2.3
          ],
          [
           "Mushroom People",
           "2021-01-15",
           "Nevada > Southern Nevada > Red Rocks > 10-Pine Creek Canyon > Brass Wall",
           100,
           3.4
          ],
          [
           "Delicious",
           "2020-12-12",
           "California > Los Angeles Basin > Santa Monica Mountains > Malibu Creek State Park > Mt. Gorgeous",
           85,
           3
          ],
          [
           "Family Jewel",
           "2020-12-12",
           "California > Los Angeles Basin > Santa Monica Mountains > Malibu Creek State Park > Mt. Gorgeous",
           50,
           2.9
          ],
          [
           "Stuart's Rig (aka Stu Boy)",
           "2020-12-05",
           "California > Central Coast > Hwy 33/Ojai > Wheeler Gorge",
           75,
           2.7
          ],
          [
           "Pigs In Space",
           "2020-11-22",
           "Utah > Southeast Utah > Indian Creek > Battle of the Bulge Buttress",
           120,
           2.9
          ],
          [
           "Casey's Route",
           "2020-11-21",
           "Utah > Southeast Utah > Indian Creek > The Optimator",
           70,
           2.7
          ],
          [
           "Ditch 'em",
           "2020-11-21",
           "Utah > Southeast Utah > Indian Creek > The Optimator",
           50,
           2.6
          ],
          [
           "Lady Pillar",
           "2020-11-21",
           "Utah > Southeast Utah > Indian Creek > The Optimator",
           110,
           2.6
          ],
          [
           "Hayutake",
           "2020-11-21",
           "Utah > Southeast Utah > Indian Creek > The Optimator",
           120,
           3.2
          ],
          [
           "Neat",
           "2020-11-21",
           "Utah > Southeast Utah > Indian Creek > The Optimator",
           100,
           3.2
          ],
          [
           "Dirty Woman",
           "2020-11-20",
           "Utah > Southeast Utah > Indian Creek > The Wall",
           35,
           2.1
          ],
          [
           "Freebird",
           "2020-11-20",
           "Utah > Southeast Utah > Indian Creek > The Wall",
           60,
           3.1
          ],
          [
           "Run Like Hell",
           "2020-11-20",
           "Utah > Southeast Utah > Indian Creek > The Wall",
           70,
           3.5
          ],
          [
           "3AM Crack",
           "2020-11-19",
           "Utah > Southeast Utah > Indian Creek > Supercrack Buttress",
           115,
           3.5
          ],
          [
           "Princess Buttercup",
           "2020-11-18",
           "Utah > Southeast Utah > Indian Creek > Cliffs of Insanity",
           70,
           3
          ],
          [
           "Iocane Powder",
           "2020-11-18",
           "Utah > Southeast Utah > Indian Creek > Cliffs of Insanity",
           35,
           2.5
          ],
          [
           "Blue Sun",
           "2020-11-15",
           "Utah > Southeast Utah > Indian Creek > Way Rambo",
           70,
           3.6
          ],
          [
           "Elephant Man",
           "2020-11-14",
           "Utah > Southeast Utah > Indian Creek > Donnelly Canyon",
           80,
           2.5
          ],
          [
           "Owl Crack",
           "2020-11-14",
           "Utah > Southeast Utah > Indian Creek > Donnelly Canyon",
           80,
           3.1
          ],
          [
           "Idiot Parade (aka Need to Rest)",
           "2020-10-18",
           "Nevada > Southern Nevada > Red Rocks > 04-Second Pullout (Calico II) > The Black Corridor > Lower Level > Lower Level - Right",
           50,
           2.9
          ],
          [
           "Vagabonds",
           "2020-10-18",
           "Nevada > Southern Nevada > Red Rocks > 04-Second Pullout (Calico II) > The Black Corridor > Lower Level > Lower Level - Left",
           70,
           2.7
          ],
          [
           "Atman",
           "2020-10-17",
           "Nevada > Southern Nevada > Red Rocks > 01-Calico Basin > Kraft Mountain Area > Yin and Yang Cliff",
           40,
           3.1
          ],
          [
           "Miss Conception",
           "2020-10-16",
           "Nevada > Southern Nevada > Red Rocks > 16-Black Velvet Canyon > Whiskey Peak > North Face",
           200,
           2.8
          ],
          [
           "Spark Plug",
           "2020-10-16",
           "Nevada > Southern Nevada > Red Rocks > 16-Black Velvet Canyon > Black Velvet Wall",
           100,
           3
          ],
          [
           "Sand Felipe",
           "2020-10-16",
           "Nevada > Southern Nevada > Red Rocks > 16-Black Velvet Canyon > Whiskey Peak > North Face",
           110,
           2.6
          ],
          [
           "Face the Seam",
           "2020-10-12",
           "California > Central Coast > Santa Barbara > Fire Crags",
           35,
           2
          ],
          [
           "Gorgeous",
           "2020-09-26",
           "California > Los Angeles Basin > Santa Monica Mountains > Malibu Creek State Park > Mt. Gorgeous",
           60,
           2.7
          ],
          [
           "Jensen's Jugs",
           "2020-09-14",
           "California > Central Coast > Santa Barbara > Fire Crags",
           50,
           2.4
          ],
          [
           "Miss Apprehension",
           "2020-09-06",
           "California > Yosemite National Park > Tuolumne Meadows > Olmsted Area > Olmsted Canyon Right",
           55,
           2
          ],
          [
           "Crying Time Again",
           "2020-08-28",
           "California > Yosemite National Park > Tuolumne Meadows > Lembert Dome > Northwest Face",
           400,
           3.5
          ],
          [
           "But I Don't Drink Scotch",
           "2020-08-15",
           "California > Sierra Eastside > Mammoth Lakes Area > Lake George > Crystal Crag > Highlands Wall",
           100,
           2.7
          ],
          [
           "Springbank",
           "2020-08-15",
           "California > Sierra Eastside > Mammoth Lakes Area > Lake George > Crystal Crag > Highlands Wall",
           90,
           3.6
          ],
          [
           "Gridlock",
           "2020-08-09",
           "California > Central Coast > Hwy 33/Ojai > Wheeler Gorge",
           65,
           2.6
          ],
          [
           "Sick Boy",
           "2020-08-09",
           "California > Central Coast > Hwy 33/Ojai > Wheeler Gorge",
           55,
           3
          ],
          [
           "Cucumbers",
           "2020-07-17",
           "California > Sierra Eastside > Bishop Area > Cardinal Pinnacle",
           350,
           3.2
          ],
          [
           "West Face",
           "2020-07-17",
           "California > Sierra Eastside > Bishop Area > Cardinal Pinnacle",
           550,
           3.8
          ],
          [
           "Cut the Cord",
           "2020-07-11",
           "California > Los Angeles Basin > Santa Monica Mountains > Malibu Creek State Park > Ghetto Wall",
           30,
           2.1
          ],
          [
           "Kathmandu",
           "2020-07-11",
           "California > Los Angeles Basin > Santa Monica Mountains > Malibu Creek State Park > Ghetto Wall",
           35,
           2.6
          ],
          [
           "Careful, There's A Beverage Here!",
           "2020-06-21",
           "California > Central Coast > Santa Barbara > The Playground > Little Lebowski Urban Achievers Crag",
           50,
           2.2
          ],
          [
           "Airy Interlude",
           "2020-06-13",
           "California > Southern-Western Sierra > Southern Sierra - The Needles, Kern River, Domelands, etc. > The Needles > The Witch",
           70,
           3.9
          ],
          [
           "The Gibbon",
           "2020-05-10",
           "California > Central Coast > Santa Barbara > Gibraltar Area > Upper Gibraltar",
           100,
           2.5
          ],
          [
           "T-Crack",
           "2020-04-24",
           "California > Central Coast > Santa Barbara > Gibraltar Area > Gibraltar Rock",
           60,
           3.7
          ],
          [
           "Triassic Sands",
           "2020-02-07",
           "Nevada > Southern Nevada > Red Rocks > 16-Black Velvet Canyon > Whiskey Peak > North Face",
           700,
           3.8
          ],
          [
           "No Calculators Allowed",
           "2019-11-16",
           "California > Joshua Tree National Park > Hidden Valley Area > Real Hidden Valley > The Thin Wall",
           50,
           2.6
          ],
          [
           "Fisticuffs",
           "2019-11-16",
           "California > Joshua Tree National Park > Hidden Valley Area > Real Hidden Valley > Tumbling Rainbow Formation",
           30,
           2.9
          ],
          [
           "Crack   6",
           "2019-11-15",
           "California > Joshua Tree National Park > Pinto Basin > Split Rocks > Split Rocks West > Isles in the Sky > Isles Corridor > Isles Corridor - Left Side",
           50,
           2.9
          ],
          [
           "Bird of Fire",
           "2019-11-15",
           "California > Joshua Tree National Park > Pinto Basin > Split Rocks > Split Rocks West > Isles in the Sky > Isles in the Sky (Northeast Face)",
           80,
           3.8
          ],
          [
           "Moubit",
           "2019-11-09",
           "California > Joshua Tree National Park > Pinto Basin > Split Rocks > Split Rocks West > Isles in the Sky > Isles Corridor > Isles Corridor - Right Side",
           60,
           2.3
          ],
          [
           "The Guillotine",
           "2019-11-02",
           "California > Los Angeles Basin > Santa Monica Mountains > Echo Cliffs > The Alcove",
           90,
           3.4
          ],
          [
           "Caution: Falling Snakes",
           "2019-10-06",
           "California > Central Coast > Santa Barbara > Invisible Wall > Lower Main Wall",
           70,
           3
          ],
          [
           "Raised On Robbery",
           "2019-09-05",
           "Wyoming > Laramie Area > Vedauwoo > Blair (overview) > Lower Blair I, II, III, and vicinity > Lower Blair I",
           70,
           3.5
          ],
          [
           "McTech Arete",
           "2019-08-27",
           "International > North America > Canada > British Columbia > Bugaboos > Crescent Spire",
           500,
           3.8
          ],
          [
           "Arrowroot",
           "2019-08-20",
           "International > North America > Canada > British Columbia > Squamish > Stawamus Chief > Grand Wall Base Area",
           115,
           3.5
          ],
          [
           "Seasoned in the Sun",
           "2019-08-20",
           "International > North America > Canada > British Columbia > Squamish > Stawamus Chief > Grand Wall Base Area",
           95,
           3.6
          ],
          [
           "Coronary Bypass",
           "2019-08-19",
           "International > North America > Canada > British Columbia > Squamish > The Smoke Bluffs > Respiration Rock",
           40,
           2.8
          ],
          [
           "The Ultimate Everything",
           "2019-08-18",
           "International > North America > Canada > British Columbia > Squamish > Stawamus Chief > Echelon Wall",
           1300,
           2.9
          ],
          [
           "Rock On",
           "2019-08-18",
           "International > North America > Canada > British Columbia > Squamish > Stawamus Chief > The Apron",
           400,
           3.6
          ],
          [
           "Hungry, Hungry Hippos",
           "2019-08-16",
           "International > North America > Canada > British Columbia > Squamish > Murrin Park > Commonwealth",
           65,
           2.4
          ],
          [
           "Pop-Sickle",
           "2019-08-16",
           "International > North America > Canada > British Columbia > Squamish > Murrin Park > Commonwealth",
           80,
           2
          ],
          [
           "Neat and Cool Offwidth",
           "2019-08-14",
           "International > North America > Canada > British Columbia > Squamish > The Smoke Bluffs > Neat and Cool",
           70,
           2.4
          ],
          [
           "Flying Circus",
           "2019-08-14",
           "International > North America > Canada > British Columbia > Squamish > The Smoke Bluffs > Neat and Cool",
           100,
           3.6
          ],
          [
           "Rattletale",
           "2019-08-01",
           "Washington > Central-West Cascades & Seattle > Skykomish Valley > Index > Lookout Point Area > Rattletale Wall",
           70,
           3.8
          ],
          [
           "Tofu Crack",
           "2019-05-13",
           "Utah > Southeast Utah > Indian Creek > 2nd Meat Wall",
           115,
           3.3
          ],
          [
           "No Name Crack",
           "2019-05-12",
           "Utah > Southeast Utah > Indian Creek > Supercrack Buttress",
           110,
           3.2
          ],
          [
           "Hot Toddy",
           "2019-05-11",
           "Utah > Southeast Utah > Potash Road > Long Canyon > Maverick Buttress",
           80,
           2.9
          ],
          [
           "Texas Two Step",
           "2019-05-11",
           "Utah > Southeast Utah > Potash Road > Long Canyon > Maverick Buttress",
           70,
           2.7
          ],
          [
           "Pocket  Rocket",
           "2019-05-09",
           "Utah > Southeast Utah > Potash Road > Day Canyon > Day Canyon Cragging Routes",
           65,
           3.5
          ],
          [
           "Dread Pirate Roberts",
           "2019-05-04",
           "Utah > Southeast Utah > Indian Creek > Cliffs of Insanity",
           60,
           3.1
          ],
          [
           "Kelley Route 1",
           "2019-05-04",
           "Utah > Southeast Utah > Indian Creek > Cliffs of Insanity",
           130,
           3.6
          ],
          [
           "Supercrack of the Desert",
           "2019-05-03",
           "Utah > Southeast Utah > Indian Creek > Supercrack Buttress",
           70,
           3.8
          ],
          [
           "Incredible Hand Crack",
           "2019-05-03",
           "Utah > Southeast Utah > Indian Creek > Supercrack Buttress",
           100,
           3.8
          ],
          [
           "Generic Crack",
           "2019-05-02",
           "Utah > Southeast Utah > Indian Creek > Donnelly Canyon",
           120,
           3.4
          ],
          [
           "Dawn of an Age",
           "2019-05-01",
           "Utah > Southeast Utah > Indian Creek > Blue Gramma Cliff",
           50,
           2.5
          ],
          [
           "Kemosabe",
           "2019-04-22",
           "Nevada > Southern Nevada > Red Rocks > 07-Willow Spring > Ragged Edges Area",
           100,
           2.6
          ],
          [
           "Getaway",
           "2019-01-19",
           "California > High Desert > Barstow Area > New Jack City > Box Canyon East > The Getaway",
           65,
           3.3
          ],
          [
           "Holey Moley",
           "2019-01-19",
           "California > High Desert > Barstow Area > New Jack City > Box Canyon East > Raven Rocks > Raven Rocks North Face \"Power Block\" Area",
           90,
           3
          ],
          [
           "Celestial Spheres",
           "2018-12-16",
           "Nevada > Southern Nevada > Red Rocks > 03-First Pullout (Calico I) > Dante's Wall",
           65,
           2.6
          ],
          [
           "Divine Comedy",
           "2018-12-16",
           "Nevada > Southern Nevada > Red Rocks > 03-First Pullout (Calico I) > Dante's Wall",
           65,
           3.3
          ],
          [
           "The Right Road Lost",
           "2018-12-16",
           "Nevada > Southern Nevada > Red Rocks > 03-First Pullout (Calico I) > Dante's Wall",
           50,
           2.6
          ],
          [
           "Ches Game",
           "2018-10-25",
           "California > Central Coast > Santa Barbara > Invisible Wall > Lower Main Wall",
           70,
           2.3
          ],
          [
           "Twice Stung and Forever Shy",
           "2018-10-25",
           "California > Central Coast > Santa Barbara > Invisible Wall > Bug Wall",
           70,
           2.9
          ],
          [
           "Tut",
           "2018-10-21",
           "California > Los Angeles Basin > Santa Monica Mountains > Malibu Creek State Park > Century Lake Area > Little Cheops",
           40,
           2
          ],
          [
           "Power Station",
           "2018-10-21",
           "California > Los Angeles Basin > Santa Monica Mountains > Malibu Creek State Park > Century Lake Area > The Power Wall",
           50,
           2.9
          ],
          [
           "Power Grid",
           "2018-10-21",
           "California > Los Angeles Basin > Santa Monica Mountains > Malibu Creek State Park > Century Lake Area > The Power Wall",
           60,
           2.6
          ],
          [
           "Cleaning Lady",
           "2018-09-17",
           "California > Central Coast > Hwy 33/Ojai > Potrero John",
           80,
           2.8
          ]
         ],
         "hovertemplate": "Name: %{customdata[0]}<br>Date: %{customdata[1]}<br>Location: %{customdata[2]}<br>Length: %{customdata[3]}ft<br>Avg Stars: %{customdata[4]}",
         "legendgroup": "",
         "marker": {
          "color": "#7A4F25",
          "line": {
           "color": "black",
           "width": 2
          },
          "size": 20,
          "symbol": "square"
         },
         "mode": "markers+text",
         "name": "",
         "orientation": "v",
         "showlegend": false,
         "text": [
          24,
          "",
          "",
          "",
          "",
          "",
          "",
          "",
          4,
          2,
          "",
          "",
          "",
          "",
          "",
          "",
          "",
          "",
          "",
          "",
          null,
          2,
          "",
          16,
          null,
          "",
          "",
          "",
          "",
          "",
          "",
          "",
          "",
          "",
          "",
          null,
          null,
          "",
          "",
          "",
          2,
          "",
          "",
          "",
          "",
          2,
          "",
          "",
          "",
          "",
          "",
          2,
          "",
          "",
          "",
          "",
          "",
          2,
          2,
          "",
          2,
          "",
          "",
          null,
          "",
          "",
          "",
          "",
          "",
          2,
          "",
          "",
          "",
          "",
          "",
          "",
          "",
          "",
          "",
          "",
          "",
          "",
          "",
          "",
          "",
          "",
          "",
          "",
          "",
          2,
          "",
          "",
          "",
          "",
          "",
          "",
          3,
          3,
          2,
          "",
          "",
          "",
          "",
          "",
          "",
          "",
          "",
          null,
          "",
          "",
          "",
          "",
          "",
          "",
          "",
          "",
          "",
          "",
          "",
          "",
          "",
          "",
          "",
          "",
          "",
          5,
          "",
          "",
          "",
          "",
          "",
          "",
          "",
          "",
          "",
          "",
          "",
          2,
          2,
          2,
          "",
          "",
          "",
          "",
          "",
          "",
          "",
          "",
          "",
          2,
          "",
          "",
          "",
          "",
          "",
          "",
          "",
          3,
          "",
          "",
          "",
          3,
          "",
          4,
          "",
          "",
          "",
          "",
          "",
          "",
          "",
          "",
          "",
          "",
          "",
          "",
          "",
          12,
          "",
          "",
          "",
          "",
          "",
          "",
          "",
          "",
          "",
          "",
          "",
          "",
          "",
          "",
          "",
          "",
          "",
          "",
          "",
          "",
          "",
          "",
          "",
          "",
          "",
          "",
          "",
          "",
          2,
          "",
          "",
          "",
          "",
          "",
          "",
          "",
          "",
          "",
          "",
          "",
          "",
          "",
          ""
         ],
         "textfont": {
          "color": "White",
          "size": 12
         },
         "type": "scatter",
         "x": [
          "2022-12-21T00:00:00",
          "2022-11-25T00:00:00",
          "2022-11-24T00:00:00",
          "2022-11-24T00:00:00",
          "2022-11-20T00:00:00",
          "2022-11-19T00:00:00",
          "2022-11-19T00:00:00",
          "2022-11-19T00:00:00",
          "2022-11-05T00:00:00",
          "2022-11-05T00:00:00",
          "2022-11-05T00:00:00",
          "2022-10-21T00:00:00",
          "2022-10-20T00:00:00",
          "2022-10-20T00:00:00",
          "2022-10-20T00:00:00",
          "2022-10-17T00:00:00",
          "2022-10-17T00:00:00",
          "2022-10-17T00:00:00",
          "2022-10-15T00:00:00",
          "2022-10-15T00:00:00",
          "2022-10-14T00:00:00",
          "2022-10-14T00:00:00",
          "2022-10-14T00:00:00",
          "2022-10-08T00:00:00",
          "2022-10-08T00:00:00",
          "2022-10-01T00:00:00",
          "2022-08-20T00:00:00",
          "2022-07-22T00:00:00",
          "2022-07-17T00:00:00",
          "2022-07-17T00:00:00",
          "2022-07-09T00:00:00",
          "2022-07-08T00:00:00",
          "2022-07-06T00:00:00",
          "2022-07-06T00:00:00",
          "2022-07-05T00:00:00",
          "2022-07-04T00:00:00",
          "2022-07-04T00:00:00",
          "2022-07-02T00:00:00",
          "2022-07-02T00:00:00",
          "2022-06-18T00:00:00",
          "2022-06-18T00:00:00",
          "2022-05-29T00:00:00",
          "2022-05-29T00:00:00",
          "2022-05-13T00:00:00",
          "2022-05-13T00:00:00",
          "2022-05-07T00:00:00",
          "2022-04-16T00:00:00",
          "2022-04-09T00:00:00",
          "2022-04-09T00:00:00",
          "2022-03-13T00:00:00",
          "2022-03-13T00:00:00",
          "2022-03-13T00:00:00",
          "2022-03-12T00:00:00",
          "2022-03-12T00:00:00",
          "2022-03-11T00:00:00",
          "2022-03-11T00:00:00",
          "2022-03-11T00:00:00",
          "2022-02-05T00:00:00",
          "2022-02-05T00:00:00",
          "2022-02-05T00:00:00",
          "2022-02-05T00:00:00",
          "2022-01-23T00:00:00",
          "2022-01-23T00:00:00",
          "2022-01-23T00:00:00",
          "2022-01-23T00:00:00",
          "2022-01-15T00:00:00",
          "2021-12-04T00:00:00",
          "2021-12-04T00:00:00",
          "2021-11-07T00:00:00",
          "2021-11-07T00:00:00",
          "2021-11-06T00:00:00",
          "2021-11-06T00:00:00",
          "2021-11-05T00:00:00",
          "2021-10-30T00:00:00",
          "2021-10-21T00:00:00",
          "2021-10-21T00:00:00",
          "2021-10-21T00:00:00",
          "2021-10-20T00:00:00",
          "2021-10-20T00:00:00",
          "2021-10-20T00:00:00",
          "2021-10-18T00:00:00",
          "2021-10-18T00:00:00",
          "2021-10-17T00:00:00",
          "2021-10-17T00:00:00",
          "2021-10-17T00:00:00",
          "2021-10-16T00:00:00",
          "2021-10-16T00:00:00",
          "2021-10-16T00:00:00",
          "2021-09-16T00:00:00",
          "2021-09-03T00:00:00",
          "2021-08-29T00:00:00",
          "2021-08-21T00:00:00",
          "2021-08-20T00:00:00",
          "2021-08-20T00:00:00",
          "2021-07-23T00:00:00",
          "2021-07-22T00:00:00",
          "2021-07-22T00:00:00",
          "2021-07-22T00:00:00",
          "2021-07-22T00:00:00",
          "2021-07-20T00:00:00",
          "2021-06-05T00:00:00",
          "2021-06-04T00:00:00",
          "2021-06-03T00:00:00",
          "2021-06-03T00:00:00",
          "2021-05-13T00:00:00",
          "2021-05-13T00:00:00",
          "2021-05-02T00:00:00",
          "2021-05-02T00:00:00",
          "2021-04-11T00:00:00",
          "2021-04-09T00:00:00",
          "2021-03-27T00:00:00",
          "2021-03-27T00:00:00",
          "2021-03-27T00:00:00",
          "2021-03-27T00:00:00",
          "2021-03-27T00:00:00",
          "2021-03-27T00:00:00",
          "2021-03-21T00:00:00",
          "2021-03-21T00:00:00",
          "2021-03-21T00:00:00",
          "2021-03-14T00:00:00",
          "2021-03-14T00:00:00",
          "2021-03-09T00:00:00",
          "2021-02-28T00:00:00",
          "2021-02-20T00:00:00",
          "2021-02-13T00:00:00",
          "2021-02-10T00:00:00",
          "2021-02-06T00:00:00",
          "2021-01-31T00:00:00",
          "2021-01-30T00:00:00",
          "2021-01-30T00:00:00",
          "2021-01-30T00:00:00",
          "2021-01-17T00:00:00",
          "2021-01-17T00:00:00",
          "2021-01-17T00:00:00",
          "2021-01-17T00:00:00",
          "2021-01-17T00:00:00",
          "2021-01-15T00:00:00",
          "2020-12-12T00:00:00",
          "2020-12-12T00:00:00",
          "2020-12-05T00:00:00",
          "2020-11-22T00:00:00",
          "2020-11-21T00:00:00",
          "2020-11-21T00:00:00",
          "2020-11-21T00:00:00",
          "2020-11-21T00:00:00",
          "2020-11-21T00:00:00",
          "2020-11-20T00:00:00",
          "2020-11-20T00:00:00",
          "2020-11-20T00:00:00",
          "2020-11-19T00:00:00",
          "2020-11-18T00:00:00",
          "2020-11-18T00:00:00",
          "2020-11-15T00:00:00",
          "2020-11-14T00:00:00",
          "2020-11-14T00:00:00",
          "2020-10-18T00:00:00",
          "2020-10-18T00:00:00",
          "2020-10-17T00:00:00",
          "2020-10-16T00:00:00",
          "2020-10-16T00:00:00",
          "2020-10-16T00:00:00",
          "2020-10-12T00:00:00",
          "2020-09-26T00:00:00",
          "2020-09-14T00:00:00",
          "2020-09-06T00:00:00",
          "2020-08-28T00:00:00",
          "2020-08-15T00:00:00",
          "2020-08-15T00:00:00",
          "2020-08-09T00:00:00",
          "2020-08-09T00:00:00",
          "2020-07-17T00:00:00",
          "2020-07-17T00:00:00",
          "2020-07-11T00:00:00",
          "2020-07-11T00:00:00",
          "2020-06-21T00:00:00",
          "2020-06-13T00:00:00",
          "2020-05-10T00:00:00",
          "2020-04-24T00:00:00",
          "2020-02-07T00:00:00",
          "2019-11-16T00:00:00",
          "2019-11-16T00:00:00",
          "2019-11-15T00:00:00",
          "2019-11-15T00:00:00",
          "2019-11-09T00:00:00",
          "2019-11-02T00:00:00",
          "2019-10-06T00:00:00",
          "2019-09-05T00:00:00",
          "2019-08-27T00:00:00",
          "2019-08-20T00:00:00",
          "2019-08-20T00:00:00",
          "2019-08-19T00:00:00",
          "2019-08-18T00:00:00",
          "2019-08-18T00:00:00",
          "2019-08-16T00:00:00",
          "2019-08-16T00:00:00",
          "2019-08-14T00:00:00",
          "2019-08-14T00:00:00",
          "2019-08-01T00:00:00",
          "2019-05-13T00:00:00",
          "2019-05-12T00:00:00",
          "2019-05-11T00:00:00",
          "2019-05-11T00:00:00",
          "2019-05-09T00:00:00",
          "2019-05-04T00:00:00",
          "2019-05-04T00:00:00",
          "2019-05-03T00:00:00",
          "2019-05-03T00:00:00",
          "2019-05-02T00:00:00",
          "2019-05-01T00:00:00",
          "2019-04-22T00:00:00",
          "2019-01-19T00:00:00",
          "2019-01-19T00:00:00",
          "2018-12-16T00:00:00",
          "2018-12-16T00:00:00",
          "2018-12-16T00:00:00",
          "2018-10-25T00:00:00",
          "2018-10-25T00:00:00",
          "2018-10-21T00:00:00",
          "2018-10-21T00:00:00",
          "2018-10-21T00:00:00",
          "2018-09-17T00:00:00"
         ],
         "xaxis": "x",
         "y": [
          "5.11a",
          "5.11a",
          "5.10b",
          "5.10b",
          "5.10b",
          "5.10c",
          "5.10c",
          "5.10b",
          "5.12a",
          "5.11a",
          "5.10d",
          "5.10b",
          "5.10c",
          "5.11a",
          "5.11b",
          "5.10b",
          "5.11a",
          "5.11a",
          "5.10b",
          "5.10b",
          "5.10c",
          "5.10b",
          "5.10b",
          "5.11c",
          "5.10b",
          "5.10a",
          "5.10a",
          "5.10d",
          "5.10c",
          "5.10b",
          "5.10b",
          "5.10b",
          "5.11a",
          "5.10c",
          "5.10b",
          "5.10b",
          "5.10c",
          "5.10a",
          "5.10b",
          "5.10a",
          "5.11a",
          "5.10a",
          "5.10c",
          "5.10c",
          "5.10a",
          "5.10d",
          "5.10a",
          "5.10a",
          "5.10d",
          "5.11b",
          "5.10a",
          "5.11b",
          "5.10b",
          "5.10a",
          "5.10a",
          "5.10b",
          "5.10a",
          "5.10d",
          "5.11b",
          "5.10b",
          "5.11a",
          "5.10b",
          "5.10a",
          "5.10a",
          "5.11b",
          "5.10a",
          "5.10b",
          "5.10b",
          "5.10a",
          "5.11a",
          "5.10b",
          "5.10c",
          "5.10a",
          "5.10c",
          "5.10b",
          "5.10b",
          "5.10c",
          "5.10c",
          "5.10c",
          "5.10b",
          "5.10c",
          "5.10b",
          "5.10c",
          "5.11b",
          "5.11b",
          "5.10b",
          "5.10b",
          "5.10c",
          "5.10c",
          "5.11a",
          "5.10a",
          "5.10c",
          "5.10c",
          "5.10c",
          "5.10a",
          "5.10c",
          "5.10a",
          "5.10b",
          "5.10b",
          "5.10b",
          "5.10b",
          "5.10a",
          "5.10b",
          "5.10a",
          "5.11a",
          "5.10b",
          "5.10c",
          "5.10d",
          "5.10c",
          "5.10b",
          "5.10b",
          "5.10a",
          "5.10a",
          "5.10c",
          "5.10c",
          "5.10b",
          "5.10b",
          "5.10a",
          "5.10a",
          "5.10a",
          "5.10c",
          "5.11a",
          "5.11a",
          "5.10a",
          "5.10b",
          "5.11a",
          "5.10a",
          "5.10a",
          "5.10a",
          "5.10b",
          "5.10a",
          "5.10b",
          "5.10a",
          "5.10b",
          "5.10b",
          "5.10a",
          "5.10c",
          "5.10d",
          "5.10c",
          "5.11a",
          "5.10b",
          "5.10c",
          "5.10b",
          "5.10a",
          "5.10c",
          "5.10b",
          "5.10b",
          "5.10a",
          "5.10b",
          "5.10b",
          "5.10a",
          "5.10a",
          "5.10a",
          "5.10a",
          "5.10b",
          "5.10c",
          "5.10a",
          "5.10a",
          "5.10b",
          "5.10b",
          "5.10a",
          "5.10a",
          "5.10a",
          "5.10c",
          "5.10a",
          "5.10a",
          "5.10a",
          "5.10a",
          "5.10a",
          "5.10b",
          "5.10a",
          "5.10a",
          "5.10b",
          "5.10a",
          "5.10a",
          "5.10a",
          "5.10b",
          "5.10c",
          "5.10b",
          "5.10a",
          "5.10b",
          "5.10a",
          "5.10a",
          "5.10a",
          "5.10a",
          "5.10b",
          "5.10b",
          "5.10a",
          "5.10b",
          "5.10a",
          "5.10a",
          "5.10a",
          "5.10a",
          "5.10a",
          "5.10c",
          "5.10a",
          "5.10a",
          "5.10b",
          "5.10b",
          "5.10b",
          "5.10b",
          "5.10b",
          "5.10c",
          "5.10c",
          "5.10c",
          "5.10b",
          "5.10b",
          "5.10a",
          "5.10b",
          "5.10a",
          "5.10a",
          "5.10a",
          "5.10b",
          "5.10a",
          "5.10a",
          "5.10b",
          "5.10a",
          "5.10a",
          "5.10b",
          "5.10a",
          "5.10b"
         ],
         "yaxis": "y"
        }
       ],
       "layout": {
        "bargap": 0,
        "font": {
         "color": "black",
         "family": "Courier New",
         "size": 20
        },
        "legend": {
         "tracegroupgap": 0
        },
        "margin": {
         "t": 60
        },
        "paper_bgcolor": "#ece5dc",
        "plot_bgcolor": "#F5D3A5",
        "template": {
         "data": {
          "bar": [
           {
            "error_x": {
             "color": "#2a3f5f"
            },
            "error_y": {
             "color": "#2a3f5f"
            },
            "marker": {
             "line": {
              "color": "#E5ECF6",
              "width": 0.5
             },
             "pattern": {
              "fillmode": "overlay",
              "size": 10,
              "solidity": 0.2
             }
            },
            "type": "bar"
           }
          ],
          "barpolar": [
           {
            "marker": {
             "line": {
              "color": "#E5ECF6",
              "width": 0.5
             },
             "pattern": {
              "fillmode": "overlay",
              "size": 10,
              "solidity": 0.2
             }
            },
            "type": "barpolar"
           }
          ],
          "carpet": [
           {
            "aaxis": {
             "endlinecolor": "#2a3f5f",
             "gridcolor": "white",
             "linecolor": "white",
             "minorgridcolor": "white",
             "startlinecolor": "#2a3f5f"
            },
            "baxis": {
             "endlinecolor": "#2a3f5f",
             "gridcolor": "white",
             "linecolor": "white",
             "minorgridcolor": "white",
             "startlinecolor": "#2a3f5f"
            },
            "type": "carpet"
           }
          ],
          "choropleth": [
           {
            "colorbar": {
             "outlinewidth": 0,
             "ticks": ""
            },
            "type": "choropleth"
           }
          ],
          "contour": [
           {
            "colorbar": {
             "outlinewidth": 0,
             "ticks": ""
            },
            "colorscale": [
             [
              0,
              "#0d0887"
             ],
             [
              0.1111111111111111,
              "#46039f"
             ],
             [
              0.2222222222222222,
              "#7201a8"
             ],
             [
              0.3333333333333333,
              "#9c179e"
             ],
             [
              0.4444444444444444,
              "#bd3786"
             ],
             [
              0.5555555555555556,
              "#d8576b"
             ],
             [
              0.6666666666666666,
              "#ed7953"
             ],
             [
              0.7777777777777778,
              "#fb9f3a"
             ],
             [
              0.8888888888888888,
              "#fdca26"
             ],
             [
              1,
              "#f0f921"
             ]
            ],
            "type": "contour"
           }
          ],
          "contourcarpet": [
           {
            "colorbar": {
             "outlinewidth": 0,
             "ticks": ""
            },
            "type": "contourcarpet"
           }
          ],
          "heatmap": [
           {
            "colorbar": {
             "outlinewidth": 0,
             "ticks": ""
            },
            "colorscale": [
             [
              0,
              "#0d0887"
             ],
             [
              0.1111111111111111,
              "#46039f"
             ],
             [
              0.2222222222222222,
              "#7201a8"
             ],
             [
              0.3333333333333333,
              "#9c179e"
             ],
             [
              0.4444444444444444,
              "#bd3786"
             ],
             [
              0.5555555555555556,
              "#d8576b"
             ],
             [
              0.6666666666666666,
              "#ed7953"
             ],
             [
              0.7777777777777778,
              "#fb9f3a"
             ],
             [
              0.8888888888888888,
              "#fdca26"
             ],
             [
              1,
              "#f0f921"
             ]
            ],
            "type": "heatmap"
           }
          ],
          "heatmapgl": [
           {
            "colorbar": {
             "outlinewidth": 0,
             "ticks": ""
            },
            "colorscale": [
             [
              0,
              "#0d0887"
             ],
             [
              0.1111111111111111,
              "#46039f"
             ],
             [
              0.2222222222222222,
              "#7201a8"
             ],
             [
              0.3333333333333333,
              "#9c179e"
             ],
             [
              0.4444444444444444,
              "#bd3786"
             ],
             [
              0.5555555555555556,
              "#d8576b"
             ],
             [
              0.6666666666666666,
              "#ed7953"
             ],
             [
              0.7777777777777778,
              "#fb9f3a"
             ],
             [
              0.8888888888888888,
              "#fdca26"
             ],
             [
              1,
              "#f0f921"
             ]
            ],
            "type": "heatmapgl"
           }
          ],
          "histogram": [
           {
            "marker": {
             "pattern": {
              "fillmode": "overlay",
              "size": 10,
              "solidity": 0.2
             }
            },
            "type": "histogram"
           }
          ],
          "histogram2d": [
           {
            "colorbar": {
             "outlinewidth": 0,
             "ticks": ""
            },
            "colorscale": [
             [
              0,
              "#0d0887"
             ],
             [
              0.1111111111111111,
              "#46039f"
             ],
             [
              0.2222222222222222,
              "#7201a8"
             ],
             [
              0.3333333333333333,
              "#9c179e"
             ],
             [
              0.4444444444444444,
              "#bd3786"
             ],
             [
              0.5555555555555556,
              "#d8576b"
             ],
             [
              0.6666666666666666,
              "#ed7953"
             ],
             [
              0.7777777777777778,
              "#fb9f3a"
             ],
             [
              0.8888888888888888,
              "#fdca26"
             ],
             [
              1,
              "#f0f921"
             ]
            ],
            "type": "histogram2d"
           }
          ],
          "histogram2dcontour": [
           {
            "colorbar": {
             "outlinewidth": 0,
             "ticks": ""
            },
            "colorscale": [
             [
              0,
              "#0d0887"
             ],
             [
              0.1111111111111111,
              "#46039f"
             ],
             [
              0.2222222222222222,
              "#7201a8"
             ],
             [
              0.3333333333333333,
              "#9c179e"
             ],
             [
              0.4444444444444444,
              "#bd3786"
             ],
             [
              0.5555555555555556,
              "#d8576b"
             ],
             [
              0.6666666666666666,
              "#ed7953"
             ],
             [
              0.7777777777777778,
              "#fb9f3a"
             ],
             [
              0.8888888888888888,
              "#fdca26"
             ],
             [
              1,
              "#f0f921"
             ]
            ],
            "type": "histogram2dcontour"
           }
          ],
          "mesh3d": [
           {
            "colorbar": {
             "outlinewidth": 0,
             "ticks": ""
            },
            "type": "mesh3d"
           }
          ],
          "parcoords": [
           {
            "line": {
             "colorbar": {
              "outlinewidth": 0,
              "ticks": ""
             }
            },
            "type": "parcoords"
           }
          ],
          "pie": [
           {
            "automargin": true,
            "type": "pie"
           }
          ],
          "scatter": [
           {
            "fillpattern": {
             "fillmode": "overlay",
             "size": 10,
             "solidity": 0.2
            },
            "type": "scatter"
           }
          ],
          "scatter3d": [
           {
            "line": {
             "colorbar": {
              "outlinewidth": 0,
              "ticks": ""
             }
            },
            "marker": {
             "colorbar": {
              "outlinewidth": 0,
              "ticks": ""
             }
            },
            "type": "scatter3d"
           }
          ],
          "scattercarpet": [
           {
            "marker": {
             "colorbar": {
              "outlinewidth": 0,
              "ticks": ""
             }
            },
            "type": "scattercarpet"
           }
          ],
          "scattergeo": [
           {
            "marker": {
             "colorbar": {
              "outlinewidth": 0,
              "ticks": ""
             }
            },
            "type": "scattergeo"
           }
          ],
          "scattergl": [
           {
            "marker": {
             "colorbar": {
              "outlinewidth": 0,
              "ticks": ""
             }
            },
            "type": "scattergl"
           }
          ],
          "scattermapbox": [
           {
            "marker": {
             "colorbar": {
              "outlinewidth": 0,
              "ticks": ""
             }
            },
            "type": "scattermapbox"
           }
          ],
          "scatterpolar": [
           {
            "marker": {
             "colorbar": {
              "outlinewidth": 0,
              "ticks": ""
             }
            },
            "type": "scatterpolar"
           }
          ],
          "scatterpolargl": [
           {
            "marker": {
             "colorbar": {
              "outlinewidth": 0,
              "ticks": ""
             }
            },
            "type": "scatterpolargl"
           }
          ],
          "scatterternary": [
           {
            "marker": {
             "colorbar": {
              "outlinewidth": 0,
              "ticks": ""
             }
            },
            "type": "scatterternary"
           }
          ],
          "surface": [
           {
            "colorbar": {
             "outlinewidth": 0,
             "ticks": ""
            },
            "colorscale": [
             [
              0,
              "#0d0887"
             ],
             [
              0.1111111111111111,
              "#46039f"
             ],
             [
              0.2222222222222222,
              "#7201a8"
             ],
             [
              0.3333333333333333,
              "#9c179e"
             ],
             [
              0.4444444444444444,
              "#bd3786"
             ],
             [
              0.5555555555555556,
              "#d8576b"
             ],
             [
              0.6666666666666666,
              "#ed7953"
             ],
             [
              0.7777777777777778,
              "#fb9f3a"
             ],
             [
              0.8888888888888888,
              "#fdca26"
             ],
             [
              1,
              "#f0f921"
             ]
            ],
            "type": "surface"
           }
          ],
          "table": [
           {
            "cells": {
             "fill": {
              "color": "#EBF0F8"
             },
             "line": {
              "color": "white"
             }
            },
            "header": {
             "fill": {
              "color": "#C8D4E3"
             },
             "line": {
              "color": "white"
             }
            },
            "type": "table"
           }
          ]
         },
         "layout": {
          "annotationdefaults": {
           "arrowcolor": "#2a3f5f",
           "arrowhead": 0,
           "arrowwidth": 1
          },
          "autotypenumbers": "strict",
          "coloraxis": {
           "colorbar": {
            "outlinewidth": 0,
            "ticks": ""
           }
          },
          "colorscale": {
           "diverging": [
            [
             0,
             "#8e0152"
            ],
            [
             0.1,
             "#c51b7d"
            ],
            [
             0.2,
             "#de77ae"
            ],
            [
             0.3,
             "#f1b6da"
            ],
            [
             0.4,
             "#fde0ef"
            ],
            [
             0.5,
             "#f7f7f7"
            ],
            [
             0.6,
             "#e6f5d0"
            ],
            [
             0.7,
             "#b8e186"
            ],
            [
             0.8,
             "#7fbc41"
            ],
            [
             0.9,
             "#4d9221"
            ],
            [
             1,
             "#276419"
            ]
           ],
           "sequential": [
            [
             0,
             "#0d0887"
            ],
            [
             0.1111111111111111,
             "#46039f"
            ],
            [
             0.2222222222222222,
             "#7201a8"
            ],
            [
             0.3333333333333333,
             "#9c179e"
            ],
            [
             0.4444444444444444,
             "#bd3786"
            ],
            [
             0.5555555555555556,
             "#d8576b"
            ],
            [
             0.6666666666666666,
             "#ed7953"
            ],
            [
             0.7777777777777778,
             "#fb9f3a"
            ],
            [
             0.8888888888888888,
             "#fdca26"
            ],
            [
             1,
             "#f0f921"
            ]
           ],
           "sequentialminus": [
            [
             0,
             "#0d0887"
            ],
            [
             0.1111111111111111,
             "#46039f"
            ],
            [
             0.2222222222222222,
             "#7201a8"
            ],
            [
             0.3333333333333333,
             "#9c179e"
            ],
            [
             0.4444444444444444,
             "#bd3786"
            ],
            [
             0.5555555555555556,
             "#d8576b"
            ],
            [
             0.6666666666666666,
             "#ed7953"
            ],
            [
             0.7777777777777778,
             "#fb9f3a"
            ],
            [
             0.8888888888888888,
             "#fdca26"
            ],
            [
             1,
             "#f0f921"
            ]
           ]
          },
          "colorway": [
           "#636efa",
           "#EF553B",
           "#00cc96",
           "#ab63fa",
           "#FFA15A",
           "#19d3f3",
           "#FF6692",
           "#B6E880",
           "#FF97FF",
           "#FECB52"
          ],
          "font": {
           "color": "#2a3f5f"
          },
          "geo": {
           "bgcolor": "white",
           "lakecolor": "white",
           "landcolor": "#E5ECF6",
           "showlakes": true,
           "showland": true,
           "subunitcolor": "white"
          },
          "hoverlabel": {
           "align": "left"
          },
          "hovermode": "closest",
          "mapbox": {
           "style": "light"
          },
          "paper_bgcolor": "white",
          "plot_bgcolor": "#E5ECF6",
          "polar": {
           "angularaxis": {
            "gridcolor": "white",
            "linecolor": "white",
            "ticks": ""
           },
           "bgcolor": "#E5ECF6",
           "radialaxis": {
            "gridcolor": "white",
            "linecolor": "white",
            "ticks": ""
           }
          },
          "scene": {
           "xaxis": {
            "backgroundcolor": "#E5ECF6",
            "gridcolor": "white",
            "gridwidth": 2,
            "linecolor": "white",
            "showbackground": true,
            "ticks": "",
            "zerolinecolor": "white"
           },
           "yaxis": {
            "backgroundcolor": "#E5ECF6",
            "gridcolor": "white",
            "gridwidth": 2,
            "linecolor": "white",
            "showbackground": true,
            "ticks": "",
            "zerolinecolor": "white"
           },
           "zaxis": {
            "backgroundcolor": "#E5ECF6",
            "gridcolor": "white",
            "gridwidth": 2,
            "linecolor": "white",
            "showbackground": true,
            "ticks": "",
            "zerolinecolor": "white"
           }
          },
          "shapedefaults": {
           "line": {
            "color": "#2a3f5f"
           }
          },
          "ternary": {
           "aaxis": {
            "gridcolor": "white",
            "linecolor": "white",
            "ticks": ""
           },
           "baxis": {
            "gridcolor": "white",
            "linecolor": "white",
            "ticks": ""
           },
           "bgcolor": "#E5ECF6",
           "caxis": {
            "gridcolor": "white",
            "linecolor": "white",
            "ticks": ""
           }
          },
          "title": {
           "x": 0.05
          },
          "xaxis": {
           "automargin": true,
           "gridcolor": "white",
           "linecolor": "white",
           "ticks": "",
           "title": {
            "standoff": 15
           },
           "zerolinecolor": "white",
           "zerolinewidth": 2
          },
          "yaxis": {
           "automargin": true,
           "gridcolor": "white",
           "linecolor": "white",
           "ticks": "",
           "title": {
            "standoff": 15
           },
           "zerolinecolor": "white",
           "zerolinewidth": 2
          }
         }
        },
        "title": {
         "font": {
          "size": 30
         },
         "text": "<b>Send by Date</b>",
         "x": 0.5
        },
        "xaxis": {
         "anchor": "y",
         "domain": [
          0,
          1
         ],
         "title": {
          "text": "Date"
         }
        },
        "yaxis": {
         "anchor": "x",
         "categoryarray": [
          "5.0",
          "5.1",
          "5.2",
          "5.3",
          "5.4",
          "5.5",
          "5.6",
          "5.7",
          "5.8",
          "5.9",
          "5.10a",
          "5.10b",
          "5.10c",
          "5.10d",
          "5.11a",
          "5.11b",
          "5.11c",
          "5.11d",
          "5.12a",
          "5.12b",
          "5.12c",
          "5.12d",
          "5.13a",
          "5.13b",
          "5.13c",
          "5.13d",
          "5.14a",
          "5.14b",
          "5.14c",
          "5.14d",
          "5.15a",
          "5.15b",
          "5.15c",
          "5.15d"
         ],
         "categoryorder": "array",
         "domain": [
          0,
          1
         ],
         "title": {
          "text": "Grade"
         }
        }
       }
      }
     },
     "metadata": {},
     "output_type": "display_data"
    }
   ],
   "source": [
    "fig = px.scatter(df_clean_sends_r, \"Date\", \"Rating\", category_orders={\"Rating\": ryaxorder[::-1]}, text='Attempts', custom_data=['Route', 'Date Formatted', 'Location', 'Length', 'Avg Stars'])\n",
    "fig.update_layout(font={'family':'Courier New', 'color':'black', 'size':20}, title={'text':'<b>Send by Date</b>', 'x':0.5, 'font_size':30}, xaxis={'title': 'Date'}, yaxis={'title': 'Grade'}, paper_bgcolor='#ece5dc', plot_bgcolor='#F5D3A5', bargap=0)\n",
    "fig.update_traces(marker_symbol='square', marker_color='#7A4F25', marker_size=20, marker_line_width=2, marker_line_color='black', textfont={\"color\": 'White', \"size\": 12}, hovertemplate='Name: %{customdata[0]}<br>Date: %{customdata[1]}<br>Location: %{customdata[2]}<br>Length: %{customdata[3]}ft<br>Avg Stars: %{customdata[4]}')"
   ]
  },
  {
   "cell_type": "code",
   "execution_count": 103,
   "metadata": {},
   "outputs": [
    {
     "data": {
      "application/vnd.plotly.v1+json": {
       "config": {
        "plotlyServerURL": "https://plot.ly"
       },
       "data": [
        {
         "alignmentgroup": "True",
         "customdata": [
          [
           "Le Bernd",
           "2022-12-10",
           "California > Central Coast > Santa Barbara > * Santa Barbara Bouldering > West Nile Boulder (aka The Creek Boulder)",
           12,
           2.9
          ],
          [
           "West Nile (aka The Warmup)",
           "2022-12-10",
           "California > Central Coast > Santa Barbara > * Santa Barbara Bouldering > West Nile Boulder (aka The Creek Boulder)",
           12,
           2.3
          ],
          [
           "Problem A",
           "2022-10-02",
           "California > San Jacinto Mountains > Black Mountain > Boulder Basin > South Basin > Transmaniacon Boulder",
           12,
           2
          ],
          [
           "Problem B",
           "2022-10-02",
           "California > San Jacinto Mountains > Black Mountain > Boulder Basin > South Basin > Transmaniacon Boulder",
           15,
           2
          ],
          [
           "Gypsy's Day Out",
           "2022-10-02",
           "California > San Jacinto Mountains > Black Mountain > Boulder Basin > North Basin > Little Saigon Boulder",
           10,
           3.2
          ],
          [
           "Under Rover traverse",
           "2022-07-30",
           "California > Central Coast > Santa Barbara > * Santa Barbara Bouldering > The Brickyard > Charlotte's Web Area",
           15,
           2.8
          ],
          [
           "Old and In the Way",
           "2022-07-30",
           "California > Central Coast > Santa Barbara > * Santa Barbara Bouldering > The Brickyard > Dancing Outlaw Boulder",
           12,
           2.8
          ],
          [
           "Jason's Favorite",
           "2022-07-30",
           "California > Central Coast > Santa Barbara > * Santa Barbara Bouldering > The Brickyard > Ant Boulder",
           15,
           2.4
          ],
          [
           "Pirate Booty",
           "2022-02-13",
           "California > Sierra Eastside > Bishop Area > Volcanic Tablelands (Happy/Sad Boulders) > Happy Boulders > Wavy Gravy Area > Slap Happy Boulder",
           10,
           2.4
          ],
          [
           "Slap Happy",
           "2022-02-13",
           "California > Sierra Eastside > Bishop Area > Volcanic Tablelands (Happy/Sad Boulders) > Happy Boulders > Wavy Gravy Area > Slap Happy Boulder",
           12,
           2.9
          ],
          [
           "Solarium",
           "2022-02-13",
           "California > Sierra Eastside > Bishop Area > Volcanic Tablelands (Happy/Sad Boulders) > Happy Boulders > Central Happiness Area > Solarium Boulder",
           15,
           3.2
          ],
          [
           "Weekender",
           "2022-02-13",
           "California > Sierra Eastside > Bishop Area > Volcanic Tablelands (Happy/Sad Boulders) > Happy Boulders > Slow Dance/Gleaner Area > Slow Dance Cave",
           20,
           3.1
          ],
          [
           "Johnnie Big Mouth",
           "2022-01-02",
           "California > Central Coast > Santa Barbara > * Santa Barbara Bouldering > The Lizard's Mouth > Kelly's Hill",
           10,
           3.4
          ],
          [
           "Shaken, Not Stirred",
           "2022-01-02",
           "California > Central Coast > Santa Barbara > * Santa Barbara Bouldering > The Lizard's Mouth > Femme Fatale Area",
           14,
           3.4
          ],
          [
           "Treasure of the Sierra Madre",
           "2022-01-02",
           "California > Central Coast > Santa Barbara > * Santa Barbara Bouldering > The Lizard's Mouth > The Big Heat",
           11,
           2.4
          ],
          [
           "There's Friendlier Places to Drink",
           "2022-01-02",
           "California > Central Coast > Santa Barbara > * Santa Barbara Bouldering > The Lizard's Mouth > Femme Fatale Area",
           10,
           1.8
          ],
          [
           "Le Fissure King",
           "2021-04-02",
           "California > Central Coast > Santa Barbara > * Santa Barbara Bouldering > Skofield Park > Cracked Boulder",
           12,
           2.8
          ],
          [
           "West Nile (aka The Warmup)",
           "2021-02-25",
           "California > Central Coast > Santa Barbara > * Santa Barbara Bouldering > West Nile Boulder (aka The Creek Boulder)",
           12,
           2.3
          ],
          [
           "Sunset Delight",
           "2021-02-24",
           "California > Central Coast > Santa Barbara > * Santa Barbara Bouldering > The Creamery > Dairy Boulder",
           12,
           2.3
          ],
          [
           "Buckets Forever",
           "2021-02-20",
           "California > Central Coast > Santa Barbara > * Santa Barbara Bouldering > The Creamery > Frigidaire Boulder",
           15,
           2.8
          ],
          [
           "False Hueco",
           "2021-01-02",
           "California > Joshua Tree National Park > *Joshua Tree Bouldering* > Hidden Valley Area Bouldering > Outback Bouldering > False Hueco Boulder",
           11,
           2.7
          ],
          [
           "Ace in the Hole",
           "2020-09-29",
           "California > Central Coast > Santa Barbara > * Santa Barbara Bouldering > The Lizard's Mouth > Meilee Area",
           12,
           3.1
          ],
          [
           "Jump Start",
           "2020-07-24",
           "California > Central Coast > Santa Barbara > * Santa Barbara Bouldering > The Lizard's Mouth > Kelly's Hill",
           8,
           1.7
          ],
          [
           "5.11 Crack",
           "2020-07-24",
           "California > Central Coast > Santa Barbara > * Santa Barbara Bouldering > The Lizard's Mouth > Kelly's Hill",
           12,
           3.3
          ],
          [
           "Dan's Problem",
           "2020-07-07",
           "California > Central Coast > Santa Barbara > * Santa Barbara Bouldering > Potter's Point > Rapunzel's Tower",
           12,
           3.1
          ],
          [
           "Warm Up  2",
           "2020-07-03",
           "California > Central Coast > Santa Barbara > * Santa Barbara Bouldering > Potter's Point > Entry Way/ Warm-Up Boulders",
           8,
           2.6
          ],
          [
           "Morning Glory",
           "2020-07-03",
           "California > Central Coast > Santa Barbara > * Santa Barbara Bouldering > Potter's Point > Morning Glory",
           15,
           3.4
          ],
          [
           "Mr. Wrinkles, the Irritable Insurance Salesman",
           "2020-07-03",
           "California > Central Coast > Santa Barbara > * Santa Barbara Bouldering > Potter's Point > Morning Glory",
           15,
           2.3
          ],
          [
           "Old Gregg",
           "2020-07-03",
           "California > Central Coast > Santa Barbara > * Santa Barbara Bouldering > Potter's Point > Jacked and Tan",
           10,
           3
          ],
          [
           "Allen's Route",
           "2020-07-03",
           "California > Central Coast > Santa Barbara > * Santa Barbara Bouldering > Potter's Point > Jacked and Tan",
           12,
           2.8
          ],
          [
           "The Fang",
           "2020-03-15",
           "California > Sierra Eastside > Bishop Area > Volcanic Tablelands (Happy/Sad Boulders) > Sad Boulders > Sad Parrot Area > The Bird Cage Boulder",
           15,
           3.5
          ],
          [
           "Crystal",
           "2020-03-15",
           "California > Sierra Eastside > Bishop Area > Volcanic Tablelands (Happy/Sad Boulders) > Sad Boulders > Prozac Nation Bluffs > Crystal Boulder",
           15,
           2.6
          ],
          [
           "Shoehorn",
           "2019-10-13",
           "California > Central Coast > Santa Barbara > * Santa Barbara Bouldering > The Brickyard > The Owl Farm",
           12,
           2.8
          ],
          [
           "Charlotte's Web",
           "2019-10-13",
           "California > Central Coast > Santa Barbara > * Santa Barbara Bouldering > The Brickyard > Charlotte's Web Area",
           20,
           3.2
          ],
          [
           "Lizards' Mouth Traverse",
           "2019-10-13",
           "California > Central Coast > Santa Barbara > * Santa Barbara Bouldering > The Lizard's Mouth > The Mouth",
           40,
           3.5
          ],
          [
           "The Butthole",
           "2019-10-13",
           "California > Central Coast > Santa Barbara > * Santa Barbara Bouldering > The Lizard's Mouth > The Mouth",
           14,
           3
          ],
          [
           "Plumbers Crack (North side chimney)",
           "2019-04-24",
           "Nevada > Southern Nevada > Red Rock Bouldering > Kraft Boulders > Plumber's Crack",
           25,
           3.7
          ],
          [
           "Plumber's Crack",
           "2019-04-24",
           "Nevada > Southern Nevada > Red Rock Bouldering > Kraft Boulders > Plumber's Crack",
           40,
           3.6
          ],
          [
           "Spacehopper",
           "2019-01-02",
           "California > Sierra Eastside > Bishop Area > Volcanic Tablelands (Happy/Sad Boulders) > Sad Boulders > Central Joyless Area",
           15,
           1.8
          ],
          [
           "Bouncing Babies",
           "2019-01-02",
           "California > Sierra Eastside > Bishop Area > Volcanic Tablelands (Happy/Sad Boulders) > Sad Boulders > Central Joyless Area",
           12,
           1.5
          ],
          [
           "Unnamed",
           "2019-01-02",
           "California > Sierra Eastside > Bishop Area > Volcanic Tablelands (Happy/Sad Boulders) > Sad Boulders > Central Joyless Area",
           12,
           1.2
          ],
          [
           "Fire Pit",
           "2019-01-02",
           "California > Sierra Eastside > Bishop Area > Volcanic Tablelands (Happy/Sad Boulders) > Sad Boulders > Prozac Nation Bluffs > The Snapper Boulder",
           18,
           3.1
          ],
          [
           "Prozac Nation",
           "2019-01-02",
           "California > Sierra Eastside > Bishop Area > Volcanic Tablelands (Happy/Sad Boulders) > Sad Boulders > Prozac Nation Bluffs > Prozac Nation Boulder",
           15,
           3.1
          ],
          [
           "Monkey Hang",
           "2018-12-31",
           "California > Sierra Eastside > Bishop Area > Volcanic Tablelands (Happy/Sad Boulders) > Happy Boulders > Slow Dance/Gleaner Area > Monkey Hang Boulder",
           12,
           2.9
          ],
          [
           "Heavenly Path",
           "2018-12-31",
           "California > Sierra Eastside > Bishop Area > Volcanic Tablelands (Happy/Sad Boulders) > Happy Boulders > Central Happiness Area > Heavenly Path Boulder",
           25,
           3.7
          ],
          [
           "Buttermilk Stem",
           "2018-12-30",
           "California > Sierra Eastside > Bishop Area > Buttermilk Country > Buttermilks Main > Buttermilk Stem Area > Buttermilk Stem Boulder",
           15,
           3.5
          ],
          [
           "Hero Roof",
           "2018-12-30",
           "California > Sierra Eastside > Bishop Area > Buttermilk Country > Buttermilks Main > Iron Man Area > Hero  Roof Boulder",
           14,
           3.4
          ],
          [
           "Birthday Left",
           "2018-12-30",
           "California > Sierra Eastside > Bishop Area > Buttermilk Country > Buttermilks Main > Birthday Boulders",
           10,
           2.3
          ],
          [
           "The Prow",
           "2018-12-30",
           "California > Sierra Eastside > Bishop Area > Buttermilk Country > Buttermilks Main > Birthday Boulders",
           16,
           2.8
          ],
          [
           "The Wave",
           "2018-12-17",
           "Nevada > Southern Nevada > Red Rock Bouldering > Kraft Boulders > The Wave Boulder",
           15,
           3
          ],
          [
           "Sorange",
           "2018-12-17",
           "Nevada > Southern Nevada > Red Rock Bouldering > Kraft Boulders > West Cluster > Sorange Boulder",
           12,
           3.4
          ],
          [
           "Poker Chips",
           "2018-12-14",
           "Nevada > Southern Nevada > Red Rock Bouldering > Kraft Boulders > Potato Chip",
           12,
           3
          ],
          [
           "Plumbers Crack (North side chimney)",
           "2018-12-14",
           "Nevada > Southern Nevada > Red Rock Bouldering > Kraft Boulders > Plumber's Crack",
           25,
           3.7
          ],
          [
           "Monkey Bar",
           "2018-12-14",
           "Nevada > Southern Nevada > Red Rock Bouldering > Kraft Boulders > Monkey Bar Boulder",
           20,
           3.6
          ],
          [
           "Grunge",
           "2018-11-10",
           "California > Joshua Tree National Park > *Joshua Tree Bouldering* > Hidden Valley Area Bouldering > Hidden Valley Campground Bouldering > Manx/Asteroid Belt Circuit > Manx Boulders Circuit > Manx Boulders > Manx Boulders - Northwest Face",
           13,
           1.9
          ],
          [
           "Fishbait",
           "2018-11-10",
           "California > Joshua Tree National Park > *Joshua Tree Bouldering* > Hidden Valley Area Bouldering > Hidden Valley Campground Bouldering > Manx/Asteroid Belt Circuit > Manx Boulders Circuit > Manx Boulders > Manx Boulders - Northwest Face",
           12,
           2
          ],
          [
           "Thingamajig",
           "2018-11-10",
           "California > Joshua Tree National Park > *Joshua Tree Bouldering* > Hidden Valley Area Bouldering > Hidden Valley Campground Bouldering > Manx/Asteroid Belt Circuit > Manx Boulders Circuit > Manx Boulders > Manx Boulders - Southeast Face",
           16,
           2.4
          ],
          [
           "Left Nixon Crack",
           "2018-11-10",
           "California > Joshua Tree National Park > *Joshua Tree Bouldering* > Hidden Valley Area Bouldering > Hidden Valley Campground Bouldering > HVCG Bouldering Circuit > HVCG North > Nixon Cracks",
           18,
           3.3
          ],
          [
           "Problem A",
           "2018-03-25",
           "California > Sierra Eastside > Bishop Area > Volcanic Tablelands (Happy/Sad Boulders) > Happy Boulders > Top Gun Area > Wayko Boulder",
           10,
           1
          ],
          [
           "Giant",
           "2018-03-25",
           "California > Sierra Eastside > Bishop Area > Volcanic Tablelands (Happy/Sad Boulders) > Happy Boulders > Savannah Area > Girlfriend Rock",
           10,
           1.7
          ],
          [
           "Mmm... Nice",
           "2018-03-25",
           "California > Sierra Eastside > Bishop Area > Volcanic Tablelands (Happy/Sad Boulders) > Happy Boulders > Savannah Area > Girlfriend Rock",
           10,
           2
          ],
          [
           "Happy Hooker",
           "2018-03-25",
           "California > Sierra Eastside > Bishop Area > Volcanic Tablelands (Happy/Sad Boulders) > Happy Boulders > Central Happiness Area > More Water, Less Power Boulder",
           10,
           2.1
          ],
          [
           "Grant's Christmas Present",
           "2018-03-25",
           "California > Sierra Eastside > Bishop Area > Volcanic Tablelands (Happy/Sad Boulders) > Happy Boulders > Central Happiness Area > More Water, Less Power Boulder",
           10,
           2.7
          ],
          [
           "Don't Box Me In",
           "2018-03-25",
           "California > Sierra Eastside > Bishop Area > Volcanic Tablelands (Happy/Sad Boulders) > Happy Boulders > Slight Inducement Area > Slight Inducement Boulder",
           10,
           1.5
          ],
          [
           "Amphibian / Junkyard",
           "2018-03-25",
           "California > Sierra Eastside > Bishop Area > Volcanic Tablelands (Happy/Sad Boulders) > Happy Boulders > Slight Inducement Area > Slight Inducement Boulder",
           12,
           2.1
          ],
          [
           "Secret to Success",
           "2018-03-25",
           "California > Sierra Eastside > Bishop Area > Volcanic Tablelands (Happy/Sad Boulders) > Happy Boulders > Slight Inducement Area > Slight Inducement Boulder",
           12,
           2.5
          ],
          [
           "Slight Inducement",
           "2018-03-25",
           "California > Sierra Eastside > Bishop Area > Volcanic Tablelands (Happy/Sad Boulders) > Happy Boulders > Slight Inducement Area > Slight Inducement Boulder",
           12,
           3
          ],
          [
           "Problem A",
           "2018-03-25",
           "California > Sierra Eastside > Bishop Area > Volcanic Tablelands (Happy/Sad Boulders) > Sad Boulders > Ice Caves, Outer Area > Shorty Boulder",
           8,
           1.6
          ],
          [
           "Parliament",
           "2018-03-25",
           "California > Sierra Eastside > Bishop Area > Volcanic Tablelands (Happy/Sad Boulders) > Sad Boulders > Ice Caves, Outer Area > Shorty Boulder",
           8,
           1.8
          ],
          [
           "Funkadella Bdelia",
           "2018-03-25",
           "California > Sierra Eastside > Bishop Area > Volcanic Tablelands (Happy/Sad Boulders) > Sad Boulders > Ice Caves, Outer Area > Shorty Boulder",
           8,
           1.8
          ],
          [
           "Unnamed",
           "2018-03-25",
           "California > Sierra Eastside > Bishop Area > Volcanic Tablelands (Happy/Sad Boulders) > Sad Boulders > Central Joyless Area",
           12,
           1.2
          ],
          [
           "Girl Call",
           "2018-03-25",
           "California > Sierra Eastside > Bishop Area > Volcanic Tablelands (Happy/Sad Boulders) > Sad Boulders > Molly Area",
           20,
           2.5
          ],
          [
           "China Doll",
           "2018-03-24",
           "California > Sierra Eastside > Bishop Area > Volcanic Tablelands (Happy/Sad Boulders) > Sad Boulders > Molly Area",
           18,
           3.3
          ],
          [
           "Single Shot",
           "2018-02-05",
           "California > Central Coast > Santa Barbara > * Santa Barbara Bouldering > The Brickyard > Coffee Boulder",
           13,
           2.7
          ]
         ],
         "hovertemplate": "Name: %{customdata[0]}<br>Date: %{customdata[1]}<br>Location: %{customdata[2]}<br>Length: %{customdata[3]}ft<br>Avg Stars: %{customdata[4]}",
         "legendgroup": "",
         "marker": {
          "color": "#7A4F25",
          "pattern": {
           "shape": ""
          }
         },
         "name": "",
         "offsetgroup": "",
         "orientation": "h",
         "showlegend": false,
         "text": [
          null,
          null,
          null,
          null,
          null,
          null,
          null,
          null,
          null,
          null,
          null,
          null,
          null,
          null,
          null,
          null,
          null,
          null,
          null,
          null,
          null,
          null,
          null,
          null,
          null,
          null,
          null,
          null,
          null,
          null,
          null,
          null,
          null,
          null,
          null,
          null,
          null,
          null,
          null,
          null,
          null,
          null,
          null,
          null,
          null,
          null,
          null,
          null,
          null,
          null,
          null,
          null,
          null,
          null,
          null,
          null,
          null,
          null,
          null,
          null,
          null,
          null,
          null,
          null,
          null,
          null,
          null,
          null,
          null,
          null,
          null,
          null,
          null,
          null
         ],
         "textfont": {
          "color": "White",
          "family": "Arial Black",
          "size": 12
         },
         "textposition": "inside",
         "type": "bar",
         "x": [
          1,
          1,
          1,
          1,
          1,
          1,
          1,
          1,
          1,
          1,
          1,
          1,
          1,
          1,
          1,
          1,
          1,
          1,
          1,
          1,
          1,
          1,
          1,
          1,
          1,
          1,
          1,
          1,
          1,
          1,
          1,
          1,
          1,
          1,
          1,
          1,
          1,
          1,
          1,
          1,
          1,
          1,
          1,
          1,
          1,
          1,
          1,
          1,
          1,
          1,
          1,
          1,
          1,
          1,
          1,
          1,
          1,
          1,
          1,
          1,
          1,
          1,
          1,
          1,
          1,
          1,
          1,
          1,
          1,
          1,
          1,
          1,
          1,
          1
         ],
         "xaxis": "x",
         "y": [
          "V4",
          "V3",
          "V1",
          "V0",
          "V3",
          "V1",
          "V2",
          "V1",
          "V3",
          "V3",
          "V4",
          "V4",
          "V4",
          "V3",
          "V0",
          "V1",
          "V3",
          "V3",
          "V2",
          "V1",
          "V1",
          "V2",
          "V0",
          "V3",
          "V3",
          "V1",
          "V0",
          "V0",
          "V3",
          "V1",
          "V4",
          "V3",
          "V1",
          "V3",
          "V0",
          "V3",
          "V0",
          "V2",
          "V0",
          "V0",
          "V0",
          "V2",
          "V2",
          "V3",
          "V1",
          "V1",
          "V0",
          "V1",
          "V2",
          "V3",
          "V3",
          "V0",
          "V0",
          "V2",
          "V0",
          "V1",
          "V0",
          "V0",
          "V0",
          "V0",
          "V0",
          "V0",
          "V1",
          "V1",
          "V0",
          "V1",
          "V1",
          "V0",
          "V0",
          "V0",
          "V0",
          "V0",
          "V0",
          "V2"
         ],
         "yaxis": "y"
        }
       ],
       "layout": {
        "bargap": 0,
        "barmode": "relative",
        "font": {
         "color": "black",
         "family": "Courier New",
         "size": 18
        },
        "legend": {
         "tracegroupgap": 0
        },
        "margin": {
         "t": 60
        },
        "paper_bgcolor": "#ece5dc",
        "plot_bgcolor": "#F5D3A5",
        "template": {
         "data": {
          "bar": [
           {
            "error_x": {
             "color": "#2a3f5f"
            },
            "error_y": {
             "color": "#2a3f5f"
            },
            "marker": {
             "line": {
              "color": "#E5ECF6",
              "width": 0.5
             },
             "pattern": {
              "fillmode": "overlay",
              "size": 10,
              "solidity": 0.2
             }
            },
            "type": "bar"
           }
          ],
          "barpolar": [
           {
            "marker": {
             "line": {
              "color": "#E5ECF6",
              "width": 0.5
             },
             "pattern": {
              "fillmode": "overlay",
              "size": 10,
              "solidity": 0.2
             }
            },
            "type": "barpolar"
           }
          ],
          "carpet": [
           {
            "aaxis": {
             "endlinecolor": "#2a3f5f",
             "gridcolor": "white",
             "linecolor": "white",
             "minorgridcolor": "white",
             "startlinecolor": "#2a3f5f"
            },
            "baxis": {
             "endlinecolor": "#2a3f5f",
             "gridcolor": "white",
             "linecolor": "white",
             "minorgridcolor": "white",
             "startlinecolor": "#2a3f5f"
            },
            "type": "carpet"
           }
          ],
          "choropleth": [
           {
            "colorbar": {
             "outlinewidth": 0,
             "ticks": ""
            },
            "type": "choropleth"
           }
          ],
          "contour": [
           {
            "colorbar": {
             "outlinewidth": 0,
             "ticks": ""
            },
            "colorscale": [
             [
              0,
              "#0d0887"
             ],
             [
              0.1111111111111111,
              "#46039f"
             ],
             [
              0.2222222222222222,
              "#7201a8"
             ],
             [
              0.3333333333333333,
              "#9c179e"
             ],
             [
              0.4444444444444444,
              "#bd3786"
             ],
             [
              0.5555555555555556,
              "#d8576b"
             ],
             [
              0.6666666666666666,
              "#ed7953"
             ],
             [
              0.7777777777777778,
              "#fb9f3a"
             ],
             [
              0.8888888888888888,
              "#fdca26"
             ],
             [
              1,
              "#f0f921"
             ]
            ],
            "type": "contour"
           }
          ],
          "contourcarpet": [
           {
            "colorbar": {
             "outlinewidth": 0,
             "ticks": ""
            },
            "type": "contourcarpet"
           }
          ],
          "heatmap": [
           {
            "colorbar": {
             "outlinewidth": 0,
             "ticks": ""
            },
            "colorscale": [
             [
              0,
              "#0d0887"
             ],
             [
              0.1111111111111111,
              "#46039f"
             ],
             [
              0.2222222222222222,
              "#7201a8"
             ],
             [
              0.3333333333333333,
              "#9c179e"
             ],
             [
              0.4444444444444444,
              "#bd3786"
             ],
             [
              0.5555555555555556,
              "#d8576b"
             ],
             [
              0.6666666666666666,
              "#ed7953"
             ],
             [
              0.7777777777777778,
              "#fb9f3a"
             ],
             [
              0.8888888888888888,
              "#fdca26"
             ],
             [
              1,
              "#f0f921"
             ]
            ],
            "type": "heatmap"
           }
          ],
          "heatmapgl": [
           {
            "colorbar": {
             "outlinewidth": 0,
             "ticks": ""
            },
            "colorscale": [
             [
              0,
              "#0d0887"
             ],
             [
              0.1111111111111111,
              "#46039f"
             ],
             [
              0.2222222222222222,
              "#7201a8"
             ],
             [
              0.3333333333333333,
              "#9c179e"
             ],
             [
              0.4444444444444444,
              "#bd3786"
             ],
             [
              0.5555555555555556,
              "#d8576b"
             ],
             [
              0.6666666666666666,
              "#ed7953"
             ],
             [
              0.7777777777777778,
              "#fb9f3a"
             ],
             [
              0.8888888888888888,
              "#fdca26"
             ],
             [
              1,
              "#f0f921"
             ]
            ],
            "type": "heatmapgl"
           }
          ],
          "histogram": [
           {
            "marker": {
             "pattern": {
              "fillmode": "overlay",
              "size": 10,
              "solidity": 0.2
             }
            },
            "type": "histogram"
           }
          ],
          "histogram2d": [
           {
            "colorbar": {
             "outlinewidth": 0,
             "ticks": ""
            },
            "colorscale": [
             [
              0,
              "#0d0887"
             ],
             [
              0.1111111111111111,
              "#46039f"
             ],
             [
              0.2222222222222222,
              "#7201a8"
             ],
             [
              0.3333333333333333,
              "#9c179e"
             ],
             [
              0.4444444444444444,
              "#bd3786"
             ],
             [
              0.5555555555555556,
              "#d8576b"
             ],
             [
              0.6666666666666666,
              "#ed7953"
             ],
             [
              0.7777777777777778,
              "#fb9f3a"
             ],
             [
              0.8888888888888888,
              "#fdca26"
             ],
             [
              1,
              "#f0f921"
             ]
            ],
            "type": "histogram2d"
           }
          ],
          "histogram2dcontour": [
           {
            "colorbar": {
             "outlinewidth": 0,
             "ticks": ""
            },
            "colorscale": [
             [
              0,
              "#0d0887"
             ],
             [
              0.1111111111111111,
              "#46039f"
             ],
             [
              0.2222222222222222,
              "#7201a8"
             ],
             [
              0.3333333333333333,
              "#9c179e"
             ],
             [
              0.4444444444444444,
              "#bd3786"
             ],
             [
              0.5555555555555556,
              "#d8576b"
             ],
             [
              0.6666666666666666,
              "#ed7953"
             ],
             [
              0.7777777777777778,
              "#fb9f3a"
             ],
             [
              0.8888888888888888,
              "#fdca26"
             ],
             [
              1,
              "#f0f921"
             ]
            ],
            "type": "histogram2dcontour"
           }
          ],
          "mesh3d": [
           {
            "colorbar": {
             "outlinewidth": 0,
             "ticks": ""
            },
            "type": "mesh3d"
           }
          ],
          "parcoords": [
           {
            "line": {
             "colorbar": {
              "outlinewidth": 0,
              "ticks": ""
             }
            },
            "type": "parcoords"
           }
          ],
          "pie": [
           {
            "automargin": true,
            "type": "pie"
           }
          ],
          "scatter": [
           {
            "fillpattern": {
             "fillmode": "overlay",
             "size": 10,
             "solidity": 0.2
            },
            "type": "scatter"
           }
          ],
          "scatter3d": [
           {
            "line": {
             "colorbar": {
              "outlinewidth": 0,
              "ticks": ""
             }
            },
            "marker": {
             "colorbar": {
              "outlinewidth": 0,
              "ticks": ""
             }
            },
            "type": "scatter3d"
           }
          ],
          "scattercarpet": [
           {
            "marker": {
             "colorbar": {
              "outlinewidth": 0,
              "ticks": ""
             }
            },
            "type": "scattercarpet"
           }
          ],
          "scattergeo": [
           {
            "marker": {
             "colorbar": {
              "outlinewidth": 0,
              "ticks": ""
             }
            },
            "type": "scattergeo"
           }
          ],
          "scattergl": [
           {
            "marker": {
             "colorbar": {
              "outlinewidth": 0,
              "ticks": ""
             }
            },
            "type": "scattergl"
           }
          ],
          "scattermapbox": [
           {
            "marker": {
             "colorbar": {
              "outlinewidth": 0,
              "ticks": ""
             }
            },
            "type": "scattermapbox"
           }
          ],
          "scatterpolar": [
           {
            "marker": {
             "colorbar": {
              "outlinewidth": 0,
              "ticks": ""
             }
            },
            "type": "scatterpolar"
           }
          ],
          "scatterpolargl": [
           {
            "marker": {
             "colorbar": {
              "outlinewidth": 0,
              "ticks": ""
             }
            },
            "type": "scatterpolargl"
           }
          ],
          "scatterternary": [
           {
            "marker": {
             "colorbar": {
              "outlinewidth": 0,
              "ticks": ""
             }
            },
            "type": "scatterternary"
           }
          ],
          "surface": [
           {
            "colorbar": {
             "outlinewidth": 0,
             "ticks": ""
            },
            "colorscale": [
             [
              0,
              "#0d0887"
             ],
             [
              0.1111111111111111,
              "#46039f"
             ],
             [
              0.2222222222222222,
              "#7201a8"
             ],
             [
              0.3333333333333333,
              "#9c179e"
             ],
             [
              0.4444444444444444,
              "#bd3786"
             ],
             [
              0.5555555555555556,
              "#d8576b"
             ],
             [
              0.6666666666666666,
              "#ed7953"
             ],
             [
              0.7777777777777778,
              "#fb9f3a"
             ],
             [
              0.8888888888888888,
              "#fdca26"
             ],
             [
              1,
              "#f0f921"
             ]
            ],
            "type": "surface"
           }
          ],
          "table": [
           {
            "cells": {
             "fill": {
              "color": "#EBF0F8"
             },
             "line": {
              "color": "white"
             }
            },
            "header": {
             "fill": {
              "color": "#C8D4E3"
             },
             "line": {
              "color": "white"
             }
            },
            "type": "table"
           }
          ]
         },
         "layout": {
          "annotationdefaults": {
           "arrowcolor": "#2a3f5f",
           "arrowhead": 0,
           "arrowwidth": 1
          },
          "autotypenumbers": "strict",
          "coloraxis": {
           "colorbar": {
            "outlinewidth": 0,
            "ticks": ""
           }
          },
          "colorscale": {
           "diverging": [
            [
             0,
             "#8e0152"
            ],
            [
             0.1,
             "#c51b7d"
            ],
            [
             0.2,
             "#de77ae"
            ],
            [
             0.3,
             "#f1b6da"
            ],
            [
             0.4,
             "#fde0ef"
            ],
            [
             0.5,
             "#f7f7f7"
            ],
            [
             0.6,
             "#e6f5d0"
            ],
            [
             0.7,
             "#b8e186"
            ],
            [
             0.8,
             "#7fbc41"
            ],
            [
             0.9,
             "#4d9221"
            ],
            [
             1,
             "#276419"
            ]
           ],
           "sequential": [
            [
             0,
             "#0d0887"
            ],
            [
             0.1111111111111111,
             "#46039f"
            ],
            [
             0.2222222222222222,
             "#7201a8"
            ],
            [
             0.3333333333333333,
             "#9c179e"
            ],
            [
             0.4444444444444444,
             "#bd3786"
            ],
            [
             0.5555555555555556,
             "#d8576b"
            ],
            [
             0.6666666666666666,
             "#ed7953"
            ],
            [
             0.7777777777777778,
             "#fb9f3a"
            ],
            [
             0.8888888888888888,
             "#fdca26"
            ],
            [
             1,
             "#f0f921"
            ]
           ],
           "sequentialminus": [
            [
             0,
             "#0d0887"
            ],
            [
             0.1111111111111111,
             "#46039f"
            ],
            [
             0.2222222222222222,
             "#7201a8"
            ],
            [
             0.3333333333333333,
             "#9c179e"
            ],
            [
             0.4444444444444444,
             "#bd3786"
            ],
            [
             0.5555555555555556,
             "#d8576b"
            ],
            [
             0.6666666666666666,
             "#ed7953"
            ],
            [
             0.7777777777777778,
             "#fb9f3a"
            ],
            [
             0.8888888888888888,
             "#fdca26"
            ],
            [
             1,
             "#f0f921"
            ]
           ]
          },
          "colorway": [
           "#636efa",
           "#EF553B",
           "#00cc96",
           "#ab63fa",
           "#FFA15A",
           "#19d3f3",
           "#FF6692",
           "#B6E880",
           "#FF97FF",
           "#FECB52"
          ],
          "font": {
           "color": "#2a3f5f"
          },
          "geo": {
           "bgcolor": "white",
           "lakecolor": "white",
           "landcolor": "#E5ECF6",
           "showlakes": true,
           "showland": true,
           "subunitcolor": "white"
          },
          "hoverlabel": {
           "align": "left"
          },
          "hovermode": "closest",
          "mapbox": {
           "style": "light"
          },
          "paper_bgcolor": "white",
          "plot_bgcolor": "#E5ECF6",
          "polar": {
           "angularaxis": {
            "gridcolor": "white",
            "linecolor": "white",
            "ticks": ""
           },
           "bgcolor": "#E5ECF6",
           "radialaxis": {
            "gridcolor": "white",
            "linecolor": "white",
            "ticks": ""
           }
          },
          "scene": {
           "xaxis": {
            "backgroundcolor": "#E5ECF6",
            "gridcolor": "white",
            "gridwidth": 2,
            "linecolor": "white",
            "showbackground": true,
            "ticks": "",
            "zerolinecolor": "white"
           },
           "yaxis": {
            "backgroundcolor": "#E5ECF6",
            "gridcolor": "white",
            "gridwidth": 2,
            "linecolor": "white",
            "showbackground": true,
            "ticks": "",
            "zerolinecolor": "white"
           },
           "zaxis": {
            "backgroundcolor": "#E5ECF6",
            "gridcolor": "white",
            "gridwidth": 2,
            "linecolor": "white",
            "showbackground": true,
            "ticks": "",
            "zerolinecolor": "white"
           }
          },
          "shapedefaults": {
           "line": {
            "color": "#2a3f5f"
           }
          },
          "ternary": {
           "aaxis": {
            "gridcolor": "white",
            "linecolor": "white",
            "ticks": ""
           },
           "baxis": {
            "gridcolor": "white",
            "linecolor": "white",
            "ticks": ""
           },
           "bgcolor": "#E5ECF6",
           "caxis": {
            "gridcolor": "white",
            "linecolor": "white",
            "ticks": ""
           }
          },
          "title": {
           "x": 0.05
          },
          "xaxis": {
           "automargin": true,
           "gridcolor": "white",
           "linecolor": "white",
           "ticks": "",
           "title": {
            "standoff": 15
           },
           "zerolinecolor": "white",
           "zerolinewidth": 2
          },
          "yaxis": {
           "automargin": true,
           "gridcolor": "white",
           "linecolor": "white",
           "ticks": "",
           "title": {
            "standoff": 15
           },
           "zerolinecolor": "white",
           "zerolinewidth": 2
          }
         }
        },
        "title": {
         "font": {
          "size": 30
         },
         "text": "<b>Climbing Pyramid</b>",
         "x": 0.5
        },
        "xaxis": {
         "anchor": "y",
         "domain": [
          0,
          1
         ],
         "title": {
          "text": "Number of Problems Sent"
         }
        },
        "yaxis": {
         "anchor": "x",
         "categoryarray": [
          "V-easy",
          "V0",
          "V1",
          "V2",
          "V3",
          "V4",
          "V5",
          "V6",
          "V7",
          "V8",
          "V9",
          "V10",
          "V11",
          "V12",
          "V13",
          "V14",
          "V15",
          "V16",
          "V17"
         ],
         "categoryorder": "array",
         "domain": [
          0,
          1
         ],
         "title": {
          "text": "Grade"
         }
        }
       }
      }
     },
     "metadata": {},
     "output_type": "display_data"
    }
   ],
   "source": [
    "fig = px.bar(df_clean_sends_b, y=\"Rating\", orientation='h', category_orders={\"Rating\": byaxorder[::-1]}, text='Attempts', custom_data=['Route', 'Date Formatted', 'Location', 'Length', 'Avg Stars']) # The [::-1] is an inverse slice\n",
    "fig.update_layout(font={'family':'Courier New', 'color':'black', 'size':18}, title={'text':'<b>Climbing Pyramid</b>', 'x':0.5, 'font_size':30}, xaxis={'title': 'Number of Problems Sent'}, yaxis={'title': 'Grade'}, paper_bgcolor='#ece5dc', plot_bgcolor='#F5D3A5', bargap=0)\n",
    "fig.update_traces(marker_color='#7A4F25', textposition = \"inside\", textfont={\"color\": 'White', \"size\": 12, \"family\": 'Arial Black'},  hovertemplate='Name: %{customdata[0]}<br>Date: %{customdata[1]}<br>Location: %{customdata[2]}<br>Length: %{customdata[3]}ft<br>Avg Stars: %{customdata[4]}')\n",
    "# fig.update_traces(marker_color=list(map(lambda x: '#7A4F25' if (x=='') else '#bf9315', df_clean_sends['Attempts'])), textposition = \"inside\",  hovertemplate='Name: %{customdata[0]}<br>Date: %{customdata[1]}<br>Location: %{customdata[2]}<br>Length: %{customdata[3]}ft<br>Avg Stars: %{customdata[4]}')"
   ]
  },
  {
   "cell_type": "code",
   "execution_count": 104,
   "metadata": {},
   "outputs": [
    {
     "data": {
      "application/vnd.plotly.v1+json": {
       "config": {
        "plotlyServerURL": "https://plot.ly"
       },
       "data": [
        {
         "customdata": [
          [
           "Le Bernd",
           "2022-12-10",
           "California > Central Coast > Santa Barbara > * Santa Barbara Bouldering > West Nile Boulder (aka The Creek Boulder)",
           12,
           2.9
          ],
          [
           "West Nile (aka The Warmup)",
           "2022-12-10",
           "California > Central Coast > Santa Barbara > * Santa Barbara Bouldering > West Nile Boulder (aka The Creek Boulder)",
           12,
           2.3
          ],
          [
           "Problem A",
           "2022-10-02",
           "California > San Jacinto Mountains > Black Mountain > Boulder Basin > South Basin > Transmaniacon Boulder",
           12,
           2
          ],
          [
           "Problem B",
           "2022-10-02",
           "California > San Jacinto Mountains > Black Mountain > Boulder Basin > South Basin > Transmaniacon Boulder",
           15,
           2
          ],
          [
           "Gypsy's Day Out",
           "2022-10-02",
           "California > San Jacinto Mountains > Black Mountain > Boulder Basin > North Basin > Little Saigon Boulder",
           10,
           3.2
          ],
          [
           "Under Rover traverse",
           "2022-07-30",
           "California > Central Coast > Santa Barbara > * Santa Barbara Bouldering > The Brickyard > Charlotte's Web Area",
           15,
           2.8
          ],
          [
           "Old and In the Way",
           "2022-07-30",
           "California > Central Coast > Santa Barbara > * Santa Barbara Bouldering > The Brickyard > Dancing Outlaw Boulder",
           12,
           2.8
          ],
          [
           "Jason's Favorite",
           "2022-07-30",
           "California > Central Coast > Santa Barbara > * Santa Barbara Bouldering > The Brickyard > Ant Boulder",
           15,
           2.4
          ],
          [
           "Pirate Booty",
           "2022-02-13",
           "California > Sierra Eastside > Bishop Area > Volcanic Tablelands (Happy/Sad Boulders) > Happy Boulders > Wavy Gravy Area > Slap Happy Boulder",
           10,
           2.4
          ],
          [
           "Slap Happy",
           "2022-02-13",
           "California > Sierra Eastside > Bishop Area > Volcanic Tablelands (Happy/Sad Boulders) > Happy Boulders > Wavy Gravy Area > Slap Happy Boulder",
           12,
           2.9
          ],
          [
           "Solarium",
           "2022-02-13",
           "California > Sierra Eastside > Bishop Area > Volcanic Tablelands (Happy/Sad Boulders) > Happy Boulders > Central Happiness Area > Solarium Boulder",
           15,
           3.2
          ],
          [
           "Weekender",
           "2022-02-13",
           "California > Sierra Eastside > Bishop Area > Volcanic Tablelands (Happy/Sad Boulders) > Happy Boulders > Slow Dance/Gleaner Area > Slow Dance Cave",
           20,
           3.1
          ],
          [
           "Johnnie Big Mouth",
           "2022-01-02",
           "California > Central Coast > Santa Barbara > * Santa Barbara Bouldering > The Lizard's Mouth > Kelly's Hill",
           10,
           3.4
          ],
          [
           "Shaken, Not Stirred",
           "2022-01-02",
           "California > Central Coast > Santa Barbara > * Santa Barbara Bouldering > The Lizard's Mouth > Femme Fatale Area",
           14,
           3.4
          ],
          [
           "Treasure of the Sierra Madre",
           "2022-01-02",
           "California > Central Coast > Santa Barbara > * Santa Barbara Bouldering > The Lizard's Mouth > The Big Heat",
           11,
           2.4
          ],
          [
           "There's Friendlier Places to Drink",
           "2022-01-02",
           "California > Central Coast > Santa Barbara > * Santa Barbara Bouldering > The Lizard's Mouth > Femme Fatale Area",
           10,
           1.8
          ],
          [
           "Le Fissure King",
           "2021-04-02",
           "California > Central Coast > Santa Barbara > * Santa Barbara Bouldering > Skofield Park > Cracked Boulder",
           12,
           2.8
          ],
          [
           "West Nile (aka The Warmup)",
           "2021-02-25",
           "California > Central Coast > Santa Barbara > * Santa Barbara Bouldering > West Nile Boulder (aka The Creek Boulder)",
           12,
           2.3
          ],
          [
           "Sunset Delight",
           "2021-02-24",
           "California > Central Coast > Santa Barbara > * Santa Barbara Bouldering > The Creamery > Dairy Boulder",
           12,
           2.3
          ],
          [
           "Buckets Forever",
           "2021-02-20",
           "California > Central Coast > Santa Barbara > * Santa Barbara Bouldering > The Creamery > Frigidaire Boulder",
           15,
           2.8
          ],
          [
           "False Hueco",
           "2021-01-02",
           "California > Joshua Tree National Park > *Joshua Tree Bouldering* > Hidden Valley Area Bouldering > Outback Bouldering > False Hueco Boulder",
           11,
           2.7
          ],
          [
           "Ace in the Hole",
           "2020-09-29",
           "California > Central Coast > Santa Barbara > * Santa Barbara Bouldering > The Lizard's Mouth > Meilee Area",
           12,
           3.1
          ],
          [
           "Jump Start",
           "2020-07-24",
           "California > Central Coast > Santa Barbara > * Santa Barbara Bouldering > The Lizard's Mouth > Kelly's Hill",
           8,
           1.7
          ],
          [
           "5.11 Crack",
           "2020-07-24",
           "California > Central Coast > Santa Barbara > * Santa Barbara Bouldering > The Lizard's Mouth > Kelly's Hill",
           12,
           3.3
          ],
          [
           "Dan's Problem",
           "2020-07-07",
           "California > Central Coast > Santa Barbara > * Santa Barbara Bouldering > Potter's Point > Rapunzel's Tower",
           12,
           3.1
          ],
          [
           "Warm Up  2",
           "2020-07-03",
           "California > Central Coast > Santa Barbara > * Santa Barbara Bouldering > Potter's Point > Entry Way/ Warm-Up Boulders",
           8,
           2.6
          ],
          [
           "Morning Glory",
           "2020-07-03",
           "California > Central Coast > Santa Barbara > * Santa Barbara Bouldering > Potter's Point > Morning Glory",
           15,
           3.4
          ],
          [
           "Mr. Wrinkles, the Irritable Insurance Salesman",
           "2020-07-03",
           "California > Central Coast > Santa Barbara > * Santa Barbara Bouldering > Potter's Point > Morning Glory",
           15,
           2.3
          ],
          [
           "Old Gregg",
           "2020-07-03",
           "California > Central Coast > Santa Barbara > * Santa Barbara Bouldering > Potter's Point > Jacked and Tan",
           10,
           3
          ],
          [
           "Allen's Route",
           "2020-07-03",
           "California > Central Coast > Santa Barbara > * Santa Barbara Bouldering > Potter's Point > Jacked and Tan",
           12,
           2.8
          ],
          [
           "The Fang",
           "2020-03-15",
           "California > Sierra Eastside > Bishop Area > Volcanic Tablelands (Happy/Sad Boulders) > Sad Boulders > Sad Parrot Area > The Bird Cage Boulder",
           15,
           3.5
          ],
          [
           "Crystal",
           "2020-03-15",
           "California > Sierra Eastside > Bishop Area > Volcanic Tablelands (Happy/Sad Boulders) > Sad Boulders > Prozac Nation Bluffs > Crystal Boulder",
           15,
           2.6
          ],
          [
           "Shoehorn",
           "2019-10-13",
           "California > Central Coast > Santa Barbara > * Santa Barbara Bouldering > The Brickyard > The Owl Farm",
           12,
           2.8
          ],
          [
           "Charlotte's Web",
           "2019-10-13",
           "California > Central Coast > Santa Barbara > * Santa Barbara Bouldering > The Brickyard > Charlotte's Web Area",
           20,
           3.2
          ],
          [
           "Lizards' Mouth Traverse",
           "2019-10-13",
           "California > Central Coast > Santa Barbara > * Santa Barbara Bouldering > The Lizard's Mouth > The Mouth",
           40,
           3.5
          ],
          [
           "The Butthole",
           "2019-10-13",
           "California > Central Coast > Santa Barbara > * Santa Barbara Bouldering > The Lizard's Mouth > The Mouth",
           14,
           3
          ],
          [
           "Plumbers Crack (North side chimney)",
           "2019-04-24",
           "Nevada > Southern Nevada > Red Rock Bouldering > Kraft Boulders > Plumber's Crack",
           25,
           3.7
          ],
          [
           "Plumber's Crack",
           "2019-04-24",
           "Nevada > Southern Nevada > Red Rock Bouldering > Kraft Boulders > Plumber's Crack",
           40,
           3.6
          ],
          [
           "Spacehopper",
           "2019-01-02",
           "California > Sierra Eastside > Bishop Area > Volcanic Tablelands (Happy/Sad Boulders) > Sad Boulders > Central Joyless Area",
           15,
           1.8
          ],
          [
           "Bouncing Babies",
           "2019-01-02",
           "California > Sierra Eastside > Bishop Area > Volcanic Tablelands (Happy/Sad Boulders) > Sad Boulders > Central Joyless Area",
           12,
           1.5
          ],
          [
           "Unnamed",
           "2019-01-02",
           "California > Sierra Eastside > Bishop Area > Volcanic Tablelands (Happy/Sad Boulders) > Sad Boulders > Central Joyless Area",
           12,
           1.2
          ],
          [
           "Fire Pit",
           "2019-01-02",
           "California > Sierra Eastside > Bishop Area > Volcanic Tablelands (Happy/Sad Boulders) > Sad Boulders > Prozac Nation Bluffs > The Snapper Boulder",
           18,
           3.1
          ],
          [
           "Prozac Nation",
           "2019-01-02",
           "California > Sierra Eastside > Bishop Area > Volcanic Tablelands (Happy/Sad Boulders) > Sad Boulders > Prozac Nation Bluffs > Prozac Nation Boulder",
           15,
           3.1
          ],
          [
           "Monkey Hang",
           "2018-12-31",
           "California > Sierra Eastside > Bishop Area > Volcanic Tablelands (Happy/Sad Boulders) > Happy Boulders > Slow Dance/Gleaner Area > Monkey Hang Boulder",
           12,
           2.9
          ],
          [
           "Heavenly Path",
           "2018-12-31",
           "California > Sierra Eastside > Bishop Area > Volcanic Tablelands (Happy/Sad Boulders) > Happy Boulders > Central Happiness Area > Heavenly Path Boulder",
           25,
           3.7
          ],
          [
           "Buttermilk Stem",
           "2018-12-30",
           "California > Sierra Eastside > Bishop Area > Buttermilk Country > Buttermilks Main > Buttermilk Stem Area > Buttermilk Stem Boulder",
           15,
           3.5
          ],
          [
           "Hero Roof",
           "2018-12-30",
           "California > Sierra Eastside > Bishop Area > Buttermilk Country > Buttermilks Main > Iron Man Area > Hero  Roof Boulder",
           14,
           3.4
          ],
          [
           "Birthday Left",
           "2018-12-30",
           "California > Sierra Eastside > Bishop Area > Buttermilk Country > Buttermilks Main > Birthday Boulders",
           10,
           2.3
          ],
          [
           "The Prow",
           "2018-12-30",
           "California > Sierra Eastside > Bishop Area > Buttermilk Country > Buttermilks Main > Birthday Boulders",
           16,
           2.8
          ],
          [
           "The Wave",
           "2018-12-17",
           "Nevada > Southern Nevada > Red Rock Bouldering > Kraft Boulders > The Wave Boulder",
           15,
           3
          ],
          [
           "Sorange",
           "2018-12-17",
           "Nevada > Southern Nevada > Red Rock Bouldering > Kraft Boulders > West Cluster > Sorange Boulder",
           12,
           3.4
          ],
          [
           "Poker Chips",
           "2018-12-14",
           "Nevada > Southern Nevada > Red Rock Bouldering > Kraft Boulders > Potato Chip",
           12,
           3
          ],
          [
           "Plumbers Crack (North side chimney)",
           "2018-12-14",
           "Nevada > Southern Nevada > Red Rock Bouldering > Kraft Boulders > Plumber's Crack",
           25,
           3.7
          ],
          [
           "Monkey Bar",
           "2018-12-14",
           "Nevada > Southern Nevada > Red Rock Bouldering > Kraft Boulders > Monkey Bar Boulder",
           20,
           3.6
          ],
          [
           "Grunge",
           "2018-11-10",
           "California > Joshua Tree National Park > *Joshua Tree Bouldering* > Hidden Valley Area Bouldering > Hidden Valley Campground Bouldering > Manx/Asteroid Belt Circuit > Manx Boulders Circuit > Manx Boulders > Manx Boulders - Northwest Face",
           13,
           1.9
          ],
          [
           "Fishbait",
           "2018-11-10",
           "California > Joshua Tree National Park > *Joshua Tree Bouldering* > Hidden Valley Area Bouldering > Hidden Valley Campground Bouldering > Manx/Asteroid Belt Circuit > Manx Boulders Circuit > Manx Boulders > Manx Boulders - Northwest Face",
           12,
           2
          ],
          [
           "Thingamajig",
           "2018-11-10",
           "California > Joshua Tree National Park > *Joshua Tree Bouldering* > Hidden Valley Area Bouldering > Hidden Valley Campground Bouldering > Manx/Asteroid Belt Circuit > Manx Boulders Circuit > Manx Boulders > Manx Boulders - Southeast Face",
           16,
           2.4
          ],
          [
           "Left Nixon Crack",
           "2018-11-10",
           "California > Joshua Tree National Park > *Joshua Tree Bouldering* > Hidden Valley Area Bouldering > Hidden Valley Campground Bouldering > HVCG Bouldering Circuit > HVCG North > Nixon Cracks",
           18,
           3.3
          ],
          [
           "Problem A",
           "2018-03-25",
           "California > Sierra Eastside > Bishop Area > Volcanic Tablelands (Happy/Sad Boulders) > Happy Boulders > Top Gun Area > Wayko Boulder",
           10,
           1
          ],
          [
           "Giant",
           "2018-03-25",
           "California > Sierra Eastside > Bishop Area > Volcanic Tablelands (Happy/Sad Boulders) > Happy Boulders > Savannah Area > Girlfriend Rock",
           10,
           1.7
          ],
          [
           "Mmm... Nice",
           "2018-03-25",
           "California > Sierra Eastside > Bishop Area > Volcanic Tablelands (Happy/Sad Boulders) > Happy Boulders > Savannah Area > Girlfriend Rock",
           10,
           2
          ],
          [
           "Happy Hooker",
           "2018-03-25",
           "California > Sierra Eastside > Bishop Area > Volcanic Tablelands (Happy/Sad Boulders) > Happy Boulders > Central Happiness Area > More Water, Less Power Boulder",
           10,
           2.1
          ],
          [
           "Grant's Christmas Present",
           "2018-03-25",
           "California > Sierra Eastside > Bishop Area > Volcanic Tablelands (Happy/Sad Boulders) > Happy Boulders > Central Happiness Area > More Water, Less Power Boulder",
           10,
           2.7
          ],
          [
           "Don't Box Me In",
           "2018-03-25",
           "California > Sierra Eastside > Bishop Area > Volcanic Tablelands (Happy/Sad Boulders) > Happy Boulders > Slight Inducement Area > Slight Inducement Boulder",
           10,
           1.5
          ],
          [
           "Amphibian / Junkyard",
           "2018-03-25",
           "California > Sierra Eastside > Bishop Area > Volcanic Tablelands (Happy/Sad Boulders) > Happy Boulders > Slight Inducement Area > Slight Inducement Boulder",
           12,
           2.1
          ],
          [
           "Secret to Success",
           "2018-03-25",
           "California > Sierra Eastside > Bishop Area > Volcanic Tablelands (Happy/Sad Boulders) > Happy Boulders > Slight Inducement Area > Slight Inducement Boulder",
           12,
           2.5
          ],
          [
           "Slight Inducement",
           "2018-03-25",
           "California > Sierra Eastside > Bishop Area > Volcanic Tablelands (Happy/Sad Boulders) > Happy Boulders > Slight Inducement Area > Slight Inducement Boulder",
           12,
           3
          ],
          [
           "Problem A",
           "2018-03-25",
           "California > Sierra Eastside > Bishop Area > Volcanic Tablelands (Happy/Sad Boulders) > Sad Boulders > Ice Caves, Outer Area > Shorty Boulder",
           8,
           1.6
          ],
          [
           "Parliament",
           "2018-03-25",
           "California > Sierra Eastside > Bishop Area > Volcanic Tablelands (Happy/Sad Boulders) > Sad Boulders > Ice Caves, Outer Area > Shorty Boulder",
           8,
           1.8
          ],
          [
           "Funkadella Bdelia",
           "2018-03-25",
           "California > Sierra Eastside > Bishop Area > Volcanic Tablelands (Happy/Sad Boulders) > Sad Boulders > Ice Caves, Outer Area > Shorty Boulder",
           8,
           1.8
          ],
          [
           "Unnamed",
           "2018-03-25",
           "California > Sierra Eastside > Bishop Area > Volcanic Tablelands (Happy/Sad Boulders) > Sad Boulders > Central Joyless Area",
           12,
           1.2
          ],
          [
           "Girl Call",
           "2018-03-25",
           "California > Sierra Eastside > Bishop Area > Volcanic Tablelands (Happy/Sad Boulders) > Sad Boulders > Molly Area",
           20,
           2.5
          ],
          [
           "China Doll",
           "2018-03-24",
           "California > Sierra Eastside > Bishop Area > Volcanic Tablelands (Happy/Sad Boulders) > Sad Boulders > Molly Area",
           18,
           3.3
          ],
          [
           "Single Shot",
           "2018-02-05",
           "California > Central Coast > Santa Barbara > * Santa Barbara Bouldering > The Brickyard > Coffee Boulder",
           13,
           2.7
          ]
         ],
         "hovertemplate": "Name: %{customdata[0]}<br>Date: %{customdata[1]}<br>Location: %{customdata[2]}<br>Length: %{customdata[3]}ft<br>Avg Stars: %{customdata[4]}",
         "legendgroup": "",
         "marker": {
          "color": "#7A4F25",
          "line": {
           "color": "black",
           "width": 2
          },
          "size": 20,
          "symbol": "square"
         },
         "mode": "markers+text",
         "name": "",
         "orientation": "v",
         "showlegend": false,
         "text": [
          null,
          null,
          null,
          null,
          null,
          null,
          null,
          null,
          null,
          null,
          null,
          null,
          null,
          null,
          null,
          null,
          null,
          null,
          null,
          null,
          null,
          null,
          null,
          null,
          null,
          null,
          null,
          null,
          null,
          null,
          null,
          null,
          null,
          null,
          null,
          null,
          null,
          null,
          null,
          null,
          null,
          null,
          null,
          null,
          null,
          null,
          null,
          null,
          null,
          null,
          null,
          null,
          null,
          null,
          null,
          null,
          null,
          null,
          null,
          null,
          null,
          null,
          null,
          null,
          null,
          null,
          null,
          null,
          null,
          null,
          null,
          null,
          null,
          null
         ],
         "textfont": {
          "color": "White",
          "size": 12
         },
         "type": "scatter",
         "x": [
          "2022-12-10T00:00:00",
          "2022-12-10T00:00:00",
          "2022-10-02T00:00:00",
          "2022-10-02T00:00:00",
          "2022-10-02T00:00:00",
          "2022-07-30T00:00:00",
          "2022-07-30T00:00:00",
          "2022-07-30T00:00:00",
          "2022-02-13T00:00:00",
          "2022-02-13T00:00:00",
          "2022-02-13T00:00:00",
          "2022-02-13T00:00:00",
          "2022-01-02T00:00:00",
          "2022-01-02T00:00:00",
          "2022-01-02T00:00:00",
          "2022-01-02T00:00:00",
          "2021-04-02T00:00:00",
          "2021-02-25T00:00:00",
          "2021-02-24T00:00:00",
          "2021-02-20T00:00:00",
          "2021-01-02T00:00:00",
          "2020-09-29T00:00:00",
          "2020-07-24T00:00:00",
          "2020-07-24T00:00:00",
          "2020-07-07T00:00:00",
          "2020-07-03T00:00:00",
          "2020-07-03T00:00:00",
          "2020-07-03T00:00:00",
          "2020-07-03T00:00:00",
          "2020-07-03T00:00:00",
          "2020-03-15T00:00:00",
          "2020-03-15T00:00:00",
          "2019-10-13T00:00:00",
          "2019-10-13T00:00:00",
          "2019-10-13T00:00:00",
          "2019-10-13T00:00:00",
          "2019-04-24T00:00:00",
          "2019-04-24T00:00:00",
          "2019-01-02T00:00:00",
          "2019-01-02T00:00:00",
          "2019-01-02T00:00:00",
          "2019-01-02T00:00:00",
          "2019-01-02T00:00:00",
          "2018-12-31T00:00:00",
          "2018-12-31T00:00:00",
          "2018-12-30T00:00:00",
          "2018-12-30T00:00:00",
          "2018-12-30T00:00:00",
          "2018-12-30T00:00:00",
          "2018-12-17T00:00:00",
          "2018-12-17T00:00:00",
          "2018-12-14T00:00:00",
          "2018-12-14T00:00:00",
          "2018-12-14T00:00:00",
          "2018-11-10T00:00:00",
          "2018-11-10T00:00:00",
          "2018-11-10T00:00:00",
          "2018-11-10T00:00:00",
          "2018-03-25T00:00:00",
          "2018-03-25T00:00:00",
          "2018-03-25T00:00:00",
          "2018-03-25T00:00:00",
          "2018-03-25T00:00:00",
          "2018-03-25T00:00:00",
          "2018-03-25T00:00:00",
          "2018-03-25T00:00:00",
          "2018-03-25T00:00:00",
          "2018-03-25T00:00:00",
          "2018-03-25T00:00:00",
          "2018-03-25T00:00:00",
          "2018-03-25T00:00:00",
          "2018-03-25T00:00:00",
          "2018-03-24T00:00:00",
          "2018-02-05T00:00:00"
         ],
         "xaxis": "x",
         "y": [
          "V4",
          "V3",
          "V1",
          "V0",
          "V3",
          "V1",
          "V2",
          "V1",
          "V3",
          "V3",
          "V4",
          "V4",
          "V4",
          "V3",
          "V0",
          "V1",
          "V3",
          "V3",
          "V2",
          "V1",
          "V1",
          "V2",
          "V0",
          "V3",
          "V3",
          "V1",
          "V0",
          "V0",
          "V3",
          "V1",
          "V4",
          "V3",
          "V1",
          "V3",
          "V0",
          "V3",
          "V0",
          "V2",
          "V0",
          "V0",
          "V0",
          "V2",
          "V2",
          "V3",
          "V1",
          "V1",
          "V0",
          "V1",
          "V2",
          "V3",
          "V3",
          "V0",
          "V0",
          "V2",
          "V0",
          "V1",
          "V0",
          "V0",
          "V0",
          "V0",
          "V0",
          "V0",
          "V1",
          "V1",
          "V0",
          "V1",
          "V1",
          "V0",
          "V0",
          "V0",
          "V0",
          "V0",
          "V0",
          "V2"
         ],
         "yaxis": "y"
        }
       ],
       "layout": {
        "bargap": 0,
        "font": {
         "color": "black",
         "family": "Courier New",
         "size": 20
        },
        "legend": {
         "tracegroupgap": 0
        },
        "margin": {
         "t": 60
        },
        "paper_bgcolor": "#ece5dc",
        "plot_bgcolor": "#F5D3A5",
        "template": {
         "data": {
          "bar": [
           {
            "error_x": {
             "color": "#2a3f5f"
            },
            "error_y": {
             "color": "#2a3f5f"
            },
            "marker": {
             "line": {
              "color": "#E5ECF6",
              "width": 0.5
             },
             "pattern": {
              "fillmode": "overlay",
              "size": 10,
              "solidity": 0.2
             }
            },
            "type": "bar"
           }
          ],
          "barpolar": [
           {
            "marker": {
             "line": {
              "color": "#E5ECF6",
              "width": 0.5
             },
             "pattern": {
              "fillmode": "overlay",
              "size": 10,
              "solidity": 0.2
             }
            },
            "type": "barpolar"
           }
          ],
          "carpet": [
           {
            "aaxis": {
             "endlinecolor": "#2a3f5f",
             "gridcolor": "white",
             "linecolor": "white",
             "minorgridcolor": "white",
             "startlinecolor": "#2a3f5f"
            },
            "baxis": {
             "endlinecolor": "#2a3f5f",
             "gridcolor": "white",
             "linecolor": "white",
             "minorgridcolor": "white",
             "startlinecolor": "#2a3f5f"
            },
            "type": "carpet"
           }
          ],
          "choropleth": [
           {
            "colorbar": {
             "outlinewidth": 0,
             "ticks": ""
            },
            "type": "choropleth"
           }
          ],
          "contour": [
           {
            "colorbar": {
             "outlinewidth": 0,
             "ticks": ""
            },
            "colorscale": [
             [
              0,
              "#0d0887"
             ],
             [
              0.1111111111111111,
              "#46039f"
             ],
             [
              0.2222222222222222,
              "#7201a8"
             ],
             [
              0.3333333333333333,
              "#9c179e"
             ],
             [
              0.4444444444444444,
              "#bd3786"
             ],
             [
              0.5555555555555556,
              "#d8576b"
             ],
             [
              0.6666666666666666,
              "#ed7953"
             ],
             [
              0.7777777777777778,
              "#fb9f3a"
             ],
             [
              0.8888888888888888,
              "#fdca26"
             ],
             [
              1,
              "#f0f921"
             ]
            ],
            "type": "contour"
           }
          ],
          "contourcarpet": [
           {
            "colorbar": {
             "outlinewidth": 0,
             "ticks": ""
            },
            "type": "contourcarpet"
           }
          ],
          "heatmap": [
           {
            "colorbar": {
             "outlinewidth": 0,
             "ticks": ""
            },
            "colorscale": [
             [
              0,
              "#0d0887"
             ],
             [
              0.1111111111111111,
              "#46039f"
             ],
             [
              0.2222222222222222,
              "#7201a8"
             ],
             [
              0.3333333333333333,
              "#9c179e"
             ],
             [
              0.4444444444444444,
              "#bd3786"
             ],
             [
              0.5555555555555556,
              "#d8576b"
             ],
             [
              0.6666666666666666,
              "#ed7953"
             ],
             [
              0.7777777777777778,
              "#fb9f3a"
             ],
             [
              0.8888888888888888,
              "#fdca26"
             ],
             [
              1,
              "#f0f921"
             ]
            ],
            "type": "heatmap"
           }
          ],
          "heatmapgl": [
           {
            "colorbar": {
             "outlinewidth": 0,
             "ticks": ""
            },
            "colorscale": [
             [
              0,
              "#0d0887"
             ],
             [
              0.1111111111111111,
              "#46039f"
             ],
             [
              0.2222222222222222,
              "#7201a8"
             ],
             [
              0.3333333333333333,
              "#9c179e"
             ],
             [
              0.4444444444444444,
              "#bd3786"
             ],
             [
              0.5555555555555556,
              "#d8576b"
             ],
             [
              0.6666666666666666,
              "#ed7953"
             ],
             [
              0.7777777777777778,
              "#fb9f3a"
             ],
             [
              0.8888888888888888,
              "#fdca26"
             ],
             [
              1,
              "#f0f921"
             ]
            ],
            "type": "heatmapgl"
           }
          ],
          "histogram": [
           {
            "marker": {
             "pattern": {
              "fillmode": "overlay",
              "size": 10,
              "solidity": 0.2
             }
            },
            "type": "histogram"
           }
          ],
          "histogram2d": [
           {
            "colorbar": {
             "outlinewidth": 0,
             "ticks": ""
            },
            "colorscale": [
             [
              0,
              "#0d0887"
             ],
             [
              0.1111111111111111,
              "#46039f"
             ],
             [
              0.2222222222222222,
              "#7201a8"
             ],
             [
              0.3333333333333333,
              "#9c179e"
             ],
             [
              0.4444444444444444,
              "#bd3786"
             ],
             [
              0.5555555555555556,
              "#d8576b"
             ],
             [
              0.6666666666666666,
              "#ed7953"
             ],
             [
              0.7777777777777778,
              "#fb9f3a"
             ],
             [
              0.8888888888888888,
              "#fdca26"
             ],
             [
              1,
              "#f0f921"
             ]
            ],
            "type": "histogram2d"
           }
          ],
          "histogram2dcontour": [
           {
            "colorbar": {
             "outlinewidth": 0,
             "ticks": ""
            },
            "colorscale": [
             [
              0,
              "#0d0887"
             ],
             [
              0.1111111111111111,
              "#46039f"
             ],
             [
              0.2222222222222222,
              "#7201a8"
             ],
             [
              0.3333333333333333,
              "#9c179e"
             ],
             [
              0.4444444444444444,
              "#bd3786"
             ],
             [
              0.5555555555555556,
              "#d8576b"
             ],
             [
              0.6666666666666666,
              "#ed7953"
             ],
             [
              0.7777777777777778,
              "#fb9f3a"
             ],
             [
              0.8888888888888888,
              "#fdca26"
             ],
             [
              1,
              "#f0f921"
             ]
            ],
            "type": "histogram2dcontour"
           }
          ],
          "mesh3d": [
           {
            "colorbar": {
             "outlinewidth": 0,
             "ticks": ""
            },
            "type": "mesh3d"
           }
          ],
          "parcoords": [
           {
            "line": {
             "colorbar": {
              "outlinewidth": 0,
              "ticks": ""
             }
            },
            "type": "parcoords"
           }
          ],
          "pie": [
           {
            "automargin": true,
            "type": "pie"
           }
          ],
          "scatter": [
           {
            "fillpattern": {
             "fillmode": "overlay",
             "size": 10,
             "solidity": 0.2
            },
            "type": "scatter"
           }
          ],
          "scatter3d": [
           {
            "line": {
             "colorbar": {
              "outlinewidth": 0,
              "ticks": ""
             }
            },
            "marker": {
             "colorbar": {
              "outlinewidth": 0,
              "ticks": ""
             }
            },
            "type": "scatter3d"
           }
          ],
          "scattercarpet": [
           {
            "marker": {
             "colorbar": {
              "outlinewidth": 0,
              "ticks": ""
             }
            },
            "type": "scattercarpet"
           }
          ],
          "scattergeo": [
           {
            "marker": {
             "colorbar": {
              "outlinewidth": 0,
              "ticks": ""
             }
            },
            "type": "scattergeo"
           }
          ],
          "scattergl": [
           {
            "marker": {
             "colorbar": {
              "outlinewidth": 0,
              "ticks": ""
             }
            },
            "type": "scattergl"
           }
          ],
          "scattermapbox": [
           {
            "marker": {
             "colorbar": {
              "outlinewidth": 0,
              "ticks": ""
             }
            },
            "type": "scattermapbox"
           }
          ],
          "scatterpolar": [
           {
            "marker": {
             "colorbar": {
              "outlinewidth": 0,
              "ticks": ""
             }
            },
            "type": "scatterpolar"
           }
          ],
          "scatterpolargl": [
           {
            "marker": {
             "colorbar": {
              "outlinewidth": 0,
              "ticks": ""
             }
            },
            "type": "scatterpolargl"
           }
          ],
          "scatterternary": [
           {
            "marker": {
             "colorbar": {
              "outlinewidth": 0,
              "ticks": ""
             }
            },
            "type": "scatterternary"
           }
          ],
          "surface": [
           {
            "colorbar": {
             "outlinewidth": 0,
             "ticks": ""
            },
            "colorscale": [
             [
              0,
              "#0d0887"
             ],
             [
              0.1111111111111111,
              "#46039f"
             ],
             [
              0.2222222222222222,
              "#7201a8"
             ],
             [
              0.3333333333333333,
              "#9c179e"
             ],
             [
              0.4444444444444444,
              "#bd3786"
             ],
             [
              0.5555555555555556,
              "#d8576b"
             ],
             [
              0.6666666666666666,
              "#ed7953"
             ],
             [
              0.7777777777777778,
              "#fb9f3a"
             ],
             [
              0.8888888888888888,
              "#fdca26"
             ],
             [
              1,
              "#f0f921"
             ]
            ],
            "type": "surface"
           }
          ],
          "table": [
           {
            "cells": {
             "fill": {
              "color": "#EBF0F8"
             },
             "line": {
              "color": "white"
             }
            },
            "header": {
             "fill": {
              "color": "#C8D4E3"
             },
             "line": {
              "color": "white"
             }
            },
            "type": "table"
           }
          ]
         },
         "layout": {
          "annotationdefaults": {
           "arrowcolor": "#2a3f5f",
           "arrowhead": 0,
           "arrowwidth": 1
          },
          "autotypenumbers": "strict",
          "coloraxis": {
           "colorbar": {
            "outlinewidth": 0,
            "ticks": ""
           }
          },
          "colorscale": {
           "diverging": [
            [
             0,
             "#8e0152"
            ],
            [
             0.1,
             "#c51b7d"
            ],
            [
             0.2,
             "#de77ae"
            ],
            [
             0.3,
             "#f1b6da"
            ],
            [
             0.4,
             "#fde0ef"
            ],
            [
             0.5,
             "#f7f7f7"
            ],
            [
             0.6,
             "#e6f5d0"
            ],
            [
             0.7,
             "#b8e186"
            ],
            [
             0.8,
             "#7fbc41"
            ],
            [
             0.9,
             "#4d9221"
            ],
            [
             1,
             "#276419"
            ]
           ],
           "sequential": [
            [
             0,
             "#0d0887"
            ],
            [
             0.1111111111111111,
             "#46039f"
            ],
            [
             0.2222222222222222,
             "#7201a8"
            ],
            [
             0.3333333333333333,
             "#9c179e"
            ],
            [
             0.4444444444444444,
             "#bd3786"
            ],
            [
             0.5555555555555556,
             "#d8576b"
            ],
            [
             0.6666666666666666,
             "#ed7953"
            ],
            [
             0.7777777777777778,
             "#fb9f3a"
            ],
            [
             0.8888888888888888,
             "#fdca26"
            ],
            [
             1,
             "#f0f921"
            ]
           ],
           "sequentialminus": [
            [
             0,
             "#0d0887"
            ],
            [
             0.1111111111111111,
             "#46039f"
            ],
            [
             0.2222222222222222,
             "#7201a8"
            ],
            [
             0.3333333333333333,
             "#9c179e"
            ],
            [
             0.4444444444444444,
             "#bd3786"
            ],
            [
             0.5555555555555556,
             "#d8576b"
            ],
            [
             0.6666666666666666,
             "#ed7953"
            ],
            [
             0.7777777777777778,
             "#fb9f3a"
            ],
            [
             0.8888888888888888,
             "#fdca26"
            ],
            [
             1,
             "#f0f921"
            ]
           ]
          },
          "colorway": [
           "#636efa",
           "#EF553B",
           "#00cc96",
           "#ab63fa",
           "#FFA15A",
           "#19d3f3",
           "#FF6692",
           "#B6E880",
           "#FF97FF",
           "#FECB52"
          ],
          "font": {
           "color": "#2a3f5f"
          },
          "geo": {
           "bgcolor": "white",
           "lakecolor": "white",
           "landcolor": "#E5ECF6",
           "showlakes": true,
           "showland": true,
           "subunitcolor": "white"
          },
          "hoverlabel": {
           "align": "left"
          },
          "hovermode": "closest",
          "mapbox": {
           "style": "light"
          },
          "paper_bgcolor": "white",
          "plot_bgcolor": "#E5ECF6",
          "polar": {
           "angularaxis": {
            "gridcolor": "white",
            "linecolor": "white",
            "ticks": ""
           },
           "bgcolor": "#E5ECF6",
           "radialaxis": {
            "gridcolor": "white",
            "linecolor": "white",
            "ticks": ""
           }
          },
          "scene": {
           "xaxis": {
            "backgroundcolor": "#E5ECF6",
            "gridcolor": "white",
            "gridwidth": 2,
            "linecolor": "white",
            "showbackground": true,
            "ticks": "",
            "zerolinecolor": "white"
           },
           "yaxis": {
            "backgroundcolor": "#E5ECF6",
            "gridcolor": "white",
            "gridwidth": 2,
            "linecolor": "white",
            "showbackground": true,
            "ticks": "",
            "zerolinecolor": "white"
           },
           "zaxis": {
            "backgroundcolor": "#E5ECF6",
            "gridcolor": "white",
            "gridwidth": 2,
            "linecolor": "white",
            "showbackground": true,
            "ticks": "",
            "zerolinecolor": "white"
           }
          },
          "shapedefaults": {
           "line": {
            "color": "#2a3f5f"
           }
          },
          "ternary": {
           "aaxis": {
            "gridcolor": "white",
            "linecolor": "white",
            "ticks": ""
           },
           "baxis": {
            "gridcolor": "white",
            "linecolor": "white",
            "ticks": ""
           },
           "bgcolor": "#E5ECF6",
           "caxis": {
            "gridcolor": "white",
            "linecolor": "white",
            "ticks": ""
           }
          },
          "title": {
           "x": 0.05
          },
          "xaxis": {
           "automargin": true,
           "gridcolor": "white",
           "linecolor": "white",
           "ticks": "",
           "title": {
            "standoff": 15
           },
           "zerolinecolor": "white",
           "zerolinewidth": 2
          },
          "yaxis": {
           "automargin": true,
           "gridcolor": "white",
           "linecolor": "white",
           "ticks": "",
           "title": {
            "standoff": 15
           },
           "zerolinecolor": "white",
           "zerolinewidth": 2
          }
         }
        },
        "title": {
         "font": {
          "size": 30
         },
         "text": "<b>Send by Date</b>",
         "x": 0.5
        },
        "xaxis": {
         "anchor": "y",
         "domain": [
          0,
          1
         ],
         "title": {
          "text": "Date"
         }
        },
        "yaxis": {
         "anchor": "x",
         "categoryarray": [
          "V-easy",
          "V0",
          "V1",
          "V2",
          "V3",
          "V4",
          "V5",
          "V6",
          "V7",
          "V8",
          "V9",
          "V10",
          "V11",
          "V12",
          "V13",
          "V14",
          "V15",
          "V16",
          "V17"
         ],
         "categoryorder": "array",
         "domain": [
          0,
          1
         ],
         "title": {
          "text": "Grade"
         }
        }
       }
      }
     },
     "metadata": {},
     "output_type": "display_data"
    }
   ],
   "source": [
    "fig = px.scatter(df_clean_sends_b, \"Date\", \"Rating\", category_orders={\"Rating\": byaxorder[::-1]}, text='Attempts', custom_data=['Route', 'Date Formatted', 'Location', 'Length', 'Avg Stars'])\n",
    "fig.update_layout(font={'family':'Courier New', 'color':'black', 'size':20}, title={'text':'<b>Send by Date</b>', 'x':0.5, 'font_size':30}, xaxis={'title': 'Date'}, yaxis={'title': 'Grade'}, paper_bgcolor='#ece5dc', plot_bgcolor='#F5D3A5', bargap=0)\n",
    "fig.update_traces(marker_symbol='square', marker_color='#7A4F25', marker_size=20, marker_line_width=2, marker_line_color='black', textfont={\"color\": 'White', \"size\": 12}, hovertemplate='Name: %{customdata[0]}<br>Date: %{customdata[1]}<br>Location: %{customdata[2]}<br>Length: %{customdata[3]}ft<br>Avg Stars: %{customdata[4]}')"
   ]
  }
 ],
 "metadata": {
  "kernelspec": {
   "display_name": "Python 3.9.12 ('.venv': poetry)",
   "language": "python",
   "name": "python3"
  },
  "language_info": {
   "codemirror_mode": {
    "name": "ipython",
    "version": 3
   },
   "file_extension": ".py",
   "mimetype": "text/x-python",
   "name": "python",
   "nbconvert_exporter": "python",
   "pygments_lexer": "ipython3",
   "version": "3.9.12"
  },
  "orig_nbformat": 4,
  "vscode": {
   "interpreter": {
    "hash": "69c68274f8e9ce57f21b9f4f0cd989e216f773741f6e1c7e6f7ea408f78a94ea"
   }
  }
 },
 "nbformat": 4,
 "nbformat_minor": 2
}
