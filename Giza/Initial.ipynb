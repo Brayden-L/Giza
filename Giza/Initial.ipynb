{
 "cells": [
  {
   "cell_type": "code",
   "execution_count": 1,
   "metadata": {},
   "outputs": [],
   "source": [
    "import numpy as np\n",
    "import pandas as pd\n",
    "import matplotlib.pyplot as plt\n",
    "import seaborn as sns\n",
    "import plotly.express as px\n",
    "import nltk\n",
    "%matplotlib inline\n",
    "\n",
    "from bs4 import BeautifulSoup\n",
    "import requests\n",
    "import re\n",
    "import pyinputplus as pyip\n",
    "import requests\n",
    "import datetime as dt\n",
    "from datetime import datetime\n",
    "import pickle\n",
    "import random\n",
    "import math\n",
    "import string\n",
    "\n",
    "%load_ext autoreload\n",
    "%autoreload 2\n",
    "\n",
    "pd.set_option('display.max_columns', 500)\n",
    "pd.set_option('display.max_rows', 150)"
   ]
  },
  {
   "cell_type": "code",
   "execution_count": 2,
   "metadata": {},
   "outputs": [],
   "source": [
    "# Constants\n",
    "\n",
    "YDS_GRADES_FULL = ['5.0', '5.1', '5.2', '5.3', '5.4', '5.5', '5.6', '5.7', '5.7+', '5.8-', '5.8', '5.8+', '5.9-', '5.9', '5.9+', '5.10a', '5.10-', '5.10a/b', '5.10b', '5.10', '5.10b/c', '5.10c', '5.10+', '5.10c/d', '5.10d', '5.11a', '5.11-', '5.11a/b', '5.11b', '5.11', \n",
    "                   '5.11b/c', '5.11c', '5.11+', '5.11c/d', '5.11d', '5.12a', '5.12-', '5.12a/b', '5.12b', '5.12', '5.12b/c', '5.12c', '5.12+', '5.12c/d', '5.12d', '5.13a', '5.13-', '5.13a/b', '5.13b', '5.13', '5.13b/c', '5.13c', '5.13+', '5.13c/d', '5.13d', '5.14a', \n",
    "                   '5.14-', '5.14a/b', '5.14b', '5.14', '5.14b/c', '5.14c', '5.14+', '5.14c/d', '5.14d', '5.15a', '5.15-', '5.15a/b', '5.15b', '5.15', '5.15b/c' '5.15c', '5.15+', '5.15c/d', '5.15d'] \n",
    "YDS_GRADES_LETTER = ['5.0', '5.1', '5.2', '5.3', '5.4', '5.5', '5.6', '5.7', '5.8', '5.9', '5.10a', '5.10b', '5.10c', '5.10d', '5.11a', '5.11b', '5.11c', '5.11d', '5.12a', '5.12b', '5.12c', '5.12d', '5.13a', '5.13b', '5.13c', '5.13d', '5.14a', '5.14b', '5.14c', '5.14d', '5.15a', '5.15b', '5.15c', '5.15d']\n",
    "YDS_GRADES_SIGN = ['5.0', '5.1', '5.2', '5.3', '5.4', '5.5', '5.6', '5.7', '5.7+', '5.8-', '5.8', '5.8+', '5.9-', '5.9', '5.9+', '5.10-', '5.10', '5.10+', '5.11-', '5.11', '5.11+', '5.12-', '5.12', '5.12+', '5.13-', '5.13', '5.13+', '5.14-', '5.14', '5.14+', '5.15-', '5.15', '5.15+']\n",
    "\n",
    "V_GRADES_FULL = ['v-easy', 'v0-', 'v0', 'v0+', 'v0-1', 'v1-', 'v1', 'v1+', 'v1-2', 'v2-', 'v2', 'v2+', 'v2-3', 'v3-', 'v3', 'v3+', 'v3-4', 'v4-', 'v4', 'v4+', 'v4-5', 'v5-', 'v5', 'v5+', 'v5-6', 'v6-', 'v6', 'v6+', 'v6-7', 'v7-', 'v7', 'v7+', 'v7-8', 'v8-', 'v8', 'v8+', 'v8-9', \n",
    "                 'v9-', 'v9', 'v9+', 'v9-10', 'v10-', 'v10', 'v10+', 'v10-11', 'v11-', 'v11', 'v11+', 'v11-12', 'v12-', 'v12', 'v12+', 'v12-13', 'v13-', 'v13', 'v13+', 'v13-14', 'v14-', 'v14', 'v14+', 'v14-15', 'v15-', 'v15', 'v15+', 'v15-16', 'v16-', 'v16', 'v16+', 'v16-17', 'v17-', 'v17']\n",
    "V_GRADES_SIGN = ['v-easy', 'v0-', 'v0', 'v0+', 'v1-', 'v1', 'v1+', 'v2-', 'v2', 'v2+', 'v3-', 'v3', 'v3+', 'v4-', 'v4', 'v4+', 'v5-', 'v5', 'v5+', 'v6-', 'v6', 'v6+', 'v7-', 'v7', 'v7+', 'v8-', 'v8', 'v8+', \n",
    "                 'v9-', 'v9', 'v9+', 'v10-', 'v10', 'v10+', 'v11-', 'v11', 'v11+', 'v12-', 'v12', 'v12+', 'v13-', 'v13', 'v13+', 'v14-', 'v14', 'v14+', 'v15-', 'v15', 'v15+', 'v16-', 'v16', 'v16+', 'v17-', 'v17']\n",
    "V_GRADES_BASIC = ['v-easy', 'v0', 'v1', 'v2', 'v3', 'v4', 'v5', 'v6', 'v7', 'v8', 'v9', 'v10', 'v11', 'v12', 'v13', 'v14', 'v15', 'v16', 'v17']\n",
    "\n",
    "RISK_GRADES = ['pg', 'pg13', 'r', 'x']\n",
    "\n",
    "CLEAN_SEND = ['onsight', 'flash', 'redpoint', 'pinkpoint', 'send']\n",
    "CLEAN_SEND_FIRST = ['onsight', 'flash']\n",
    "CLEAN_SEND_WORKED = ['redpoint', 'pinkpoint']\n",
    "TICK_OPTIONS = ['solo', 'tr', 'follow', 'lead', 'fell/hung', 'onsight', 'flash', 'redpoint', 'pinkpoint', 'send', 'attempt']"
   ]
  },
  {
   "cell_type": "markdown",
   "metadata": {},
   "source": [
    "Allow user to import ticks, then perform initial data formatting and handling."
   ]
  },
  {
   "cell_type": "code",
   "execution_count": 159,
   "metadata": {},
   "outputs": [],
   "source": [
    "# https://www.mountainproject.com/user/200180658/brayden-l\n",
    "try:\n",
    "    resp = input('input link to profile of format \"https://www.mountainproject.com/user/...\"\\n')\n",
    "    df_usend = pd.read_csv(f'{resp}/tick-export')\n",
    "except Exception as err:\n",
    "    print(err)"
   ]
  },
  {
   "cell_type": "code",
   "execution_count": 160,
   "metadata": {},
   "outputs": [],
   "source": [
    "# Transform all strings to lower case so we don't have to worry about it for operations. Can be turned to camel case later for presentation.\n",
    "df_usend = df_usend.applymap(lambda s: s.lower() if type(s) == str else s)\n",
    "\n",
    "# Apostrophe's are html coded in the notes section for some reason.\n",
    "df_usend['Notes'] = df_usend['Notes'].apply(lambda x: str(x).replace('&#39;',\"'\"))\n",
    "\n",
    "# 'Date' to datetype\n",
    "df_usend['Date'] = pd.to_datetime(df_usend['Date'])\n",
    "\n",
    "# Remove all aid, ice, snow, TR only,and trad/boulder climbing route types as they are not relevant.\n",
    "df_usend = df_usend[df_usend['Route Type'].str.contains(r'aid|ice|snow') != True]\n",
    "df_usend = df_usend[df_usend['Route Type'].str.fullmatch(r'tr') != True] #if this is just a partial match it will detech \"trad\" too!\n",
    "df_usend = df_usend[df_usend['Route Type'].str.contains(r'trad') & df_usend['Route Type'].str.contains(r'boulder') != True]\n",
    "\n",
    "# \"trad, sport\" goes to \"trad\". If it uses gear it's trad!\n",
    "df_usend.loc[df_usend['Route Type'].str.contains(r'trad') & df_usend['Route Type'].str.contains(r'sport'), 'Route Type'] = 'trad'\n",
    "\n",
    "# \"x, alpine\" and \"x, tr\" goes to \"x\" Alpine and tr tags are not useful.\n",
    "def rem_route_el_from_list(ousted, seperator):\n",
    "    el_rem_subset = df_usend['Route Type'].str.contains(ousted) == True\n",
    "    df_usend.loc[el_rem_subset, 'Route Type'] = df_usend[el_rem_subset]['Route Type'].apply(lambda row: [val for val in row.split(seperator) if val != ousted]).apply(lambda x: \", \".join(x))\n",
    "\n",
    "rem_route_el_from_list('alpine', ', ')\n",
    "rem_route_el_from_list('tr', ', ')\n",
    "\n",
    "# Extract route unique identifier from URL and create a new column for it.\n",
    "df_usend.insert(len(df_usend.columns),'Route ID','')\n",
    "df_usend['Route ID'] = df_usend['URL'].apply(lambda x: x.split('/')[4])\n",
    "\n",
    "# Change YDS-Vgrade combos to just Vgrade. They are most likely boulders, so a bouldering grade is relevant.\n",
    "subset = df_usend['Rating'].apply(lambda row: [val for val in row.split() if val in V_GRADES_FULL]).astype(bool)  & df_usend['Rating'].apply(lambda row: [val for val in row.split() if val in YDS_GRADES_FULL]).astype(bool) == True\n",
    "df_usend.loc[subset, 'Rating'] = df_usend[subset]['Rating'].apply(lambda x: x.split()[1])\n",
    "\n",
    "# Seperate risk rating to new column\n",
    "df_usend.insert(df_usend.columns.get_loc('Rating')+1,'Risk','')\n",
    "df_usend['Risk'] = df_usend['Rating'].apply(lambda row: [val for val in row.split() if val in RISK_GRADES]).apply(lambda x: \"\".join(x))\n",
    "# Reduce Rating column to just rating\n",
    "df_usend['Rating'] = df_usend['Rating'].apply(lambda row: [val for val in row.split()][0])\n",
    "# Displays all rows where risk ratings have been seperated\n",
    "# df[df['Risk'].astype(bool)]\n",
    "\n",
    "# Create original rating and length archive to compare against or undo changes.\n",
    "df_usend.insert(df_usend.columns.get_loc('Rating'),'Original Rating',df_usend['Rating'])\n",
    "\n",
    "df_usend.insert(len(df_usend.columns),'Flash/Onsight','')\n",
    "df_usend.insert(len(df_usend.columns),'Worked Clean','')\n",
    "df_usend.insert(len(df_usend.columns),'Grade Breakthrough','')\n",
    "df_usend.insert(len(df_usend.columns),'Attempts','')"
   ]
  },
  {
   "cell_type": "markdown",
   "metadata": {},
   "source": [
    "Perform scrape and analytics on each unique climb"
   ]
  },
  {
   "cell_type": "code",
   "execution_count": null,
   "metadata": {},
   "outputs": [],
   "source": [
    "# Download page of each unique climb and export to a unique dataframe\n",
    "\n",
    "df_usend_uniq = df_usend.drop_duplicates(subset=\"Route ID\")\n",
    "df_usend_uniq.drop(columns=['Date', 'Notes', 'Pitches', 'Your Stars', 'Style', 'Lead Style', 'Your Rating', 'Flash/Onsight', 'Worked Clean', 'Grade Breakthrough', 'Attempts'], inplace=True)\n",
    "df_usend_uniq.insert(len(df_usend_uniq.columns),'Listed Pitches','')\n",
    "df_usend_uniq.insert(len(df_usend_uniq.columns),'re mainpage','')\n",
    "df_usend_uniq.insert(len(df_usend_uniq.columns),'re statpage','')\n",
    "df_usend_uniq.insert(len(df_usend_uniq.columns),'Statpage df','')\n",
    "df_usend_uniq.insert(len(df_usend_uniq.columns),'Tick Counts','')\n",
    "\n",
    "def insert_str_to_address(url, insert_phrase):\n",
    "    str_list = url.split('/')\n",
    "    str_list.insert(4, insert_phrase)\n",
    "    return '/'.join(str_list)\n",
    "\n",
    "def page_download(url):\n",
    "    try:\n",
    "        res = requests.get(url, timeout=10)\n",
    "    except Exception as e:\n",
    "        print(e)\n",
    "    print(res)\n",
    "    return res\n",
    "\n",
    "df_usend_uniq['re mainpage'] = df_usend_uniq['URL'].apply(page_download)\n",
    "df_usend_uniq['re statpage'] = df_usend_uniq['URL'].apply(lambda x: page_download(insert_str_to_address(x, 'stats')))"
   ]
  },
  {
   "cell_type": "code",
   "execution_count": null,
   "metadata": {},
   "outputs": [],
   "source": [
    "# Let's analyze the mainpage for listed default pitch lengths. This is not included in the tick export but is helpful in determining user tick methodology\n",
    "\n",
    "def get_pitches(res):\n",
    "    soup = BeautifulSoup(res.text, 'html.parser')\n",
    "    route_type_text = str(soup.find(class_=\"description-details\").find_all('td')[1])\n",
    "    pitch_search = re.search(r'\\d+ pitches',route_type_text)\n",
    "    if str(type(pitch_search)) == \"<class 'NoneType'>\":\n",
    "        num_pitches = 1\n",
    "    else:\n",
    "        num_pitches = pitch_search.group(0).split(' ')[0]\n",
    "    return int(num_pitches)\n",
    "\n",
    "df_usend_uniq['Listed Pitches'] = df_usend_uniq['re mainpage'].apply(get_pitches)\n"
   ]
  },
  {
   "cell_type": "code",
   "execution_count": null,
   "metadata": {},
   "outputs": [],
   "source": [
    "# Extract tick details\n",
    "\n",
    "def get_tick_details(res):\n",
    "    name = []\n",
    "    namelink = []\n",
    "    entrydate = []\n",
    "    pitches = []\n",
    "    style = []\n",
    "    lead_style = []\n",
    "    comment = []\n",
    "    soup = BeautifulSoup(res.text, 'html.parser')\n",
    "    \n",
    "    # print(soup.select(\"#route-stats > div.row.pt-main-content > div > h1\")) # Tells you which page is being scraped, useful for debugging\n",
    "    try:\n",
    "        blocks = list(soup.select(\"#route-stats > div:nth-child(2) > div:nth-last-child(1)\")[0].find_all('tr'))\n",
    "    except:\n",
    "        blocks = []\n",
    "    for x in blocks:\n",
    "        soup = BeautifulSoup(str(x), 'html.parser')\n",
    "        entries = soup.find_all('div', attrs={'class': None})\n",
    "        for entry in entries:\n",
    "            entrytext = entry.text\n",
    "            try:\n",
    "                name.append(soup.find('a').text.strip())\n",
    "            except:\n",
    "                name.append('')\n",
    "                \n",
    "            try:\n",
    "                namelink.append(soup.find('a')['href'].strip())\n",
    "            except:\n",
    "                namelink.append('')\n",
    "            \n",
    "            try:\n",
    "                date_search = [re.search(r'\\w{3}\\s\\d{1,2},\\s\\d{4}', entrytext)]\n",
    "                entrydate.append([subresult.group(0).strip() if subresult else '' for subresult in date_search][0]) # pulls match text if match object is not none\n",
    "            except:\n",
    "                entrydate.append('')\n",
    "            \n",
    "            try:\n",
    "                pitches_search = [re.search(r'·([^.]+\\s(pitches))', entrytext)] # regex for starting at · and ending at first period only if it includes the word \"pitches\"\n",
    "                pitchesinterm = [subresult.group(0) if subresult else '' for subresult in pitches_search]\n",
    "                pitches.append([int(re.search(r'\\d+', subresult).group(0).strip()) if subresult else 1 for subresult in pitchesinterm][0]) # take just the digit of the string\n",
    "            except:\n",
    "                pitches.append(1)\n",
    "            \n",
    "            try:\n",
    "                style_search = [re.search(r\"(solo|tr|follow|lead|send|attempt|flash)\", entrytext.lower())]\n",
    "                style_val = [subresult.group(0).strip() if subresult else '' for subresult in style_search][0] # I have a conditional in the comment search that depends on this so I made it a separate variable\n",
    "                style.append(style_val)\n",
    "            except:\n",
    "                style.append('')\n",
    "            \n",
    "            try:\n",
    "                if style_val != '':\n",
    "                    lead_style_search = [re.search(r\"/([^.]+)\", entrytext.lower())]\n",
    "                    lead_style.append([subresult.group(0)[2:].strip() if subresult else '' for subresult in lead_style_search][0])\n",
    "                else:\n",
    "                    lead_style.append('')\n",
    "            except:\n",
    "                lead_style.append('')\n",
    "            \n",
    "            try:\n",
    "                if style_val != '': \n",
    "                    comment_search = [re.search(r\"(Solo|TR|Follow|Lead).*\", entrytext)]\n",
    "                    commentinterm = ([subresult.group(0) if subresult else '' for subresult in comment_search])\n",
    "                    comment.append([re.search(r\"\\..*\", subresult).group(0)[2:].strip() if subresult else '' for subresult in commentinterm][0])\n",
    "                else:\n",
    "                    comment_search = [re.search(r\"·(.*)\", entrytext)] # If no style comment then entire phrase is the comment.\n",
    "                    comment.append([subresult.group(0)[2:].strip() if subresult else '' for subresult in comment_search][0])\n",
    "            except:\n",
    "                comment.append('')\n",
    "    # print (len(name),len(namelink),len(entrydate),len(pitches),len(style),len(lead_style),len(comment))\n",
    "    # print (name,namelink,entrydate,pitches,style,lead_style,comment)\n",
    "    d = pd.DataFrame({'Username' : name, \"User Link\" : namelink, \"Entry Date\": entrydate, \"Pitches\": pitches, \"Style\": style, \"Lead Style\": lead_style, \"Comment\": comment})\n",
    "    # One last possible error correction, an oomlot injected a \"/\" into lead style and the regex incidentally detected it\n",
    "    d.loc[~d['Lead Style'].isin(TICK_OPTIONS), 'Lead Style'] = ''\n",
    "    return d\n",
    "\n",
    "df_usend_uniq['Statpage df']=df_usend_uniq['re statpage'].apply(get_tick_details)\n"
   ]
  },
  {
   "cell_type": "code",
   "execution_count": null,
   "metadata": {},
   "outputs": [],
   "source": [
    "# Analyze tick details\n",
    "\n",
    "def unpack_style(statpage_df, colref):\n",
    "    nest_list = []\n",
    "    for row in statpage_df.index:\n",
    "        styleval = statpage_df[colref][row]\n",
    "        if styleval in CLEAN_SEND: # clean sends with multiple ticks are assumed to be fell/hung attempts up to that clean send.\n",
    "            nest_list.append([statpage_df[colref][row]])\n",
    "            nest_list.append((statpage_df['Pitches'][row]-1)*['fell/hung'])\n",
    "        else:\n",
    "            nest_list.append(statpage_df['Pitches'][row]*[statpage_df[colref][row]])\n",
    "    flat_list = [num for sublist in nest_list for num in sublist]\n",
    "    return flat_list\n",
    "\n",
    "def analyze_tick_counts(statpagedf):\n",
    "    search_counts_init = pd.Series(np.nan, index=TICK_OPTIONS).to_frame()\n",
    "    tick_type_list = unpack_style(statpagedf, 'Style') + unpack_style(statpagedf, 'Lead Style')\n",
    "    tick_type_list = list(filter(None, tick_type_list))\n",
    "    search_counts = pd.Series(tick_type_list).value_counts().dropna().to_frame()\n",
    "    search_counts = search_counts_init.fillna(search_counts).fillna(0).squeeze()\n",
    "    lead_ratio = search_counts['lead']/(search_counts['follow'] + search_counts['tr'] + search_counts['lead'])\n",
    "    os_ratio = (search_counts['onsight'] + search_counts['flash']) / (search_counts['onsight'] + search_counts['flash'] + search_counts['fell/hung'] + search_counts['redpoint'] + search_counts['pinkpoint'] + search_counts['attempt'] + search_counts['send'])\n",
    "    return pd.Series([lead_ratio, os_ratio])\n",
    "\n",
    "df_usend_uniq[['Lead Ratio', 'OS Ratio']] = df_usend_uniq['Statpage df'].apply(analyze_tick_counts)"
   ]
  },
  {
   "cell_type": "code",
   "execution_count": 10,
   "metadata": {},
   "outputs": [],
   "source": [
    "# Let's save the now scraped dataframe to a pickle file\n",
    "df_usend_uniq.to_pickle('../Data_Archive/df_archive_base')"
   ]
  },
  {
   "cell_type": "code",
   "execution_count": 130,
   "metadata": {},
   "outputs": [],
   "source": [
    "# Load the pickle file\n",
    "picklefile = open('../Data_Archive/df_archive_base', 'rb')\n",
    "df_usend_uniq = pickle.load(picklefile)"
   ]
  },
  {
   "cell_type": "markdown",
   "metadata": {},
   "source": [
    "Now we further clean up our data set."
   ]
  },
  {
   "cell_type": "code",
   "execution_count": 6,
   "metadata": {},
   "outputs": [],
   "source": [
    "# Define roped and bouldering specific subset\n",
    "roped_subset = (df_usend_uniq['Route Type'] == 'sport') | (df_usend_uniq['Route Type'] == 'trad')\n",
    "boulder_subset = (df_usend_uniq['Route Type'] == 'boulder')"
   ]
  },
  {
   "cell_type": "code",
   "execution_count": null,
   "metadata": {},
   "outputs": [],
   "source": [
    "# Handle route length outliers\n",
    "ROPED_MIN_LENGTH = 15\n",
    "ROPED_MAX_LENGTH = 4500 #\"Trango Towers\" are 4,300' tall\n",
    "BOULDER_MIN_LENGTH = 0\n",
    "BOULDER_MAX_LENGTH = 55 #\"Too Tall to Fall\" is 50'\n",
    "\n",
    "# Fix outliers\n",
    "def fix_length_outliers(dataframe, subset, minlength, maxlength):\n",
    "    length_outliers = dataframe[subset][(dataframe[subset]['Length'] <= minlength) | (dataframe[subset]['Length'] >= maxlength)]\n",
    "    for loop_count, (index, data) in enumerate(length_outliers.iterrows()):\n",
    "        updated_length = pyip.inputNum(f\"[{loop_count+1}/{length_outliers.shape[0]}] Outlier Detected, Possible Bad Info. Input Corrected Length for\\nRoute: {data['Route']}\\nLocation: {'>'.join(data['Location'].split('>')[-3:])}\\nCurrently: {data['Length']}ft\\n\", min=minlength, max=maxlength)\n",
    "        dataframe.at[index, 'Length'] = updated_length\n",
    "    return dataframe\n",
    "\n",
    "# Fill empty route lengths\n",
    "def fill_length_empties(dataframe, subset, minlength, maxlength):\n",
    "    length_missing = dataframe[subset][dataframe[subset]['Length'].isnull()]\n",
    "    for loop_count, (index, data) in enumerate(length_missing.iterrows()):\n",
    "        updated_length = pyip.inputNum(f\"[{loop_count+1}/{length_missing.shape[0]}] Input Estimated Length for\\nRoute: {data['Route']}\\nLocation: {'>'.join(data['Location'].split('>')[-3:])}\\n\", min=minlength, max=maxlength)\n",
    "        dataframe.at[index, 'Length'] = updated_length\n",
    "    return dataframe\n",
    "\n",
    "df_usend_uniq = fix_length_outliers(df_usend_uniq, roped_subset, ROPED_MIN_LENGTH, ROPED_MAX_LENGTH)\n",
    "df_usend_uniq = fill_length_empties(df_usend_uniq, roped_subset, ROPED_MIN_LENGTH, ROPED_MAX_LENGTH)\n",
    "df_usend_uniq = fix_length_outliers(df_usend_uniq, boulder_subset, BOULDER_MIN_LENGTH, BOULDER_MAX_LENGTH)\n",
    "df_usend_uniq = fill_length_empties(df_usend_uniq, boulder_subset, BOULDER_MIN_LENGTH, BOULDER_MAX_LENGTH)\n",
    "\n",
    "#TODO allow user to select \"assign median height from area\"\n",
    "#TODO check if route length is an outlier for area in addition to \"globally\" an outlier. Might be more accurate."
   ]
  },
  {
   "cell_type": "code",
   "execution_count": 164,
   "metadata": {},
   "outputs": [],
   "source": [
    "df_woah = df_usend.drop_duplicates(subset=\"Route ID\")\n",
    "df_usend_uniq['Original Rating'] = df_woah['Rating']"
   ]
  },
  {
   "cell_type": "code",
   "execution_count": 165,
   "metadata": {},
   "outputs": [
    {
     "name": "stdout",
     "output_type": "stream",
     "text": [
      "ROPED GRADES\n",
      "Select Roped Grade Homogenization Type:\n",
      "1)5.10- / 5.10 / 5.10+\n",
      "2)5.10a / 5.10b / 5.10c / 5.10d (Requires additional effort)\n",
      "Please select one of: 1, 2\n",
      "Please select one of: round down, round up, round evenly, hand determine\n",
      "BOULDER GRADES\n",
      "Select Boulder Grade Homogenization Type:\n",
      "1)V1\n",
      "2)V1- / V1 / V1+\n",
      "Please select one of: 1, 2\n",
      "Please select one of: round down, round up, round evenly, hand determine\n"
     ]
    }
   ],
   "source": [
    "# Homogenize Grades\n",
    "grade_homo_choice = ['round down', 'round up', 'round evenly', 'hand determine']\n",
    "rating_isolate = df_usend_uniq['Original Rating'].apply(lambda row: [val for val in row.split()][0])\n",
    "\n",
    "#Roped Grades\n",
    "print('ROPED GRADES')\n",
    "print('Select Roped Grade Homogenization Type:\\n1)5.10- / 5.10 / 5.10+\\n2)5.10a / 5.10b / 5.10c / 5.10d (Requires additional effort)')\n",
    "r_grade_homo_type = pyip.inputChoice(['1','2'])\n",
    "if r_grade_homo_type == '2':\n",
    "    r_grade_homo_dir = pyip.inputChoice(grade_homo_choice)\n",
    "\n",
    "rgrademoderatemap = {'5.6-': '5.6', '5.6+': '5.6', '5.7-': '5.7', '5.7+': '5.7', '5.8-': '5.8', '5.8+': '5.8', '5.9-': '5.9', '5.9+': '5.9'}\n",
    "rgradedownmap = {'5.10a/b': '5.10a', '5.10-': '5.10a', '5.10b/c': '5.10b', '5.10': '5.10b', '5.10c/d': '5.10c', '5.10+': '5.10c',\n",
    "            '5.11a/b': '5.11a', '5.11-': '5.11a', '5.11b/c': '5.11b', '5.11': '5.11b', '5.11c/d': '5.11c', '5.11+': '5.11c',\n",
    "            '5.12a/b': '5.12a', '5.12-': '5.12a', '5.12b/c': '5.12b', '5.12': '5.12b', '5.12c/d': '5.12c', '5.12+': '5.12c',\n",
    "            '5.13a/b': '5.13a', '5.13-': '5.13a', '5.13b/c': '5.13b', '5.13': '5.13b', '5.13c/d': '5.13c', '5.13+': '5.13c',\n",
    "            '5.14a/b': '5.14a', '5.14-': '5.14a', '5.14b/c': '5.14b', '5.14': '5.14b', '5.14c/d': '5.14c', '5.14+': '5.14c',\n",
    "            '5.15a/b': '5.15a', '5.15-': '5.15a', '5.15b/c': '5.15b', '5.15': '5.15b', '5.15c/d': '5.15c', '5.15+': '5.15c',\n",
    "}\n",
    "rgradeupmap = {'5.10a/b': '5.10b', '5.10-': '5.10b', '5.10b/c': '5.10c', '5.10': '5.10c', '5.10c/d': '5.10d', '5.10+': '5.10d',\n",
    "            '5.11a/b': '5.11b', '5.11-': '5.11b', '5.11b/c': '5.11c', '5.11': '5.11c', '5.11c/d': '5.11d', '5.11+': '5.11d',\n",
    "            '5.12a/b': '5.12b', '5.12-': '5.12b', '5.12b/c': '5.12c', '5.12': '5.12c', '5.12c/d': '5.12d', '5.12+': '5.12d',\n",
    "            '5.13a/b': '5.13b', '5.13-': '5.13b', '5.13b/c': '5.13c', '5.13': '5.13c', '5.13c/d': '5.13d', '5.13+': '5.13d',\n",
    "            '5.14a/b': '5.14b', '5.14-': '5.14b', '5.14b/c': '5.14c', '5.14': '5.14c', '5.14c/d': '5.14d', '5.14+': '5.14d',\n",
    "            '5.15a/b': '5.15b', '5.15-': '5.15b', '5.15b/c': '5.15c', '5.15': '5.15c', '5.15c/d': '5.15d', '5.15+': '5.15d',\n",
    "}\n",
    "rgradecompmap = {'5.10a': '5.10-', '5.10a/b': '5.10-', '5.10b': '5.10', '5.10c':'5.10', '5.10b/c': '5.10', '5.10d': '5.10+', '5.10c/d': '5.10+',\n",
    "            '5.11a': '5.11-', '5.11a/b': '5.11-', '5.11b': '5.11','5.11c':'5.10', '5.11b/c': '5.11', '5.11d': '5.11+', '5.11c/d': '5.11+',\n",
    "            '5.12a': '5.12-', '5.12a/b': '5.12-', '5.12b': '5.12','5.12c':'5.10', '5.12b/c': '5.12', '5.12d': '5.12+', '5.12c/d': '5.12+',\n",
    "            '5.13a': '5.13-', '5.13a/b': '5.13-', '5.13b': '5.13','5.13c':'5.10', '5.130b/c': '5.13', '5.13d': '5.13+', '5.13c/d': '5.13+',\n",
    "            '5.14a': '5.14-', '5.14a/b': '5.14-', '5.14b': '5.14','5.14c':'5.10', '5.14b/c': '5.14', '5.14d': '5.14+', '5.14c/d': '5.14+',\n",
    "}\n",
    "\n",
    "def grademoderate():\n",
    "    grade_change_subset = rating_isolate.isin(list(rgrademoderatemap.keys()))\n",
    "    df_usend_uniq.loc[grade_change_subset, 'Rating'] = df_usend_uniq.loc[grade_change_subset]['Original Rating'].map(rgrademoderatemap)\n",
    "\n",
    "def grade_split(upmap, downmap):\n",
    "    grade_change_subset = rating_isolate.isin(list(upmap.keys()))\n",
    "    grade_change_subset_df = df_usend_uniq[grade_change_subset]\n",
    "    for grade in grade_change_subset_df['Original Rating'].unique():\n",
    "        to_change = grade_change_subset_df[grade_change_subset_df['Original Rating'] == grade]\n",
    "        changed_up = to_change.sample(frac=0.5)['Original Rating'].map(upmap)\n",
    "        df_usend_uniq.loc[changed_up.index, 'Rating'] = changed_up\n",
    "    grade_change_subset = rating_isolate.isin(list(downmap.keys()))\n",
    "    grade_change_subset_df = df_usend_uniq[grade_change_subset]\n",
    "    for grade in grade_change_subset_df['Original Rating'].unique():\n",
    "        to_change = grade_change_subset_df[grade_change_subset_df['Original Rating'] == grade]\n",
    "        changed_down = to_change['Original Rating'].map(downmap)\n",
    "        df_usend_uniq.loc[changed_down.index, 'Rating'] = changed_down\n",
    "\n",
    "if r_grade_homo_type == '1':\n",
    "    grade_change_subset = rating_isolate.isin(list(rgradecompmap.keys()))\n",
    "    df_usend_uniq.loc[grade_change_subset, 'Rating'] = df_usend_uniq[grade_change_subset]['Original Rating'].map(rgradecompmap)\n",
    "else:\n",
    "    if r_grade_homo_dir == grade_homo_choice[0]:\n",
    "        grademoderate()\n",
    "        grade_change_subset = rating_isolate.isin(list(rgradedownmap.keys()))\n",
    "        df_usend_uniq.loc[grade_change_subset, 'Rating'] = df_usend_uniq[grade_change_subset]['Original Rating'].map(rgradedownmap)\n",
    "    if r_grade_homo_dir == grade_homo_choice[1]:\n",
    "        grademoderate()\n",
    "        grade_change_subset = rating_isolate.isin(list(rgradeupmap.keys()))\n",
    "        df_usend_uniq.loc[grade_change_subset, 'Rating'] = df_usend_uniq[grade_change_subset]['Original Rating'].map(rgradeupmap)\n",
    "    if r_grade_homo_dir == grade_homo_choice[2]:\n",
    "        grademoderate()\n",
    "        grade_split(rgradeupmap,rgradedownmap)\n",
    "    if r_grade_homo_dir == grade_homo_choice[3]:\n",
    "        needs_grade_corr = df_usend_uniq[rating_isolate.isin(list(rgrademoderatemap.keys()) + list(rgradedownmap.keys()))]\n",
    "        for loop_count, (index, data) in enumerate(needs_grade_corr.iterrows()):\n",
    "            updated_grade = pyip.inputChoice(prompt=f\"[{loop_count+1}/{needs_grade_corr.shape[0]}] Input Grade Correction For: {data['Route'].title()}:\\n\", choices=YDS_GRADES_LETTER)\n",
    "            df_usend_uniq.at[index, 'Rating'] = updated_grade\n",
    "\n",
    "#Boulder Grades\n",
    "print('BOULDER GRADES')\n",
    "print('Select Boulder Grade Homogenization Type:\\n1)V1\\n2)V1- / V1 / V1+')\n",
    "b_grade_homo_type = pyip.inputChoice(['1','2'])\n",
    "b_grade_homo_dir = pyip.inputChoice(grade_homo_choice)\n",
    "\n",
    "#1 type\n",
    "bgradedownmap1 = {'v0-1': 'v0', 'v1-2': 'v1', 'v2-3': 'v2', 'v3-4': 'v3', 'v4-5': 'v4', 'v5-6': 'v5', 'v6-7': 'v6', 'v7-8': 'v7', 'v8-9': 'v8', 'v9-10': 'v9', 'v10-11': 'v10', 'v11-12': 'v11', 'v12-13': 'v12', 'v13-14': 'v13', 'v14-15': 'v14', 'v15-16':'v15', 'v16-17': 'v16'}\n",
    "bgradeupmap1 = {'v0-1': 'v1', 'v1-2': 'v2', 'v2-3': 'v3', 'v3-4': 'v4', 'v4-5': 'v5', 'v5-6': 'v6', 'v6-7': 'v7', 'v7-8': 'v8', 'v8-9': 'v9', 'v9-10': 'v10', 'v10-11': 'v11', 'v11-12': 'v12', 'v12-13': 'v13', 'v13-14': 'v14', 'v14-15': 'v15', 'v15-16':'v16', 'v16-17': 'v17'}\n",
    "bgradeconmap1 = {'v0-': 'v0', 'v0+': 'v0', 'v1-': 'v1', 'v1+': 'v1', 'v2-': 'v2', 'v2+': 'v2', 'v3-': 'v3', 'v3+': 'v3', 'v4-': 'v4', 'v4+': 'v4', 'v5-': 'v5', 'v5+': 'v5', 'v6-': 'v6', 'v6+': 'v6', 'v7-': 'v7', 'v7+': 'v7', 'v8-': 'v8', 'v8+': 'v8', \n",
    "                'v9-': 'v9', 'v9+': 'v9', 'v10-': 'v10', 'v10+': 'v10', 'v11-': 'v11', 'v11+': 'v11', 'v12-': 'v12', 'v12+': 'v12', 'v13-': 'v13', 'v13+': 'v13', 'v14-': 'v14', 'v14+': 'v14', 'v15-': 'v15', 'v15+': 'v15', 'v16-': 'v16', 'v16+': 'v16', 'v17-': 'v17', 'v17+': 'v17'}\n",
    "#2 type\n",
    "bgradedownmap2 = {'v0-1': 'v0+', 'v1-2': 'v1+', 'v2-3': 'v2+', 'v3-4': 'v3+', 'v4-5': 'v4+', 'v5-6': 'v5+', 'v6-7': 'v6+', 'v7-8': 'v7+', 'v8-9': 'v8+', 'v9-10': 'v9+', 'v10-11': 'v10+', 'v11-12': 'v11+', 'v12-13': 'v12+', 'v13-14': 'v13+', 'v14-15': 'v14+', 'v15-16':'v15+', 'v16-17': 'v16+'}\n",
    "bgradeupmap2 = {'v0-1': 'v1-', 'v1-2': 'v2-', 'v2-3': 'v3-', 'v3-4': 'v4-', 'v4-5': 'v5-', 'v5-6': 'v6-', 'v6-7': 'v7-', 'v7-8': 'v8-', 'v8-9': 'v9-', 'v9-10-': 'v10', 'v10-11': 'v11-', 'v11-12': 'v12-', 'v12-13': 'v13-', 'v13-14': 'v14-', 'v14-15': 'v15-', 'v15-16':'v16-', 'v16-17': 'v17-'}\n",
    "\n",
    "if b_grade_homo_type == '1':\n",
    "    # Remove all + and - grades\n",
    "    grade_change_subset = rating_isolate.isin(list(bgradeconmap1.keys()))\n",
    "    df_usend_uniq.loc[grade_change_subset, 'Rating'] = df_usend_uniq[grade_change_subset]['Original Rating'].map(bgradeconmap1)\n",
    "\n",
    "    if b_grade_homo_dir == grade_homo_choice[0]:\n",
    "        grade_change_subset = rating_isolate.isin(list(bgradedownmap1.keys()))\n",
    "        df_usend_uniq.loc[grade_change_subset, 'Rating'] = df_usend_uniq[grade_change_subset]['Original Rating'].map(bgradedownmap1)\n",
    "    if b_grade_homo_dir == grade_homo_choice[1]:\n",
    "        grade_change_subset = rating_isolate.isin(list(bgradeupmap1.keys()))\n",
    "        df_usend_uniq.loc[grade_change_subset, 'Rating'] = df_usend_uniq[grade_change_subset]['Original Rating'].map(bgradeupmap1)\n",
    "    if b_grade_homo_dir == grade_homo_choice[2]:\n",
    "        grade_split(bgradeupmap1,bgradedownmap1)\n",
    "    if b_grade_homo_dir == grade_homo_choice[3]:\n",
    "        needs_grade_corr = df_usend_uniq[rating_isolate.isin(list(bgradedownmap1.keys()))]\n",
    "        for loop_count, (index, data) in enumerate(needs_grade_corr.iterrows()):\n",
    "            updated_grade = pyip.inputChoice(prompt=f\"[{loop_count+1}/{needs_grade_corr.shape[0]}] Input Grade Correction For: {data['Route'].title()}:\\n\", choices=V_GRADES_BASIC)\n",
    "            df_usend_uniq.at[index, 'Rating'] = updated_grade\n",
    "\n",
    "if b_grade_homo_type =='2':\n",
    "    if b_grade_homo_dir == grade_homo_choice[0]:\n",
    "        grade_change_subset = rating_isolate.isin(list(bgradedownmap2.keys()))\n",
    "        df_usend_uniq.loc[grade_change_subset, 'Rating'] = df_usend_uniq[grade_change_subset]['Original Rating'].map(bgradedownmap2)\n",
    "    if b_grade_homo_dir == grade_homo_choice[1]:\n",
    "        grade_change_subset = rating_isolate.isin(list(bgradeupmap2.keys()))\n",
    "        df_usend_uniq.loc[grade_change_subset, 'Rating'] = df_usend_uniq[grade_change_subset]['Original Rating'].map(bgradeupmap2)\n",
    "    if b_grade_homo_dir == grade_homo_choice[2]:\n",
    "        grade_split(bgradeupmap2,bgradedownmap2)\n",
    "    if b_grade_homo_dir == grade_homo_choice[3]:\n",
    "        needs_grade_corr = df_usend_uniq[rating_isolate.isin(list(bgradedownmap2.keys()))]\n",
    "        for loop_count, (index, data) in enumerate(needs_grade_corr.iterrows()):\n",
    "            updated_grade = pyip.inputChoice(prompt=f\"[{loop_count+1}/{needs_grade_corr.shape[0]}] Input Grade Correction For: {data['Route'].title()}:\\n\", choices=V_GRADES_BASIC)\n",
    "            df_usend_uniq.at[index, 'Rating'] = updated_grade"
   ]
  },
  {
   "cell_type": "code",
   "execution_count": 93,
   "metadata": {},
   "outputs": [],
   "source": [
    "df_usend.to_pickle('../Data_Archive/df_archive_base_usend')"
   ]
  },
  {
   "cell_type": "code",
   "execution_count": 41,
   "metadata": {},
   "outputs": [],
   "source": [
    "picklefile = open('../Data_Archive/df_archive_base_usend', 'rb')\n",
    "df_usend = pickle.load(picklefile)"
   ]
  },
  {
   "cell_type": "code",
   "execution_count": 189,
   "metadata": {},
   "outputs": [],
   "source": [
    "# merge unique dataframe details to user data frame. This will delete the user data frame of length and rating information and replace it with that from the unique dataframe\n",
    "df_usendm = df_usend.copy() # We create a copy of the original df_usend to be consequently modified by the user. This leaves the original dataframe alone.\n",
    "df_usendm.drop(columns=['Rating', 'Length'], inplace=True)\n",
    "df_usendm = df_usendm.merge(df_usend_uniq[['Route ID', 'Listed Pitches', 'Lead Ratio', 'OS Ratio', 'Rating', 'Length']], how='left', on='Route ID')\n",
    "df_usendm = df_usendm[['Date', 'Route', 'Original Rating', 'Rating', 'Risk', 'Notes', 'URL', 'Pitches', 'Listed Pitches', 'Location', 'Avg Stars', 'Your Stars', 'Style', 'Lead Style', 'Route Type', 'Length', 'Rating Code','Route ID', 'Flash/Onsight', 'Grade Breakthrough', 'Worked Clean', 'Attempts', 'Lead Ratio', 'OS Ratio']] # Reorder"
   ]
  },
  {
   "cell_type": "code",
   "execution_count": 197,
   "metadata": {},
   "outputs": [
    {
     "name": "stderr",
     "output_type": "stream",
     "text": [
      "C:\\Users\\Brayden\\AppData\\Local\\Temp\\ipykernel_13844\\133803154.py:12: FutureWarning:\n",
      "\n",
      "Not prepending group keys to the result index of transform-like apply. In the future, the group keys will be included in the index, regardless of whether the applied function returns a like-indexed object.\n",
      "To preserve the previous behavior, use\n",
      "\n",
      "\t>>> .groupby(..., group_keys=False)\n",
      "\n",
      "To adopt the future behavior and silence this warning, use \n",
      "\n",
      "\t>>> .groupby(..., group_keys=True)\n",
      "\n"
     ]
    }
   ],
   "source": [
    "# We want to tag important climbs, namely flash/onsights, worked clean routes and grade breakthroughs.\n",
    "\n",
    "# Tag climbs that were flash/onsight\n",
    "df_usendm.loc[df_usendm['Lead Style'].isin(CLEAN_SEND_FIRST), 'Flash/Onsight'] = True\n",
    "\n",
    "# Create column that flags climbs that were worked. There are three possibilities to consider. We want 1 and 2.\n",
    "# 1. Worked to clean send, no further sends.\n",
    "# 2. Worked to clean send, additional attempts.\n",
    "# 3. Sent clean first try, additional attempts.\n",
    "df_all_dupes = df_usendm[df_usendm.duplicated(subset=\"Route ID\", keep=False)] # First we filter for all duplicate entries.\n",
    "df_all_worked = df_all_dupes.groupby('Route ID').filter(lambda x: ~x['Lead Style'].isin(CLEAN_SEND_FIRST).any()) # Then we remove all groups which have a lead style of flash or onsight to eliminate group 3.\n",
    "df_worked_sub1 = df_all_worked[df_all_worked.groupby('Route ID')['Lead Style'].apply(lambda x: x.isin(CLEAN_SEND_WORKED))] # fell/hungs and TRs remain, so we take ticks from CLEAN_SEND_WORKED.\n",
    "df_worked_sub2 = df_worked_sub1.loc[df_worked_sub1.groupby('Route ID')['Date'].idxmin()] # Use only the earliest redpoint to correctly identify the first redpoint.\n",
    "df_usendm.loc[df_worked_sub2.index.values, \"Worked Clean\"] = True\n",
    "\n",
    "# Flag grade breakthrough ticks\n",
    "dfbreakthr = df_usendm[(df_usendm['Flash/Onsight'] == True) | (df_usendm['Worked Clean'] == True)]\n",
    "breakthrough_indexes = dfbreakthr.groupby('Rating')['Date'].idxmin().values\n",
    "df_usendm.loc[breakthrough_indexes, \"Grade Breakthrough\"] = True\n",
    "df_usendm.loc[breakthrough_indexes]\n",
    "\n",
    "# Count number of attempts to send\n",
    "# Assumes no style lead ticks are fell/hung\n",
    "# Assumes rp/pp with no prior tick history has one prior attempt\n",
    "# Counts clean ticks with multiple pitches as total attempts. It also counts fell/hung, and TR with multiple pitches as multiple attempts.\n",
    "# !!! This will falsely identify a single pitch climb broken into multiple pitches as two attempts, there isn't really a good way to detect this.\n",
    "df_all_worked.loc[df_worked_sub2.index.values, \"Worked Clean\"] = True # To make the next line work properly, we need to backfill the \"worked clean\" flag to worked clean.\n",
    "df_all_worked.drop(df_all_worked[(df_all_worked['Lead Style'].isin(CLEAN_SEND_WORKED)) & (df_all_worked['Worked Clean'] == '')].index, inplace=True) # remove all redpoints/pinkpoints after first for purpose of counting attempts, this can be done by removing all rows that are redpoints but not marked 'worked clean'\n",
    "num_to_send = df_all_worked.groupby('Route ID')['Pitches'].sum()\n",
    "matched_attempts = df_usendm[df_usendm['Worked Clean'] == True].merge(num_to_send, on=\"Route ID\", how=\"left\")\n",
    "matched_attempts.index = df_usendm[df_usendm['Worked Clean'] == True].index # I'm dumb and this is the best way I could find to get my index to remain\n",
    "df_usendm.loc[matched_attempts.index, \"Attempts\"] = matched_attempts.iloc[:,-1]\n",
    "df_usendm.loc[df_usendm['Attempts'] == 1, 'Attempts'] = 2 # This assumes rp with 1 pitch and no prior ticks had one prior attempt"
   ]
  },
  {
   "cell_type": "code",
   "execution_count": 196,
   "metadata": {},
   "outputs": [
    {
     "data": {
      "text/html": [
       "<div>\n",
       "<style scoped>\n",
       "    .dataframe tbody tr th:only-of-type {\n",
       "        vertical-align: middle;\n",
       "    }\n",
       "\n",
       "    .dataframe tbody tr th {\n",
       "        vertical-align: top;\n",
       "    }\n",
       "\n",
       "    .dataframe thead th {\n",
       "        text-align: right;\n",
       "    }\n",
       "</style>\n",
       "<table border=\"1\" class=\"dataframe\">\n",
       "  <thead>\n",
       "    <tr style=\"text-align: right;\">\n",
       "      <th></th>\n",
       "      <th>Date</th>\n",
       "      <th>Route</th>\n",
       "      <th>Original Rating</th>\n",
       "      <th>Rating</th>\n",
       "      <th>Risk</th>\n",
       "      <th>Notes</th>\n",
       "      <th>URL</th>\n",
       "      <th>Pitches</th>\n",
       "      <th>Listed Pitches</th>\n",
       "      <th>Location</th>\n",
       "      <th>Avg Stars</th>\n",
       "      <th>Your Stars</th>\n",
       "      <th>Style</th>\n",
       "      <th>Lead Style</th>\n",
       "      <th>Route Type</th>\n",
       "      <th>Length</th>\n",
       "      <th>Rating Code</th>\n",
       "      <th>Route ID</th>\n",
       "      <th>Flash/Onsight</th>\n",
       "      <th>Grade Breakthrough</th>\n",
       "      <th>Worked Clean</th>\n",
       "      <th>Attempts</th>\n",
       "      <th>Lead Ratio</th>\n",
       "      <th>OS Ratio</th>\n",
       "    </tr>\n",
       "  </thead>\n",
       "  <tbody>\n",
       "    <tr>\n",
       "      <th>45</th>\n",
       "      <td>2022-10-08</td>\n",
       "      <td>makunaima</td>\n",
       "      <td>5.11c</td>\n",
       "      <td>5.11c</td>\n",
       "      <td></td>\n",
       "      <td>i'm very proud of this one. it went in good st...</td>\n",
       "      <td>https://www.mountainproject.com/route/10599032...</td>\n",
       "      <td>1</td>\n",
       "      <td>1</td>\n",
       "      <td>california &gt; central coast &gt; santa barbara &gt; g...</td>\n",
       "      <td>3.9</td>\n",
       "      <td>-1</td>\n",
       "      <td>lead</td>\n",
       "      <td>redpoint</td>\n",
       "      <td>trad</td>\n",
       "      <td>90.0</td>\n",
       "      <td>5200</td>\n",
       "      <td>105990326</td>\n",
       "      <td></td>\n",
       "      <td></td>\n",
       "      <td></td>\n",
       "      <td></td>\n",
       "      <td>0.24</td>\n",
       "      <td>0.0</td>\n",
       "    </tr>\n",
       "    <tr>\n",
       "      <th>49</th>\n",
       "      <td>2022-10-08</td>\n",
       "      <td>makunaima</td>\n",
       "      <td>5.11c</td>\n",
       "      <td>5.11c</td>\n",
       "      <td></td>\n",
       "      <td>biffed my beta on the crux. figured out my bet...</td>\n",
       "      <td>https://www.mountainproject.com/route/10599032...</td>\n",
       "      <td>1</td>\n",
       "      <td>1</td>\n",
       "      <td>california &gt; central coast &gt; santa barbara &gt; g...</td>\n",
       "      <td>3.9</td>\n",
       "      <td>-1</td>\n",
       "      <td>lead</td>\n",
       "      <td>fell/hung</td>\n",
       "      <td>trad</td>\n",
       "      <td>90.0</td>\n",
       "      <td>5200</td>\n",
       "      <td>105990326</td>\n",
       "      <td></td>\n",
       "      <td></td>\n",
       "      <td></td>\n",
       "      <td></td>\n",
       "      <td>0.24</td>\n",
       "      <td>0.0</td>\n",
       "    </tr>\n",
       "    <tr>\n",
       "      <th>59</th>\n",
       "      <td>2022-08-23</td>\n",
       "      <td>makunaima</td>\n",
       "      <td>5.11c</td>\n",
       "      <td>5.11c</td>\n",
       "      <td></td>\n",
       "      <td>another lap, nice and smooth. i think i'm ready!</td>\n",
       "      <td>https://www.mountainproject.com/route/10599032...</td>\n",
       "      <td>1</td>\n",
       "      <td>1</td>\n",
       "      <td>california &gt; central coast &gt; santa barbara &gt; g...</td>\n",
       "      <td>3.9</td>\n",
       "      <td>-1</td>\n",
       "      <td>tr</td>\n",
       "      <td>NaN</td>\n",
       "      <td>trad</td>\n",
       "      <td>90.0</td>\n",
       "      <td>5200</td>\n",
       "      <td>105990326</td>\n",
       "      <td></td>\n",
       "      <td></td>\n",
       "      <td></td>\n",
       "      <td></td>\n",
       "      <td>0.24</td>\n",
       "      <td>0.0</td>\n",
       "    </tr>\n",
       "    <tr>\n",
       "      <th>61</th>\n",
       "      <td>2022-08-20</td>\n",
       "      <td>makunaima</td>\n",
       "      <td>5.11c</td>\n",
       "      <td>5.11c</td>\n",
       "      <td></td>\n",
       "      <td>- 4 rs with a draw right of the horn.\\r\\n- 0.3...</td>\n",
       "      <td>https://www.mountainproject.com/route/10599032...</td>\n",
       "      <td>3</td>\n",
       "      <td>1</td>\n",
       "      <td>california &gt; central coast &gt; santa barbara &gt; g...</td>\n",
       "      <td>3.9</td>\n",
       "      <td>-1</td>\n",
       "      <td>tr</td>\n",
       "      <td>NaN</td>\n",
       "      <td>trad</td>\n",
       "      <td>90.0</td>\n",
       "      <td>5200</td>\n",
       "      <td>105990326</td>\n",
       "      <td></td>\n",
       "      <td></td>\n",
       "      <td></td>\n",
       "      <td></td>\n",
       "      <td>0.24</td>\n",
       "      <td>0.0</td>\n",
       "    </tr>\n",
       "    <tr>\n",
       "      <th>70</th>\n",
       "      <td>2022-07-17</td>\n",
       "      <td>makunaima</td>\n",
       "      <td>5.11c</td>\n",
       "      <td>5.11c</td>\n",
       "      <td></td>\n",
       "      <td>three solid attempts. figured out how to pass ...</td>\n",
       "      <td>https://www.mountainproject.com/route/10599032...</td>\n",
       "      <td>3</td>\n",
       "      <td>1</td>\n",
       "      <td>california &gt; central coast &gt; santa barbara &gt; g...</td>\n",
       "      <td>3.9</td>\n",
       "      <td>-1</td>\n",
       "      <td>tr</td>\n",
       "      <td>NaN</td>\n",
       "      <td>trad</td>\n",
       "      <td>90.0</td>\n",
       "      <td>5200</td>\n",
       "      <td>105990326</td>\n",
       "      <td></td>\n",
       "      <td></td>\n",
       "      <td></td>\n",
       "      <td></td>\n",
       "      <td>0.24</td>\n",
       "      <td>0.0</td>\n",
       "    </tr>\n",
       "    <tr>\n",
       "      <th>240</th>\n",
       "      <td>2021-04-25</td>\n",
       "      <td>makunaima</td>\n",
       "      <td>5.11c</td>\n",
       "      <td>5.11c</td>\n",
       "      <td></td>\n",
       "      <td>3x laps. remember to reach high on the first r...</td>\n",
       "      <td>https://www.mountainproject.com/route/10599032...</td>\n",
       "      <td>3</td>\n",
       "      <td>1</td>\n",
       "      <td>california &gt; central coast &gt; santa barbara &gt; g...</td>\n",
       "      <td>3.9</td>\n",
       "      <td>-1</td>\n",
       "      <td>tr</td>\n",
       "      <td>NaN</td>\n",
       "      <td>trad</td>\n",
       "      <td>90.0</td>\n",
       "      <td>5200</td>\n",
       "      <td>105990326</td>\n",
       "      <td></td>\n",
       "      <td></td>\n",
       "      <td></td>\n",
       "      <td></td>\n",
       "      <td>0.24</td>\n",
       "      <td>0.0</td>\n",
       "    </tr>\n",
       "    <tr>\n",
       "      <th>305</th>\n",
       "      <td>2021-01-09</td>\n",
       "      <td>makunaima</td>\n",
       "      <td>5.11c</td>\n",
       "      <td>5.11c</td>\n",
       "      <td></td>\n",
       "      <td>cleared all of the moves, but yet to have done...</td>\n",
       "      <td>https://www.mountainproject.com/route/10599032...</td>\n",
       "      <td>2</td>\n",
       "      <td>1</td>\n",
       "      <td>california &gt; central coast &gt; santa barbara &gt; g...</td>\n",
       "      <td>3.9</td>\n",
       "      <td>-1</td>\n",
       "      <td>tr</td>\n",
       "      <td>NaN</td>\n",
       "      <td>trad</td>\n",
       "      <td>90.0</td>\n",
       "      <td>5200</td>\n",
       "      <td>105990326</td>\n",
       "      <td></td>\n",
       "      <td></td>\n",
       "      <td></td>\n",
       "      <td></td>\n",
       "      <td>0.24</td>\n",
       "      <td>0.0</td>\n",
       "    </tr>\n",
       "    <tr>\n",
       "      <th>372</th>\n",
       "      <td>2020-08-19</td>\n",
       "      <td>makunaima</td>\n",
       "      <td>5.11c</td>\n",
       "      <td>5.11c</td>\n",
       "      <td></td>\n",
       "      <td>3x half pitch yoyo, so hot. not much progress.</td>\n",
       "      <td>https://www.mountainproject.com/route/10599032...</td>\n",
       "      <td>1</td>\n",
       "      <td>1</td>\n",
       "      <td>california &gt; central coast &gt; santa barbara &gt; g...</td>\n",
       "      <td>3.9</td>\n",
       "      <td>-1</td>\n",
       "      <td>tr</td>\n",
       "      <td>NaN</td>\n",
       "      <td>trad</td>\n",
       "      <td>90.0</td>\n",
       "      <td>5200</td>\n",
       "      <td>105990326</td>\n",
       "      <td></td>\n",
       "      <td></td>\n",
       "      <td></td>\n",
       "      <td></td>\n",
       "      <td>0.24</td>\n",
       "      <td>0.0</td>\n",
       "    </tr>\n",
       "    <tr>\n",
       "      <th>386</th>\n",
       "      <td>2020-07-29</td>\n",
       "      <td>makunaima</td>\n",
       "      <td>5.11c</td>\n",
       "      <td>5.11c</td>\n",
       "      <td></td>\n",
       "      <td>yoyo'd, 4x tries. workin' it. made it to just ...</td>\n",
       "      <td>https://www.mountainproject.com/route/10599032...</td>\n",
       "      <td>1</td>\n",
       "      <td>1</td>\n",
       "      <td>california &gt; central coast &gt; santa barbara &gt; g...</td>\n",
       "      <td>3.9</td>\n",
       "      <td>-1</td>\n",
       "      <td>tr</td>\n",
       "      <td>NaN</td>\n",
       "      <td>trad</td>\n",
       "      <td>90.0</td>\n",
       "      <td>5200</td>\n",
       "      <td>105990326</td>\n",
       "      <td></td>\n",
       "      <td></td>\n",
       "      <td></td>\n",
       "      <td></td>\n",
       "      <td>0.24</td>\n",
       "      <td>0.0</td>\n",
       "    </tr>\n",
       "  </tbody>\n",
       "</table>\n",
       "</div>"
      ],
      "text/plain": [
       "          Date      Route Original Rating Rating Risk  \\\n",
       "45  2022-10-08  makunaima           5.11c  5.11c        \n",
       "49  2022-10-08  makunaima           5.11c  5.11c        \n",
       "59  2022-08-23  makunaima           5.11c  5.11c        \n",
       "61  2022-08-20  makunaima           5.11c  5.11c        \n",
       "70  2022-07-17  makunaima           5.11c  5.11c        \n",
       "240 2021-04-25  makunaima           5.11c  5.11c        \n",
       "305 2021-01-09  makunaima           5.11c  5.11c        \n",
       "372 2020-08-19  makunaima           5.11c  5.11c        \n",
       "386 2020-07-29  makunaima           5.11c  5.11c        \n",
       "\n",
       "                                                 Notes  \\\n",
       "45   i'm very proud of this one. it went in good st...   \n",
       "49   biffed my beta on the crux. figured out my bet...   \n",
       "59    another lap, nice and smooth. i think i'm ready!   \n",
       "61   - 4 rs with a draw right of the horn.\\r\\n- 0.3...   \n",
       "70   three solid attempts. figured out how to pass ...   \n",
       "240  3x laps. remember to reach high on the first r...   \n",
       "305  cleared all of the moves, but yet to have done...   \n",
       "372     3x half pitch yoyo, so hot. not much progress.   \n",
       "386  yoyo'd, 4x tries. workin' it. made it to just ...   \n",
       "\n",
       "                                                   URL  Pitches  \\\n",
       "45   https://www.mountainproject.com/route/10599032...        1   \n",
       "49   https://www.mountainproject.com/route/10599032...        1   \n",
       "59   https://www.mountainproject.com/route/10599032...        1   \n",
       "61   https://www.mountainproject.com/route/10599032...        3   \n",
       "70   https://www.mountainproject.com/route/10599032...        3   \n",
       "240  https://www.mountainproject.com/route/10599032...        3   \n",
       "305  https://www.mountainproject.com/route/10599032...        2   \n",
       "372  https://www.mountainproject.com/route/10599032...        1   \n",
       "386  https://www.mountainproject.com/route/10599032...        1   \n",
       "\n",
       "     Listed Pitches                                           Location  \\\n",
       "45                1  california > central coast > santa barbara > g...   \n",
       "49                1  california > central coast > santa barbara > g...   \n",
       "59                1  california > central coast > santa barbara > g...   \n",
       "61                1  california > central coast > santa barbara > g...   \n",
       "70                1  california > central coast > santa barbara > g...   \n",
       "240               1  california > central coast > santa barbara > g...   \n",
       "305               1  california > central coast > santa barbara > g...   \n",
       "372               1  california > central coast > santa barbara > g...   \n",
       "386               1  california > central coast > santa barbara > g...   \n",
       "\n",
       "     Avg Stars  Your Stars Style Lead Style Route Type  Length  Rating Code  \\\n",
       "45         3.9          -1  lead   redpoint       trad    90.0         5200   \n",
       "49         3.9          -1  lead  fell/hung       trad    90.0         5200   \n",
       "59         3.9          -1    tr        NaN       trad    90.0         5200   \n",
       "61         3.9          -1    tr        NaN       trad    90.0         5200   \n",
       "70         3.9          -1    tr        NaN       trad    90.0         5200   \n",
       "240        3.9          -1    tr        NaN       trad    90.0         5200   \n",
       "305        3.9          -1    tr        NaN       trad    90.0         5200   \n",
       "372        3.9          -1    tr        NaN       trad    90.0         5200   \n",
       "386        3.9          -1    tr        NaN       trad    90.0         5200   \n",
       "\n",
       "      Route ID Flash/Onsight Grade Breakthrough Worked Clean Attempts  \\\n",
       "45   105990326                                                          \n",
       "49   105990326                                                          \n",
       "59   105990326                                                          \n",
       "61   105990326                                                          \n",
       "70   105990326                                                          \n",
       "240  105990326                                                          \n",
       "305  105990326                                                          \n",
       "372  105990326                                                          \n",
       "386  105990326                                                          \n",
       "\n",
       "     Lead Ratio  OS Ratio  \n",
       "45         0.24       0.0  \n",
       "49         0.24       0.0  \n",
       "59         0.24       0.0  \n",
       "61         0.24       0.0  \n",
       "70         0.24       0.0  \n",
       "240        0.24       0.0  \n",
       "305        0.24       0.0  \n",
       "372        0.24       0.0  \n",
       "386        0.24       0.0  "
      ]
     },
     "execution_count": 196,
     "metadata": {},
     "output_type": "execute_result"
    }
   ],
   "source": [
    "dfbreakthr = df_usendm[(df_usendm['Flash/Onsight'] == True) | (df_usendm['Worked Clean'] == True)]\n",
    "breakthrough_indexes = dfbreakthr.groupby('Rating')['Date'].idxmin().values\n",
    "df_usendm.loc[breakthrough_indexes, \"Grade Breakthrough\"] = True\n",
    "df_usendm.loc[breakthrough_indexes]\n",
    "df_all_worked[df_all_worked['Route'] == 'makunaima']"
   ]
  },
  {
   "cell_type": "markdown",
   "metadata": {},
   "source": [
    "Plot and visualize"
   ]
  },
  {
   "cell_type": "code",
   "execution_count": 198,
   "metadata": {},
   "outputs": [],
   "source": [
    "# First we create a copy of the user modified dataframe, which we will refer to as the filtered dataframe\n",
    "df_usendf = df_usendm.copy()\n",
    "\n",
    "# Filters, these would be sliders and options in an interactive plot\n",
    "roped_grade_min = '5.10a'\n",
    "boulder_grade_min = 'v2'\n",
    "\n",
    "df_usendf = df_usendf[df_usendf['Rating'].isin(YDS_GRADES_FULL[YDS_GRADES_FULL.index(roped_grade_min):])] # the : here is key, it makes it so that it includes all grades above the min included.\n",
    "\n",
    "# df_usendf = df_usendf[df_usendf['Rating'].isin(V_GRADES_FULL[V_GRADES_FULL.index(boulder_grade_min):])]"
   ]
  },
  {
   "cell_type": "code",
   "execution_count": null,
   "metadata": {},
   "outputs": [],
   "source": [
    "# Create dataframe of clean sends for analysis\n",
    "\n",
    "df_usendf.loc[df_usendf['Lead Style'].isin(CLEAN_SEND_FIRST), \"Attempts\"] = '' # Optionally change listed pitches from blank to 1 or other\n",
    "df_clean_sends = df_usendf[(df_usendf['Lead Style'].isin(CLEAN_SEND)) | (df_usendf['Style'].isin(CLEAN_SEND))]\n",
    "# df_clean_sends = df_clean_sends.loc[df_clean_sends.groupby('Route ID')['Date'].idxmin()] # Optionally ignore subequent clean sends\n",
    "df_clean_sends['Route Formatted'] = df_clean_sends['Route'].apply(lambda x: string.capwords(x))\n",
    "df_clean_sends['Location Formatted'] = df_clean_sends['Location'].apply(lambda x: \" > \".join(x.title().split(' > ')[-2::]))\n",
    "df_clean_sends['Date Formatted'] = df_clean_sends['Date'].dt.date"
   ]
  },
  {
   "cell_type": "code",
   "execution_count": 200,
   "metadata": {},
   "outputs": [
    {
     "data": {
      "application/vnd.plotly.v1+json": {
       "config": {
        "plotlyServerURL": "https://plot.ly"
       },
       "data": [
        {
         "alignmentgroup": "True",
         "customdata": [
          [
           "Big Guy",
           "2022-11-25",
           "Indian Creek > Scarface",
           120,
           3.9
          ],
          [
           "Unnamed Offwidth",
           "2022-11-24",
           "Indian Creek > South Sixshooter",
           70,
           3
          ],
          [
           "South Face Angling Crack?",
           "2022-11-24",
           "Indian Creek > South Sixshooter",
           90,
           3
          ],
          [
           "Lonely Vigil",
           "2022-11-20",
           "River Road > Lighthouse Tower",
           350,
           3.5
          ],
          [
           "Chasin' Skirt",
           "2022-11-19",
           "Long Canyon > Deadman'S Buttress",
           150,
           3.3
          ],
          [
           "Chopper",
           "2022-11-19",
           "Long Canyon > Deadman'S Buttress",
           190,
           3.6
          ],
          [
           "Program Director",
           "2022-11-19",
           "Long Canyon > Deadman'S Buttress",
           190,
           3.5
          ],
          [
           "Urban Struggle",
           "2022-11-05",
           "Malibu Creek State Park > Ghetto Wall",
           50,
           3.4
          ],
          [
           "Directpissima",
           "2022-11-05",
           "Malibu Creek State Park > Ghetto Wall",
           50,
           2.4
          ],
          [
           "Unnamed",
           "2022-11-05",
           "Malibu Creek State Park > Ghetto Wall",
           45,
           2.4
          ],
          [
           "Three Fools Aka Kelley Route 32",
           "2022-10-21",
           "Indian Creek > Reservoir Wall",
           60,
           2.5
          ],
          [
           "Blue Sky Mining",
           "2022-10-20",
           "Indian Creek > Broken Tooth",
           50,
           2.4
          ],
          [
           "Unnamed Classic Hand Crack Aka Gold Crown",
           "2022-10-20",
           "Indian Creek > Broken Tooth",
           120,
           3.7
          ],
          [
           "Rock Lobster",
           "2022-10-20",
           "Indian Creek > Broken Tooth",
           115,
           3.8
          ],
          [
           "The Mayes",
           "2022-10-17",
           "Indian Creek > Battle Of The Bulge Buttress",
           50,
           2.4
          ],
          [
           "Think Pink",
           "2022-10-17",
           "Indian Creek > Battle Of The Bulge Buttress",
           null,
           3.4
          ],
          [
           "Crack Attack",
           "2022-10-17",
           "Indian Creek > Battle Of The Bulge Buttress",
           null,
           3.7
          ],
          [
           "Desire",
           "2022-10-15",
           "Indian Creek > Way Rambo",
           95,
           2.8
          ],
          [
           "Fuzz",
           "2022-10-15",
           "Indian Creek > Way Rambo",
           115,
           3.3
          ],
          [
           "Pocket Rocket",
           "2022-10-14",
           "Day Canyon > Day Canyon Cragging Routes",
           65,
           3.5
          ],
          [
           "Brush Painted Datsun",
           "2022-10-14",
           "Day Canyon > Day Canyon Cragging Routes",
           70,
           3.6
          ],
          [
           "Boognish Tower",
           "2022-10-14",
           "Day Canyon > Boognish Tower",
           120,
           3.4
          ],
          [
           "Makunaima",
           "2022-10-08",
           "Cold Springs Dome > Makunaima Amphitheater",
           90,
           3.9
          ],
          [
           "Anasazi",
           "2022-10-08",
           "Cold Springs Dome > Makunaima Amphitheater",
           50,
           3
          ],
          [
           "The Consolation Direct",
           "2022-10-01",
           "Tahquitz Rock > (D) Northwest Recess",
           800,
           3.3
          ],
          [
           "Daximus",
           "2022-08-20",
           "Cold Springs Dome > Makunaima Amphitheater",
           90,
           3.4
          ],
          [
           "Rites Of Spring",
           "2022-07-22",
           "Scheelite Canyon / Pratt'S Crack Gully > Armando'S Stilletto / Rites Of Spring",
           400,
           3.5
          ],
          [
           "Baby Scorpions",
           "2022-07-17",
           "Cold Springs Dome > Makunaima Amphitheater",
           70,
           2.6
          ],
          [
           "Anasazi",
           "2022-07-17",
           "Cold Springs Dome > Makunaima Amphitheater",
           50,
           3
          ],
          [
           "The Dihedral Route",
           "2022-07-09",
           "02 - The Sawtooth Ridge > The Juggernaut",
           750,
           3.3
          ],
          [
           "Crimson Gem",
           "2022-07-08",
           "02 - The Sawtooth Ridge > The Juggernaut",
           750,
           3.6
          ],
          [
           "D.d.d.",
           "2022-07-06",
           "Horseshoe Piles > Spring Wall",
           90,
           3.6
          ],
          [
           "Reallyfivenineplus",
           "2022-07-06",
           "Horseshoe Piles > Spring Wall",
           80,
           3.1
          ],
          [
           "Fall Harvest",
           "2022-07-05",
           "Horseshoe Piles > Spring Wall",
           50,
           2.7
          ],
          [
           "Mongoloid",
           "2022-07-04",
           "Dike Wall > North Face",
           60,
           2.3
          ],
          [
           "Black Lassie",
           "2022-07-04",
           "Dike Wall > East Face",
           80,
           3.4
          ],
          [
           "Sideshow",
           "2022-07-02",
           "Rock Creek > Gong Show Wall",
           100,
           3.4
          ],
          [
           "He She",
           "2022-07-02",
           "Rock Creek > Gong Show Wall",
           130,
           3.6
          ],
          [
           "Economique",
           "2022-06-18",
           "Hwy 33/Ojai > Wheeler Gorge",
           80,
           3.1
          ],
          [
           "Blush",
           "2022-06-18",
           "Hwy 33/Ojai > Wheeler Gorge",
           60,
           2.8
          ],
          [
           "The Surprise",
           "2022-05-29",
           "Five Open Books > First Tier",
           400,
           3.1
          ],
          [
           "Werner's Ant Trees",
           "2022-05-29",
           "Five Open Books > First Tier",
           75,
           3.1
          ],
          [
           "Outer Limits",
           "2022-05-13",
           "Aj. Cookie Area > The Cookie Cliff",
           190,
           3.8
          ],
          [
           "Beverly's Tower",
           "2022-05-13",
           "Aj. Cookie Area > The Cookie Cliff",
           100,
           2.7
          ],
          [
           "No Man Knows The Hour",
           "2022-05-07",
           "Lower Mission Canyon / Seven Falls > Upper Theology Crag",
           110,
           2.8
          ],
          [
           "Chimps Ahoy",
           "2022-04-16",
           "Malibu Creek State Park > Stumbling Blocks",
           80,
           2.5
          ],
          [
           "Sons Of Yesterday",
           "2022-04-09",
           "Royal Arches > Western Royal Arches",
           600,
           3.9
          ],
          [
           "Serenity Crack",
           "2022-04-09",
           "Royal Arches > Western Royal Arches",
           350,
           3.8
          ],
          [
           "Have A Beer With Fear",
           "2022-03-13",
           "01-Calico Basin > Cannibal Crag",
           60,
           2.7
          ],
          [
           "What's Eating You",
           "2022-03-13",
           "01-Calico Basin > Cannibal Crag",
           60,
           2.2
          ],
          [
           "Caustic Cock",
           "2022-03-13",
           "01-Calico Basin > Cannibal Crag",
           40,
           3.4
          ],
          [
           "The Walker Spur",
           "2022-03-12",
           "Mescalito > East Face",
           550,
           3.3
          ],
          [
           "Small Purchase",
           "2022-03-12",
           "Magic Mountain > North Face",
           100,
           3.4
          ],
          [
           "Bone Saw",
           "2022-03-11",
           "16-Black Velvet Canyon > The Monument",
           55,
           2.5
          ],
          [
           "Handbone",
           "2022-03-11",
           "16-Black Velvet Canyon > The Monument",
           70,
           3.3
          ],
          [
           "The Gobbler",
           "2022-03-11",
           "16-Black Velvet Canyon > Black Velvet Wall",
           200,
           3.2
          ],
          [
           "Cockblock",
           "2022-02-05",
           "Malibu Creek State Park > Stumbling Blocks",
           40,
           2.5
          ],
          [
           "Skeezer Pleaser",
           "2022-02-05",
           "Malibu Creek State Park > Ghetto Wall",
           45,
           2.8
          ],
          [
           "Dick Pics",
           "2022-02-05",
           "Malibu Creek State Park > Mt. Gorgeous",
           50,
           2.6
          ],
          [
           "Johnny Can't Lead",
           "2022-02-05",
           "Malibu Creek State Park > Ghetto Wall",
           40,
           3.2
          ],
          [
           "The Third Degree",
           "2022-01-23",
           "Malibu Creek State Park > Stumbling Blocks",
           null,
           2.4
          ],
          [
           "Guerilla Drilla",
           "2022-01-23",
           "Malibu Creek State Park > Stumbling Blocks",
           null,
           2.4
          ],
          [
           "Gorgeous",
           "2022-01-23",
           "Malibu Creek State Park > Mt. Gorgeous",
           60,
           2.7
          ],
          [
           "Luscious",
           "2022-01-23",
           "Malibu Creek State Park > Mt. Gorgeous",
           60,
           3.1
          ],
          [
           "Rain Dance",
           "2022-01-15",
           "Whiskey Peak > North Face",
           130,
           2.8
          ],
          [
           "Run For Your Life",
           "2021-12-04",
           "Real Hidden Valley > Tumbling Rainbow Formation",
           90,
           3.7
          ],
          [
           "Illusion Dweller",
           "2021-12-04",
           "The Sentinel > The Sentinel - West Face",
           100,
           3.8
          ],
          [
           "Dancin' With A God",
           "2021-11-07",
           "Upper Level > Upper Level - Left",
           50,
           2.6
          ],
          [
           "Rebel Without A Pause",
           "2021-11-07",
           "Upper Level > Upper Level - Right",
           50,
           3
          ],
          [
           "Slot Machine",
           "2021-11-06",
           "Mescalito > Dark Shadows Wall",
           null,
           3.3
          ],
          [
           "Risky Business",
           "2021-11-06",
           "Mescalito > Dark Shadows Wall",
           400,
           3.8
          ],
          [
           "Sour Mash",
           "2021-11-05",
           "16-Black Velvet Canyon > Black Velvet Wall",
           600,
           3.6
          ],
          [
           "Bittersweet",
           "2021-10-30",
           "Echo Cliffs > Chocolate Wall",
           null,
           2.6
          ],
          [
           "Keyhole Flake",
           "2021-10-21",
           "Indian Creek > Supercrack Buttress",
           null,
           3.1
          ],
          [
           "Gorilla",
           "2021-10-21",
           "Indian Creek > Supercrack Buttress",
           null,
           3.1
          ],
          [
           "Bad Rad Duality",
           "2021-10-21",
           "Indian Creek > Supercrack Buttress",
           120,
           3.5
          ],
          [
           "Unnamed 38 - Wide To Fists And Kind Of Wavy",
           "2021-10-20",
           "Indian Creek > Reservoir Wall",
           65,
           2.8
          ],
          [
           "Ernie Used To Box",
           "2021-10-20",
           "Indian Creek > Reservoir Wall",
           100,
           3.8
          ],
          [
           "Warm-up Handcrack",
           "2021-10-20",
           "Indian Creek > Reservoir Wall",
           100,
           3.7
          ],
          [
           "Where's Carruthers?",
           "2021-10-18",
           "Indian Creek > Scarface",
           60,
           2.7
          ],
          [
           "Wavy Gravy",
           "2021-10-18",
           "Indian Creek > Scarface",
           70,
           3.2
          ],
          [
           "Divide And Conquer",
           "2021-10-17",
           "Indian Creek > Sparks Wall",
           100,
           3.1
          ],
          [
           "Go Sparky Go",
           "2021-10-17",
           "Indian Creek > Sparks Wall",
           70,
           3.4
          ],
          [
           "Jupiter Crack",
           "2021-10-17",
           "Indian Creek > Sparks Wall",
           130,
           3.9
          ],
          [
           "Purple Rain",
           "2021-10-16",
           "Indian Creek > Technicolor Wall",
           70,
           2.7
          ],
          [
           "On The Up And Up",
           "2021-10-16",
           "Indian Creek > Technicolor Wall",
           70,
           3.2
          ],
          [
           "Whale's Back",
           "2021-10-16",
           "Indian Creek > Technicolor Wall",
           120,
           3.7
          ],
          [
           "Salathe (pitch 1)",
           "2021-09-16",
           "Southwest Base > Moby Dick And Pterodactyl Terrace",
           160,
           3.8
          ],
          [
           "Americano",
           "2021-09-03",
           "Echo Cliffs > Java Wall",
           100,
           3
          ],
          [
           "Great Race",
           "2021-08-29",
           "Santa Barbara > San Ysidro",
           70,
           3
          ],
          [
           "Dark Star",
           "2021-08-21",
           "09 - Palisades & Surrounding Peaks > Temple Crag",
           2000,
           3.4
          ],
          [
           "V8 Crack",
           "2021-08-20",
           "Bishop Area > Cardinal Pinnacle",
           80,
           3.9
          ],
          [
           "Crack Kingdom",
           "2021-08-20",
           "Bishop Area > Cardinal Pinnacle",
           550,
           3.5
          ],
          [
           "Little Sheba",
           "2021-07-23",
           "Lamb Dome > West Face Of The Lamb",
           110,
           3.3
          ],
          [
           "Black Lassie",
           "2021-07-22",
           "Dike Wall > East Face",
           80,
           3.4
          ],
          [
           "Cromagnon",
           "2021-07-22",
           "Dike Wall > East Face",
           80,
           3.7
          ],
          [
           "Mongoloid",
           "2021-07-22",
           "Dike Wall > North Face",
           60,
           2.3
          ],
          [
           "Grim Reality",
           "2021-07-22",
           "Dike Wall > East Face",
           90,
           2.2
          ],
          [
           "Black Dihedral",
           "2021-07-20",
           "Dike Wall > East Face",
           70,
           3.4
          ],
          [
           "Direct Northwest Face",
           "2021-06-05",
           "Lembert Dome > Northwest Face",
           400,
           3.4
          ],
          [
           "Third Pillar, Regular Route",
           "2021-06-04",
           "Lee Vining Canyon / Tioga Road > Dana Plateau",
           800,
           3.8
          ],
          [
           "Faithful Friend",
           "2021-06-03",
           "Horseshoe Lake Area > Sunshine Wall",
           100,
           2.4
          ],
          [
           "Edgehog",
           "2021-06-03",
           "Horseshoe Lake Area > Sunshine Wall",
           100,
           2.4
          ],
          [
           "Kung Fu Fighter",
           "2021-05-13",
           "Mount Carmel Tunnel > Kung Fu Theater",
           450,
           3.6
          ],
          [
           "The Headache",
           "2021-05-13",
           "Mount Carmel Tunnel > Headache Area",
           380,
           3.9
          ],
          [
           "X Files",
           "2021-05-02",
           "Malibu Creek State Park > Stumbling Blocks",
           30,
           2.1
          ],
          [
           "Mr. Big",
           "2021-05-02",
           "Malibu Creek State Park > Stumbling Blocks",
           35,
           3.1
          ],
          [
           "The Fox",
           "2021-04-11",
           "01-Calico Basin > The Fox Area",
           150,
           3.9
          ],
          [
           "Unimpeachable Groping",
           "2021-04-09",
           "11-Juniper Canyon > Ginger Buttress",
           760,
           3.5
          ],
          [
           "Tea Bag",
           "2021-03-27",
           "Echo Cliffs > The Tea Room",
           85,
           3
          ],
          [
           "English Breakfast Tea",
           "2021-03-27",
           "Echo Cliffs > The Tea Room",
           80,
           2.5
          ],
          [
           "Darjeeling Extra Fancy",
           "2021-03-27",
           "Echo Cliffs > The Tea Room",
           85,
           2.6
          ],
          [
           "Irish Car Bomb",
           "2021-03-27",
           "Echo Cliffs > The Tea Room",
           80,
           2.6
          ],
          [
           "Casey At The Bat",
           "2021-03-27",
           "Echo Cliffs > Easy Street",
           100,
           3
          ],
          [
           "Too Proud To Ignore",
           "2021-03-21",
           "Upper Gorge > Dihedrals",
           40,
           2.6
          ],
          [
           "Slackjaw",
           "2021-03-21",
           "Upper Gorge > Dihedrals",
           80,
           2.8
          ],
          [
           "Life During Wartime",
           "2021-03-21",
           "Upper Gorge > Dihedrals",
           80,
           2.8
          ],
          [
           "Nirvana",
           "2021-03-14",
           "Central Gorge > Upper Crust",
           70,
           2.3
          ],
          [
           "Hardly Wallbanger",
           "2021-03-14",
           "Central Gorge > Pub Wall",
           90,
           3.6
          ],
          [
           "Spinal Fracture",
           "2021-03-09",
           "Central Gorge > Social Platform",
           null,
           3.2
          ],
          [
           "Glitter Gulch",
           "2021-02-28",
           "04-Second Pullout (Calico Ii) > Sweet Pain Wall",
           65,
           3.4
          ],
          [
           "Bring Out Your Dead",
           "2021-02-20",
           "Santa Barbara > Renaissance Crag",
           40,
           2.2
          ],
          [
           "Pirates On Horseback",
           "2021-02-13",
           "Alabama Hills North > The Shark'S Fin",
           50,
           2.5
          ],
          [
           "Espresso",
           "2021-02-10",
           "Echo Cliffs > Java Wall",
           90,
           3.2
          ],
          [
           "B-line",
           "2021-02-06",
           "Echo Cliffs > Left Flank",
           90,
           2.3
          ],
          [
           "Broken Glass",
           "2021-01-31",
           "Real Hidden Valley > Gateway Rock",
           60,
           2.4
          ],
          [
           "Bird On A Wire",
           "2021-01-30",
           "Lost Horse Wall > Lost Horse Wall - Right Side",
           330,
           3.3
          ],
          [
           "The Paw",
           "2021-01-30",
           "Little Hunk - Sw Face > Sw Face Right (Monkey Business Wall)",
           35,
           2
          ],
          [
           "Roofing Company",
           "2021-01-30",
           "Little Hunk - Sw Face > Sw Face Right (Monkey Business Wall)",
           50,
           2.2
          ],
          [
           "Mic's Master",
           "2021-01-17",
           "Wake Up Wall Area > The Wake-Up Wall",
           55,
           2.7
          ],
          [
           "The Last Drag",
           "2021-01-17",
           "Wake Up Wall Area > The Wake-Up Wall",
           50,
           2.4
          ],
          [
           "First Born",
           "2021-01-17",
           "Wake Up Wall Area > The Wake-Up Wall",
           65,
           1.9
          ],
          [
           "Spanky Spangler",
           "2021-01-17",
           "Wake Up Wall Area > The Wake-Up Wall",
           65,
           2.7
          ],
          [
           "Fall Of Vegas",
           "2021-01-17",
           "Wake Up Wall Area > The Wake-Up Wall",
           50,
           2.3
          ],
          [
           "Mushroom People",
           "2021-01-15",
           "10-Pine Creek Canyon > Brass Wall",
           100,
           3.4
          ],
          [
           "Delicious",
           "2020-12-12",
           "Malibu Creek State Park > Mt. Gorgeous",
           85,
           3
          ],
          [
           "Family Jewel",
           "2020-12-12",
           "Malibu Creek State Park > Mt. Gorgeous",
           50,
           2.9
          ],
          [
           "Stuart's Rig (aka Stu Boy)",
           "2020-12-05",
           "Hwy 33/Ojai > Wheeler Gorge",
           75,
           2.7
          ],
          [
           "Pigs In Space",
           "2020-11-22",
           "Indian Creek > Battle Of The Bulge Buttress",
           120,
           2.9
          ],
          [
           "Casey's Route",
           "2020-11-21",
           "Indian Creek > The Optimator",
           70,
           2.7
          ],
          [
           "Ditch 'em",
           "2020-11-21",
           "Indian Creek > The Optimator",
           50,
           2.6
          ],
          [
           "Lady Pillar",
           "2020-11-21",
           "Indian Creek > The Optimator",
           110,
           2.6
          ],
          [
           "Hayutake",
           "2020-11-21",
           "Indian Creek > The Optimator",
           120,
           3.2
          ],
          [
           "Neat",
           "2020-11-21",
           "Indian Creek > The Optimator",
           100,
           3.2
          ],
          [
           "Dirty Woman",
           "2020-11-20",
           "Indian Creek > The Wall",
           35,
           2.1
          ],
          [
           "Freebird",
           "2020-11-20",
           "Indian Creek > The Wall",
           60,
           3.1
          ],
          [
           "Run Like Hell",
           "2020-11-20",
           "Indian Creek > The Wall",
           70,
           3.5
          ],
          [
           "3am Crack",
           "2020-11-19",
           "Indian Creek > Supercrack Buttress",
           115,
           3.5
          ],
          [
           "Princess Buttercup",
           "2020-11-18",
           "Indian Creek > Cliffs Of Insanity",
           70,
           3
          ],
          [
           "Iocane Powder",
           "2020-11-18",
           "Indian Creek > Cliffs Of Insanity",
           35,
           2.5
          ],
          [
           "Blue Sun",
           "2020-11-15",
           "Indian Creek > Way Rambo",
           70,
           3.6
          ],
          [
           "Elephant Man",
           "2020-11-14",
           "Indian Creek > Donnelly Canyon",
           80,
           2.5
          ],
          [
           "Owl Crack",
           "2020-11-14",
           "Indian Creek > Donnelly Canyon",
           80,
           3.1
          ],
          [
           "Idiot Parade (aka Need To Rest)",
           "2020-10-18",
           "Lower Level > Lower Level - Right",
           50,
           2.9
          ],
          [
           "Vagabonds",
           "2020-10-18",
           "Lower Level > Lower Level - Left",
           70,
           2.7
          ],
          [
           "Atman",
           "2020-10-17",
           "Kraft Mountain Area > Yin And Yang Cliff",
           40,
           3.1
          ],
          [
           "Miss Conception",
           "2020-10-16",
           "Whiskey Peak > North Face",
           200,
           2.8
          ],
          [
           "Spark Plug",
           "2020-10-16",
           "16-Black Velvet Canyon > Black Velvet Wall",
           100,
           3
          ],
          [
           "Sand Felipe",
           "2020-10-16",
           "Whiskey Peak > North Face",
           110,
           2.6
          ],
          [
           "Face The Seam",
           "2020-10-12",
           "Santa Barbara > Fire Crags",
           35,
           2
          ],
          [
           "Gorgeous",
           "2020-09-26",
           "Malibu Creek State Park > Mt. Gorgeous",
           60,
           2.7
          ],
          [
           "Jensen's Jugs",
           "2020-09-14",
           "Santa Barbara > Fire Crags",
           50,
           2.4
          ],
          [
           "Miss Apprehension",
           "2020-09-06",
           "Olmsted Area > Olmsted Canyon Right",
           55,
           2
          ],
          [
           "Crying Time Again",
           "2020-08-28",
           "Lembert Dome > Northwest Face",
           400,
           3.5
          ],
          [
           "But I Don't Drink Scotch",
           "2020-08-15",
           "Crystal Crag > Highlands Wall",
           100,
           2.7
          ],
          [
           "Springbank",
           "2020-08-15",
           "Crystal Crag > Highlands Wall",
           90,
           3.6
          ],
          [
           "Gridlock",
           "2020-08-09",
           "Hwy 33/Ojai > Wheeler Gorge",
           65,
           2.6
          ],
          [
           "Sick Boy",
           "2020-08-09",
           "Hwy 33/Ojai > Wheeler Gorge",
           55,
           3
          ],
          [
           "Cucumbers",
           "2020-07-17",
           "Bishop Area > Cardinal Pinnacle",
           350,
           3.2
          ],
          [
           "West Face",
           "2020-07-17",
           "Bishop Area > Cardinal Pinnacle",
           550,
           3.8
          ],
          [
           "Cut The Cord",
           "2020-07-11",
           "Malibu Creek State Park > Ghetto Wall",
           30,
           2.1
          ],
          [
           "Kathmandu",
           "2020-07-11",
           "Malibu Creek State Park > Ghetto Wall",
           35,
           2.6
          ],
          [
           "Careful, There's A Beverage Here!",
           "2020-06-21",
           "The Playground > Little Lebowski Urban Achievers Crag",
           50,
           2.2
          ],
          [
           "Airy Interlude",
           "2020-06-13",
           "The Needles > The Witch",
           null,
           3.9
          ],
          [
           "The Gibbon",
           "2020-05-10",
           "Gibraltar Area > Upper Gibraltar",
           100,
           2.5
          ],
          [
           "T-crack",
           "2020-04-24",
           "Gibraltar Area > Gibraltar Rock",
           60,
           3.7
          ],
          [
           "Triassic Sands",
           "2020-02-07",
           "Whiskey Peak > North Face",
           700,
           3.8
          ],
          [
           "No Calculators Allowed",
           "2019-11-16",
           "Real Hidden Valley > The Thin Wall",
           50,
           2.6
          ],
          [
           "Fisticuffs",
           "2019-11-16",
           "Real Hidden Valley > Tumbling Rainbow Formation",
           30,
           2.9
          ],
          [
           "Crack 6",
           "2019-11-15",
           "Isles Corridor > Isles Corridor - Left Side",
           50,
           2.9
          ],
          [
           "Bird Of Fire",
           "2019-11-15",
           "Isles In The Sky > Isles In The Sky (Northeast Face)",
           80,
           3.8
          ],
          [
           "Moubit",
           "2019-11-09",
           "Isles Corridor > Isles Corridor - Right Side",
           60,
           2.3
          ],
          [
           "The Guillotine",
           "2019-11-02",
           "Echo Cliffs > The Alcove",
           90,
           3.4
          ],
          [
           "Caution: Falling Snakes",
           "2019-10-06",
           "Invisible Wall > Lower Main Wall",
           null,
           3
          ],
          [
           "Raised On Robbery",
           "2019-09-05",
           "Lower Blair I, Ii, Iii, And Vicinity > Lower Blair I",
           70,
           3.5
          ],
          [
           "Mctech Arete",
           "2019-08-27",
           "Bugaboos > Crescent Spire",
           500,
           3.8
          ],
          [
           "Arrowroot",
           "2019-08-20",
           "Stawamus Chief > Grand Wall Base Area",
           115,
           3.5
          ],
          [
           "Seasoned In The Sun",
           "2019-08-20",
           "Stawamus Chief > Grand Wall Base Area",
           95,
           3.6
          ],
          [
           "Coronary Bypass",
           "2019-08-19",
           "The Smoke Bluffs > Respiration Rock",
           40,
           2.8
          ],
          [
           "The Ultimate Everything",
           "2019-08-18",
           "Stawamus Chief > Echelon Wall",
           1300,
           2.9
          ],
          [
           "Rock On",
           "2019-08-18",
           "Stawamus Chief > The Apron",
           400,
           3.6
          ],
          [
           "Hungry, Hungry Hippos",
           "2019-08-16",
           "Murrin Park > Commonwealth",
           65,
           2.4
          ],
          [
           "Pop-sickle",
           "2019-08-16",
           "Murrin Park > Commonwealth",
           80,
           2
          ],
          [
           "Neat And Cool Offwidth",
           "2019-08-14",
           "The Smoke Bluffs > Neat And Cool",
           70,
           2.4
          ],
          [
           "Flying Circus",
           "2019-08-14",
           "The Smoke Bluffs > Neat And Cool",
           100,
           3.6
          ],
          [
           "Rattletale",
           "2019-08-01",
           "Lookout Point Area > Rattletale Wall",
           null,
           3.8
          ],
          [
           "Tofu Crack",
           "2019-05-13",
           "Indian Creek > 2Nd Meat Wall",
           115,
           3.3
          ],
          [
           "No Name Crack",
           "2019-05-12",
           "Indian Creek > Supercrack Buttress",
           110,
           3.2
          ],
          [
           "Hot Toddy",
           "2019-05-11",
           "Long Canyon > Maverick Buttress",
           80,
           2.9
          ],
          [
           "Texas Two Step",
           "2019-05-11",
           "Long Canyon > Maverick Buttress",
           null,
           2.7
          ],
          [
           "Pocket Rocket",
           "2019-05-09",
           "Day Canyon > Day Canyon Cragging Routes",
           65,
           3.5
          ],
          [
           "Dread Pirate Roberts",
           "2019-05-04",
           "Indian Creek > Cliffs Of Insanity",
           60,
           3.1
          ],
          [
           "Kelley Route 1",
           "2019-05-04",
           "Indian Creek > Cliffs Of Insanity",
           130,
           3.6
          ],
          [
           "Supercrack Of The Desert",
           "2019-05-03",
           "Indian Creek > Supercrack Buttress",
           null,
           3.8
          ],
          [
           "Incredible Hand Crack",
           "2019-05-03",
           "Indian Creek > Supercrack Buttress",
           100,
           3.8
          ],
          [
           "Generic Crack",
           "2019-05-02",
           "Indian Creek > Donnelly Canyon",
           120,
           3.4
          ],
          [
           "Dawn Of An Age",
           "2019-05-01",
           "Indian Creek > Blue Gramma Cliff",
           50,
           2.5
          ],
          [
           "Kemosabe",
           "2019-04-22",
           "07-Willow Spring > Ragged Edges Area",
           100,
           2.6
          ],
          [
           "Getaway",
           "2019-01-19",
           "Box Canyon East > The Getaway",
           65,
           3.3
          ],
          [
           "Holey Moley",
           "2019-01-19",
           "Raven Rocks > Raven Rocks North Face \"Power Block\" Area",
           90,
           3
          ],
          [
           "Celestial Spheres",
           "2018-12-16",
           "03-First Pullout (Calico I) > Dante'S Wall",
           65,
           2.6
          ],
          [
           "Divine Comedy",
           "2018-12-16",
           "03-First Pullout (Calico I) > Dante'S Wall",
           65,
           3.3
          ],
          [
           "The Right Road Lost",
           "2018-12-16",
           "03-First Pullout (Calico I) > Dante'S Wall",
           50,
           2.6
          ],
          [
           "Ches Game",
           "2018-10-25",
           "Invisible Wall > Lower Main Wall",
           null,
           2.3
          ],
          [
           "Twice Stung And Forever Shy",
           "2018-10-25",
           "Invisible Wall > Bug Wall",
           null,
           2.9
          ],
          [
           "Tut",
           "2018-10-21",
           "Century Lake Area > Little Cheops",
           40,
           2
          ],
          [
           "Power Station",
           "2018-10-21",
           "Century Lake Area > The Power Wall",
           50,
           2.9
          ],
          [
           "Power Grid",
           "2018-10-21",
           "Century Lake Area > The Power Wall",
           60,
           2.6
          ],
          [
           "Cleaning Lady",
           "2018-09-17",
           "Hwy 33/Ojai > Potrero John",
           80,
           2.8
          ]
         ],
         "hovertemplate": "Name: %{customdata[0]}<br>Date: %{customdata[1]}<br>Location: %{customdata[2]}<br>Length: %{customdata[3]}ft<br>Avg Stars: %{customdata[4]}",
         "legendgroup": "",
         "marker": {
          "color": "#7A4F25",
          "pattern": {
           "shape": ""
          }
         },
         "name": "",
         "offsetgroup": "",
         "orientation": "h",
         "showlegend": false,
         "text": [
          "",
          "",
          "",
          "",
          "",
          "",
          "",
          4,
          2,
          "",
          "",
          "",
          "",
          "",
          "",
          "",
          "",
          "",
          "",
          "",
          2,
          "",
          16,
          "",
          "",
          "",
          "",
          "",
          "",
          "",
          "",
          "",
          "",
          "",
          "",
          "",
          "",
          "",
          "",
          2,
          "",
          "",
          "",
          "",
          2,
          "",
          "",
          "",
          "",
          "",
          2,
          "",
          "",
          "",
          "",
          "",
          2,
          2,
          "",
          "",
          "",
          "",
          "",
          "",
          "",
          "",
          "",
          "",
          2,
          "",
          "",
          "",
          "",
          "",
          "",
          "",
          "",
          "",
          "",
          "",
          "",
          "",
          "",
          "",
          "",
          "",
          "",
          "",
          2,
          "",
          "",
          "",
          "",
          "",
          "",
          3,
          2,
          2,
          "",
          "",
          "",
          "",
          "",
          "",
          "",
          "",
          3,
          "",
          "",
          "",
          "",
          "",
          "",
          "",
          "",
          "",
          "",
          "",
          "",
          "",
          "",
          "",
          "",
          3,
          "",
          "",
          "",
          "",
          "",
          "",
          "",
          "",
          "",
          "",
          "",
          2,
          2,
          2,
          "",
          "",
          "",
          "",
          "",
          "",
          "",
          "",
          "",
          2,
          "",
          "",
          "",
          "",
          "",
          "",
          "",
          3,
          "",
          "",
          "",
          3,
          "",
          4,
          "",
          "",
          "",
          "",
          "",
          "",
          "",
          "",
          "",
          "",
          "",
          "",
          "",
          12,
          "",
          "",
          "",
          "",
          "",
          "",
          "",
          "",
          "",
          "",
          "",
          "",
          "",
          "",
          "",
          "",
          "",
          "",
          "",
          "",
          "",
          "",
          "",
          "",
          "",
          "",
          "",
          "",
          2,
          "",
          "",
          "",
          "",
          "",
          "",
          "",
          "",
          "",
          "",
          "",
          "",
          "",
          ""
         ],
         "textfont": {
          "color": "White",
          "family": "Arial Black",
          "size": 12
         },
         "textposition": "inside",
         "type": "bar",
         "x": [
          1,
          1,
          1,
          1,
          1,
          1,
          1,
          1,
          1,
          1,
          1,
          1,
          1,
          1,
          1,
          1,
          1,
          1,
          1,
          1,
          1,
          1,
          1,
          1,
          1,
          1,
          1,
          1,
          1,
          1,
          1,
          1,
          1,
          1,
          1,
          1,
          1,
          1,
          1,
          1,
          1,
          1,
          1,
          1,
          1,
          1,
          1,
          1,
          1,
          1,
          1,
          1,
          1,
          1,
          1,
          1,
          1,
          1,
          1,
          1,
          1,
          1,
          1,
          1,
          1,
          1,
          1,
          1,
          1,
          1,
          1,
          1,
          1,
          1,
          1,
          1,
          1,
          1,
          1,
          1,
          1,
          1,
          1,
          1,
          1,
          1,
          1,
          1,
          1,
          1,
          1,
          1,
          1,
          1,
          1,
          1,
          1,
          1,
          1,
          1,
          1,
          1,
          1,
          1,
          1,
          1,
          1,
          1,
          1,
          1,
          1,
          1,
          1,
          1,
          1,
          1,
          1,
          1,
          1,
          1,
          1,
          1,
          1,
          1,
          1,
          1,
          1,
          1,
          1,
          1,
          1,
          1,
          1,
          1,
          1,
          1,
          1,
          1,
          1,
          1,
          1,
          1,
          1,
          1,
          1,
          1,
          1,
          1,
          1,
          1,
          1,
          1,
          1,
          1,
          1,
          1,
          1,
          1,
          1,
          1,
          1,
          1,
          1,
          1,
          1,
          1,
          1,
          1,
          1,
          1,
          1,
          1,
          1,
          1,
          1,
          1,
          1,
          1,
          1,
          1,
          1,
          1,
          1,
          1,
          1,
          1,
          1,
          1,
          1,
          1,
          1,
          1,
          1,
          1,
          1,
          1,
          1,
          1,
          1,
          1,
          1,
          1,
          1,
          1,
          1,
          1,
          1,
          1,
          1,
          1,
          1,
          1,
          1,
          1,
          1,
          1,
          1,
          1,
          1
         ],
         "xaxis": "x",
         "y": [
          "5.11a",
          "5.10b",
          "5.10b",
          "5.10b",
          "5.10c",
          "5.10c",
          "5.10b",
          "5.12a",
          "5.11a",
          "5.10d",
          "5.10b",
          "5.10c",
          "5.11a",
          "5.11b",
          "5.10b",
          "5.11a",
          "5.11a",
          "5.10b",
          "5.10b",
          "5.10c",
          "5.10b",
          "5.10b",
          "5.11c",
          "5.10b",
          "5.10a",
          "5.10a",
          "5.10d",
          "5.10c",
          "5.10b",
          "5.10b",
          "5.10b",
          "5.11a",
          "5.10c",
          "5.10b",
          "5.10b",
          "5.10c",
          "5.10a",
          "5.10b",
          "5.10a",
          "5.11a",
          "5.10a",
          "5.10c",
          "5.10c",
          "5.10a",
          "5.10d",
          "5.10a",
          "5.10a",
          "5.10d",
          "5.11b",
          "5.10a",
          "5.11b",
          "5.10b",
          "5.10a",
          "5.10a",
          "5.10b",
          "5.10a",
          "5.10d",
          "5.11b",
          "5.10b",
          "5.11a",
          "5.10b",
          "5.10a",
          "5.10a",
          "5.11b",
          "5.10a",
          "5.10b",
          "5.10b",
          "5.10a",
          "5.11a",
          "5.10b",
          "5.10c",
          "5.10a",
          "5.10c",
          "5.10b",
          "5.10b",
          "5.10c",
          "5.10c",
          "5.10c",
          "5.10b",
          "5.10c",
          "5.10b",
          "5.10c",
          "5.11b",
          "5.11b",
          "5.10b",
          "5.10b",
          "5.10c",
          "5.10c",
          "5.11a",
          "5.10a",
          "5.10c",
          "5.10c",
          "5.10c",
          "5.10a",
          "5.10c",
          "5.10a",
          "5.10b",
          "5.10b",
          "5.10b",
          "5.10b",
          "5.10a",
          "5.10b",
          "5.10a",
          "5.11a",
          "5.10b",
          "5.10c",
          "5.10d",
          "5.10c",
          "5.10b",
          "5.10b",
          "5.10a",
          "5.10c",
          "5.10c",
          "5.10b",
          "5.10b",
          "5.10a",
          "5.10a",
          "5.10a",
          "5.10c",
          "5.11a",
          "5.11a",
          "5.10a",
          "5.10b",
          "5.11a",
          "5.10a",
          "5.10a",
          "5.10a",
          "5.10b",
          "5.10a",
          "5.10b",
          "5.10a",
          "5.10b",
          "5.10b",
          "5.10a",
          "5.10c",
          "5.10d",
          "5.10c",
          "5.11a",
          "5.10b",
          "5.10c",
          "5.10b",
          "5.10a",
          "5.10c",
          "5.10b",
          "5.10b",
          "5.10a",
          "5.10b",
          "5.10b",
          "5.10a",
          "5.10a",
          "5.10a",
          "5.10a",
          "5.10b",
          "5.10c",
          "5.10a",
          "5.10a",
          "5.10b",
          "5.10b",
          "5.10a",
          "5.10a",
          "5.10a",
          "5.10b",
          "5.10a",
          "5.10a",
          "5.10a",
          "5.10a",
          "5.10a",
          "5.10b",
          "5.10a",
          "5.10a",
          "5.10b",
          "5.10a",
          "5.10a",
          "5.10a",
          "5.10b",
          "5.10c",
          "5.10b",
          "5.10a",
          "5.10b",
          "5.10a",
          "5.10a",
          "5.10a",
          "5.10a",
          "5.10b",
          "5.10b",
          "5.10a",
          "5.10b",
          "5.10a",
          "5.10a",
          "5.10a",
          "5.10a",
          "5.10a",
          "5.10c",
          "5.10a",
          "5.10a",
          "5.10b",
          "5.10b",
          "5.10b",
          "5.10b",
          "5.10b",
          "5.10c",
          "5.10c",
          "5.10c",
          "5.10b",
          "5.10b",
          "5.10a",
          "5.10b",
          "5.10a",
          "5.10a",
          "5.10a",
          "5.10b",
          "5.10a",
          "5.10a",
          "5.10b",
          "5.10a",
          "5.10a",
          "5.10b",
          "5.10a",
          "5.10b"
         ],
         "yaxis": "y"
        }
       ],
       "layout": {
        "bargap": 0,
        "barmode": "relative",
        "font": {
         "color": "black",
         "family": "Courier New",
         "size": 20
        },
        "legend": {
         "tracegroupgap": 0
        },
        "margin": {
         "t": 60
        },
        "paper_bgcolor": "#ece5dc",
        "plot_bgcolor": "#F5D3A5",
        "template": {
         "data": {
          "bar": [
           {
            "error_x": {
             "color": "#2a3f5f"
            },
            "error_y": {
             "color": "#2a3f5f"
            },
            "marker": {
             "line": {
              "color": "#E5ECF6",
              "width": 0.5
             },
             "pattern": {
              "fillmode": "overlay",
              "size": 10,
              "solidity": 0.2
             }
            },
            "type": "bar"
           }
          ],
          "barpolar": [
           {
            "marker": {
             "line": {
              "color": "#E5ECF6",
              "width": 0.5
             },
             "pattern": {
              "fillmode": "overlay",
              "size": 10,
              "solidity": 0.2
             }
            },
            "type": "barpolar"
           }
          ],
          "carpet": [
           {
            "aaxis": {
             "endlinecolor": "#2a3f5f",
             "gridcolor": "white",
             "linecolor": "white",
             "minorgridcolor": "white",
             "startlinecolor": "#2a3f5f"
            },
            "baxis": {
             "endlinecolor": "#2a3f5f",
             "gridcolor": "white",
             "linecolor": "white",
             "minorgridcolor": "white",
             "startlinecolor": "#2a3f5f"
            },
            "type": "carpet"
           }
          ],
          "choropleth": [
           {
            "colorbar": {
             "outlinewidth": 0,
             "ticks": ""
            },
            "type": "choropleth"
           }
          ],
          "contour": [
           {
            "colorbar": {
             "outlinewidth": 0,
             "ticks": ""
            },
            "colorscale": [
             [
              0,
              "#0d0887"
             ],
             [
              0.1111111111111111,
              "#46039f"
             ],
             [
              0.2222222222222222,
              "#7201a8"
             ],
             [
              0.3333333333333333,
              "#9c179e"
             ],
             [
              0.4444444444444444,
              "#bd3786"
             ],
             [
              0.5555555555555556,
              "#d8576b"
             ],
             [
              0.6666666666666666,
              "#ed7953"
             ],
             [
              0.7777777777777778,
              "#fb9f3a"
             ],
             [
              0.8888888888888888,
              "#fdca26"
             ],
             [
              1,
              "#f0f921"
             ]
            ],
            "type": "contour"
           }
          ],
          "contourcarpet": [
           {
            "colorbar": {
             "outlinewidth": 0,
             "ticks": ""
            },
            "type": "contourcarpet"
           }
          ],
          "heatmap": [
           {
            "colorbar": {
             "outlinewidth": 0,
             "ticks": ""
            },
            "colorscale": [
             [
              0,
              "#0d0887"
             ],
             [
              0.1111111111111111,
              "#46039f"
             ],
             [
              0.2222222222222222,
              "#7201a8"
             ],
             [
              0.3333333333333333,
              "#9c179e"
             ],
             [
              0.4444444444444444,
              "#bd3786"
             ],
             [
              0.5555555555555556,
              "#d8576b"
             ],
             [
              0.6666666666666666,
              "#ed7953"
             ],
             [
              0.7777777777777778,
              "#fb9f3a"
             ],
             [
              0.8888888888888888,
              "#fdca26"
             ],
             [
              1,
              "#f0f921"
             ]
            ],
            "type": "heatmap"
           }
          ],
          "heatmapgl": [
           {
            "colorbar": {
             "outlinewidth": 0,
             "ticks": ""
            },
            "colorscale": [
             [
              0,
              "#0d0887"
             ],
             [
              0.1111111111111111,
              "#46039f"
             ],
             [
              0.2222222222222222,
              "#7201a8"
             ],
             [
              0.3333333333333333,
              "#9c179e"
             ],
             [
              0.4444444444444444,
              "#bd3786"
             ],
             [
              0.5555555555555556,
              "#d8576b"
             ],
             [
              0.6666666666666666,
              "#ed7953"
             ],
             [
              0.7777777777777778,
              "#fb9f3a"
             ],
             [
              0.8888888888888888,
              "#fdca26"
             ],
             [
              1,
              "#f0f921"
             ]
            ],
            "type": "heatmapgl"
           }
          ],
          "histogram": [
           {
            "marker": {
             "pattern": {
              "fillmode": "overlay",
              "size": 10,
              "solidity": 0.2
             }
            },
            "type": "histogram"
           }
          ],
          "histogram2d": [
           {
            "colorbar": {
             "outlinewidth": 0,
             "ticks": ""
            },
            "colorscale": [
             [
              0,
              "#0d0887"
             ],
             [
              0.1111111111111111,
              "#46039f"
             ],
             [
              0.2222222222222222,
              "#7201a8"
             ],
             [
              0.3333333333333333,
              "#9c179e"
             ],
             [
              0.4444444444444444,
              "#bd3786"
             ],
             [
              0.5555555555555556,
              "#d8576b"
             ],
             [
              0.6666666666666666,
              "#ed7953"
             ],
             [
              0.7777777777777778,
              "#fb9f3a"
             ],
             [
              0.8888888888888888,
              "#fdca26"
             ],
             [
              1,
              "#f0f921"
             ]
            ],
            "type": "histogram2d"
           }
          ],
          "histogram2dcontour": [
           {
            "colorbar": {
             "outlinewidth": 0,
             "ticks": ""
            },
            "colorscale": [
             [
              0,
              "#0d0887"
             ],
             [
              0.1111111111111111,
              "#46039f"
             ],
             [
              0.2222222222222222,
              "#7201a8"
             ],
             [
              0.3333333333333333,
              "#9c179e"
             ],
             [
              0.4444444444444444,
              "#bd3786"
             ],
             [
              0.5555555555555556,
              "#d8576b"
             ],
             [
              0.6666666666666666,
              "#ed7953"
             ],
             [
              0.7777777777777778,
              "#fb9f3a"
             ],
             [
              0.8888888888888888,
              "#fdca26"
             ],
             [
              1,
              "#f0f921"
             ]
            ],
            "type": "histogram2dcontour"
           }
          ],
          "mesh3d": [
           {
            "colorbar": {
             "outlinewidth": 0,
             "ticks": ""
            },
            "type": "mesh3d"
           }
          ],
          "parcoords": [
           {
            "line": {
             "colorbar": {
              "outlinewidth": 0,
              "ticks": ""
             }
            },
            "type": "parcoords"
           }
          ],
          "pie": [
           {
            "automargin": true,
            "type": "pie"
           }
          ],
          "scatter": [
           {
            "fillpattern": {
             "fillmode": "overlay",
             "size": 10,
             "solidity": 0.2
            },
            "type": "scatter"
           }
          ],
          "scatter3d": [
           {
            "line": {
             "colorbar": {
              "outlinewidth": 0,
              "ticks": ""
             }
            },
            "marker": {
             "colorbar": {
              "outlinewidth": 0,
              "ticks": ""
             }
            },
            "type": "scatter3d"
           }
          ],
          "scattercarpet": [
           {
            "marker": {
             "colorbar": {
              "outlinewidth": 0,
              "ticks": ""
             }
            },
            "type": "scattercarpet"
           }
          ],
          "scattergeo": [
           {
            "marker": {
             "colorbar": {
              "outlinewidth": 0,
              "ticks": ""
             }
            },
            "type": "scattergeo"
           }
          ],
          "scattergl": [
           {
            "marker": {
             "colorbar": {
              "outlinewidth": 0,
              "ticks": ""
             }
            },
            "type": "scattergl"
           }
          ],
          "scattermapbox": [
           {
            "marker": {
             "colorbar": {
              "outlinewidth": 0,
              "ticks": ""
             }
            },
            "type": "scattermapbox"
           }
          ],
          "scatterpolar": [
           {
            "marker": {
             "colorbar": {
              "outlinewidth": 0,
              "ticks": ""
             }
            },
            "type": "scatterpolar"
           }
          ],
          "scatterpolargl": [
           {
            "marker": {
             "colorbar": {
              "outlinewidth": 0,
              "ticks": ""
             }
            },
            "type": "scatterpolargl"
           }
          ],
          "scatterternary": [
           {
            "marker": {
             "colorbar": {
              "outlinewidth": 0,
              "ticks": ""
             }
            },
            "type": "scatterternary"
           }
          ],
          "surface": [
           {
            "colorbar": {
             "outlinewidth": 0,
             "ticks": ""
            },
            "colorscale": [
             [
              0,
              "#0d0887"
             ],
             [
              0.1111111111111111,
              "#46039f"
             ],
             [
              0.2222222222222222,
              "#7201a8"
             ],
             [
              0.3333333333333333,
              "#9c179e"
             ],
             [
              0.4444444444444444,
              "#bd3786"
             ],
             [
              0.5555555555555556,
              "#d8576b"
             ],
             [
              0.6666666666666666,
              "#ed7953"
             ],
             [
              0.7777777777777778,
              "#fb9f3a"
             ],
             [
              0.8888888888888888,
              "#fdca26"
             ],
             [
              1,
              "#f0f921"
             ]
            ],
            "type": "surface"
           }
          ],
          "table": [
           {
            "cells": {
             "fill": {
              "color": "#EBF0F8"
             },
             "line": {
              "color": "white"
             }
            },
            "header": {
             "fill": {
              "color": "#C8D4E3"
             },
             "line": {
              "color": "white"
             }
            },
            "type": "table"
           }
          ]
         },
         "layout": {
          "annotationdefaults": {
           "arrowcolor": "#2a3f5f",
           "arrowhead": 0,
           "arrowwidth": 1
          },
          "autotypenumbers": "strict",
          "coloraxis": {
           "colorbar": {
            "outlinewidth": 0,
            "ticks": ""
           }
          },
          "colorscale": {
           "diverging": [
            [
             0,
             "#8e0152"
            ],
            [
             0.1,
             "#c51b7d"
            ],
            [
             0.2,
             "#de77ae"
            ],
            [
             0.3,
             "#f1b6da"
            ],
            [
             0.4,
             "#fde0ef"
            ],
            [
             0.5,
             "#f7f7f7"
            ],
            [
             0.6,
             "#e6f5d0"
            ],
            [
             0.7,
             "#b8e186"
            ],
            [
             0.8,
             "#7fbc41"
            ],
            [
             0.9,
             "#4d9221"
            ],
            [
             1,
             "#276419"
            ]
           ],
           "sequential": [
            [
             0,
             "#0d0887"
            ],
            [
             0.1111111111111111,
             "#46039f"
            ],
            [
             0.2222222222222222,
             "#7201a8"
            ],
            [
             0.3333333333333333,
             "#9c179e"
            ],
            [
             0.4444444444444444,
             "#bd3786"
            ],
            [
             0.5555555555555556,
             "#d8576b"
            ],
            [
             0.6666666666666666,
             "#ed7953"
            ],
            [
             0.7777777777777778,
             "#fb9f3a"
            ],
            [
             0.8888888888888888,
             "#fdca26"
            ],
            [
             1,
             "#f0f921"
            ]
           ],
           "sequentialminus": [
            [
             0,
             "#0d0887"
            ],
            [
             0.1111111111111111,
             "#46039f"
            ],
            [
             0.2222222222222222,
             "#7201a8"
            ],
            [
             0.3333333333333333,
             "#9c179e"
            ],
            [
             0.4444444444444444,
             "#bd3786"
            ],
            [
             0.5555555555555556,
             "#d8576b"
            ],
            [
             0.6666666666666666,
             "#ed7953"
            ],
            [
             0.7777777777777778,
             "#fb9f3a"
            ],
            [
             0.8888888888888888,
             "#fdca26"
            ],
            [
             1,
             "#f0f921"
            ]
           ]
          },
          "colorway": [
           "#636efa",
           "#EF553B",
           "#00cc96",
           "#ab63fa",
           "#FFA15A",
           "#19d3f3",
           "#FF6692",
           "#B6E880",
           "#FF97FF",
           "#FECB52"
          ],
          "font": {
           "color": "#2a3f5f"
          },
          "geo": {
           "bgcolor": "white",
           "lakecolor": "white",
           "landcolor": "#E5ECF6",
           "showlakes": true,
           "showland": true,
           "subunitcolor": "white"
          },
          "hoverlabel": {
           "align": "left"
          },
          "hovermode": "closest",
          "mapbox": {
           "style": "light"
          },
          "paper_bgcolor": "white",
          "plot_bgcolor": "#E5ECF6",
          "polar": {
           "angularaxis": {
            "gridcolor": "white",
            "linecolor": "white",
            "ticks": ""
           },
           "bgcolor": "#E5ECF6",
           "radialaxis": {
            "gridcolor": "white",
            "linecolor": "white",
            "ticks": ""
           }
          },
          "scene": {
           "xaxis": {
            "backgroundcolor": "#E5ECF6",
            "gridcolor": "white",
            "gridwidth": 2,
            "linecolor": "white",
            "showbackground": true,
            "ticks": "",
            "zerolinecolor": "white"
           },
           "yaxis": {
            "backgroundcolor": "#E5ECF6",
            "gridcolor": "white",
            "gridwidth": 2,
            "linecolor": "white",
            "showbackground": true,
            "ticks": "",
            "zerolinecolor": "white"
           },
           "zaxis": {
            "backgroundcolor": "#E5ECF6",
            "gridcolor": "white",
            "gridwidth": 2,
            "linecolor": "white",
            "showbackground": true,
            "ticks": "",
            "zerolinecolor": "white"
           }
          },
          "shapedefaults": {
           "line": {
            "color": "#2a3f5f"
           }
          },
          "ternary": {
           "aaxis": {
            "gridcolor": "white",
            "linecolor": "white",
            "ticks": ""
           },
           "baxis": {
            "gridcolor": "white",
            "linecolor": "white",
            "ticks": ""
           },
           "bgcolor": "#E5ECF6",
           "caxis": {
            "gridcolor": "white",
            "linecolor": "white",
            "ticks": ""
           }
          },
          "title": {
           "x": 0.05
          },
          "xaxis": {
           "automargin": true,
           "gridcolor": "white",
           "linecolor": "white",
           "ticks": "",
           "title": {
            "standoff": 15
           },
           "zerolinecolor": "white",
           "zerolinewidth": 2
          },
          "yaxis": {
           "automargin": true,
           "gridcolor": "white",
           "linecolor": "white",
           "ticks": "",
           "title": {
            "standoff": 15
           },
           "zerolinecolor": "white",
           "zerolinewidth": 2
          }
         }
        },
        "title": {
         "font": {
          "size": 30
         },
         "text": "<b>Climbing Pyramid</b>",
         "x": 0.5
        },
        "xaxis": {
         "anchor": "y",
         "domain": [
          0,
          1
         ],
         "title": {
          "text": "Number of Routes Sent"
         }
        },
        "yaxis": {
         "anchor": "x",
         "categoryarray": [
          "5.0",
          "5.1",
          "5.2",
          "5.3",
          "5.4",
          "5.5",
          "5.6",
          "5.7",
          "5.8",
          "5.9",
          "5.10a",
          "5.10b",
          "5.10c",
          "5.10d",
          "5.11a",
          "5.11b",
          "5.11c",
          "5.11d",
          "5.12a",
          "5.12b",
          "5.12c",
          "5.12d",
          "5.13a",
          "5.13b",
          "5.13c",
          "5.13d",
          "5.14a",
          "5.14b",
          "5.14c",
          "5.14d",
          "5.15a",
          "5.15b",
          "5.15c",
          "5.15d"
         ],
         "categoryorder": "array",
         "domain": [
          0,
          1
         ],
         "title": {
          "text": "Grade"
         }
        }
       }
      }
     },
     "metadata": {},
     "output_type": "display_data"
    }
   ],
   "source": [
    "fig = px.bar(df_clean_sends, y=\"Rating\", orientation='h', category_orders={\"Rating\": YDS_GRADES_LETTER[::-1]}, text='Attempts', custom_data=['Route Formatted', 'Date Formatted', 'Location Formatted', 'Length', 'Avg Stars']) # The [::-1] is an inverse slice\n",
    "fig.update_layout(font={'family':'Courier New', 'color':'black', 'size':20}, title={'text':'<b>Climbing Pyramid</b>', 'x':0.5, 'font_size':30}, xaxis={'title': 'Number of Routes Sent'}, yaxis={'title': 'Grade'}, paper_bgcolor='#ece5dc', plot_bgcolor='#F5D3A5', bargap=0)\n",
    "fig.update_traces(marker_color='#7A4F25', textposition = \"inside\", textfont={\"color\": 'White', \"size\": 12, \"family\": 'Arial Black'},  hovertemplate='Name: %{customdata[0]}<br>Date: %{customdata[1]}<br>Location: %{customdata[2]}<br>Length: %{customdata[3]}ft<br>Avg Stars: %{customdata[4]}')\n",
    "# fig.update_traces(marker_color=list(map(lambda x: '#7A4F25' if (x=='') else '#bf9315', df_clean_sends['Attempts'])), textposition = \"inside\",  hovertemplate='Name: %{customdata[0]}<br>Date: %{customdata[1]}<br>Location: %{customdata[2]}<br>Length: %{customdata[3]}ft<br>Avg Stars: %{customdata[4]}')"
   ]
  },
  {
   "cell_type": "code",
   "execution_count": 129,
   "metadata": {},
   "outputs": [
    {
     "data": {
      "application/vnd.plotly.v1+json": {
       "config": {
        "plotlyServerURL": "https://plot.ly"
       },
       "data": [
        {
         "customdata": [
          [
           "Big Guy",
           "2022-11-25",
           "Indian Creek > Scarface",
           120,
           3.9
          ],
          [
           "Unnamed Offwidth",
           "2022-11-24",
           "Indian Creek > South Sixshooter",
           70,
           3
          ],
          [
           "South Face Angling Crack?",
           "2022-11-24",
           "Indian Creek > South Sixshooter",
           90,
           3
          ],
          [
           "Lonely Vigil",
           "2022-11-20",
           "River Road > Lighthouse Tower",
           350,
           3.5
          ],
          [
           "Chasin' Skirt",
           "2022-11-19",
           "Long Canyon > Deadman'S Buttress",
           150,
           3.3
          ],
          [
           "Chopper",
           "2022-11-19",
           "Long Canyon > Deadman'S Buttress",
           190,
           3.6
          ],
          [
           "Program Director",
           "2022-11-19",
           "Long Canyon > Deadman'S Buttress",
           190,
           3.5
          ],
          [
           "Urban Struggle",
           "2022-11-05",
           "Malibu Creek State Park > Ghetto Wall",
           50,
           3.4
          ],
          [
           "Directpissima",
           "2022-11-05",
           "Malibu Creek State Park > Ghetto Wall",
           50,
           2.4
          ],
          [
           "Unnamed",
           "2022-11-05",
           "Malibu Creek State Park > Ghetto Wall",
           45,
           2.4
          ],
          [
           "Three Fools Aka Kelley Route 32",
           "2022-10-21",
           "Indian Creek > Reservoir Wall",
           60,
           2.5
          ],
          [
           "Blue Sky Mining",
           "2022-10-20",
           "Indian Creek > Broken Tooth",
           50,
           2.4
          ],
          [
           "Unnamed Classic Hand Crack Aka Gold Crown",
           "2022-10-20",
           "Indian Creek > Broken Tooth",
           120,
           3.7
          ],
          [
           "Rock Lobster",
           "2022-10-20",
           "Indian Creek > Broken Tooth",
           115,
           3.8
          ],
          [
           "The Mayes",
           "2022-10-17",
           "Indian Creek > Battle Of The Bulge Buttress",
           50,
           2.4
          ],
          [
           "Think Pink",
           "2022-10-17",
           "Indian Creek > Battle Of The Bulge Buttress",
           null,
           3.4
          ],
          [
           "Crack Attack",
           "2022-10-17",
           "Indian Creek > Battle Of The Bulge Buttress",
           null,
           3.7
          ],
          [
           "Desire",
           "2022-10-15",
           "Indian Creek > Way Rambo",
           95,
           2.8
          ],
          [
           "Pocket Rocket",
           "2022-10-14",
           "Day Canyon > Day Canyon Cragging Routes",
           65,
           3.5
          ],
          [
           "Brush Painted Datsun",
           "2022-10-14",
           "Day Canyon > Day Canyon Cragging Routes",
           70,
           3.6
          ],
          [
           "Makunaima",
           "2022-10-08",
           "Cold Springs Dome > Makunaima Amphitheater",
           90,
           3.9
          ],
          [
           "Anasazi",
           "2022-10-08",
           "Cold Springs Dome > Makunaima Amphitheater",
           50,
           3
          ],
          [
           "The Consolation Direct",
           "2022-10-01",
           "Tahquitz Rock > (D) Northwest Recess",
           800,
           3.3
          ],
          [
           "Daximus",
           "2022-08-20",
           "Cold Springs Dome > Makunaima Amphitheater",
           90,
           3.4
          ],
          [
           "Rites Of Spring",
           "2022-07-22",
           "Scheelite Canyon / Pratt'S Crack Gully > Armando'S Stilletto / Rites Of Spring",
           400,
           3.5
          ],
          [
           "Baby Scorpions",
           "2022-07-17",
           "Cold Springs Dome > Makunaima Amphitheater",
           70,
           2.6
          ],
          [
           "Anasazi",
           "2022-07-17",
           "Cold Springs Dome > Makunaima Amphitheater",
           50,
           3
          ],
          [
           "The Dihedral Route",
           "2022-07-09",
           "02 - The Sawtooth Ridge > The Juggernaut",
           750,
           3.3
          ],
          [
           "Crimson Gem",
           "2022-07-08",
           "02 - The Sawtooth Ridge > The Juggernaut",
           750,
           3.6
          ],
          [
           "D.d.d.",
           "2022-07-06",
           "Horseshoe Piles > Spring Wall",
           90,
           3.6
          ],
          [
           "Reallyfivenineplus",
           "2022-07-06",
           "Horseshoe Piles > Spring Wall",
           80,
           3.1
          ],
          [
           "Fall Harvest",
           "2022-07-05",
           "Horseshoe Piles > Spring Wall",
           50,
           2.7
          ],
          [
           "Mongoloid",
           "2022-07-04",
           "Dike Wall > North Face",
           60,
           2.3
          ],
          [
           "Black Lassie",
           "2022-07-04",
           "Dike Wall > East Face",
           80,
           3.4
          ],
          [
           "Sideshow",
           "2022-07-02",
           "Rock Creek > Gong Show Wall",
           100,
           3.4
          ],
          [
           "He She",
           "2022-07-02",
           "Rock Creek > Gong Show Wall",
           130,
           3.6
          ],
          [
           "Economique",
           "2022-06-18",
           "Hwy 33/Ojai > Wheeler Gorge",
           80,
           3.1
          ],
          [
           "Blush",
           "2022-06-18",
           "Hwy 33/Ojai > Wheeler Gorge",
           60,
           2.8
          ],
          [
           "The Surprise",
           "2022-05-29",
           "Five Open Books > First Tier",
           400,
           3.1
          ],
          [
           "Werner's Ant Trees",
           "2022-05-29",
           "Five Open Books > First Tier",
           75,
           3.1
          ],
          [
           "Outer Limits",
           "2022-05-13",
           "Aj. Cookie Area > The Cookie Cliff",
           190,
           3.8
          ],
          [
           "Beverly's Tower",
           "2022-05-13",
           "Aj. Cookie Area > The Cookie Cliff",
           100,
           2.7
          ],
          [
           "No Man Knows The Hour",
           "2022-05-07",
           "Lower Mission Canyon / Seven Falls > Upper Theology Crag",
           110,
           2.8
          ],
          [
           "Chimps Ahoy",
           "2022-04-16",
           "Malibu Creek State Park > Stumbling Blocks",
           80,
           2.5
          ],
          [
           "Sons Of Yesterday",
           "2022-04-09",
           "Royal Arches > Western Royal Arches",
           600,
           3.9
          ],
          [
           "Serenity Crack",
           "2022-04-09",
           "Royal Arches > Western Royal Arches",
           350,
           3.8
          ],
          [
           "Have A Beer With Fear",
           "2022-03-13",
           "01-Calico Basin > Cannibal Crag",
           60,
           2.7
          ],
          [
           "What's Eating You",
           "2022-03-13",
           "01-Calico Basin > Cannibal Crag",
           60,
           2.2
          ],
          [
           "Caustic Cock",
           "2022-03-13",
           "01-Calico Basin > Cannibal Crag",
           40,
           3.4
          ],
          [
           "Small Purchase",
           "2022-03-12",
           "Magic Mountain > North Face",
           100,
           3.4
          ],
          [
           "Bone Saw",
           "2022-03-11",
           "16-Black Velvet Canyon > The Monument",
           55,
           2.5
          ],
          [
           "Handbone",
           "2022-03-11",
           "16-Black Velvet Canyon > The Monument",
           70,
           3.3
          ],
          [
           "The Gobbler",
           "2022-03-11",
           "16-Black Velvet Canyon > Black Velvet Wall",
           200,
           3.2
          ],
          [
           "Cockblock",
           "2022-02-05",
           "Malibu Creek State Park > Stumbling Blocks",
           40,
           2.5
          ],
          [
           "Skeezer Pleaser",
           "2022-02-05",
           "Malibu Creek State Park > Ghetto Wall",
           45,
           2.8
          ],
          [
           "Dick Pics",
           "2022-02-05",
           "Malibu Creek State Park > Mt. Gorgeous",
           50,
           2.6
          ],
          [
           "Johnny Can't Lead",
           "2022-02-05",
           "Malibu Creek State Park > Ghetto Wall",
           40,
           3.2
          ],
          [
           "The Third Degree",
           "2022-01-23",
           "Malibu Creek State Park > Stumbling Blocks",
           null,
           2.4
          ],
          [
           "Guerilla Drilla",
           "2022-01-23",
           "Malibu Creek State Park > Stumbling Blocks",
           null,
           2.4
          ],
          [
           "Gorgeous",
           "2022-01-23",
           "Malibu Creek State Park > Mt. Gorgeous",
           60,
           2.7
          ],
          [
           "Luscious",
           "2022-01-23",
           "Malibu Creek State Park > Mt. Gorgeous",
           60,
           3.1
          ],
          [
           "Rain Dance",
           "2022-01-15",
           "Whiskey Peak > North Face",
           130,
           2.8
          ],
          [
           "Run For Your Life",
           "2021-12-04",
           "Real Hidden Valley > Tumbling Rainbow Formation",
           90,
           3.7
          ],
          [
           "Illusion Dweller",
           "2021-12-04",
           "The Sentinel > The Sentinel - West Face",
           100,
           3.8
          ],
          [
           "Dancin' With A God",
           "2021-11-07",
           "Upper Level > Upper Level - Left",
           50,
           2.6
          ],
          [
           "Rebel Without A Pause",
           "2021-11-07",
           "Upper Level > Upper Level - Right",
           50,
           3
          ],
          [
           "Slot Machine",
           "2021-11-06",
           "Mescalito > Dark Shadows Wall",
           null,
           3.3
          ],
          [
           "Risky Business",
           "2021-11-06",
           "Mescalito > Dark Shadows Wall",
           400,
           3.8
          ],
          [
           "Sour Mash",
           "2021-11-05",
           "16-Black Velvet Canyon > Black Velvet Wall",
           600,
           3.6
          ],
          [
           "Bittersweet",
           "2021-10-30",
           "Echo Cliffs > Chocolate Wall",
           null,
           2.6
          ],
          [
           "Keyhole Flake",
           "2021-10-21",
           "Indian Creek > Supercrack Buttress",
           null,
           3.1
          ],
          [
           "Gorilla",
           "2021-10-21",
           "Indian Creek > Supercrack Buttress",
           null,
           3.1
          ],
          [
           "Bad Rad Duality",
           "2021-10-21",
           "Indian Creek > Supercrack Buttress",
           120,
           3.5
          ],
          [
           "Unnamed 38 - Wide To Fists And Kind Of Wavy",
           "2021-10-20",
           "Indian Creek > Reservoir Wall",
           65,
           2.8
          ],
          [
           "Ernie Used To Box",
           "2021-10-20",
           "Indian Creek > Reservoir Wall",
           100,
           3.8
          ],
          [
           "Warm-up Handcrack",
           "2021-10-20",
           "Indian Creek > Reservoir Wall",
           100,
           3.7
          ],
          [
           "Where's Carruthers?",
           "2021-10-18",
           "Indian Creek > Scarface",
           60,
           2.7
          ],
          [
           "Wavy Gravy",
           "2021-10-18",
           "Indian Creek > Scarface",
           70,
           3.2
          ],
          [
           "Divide And Conquer",
           "2021-10-17",
           "Indian Creek > Sparks Wall",
           100,
           3.1
          ],
          [
           "Go Sparky Go",
           "2021-10-17",
           "Indian Creek > Sparks Wall",
           70,
           3.4
          ],
          [
           "Jupiter Crack",
           "2021-10-17",
           "Indian Creek > Sparks Wall",
           130,
           3.9
          ],
          [
           "Purple Rain",
           "2021-10-16",
           "Indian Creek > Technicolor Wall",
           70,
           2.7
          ],
          [
           "On The Up And Up",
           "2021-10-16",
           "Indian Creek > Technicolor Wall",
           70,
           3.2
          ],
          [
           "Whale's Back",
           "2021-10-16",
           "Indian Creek > Technicolor Wall",
           120,
           3.7
          ],
          [
           "Salathe (pitch 1)",
           "2021-09-16",
           "Southwest Base > Moby Dick And Pterodactyl Terrace",
           160,
           3.8
          ],
          [
           "Americano",
           "2021-09-03",
           "Echo Cliffs > Java Wall",
           100,
           3
          ],
          [
           "Great Race",
           "2021-08-29",
           "Santa Barbara > San Ysidro",
           70,
           3
          ],
          [
           "Dark Star",
           "2021-08-21",
           "09 - Palisades & Surrounding Peaks > Temple Crag",
           2000,
           3.4
          ],
          [
           "V8 Crack",
           "2021-08-20",
           "Bishop Area > Cardinal Pinnacle",
           80,
           3.9
          ],
          [
           "Crack Kingdom",
           "2021-08-20",
           "Bishop Area > Cardinal Pinnacle",
           550,
           3.5
          ],
          [
           "Little Sheba",
           "2021-07-23",
           "Lamb Dome > West Face Of The Lamb",
           110,
           3.3
          ],
          [
           "Black Lassie",
           "2021-07-22",
           "Dike Wall > East Face",
           80,
           3.4
          ],
          [
           "Cromagnon",
           "2021-07-22",
           "Dike Wall > East Face",
           80,
           3.7
          ],
          [
           "Mongoloid",
           "2021-07-22",
           "Dike Wall > North Face",
           60,
           2.3
          ],
          [
           "Grim Reality",
           "2021-07-22",
           "Dike Wall > East Face",
           90,
           2.2
          ],
          [
           "Black Dihedral",
           "2021-07-20",
           "Dike Wall > East Face",
           70,
           3.4
          ],
          [
           "Direct Northwest Face",
           "2021-06-05",
           "Lembert Dome > Northwest Face",
           400,
           3.4
          ],
          [
           "Third Pillar, Regular Route",
           "2021-06-04",
           "Lee Vining Canyon / Tioga Road > Dana Plateau",
           800,
           3.8
          ],
          [
           "Faithful Friend",
           "2021-06-03",
           "Horseshoe Lake Area > Sunshine Wall",
           100,
           2.4
          ],
          [
           "Edgehog",
           "2021-06-03",
           "Horseshoe Lake Area > Sunshine Wall",
           100,
           2.4
          ],
          [
           "Kung Fu Fighter",
           "2021-05-13",
           "Mount Carmel Tunnel > Kung Fu Theater",
           450,
           3.6
          ],
          [
           "The Headache",
           "2021-05-13",
           "Mount Carmel Tunnel > Headache Area",
           380,
           3.9
          ],
          [
           "X Files",
           "2021-05-02",
           "Malibu Creek State Park > Stumbling Blocks",
           30,
           2.1
          ],
          [
           "Mr. Big",
           "2021-05-02",
           "Malibu Creek State Park > Stumbling Blocks",
           35,
           3.1
          ],
          [
           "The Fox",
           "2021-04-11",
           "01-Calico Basin > The Fox Area",
           150,
           3.9
          ],
          [
           "Unimpeachable Groping",
           "2021-04-09",
           "11-Juniper Canyon > Ginger Buttress",
           760,
           3.5
          ],
          [
           "Tea Bag",
           "2021-03-27",
           "Echo Cliffs > The Tea Room",
           85,
           3
          ],
          [
           "English Breakfast Tea",
           "2021-03-27",
           "Echo Cliffs > The Tea Room",
           80,
           2.5
          ],
          [
           "Darjeeling Extra Fancy",
           "2021-03-27",
           "Echo Cliffs > The Tea Room",
           85,
           2.6
          ],
          [
           "Irish Car Bomb",
           "2021-03-27",
           "Echo Cliffs > The Tea Room",
           80,
           2.6
          ],
          [
           "Casey At The Bat",
           "2021-03-27",
           "Echo Cliffs > Easy Street",
           100,
           3
          ],
          [
           "Too Proud To Ignore",
           "2021-03-21",
           "Upper Gorge > Dihedrals",
           40,
           2.6
          ],
          [
           "Slackjaw",
           "2021-03-21",
           "Upper Gorge > Dihedrals",
           80,
           2.8
          ],
          [
           "Life During Wartime",
           "2021-03-21",
           "Upper Gorge > Dihedrals",
           80,
           2.8
          ],
          [
           "Nirvana",
           "2021-03-14",
           "Central Gorge > Upper Crust",
           70,
           2.3
          ],
          [
           "Hardly Wallbanger",
           "2021-03-14",
           "Central Gorge > Pub Wall",
           90,
           3.6
          ],
          [
           "Spinal Fracture",
           "2021-03-09",
           "Central Gorge > Social Platform",
           null,
           3.2
          ],
          [
           "Glitter Gulch",
           "2021-02-28",
           "04-Second Pullout (Calico Ii) > Sweet Pain Wall",
           65,
           3.4
          ],
          [
           "Bring Out Your Dead",
           "2021-02-20",
           "Santa Barbara > Renaissance Crag",
           40,
           2.2
          ],
          [
           "Pirates On Horseback",
           "2021-02-13",
           "Alabama Hills North > The Shark'S Fin",
           50,
           2.5
          ],
          [
           "Espresso",
           "2021-02-10",
           "Echo Cliffs > Java Wall",
           90,
           3.2
          ],
          [
           "B-line",
           "2021-02-06",
           "Echo Cliffs > Left Flank",
           90,
           2.3
          ],
          [
           "Broken Glass",
           "2021-01-31",
           "Real Hidden Valley > Gateway Rock",
           60,
           2.4
          ],
          [
           "Bird On A Wire",
           "2021-01-30",
           "Lost Horse Wall > Lost Horse Wall - Right Side",
           330,
           3.3
          ],
          [
           "The Paw",
           "2021-01-30",
           "Little Hunk - Sw Face > Sw Face Right (Monkey Business Wall)",
           35,
           2
          ],
          [
           "Roofing Company",
           "2021-01-30",
           "Little Hunk - Sw Face > Sw Face Right (Monkey Business Wall)",
           50,
           2.2
          ],
          [
           "Mic's Master",
           "2021-01-17",
           "Wake Up Wall Area > The Wake-Up Wall",
           55,
           2.7
          ],
          [
           "The Last Drag",
           "2021-01-17",
           "Wake Up Wall Area > The Wake-Up Wall",
           50,
           2.4
          ],
          [
           "First Born",
           "2021-01-17",
           "Wake Up Wall Area > The Wake-Up Wall",
           65,
           1.9
          ],
          [
           "Spanky Spangler",
           "2021-01-17",
           "Wake Up Wall Area > The Wake-Up Wall",
           65,
           2.7
          ],
          [
           "Fall Of Vegas",
           "2021-01-17",
           "Wake Up Wall Area > The Wake-Up Wall",
           50,
           2.3
          ],
          [
           "Mushroom People",
           "2021-01-15",
           "10-Pine Creek Canyon > Brass Wall",
           100,
           3.4
          ],
          [
           "Delicious",
           "2020-12-12",
           "Malibu Creek State Park > Mt. Gorgeous",
           85,
           3
          ],
          [
           "Family Jewel",
           "2020-12-12",
           "Malibu Creek State Park > Mt. Gorgeous",
           50,
           2.9
          ],
          [
           "Stuart's Rig (aka Stu Boy)",
           "2020-12-05",
           "Hwy 33/Ojai > Wheeler Gorge",
           75,
           2.7
          ],
          [
           "Pigs In Space",
           "2020-11-22",
           "Indian Creek > Battle Of The Bulge Buttress",
           120,
           2.9
          ],
          [
           "Casey's Route",
           "2020-11-21",
           "Indian Creek > The Optimator",
           70,
           2.7
          ],
          [
           "Ditch 'em",
           "2020-11-21",
           "Indian Creek > The Optimator",
           50,
           2.6
          ],
          [
           "Lady Pillar",
           "2020-11-21",
           "Indian Creek > The Optimator",
           110,
           2.6
          ],
          [
           "Neat",
           "2020-11-21",
           "Indian Creek > The Optimator",
           100,
           3.2
          ],
          [
           "Dirty Woman",
           "2020-11-20",
           "Indian Creek > The Wall",
           35,
           2.1
          ],
          [
           "Freebird",
           "2020-11-20",
           "Indian Creek > The Wall",
           60,
           3.1
          ],
          [
           "Run Like Hell",
           "2020-11-20",
           "Indian Creek > The Wall",
           70,
           3.5
          ],
          [
           "3am Crack",
           "2020-11-19",
           "Indian Creek > Supercrack Buttress",
           115,
           3.5
          ],
          [
           "Princess Buttercup",
           "2020-11-18",
           "Indian Creek > Cliffs Of Insanity",
           70,
           3
          ],
          [
           "Iocane Powder",
           "2020-11-18",
           "Indian Creek > Cliffs Of Insanity",
           35,
           2.5
          ],
          [
           "Blue Sun",
           "2020-11-15",
           "Indian Creek > Way Rambo",
           70,
           3.6
          ],
          [
           "Elephant Man",
           "2020-11-14",
           "Indian Creek > Donnelly Canyon",
           80,
           2.5
          ],
          [
           "Owl Crack",
           "2020-11-14",
           "Indian Creek > Donnelly Canyon",
           80,
           3.1
          ],
          [
           "Idiot Parade (aka Need To Rest)",
           "2020-10-18",
           "Lower Level > Lower Level - Right",
           50,
           2.9
          ],
          [
           "Vagabonds",
           "2020-10-18",
           "Lower Level > Lower Level - Left",
           70,
           2.7
          ],
          [
           "Atman",
           "2020-10-17",
           "Kraft Mountain Area > Yin And Yang Cliff",
           40,
           3.1
          ],
          [
           "Miss Conception",
           "2020-10-16",
           "Whiskey Peak > North Face",
           200,
           2.8
          ],
          [
           "Spark Plug",
           "2020-10-16",
           "16-Black Velvet Canyon > Black Velvet Wall",
           100,
           3
          ],
          [
           "Sand Felipe",
           "2020-10-16",
           "Whiskey Peak > North Face",
           110,
           2.6
          ],
          [
           "Face The Seam",
           "2020-10-12",
           "Santa Barbara > Fire Crags",
           35,
           2
          ],
          [
           "Gorgeous",
           "2020-09-26",
           "Malibu Creek State Park > Mt. Gorgeous",
           60,
           2.7
          ],
          [
           "Miss Apprehension",
           "2020-09-06",
           "Olmsted Area > Olmsted Canyon Right",
           55,
           2
          ],
          [
           "Crying Time Again",
           "2020-08-28",
           "Lembert Dome > Northwest Face",
           400,
           3.5
          ],
          [
           "But I Don't Drink Scotch",
           "2020-08-15",
           "Crystal Crag > Highlands Wall",
           100,
           2.7
          ],
          [
           "Springbank",
           "2020-08-15",
           "Crystal Crag > Highlands Wall",
           90,
           3.6
          ],
          [
           "Gridlock",
           "2020-08-09",
           "Hwy 33/Ojai > Wheeler Gorge",
           65,
           2.6
          ],
          [
           "Sick Boy",
           "2020-08-09",
           "Hwy 33/Ojai > Wheeler Gorge",
           55,
           3
          ],
          [
           "Cucumbers",
           "2020-07-17",
           "Bishop Area > Cardinal Pinnacle",
           350,
           3.2
          ],
          [
           "West Face",
           "2020-07-17",
           "Bishop Area > Cardinal Pinnacle",
           550,
           3.8
          ],
          [
           "Cut The Cord",
           "2020-07-11",
           "Malibu Creek State Park > Ghetto Wall",
           30,
           2.1
          ],
          [
           "Kathmandu",
           "2020-07-11",
           "Malibu Creek State Park > Ghetto Wall",
           35,
           2.6
          ],
          [
           "Careful, There's A Beverage Here!",
           "2020-06-21",
           "The Playground > Little Lebowski Urban Achievers Crag",
           50,
           2.2
          ],
          [
           "Airy Interlude",
           "2020-06-13",
           "The Needles > The Witch",
           null,
           3.9
          ],
          [
           "The Gibbon",
           "2020-05-10",
           "Gibraltar Area > Upper Gibraltar",
           100,
           2.5
          ],
          [
           "T-crack",
           "2020-04-24",
           "Gibraltar Area > Gibraltar Rock",
           60,
           3.7
          ],
          [
           "Triassic Sands",
           "2020-02-07",
           "Whiskey Peak > North Face",
           700,
           3.8
          ],
          [
           "No Calculators Allowed",
           "2019-11-16",
           "Real Hidden Valley > The Thin Wall",
           50,
           2.6
          ],
          [
           "Fisticuffs",
           "2019-11-16",
           "Real Hidden Valley > Tumbling Rainbow Formation",
           30,
           2.9
          ],
          [
           "Crack 6",
           "2019-11-15",
           "Isles Corridor > Isles Corridor - Left Side",
           50,
           2.9
          ],
          [
           "Bird Of Fire",
           "2019-11-15",
           "Isles In The Sky > Isles In The Sky (Northeast Face)",
           80,
           3.8
          ],
          [
           "Moubit",
           "2019-11-09",
           "Isles Corridor > Isles Corridor - Right Side",
           60,
           2.3
          ],
          [
           "The Guillotine",
           "2019-11-02",
           "Echo Cliffs > The Alcove",
           90,
           3.4
          ],
          [
           "Caution: Falling Snakes",
           "2019-10-06",
           "Invisible Wall > Lower Main Wall",
           null,
           3
          ],
          [
           "Raised On Robbery",
           "2019-09-05",
           "Lower Blair I, Ii, Iii, And Vicinity > Lower Blair I",
           70,
           3.5
          ],
          [
           "Mctech Arete",
           "2019-08-27",
           "Bugaboos > Crescent Spire",
           500,
           3.8
          ],
          [
           "Arrowroot",
           "2019-08-20",
           "Stawamus Chief > Grand Wall Base Area",
           115,
           3.5
          ],
          [
           "Seasoned In The Sun",
           "2019-08-20",
           "Stawamus Chief > Grand Wall Base Area",
           95,
           3.6
          ],
          [
           "Coronary Bypass",
           "2019-08-19",
           "The Smoke Bluffs > Respiration Rock",
           40,
           2.8
          ],
          [
           "The Ultimate Everything",
           "2019-08-18",
           "Stawamus Chief > Echelon Wall",
           1300,
           2.9
          ],
          [
           "Rock On",
           "2019-08-18",
           "Stawamus Chief > The Apron",
           400,
           3.6
          ],
          [
           "Hungry, Hungry Hippos",
           "2019-08-16",
           "Murrin Park > Commonwealth",
           65,
           2.4
          ],
          [
           "Pop-sickle",
           "2019-08-16",
           "Murrin Park > Commonwealth",
           80,
           2
          ],
          [
           "Neat And Cool Offwidth",
           "2019-08-14",
           "The Smoke Bluffs > Neat And Cool",
           70,
           2.4
          ],
          [
           "Flying Circus",
           "2019-08-14",
           "The Smoke Bluffs > Neat And Cool",
           100,
           3.6
          ],
          [
           "Rattletale",
           "2019-08-01",
           "Lookout Point Area > Rattletale Wall",
           null,
           3.8
          ],
          [
           "Tofu Crack",
           "2019-05-13",
           "Indian Creek > 2Nd Meat Wall",
           115,
           3.3
          ],
          [
           "No Name Crack",
           "2019-05-12",
           "Indian Creek > Supercrack Buttress",
           110,
           3.2
          ],
          [
           "Hot Toddy",
           "2019-05-11",
           "Long Canyon > Maverick Buttress",
           80,
           2.9
          ],
          [
           "Texas Two Step",
           "2019-05-11",
           "Long Canyon > Maverick Buttress",
           null,
           2.7
          ],
          [
           "Pocket Rocket",
           "2019-05-09",
           "Day Canyon > Day Canyon Cragging Routes",
           65,
           3.5
          ],
          [
           "Dread Pirate Roberts",
           "2019-05-04",
           "Indian Creek > Cliffs Of Insanity",
           60,
           3.1
          ],
          [
           "Kelley Route 1",
           "2019-05-04",
           "Indian Creek > Cliffs Of Insanity",
           130,
           3.6
          ],
          [
           "Supercrack Of The Desert",
           "2019-05-03",
           "Indian Creek > Supercrack Buttress",
           null,
           3.8
          ],
          [
           "Incredible Hand Crack",
           "2019-05-03",
           "Indian Creek > Supercrack Buttress",
           100,
           3.8
          ],
          [
           "Generic Crack",
           "2019-05-02",
           "Indian Creek > Donnelly Canyon",
           120,
           3.4
          ],
          [
           "Dawn Of An Age",
           "2019-05-01",
           "Indian Creek > Blue Gramma Cliff",
           50,
           2.5
          ],
          [
           "Kemosabe",
           "2019-04-22",
           "07-Willow Spring > Ragged Edges Area",
           100,
           2.6
          ],
          [
           "Getaway",
           "2019-01-19",
           "Box Canyon East > The Getaway",
           65,
           3.3
          ],
          [
           "Holey Moley",
           "2019-01-19",
           "Raven Rocks > Raven Rocks North Face \"Power Block\" Area",
           90,
           3
          ],
          [
           "Celestial Spheres",
           "2018-12-16",
           "03-First Pullout (Calico I) > Dante'S Wall",
           65,
           2.6
          ],
          [
           "Divine Comedy",
           "2018-12-16",
           "03-First Pullout (Calico I) > Dante'S Wall",
           65,
           3.3
          ],
          [
           "The Right Road Lost",
           "2018-12-16",
           "03-First Pullout (Calico I) > Dante'S Wall",
           50,
           2.6
          ],
          [
           "Ches Game",
           "2018-10-25",
           "Invisible Wall > Lower Main Wall",
           null,
           2.3
          ],
          [
           "Twice Stung And Forever Shy",
           "2018-10-25",
           "Invisible Wall > Bug Wall",
           null,
           2.9
          ],
          [
           "Tut",
           "2018-10-21",
           "Century Lake Area > Little Cheops",
           40,
           2
          ],
          [
           "Power Station",
           "2018-10-21",
           "Century Lake Area > The Power Wall",
           50,
           2.9
          ],
          [
           "Power Grid",
           "2018-10-21",
           "Century Lake Area > The Power Wall",
           60,
           2.6
          ],
          [
           "Cleaning Lady",
           "2018-09-17",
           "Hwy 33/Ojai > Potrero John",
           80,
           2.8
          ]
         ],
         "hovertemplate": "Name: %{customdata[0]}<br>Date: %{customdata[1]}<br>Location: %{customdata[2]}<br>Length: %{customdata[3]}ft<br>Avg Stars: %{customdata[4]}",
         "legendgroup": "",
         "marker": {
          "color": "#7A4F25",
          "line": {
           "color": "black",
           "width": 2
          },
          "size": 20,
          "symbol": "square"
         },
         "mode": "markers+text",
         "name": "",
         "orientation": "v",
         "showlegend": false,
         "text": [
          "",
          "",
          "",
          "",
          "",
          "",
          "",
          4,
          2,
          "",
          "",
          "",
          "",
          "",
          "",
          "",
          "",
          "",
          "",
          2,
          16,
          "",
          "",
          "",
          "",
          "",
          "",
          "",
          "",
          "",
          "",
          "",
          "",
          "",
          "",
          "",
          "",
          2,
          "",
          "",
          "",
          "",
          2,
          "",
          "",
          "",
          "",
          "",
          2,
          "",
          "",
          "",
          "",
          2,
          2,
          "",
          "",
          "",
          "",
          "",
          "",
          "",
          "",
          "",
          "",
          2,
          "",
          "",
          "",
          "",
          "",
          "",
          "",
          "",
          "",
          "",
          "",
          "",
          "",
          "",
          "",
          "",
          "",
          "",
          "",
          2,
          "",
          "",
          "",
          "",
          "",
          "",
          3,
          2,
          2,
          "",
          "",
          "",
          "",
          "",
          "",
          "",
          "",
          3,
          "",
          "",
          "",
          "",
          "",
          "",
          "",
          "",
          "",
          "",
          "",
          "",
          "",
          "",
          "",
          "",
          3,
          "",
          "",
          "",
          "",
          "",
          "",
          "",
          "",
          "",
          "",
          "",
          2,
          2,
          2,
          "",
          "",
          "",
          "",
          "",
          "",
          "",
          "",
          2,
          "",
          "",
          "",
          "",
          "",
          "",
          "",
          3,
          "",
          "",
          "",
          3,
          "",
          "",
          "",
          "",
          "",
          "",
          "",
          "",
          "",
          "",
          "",
          "",
          "",
          "",
          12,
          "",
          "",
          "",
          "",
          "",
          "",
          "",
          "",
          "",
          "",
          "",
          "",
          "",
          "",
          "",
          "",
          "",
          "",
          "",
          "",
          "",
          "",
          "",
          "",
          "",
          "",
          "",
          "",
          2,
          "",
          "",
          "",
          "",
          "",
          "",
          "",
          "",
          "",
          "",
          "",
          "",
          "",
          ""
         ],
         "textfont": {
          "color": "White",
          "size": 12
         },
         "type": "scatter",
         "x": [
          "2022-11-25T00:00:00",
          "2022-11-24T00:00:00",
          "2022-11-24T00:00:00",
          "2022-11-20T00:00:00",
          "2022-11-19T00:00:00",
          "2022-11-19T00:00:00",
          "2022-11-19T00:00:00",
          "2022-11-05T00:00:00",
          "2022-11-05T00:00:00",
          "2022-11-05T00:00:00",
          "2022-10-21T00:00:00",
          "2022-10-20T00:00:00",
          "2022-10-20T00:00:00",
          "2022-10-20T00:00:00",
          "2022-10-17T00:00:00",
          "2022-10-17T00:00:00",
          "2022-10-17T00:00:00",
          "2022-10-15T00:00:00",
          "2022-10-14T00:00:00",
          "2022-10-14T00:00:00",
          "2022-10-08T00:00:00",
          "2022-10-08T00:00:00",
          "2022-10-01T00:00:00",
          "2022-08-20T00:00:00",
          "2022-07-22T00:00:00",
          "2022-07-17T00:00:00",
          "2022-07-17T00:00:00",
          "2022-07-09T00:00:00",
          "2022-07-08T00:00:00",
          "2022-07-06T00:00:00",
          "2022-07-06T00:00:00",
          "2022-07-05T00:00:00",
          "2022-07-04T00:00:00",
          "2022-07-04T00:00:00",
          "2022-07-02T00:00:00",
          "2022-07-02T00:00:00",
          "2022-06-18T00:00:00",
          "2022-06-18T00:00:00",
          "2022-05-29T00:00:00",
          "2022-05-29T00:00:00",
          "2022-05-13T00:00:00",
          "2022-05-13T00:00:00",
          "2022-05-07T00:00:00",
          "2022-04-16T00:00:00",
          "2022-04-09T00:00:00",
          "2022-04-09T00:00:00",
          "2022-03-13T00:00:00",
          "2022-03-13T00:00:00",
          "2022-03-13T00:00:00",
          "2022-03-12T00:00:00",
          "2022-03-11T00:00:00",
          "2022-03-11T00:00:00",
          "2022-03-11T00:00:00",
          "2022-02-05T00:00:00",
          "2022-02-05T00:00:00",
          "2022-02-05T00:00:00",
          "2022-02-05T00:00:00",
          "2022-01-23T00:00:00",
          "2022-01-23T00:00:00",
          "2022-01-23T00:00:00",
          "2022-01-23T00:00:00",
          "2022-01-15T00:00:00",
          "2021-12-04T00:00:00",
          "2021-12-04T00:00:00",
          "2021-11-07T00:00:00",
          "2021-11-07T00:00:00",
          "2021-11-06T00:00:00",
          "2021-11-06T00:00:00",
          "2021-11-05T00:00:00",
          "2021-10-30T00:00:00",
          "2021-10-21T00:00:00",
          "2021-10-21T00:00:00",
          "2021-10-21T00:00:00",
          "2021-10-20T00:00:00",
          "2021-10-20T00:00:00",
          "2021-10-20T00:00:00",
          "2021-10-18T00:00:00",
          "2021-10-18T00:00:00",
          "2021-10-17T00:00:00",
          "2021-10-17T00:00:00",
          "2021-10-17T00:00:00",
          "2021-10-16T00:00:00",
          "2021-10-16T00:00:00",
          "2021-10-16T00:00:00",
          "2021-09-16T00:00:00",
          "2021-09-03T00:00:00",
          "2021-08-29T00:00:00",
          "2021-08-21T00:00:00",
          "2021-08-20T00:00:00",
          "2021-08-20T00:00:00",
          "2021-07-23T00:00:00",
          "2021-07-22T00:00:00",
          "2021-07-22T00:00:00",
          "2021-07-22T00:00:00",
          "2021-07-22T00:00:00",
          "2021-07-20T00:00:00",
          "2021-06-05T00:00:00",
          "2021-06-04T00:00:00",
          "2021-06-03T00:00:00",
          "2021-06-03T00:00:00",
          "2021-05-13T00:00:00",
          "2021-05-13T00:00:00",
          "2021-05-02T00:00:00",
          "2021-05-02T00:00:00",
          "2021-04-11T00:00:00",
          "2021-04-09T00:00:00",
          "2021-03-27T00:00:00",
          "2021-03-27T00:00:00",
          "2021-03-27T00:00:00",
          "2021-03-27T00:00:00",
          "2021-03-27T00:00:00",
          "2021-03-21T00:00:00",
          "2021-03-21T00:00:00",
          "2021-03-21T00:00:00",
          "2021-03-14T00:00:00",
          "2021-03-14T00:00:00",
          "2021-03-09T00:00:00",
          "2021-02-28T00:00:00",
          "2021-02-20T00:00:00",
          "2021-02-13T00:00:00",
          "2021-02-10T00:00:00",
          "2021-02-06T00:00:00",
          "2021-01-31T00:00:00",
          "2021-01-30T00:00:00",
          "2021-01-30T00:00:00",
          "2021-01-30T00:00:00",
          "2021-01-17T00:00:00",
          "2021-01-17T00:00:00",
          "2021-01-17T00:00:00",
          "2021-01-17T00:00:00",
          "2021-01-17T00:00:00",
          "2021-01-15T00:00:00",
          "2020-12-12T00:00:00",
          "2020-12-12T00:00:00",
          "2020-12-05T00:00:00",
          "2020-11-22T00:00:00",
          "2020-11-21T00:00:00",
          "2020-11-21T00:00:00",
          "2020-11-21T00:00:00",
          "2020-11-21T00:00:00",
          "2020-11-20T00:00:00",
          "2020-11-20T00:00:00",
          "2020-11-20T00:00:00",
          "2020-11-19T00:00:00",
          "2020-11-18T00:00:00",
          "2020-11-18T00:00:00",
          "2020-11-15T00:00:00",
          "2020-11-14T00:00:00",
          "2020-11-14T00:00:00",
          "2020-10-18T00:00:00",
          "2020-10-18T00:00:00",
          "2020-10-17T00:00:00",
          "2020-10-16T00:00:00",
          "2020-10-16T00:00:00",
          "2020-10-16T00:00:00",
          "2020-10-12T00:00:00",
          "2020-09-26T00:00:00",
          "2020-09-06T00:00:00",
          "2020-08-28T00:00:00",
          "2020-08-15T00:00:00",
          "2020-08-15T00:00:00",
          "2020-08-09T00:00:00",
          "2020-08-09T00:00:00",
          "2020-07-17T00:00:00",
          "2020-07-17T00:00:00",
          "2020-07-11T00:00:00",
          "2020-07-11T00:00:00",
          "2020-06-21T00:00:00",
          "2020-06-13T00:00:00",
          "2020-05-10T00:00:00",
          "2020-04-24T00:00:00",
          "2020-02-07T00:00:00",
          "2019-11-16T00:00:00",
          "2019-11-16T00:00:00",
          "2019-11-15T00:00:00",
          "2019-11-15T00:00:00",
          "2019-11-09T00:00:00",
          "2019-11-02T00:00:00",
          "2019-10-06T00:00:00",
          "2019-09-05T00:00:00",
          "2019-08-27T00:00:00",
          "2019-08-20T00:00:00",
          "2019-08-20T00:00:00",
          "2019-08-19T00:00:00",
          "2019-08-18T00:00:00",
          "2019-08-18T00:00:00",
          "2019-08-16T00:00:00",
          "2019-08-16T00:00:00",
          "2019-08-14T00:00:00",
          "2019-08-14T00:00:00",
          "2019-08-01T00:00:00",
          "2019-05-13T00:00:00",
          "2019-05-12T00:00:00",
          "2019-05-11T00:00:00",
          "2019-05-11T00:00:00",
          "2019-05-09T00:00:00",
          "2019-05-04T00:00:00",
          "2019-05-04T00:00:00",
          "2019-05-03T00:00:00",
          "2019-05-03T00:00:00",
          "2019-05-02T00:00:00",
          "2019-05-01T00:00:00",
          "2019-04-22T00:00:00",
          "2019-01-19T00:00:00",
          "2019-01-19T00:00:00",
          "2018-12-16T00:00:00",
          "2018-12-16T00:00:00",
          "2018-12-16T00:00:00",
          "2018-10-25T00:00:00",
          "2018-10-25T00:00:00",
          "2018-10-21T00:00:00",
          "2018-10-21T00:00:00",
          "2018-10-21T00:00:00",
          "2018-09-17T00:00:00"
         ],
         "xaxis": "x",
         "y": [
          "5.11a",
          "5.10b",
          "5.10b",
          "5.10b",
          "5.10c",
          "5.10c",
          "5.10b",
          "5.12a",
          "5.11a",
          "5.10d",
          "5.10b",
          "5.10c",
          "5.11a",
          "5.11b",
          "5.10b",
          "5.11a",
          "5.11a",
          "5.10b",
          "5.10c",
          "5.10b",
          "5.11c",
          "5.10b",
          "5.10a",
          "5.10a",
          "5.10d",
          "5.10c",
          "5.10b",
          "5.10b",
          "5.10b",
          "5.11a",
          "5.10c",
          "5.10b",
          "5.10b",
          "5.10c",
          "5.10a",
          "5.10b",
          "5.10a",
          "5.11a",
          "5.10a",
          "5.10c",
          "5.10c",
          "5.10a",
          "5.10d",
          "5.10a",
          "5.10a",
          "5.10d",
          "5.11b",
          "5.10a",
          "5.11b",
          "5.10a",
          "5.10a",
          "5.10b",
          "5.10a",
          "5.10d",
          "5.11b",
          "5.10b",
          "5.11a",
          "5.10b",
          "5.10a",
          "5.10a",
          "5.11b",
          "5.10a",
          "5.10b",
          "5.10b",
          "5.10a",
          "5.11a",
          "5.10b",
          "5.10c",
          "5.10a",
          "5.10c",
          "5.10b",
          "5.10b",
          "5.10c",
          "5.10c",
          "5.10c",
          "5.10b",
          "5.10c",
          "5.10b",
          "5.10c",
          "5.11b",
          "5.11b",
          "5.10b",
          "5.10b",
          "5.10c",
          "5.10c",
          "5.11a",
          "5.10a",
          "5.10c",
          "5.10c",
          "5.10c",
          "5.10a",
          "5.10c",
          "5.10a",
          "5.10b",
          "5.10b",
          "5.10b",
          "5.10b",
          "5.10a",
          "5.10b",
          "5.10a",
          "5.11a",
          "5.10b",
          "5.10c",
          "5.10d",
          "5.10c",
          "5.10b",
          "5.10b",
          "5.10a",
          "5.10c",
          "5.10c",
          "5.10b",
          "5.10b",
          "5.10a",
          "5.10a",
          "5.10a",
          "5.10c",
          "5.11a",
          "5.11a",
          "5.10a",
          "5.10b",
          "5.11a",
          "5.10a",
          "5.10a",
          "5.10a",
          "5.10b",
          "5.10a",
          "5.10b",
          "5.10a",
          "5.10b",
          "5.10b",
          "5.10a",
          "5.10c",
          "5.10d",
          "5.10c",
          "5.11a",
          "5.10b",
          "5.10c",
          "5.10b",
          "5.10a",
          "5.10b",
          "5.10b",
          "5.10a",
          "5.10b",
          "5.10b",
          "5.10a",
          "5.10a",
          "5.10a",
          "5.10a",
          "5.10b",
          "5.10c",
          "5.10a",
          "5.10a",
          "5.10b",
          "5.10b",
          "5.10a",
          "5.10a",
          "5.10a",
          "5.10a",
          "5.10a",
          "5.10a",
          "5.10a",
          "5.10a",
          "5.10b",
          "5.10a",
          "5.10a",
          "5.10b",
          "5.10a",
          "5.10a",
          "5.10a",
          "5.10b",
          "5.10c",
          "5.10b",
          "5.10a",
          "5.10b",
          "5.10a",
          "5.10a",
          "5.10a",
          "5.10a",
          "5.10b",
          "5.10b",
          "5.10a",
          "5.10b",
          "5.10a",
          "5.10a",
          "5.10a",
          "5.10a",
          "5.10a",
          "5.10c",
          "5.10a",
          "5.10a",
          "5.10b",
          "5.10b",
          "5.10b",
          "5.10b",
          "5.10b",
          "5.10c",
          "5.10c",
          "5.10c",
          "5.10b",
          "5.10b",
          "5.10a",
          "5.10b",
          "5.10a",
          "5.10a",
          "5.10a",
          "5.10b",
          "5.10a",
          "5.10a",
          "5.10b",
          "5.10a",
          "5.10a",
          "5.10b",
          "5.10a",
          "5.10b"
         ],
         "yaxis": "y"
        }
       ],
       "layout": {
        "bargap": 0,
        "font": {
         "color": "black",
         "family": "Courier New",
         "size": 20
        },
        "legend": {
         "tracegroupgap": 0
        },
        "margin": {
         "t": 60
        },
        "paper_bgcolor": "#ece5dc",
        "plot_bgcolor": "#F5D3A5",
        "template": {
         "data": {
          "bar": [
           {
            "error_x": {
             "color": "#2a3f5f"
            },
            "error_y": {
             "color": "#2a3f5f"
            },
            "marker": {
             "line": {
              "color": "#E5ECF6",
              "width": 0.5
             },
             "pattern": {
              "fillmode": "overlay",
              "size": 10,
              "solidity": 0.2
             }
            },
            "type": "bar"
           }
          ],
          "barpolar": [
           {
            "marker": {
             "line": {
              "color": "#E5ECF6",
              "width": 0.5
             },
             "pattern": {
              "fillmode": "overlay",
              "size": 10,
              "solidity": 0.2
             }
            },
            "type": "barpolar"
           }
          ],
          "carpet": [
           {
            "aaxis": {
             "endlinecolor": "#2a3f5f",
             "gridcolor": "white",
             "linecolor": "white",
             "minorgridcolor": "white",
             "startlinecolor": "#2a3f5f"
            },
            "baxis": {
             "endlinecolor": "#2a3f5f",
             "gridcolor": "white",
             "linecolor": "white",
             "minorgridcolor": "white",
             "startlinecolor": "#2a3f5f"
            },
            "type": "carpet"
           }
          ],
          "choropleth": [
           {
            "colorbar": {
             "outlinewidth": 0,
             "ticks": ""
            },
            "type": "choropleth"
           }
          ],
          "contour": [
           {
            "colorbar": {
             "outlinewidth": 0,
             "ticks": ""
            },
            "colorscale": [
             [
              0,
              "#0d0887"
             ],
             [
              0.1111111111111111,
              "#46039f"
             ],
             [
              0.2222222222222222,
              "#7201a8"
             ],
             [
              0.3333333333333333,
              "#9c179e"
             ],
             [
              0.4444444444444444,
              "#bd3786"
             ],
             [
              0.5555555555555556,
              "#d8576b"
             ],
             [
              0.6666666666666666,
              "#ed7953"
             ],
             [
              0.7777777777777778,
              "#fb9f3a"
             ],
             [
              0.8888888888888888,
              "#fdca26"
             ],
             [
              1,
              "#f0f921"
             ]
            ],
            "type": "contour"
           }
          ],
          "contourcarpet": [
           {
            "colorbar": {
             "outlinewidth": 0,
             "ticks": ""
            },
            "type": "contourcarpet"
           }
          ],
          "heatmap": [
           {
            "colorbar": {
             "outlinewidth": 0,
             "ticks": ""
            },
            "colorscale": [
             [
              0,
              "#0d0887"
             ],
             [
              0.1111111111111111,
              "#46039f"
             ],
             [
              0.2222222222222222,
              "#7201a8"
             ],
             [
              0.3333333333333333,
              "#9c179e"
             ],
             [
              0.4444444444444444,
              "#bd3786"
             ],
             [
              0.5555555555555556,
              "#d8576b"
             ],
             [
              0.6666666666666666,
              "#ed7953"
             ],
             [
              0.7777777777777778,
              "#fb9f3a"
             ],
             [
              0.8888888888888888,
              "#fdca26"
             ],
             [
              1,
              "#f0f921"
             ]
            ],
            "type": "heatmap"
           }
          ],
          "heatmapgl": [
           {
            "colorbar": {
             "outlinewidth": 0,
             "ticks": ""
            },
            "colorscale": [
             [
              0,
              "#0d0887"
             ],
             [
              0.1111111111111111,
              "#46039f"
             ],
             [
              0.2222222222222222,
              "#7201a8"
             ],
             [
              0.3333333333333333,
              "#9c179e"
             ],
             [
              0.4444444444444444,
              "#bd3786"
             ],
             [
              0.5555555555555556,
              "#d8576b"
             ],
             [
              0.6666666666666666,
              "#ed7953"
             ],
             [
              0.7777777777777778,
              "#fb9f3a"
             ],
             [
              0.8888888888888888,
              "#fdca26"
             ],
             [
              1,
              "#f0f921"
             ]
            ],
            "type": "heatmapgl"
           }
          ],
          "histogram": [
           {
            "marker": {
             "pattern": {
              "fillmode": "overlay",
              "size": 10,
              "solidity": 0.2
             }
            },
            "type": "histogram"
           }
          ],
          "histogram2d": [
           {
            "colorbar": {
             "outlinewidth": 0,
             "ticks": ""
            },
            "colorscale": [
             [
              0,
              "#0d0887"
             ],
             [
              0.1111111111111111,
              "#46039f"
             ],
             [
              0.2222222222222222,
              "#7201a8"
             ],
             [
              0.3333333333333333,
              "#9c179e"
             ],
             [
              0.4444444444444444,
              "#bd3786"
             ],
             [
              0.5555555555555556,
              "#d8576b"
             ],
             [
              0.6666666666666666,
              "#ed7953"
             ],
             [
              0.7777777777777778,
              "#fb9f3a"
             ],
             [
              0.8888888888888888,
              "#fdca26"
             ],
             [
              1,
              "#f0f921"
             ]
            ],
            "type": "histogram2d"
           }
          ],
          "histogram2dcontour": [
           {
            "colorbar": {
             "outlinewidth": 0,
             "ticks": ""
            },
            "colorscale": [
             [
              0,
              "#0d0887"
             ],
             [
              0.1111111111111111,
              "#46039f"
             ],
             [
              0.2222222222222222,
              "#7201a8"
             ],
             [
              0.3333333333333333,
              "#9c179e"
             ],
             [
              0.4444444444444444,
              "#bd3786"
             ],
             [
              0.5555555555555556,
              "#d8576b"
             ],
             [
              0.6666666666666666,
              "#ed7953"
             ],
             [
              0.7777777777777778,
              "#fb9f3a"
             ],
             [
              0.8888888888888888,
              "#fdca26"
             ],
             [
              1,
              "#f0f921"
             ]
            ],
            "type": "histogram2dcontour"
           }
          ],
          "mesh3d": [
           {
            "colorbar": {
             "outlinewidth": 0,
             "ticks": ""
            },
            "type": "mesh3d"
           }
          ],
          "parcoords": [
           {
            "line": {
             "colorbar": {
              "outlinewidth": 0,
              "ticks": ""
             }
            },
            "type": "parcoords"
           }
          ],
          "pie": [
           {
            "automargin": true,
            "type": "pie"
           }
          ],
          "scatter": [
           {
            "fillpattern": {
             "fillmode": "overlay",
             "size": 10,
             "solidity": 0.2
            },
            "type": "scatter"
           }
          ],
          "scatter3d": [
           {
            "line": {
             "colorbar": {
              "outlinewidth": 0,
              "ticks": ""
             }
            },
            "marker": {
             "colorbar": {
              "outlinewidth": 0,
              "ticks": ""
             }
            },
            "type": "scatter3d"
           }
          ],
          "scattercarpet": [
           {
            "marker": {
             "colorbar": {
              "outlinewidth": 0,
              "ticks": ""
             }
            },
            "type": "scattercarpet"
           }
          ],
          "scattergeo": [
           {
            "marker": {
             "colorbar": {
              "outlinewidth": 0,
              "ticks": ""
             }
            },
            "type": "scattergeo"
           }
          ],
          "scattergl": [
           {
            "marker": {
             "colorbar": {
              "outlinewidth": 0,
              "ticks": ""
             }
            },
            "type": "scattergl"
           }
          ],
          "scattermapbox": [
           {
            "marker": {
             "colorbar": {
              "outlinewidth": 0,
              "ticks": ""
             }
            },
            "type": "scattermapbox"
           }
          ],
          "scatterpolar": [
           {
            "marker": {
             "colorbar": {
              "outlinewidth": 0,
              "ticks": ""
             }
            },
            "type": "scatterpolar"
           }
          ],
          "scatterpolargl": [
           {
            "marker": {
             "colorbar": {
              "outlinewidth": 0,
              "ticks": ""
             }
            },
            "type": "scatterpolargl"
           }
          ],
          "scatterternary": [
           {
            "marker": {
             "colorbar": {
              "outlinewidth": 0,
              "ticks": ""
             }
            },
            "type": "scatterternary"
           }
          ],
          "surface": [
           {
            "colorbar": {
             "outlinewidth": 0,
             "ticks": ""
            },
            "colorscale": [
             [
              0,
              "#0d0887"
             ],
             [
              0.1111111111111111,
              "#46039f"
             ],
             [
              0.2222222222222222,
              "#7201a8"
             ],
             [
              0.3333333333333333,
              "#9c179e"
             ],
             [
              0.4444444444444444,
              "#bd3786"
             ],
             [
              0.5555555555555556,
              "#d8576b"
             ],
             [
              0.6666666666666666,
              "#ed7953"
             ],
             [
              0.7777777777777778,
              "#fb9f3a"
             ],
             [
              0.8888888888888888,
              "#fdca26"
             ],
             [
              1,
              "#f0f921"
             ]
            ],
            "type": "surface"
           }
          ],
          "table": [
           {
            "cells": {
             "fill": {
              "color": "#EBF0F8"
             },
             "line": {
              "color": "white"
             }
            },
            "header": {
             "fill": {
              "color": "#C8D4E3"
             },
             "line": {
              "color": "white"
             }
            },
            "type": "table"
           }
          ]
         },
         "layout": {
          "annotationdefaults": {
           "arrowcolor": "#2a3f5f",
           "arrowhead": 0,
           "arrowwidth": 1
          },
          "autotypenumbers": "strict",
          "coloraxis": {
           "colorbar": {
            "outlinewidth": 0,
            "ticks": ""
           }
          },
          "colorscale": {
           "diverging": [
            [
             0,
             "#8e0152"
            ],
            [
             0.1,
             "#c51b7d"
            ],
            [
             0.2,
             "#de77ae"
            ],
            [
             0.3,
             "#f1b6da"
            ],
            [
             0.4,
             "#fde0ef"
            ],
            [
             0.5,
             "#f7f7f7"
            ],
            [
             0.6,
             "#e6f5d0"
            ],
            [
             0.7,
             "#b8e186"
            ],
            [
             0.8,
             "#7fbc41"
            ],
            [
             0.9,
             "#4d9221"
            ],
            [
             1,
             "#276419"
            ]
           ],
           "sequential": [
            [
             0,
             "#0d0887"
            ],
            [
             0.1111111111111111,
             "#46039f"
            ],
            [
             0.2222222222222222,
             "#7201a8"
            ],
            [
             0.3333333333333333,
             "#9c179e"
            ],
            [
             0.4444444444444444,
             "#bd3786"
            ],
            [
             0.5555555555555556,
             "#d8576b"
            ],
            [
             0.6666666666666666,
             "#ed7953"
            ],
            [
             0.7777777777777778,
             "#fb9f3a"
            ],
            [
             0.8888888888888888,
             "#fdca26"
            ],
            [
             1,
             "#f0f921"
            ]
           ],
           "sequentialminus": [
            [
             0,
             "#0d0887"
            ],
            [
             0.1111111111111111,
             "#46039f"
            ],
            [
             0.2222222222222222,
             "#7201a8"
            ],
            [
             0.3333333333333333,
             "#9c179e"
            ],
            [
             0.4444444444444444,
             "#bd3786"
            ],
            [
             0.5555555555555556,
             "#d8576b"
            ],
            [
             0.6666666666666666,
             "#ed7953"
            ],
            [
             0.7777777777777778,
             "#fb9f3a"
            ],
            [
             0.8888888888888888,
             "#fdca26"
            ],
            [
             1,
             "#f0f921"
            ]
           ]
          },
          "colorway": [
           "#636efa",
           "#EF553B",
           "#00cc96",
           "#ab63fa",
           "#FFA15A",
           "#19d3f3",
           "#FF6692",
           "#B6E880",
           "#FF97FF",
           "#FECB52"
          ],
          "font": {
           "color": "#2a3f5f"
          },
          "geo": {
           "bgcolor": "white",
           "lakecolor": "white",
           "landcolor": "#E5ECF6",
           "showlakes": true,
           "showland": true,
           "subunitcolor": "white"
          },
          "hoverlabel": {
           "align": "left"
          },
          "hovermode": "closest",
          "mapbox": {
           "style": "light"
          },
          "paper_bgcolor": "white",
          "plot_bgcolor": "#E5ECF6",
          "polar": {
           "angularaxis": {
            "gridcolor": "white",
            "linecolor": "white",
            "ticks": ""
           },
           "bgcolor": "#E5ECF6",
           "radialaxis": {
            "gridcolor": "white",
            "linecolor": "white",
            "ticks": ""
           }
          },
          "scene": {
           "xaxis": {
            "backgroundcolor": "#E5ECF6",
            "gridcolor": "white",
            "gridwidth": 2,
            "linecolor": "white",
            "showbackground": true,
            "ticks": "",
            "zerolinecolor": "white"
           },
           "yaxis": {
            "backgroundcolor": "#E5ECF6",
            "gridcolor": "white",
            "gridwidth": 2,
            "linecolor": "white",
            "showbackground": true,
            "ticks": "",
            "zerolinecolor": "white"
           },
           "zaxis": {
            "backgroundcolor": "#E5ECF6",
            "gridcolor": "white",
            "gridwidth": 2,
            "linecolor": "white",
            "showbackground": true,
            "ticks": "",
            "zerolinecolor": "white"
           }
          },
          "shapedefaults": {
           "line": {
            "color": "#2a3f5f"
           }
          },
          "ternary": {
           "aaxis": {
            "gridcolor": "white",
            "linecolor": "white",
            "ticks": ""
           },
           "baxis": {
            "gridcolor": "white",
            "linecolor": "white",
            "ticks": ""
           },
           "bgcolor": "#E5ECF6",
           "caxis": {
            "gridcolor": "white",
            "linecolor": "white",
            "ticks": ""
           }
          },
          "title": {
           "x": 0.05
          },
          "xaxis": {
           "automargin": true,
           "gridcolor": "white",
           "linecolor": "white",
           "ticks": "",
           "title": {
            "standoff": 15
           },
           "zerolinecolor": "white",
           "zerolinewidth": 2
          },
          "yaxis": {
           "automargin": true,
           "gridcolor": "white",
           "linecolor": "white",
           "ticks": "",
           "title": {
            "standoff": 15
           },
           "zerolinecolor": "white",
           "zerolinewidth": 2
          }
         }
        },
        "title": {
         "font": {
          "size": 30
         },
         "text": "<b>Send by Date</b>",
         "x": 0.5
        },
        "xaxis": {
         "anchor": "y",
         "domain": [
          0,
          1
         ],
         "title": {
          "text": "Date"
         }
        },
        "yaxis": {
         "anchor": "x",
         "categoryarray": [
          "5.0",
          "5.1",
          "5.2",
          "5.3",
          "5.4",
          "5.5",
          "5.6",
          "5.7",
          "5.8",
          "5.9",
          "5.10a",
          "5.10b",
          "5.10c",
          "5.10d",
          "5.11a",
          "5.11b",
          "5.11c",
          "5.11d",
          "5.12a",
          "5.12b",
          "5.12c",
          "5.12d",
          "5.13a",
          "5.13b",
          "5.13c",
          "5.13d",
          "5.14a",
          "5.14b",
          "5.14c",
          "5.14d",
          "5.15a",
          "5.15b",
          "5.15c",
          "5.15d"
         ],
         "categoryorder": "array",
         "domain": [
          0,
          1
         ],
         "title": {
          "text": "Grade"
         }
        }
       }
      }
     },
     "metadata": {},
     "output_type": "display_data"
    }
   ],
   "source": [
    "fig = px.scatter(df_clean_sends, \"Date\", \"Rating\", category_orders={\"Rating\": YDS_GRADES_LETTER[::-1]}, text='Attempts', custom_data=['Route Formatted', 'Date Formatted', 'Location Formatted', 'Length', 'Avg Stars'])\n",
    "fig.update_layout(font={'family':'Courier New', 'color':'black', 'size':20}, title={'text':'<b>Send by Date</b>', 'x':0.5, 'font_size':30}, xaxis={'title': 'Date'}, yaxis={'title': 'Grade'}, paper_bgcolor='#ece5dc', plot_bgcolor='#F5D3A5', bargap=0)\n",
    "fig.update_traces(marker_symbol='square', marker_color='#7A4F25', marker_size=20, marker_line_width=2, marker_line_color='black', textfont={\"color\": 'White', \"size\": 12}, hovertemplate='Name: %{customdata[0]}<br>Date: %{customdata[1]}<br>Location: %{customdata[2]}<br>Length: %{customdata[3]}ft<br>Avg Stars: %{customdata[4]}')"
   ]
  }
 ],
 "metadata": {
  "kernelspec": {
   "display_name": "Python 3.9.12 ('.venv': poetry)",
   "language": "python",
   "name": "python3"
  },
  "language_info": {
   "codemirror_mode": {
    "name": "ipython",
    "version": 3
   },
   "file_extension": ".py",
   "mimetype": "text/x-python",
   "name": "python",
   "nbconvert_exporter": "python",
   "pygments_lexer": "ipython3",
   "version": "3.9.12"
  },
  "orig_nbformat": 4,
  "vscode": {
   "interpreter": {
    "hash": "69c68274f8e9ce57f21b9f4f0cd989e216f773741f6e1c7e6f7ea408f78a94ea"
   }
  }
 },
 "nbformat": 4,
 "nbformat_minor": 2
}
