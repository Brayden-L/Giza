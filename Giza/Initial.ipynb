{
 "cells": [
  {
   "cell_type": "code",
   "execution_count": 96,
   "metadata": {},
   "outputs": [
    {
     "name": "stdout",
     "output_type": "stream",
     "text": [
      "The autoreload extension is already loaded. To reload it, use:\n",
      "  %reload_ext autoreload\n"
     ]
    }
   ],
   "source": [
    "import numpy as np\n",
    "import pandas as pd\n",
    "import matplotlib.pyplot as plt\n",
    "import seaborn as sns\n",
    "import plotly.express as px\n",
    "import nltk\n",
    "%matplotlib inline\n",
    "\n",
    "from bs4 import BeautifulSoup\n",
    "import requests\n",
    "import re\n",
    "import pyinputplus as pyip\n",
    "import requests\n",
    "import pickle\n",
    "import random\n",
    "import math\n",
    "import string\n",
    "\n",
    "%load_ext autoreload\n",
    "%autoreload 2\n",
    "\n",
    "pd.set_option('display.max_columns', 500)\n",
    "pd.set_option('display.max_rows', 150)"
   ]
  },
  {
   "cell_type": "code",
   "execution_count": 65,
   "metadata": {},
   "outputs": [],
   "source": [
    "# Constants\n",
    "\n",
    "YDS_GRADES_FULL = ['5.0', '5.1', '5.2', '5.3', '5.4', '5.5', '5.6', '5.7', '5.7+', '5.8-', '5.8', '5.8+', '5.9-', '5.9', '5.9+', '5.10a', '5.10-', '5.10a/b', '5.10b', '5.10', '5.10b/c', '5.10c', '5.10+', '5.10c/d', '5.10d', '5.11a', '5.11-', '5.11a/b', '5.11b', '5.11', \n",
    "                   '5.11b/c', '5.11c', '5.11+', '5.11c/d', '5.11d', '5.12a', '5.12-', '5.12a/b', '5.12b', '5.12', '5.12b/c', '5.12c', '5.12+', '5.12c/d', '5.12d', '5.13a', '5.13-', '5.13a/b', '5.13b', '5.13', '5.13b/c', '5.13c', '5.13+', '5.13c/d', '5.13d', '5.14a', \n",
    "                   '5.14-', '5.14a/b', '5.14b', '5.14', '5.14b/c', '5.14c', '5.14+', '5.14c/d', '5.14d', '5.15a', '5.15-', '5.15a/b', '5.15b', '5.15', '5.15b/c' '5.15c', '5.15+', '5.15c/d', '5.15d'] \n",
    "YDS_GRADES_LETTER = ['5.0', '5.1', '5.2', '5.3', '5.4', '5.5', '5.6', '5.7', '5.8', '5.9', '5.10a', '5.10b', '5.10c', '5.10d', '5.11a', '5.11b', '5.11c', '5.11d', '5.12a', '5.12b', '5.12c', '5.12d', '5.13a', '5.13b', '5.13c', '5.13d', '5.14a', '5.14b', '5.14c', '5.14d', '5.15a', '5.15b', '5.15c', '5.15d']\n",
    "YDS_GRADES_SIGN = ['5.0', '5.1', '5.2', '5.3', '5.4', '5.5', '5.6', '5.7', '5.7+', '5.8-', '5.8', '5.8+', '5.9-', '5.9', '5.9+', '5.10-', '5.10', '5.10+', '5.11-', '5.11', '5.11+', '5.12-', '5.12', '5.12+', '5.13-', '5.13', '5.13+', '5.14-', '5.14', '5.14+', '5.15-', '5.15', '5.15+']\n",
    "\n",
    "V_GRADES_FULL = ['v-easy', 'v0-', 'v0', 'v0+', 'v0-1', 'v1-', 'v1', 'v1+', 'v1-2', 'v2-', 'v2', 'v2+', 'v2-3', 'v3-', 'v3', 'v3+', 'v3-4', 'v4-', 'v4', 'v4+', 'v4-5', 'v5-', 'v5', 'v5+', 'v5-6', 'v6-', 'v6', 'v6+', 'v6-7', 'v7-', 'v7', 'v7+', 'v7-8', 'v8-', 'v8', 'v8+', 'v8-9', \n",
    "                 'v9-', 'v9', 'v9+', 'v9-10', 'v10-', 'v10', 'v10+', 'v10-11', 'v11-', 'v11', 'v11+', 'v11-12', 'v12-', 'v12', 'v12+', 'v12-13', 'v13-', 'v13', 'v13+', 'v13-14', 'v14-', 'v14', 'v14+', 'v14-15', 'v15-', 'v15', 'v15+', 'v15-16', 'v16-', 'v16', 'v16+', 'v16-17', 'v17-', 'v17']\n",
    "V_GRADES_SIGN = ['v-easy', 'v0-', 'v0', 'v0+', 'v1-', 'v1', 'v1+', 'v2-', 'v2', 'v2+', 'v3-', 'v3', 'v3+', 'v4-', 'v4', 'v4+', 'v5-', 'v5', 'v5+', 'v6-', 'v6', 'v6+', 'v7-', 'v7', 'v7+', 'v8-', 'v8', 'v8+', \n",
    "                 'v9-', 'v9', 'v9+', 'v10-', 'v10', 'v10+', 'v11-', 'v11', 'v11+', 'v12-', 'v12', 'v12+', 'v13-', 'v13', 'v13+', 'v14-', 'v14', 'v14+', 'v15-', 'v15', 'v15+', 'v16-', 'v16', 'v16+', 'v17-', 'v17']\n",
    "V_GRADES_BASIC = ['v-easy', 'v0', 'v1', 'v2', 'v3', 'v4', 'v5', 'v6', 'v7', 'v8', 'v9', 'v10', 'v11', 'v12', 'v13', 'v14', 'v15', 'v16', 'v17']\n",
    "\n",
    "RISK_GRADES = ['pg', 'pg13', 'r', 'x']\n",
    "\n",
    "CLEAN_SEND = ['onsight', 'flash', 'redpoint', 'pinkpoint']\n",
    "CLEAN_SEND_FIRST = ['onsight', 'flash']\n",
    "CLEAN_SEND_WORKED = ['redpoint', 'pinkpoint']"
   ]
  },
  {
   "cell_type": "code",
   "execution_count": 20,
   "metadata": {},
   "outputs": [
    {
     "name": "stdout",
     "output_type": "stream",
     "text": [
      "Please select one of: csv, link\n"
     ]
    }
   ],
   "source": [
    "# Allow user to select data source\n",
    "\n",
    "datasource_choices = [\"csv\", \"link\"]\n",
    "resp = pyip.inputChoice(datasource_choices)\n",
    "if resp == datasource_choices[0]:\n",
    "    while True:\n",
    "        try:\n",
    "            resp = pyip.inputFilepath(prompt='input csv file path\\n', mustExist=True)\n",
    "            df = pd.read_csv(resp)\n",
    "        except Exception as err:\n",
    "            print(err)\n",
    "            continue\n",
    "        break\n",
    "if resp == datasource_choices[1]:\n",
    "    while True:\n",
    "        try:\n",
    "            resp = input('input link to profile of format \"https://www.mountainproject.com/user/...\"\\n')\n",
    "            df = pd.read_csv(f'{resp}/tick-export')\n",
    "        except Exception as err:\n",
    "            print(err)\n",
    "            continue\n",
    "        break"
   ]
  },
  {
   "cell_type": "code",
   "execution_count": 18,
   "metadata": {},
   "outputs": [
    {
     "data": {
      "text/html": [
       "<div>\n",
       "<style scoped>\n",
       "    .dataframe tbody tr th:only-of-type {\n",
       "        vertical-align: middle;\n",
       "    }\n",
       "\n",
       "    .dataframe tbody tr th {\n",
       "        vertical-align: top;\n",
       "    }\n",
       "\n",
       "    .dataframe thead th {\n",
       "        text-align: right;\n",
       "    }\n",
       "</style>\n",
       "<table border=\"1\" class=\"dataframe\">\n",
       "  <thead>\n",
       "    <tr style=\"text-align: right;\">\n",
       "      <th></th>\n",
       "      <th>Date</th>\n",
       "      <th>Route</th>\n",
       "      <th>Rating</th>\n",
       "      <th>Notes</th>\n",
       "      <th>URL</th>\n",
       "      <th>Pitches</th>\n",
       "      <th>Location</th>\n",
       "      <th>Avg Stars</th>\n",
       "      <th>Your Stars</th>\n",
       "      <th>Style</th>\n",
       "      <th>Lead Style</th>\n",
       "      <th>Route Type</th>\n",
       "      <th>Your Rating</th>\n",
       "      <th>Length</th>\n",
       "      <th>Rating Code</th>\n",
       "    </tr>\n",
       "  </thead>\n",
       "  <tbody>\n",
       "    <tr>\n",
       "      <th>0</th>\n",
       "      <td>2022-11-05</td>\n",
       "      <td>Urban Struggle</td>\n",
       "      <td>5.12a</td>\n",
       "      <td>Got it clean! Felt solid and really dialed thr...</td>\n",
       "      <td>https://www.mountainproject.com/route/10599853...</td>\n",
       "      <td>1</td>\n",
       "      <td>California &gt; Los Angeles Basin &gt; Santa Monica ...</td>\n",
       "      <td>3.4</td>\n",
       "      <td>-1</td>\n",
       "      <td>Lead</td>\n",
       "      <td>Redpoint</td>\n",
       "      <td>Sport</td>\n",
       "      <td>NaN</td>\n",
       "      <td>50.0</td>\n",
       "      <td>6600</td>\n",
       "    </tr>\n",
       "    <tr>\n",
       "      <th>1</th>\n",
       "      <td>2022-11-05</td>\n",
       "      <td>Urban Struggle</td>\n",
       "      <td>5.12a</td>\n",
       "      <td>First effort greased out of the crux pocket.</td>\n",
       "      <td>https://www.mountainproject.com/route/10599853...</td>\n",
       "      <td>1</td>\n",
       "      <td>California &gt; Los Angeles Basin &gt; Santa Monica ...</td>\n",
       "      <td>3.4</td>\n",
       "      <td>-1</td>\n",
       "      <td>Lead</td>\n",
       "      <td>Fell/Hung</td>\n",
       "      <td>Sport</td>\n",
       "      <td>NaN</td>\n",
       "      <td>50.0</td>\n",
       "      <td>6600</td>\n",
       "    </tr>\n",
       "    <tr>\n",
       "      <th>2</th>\n",
       "      <td>2022-11-05</td>\n",
       "      <td>Directpissima</td>\n",
       "      <td>5.11a</td>\n",
       "      <td>The steep stuff up high is so sick. I realized...</td>\n",
       "      <td>https://www.mountainproject.com/route/10592801...</td>\n",
       "      <td>1</td>\n",
       "      <td>California &gt; Los Angeles Basin &gt; Santa Monica ...</td>\n",
       "      <td>2.4</td>\n",
       "      <td>-1</td>\n",
       "      <td>Lead</td>\n",
       "      <td>Redpoint</td>\n",
       "      <td>Sport</td>\n",
       "      <td>NaN</td>\n",
       "      <td>50.0</td>\n",
       "      <td>4600</td>\n",
       "    </tr>\n",
       "    <tr>\n",
       "      <th>3</th>\n",
       "      <td>2022-11-05</td>\n",
       "      <td>Unnamed</td>\n",
       "      <td>5.10d</td>\n",
       "      <td>Very soft for the grade, I would say .10b and ...</td>\n",
       "      <td>https://www.mountainproject.com/route/11939791...</td>\n",
       "      <td>1</td>\n",
       "      <td>California &gt; Los Angeles Basin &gt; Santa Monica ...</td>\n",
       "      <td>2.4</td>\n",
       "      <td>-1</td>\n",
       "      <td>Lead</td>\n",
       "      <td>Onsight</td>\n",
       "      <td>Sport</td>\n",
       "      <td>NaN</td>\n",
       "      <td>45.0</td>\n",
       "      <td>3500</td>\n",
       "    </tr>\n",
       "    <tr>\n",
       "      <th>4</th>\n",
       "      <td>2022-11-05</td>\n",
       "      <td>Spiker Monkey</td>\n",
       "      <td>5.10c</td>\n",
       "      <td>Pretty sure this is the line we did. Good fun!</td>\n",
       "      <td>https://www.mountainproject.com/route/11818569...</td>\n",
       "      <td>1</td>\n",
       "      <td>California &gt; Los Angeles Basin &gt; Santa Monica ...</td>\n",
       "      <td>2.5</td>\n",
       "      <td>-1</td>\n",
       "      <td>TR</td>\n",
       "      <td>NaN</td>\n",
       "      <td>TR</td>\n",
       "      <td>NaN</td>\n",
       "      <td>45.0</td>\n",
       "      <td>3200</td>\n",
       "    </tr>\n",
       "  </tbody>\n",
       "</table>\n",
       "</div>"
      ],
      "text/plain": [
       "         Date           Route Rating  \\\n",
       "0  2022-11-05  Urban Struggle  5.12a   \n",
       "1  2022-11-05  Urban Struggle  5.12a   \n",
       "2  2022-11-05   Directpissima  5.11a   \n",
       "3  2022-11-05         Unnamed  5.10d   \n",
       "4  2022-11-05   Spiker Monkey  5.10c   \n",
       "\n",
       "                                               Notes  \\\n",
       "0  Got it clean! Felt solid and really dialed thr...   \n",
       "1       First effort greased out of the crux pocket.   \n",
       "2  The steep stuff up high is so sick. I realized...   \n",
       "3  Very soft for the grade, I would say .10b and ...   \n",
       "4     Pretty sure this is the line we did. Good fun!   \n",
       "\n",
       "                                                 URL  Pitches  \\\n",
       "0  https://www.mountainproject.com/route/10599853...        1   \n",
       "1  https://www.mountainproject.com/route/10599853...        1   \n",
       "2  https://www.mountainproject.com/route/10592801...        1   \n",
       "3  https://www.mountainproject.com/route/11939791...        1   \n",
       "4  https://www.mountainproject.com/route/11818569...        1   \n",
       "\n",
       "                                            Location  Avg Stars  Your Stars  \\\n",
       "0  California > Los Angeles Basin > Santa Monica ...        3.4          -1   \n",
       "1  California > Los Angeles Basin > Santa Monica ...        3.4          -1   \n",
       "2  California > Los Angeles Basin > Santa Monica ...        2.4          -1   \n",
       "3  California > Los Angeles Basin > Santa Monica ...        2.4          -1   \n",
       "4  California > Los Angeles Basin > Santa Monica ...        2.5          -1   \n",
       "\n",
       "  Style Lead Style Route Type  Your Rating  Length  Rating Code  \n",
       "0  Lead   Redpoint      Sport          NaN    50.0         6600  \n",
       "1  Lead  Fell/Hung      Sport          NaN    50.0         6600  \n",
       "2  Lead   Redpoint      Sport          NaN    50.0         4600  \n",
       "3  Lead    Onsight      Sport          NaN    45.0         3500  \n",
       "4    TR        NaN         TR          NaN    45.0         3200  "
      ]
     },
     "execution_count": 18,
     "metadata": {},
     "output_type": "execute_result"
    }
   ],
   "source": [
    "df = pd.read_csv('./ticks.csv')\n",
    "df.head()"
   ]
  },
  {
   "cell_type": "code",
   "execution_count": 359,
   "metadata": {},
   "outputs": [
    {
     "ename": "ValueError",
     "evalue": "cannot insert Route ID, already exists",
     "output_type": "error",
     "traceback": [
      "\u001b[1;31m---------------------------------------------------------------------------\u001b[0m",
      "\u001b[1;31mValueError\u001b[0m                                Traceback (most recent call last)",
      "Cell \u001b[1;32mIn [359], line 27\u001b[0m\n\u001b[0;32m     24\u001b[0m rem_route_el_from_list(\u001b[39m'\u001b[39m\u001b[39mtr\u001b[39m\u001b[39m'\u001b[39m, \u001b[39m'\u001b[39m\u001b[39m, \u001b[39m\u001b[39m'\u001b[39m)\n\u001b[0;32m     26\u001b[0m \u001b[39m# Extract route unique identifier from URL and create a new column for it.\u001b[39;00m\n\u001b[1;32m---> 27\u001b[0m df\u001b[39m.\u001b[39;49minsert(\u001b[39mlen\u001b[39;49m(df\u001b[39m.\u001b[39;49mcolumns),\u001b[39m'\u001b[39;49m\u001b[39mRoute ID\u001b[39;49m\u001b[39m'\u001b[39;49m,\u001b[39m'\u001b[39;49m\u001b[39m'\u001b[39;49m)\n\u001b[0;32m     28\u001b[0m df[\u001b[39m'\u001b[39m\u001b[39mRoute ID\u001b[39m\u001b[39m'\u001b[39m] \u001b[39m=\u001b[39m df[\u001b[39m'\u001b[39m\u001b[39mURL\u001b[39m\u001b[39m'\u001b[39m]\u001b[39m.\u001b[39mapply(\u001b[39mlambda\u001b[39;00m x: x\u001b[39m.\u001b[39msplit(\u001b[39m'\u001b[39m\u001b[39m/\u001b[39m\u001b[39m'\u001b[39m)[\u001b[39m4\u001b[39m])\n\u001b[0;32m     30\u001b[0m \u001b[39m# Create original rating and length archive to compare against or undo changes.\u001b[39;00m\n",
      "File \u001b[1;32mc:\\Users\\Brayden\\Desktop\\Giza\\.venv\\lib\\site-packages\\pandas\\core\\frame.py:4806\u001b[0m, in \u001b[0;36mDataFrame.insert\u001b[1;34m(self, loc, column, value, allow_duplicates)\u001b[0m\n\u001b[0;32m   4800\u001b[0m     \u001b[39mraise\u001b[39;00m \u001b[39mValueError\u001b[39;00m(\n\u001b[0;32m   4801\u001b[0m         \u001b[39m\"\u001b[39m\u001b[39mCannot specify \u001b[39m\u001b[39m'\u001b[39m\u001b[39mallow_duplicates=True\u001b[39m\u001b[39m'\u001b[39m\u001b[39m when \u001b[39m\u001b[39m\"\u001b[39m\n\u001b[0;32m   4802\u001b[0m         \u001b[39m\"\u001b[39m\u001b[39m'\u001b[39m\u001b[39mself.flags.allows_duplicate_labels\u001b[39m\u001b[39m'\u001b[39m\u001b[39m is False.\u001b[39m\u001b[39m\"\u001b[39m\n\u001b[0;32m   4803\u001b[0m     )\n\u001b[0;32m   4804\u001b[0m \u001b[39mif\u001b[39;00m \u001b[39mnot\u001b[39;00m allow_duplicates \u001b[39mand\u001b[39;00m column \u001b[39min\u001b[39;00m \u001b[39mself\u001b[39m\u001b[39m.\u001b[39mcolumns:\n\u001b[0;32m   4805\u001b[0m     \u001b[39m# Should this be a different kind of error??\u001b[39;00m\n\u001b[1;32m-> 4806\u001b[0m     \u001b[39mraise\u001b[39;00m \u001b[39mValueError\u001b[39;00m(\u001b[39mf\u001b[39m\u001b[39m\"\u001b[39m\u001b[39mcannot insert \u001b[39m\u001b[39m{\u001b[39;00mcolumn\u001b[39m}\u001b[39;00m\u001b[39m, already exists\u001b[39m\u001b[39m\"\u001b[39m)\n\u001b[0;32m   4807\u001b[0m \u001b[39mif\u001b[39;00m \u001b[39mnot\u001b[39;00m \u001b[39misinstance\u001b[39m(loc, \u001b[39mint\u001b[39m):\n\u001b[0;32m   4808\u001b[0m     \u001b[39mraise\u001b[39;00m \u001b[39mTypeError\u001b[39;00m(\u001b[39m\"\u001b[39m\u001b[39mloc must be int\u001b[39m\u001b[39m\"\u001b[39m)\n",
      "\u001b[1;31mValueError\u001b[0m: cannot insert Route ID, already exists"
     ]
    }
   ],
   "source": [
    "# Transform all strings to lower case so we don't have to worry about it for operations. Can be turned to camel case later for presentation.\n",
    "df = df.applymap(lambda s: s.lower() if type(s) == str else s)\n",
    "\n",
    "# Apostrophe's are html coded in the notes section for some reason.\n",
    "df['Notes'] = df['Notes'].apply(lambda x: str(x).replace('&#39;',\"'\"))\n",
    "\n",
    "# 'Date' to datetype\n",
    "df['Date'] = pd.to_datetime(df['Date'])\n",
    "\n",
    "# Remove all aid, ice, snow, TR only,and trad/boulder climbing route types as they are not relevant.\n",
    "df = df[df['Route Type'].str.contains(r'aid|ice|snow') != True]\n",
    "df = df[df['Route Type'].str.fullmatch(r'tr') != True] #if this is just a partial match it will detech \"trad\" too!\n",
    "df = df[df['Route Type'].str.contains(r'trad') & df['Route Type'].str.contains(r'boulder') != True]\n",
    "\n",
    "# \"trad, sport\" goes to \"trad\". If it uses gear it's trad!\n",
    "df.loc[df['Route Type'].str.contains(r'trad') & df['Route Type'].str.contains(r'sport'), 'Route Type'] = 'trad'\n",
    "\n",
    "# \"x, alpine\" and \"x, tr\" goes to \"x\" Alpine and tr tags are not useful.\n",
    "def rem_route_el_from_list(ousted, seperator):\n",
    "    el_rem_subset = df['Route Type'].str.contains(ousted) == True\n",
    "    df.loc[el_rem_subset, 'Route Type'] = df[el_rem_subset]['Route Type'].apply(lambda row: [val for val in row.split(seperator) if val != ousted]).apply(lambda x: \", \".join(x))\n",
    "\n",
    "rem_route_el_from_list('alpine', ', ')\n",
    "rem_route_el_from_list('tr', ', ')\n",
    "\n",
    "# Extract route unique identifier from URL and create a new column for it.\n",
    "df.insert(len(df.columns),'Route ID','')\n",
    "df['Route ID'] = df['URL'].apply(lambda x: x.split('/')[4])\n",
    "\n",
    "# Create original rating and length archive to compare against or undo changes.\n",
    "df.insert(df.columns.get_loc('Rating'),'Original Rating',df['Rating'])\n",
    "\n",
    "# Change YDS-Vgrade combos to just Vgrade. They are most likely boulders, so a bouldering grade is relevant.\n",
    "subset = df['Rating'].apply(lambda row: [val for val in row.split() if val in V_GRADES_FULL]).astype(bool)  & df['Rating'].apply(lambda row: [val for val in row.split() if val in YDS_GRADES_FULL]).astype(bool) == True\n",
    "df.loc[subset, 'Rating'] = df[subset]['Rating'].apply(lambda x: x.split()[1])\n",
    "\n",
    "# Seperate risk rating to new column\n",
    "df.insert(df.columns.get_loc('Rating')+1,'Risk','')\n",
    "df['Risk'] = df['Rating'].apply(lambda row: [val for val in row.split() if val in RISK_GRADES]).apply(lambda x: \"\".join(x))\n",
    "# Reduce Rating column to just rating\n",
    "df['Rating'] = df['Rating'].apply(lambda row: [val for val in row.split()][0])\n",
    "# Displays all rows where risk ratings have been seperated\n",
    "# df[df['Risk'].astype(bool)]\n",
    "\n",
    "df.insert(len(df.columns),'Flash/Onsight','')\n",
    "df.insert(len(df.columns),'Worked Clean','')\n",
    "df.insert(len(df.columns),'Grade Breakthrough','')\n",
    "df.insert(len(df.columns),'Attempts','')"
   ]
  },
  {
   "cell_type": "code",
   "execution_count": 22,
   "metadata": {},
   "outputs": [
    {
     "name": "stdout",
     "output_type": "stream",
     "text": [
      "<Response [200]>\n",
      "<Response [200]>\n",
      "<Response [200]>\n",
      "<Response [200]>\n",
      "<Response [200]>\n",
      "<Response [200]>\n",
      "<Response [200]>\n",
      "<Response [200]>\n",
      "<Response [200]>\n",
      "<Response [200]>\n",
      "<Response [200]>\n",
      "<Response [200]>\n",
      "<Response [200]>\n",
      "<Response [200]>\n",
      "<Response [200]>\n",
      "<Response [200]>\n",
      "<Response [200]>\n",
      "<Response [200]>\n",
      "<Response [200]>\n",
      "<Response [200]>\n",
      "<Response [200]>\n",
      "<Response [200]>\n",
      "<Response [200]>\n",
      "<Response [200]>\n",
      "<Response [200]>\n",
      "<Response [200]>\n",
      "<Response [200]>\n",
      "<Response [200]>\n",
      "<Response [200]>\n",
      "<Response [200]>\n",
      "<Response [200]>\n",
      "<Response [200]>\n",
      "<Response [200]>\n",
      "<Response [200]>\n",
      "<Response [200]>\n",
      "<Response [200]>\n",
      "<Response [200]>\n",
      "<Response [200]>\n",
      "<Response [200]>\n",
      "<Response [200]>\n",
      "<Response [200]>\n",
      "<Response [200]>\n",
      "<Response [200]>\n",
      "<Response [200]>\n",
      "<Response [200]>\n",
      "<Response [200]>\n",
      "<Response [200]>\n",
      "<Response [200]>\n",
      "<Response [200]>\n",
      "<Response [200]>\n",
      "<Response [200]>\n",
      "<Response [200]>\n",
      "<Response [200]>\n",
      "<Response [200]>\n",
      "<Response [200]>\n",
      "<Response [200]>\n",
      "<Response [200]>\n",
      "<Response [200]>\n",
      "<Response [200]>\n",
      "<Response [200]>\n",
      "<Response [200]>\n",
      "<Response [200]>\n",
      "<Response [200]>\n",
      "<Response [200]>\n",
      "<Response [200]>\n",
      "<Response [200]>\n",
      "<Response [200]>\n",
      "<Response [200]>\n",
      "<Response [200]>\n",
      "<Response [200]>\n",
      "<Response [200]>\n",
      "<Response [200]>\n",
      "<Response [200]>\n",
      "<Response [200]>\n",
      "<Response [200]>\n",
      "<Response [200]>\n",
      "<Response [200]>\n",
      "<Response [200]>\n",
      "<Response [200]>\n",
      "<Response [200]>\n",
      "<Response [200]>\n",
      "<Response [200]>\n",
      "<Response [200]>\n",
      "<Response [200]>\n",
      "<Response [200]>\n",
      "<Response [200]>\n",
      "<Response [200]>\n",
      "<Response [200]>\n",
      "<Response [200]>\n",
      "<Response [200]>\n",
      "<Response [200]>\n",
      "<Response [200]>\n",
      "<Response [200]>\n",
      "<Response [200]>\n",
      "<Response [200]>\n",
      "<Response [200]>\n",
      "<Response [200]>\n",
      "<Response [200]>\n",
      "<Response [200]>\n",
      "<Response [200]>\n",
      "<Response [200]>\n",
      "<Response [200]>\n",
      "<Response [200]>\n",
      "<Response [200]>\n",
      "<Response [200]>\n",
      "<Response [200]>\n",
      "<Response [200]>\n",
      "<Response [200]>\n",
      "<Response [200]>\n",
      "<Response [200]>\n",
      "<Response [200]>\n",
      "<Response [200]>\n",
      "<Response [200]>\n",
      "<Response [200]>\n",
      "<Response [200]>\n",
      "<Response [200]>\n",
      "<Response [200]>\n",
      "<Response [200]>\n",
      "<Response [200]>\n",
      "<Response [200]>\n",
      "<Response [200]>\n",
      "<Response [200]>\n",
      "<Response [200]>\n",
      "<Response [200]>\n",
      "<Response [200]>\n",
      "<Response [200]>\n",
      "<Response [200]>\n",
      "<Response [200]>\n",
      "<Response [200]>\n",
      "<Response [200]>\n",
      "<Response [200]>\n",
      "<Response [200]>\n",
      "<Response [200]>\n",
      "<Response [200]>\n",
      "<Response [200]>\n",
      "<Response [200]>\n",
      "<Response [200]>\n",
      "<Response [200]>\n",
      "<Response [200]>\n",
      "<Response [200]>\n",
      "<Response [200]>\n",
      "<Response [200]>\n",
      "<Response [200]>\n",
      "<Response [200]>\n",
      "<Response [200]>\n",
      "<Response [200]>\n",
      "<Response [200]>\n",
      "<Response [200]>\n",
      "<Response [200]>\n",
      "<Response [200]>\n",
      "<Response [200]>\n",
      "<Response [200]>\n",
      "<Response [200]>\n",
      "<Response [200]>\n",
      "<Response [200]>\n",
      "<Response [200]>\n",
      "<Response [200]>\n",
      "<Response [200]>\n",
      "<Response [200]>\n",
      "<Response [200]>\n",
      "<Response [200]>\n",
      "<Response [200]>\n",
      "<Response [200]>\n",
      "<Response [200]>\n",
      "<Response [200]>\n",
      "<Response [200]>\n",
      "<Response [200]>\n",
      "<Response [200]>\n",
      "<Response [200]>\n",
      "<Response [200]>\n",
      "<Response [200]>\n",
      "<Response [200]>\n",
      "<Response [200]>\n",
      "<Response [200]>\n",
      "<Response [200]>\n",
      "<Response [200]>\n",
      "<Response [200]>\n",
      "<Response [200]>\n",
      "<Response [200]>\n",
      "<Response [200]>\n",
      "<Response [200]>\n",
      "<Response [200]>\n",
      "<Response [200]>\n",
      "<Response [200]>\n",
      "<Response [200]>\n",
      "<Response [200]>\n",
      "<Response [200]>\n",
      "<Response [200]>\n",
      "<Response [200]>\n",
      "<Response [200]>\n",
      "<Response [200]>\n",
      "<Response [200]>\n",
      "<Response [200]>\n",
      "<Response [200]>\n",
      "<Response [200]>\n",
      "<Response [200]>\n",
      "<Response [200]>\n",
      "<Response [200]>\n",
      "<Response [200]>\n",
      "<Response [200]>\n",
      "<Response [200]>\n",
      "<Response [200]>\n",
      "<Response [200]>\n",
      "<Response [200]>\n",
      "<Response [200]>\n",
      "<Response [200]>\n",
      "<Response [200]>\n",
      "<Response [200]>\n",
      "<Response [200]>\n",
      "<Response [200]>\n",
      "<Response [200]>\n",
      "<Response [200]>\n",
      "<Response [200]>\n",
      "<Response [200]>\n",
      "<Response [200]>\n",
      "<Response [200]>\n",
      "<Response [200]>\n",
      "<Response [200]>\n",
      "<Response [200]>\n",
      "<Response [200]>\n",
      "<Response [200]>\n",
      "<Response [200]>\n",
      "<Response [200]>\n",
      "<Response [200]>\n",
      "<Response [200]>\n",
      "<Response [200]>\n",
      "<Response [200]>\n",
      "<Response [200]>\n",
      "<Response [200]>\n",
      "<Response [200]>\n",
      "<Response [200]>\n",
      "<Response [200]>\n",
      "<Response [200]>\n",
      "<Response [200]>\n",
      "<Response [200]>\n",
      "<Response [200]>\n",
      "<Response [200]>\n",
      "<Response [200]>\n",
      "<Response [200]>\n",
      "<Response [200]>\n",
      "<Response [200]>\n",
      "<Response [200]>\n",
      "<Response [200]>\n",
      "<Response [200]>\n",
      "<Response [200]>\n",
      "<Response [200]>\n",
      "<Response [200]>\n",
      "<Response [200]>\n",
      "<Response [200]>\n",
      "<Response [200]>\n",
      "<Response [200]>\n",
      "<Response [200]>\n",
      "<Response [200]>\n",
      "<Response [200]>\n",
      "<Response [200]>\n",
      "<Response [200]>\n",
      "<Response [200]>\n",
      "<Response [200]>\n",
      "<Response [200]>\n",
      "<Response [200]>\n",
      "<Response [200]>\n",
      "<Response [200]>\n",
      "<Response [200]>\n",
      "<Response [200]>\n",
      "<Response [200]>\n",
      "<Response [200]>\n",
      "<Response [200]>\n",
      "<Response [200]>\n",
      "<Response [200]>\n",
      "<Response [200]>\n",
      "<Response [200]>\n",
      "<Response [200]>\n",
      "<Response [200]>\n",
      "<Response [200]>\n",
      "<Response [200]>\n",
      "<Response [200]>\n",
      "<Response [200]>\n",
      "<Response [200]>\n",
      "<Response [200]>\n",
      "<Response [200]>\n",
      "<Response [200]>\n",
      "<Response [200]>\n",
      "<Response [200]>\n",
      "<Response [200]>\n",
      "<Response [200]>\n",
      "<Response [200]>\n",
      "<Response [200]>\n",
      "<Response [200]>\n",
      "<Response [200]>\n",
      "<Response [200]>\n",
      "<Response [200]>\n",
      "<Response [200]>\n",
      "<Response [200]>\n",
      "<Response [200]>\n",
      "<Response [200]>\n",
      "<Response [200]>\n",
      "<Response [200]>\n",
      "<Response [200]>\n",
      "<Response [200]>\n",
      "<Response [200]>\n",
      "<Response [200]>\n",
      "<Response [200]>\n",
      "<Response [200]>\n",
      "<Response [200]>\n",
      "<Response [200]>\n",
      "<Response [200]>\n",
      "<Response [200]>\n",
      "<Response [200]>\n",
      "<Response [200]>\n",
      "<Response [200]>\n",
      "<Response [200]>\n",
      "<Response [200]>\n",
      "<Response [200]>\n",
      "<Response [200]>\n",
      "<Response [200]>\n",
      "<Response [200]>\n",
      "<Response [200]>\n",
      "<Response [200]>\n",
      "<Response [200]>\n",
      "<Response [200]>\n",
      "<Response [200]>\n",
      "<Response [200]>\n",
      "<Response [200]>\n",
      "<Response [200]>\n",
      "<Response [200]>\n",
      "<Response [200]>\n",
      "<Response [200]>\n",
      "<Response [200]>\n",
      "<Response [200]>\n",
      "<Response [200]>\n",
      "<Response [200]>\n",
      "<Response [200]>\n",
      "<Response [200]>\n",
      "<Response [200]>\n",
      "<Response [200]>\n",
      "<Response [200]>\n",
      "<Response [200]>\n",
      "<Response [200]>\n",
      "<Response [200]>\n",
      "<Response [200]>\n",
      "<Response [200]>\n",
      "<Response [200]>\n",
      "<Response [200]>\n",
      "<Response [200]>\n",
      "<Response [200]>\n",
      "<Response [200]>\n",
      "<Response [200]>\n",
      "<Response [200]>\n",
      "<Response [200]>\n",
      "<Response [200]>\n",
      "<Response [200]>\n",
      "<Response [200]>\n",
      "<Response [200]>\n",
      "<Response [200]>\n",
      "<Response [200]>\n",
      "<Response [200]>\n",
      "<Response [200]>\n",
      "<Response [200]>\n",
      "<Response [200]>\n",
      "<Response [200]>\n",
      "<Response [200]>\n",
      "<Response [200]>\n",
      "<Response [200]>\n",
      "<Response [200]>\n",
      "<Response [200]>\n",
      "<Response [200]>\n",
      "<Response [200]>\n",
      "<Response [200]>\n",
      "<Response [200]>\n",
      "<Response [200]>\n",
      "<Response [200]>\n",
      "<Response [200]>\n",
      "<Response [200]>\n",
      "<Response [200]>\n",
      "<Response [200]>\n",
      "<Response [200]>\n",
      "<Response [200]>\n",
      "<Response [200]>\n",
      "<Response [200]>\n",
      "<Response [200]>\n",
      "<Response [200]>\n",
      "<Response [200]>\n",
      "<Response [200]>\n",
      "<Response [200]>\n",
      "<Response [200]>\n",
      "<Response [200]>\n",
      "<Response [200]>\n",
      "<Response [200]>\n",
      "<Response [200]>\n",
      "<Response [200]>\n",
      "<Response [200]>\n",
      "<Response [200]>\n",
      "<Response [200]>\n",
      "<Response [200]>\n",
      "<Response [200]>\n",
      "<Response [200]>\n",
      "<Response [200]>\n",
      "<Response [200]>\n",
      "<Response [200]>\n",
      "<Response [200]>\n",
      "<Response [200]>\n",
      "<Response [200]>\n",
      "<Response [200]>\n",
      "<Response [200]>\n",
      "<Response [200]>\n",
      "<Response [200]>\n",
      "<Response [200]>\n",
      "<Response [200]>\n",
      "<Response [200]>\n",
      "<Response [200]>\n",
      "<Response [200]>\n",
      "<Response [200]>\n",
      "<Response [200]>\n",
      "<Response [200]>\n",
      "<Response [200]>\n",
      "<Response [200]>\n",
      "<Response [200]>\n",
      "<Response [200]>\n",
      "<Response [200]>\n",
      "<Response [200]>\n",
      "<Response [200]>\n",
      "<Response [200]>\n",
      "<Response [200]>\n",
      "<Response [200]>\n",
      "<Response [200]>\n",
      "<Response [200]>\n",
      "<Response [200]>\n",
      "<Response [200]>\n",
      "<Response [200]>\n",
      "<Response [200]>\n",
      "<Response [200]>\n",
      "<Response [200]>\n",
      "<Response [200]>\n",
      "<Response [200]>\n",
      "<Response [200]>\n",
      "<Response [200]>\n",
      "<Response [200]>\n",
      "<Response [200]>\n",
      "<Response [200]>\n",
      "<Response [200]>\n",
      "<Response [200]>\n",
      "<Response [200]>\n",
      "<Response [200]>\n",
      "<Response [200]>\n",
      "<Response [200]>\n",
      "<Response [200]>\n",
      "<Response [200]>\n",
      "<Response [200]>\n",
      "<Response [200]>\n",
      "<Response [200]>\n",
      "<Response [200]>\n",
      "<Response [200]>\n",
      "<Response [200]>\n",
      "<Response [200]>\n",
      "<Response [200]>\n",
      "<Response [200]>\n",
      "<Response [200]>\n",
      "<Response [200]>\n",
      "<Response [200]>\n",
      "<Response [200]>\n",
      "<Response [200]>\n",
      "<Response [200]>\n",
      "<Response [200]>\n",
      "<Response [200]>\n",
      "<Response [200]>\n",
      "<Response [200]>\n",
      "<Response [200]>\n",
      "<Response [200]>\n",
      "<Response [200]>\n",
      "<Response [200]>\n",
      "<Response [200]>\n",
      "<Response [200]>\n",
      "<Response [200]>\n",
      "<Response [200]>\n",
      "<Response [200]>\n",
      "<Response [200]>\n",
      "<Response [200]>\n",
      "<Response [200]>\n",
      "<Response [200]>\n",
      "<Response [200]>\n",
      "<Response [200]>\n",
      "<Response [200]>\n",
      "<Response [200]>\n",
      "<Response [200]>\n",
      "<Response [200]>\n",
      "<Response [200]>\n",
      "<Response [200]>\n",
      "<Response [200]>\n",
      "<Response [200]>\n",
      "<Response [200]>\n",
      "<Response [200]>\n",
      "<Response [200]>\n",
      "<Response [200]>\n",
      "<Response [200]>\n",
      "<Response [200]>\n",
      "<Response [200]>\n",
      "<Response [200]>\n",
      "<Response [200]>\n",
      "<Response [200]>\n",
      "<Response [200]>\n",
      "<Response [200]>\n",
      "<Response [200]>\n",
      "<Response [200]>\n",
      "<Response [200]>\n",
      "<Response [200]>\n",
      "<Response [200]>\n",
      "<Response [200]>\n",
      "<Response [200]>\n",
      "<Response [200]>\n",
      "<Response [200]>\n",
      "<Response [200]>\n",
      "<Response [200]>\n",
      "<Response [200]>\n",
      "<Response [200]>\n",
      "<Response [200]>\n",
      "<Response [200]>\n",
      "<Response [200]>\n",
      "<Response [200]>\n",
      "<Response [200]>\n",
      "<Response [200]>\n",
      "<Response [200]>\n",
      "<Response [200]>\n",
      "<Response [200]>\n",
      "<Response [200]>\n",
      "<Response [200]>\n",
      "<Response [200]>\n",
      "<Response [200]>\n",
      "<Response [200]>\n",
      "<Response [200]>\n",
      "<Response [200]>\n",
      "<Response [200]>\n",
      "<Response [200]>\n",
      "<Response [200]>\n",
      "<Response [200]>\n",
      "<Response [200]>\n",
      "<Response [200]>\n",
      "<Response [200]>\n",
      "<Response [200]>\n",
      "<Response [200]>\n",
      "<Response [200]>\n",
      "<Response [200]>\n",
      "<Response [200]>\n",
      "<Response [200]>\n",
      "<Response [200]>\n",
      "<Response [200]>\n",
      "<Response [200]>\n",
      "<Response [200]>\n",
      "<Response [200]>\n",
      "<Response [200]>\n",
      "<Response [200]>\n",
      "<Response [200]>\n",
      "<Response [200]>\n",
      "<Response [200]>\n",
      "<Response [200]>\n",
      "<Response [200]>\n",
      "<Response [200]>\n",
      "<Response [200]>\n",
      "<Response [200]>\n",
      "<Response [200]>\n",
      "<Response [200]>\n",
      "<Response [200]>\n",
      "<Response [200]>\n",
      "<Response [200]>\n",
      "<Response [200]>\n",
      "<Response [200]>\n",
      "<Response [200]>\n",
      "<Response [200]>\n",
      "<Response [200]>\n",
      "<Response [200]>\n",
      "<Response [200]>\n",
      "<Response [200]>\n",
      "<Response [200]>\n",
      "<Response [200]>\n",
      "<Response [200]>\n",
      "<Response [200]>\n",
      "<Response [200]>\n",
      "<Response [200]>\n",
      "<Response [200]>\n",
      "<Response [200]>\n",
      "<Response [200]>\n",
      "<Response [200]>\n",
      "<Response [200]>\n",
      "<Response [200]>\n",
      "<Response [200]>\n",
      "<Response [200]>\n",
      "<Response [200]>\n",
      "<Response [200]>\n",
      "<Response [200]>\n",
      "<Response [200]>\n",
      "<Response [200]>\n",
      "<Response [200]>\n",
      "<Response [200]>\n",
      "<Response [200]>\n",
      "<Response [200]>\n",
      "<Response [200]>\n",
      "<Response [200]>\n",
      "<Response [200]>\n",
      "<Response [200]>\n",
      "<Response [200]>\n",
      "<Response [200]>\n",
      "<Response [200]>\n",
      "<Response [200]>\n",
      "<Response [200]>\n",
      "<Response [200]>\n",
      "<Response [200]>\n",
      "<Response [200]>\n",
      "<Response [200]>\n",
      "<Response [200]>\n",
      "<Response [200]>\n",
      "<Response [200]>\n",
      "<Response [200]>\n",
      "<Response [200]>\n",
      "<Response [200]>\n",
      "<Response [200]>\n",
      "<Response [200]>\n",
      "<Response [200]>\n",
      "<Response [200]>\n",
      "<Response [200]>\n",
      "<Response [200]>\n",
      "<Response [200]>\n",
      "<Response [200]>\n",
      "<Response [200]>\n",
      "<Response [200]>\n",
      "<Response [200]>\n",
      "<Response [200]>\n",
      "<Response [200]>\n",
      "<Response [200]>\n",
      "<Response [200]>\n",
      "<Response [200]>\n",
      "<Response [200]>\n",
      "<Response [200]>\n",
      "<Response [200]>\n",
      "<Response [200]>\n",
      "<Response [200]>\n",
      "<Response [200]>\n",
      "<Response [200]>\n",
      "<Response [200]>\n",
      "<Response [200]>\n",
      "<Response [200]>\n",
      "<Response [200]>\n",
      "<Response [200]>\n",
      "<Response [200]>\n",
      "<Response [200]>\n",
      "<Response [200]>\n",
      "<Response [200]>\n",
      "<Response [200]>\n",
      "<Response [200]>\n",
      "<Response [200]>\n",
      "<Response [200]>\n",
      "<Response [200]>\n",
      "<Response [200]>\n",
      "<Response [200]>\n",
      "<Response [200]>\n",
      "<Response [200]>\n",
      "<Response [200]>\n",
      "<Response [200]>\n",
      "<Response [200]>\n",
      "<Response [200]>\n",
      "<Response [200]>\n",
      "<Response [200]>\n",
      "<Response [200]>\n",
      "<Response [200]>\n",
      "<Response [200]>\n",
      "<Response [200]>\n",
      "<Response [200]>\n",
      "<Response [200]>\n",
      "<Response [200]>\n",
      "<Response [200]>\n",
      "<Response [200]>\n",
      "<Response [200]>\n",
      "<Response [200]>\n",
      "<Response [200]>\n",
      "<Response [200]>\n",
      "<Response [200]>\n",
      "<Response [200]>\n",
      "<Response [200]>\n",
      "<Response [200]>\n",
      "<Response [200]>\n",
      "<Response [200]>\n",
      "<Response [200]>\n",
      "<Response [200]>\n",
      "<Response [200]>\n",
      "<Response [200]>\n",
      "<Response [200]>\n",
      "<Response [200]>\n",
      "<Response [200]>\n",
      "<Response [200]>\n",
      "<Response [200]>\n",
      "<Response [200]>\n",
      "<Response [200]>\n",
      "<Response [200]>\n",
      "<Response [200]>\n",
      "<Response [200]>\n",
      "<Response [200]>\n",
      "<Response [200]>\n",
      "<Response [200]>\n",
      "<Response [200]>\n",
      "<Response [200]>\n",
      "<Response [200]>\n",
      "<Response [200]>\n",
      "<Response [200]>\n",
      "<Response [200]>\n",
      "<Response [200]>\n",
      "<Response [200]>\n",
      "<Response [200]>\n",
      "<Response [200]>\n",
      "<Response [200]>\n",
      "<Response [200]>\n",
      "<Response [200]>\n",
      "<Response [200]>\n",
      "<Response [200]>\n",
      "<Response [200]>\n",
      "<Response [200]>\n",
      "<Response [200]>\n",
      "<Response [200]>\n",
      "<Response [200]>\n",
      "<Response [200]>\n",
      "<Response [200]>\n",
      "<Response [200]>\n",
      "<Response [200]>\n",
      "<Response [200]>\n",
      "<Response [200]>\n",
      "<Response [200]>\n",
      "<Response [200]>\n",
      "<Response [200]>\n",
      "<Response [200]>\n",
      "<Response [200]>\n",
      "<Response [200]>\n",
      "<Response [200]>\n",
      "<Response [200]>\n",
      "<Response [200]>\n",
      "<Response [200]>\n",
      "<Response [200]>\n",
      "<Response [200]>\n",
      "<Response [200]>\n",
      "<Response [200]>\n",
      "<Response [200]>\n",
      "<Response [200]>\n",
      "<Response [200]>\n",
      "<Response [200]>\n",
      "<Response [200]>\n",
      "<Response [200]>\n",
      "<Response [200]>\n",
      "<Response [200]>\n",
      "<Response [200]>\n",
      "<Response [200]>\n",
      "<Response [200]>\n",
      "<Response [200]>\n",
      "<Response [200]>\n",
      "<Response [200]>\n",
      "<Response [200]>\n",
      "<Response [200]>\n",
      "<Response [200]>\n",
      "<Response [200]>\n",
      "<Response [200]>\n",
      "<Response [200]>\n",
      "<Response [200]>\n",
      "<Response [200]>\n",
      "<Response [200]>\n",
      "<Response [200]>\n",
      "<Response [200]>\n",
      "<Response [200]>\n",
      "<Response [200]>\n",
      "<Response [200]>\n",
      "<Response [200]>\n",
      "<Response [200]>\n",
      "<Response [200]>\n",
      "<Response [200]>\n",
      "<Response [200]>\n",
      "<Response [200]>\n",
      "<Response [200]>\n",
      "<Response [200]>\n",
      "<Response [200]>\n",
      "<Response [200]>\n",
      "<Response [200]>\n",
      "<Response [200]>\n",
      "<Response [200]>\n",
      "<Response [200]>\n",
      "<Response [200]>\n",
      "<Response [200]>\n",
      "<Response [200]>\n",
      "<Response [200]>\n",
      "<Response [200]>\n",
      "<Response [200]>\n",
      "<Response [200]>\n",
      "<Response [200]>\n",
      "<Response [200]>\n",
      "<Response [200]>\n",
      "<Response [200]>\n",
      "<Response [200]>\n",
      "<Response [200]>\n",
      "<Response [200]>\n",
      "<Response [200]>\n",
      "<Response [200]>\n",
      "<Response [200]>\n",
      "<Response [200]>\n",
      "<Response [200]>\n",
      "<Response [200]>\n",
      "<Response [200]>\n",
      "<Response [200]>\n",
      "<Response [200]>\n",
      "<Response [200]>\n",
      "<Response [200]>\n",
      "<Response [200]>\n",
      "<Response [200]>\n",
      "<Response [200]>\n",
      "<Response [200]>\n",
      "<Response [200]>\n",
      "<Response [200]>\n",
      "<Response [200]>\n",
      "<Response [200]>\n",
      "<Response [200]>\n",
      "<Response [200]>\n",
      "<Response [200]>\n",
      "<Response [200]>\n",
      "<Response [200]>\n",
      "<Response [200]>\n",
      "<Response [200]>\n",
      "<Response [200]>\n",
      "<Response [200]>\n",
      "<Response [200]>\n",
      "<Response [200]>\n",
      "<Response [200]>\n",
      "<Response [200]>\n",
      "<Response [200]>\n",
      "<Response [200]>\n",
      "<Response [200]>\n",
      "<Response [200]>\n",
      "<Response [200]>\n",
      "<Response [200]>\n",
      "<Response [200]>\n",
      "<Response [200]>\n",
      "<Response [200]>\n",
      "<Response [200]>\n",
      "<Response [200]>\n",
      "<Response [200]>\n",
      "<Response [200]>\n",
      "<Response [200]>\n",
      "<Response [200]>\n",
      "<Response [200]>\n",
      "<Response [200]>\n",
      "<Response [200]>\n",
      "<Response [200]>\n",
      "<Response [200]>\n",
      "<Response [200]>\n",
      "<Response [200]>\n",
      "<Response [200]>\n",
      "<Response [200]>\n",
      "<Response [200]>\n",
      "<Response [200]>\n",
      "<Response [200]>\n",
      "<Response [200]>\n",
      "<Response [200]>\n",
      "<Response [200]>\n",
      "<Response [200]>\n",
      "<Response [200]>\n",
      "<Response [200]>\n",
      "<Response [200]>\n",
      "<Response [200]>\n",
      "<Response [200]>\n",
      "<Response [200]>\n",
      "<Response [200]>\n",
      "<Response [200]>\n",
      "<Response [200]>\n",
      "<Response [200]>\n",
      "<Response [200]>\n",
      "<Response [200]>\n",
      "<Response [200]>\n",
      "<Response [200]>\n",
      "<Response [200]>\n",
      "<Response [200]>\n",
      "<Response [200]>\n",
      "<Response [200]>\n",
      "<Response [200]>\n",
      "<Response [200]>\n",
      "<Response [200]>\n",
      "<Response [200]>\n",
      "<Response [200]>\n",
      "<Response [200]>\n",
      "<Response [200]>\n",
      "<Response [200]>\n",
      "<Response [200]>\n",
      "<Response [200]>\n",
      "<Response [200]>\n",
      "<Response [200]>\n",
      "<Response [200]>\n",
      "<Response [200]>\n",
      "<Response [200]>\n",
      "<Response [200]>\n",
      "<Response [200]>\n",
      "<Response [200]>\n",
      "<Response [200]>\n",
      "<Response [200]>\n",
      "<Response [200]>\n",
      "<Response [200]>\n",
      "<Response [200]>\n",
      "<Response [200]>\n",
      "<Response [200]>\n",
      "<Response [200]>\n",
      "<Response [200]>\n",
      "<Response [200]>\n",
      "<Response [200]>\n",
      "<Response [200]>\n",
      "<Response [200]>\n",
      "<Response [200]>\n",
      "<Response [200]>\n",
      "<Response [200]>\n",
      "<Response [200]>\n",
      "<Response [200]>\n",
      "<Response [200]>\n",
      "<Response [200]>\n",
      "<Response [200]>\n",
      "<Response [200]>\n",
      "<Response [200]>\n",
      "<Response [200]>\n",
      "<Response [200]>\n",
      "<Response [200]>\n",
      "<Response [200]>\n",
      "<Response [200]>\n",
      "<Response [200]>\n",
      "<Response [200]>\n",
      "<Response [200]>\n",
      "<Response [200]>\n",
      "<Response [200]>\n",
      "<Response [200]>\n",
      "<Response [200]>\n",
      "<Response [200]>\n",
      "<Response [200]>\n",
      "<Response [200]>\n",
      "<Response [200]>\n",
      "<Response [200]>\n",
      "<Response [200]>\n",
      "<Response [200]>\n",
      "<Response [200]>\n",
      "<Response [200]>\n",
      "<Response [200]>\n",
      "<Response [200]>\n",
      "<Response [200]>\n",
      "<Response [200]>\n",
      "<Response [200]>\n",
      "<Response [200]>\n",
      "<Response [200]>\n",
      "<Response [200]>\n",
      "<Response [200]>\n",
      "<Response [200]>\n",
      "<Response [200]>\n",
      "<Response [200]>\n",
      "<Response [200]>\n",
      "<Response [200]>\n",
      "<Response [200]>\n",
      "<Response [200]>\n",
      "<Response [200]>\n",
      "<Response [200]>\n",
      "<Response [200]>\n",
      "<Response [200]>\n",
      "<Response [200]>\n",
      "<Response [200]>\n",
      "<Response [200]>\n",
      "<Response [200]>\n",
      "<Response [200]>\n",
      "<Response [200]>\n",
      "<Response [200]>\n",
      "<Response [200]>\n",
      "<Response [200]>\n",
      "<Response [200]>\n",
      "<Response [200]>\n",
      "<Response [200]>\n",
      "<Response [200]>\n",
      "<Response [200]>\n",
      "<Response [200]>\n",
      "<Response [200]>\n",
      "<Response [200]>\n",
      "<Response [200]>\n",
      "<Response [200]>\n",
      "<Response [200]>\n",
      "<Response [200]>\n",
      "<Response [200]>\n",
      "<Response [200]>\n",
      "<Response [200]>\n",
      "<Response [200]>\n",
      "<Response [200]>\n",
      "<Response [200]>\n",
      "<Response [200]>\n",
      "<Response [200]>\n",
      "<Response [200]>\n",
      "<Response [200]>\n",
      "<Response [200]>\n",
      "<Response [200]>\n",
      "<Response [200]>\n",
      "<Response [200]>\n",
      "<Response [200]>\n",
      "<Response [200]>\n",
      "<Response [200]>\n",
      "<Response [200]>\n",
      "<Response [200]>\n",
      "<Response [200]>\n",
      "<Response [200]>\n",
      "<Response [200]>\n",
      "<Response [200]>\n",
      "<Response [200]>\n",
      "<Response [200]>\n",
      "<Response [200]>\n",
      "<Response [200]>\n",
      "<Response [200]>\n",
      "<Response [200]>\n",
      "<Response [200]>\n",
      "<Response [200]>\n",
      "<Response [200]>\n",
      "<Response [200]>\n",
      "<Response [200]>\n",
      "<Response [200]>\n",
      "<Response [200]>\n",
      "<Response [200]>\n",
      "<Response [200]>\n",
      "<Response [200]>\n",
      "<Response [200]>\n",
      "<Response [200]>\n",
      "<Response [200]>\n",
      "<Response [200]>\n",
      "<Response [200]>\n",
      "<Response [200]>\n",
      "<Response [200]>\n",
      "<Response [200]>\n",
      "<Response [200]>\n",
      "<Response [200]>\n",
      "<Response [200]>\n",
      "<Response [200]>\n",
      "<Response [200]>\n",
      "<Response [200]>\n",
      "<Response [200]>\n",
      "<Response [200]>\n",
      "<Response [200]>\n",
      "<Response [200]>\n",
      "<Response [200]>\n",
      "<Response [200]>\n",
      "<Response [200]>\n",
      "<Response [200]>\n",
      "<Response [200]>\n",
      "<Response [200]>\n",
      "<Response [200]>\n",
      "<Response [200]>\n",
      "<Response [200]>\n",
      "<Response [200]>\n",
      "<Response [200]>\n",
      "<Response [200]>\n",
      "<Response [200]>\n",
      "<Response [200]>\n",
      "<Response [200]>\n",
      "<Response [200]>\n",
      "<Response [200]>\n",
      "<Response [200]>\n",
      "<Response [200]>\n",
      "<Response [200]>\n",
      "<Response [200]>\n",
      "<Response [200]>\n",
      "<Response [200]>\n",
      "<Response [200]>\n",
      "<Response [200]>\n",
      "<Response [200]>\n",
      "<Response [200]>\n",
      "<Response [200]>\n",
      "<Response [200]>\n",
      "<Response [200]>\n",
      "<Response [200]>\n",
      "<Response [200]>\n",
      "<Response [200]>\n",
      "<Response [200]>\n",
      "<Response [200]>\n",
      "<Response [200]>\n",
      "<Response [200]>\n",
      "<Response [200]>\n",
      "<Response [200]>\n",
      "<Response [200]>\n",
      "<Response [200]>\n",
      "<Response [200]>\n",
      "<Response [200]>\n",
      "<Response [200]>\n",
      "<Response [200]>\n",
      "<Response [200]>\n",
      "<Response [200]>\n",
      "<Response [200]>\n",
      "<Response [200]>\n",
      "<Response [200]>\n",
      "<Response [200]>\n",
      "<Response [200]>\n",
      "<Response [200]>\n",
      "<Response [200]>\n",
      "<Response [200]>\n",
      "<Response [200]>\n",
      "<Response [200]>\n",
      "<Response [200]>\n",
      "<Response [200]>\n",
      "<Response [200]>\n",
      "<Response [200]>\n",
      "<Response [200]>\n",
      "<Response [200]>\n",
      "<Response [200]>\n",
      "<Response [200]>\n",
      "<Response [200]>\n",
      "<Response [200]>\n",
      "<Response [200]>\n",
      "<Response [200]>\n",
      "<Response [200]>\n",
      "<Response [200]>\n",
      "<Response [200]>\n",
      "<Response [200]>\n",
      "<Response [200]>\n",
      "<Response [200]>\n",
      "<Response [200]>\n",
      "<Response [200]>\n",
      "<Response [200]>\n",
      "<Response [200]>\n",
      "<Response [200]>\n",
      "<Response [200]>\n",
      "<Response [200]>\n",
      "<Response [200]>\n",
      "<Response [200]>\n",
      "<Response [200]>\n",
      "<Response [200]>\n",
      "<Response [200]>\n",
      "<Response [200]>\n",
      "<Response [200]>\n",
      "<Response [200]>\n",
      "<Response [200]>\n",
      "<Response [200]>\n",
      "<Response [200]>\n",
      "<Response [200]>\n",
      "<Response [200]>\n",
      "<Response [200]>\n",
      "<Response [200]>\n",
      "<Response [200]>\n",
      "<Response [200]>\n",
      "<Response [200]>\n",
      "<Response [200]>\n",
      "<Response [200]>\n",
      "<Response [200]>\n",
      "<Response [200]>\n",
      "<Response [200]>\n",
      "<Response [200]>\n",
      "<Response [200]>\n",
      "<Response [200]>\n",
      "<Response [200]>\n",
      "<Response [200]>\n",
      "<Response [200]>\n",
      "<Response [200]>\n",
      "<Response [200]>\n",
      "<Response [200]>\n",
      "<Response [200]>\n",
      "<Response [200]>\n",
      "<Response [200]>\n",
      "<Response [200]>\n",
      "<Response [200]>\n",
      "<Response [200]>\n",
      "<Response [200]>\n",
      "<Response [200]>\n",
      "<Response [200]>\n",
      "<Response [200]>\n",
      "<Response [200]>\n",
      "<Response [200]>\n",
      "<Response [200]>\n",
      "<Response [200]>\n",
      "<Response [200]>\n",
      "<Response [200]>\n",
      "<Response [200]>\n",
      "<Response [200]>\n",
      "<Response [200]>\n",
      "<Response [200]>\n",
      "<Response [200]>\n",
      "<Response [200]>\n",
      "<Response [200]>\n",
      "<Response [200]>\n",
      "<Response [200]>\n",
      "<Response [200]>\n",
      "<Response [200]>\n",
      "<Response [200]>\n",
      "<Response [200]>\n",
      "<Response [200]>\n",
      "<Response [200]>\n",
      "<Response [200]>\n",
      "<Response [200]>\n",
      "<Response [200]>\n",
      "<Response [200]>\n",
      "<Response [200]>\n",
      "<Response [200]>\n",
      "<Response [200]>\n",
      "<Response [200]>\n",
      "<Response [200]>\n",
      "<Response [200]>\n",
      "<Response [200]>\n",
      "<Response [200]>\n",
      "<Response [200]>\n",
      "<Response [200]>\n",
      "<Response [200]>\n",
      "<Response [200]>\n",
      "<Response [200]>\n",
      "<Response [200]>\n",
      "<Response [200]>\n",
      "<Response [200]>\n",
      "<Response [200]>\n",
      "<Response [200]>\n",
      "<Response [200]>\n",
      "<Response [200]>\n",
      "<Response [200]>\n",
      "<Response [200]>\n",
      "<Response [200]>\n",
      "<Response [200]>\n",
      "<Response [200]>\n",
      "<Response [200]>\n",
      "<Response [200]>\n",
      "<Response [200]>\n",
      "<Response [200]>\n",
      "<Response [200]>\n",
      "<Response [200]>\n",
      "<Response [200]>\n",
      "<Response [200]>\n",
      "<Response [200]>\n",
      "<Response [200]>\n",
      "<Response [200]>\n",
      "<Response [200]>\n",
      "<Response [200]>\n",
      "<Response [200]>\n",
      "<Response [200]>\n",
      "<Response [200]>\n",
      "<Response [200]>\n",
      "<Response [200]>\n",
      "<Response [200]>\n",
      "<Response [200]>\n",
      "<Response [200]>\n",
      "<Response [200]>\n",
      "<Response [200]>\n",
      "<Response [200]>\n",
      "<Response [200]>\n",
      "<Response [200]>\n",
      "<Response [200]>\n",
      "<Response [200]>\n",
      "<Response [200]>\n",
      "<Response [200]>\n",
      "<Response [200]>\n",
      "<Response [200]>\n",
      "<Response [200]>\n",
      "<Response [200]>\n",
      "<Response [200]>\n",
      "<Response [200]>\n",
      "<Response [200]>\n",
      "<Response [200]>\n",
      "<Response [200]>\n",
      "<Response [200]>\n",
      "<Response [200]>\n",
      "<Response [200]>\n",
      "<Response [200]>\n",
      "<Response [200]>\n",
      "<Response [200]>\n",
      "<Response [200]>\n",
      "<Response [200]>\n",
      "<Response [200]>\n",
      "<Response [200]>\n",
      "<Response [200]>\n",
      "<Response [200]>\n",
      "<Response [200]>\n",
      "<Response [200]>\n",
      "<Response [200]>\n",
      "<Response [200]>\n",
      "<Response [200]>\n",
      "<Response [200]>\n",
      "<Response [200]>\n",
      "<Response [200]>\n",
      "<Response [200]>\n",
      "<Response [200]>\n",
      "<Response [200]>\n",
      "<Response [200]>\n",
      "<Response [200]>\n",
      "<Response [200]>\n",
      "<Response [200]>\n",
      "<Response [200]>\n",
      "<Response [200]>\n",
      "<Response [200]>\n",
      "<Response [200]>\n",
      "<Response [200]>\n",
      "<Response [200]>\n",
      "<Response [200]>\n",
      "<Response [200]>\n",
      "<Response [200]>\n",
      "<Response [200]>\n",
      "<Response [200]>\n",
      "<Response [200]>\n",
      "<Response [200]>\n",
      "<Response [200]>\n",
      "<Response [200]>\n",
      "<Response [200]>\n",
      "<Response [200]>\n",
      "<Response [200]>\n",
      "<Response [200]>\n",
      "<Response [200]>\n",
      "<Response [200]>\n",
      "<Response [200]>\n",
      "<Response [200]>\n",
      "<Response [200]>\n",
      "<Response [200]>\n",
      "<Response [200]>\n",
      "<Response [200]>\n",
      "<Response [200]>\n",
      "<Response [200]>\n",
      "<Response [200]>\n",
      "<Response [200]>\n",
      "<Response [200]>\n",
      "<Response [200]>\n",
      "<Response [200]>\n",
      "<Response [200]>\n",
      "<Response [200]>\n",
      "<Response [200]>\n",
      "<Response [200]>\n",
      "<Response [200]>\n",
      "<Response [200]>\n",
      "<Response [200]>\n",
      "<Response [200]>\n",
      "<Response [200]>\n",
      "<Response [200]>\n",
      "<Response [200]>\n",
      "<Response [200]>\n",
      "<Response [200]>\n",
      "<Response [200]>\n",
      "<Response [200]>\n",
      "<Response [200]>\n",
      "<Response [200]>\n",
      "<Response [200]>\n",
      "<Response [200]>\n",
      "<Response [200]>\n",
      "<Response [200]>\n",
      "<Response [200]>\n",
      "<Response [200]>\n",
      "<Response [200]>\n",
      "<Response [200]>\n",
      "<Response [200]>\n",
      "<Response [200]>\n",
      "<Response [200]>\n",
      "<Response [200]>\n",
      "<Response [200]>\n",
      "<Response [200]>\n",
      "<Response [200]>\n",
      "<Response [200]>\n",
      "<Response [200]>\n",
      "<Response [200]>\n",
      "<Response [200]>\n",
      "<Response [200]>\n",
      "<Response [200]>\n",
      "<Response [200]>\n",
      "<Response [200]>\n",
      "<Response [200]>\n",
      "<Response [200]>\n",
      "<Response [200]>\n",
      "<Response [200]>\n",
      "<Response [200]>\n",
      "<Response [200]>\n",
      "<Response [200]>\n",
      "<Response [200]>\n",
      "<Response [200]>\n",
      "<Response [200]>\n",
      "<Response [200]>\n",
      "<Response [200]>\n",
      "<Response [200]>\n",
      "<Response [200]>\n",
      "<Response [200]>\n",
      "<Response [200]>\n",
      "<Response [200]>\n",
      "<Response [200]>\n",
      "<Response [200]>\n",
      "<Response [200]>\n",
      "<Response [200]>\n",
      "<Response [200]>\n",
      "<Response [200]>\n",
      "<Response [200]>\n",
      "<Response [200]>\n",
      "<Response [200]>\n",
      "<Response [200]>\n",
      "<Response [200]>\n",
      "<Response [200]>\n",
      "<Response [200]>\n",
      "<Response [200]>\n",
      "<Response [200]>\n",
      "<Response [200]>\n",
      "<Response [200]>\n",
      "<Response [200]>\n",
      "<Response [200]>\n",
      "<Response [200]>\n",
      "<Response [200]>\n",
      "<Response [200]>\n",
      "<Response [200]>\n",
      "<Response [200]>\n",
      "<Response [200]>\n",
      "<Response [200]>\n",
      "<Response [200]>\n",
      "<Response [200]>\n",
      "<Response [200]>\n",
      "<Response [200]>\n",
      "<Response [200]>\n",
      "<Response [200]>\n",
      "<Response [200]>\n",
      "<Response [200]>\n",
      "<Response [200]>\n",
      "<Response [200]>\n",
      "<Response [200]>\n",
      "<Response [200]>\n",
      "<Response [200]>\n",
      "<Response [200]>\n",
      "<Response [200]>\n",
      "<Response [200]>\n",
      "<Response [200]>\n",
      "<Response [200]>\n",
      "<Response [200]>\n",
      "<Response [200]>\n",
      "<Response [200]>\n",
      "<Response [200]>\n",
      "<Response [200]>\n",
      "<Response [200]>\n",
      "<Response [200]>\n",
      "<Response [200]>\n",
      "<Response [200]>\n",
      "<Response [200]>\n",
      "<Response [200]>\n",
      "<Response [200]>\n",
      "<Response [200]>\n",
      "<Response [200]>\n",
      "<Response [200]>\n",
      "<Response [200]>\n",
      "<Response [200]>\n",
      "<Response [200]>\n",
      "<Response [200]>\n",
      "<Response [200]>\n",
      "<Response [200]>\n",
      "<Response [200]>\n",
      "<Response [200]>\n",
      "<Response [200]>\n",
      "<Response [200]>\n",
      "<Response [200]>\n",
      "<Response [200]>\n",
      "<Response [200]>\n",
      "<Response [200]>\n",
      "<Response [200]>\n",
      "<Response [200]>\n",
      "<Response [200]>\n",
      "<Response [200]>\n",
      "<Response [200]>\n",
      "<Response [200]>\n",
      "<Response [200]>\n",
      "<Response [200]>\n",
      "<Response [200]>\n",
      "<Response [200]>\n",
      "<Response [200]>\n",
      "<Response [200]>\n",
      "<Response [200]>\n",
      "<Response [200]>\n",
      "<Response [200]>\n",
      "<Response [200]>\n",
      "<Response [200]>\n",
      "<Response [200]>\n",
      "<Response [200]>\n",
      "<Response [200]>\n",
      "<Response [200]>\n",
      "<Response [200]>\n",
      "<Response [200]>\n",
      "<Response [200]>\n",
      "<Response [200]>\n",
      "<Response [200]>\n",
      "<Response [200]>\n",
      "<Response [200]>\n",
      "<Response [200]>\n",
      "<Response [200]>\n",
      "<Response [200]>\n"
     ]
    }
   ],
   "source": [
    "# Download page of each climb\n",
    "\n",
    "df.insert(df.columns.get_loc('Pitches')+1,'Listed Pitches','')\n",
    "df.insert(len(df.columns),'re mainpage','')\n",
    "df.insert(len(df.columns),'re statpage','')\n",
    "\n",
    "def insert_str_to_address(url, insert_phrase):\n",
    "    str_list = url.split('/')\n",
    "    str_list.insert(4, insert_phrase)\n",
    "    return '/'.join(str_list)\n",
    "\n",
    "def page_download(url):\n",
    "    try:\n",
    "        res = requests.get(url, timeout=10)\n",
    "    except Exception as e:\n",
    "        print(e)\n",
    "    print(res)\n",
    "    return res\n",
    "\n",
    "df['re mainpage'] = df['URL'].apply(lambda x: page_download(x))\n",
    "df['re statpage'] = df['URL'].apply(lambda x: page_download(insert_str_to_address(x, 'stats')))\n",
    "\n",
    "#TODO consider applying this function only to unique row IDs to speed it up, then simply copy and paste it among repeats."
   ]
  },
  {
   "cell_type": "code",
   "execution_count": 27,
   "metadata": {},
   "outputs": [],
   "source": [
    "# Let's analyze the mainpage for listed default pitch lengths. This is not included in the tick export but is helpful in determining user tick methodology\n",
    "\n",
    "def get_pitches(res):\n",
    "    soup = BeautifulSoup(res.text, 'html.parser')\n",
    "    route_type_text = str(soup.find(class_=\"description-details\").find_all('td')[1])\n",
    "    pitch_search = re.search(r'\\d+ pitches',route_type_text)\n",
    "    if str(type(pitch_search)) == \"<class 'NoneType'>\":\n",
    "        num_pitches = 1\n",
    "    else:\n",
    "        num_pitches = pitch_search.group(0).split(' ')[0]\n",
    "    return int(num_pitches)\n",
    "\n",
    "df['Listed Pitches'] = df['re mainpage'].apply(lambda x: get_pitches(x))\n"
   ]
  },
  {
   "cell_type": "code",
   "execution_count": 361,
   "metadata": {},
   "outputs": [],
   "source": [
    "# Let's save the now scraped dataframe to a pickle file\n",
    "df.to_pickle('df_archive_base')"
   ]
  },
  {
   "cell_type": "code",
   "execution_count": 362,
   "metadata": {},
   "outputs": [],
   "source": [
    "# To load the new pickle file\n",
    "picklefile = open('df_archive_base', 'rb')\n",
    "df = pickle.load(picklefile)"
   ]
  },
  {
   "cell_type": "code",
   "execution_count": 363,
   "metadata": {},
   "outputs": [
    {
     "name": "stdout",
     "output_type": "stream",
     "text": [
      "Please select one of: roped, sport, trad, boulder\n",
      "'roped.' is not a valid choice.\n",
      "Please select one of: roped, sport, trad, boulder\n",
      "Select a minimum grade to include (blank includes all):\n"
     ]
    }
   ],
   "source": [
    "# The first choice is what type of climbing to analyze.\n",
    "\n",
    "choices = [\"roped\", \"sport\", \"trad\", 'boulder']\n",
    "route_type_selection = pyip.inputChoice(choices)\n",
    "if route_type_selection == choices[0]:\n",
    "    df = df[(df['Route Type'] == 'sport') | (df['Route Type'] == 'trad')]\n",
    "if route_type_selection == choices[1]:\n",
    "    df = df[df['Route Type'] == 'sport']\n",
    "if route_type_selection == choices[2]:\n",
    "    df = df[df['Route Type'] == 'trad']\n",
    "if route_type_selection == choices[3]:\n",
    "    df = df[df['Route Type'] == 'boulder']\n",
    "\n",
    "# Then ask if the user would like to ignore climbs below a certain grade\n",
    "min_grade_included = pyip.inputChoice(prompt='Select a minimum grade to include (blank includes all):\\n', choices=YDS_GRADES_LETTER, blank=True)\n",
    "if min_grade_included != '':\n",
    "    if route_type_selection == 'roped' or 'sport' or 'trad':\n",
    "        df = df[df['Rating'].isin(YDS_GRADES_FULL[YDS_GRADES_FULL.index(min_grade_included):])] # the : here is key, it makes it so that it includes all grades above the min included.\n",
    "    if route_type_selection == 'boulder':\n",
    "        df = df[df['Rating'].isin(V_GRADES_FULL[V_GRADES_FULL.index(min_grade_included):])]"
   ]
  },
  {
   "cell_type": "code",
   "execution_count": null,
   "metadata": {},
   "outputs": [],
   "source": [
    "# Handle route length outliers\n",
    "if route_type_selection == 'boulder':\n",
    "    MIN_LENGTH = 0\n",
    "    MAX_LENGTH = 55 #\"Too Tall to Fall\" is 50'\n",
    "\n",
    "if route_type_selection == 'roped' or 'sport' or 'trad':\n",
    "    MIN_LENGTH = 25\n",
    "    MAX_LENGTH = 4500 #Trango towers are 4,300' tall\n",
    "\n",
    "length_outliers = df[(df['Length'] <= MIN_LENGTH) | (df['Length'] >= MAX_LENGTH)]\n",
    "for loop_count, (index, data) in enumerate(length_outliers.iterrows()):\n",
    "    updated_length = pyip.inputNum(f\"[{loop_count+1}/{length_outliers.shape[0]}] Input Correct Length for Route: {data['Route']} (Currently {data['Length']}ft):\\n\", min=MIN_LENGTH, max=MAX_LENGTH)\n",
    "    df.at[index, 'Length'] = updated_length\n",
    "\n",
    "# Fill empty route lengths\n",
    "length_missing = df[df['Length'].isnull()]\n",
    "for loop_count, (index, data) in enumerate(length_missing.iterrows()):\n",
    "    updated_length = pyip.inputNum(f\"[{loop_count+1}/{length_missing.shape[0]}] Input Estimated Length for Route: {data['Route']}:\\n\", min=MIN_LENGTH, max=MAX_LENGTH)\n",
    "    df.at[index, 'Length'] = updated_length\n",
    "\n",
    "#TODO allow user to select \"assign median height from area\""
   ]
  },
  {
   "cell_type": "code",
   "execution_count": 364,
   "metadata": {},
   "outputs": [
    {
     "name": "stdout",
     "output_type": "stream",
     "text": [
      "Please select one of: round down, round up, round evenly by random, hand determine\n",
      "'roudn evenly by random' is not a valid choice.\n",
      "Please select one of: round down, round up, round evenly by random, hand determine\n"
     ]
    }
   ],
   "source": [
    "if route_type_selection == \"roped\" or \"sport\" or \"trad\":\n",
    "    #Ask user if they would prefer to round down, round up, round even by random, or hand-determine\n",
    "    grademoderatemap = {'5.6-': '5.6', '5.6+': '5.6', '5.7-': '5.7', '5.7+': '5.7', '5.8-': '5.8', '5.8+': '5.8', '5.9-': '5.9', '5.9+': '5.9'}\n",
    "    gradedownmap = {'5.10a/b': '5.10a', '5.10-': '5.10a', '5.10b/c': '5.10b', '5.10': '5.10b', '5.10c/d': '5.10c', '5.10+': '5.10c',\n",
    "                '5.11a/b': '5.11a', '5.11-': '5.11a', '5.11b/c': '5.11b', '5.11': '5.11b', '5.11c/d': '5.11c', '5.11+': '5.11c',\n",
    "                '5.12a/b': '5.12a', '5.12-': '5.12a', '5.12b/c': '5.12b', '5.12': '5.12b', '5.12c/d': '5.12c', '5.12+': '5.12c',\n",
    "                '5.13a/b': '5.13a', '5.13-': '5.13a', '5.13b/c': '5.13b', '5.13': '5.13b', '5.13c/d': '5.13c', '5.13+': '5.13c',\n",
    "                '5.14a/b': '5.14a', '5.14-': '5.14a', '5.14b/c': '5.14b', '5.14': '5.14b', '5.14c/d': '5.14c', '5.14+': '5.14c',\n",
    "                '5.15a/b': '5.15a', '5.15-': '5.15a', '5.15b/c': '5.15b', '5.15': '5.15b', '5.15c/d': '5.15c', '5.15+': '5.15c',\n",
    "    }\n",
    "    gradeupmap = {'5.10a/b': '5.10b', '5.10-': '5.10b', '5.10b/c': '5.10c', '5.10': '5.10c', '5.10c/d': '5.10d', '5.10+': '5.10d',\n",
    "                '5.11a/b': '5.11b', '5.11-': '5.11b', '5.11b/c': '5.11c', '5.11': '5.11c', '5.11c/d': '5.11d', '5.11+': '5.11d',\n",
    "                '5.12a/b': '5.12b', '5.12-': '5.12b', '5.12b/c': '5.12c', '5.12': '5.12c', '5.12c/d': '5.12d', '5.12+': '5.12d',\n",
    "                '5.13a/b': '5.13b', '5.13-': '5.13b', '5.13b/c': '5.13c', '5.13': '5.13c', '5.13c/d': '5.13d', '5.13+': '5.13d',\n",
    "                '5.14a/b': '5.14b', '5.14-': '5.14b', '5.14b/c': '5.14c', '5.14': '5.14c', '5.14c/d': '5.14d', '5.14+': '5.14d',\n",
    "                '5.15a/b': '5.15b', '5.15-': '5.15b', '5.15b/c': '5.15c', '5.15': '5.15c', '5.15c/d': '5.15d', '5.15+': '5.15d',\n",
    "    }\n",
    "\n",
    "    grade_homo_choice = ['round down', 'round up', 'round evenly by random', 'hand determine']\n",
    "    resp = pyip.inputChoice(grade_homo_choice)\n",
    "\n",
    "    def grademoderate():\n",
    "        grade_change_subset = df['Rating'].isin(list(grademoderatemap.keys()))\n",
    "        df.loc[grade_change_subset, 'Rating'] = df[grade_change_subset]['Rating'].map(grademoderatemap)\n",
    "\n",
    "    def grade_split(upmap, downmap):\n",
    "        grade_change_subset = df['Rating'].isin(list(upmap.keys()))\n",
    "        grade_change_subset_df = df[grade_change_subset]\n",
    "        for grade in grade_change_subset_df['Rating'].unique():\n",
    "            to_change = grade_change_subset_df[grade_change_subset_df['Rating'] == grade]\n",
    "            changed_up = to_change.sample(frac=0.5)['Rating'].map(upmap)\n",
    "            df.loc[changed_up.index, 'Rating'] = changed_up\n",
    "        grade_change_subset = df['Rating'].isin(list(downmap.keys()))\n",
    "        grade_change_subset_df = df[grade_change_subset]\n",
    "        for grade in grade_change_subset_df['Rating'].unique():\n",
    "            to_change = grade_change_subset_df[grade_change_subset_df['Rating'] == grade]\n",
    "            changed_down = to_change['Rating'].map(downmap)\n",
    "            df.loc[changed_down.index, 'Rating'] = changed_down\n",
    "\n",
    "    if resp == grade_homo_choice[0]:\n",
    "        grademoderate()\n",
    "        grade_change_subset = df['Rating'].isin(list(gradedownmap.keys()))\n",
    "        df.loc[grade_change_subset, 'Rating'] = df[grade_change_subset]['Rating'].map(gradedownmap)\n",
    "    if resp == grade_homo_choice[1]:\n",
    "        grademoderate()\n",
    "        grade_change_subset = df['Rating'].isin(list(gradeupmap.keys()))\n",
    "        df.loc[grade_change_subset, 'Rating'] = df[grade_change_subset]['Rating'].map(gradeupmap)\n",
    "    if resp == grade_homo_choice[2]:\n",
    "        grademoderate()\n",
    "        grade_split(gradeupmap,gradedownmap)\n",
    "    if resp == grade_homo_choice[3]:\n",
    "        needs_grade_corr = df[df['Rating'].isin(list(grademoderatemap.keys()) + list(gradedownmap.keys()))]\n",
    "        for loop_count, (index, data) in enumerate(needs_grade_corr.iterrows()):\n",
    "            updated_grade = pyip.inputChoice(prompt=f\"[{loop_count+1}/{needs_grade_corr.shape[0]}] Input Grade Correction For: {data['Route'].title()}:\\n\", choices=YDS_GRADES_LETTER)\n",
    "            df.at[index, 'Rating'] = updated_grade\n",
    "\n",
    "if route_type_selection == \"Bouldering\":\n",
    "    gradedownmap = {'v0-1': 'v0', 'v1-2': 'v1', 'v2-3': 'v2', 'v3-4': 'v3', 'v4-5': 'v4', 'v5-6': 'v5', 'v6-7': 'v6', 'v7-8': 'v7', 'v8-9': 'v8', 'v9-10': 'v9', 'v10-11': 'v10', 'v11-12': 'v11', 'v12-13': 'v12', 'v13-14': 'v13', 'v14-15': 'v14', 'v15-16':'v15', 'v16-17': 'v16'}\n",
    "    gradeupmap = {'v0-1': 'v1', 'v1-2': 'v2', 'v2-3': 'v3', 'v3-4': 'v4', 'v4-5': 'v5', 'v5-6': 'v6', 'v6-7': 'v7', 'v7-8': 'v8', 'v8-9': 'v9', 'v9-10': 'v10', 'v10-11': 'v11', 'v11-12': 'v12', 'v12-13': 'v13', 'v13-14': 'v14', 'v14-15': 'v15', 'v15-16':'v16', 'v16-17': 'v17'}\n",
    "    gradeconmap = {'v0-': 'v0', 'v0+': 'v0', 'v1-': 'v1', 'v1+': 'v1', 'v2-': 'v2', 'v2+': 'v2', 'v3-': 'v3', 'v3+': 'v3', 'v4-': 'v4', 'v4+': 'v4', 'v5-': 'v5', 'v5+': 'v5', 'v6-': 'v6', 'v6+': 'v6', 'v7-': 'v7', 'v7+': 'v7', 'v8-': 'v8', 'v8+': 'v8', \n",
    "                    'v9-': 'v9', 'v9+': 'v9', 'v10-': 'v10', 'v10+': 'v10', 'v11-': 'v11', 'v11+': 'v11', 'v12-': 'v12', 'v12+': 'v12', 'v13-': 'v13', 'v13+': 'v13', 'v14-': 'v14', 'v14+': 'v14', 'v15-': 'v15', 'v15+': 'v15', 'v16-': 'v16', 'v16+': 'v16', 'v17-': 'v17', 'v17+': 'v17'}\n",
    "    \n",
    "    # Remove all + and - grades\n",
    "    grade_change_subset = df['Rating'].isin(list(gradeconmap.keys()))\n",
    "    df.loc[grade_change_subset, 'Rating'] = df[grade_change_subset]['Rating'].map(gradeconmap)\n",
    "    \n",
    "    grade_homo_choice = ['round down', 'round up', 'round evenly by random', 'hand determine']\n",
    "    resp = pyip.inputChoice(grade_homo_choice)\n",
    "    \n",
    "    if resp == grade_homo_choice[0]:\n",
    "        grade_change_subset = df['Rating'].isin(list(gradedownmap.keys()))\n",
    "        df.loc[grade_change_subset, 'Rating'] = df[grade_change_subset]['Rating'].map(gradedownmap)\n",
    "    if resp == grade_homo_choice[1]:\n",
    "        grade_change_subset = df['Rating'].isin(list(gradeupmap.keys()))\n",
    "        df.loc[grade_change_subset, 'Rating'] = df[grade_change_subset]['Rating'].map(gradeupmap)\n",
    "    if resp == grade_homo_choice[2]:\n",
    "        grade_split(gradeupmap,gradedownmap)\n",
    "    if resp == grade_homo_choice[3]:\n",
    "        needs_grade_corr = df[df['Rating'].isin(list(grademoderatemap.keys()) + list(gradedownmap.keys()))]\n",
    "        for loop_count, (index, data) in enumerate(needs_grade_corr.iterrows()):\n",
    "            updated_grade = pyip.inputChoice(prompt=f\"[{loop_count+1}/{needs_grade_corr.shape[0]}] Input Grade Correction For: {data['Route'].title()}:\\n\", choices=V_GRADES_BASIC)\n",
    "            df.at[index, 'Rating'] = updated_grade"
   ]
  },
  {
   "cell_type": "code",
   "execution_count": 154,
   "metadata": {},
   "outputs": [],
   "source": [
    "df.to_pickle('df_archive')"
   ]
  },
  {
   "cell_type": "code",
   "execution_count": 155,
   "metadata": {},
   "outputs": [],
   "source": [
    "# To load the new pickle file\n",
    "picklefile = open('df_archive', 'rb')\n",
    "df = pickle.load(picklefile)"
   ]
  },
  {
   "cell_type": "code",
   "execution_count": null,
   "metadata": {},
   "outputs": [],
   "source": [
    "# multiple pitch climbs ticked as single pitches are either part of a linkup, first pitch only, or combined into a single pitch. If they are combined into a single pitch we want to ask for grade adjustment\n",
    "subset = df[(df['Pitches'] == 1) & (df['Listed Pitches'] > 1)]\n",
    "for loop_count, (index, data) in enumerate(subset.iterrows()):\n",
    "            updated_grade = pyip.inputChoice(prompt=f\"[{loop_count+1}/{subset.shape[0]}] Input Grade Correction For: {data['Route'].title()}:\\n\", choices=YDS_GRADES_LETTER)\n",
    "            df.at[index, 'Rating'] = updated_grade"
   ]
  },
  {
   "cell_type": "code",
   "execution_count": 32,
   "metadata": {},
   "outputs": [],
   "source": [
    "# redpoint ticks with 1x pitch attempt and no prior fell/hung ticks need further data on previous attempts\n",
    "subset = df[(df['Lead Style'].isin(CLEAN_SEND_WORKED)) & ((df['Pitches'] == 1) | ~df.duplicated('Route'))]\n",
    "for loop_count, (index, data) in enumerate(subset.iterrows()):\n",
    "            updated_attempts = pyip.inputnum(prompt=f\"[{loop_count+1}/{subset.shape[0]}] : Redpoint without prior attempt data, please input number of failed attempts on {data['Route'].title()}:\\n\", min=1)\n",
    "            df.at[index, 'Pitches'] = updated_attempts + 1"
   ]
  },
  {
   "cell_type": "code",
   "execution_count": 278,
   "metadata": {},
   "outputs": [
    {
     "data": {
      "text/plain": [
       "0       True\n",
       "1      False\n",
       "2       True\n",
       "3       True\n",
       "7       True\n",
       "       ...  \n",
       "712     True\n",
       "728     True\n",
       "730    False\n",
       "731     True\n",
       "732     True\n",
       "Length: 644, dtype: bool"
      ]
     },
     "execution_count": 278,
     "metadata": {},
     "output_type": "execute_result"
    }
   ],
   "source": [
    "# The \"right\" way to tick multiple attempts on a single pitch route is to tick a fell/hung for each attempt. Some people may instead tick a fell/hung with multiple pitches for multiple attempts. Someone who sends something first day but in multiple tries\n",
    "# might also tick a redpoint with multiple pitches to include their attempts leading to that redpoint.\n",
    "\n",
    "# single pitch climbs ticked as multiple pitches\n",
    "# \tTR or follow -> break into multiple same day TR\n",
    "# \tLead\n",
    "# \t\tfell/hung -> break into multiple same day fell/hung\n",
    "# \t\tredpoint or pinkpoint -> N-1 fell hung and transform current into 1 pitch\n",
    "# \t\tflash or onsight -> likely a mistake, change to 1 pitch\n",
    "\n",
    "#TODO these just find the subset so far, still need to perform the action listed above.\n",
    "df[(df['Listed Pitches'] == 1) & (df['Pitches'] > df['Listed Pitches']) & (df['Style'].isin(['tr', 'follow']))]\n",
    "df[(df['Listed Pitches'] == 1) & (df['Pitches'] > df['Listed Pitches']) & (df['Style'] == 'lead') & (df['Lead Style'] == 'fell/hung')]\n",
    "df[(df['Listed Pitches'] == 1) & (df['Pitches'] > df['Listed Pitches']) & (df['Style'] == 'lead') & (df['Lead Style'].isin(CLEAN_SEND_WORKED))]\n",
    "df[(df['Listed Pitches'] == 1) & (df['Pitches'] > df['Listed Pitches']) & (df['Style'] == 'lead') & (df['Lead Style'].isin(CLEAN_SEND_FIRST))]"
   ]
  },
  {
   "cell_type": "code",
   "execution_count": null,
   "metadata": {},
   "outputs": [],
   "source": [
    "df[df['Pitches'] > 1]"
   ]
  },
  {
   "cell_type": "code",
   "execution_count": null,
   "metadata": {},
   "outputs": [],
   "source": [
    "# We want to tag important climbs, namely flash/onsights, worked clean routes and grade breakthroughs.\n",
    "\n",
    "# Tag climbs that were flash/onsight\n",
    "df.loc[df['Lead Style'].isin(CLEAN_SEND_FIRST), 'Flash/Onsight'] = True\n",
    "\n",
    "# Create column that flags climbs that were worked. There are three possibilities to consider. We want 1 and 2.\n",
    "# 1. Worked to clean send, no further sends.\n",
    "# 2. Worked to clean send, additional attempts.\n",
    "# 3. Sent clean first try, additional attempts.\n",
    "df_no_dupe = df[df.duplicated(subset=\"Route ID\", keep=False)] # First we filter for all duplicate entries.\n",
    "df_all_worked = df_no_dupe.groupby('Route ID').filter(lambda x: ~x['Lead Style'].isin(CLEAN_SEND_FIRST).any()) # Then we remove all groups which have a lead style of flash or onsight to eliminate group 3.\n",
    "df_worked_sub1 = df_all_worked[df_all_worked.groupby('Route ID')['Lead Style'].apply(lambda x: x.isin(CLEAN_SEND_WORKED))] # fell/hungs and TRs remain, so we take ticks from CLEAN_SEND_WORKED.\n",
    "df_worked_sub2 = df_worked_sub1.loc[df_worked_sub1.groupby('Route ID')['Date'].idxmin()] # Use only the earliest redpoint to correctly identify the first redpoint.\n",
    "df.loc[df_worked_sub2.index.values, \"Worked Clean\"] = True\n",
    "\n",
    "# Flag grade breakthrough ticks\n",
    "dfbreakthr = df[(df['Flash/Onsight'] == True) | (df['Worked Clean'] == True)]\n",
    "breakthrough_indexes = dfbreakthr.groupby('Rating')['Date'].idxmin().values\n",
    "df.loc[breakthrough_indexes, \"Grade Breakthrough\"] = True\n",
    "df.loc[breakthrough_indexes]\n",
    "\n",
    "# Count number of attempts to send\n",
    "# Ignores multipitch\n",
    "# This counts clean ticks with multiple pitches as total attempts. It also counts fell/hung, and TR with multiple pitches as multitple attempts.\n",
    "# !!! This will falsely identify a single pitch climb broken into multiple pitches as two attempts, there isn't really a good way to detect this.\n",
    "df_all_worked_sp_only = df_all_worked[df_all_worked['Listed Pitches'] == 1]\n",
    "num_to_send = df_all_worked_sp_only.groupby('Route ID')['Pitches'].sum()\n",
    "matched_attempts = df[df['Worked Clean'] == True].merge(num_to_send, on=\"Route ID\", how=\"left\")\n",
    "matched_attempts.index = df[df['Worked Clean'] == True].index # I'm dumb and this is the best way I could find to get my index to remain\n",
    "df.loc[matched_attempts.index, \"Attempts\"] = matched_attempts.iloc[:,-1]"
   ]
  },
  {
   "cell_type": "code",
   "execution_count": 101,
   "metadata": {},
   "outputs": [
    {
     "name": "stderr",
     "output_type": "stream",
     "text": [
      "C:\\Users\\Brayden\\AppData\\Local\\Temp\\ipykernel_9896\\844878547.py:2: SettingWithCopyWarning:\n",
      "\n",
      "\n",
      "A value is trying to be set on a copy of a slice from a DataFrame.\n",
      "Try using .loc[row_indexer,col_indexer] = value instead\n",
      "\n",
      "See the caveats in the documentation: https://pandas.pydata.org/pandas-docs/stable/user_guide/indexing.html#returning-a-view-versus-a-copy\n",
      "\n",
      "C:\\Users\\Brayden\\AppData\\Local\\Temp\\ipykernel_9896\\844878547.py:3: SettingWithCopyWarning:\n",
      "\n",
      "\n",
      "A value is trying to be set on a copy of a slice from a DataFrame.\n",
      "Try using .loc[row_indexer,col_indexer] = value instead\n",
      "\n",
      "See the caveats in the documentation: https://pandas.pydata.org/pandas-docs/stable/user_guide/indexing.html#returning-a-view-versus-a-copy\n",
      "\n"
     ]
    },
    {
     "data": {
      "application/vnd.plotly.v1+json": {
       "config": {
        "plotlyServerURL": "https://plot.ly"
       },
       "data": [
        {
         "alignmentgroup": "True",
         "customdata": [
          [
           "Big Guy",
           "2022-11-25",
           "Indian Creek > Scarface",
           120,
           3.9
          ],
          [
           "Unnamed Offwidth",
           "2022-11-24",
           "Indian Creek > South Sixshooter",
           70,
           3
          ],
          [
           "South Face Angling Crack?",
           "2022-11-24",
           "Indian Creek > South Sixshooter",
           90,
           3
          ],
          [
           "Lonely Vigil",
           "2022-11-20",
           "River Road > Lighthouse Tower",
           350,
           3.5
          ],
          [
           "Chasin' Skirt",
           "2022-11-19",
           "Long Canyon > Deadman'S Buttress",
           150,
           3.3
          ],
          [
           "Chopper",
           "2022-11-19",
           "Long Canyon > Deadman'S Buttress",
           190,
           3.6
          ],
          [
           "Program Director",
           "2022-11-19",
           "Long Canyon > Deadman'S Buttress",
           190,
           3.5
          ],
          [
           "Urban Struggle",
           "2022-11-05",
           "Malibu Creek State Park > Ghetto Wall",
           50,
           3.4
          ],
          [
           "Directpissima",
           "2022-11-05",
           "Malibu Creek State Park > Ghetto Wall",
           50,
           2.4
          ],
          [
           "Unnamed",
           "2022-11-05",
           "Malibu Creek State Park > Ghetto Wall",
           45,
           2.4
          ],
          [
           "Three Fools Aka Kelley Route 32",
           "2022-10-21",
           "Indian Creek > Reservoir Wall",
           60,
           2.5
          ],
          [
           "Blue Sky Mining",
           "2022-10-20",
           "Indian Creek > Broken Tooth",
           50,
           2.4
          ],
          [
           "Unnamed Classic Hand Crack Aka Gold Crown",
           "2022-10-20",
           "Indian Creek > Broken Tooth",
           120,
           3.7
          ],
          [
           "Rock Lobster",
           "2022-10-20",
           "Indian Creek > Broken Tooth",
           115,
           3.8
          ],
          [
           "The Mayes",
           "2022-10-17",
           "Indian Creek > Battle Of The Bulge Buttress",
           50,
           2.4
          ],
          [
           "Think Pink",
           "2022-10-17",
           "Indian Creek > Battle Of The Bulge Buttress",
           null,
           3.4
          ],
          [
           "Crack Attack",
           "2022-10-17",
           "Indian Creek > Battle Of The Bulge Buttress",
           null,
           3.7
          ],
          [
           "Desire",
           "2022-10-15",
           "Indian Creek > Way Rambo",
           95,
           2.8
          ],
          [
           "Fuzz",
           "2022-10-15",
           "Indian Creek > Way Rambo",
           115,
           3.3
          ],
          [
           "Pocket Rocket",
           "2022-10-14",
           "Day Canyon > Day Canyon Cragging Routes",
           65,
           3.5
          ],
          [
           "Brush Painted Datsun",
           "2022-10-14",
           "Day Canyon > Day Canyon Cragging Routes",
           70,
           3.6
          ],
          [
           "Boognish Tower",
           "2022-10-14",
           "Day Canyon > Boognish Tower",
           120,
           3.4
          ],
          [
           "Makunaima",
           "2022-10-08",
           "Cold Springs Dome > Makunaima Amphitheater",
           90,
           3.9
          ],
          [
           "Anasazi",
           "2022-10-08",
           "Cold Springs Dome > Makunaima Amphitheater",
           50,
           3
          ],
          [
           "The Consolation Direct",
           "2022-10-01",
           "Tahquitz Rock > (D) Northwest Recess",
           800,
           3.3
          ],
          [
           "Daximus",
           "2022-08-20",
           "Cold Springs Dome > Makunaima Amphitheater",
           90,
           3.4
          ],
          [
           "Rites Of Spring",
           "2022-07-22",
           "Scheelite Canyon / Pratt'S Crack Gully > Armando'S Stilletto / Rites Of Spring",
           400,
           3.5
          ],
          [
           "Baby Scorpions",
           "2022-07-17",
           "Cold Springs Dome > Makunaima Amphitheater",
           70,
           2.6
          ],
          [
           "Anasazi",
           "2022-07-17",
           "Cold Springs Dome > Makunaima Amphitheater",
           50,
           3
          ],
          [
           "The Dihedral Route",
           "2022-07-09",
           "02 - The Sawtooth Ridge > The Juggernaut",
           750,
           3.3
          ],
          [
           "Crimson Gem",
           "2022-07-08",
           "02 - The Sawtooth Ridge > The Juggernaut",
           750,
           3.6
          ],
          [
           "D.d.d.",
           "2022-07-06",
           "Horseshoe Piles > Spring Wall",
           90,
           3.6
          ],
          [
           "Reallyfivenineplus",
           "2022-07-06",
           "Horseshoe Piles > Spring Wall",
           80,
           3.1
          ],
          [
           "Fall Harvest",
           "2022-07-05",
           "Horseshoe Piles > Spring Wall",
           50,
           2.7
          ],
          [
           "Mongoloid",
           "2022-07-04",
           "Dike Wall > North Face",
           60,
           2.3
          ],
          [
           "Black Lassie",
           "2022-07-04",
           "Dike Wall > East Face",
           80,
           3.4
          ],
          [
           "Sideshow",
           "2022-07-02",
           "Rock Creek > Gong Show Wall",
           100,
           3.4
          ],
          [
           "He She",
           "2022-07-02",
           "Rock Creek > Gong Show Wall",
           130,
           3.6
          ],
          [
           "Economique",
           "2022-06-18",
           "Hwy 33/Ojai > Wheeler Gorge",
           80,
           3.1
          ],
          [
           "Blush",
           "2022-06-18",
           "Hwy 33/Ojai > Wheeler Gorge",
           60,
           2.8
          ],
          [
           "The Surprise",
           "2022-05-29",
           "Five Open Books > First Tier",
           400,
           3.1
          ],
          [
           "Werner's Ant Trees",
           "2022-05-29",
           "Five Open Books > First Tier",
           75,
           3.1
          ],
          [
           "Outer Limits",
           "2022-05-13",
           "Aj. Cookie Area > The Cookie Cliff",
           190,
           3.8
          ],
          [
           "Beverly's Tower",
           "2022-05-13",
           "Aj. Cookie Area > The Cookie Cliff",
           100,
           2.7
          ],
          [
           "No Man Knows The Hour",
           "2022-05-07",
           "Lower Mission Canyon / Seven Falls > Upper Theology Crag",
           110,
           2.8
          ],
          [
           "Chimps Ahoy",
           "2022-04-16",
           "Malibu Creek State Park > Stumbling Blocks",
           80,
           2.5
          ],
          [
           "Sons Of Yesterday",
           "2022-04-09",
           "Royal Arches > Western Royal Arches",
           600,
           3.9
          ],
          [
           "Serenity Crack",
           "2022-04-09",
           "Royal Arches > Western Royal Arches",
           350,
           3.8
          ],
          [
           "Have A Beer With Fear",
           "2022-03-13",
           "01-Calico Basin > Cannibal Crag",
           60,
           2.7
          ],
          [
           "What's Eating You",
           "2022-03-13",
           "01-Calico Basin > Cannibal Crag",
           60,
           2.2
          ],
          [
           "Caustic Cock",
           "2022-03-13",
           "01-Calico Basin > Cannibal Crag",
           40,
           3.4
          ],
          [
           "The Walker Spur",
           "2022-03-12",
           "Mescalito > East Face",
           550,
           3.3
          ],
          [
           "Small Purchase",
           "2022-03-12",
           "Magic Mountain > North Face",
           100,
           3.4
          ],
          [
           "Bone Saw",
           "2022-03-11",
           "16-Black Velvet Canyon > The Monument",
           55,
           2.5
          ],
          [
           "Handbone",
           "2022-03-11",
           "16-Black Velvet Canyon > The Monument",
           70,
           3.3
          ],
          [
           "The Gobbler",
           "2022-03-11",
           "16-Black Velvet Canyon > Black Velvet Wall",
           200,
           3.2
          ],
          [
           "Cockblock",
           "2022-02-05",
           "Malibu Creek State Park > Stumbling Blocks",
           40,
           2.5
          ],
          [
           "Skeezer Pleaser",
           "2022-02-05",
           "Malibu Creek State Park > Ghetto Wall",
           45,
           2.8
          ],
          [
           "Dick Pics",
           "2022-02-05",
           "Malibu Creek State Park > Mt. Gorgeous",
           50,
           2.6
          ],
          [
           "Johnny Can't Lead",
           "2022-02-05",
           "Malibu Creek State Park > Ghetto Wall",
           40,
           3.2
          ],
          [
           "The Third Degree",
           "2022-01-23",
           "Malibu Creek State Park > Stumbling Blocks",
           null,
           2.4
          ],
          [
           "Guerilla Drilla",
           "2022-01-23",
           "Malibu Creek State Park > Stumbling Blocks",
           null,
           2.4
          ],
          [
           "Gorgeous",
           "2022-01-23",
           "Malibu Creek State Park > Mt. Gorgeous",
           60,
           2.7
          ],
          [
           "Luscious",
           "2022-01-23",
           "Malibu Creek State Park > Mt. Gorgeous",
           60,
           3.1
          ],
          [
           "Rain Dance",
           "2022-01-15",
           "Whiskey Peak > North Face",
           130,
           2.8
          ],
          [
           "Run For Your Life",
           "2021-12-04",
           "Real Hidden Valley > Tumbling Rainbow Formation",
           90,
           3.7
          ],
          [
           "Illusion Dweller",
           "2021-12-04",
           "The Sentinel > The Sentinel - West Face",
           100,
           3.8
          ],
          [
           "Dancin' With A God",
           "2021-11-07",
           "Upper Level > Upper Level - Left",
           50,
           2.6
          ],
          [
           "Rebel Without A Pause",
           "2021-11-07",
           "Upper Level > Upper Level - Right",
           50,
           3
          ],
          [
           "Slot Machine",
           "2021-11-06",
           "Mescalito > Dark Shadows Wall",
           null,
           3.3
          ],
          [
           "Risky Business",
           "2021-11-06",
           "Mescalito > Dark Shadows Wall",
           400,
           3.8
          ],
          [
           "Sour Mash",
           "2021-11-05",
           "16-Black Velvet Canyon > Black Velvet Wall",
           600,
           3.6
          ],
          [
           "Bittersweet",
           "2021-10-30",
           "Echo Cliffs > Chocolate Wall",
           null,
           2.6
          ],
          [
           "Keyhole Flake",
           "2021-10-21",
           "Indian Creek > Supercrack Buttress",
           null,
           3.1
          ],
          [
           "Gorilla",
           "2021-10-21",
           "Indian Creek > Supercrack Buttress",
           null,
           3.1
          ],
          [
           "Bad Rad Duality",
           "2021-10-21",
           "Indian Creek > Supercrack Buttress",
           120,
           3.5
          ],
          [
           "Unnamed 38 - Wide To Fists And Kind Of Wavy",
           "2021-10-20",
           "Indian Creek > Reservoir Wall",
           65,
           2.8
          ],
          [
           "Ernie Used To Box",
           "2021-10-20",
           "Indian Creek > Reservoir Wall",
           100,
           3.8
          ],
          [
           "Warm-up Handcrack",
           "2021-10-20",
           "Indian Creek > Reservoir Wall",
           100,
           3.7
          ],
          [
           "Where's Carruthers?",
           "2021-10-18",
           "Indian Creek > Scarface",
           60,
           2.7
          ],
          [
           "Wavy Gravy",
           "2021-10-18",
           "Indian Creek > Scarface",
           70,
           3.2
          ],
          [
           "Divide And Conquer",
           "2021-10-17",
           "Indian Creek > Sparks Wall",
           100,
           3.1
          ],
          [
           "Go Sparky Go",
           "2021-10-17",
           "Indian Creek > Sparks Wall",
           70,
           3.4
          ],
          [
           "Jupiter Crack",
           "2021-10-17",
           "Indian Creek > Sparks Wall",
           130,
           3.9
          ],
          [
           "Purple Rain",
           "2021-10-16",
           "Indian Creek > Technicolor Wall",
           70,
           2.7
          ],
          [
           "On The Up And Up",
           "2021-10-16",
           "Indian Creek > Technicolor Wall",
           70,
           3.2
          ],
          [
           "Whale's Back",
           "2021-10-16",
           "Indian Creek > Technicolor Wall",
           120,
           3.7
          ],
          [
           "Salathe (pitch 1)",
           "2021-09-16",
           "Southwest Base > Moby Dick And Pterodactyl Terrace",
           160,
           3.8
          ],
          [
           "Americano",
           "2021-09-03",
           "Echo Cliffs > Java Wall",
           100,
           3
          ],
          [
           "Great Race",
           "2021-08-29",
           "Santa Barbara > San Ysidro",
           70,
           3
          ],
          [
           "Dark Star",
           "2021-08-21",
           "09 - Palisades & Surrounding Peaks > Temple Crag",
           2000,
           3.4
          ],
          [
           "V8 Crack",
           "2021-08-20",
           "Bishop Area > Cardinal Pinnacle",
           80,
           3.9
          ],
          [
           "Crack Kingdom",
           "2021-08-20",
           "Bishop Area > Cardinal Pinnacle",
           550,
           3.5
          ],
          [
           "Little Sheba",
           "2021-07-23",
           "Lamb Dome > West Face Of The Lamb",
           110,
           3.3
          ],
          [
           "Black Lassie",
           "2021-07-22",
           "Dike Wall > East Face",
           80,
           3.4
          ],
          [
           "Cromagnon",
           "2021-07-22",
           "Dike Wall > East Face",
           80,
           3.7
          ],
          [
           "Mongoloid",
           "2021-07-22",
           "Dike Wall > North Face",
           60,
           2.3
          ],
          [
           "Grim Reality",
           "2021-07-22",
           "Dike Wall > East Face",
           90,
           2.2
          ],
          [
           "Black Dihedral",
           "2021-07-20",
           "Dike Wall > East Face",
           70,
           3.4
          ],
          [
           "Direct Northwest Face",
           "2021-06-05",
           "Lembert Dome > Northwest Face",
           400,
           3.4
          ],
          [
           "Third Pillar, Regular Route",
           "2021-06-04",
           "Lee Vining Canyon / Tioga Road > Dana Plateau",
           800,
           3.8
          ],
          [
           "Faithful Friend",
           "2021-06-03",
           "Horseshoe Lake Area > Sunshine Wall",
           100,
           2.4
          ],
          [
           "Edgehog",
           "2021-06-03",
           "Horseshoe Lake Area > Sunshine Wall",
           100,
           2.4
          ],
          [
           "Kung Fu Fighter",
           "2021-05-13",
           "Mount Carmel Tunnel > Kung Fu Theater",
           450,
           3.6
          ],
          [
           "The Headache",
           "2021-05-13",
           "Mount Carmel Tunnel > Headache Area",
           380,
           3.9
          ],
          [
           "X Files",
           "2021-05-02",
           "Malibu Creek State Park > Stumbling Blocks",
           30,
           2.1
          ],
          [
           "Mr. Big",
           "2021-05-02",
           "Malibu Creek State Park > Stumbling Blocks",
           35,
           3.1
          ],
          [
           "The Fox",
           "2021-04-11",
           "01-Calico Basin > The Fox Area",
           150,
           3.9
          ],
          [
           "Unimpeachable Groping",
           "2021-04-09",
           "11-Juniper Canyon > Ginger Buttress",
           760,
           3.5
          ],
          [
           "Tea Bag",
           "2021-03-27",
           "Echo Cliffs > The Tea Room",
           85,
           3
          ],
          [
           "English Breakfast Tea",
           "2021-03-27",
           "Echo Cliffs > The Tea Room",
           80,
           2.5
          ],
          [
           "Darjeeling Extra Fancy",
           "2021-03-27",
           "Echo Cliffs > The Tea Room",
           85,
           2.6
          ],
          [
           "Irish Car Bomb",
           "2021-03-27",
           "Echo Cliffs > The Tea Room",
           80,
           2.6
          ],
          [
           "Casey At The Bat",
           "2021-03-27",
           "Echo Cliffs > Easy Street",
           100,
           3
          ],
          [
           "Too Proud To Ignore",
           "2021-03-21",
           "Upper Gorge > Dihedrals",
           40,
           2.6
          ],
          [
           "Slackjaw",
           "2021-03-21",
           "Upper Gorge > Dihedrals",
           80,
           2.8
          ],
          [
           "Life During Wartime",
           "2021-03-21",
           "Upper Gorge > Dihedrals",
           80,
           2.8
          ],
          [
           "Nirvana",
           "2021-03-14",
           "Central Gorge > Upper Crust",
           70,
           2.3
          ],
          [
           "Hardly Wallbanger",
           "2021-03-14",
           "Central Gorge > Pub Wall",
           90,
           3.6
          ],
          [
           "Spinal Fracture",
           "2021-03-09",
           "Central Gorge > Social Platform",
           null,
           3.2
          ],
          [
           "Glitter Gulch",
           "2021-02-28",
           "04-Second Pullout (Calico Ii) > Sweet Pain Wall",
           65,
           3.4
          ],
          [
           "Bring Out Your Dead",
           "2021-02-20",
           "Santa Barbara > Renaissance Crag",
           40,
           2.2
          ],
          [
           "Pirates On Horseback",
           "2021-02-13",
           "Alabama Hills North > The Shark'S Fin",
           50,
           2.5
          ],
          [
           "Espresso",
           "2021-02-10",
           "Echo Cliffs > Java Wall",
           90,
           3.2
          ],
          [
           "B-line",
           "2021-02-06",
           "Echo Cliffs > Left Flank",
           90,
           2.3
          ],
          [
           "Broken Glass",
           "2021-01-31",
           "Real Hidden Valley > Gateway Rock",
           60,
           2.4
          ],
          [
           "Bird On A Wire",
           "2021-01-30",
           "Lost Horse Wall > Lost Horse Wall - Right Side",
           330,
           3.3
          ],
          [
           "The Paw",
           "2021-01-30",
           "Little Hunk - Sw Face > Sw Face Right (Monkey Business Wall)",
           35,
           2
          ],
          [
           "Roofing Company",
           "2021-01-30",
           "Little Hunk - Sw Face > Sw Face Right (Monkey Business Wall)",
           50,
           2.2
          ],
          [
           "Mic's Master",
           "2021-01-17",
           "Wake Up Wall Area > The Wake-Up Wall",
           55,
           2.7
          ],
          [
           "The Last Drag",
           "2021-01-17",
           "Wake Up Wall Area > The Wake-Up Wall",
           50,
           2.4
          ],
          [
           "First Born",
           "2021-01-17",
           "Wake Up Wall Area > The Wake-Up Wall",
           65,
           1.9
          ],
          [
           "Spanky Spangler",
           "2021-01-17",
           "Wake Up Wall Area > The Wake-Up Wall",
           65,
           2.7
          ],
          [
           "Fall Of Vegas",
           "2021-01-17",
           "Wake Up Wall Area > The Wake-Up Wall",
           50,
           2.3
          ],
          [
           "Mushroom People",
           "2021-01-15",
           "10-Pine Creek Canyon > Brass Wall",
           100,
           3.4
          ],
          [
           "Delicious",
           "2020-12-12",
           "Malibu Creek State Park > Mt. Gorgeous",
           85,
           3
          ],
          [
           "Family Jewel",
           "2020-12-12",
           "Malibu Creek State Park > Mt. Gorgeous",
           50,
           2.9
          ],
          [
           "Stuart's Rig (aka Stu Boy)",
           "2020-12-05",
           "Hwy 33/Ojai > Wheeler Gorge",
           75,
           2.7
          ],
          [
           "Pigs In Space",
           "2020-11-22",
           "Indian Creek > Battle Of The Bulge Buttress",
           120,
           2.9
          ],
          [
           "Casey's Route",
           "2020-11-21",
           "Indian Creek > The Optimator",
           70,
           2.7
          ],
          [
           "Ditch 'em",
           "2020-11-21",
           "Indian Creek > The Optimator",
           50,
           2.6
          ],
          [
           "Lady Pillar",
           "2020-11-21",
           "Indian Creek > The Optimator",
           110,
           2.6
          ],
          [
           "Hayutake",
           "2020-11-21",
           "Indian Creek > The Optimator",
           120,
           3.2
          ],
          [
           "Neat",
           "2020-11-21",
           "Indian Creek > The Optimator",
           100,
           3.2
          ],
          [
           "Dirty Woman",
           "2020-11-20",
           "Indian Creek > The Wall",
           35,
           2.1
          ],
          [
           "Freebird",
           "2020-11-20",
           "Indian Creek > The Wall",
           60,
           3.1
          ],
          [
           "Run Like Hell",
           "2020-11-20",
           "Indian Creek > The Wall",
           70,
           3.5
          ],
          [
           "3am Crack",
           "2020-11-19",
           "Indian Creek > Supercrack Buttress",
           115,
           3.5
          ],
          [
           "Princess Buttercup",
           "2020-11-18",
           "Indian Creek > Cliffs Of Insanity",
           70,
           3
          ],
          [
           "Iocane Powder",
           "2020-11-18",
           "Indian Creek > Cliffs Of Insanity",
           35,
           2.5
          ],
          [
           "Blue Sun",
           "2020-11-15",
           "Indian Creek > Way Rambo",
           70,
           3.6
          ],
          [
           "Elephant Man",
           "2020-11-14",
           "Indian Creek > Donnelly Canyon",
           80,
           2.5
          ],
          [
           "Owl Crack",
           "2020-11-14",
           "Indian Creek > Donnelly Canyon",
           80,
           3.1
          ],
          [
           "Idiot Parade (aka Need To Rest)",
           "2020-10-18",
           "Lower Level > Lower Level - Right",
           50,
           2.9
          ],
          [
           "Vagabonds",
           "2020-10-18",
           "Lower Level > Lower Level - Left",
           70,
           2.7
          ],
          [
           "Atman",
           "2020-10-17",
           "Kraft Mountain Area > Yin And Yang Cliff",
           40,
           3.1
          ],
          [
           "Miss Conception",
           "2020-10-16",
           "Whiskey Peak > North Face",
           200,
           2.8
          ],
          [
           "Spark Plug",
           "2020-10-16",
           "16-Black Velvet Canyon > Black Velvet Wall",
           100,
           3
          ],
          [
           "Sand Felipe",
           "2020-10-16",
           "Whiskey Peak > North Face",
           110,
           2.6
          ],
          [
           "Face The Seam",
           "2020-10-12",
           "Santa Barbara > Fire Crags",
           35,
           2
          ],
          [
           "Gorgeous",
           "2020-09-26",
           "Malibu Creek State Park > Mt. Gorgeous",
           60,
           2.7
          ],
          [
           "Jensen's Jugs",
           "2020-09-14",
           "Santa Barbara > Fire Crags",
           50,
           2.4
          ],
          [
           "Miss Apprehension",
           "2020-09-06",
           "Olmsted Area > Olmsted Canyon Right",
           55,
           2
          ],
          [
           "Crying Time Again",
           "2020-08-28",
           "Lembert Dome > Northwest Face",
           400,
           3.5
          ],
          [
           "But I Don't Drink Scotch",
           "2020-08-15",
           "Crystal Crag > Highlands Wall",
           100,
           2.7
          ],
          [
           "Springbank",
           "2020-08-15",
           "Crystal Crag > Highlands Wall",
           90,
           3.6
          ],
          [
           "Gridlock",
           "2020-08-09",
           "Hwy 33/Ojai > Wheeler Gorge",
           65,
           2.6
          ],
          [
           "Sick Boy",
           "2020-08-09",
           "Hwy 33/Ojai > Wheeler Gorge",
           55,
           3
          ],
          [
           "Cucumbers",
           "2020-07-17",
           "Bishop Area > Cardinal Pinnacle",
           350,
           3.2
          ],
          [
           "West Face",
           "2020-07-17",
           "Bishop Area > Cardinal Pinnacle",
           550,
           3.8
          ],
          [
           "Cut The Cord",
           "2020-07-11",
           "Malibu Creek State Park > Ghetto Wall",
           30,
           2.1
          ],
          [
           "Kathmandu",
           "2020-07-11",
           "Malibu Creek State Park > Ghetto Wall",
           35,
           2.6
          ],
          [
           "Careful, There's A Beverage Here!",
           "2020-06-21",
           "The Playground > Little Lebowski Urban Achievers Crag",
           50,
           2.2
          ],
          [
           "Airy Interlude",
           "2020-06-13",
           "The Needles > The Witch",
           null,
           3.9
          ],
          [
           "The Gibbon",
           "2020-05-10",
           "Gibraltar Area > Upper Gibraltar",
           100,
           2.5
          ],
          [
           "T-crack",
           "2020-04-24",
           "Gibraltar Area > Gibraltar Rock",
           60,
           3.7
          ],
          [
           "Triassic Sands",
           "2020-02-07",
           "Whiskey Peak > North Face",
           700,
           3.8
          ],
          [
           "No Calculators Allowed",
           "2019-11-16",
           "Real Hidden Valley > The Thin Wall",
           50,
           2.6
          ],
          [
           "Fisticuffs",
           "2019-11-16",
           "Real Hidden Valley > Tumbling Rainbow Formation",
           30,
           2.9
          ],
          [
           "Crack 6",
           "2019-11-15",
           "Isles Corridor > Isles Corridor - Left Side",
           50,
           2.9
          ],
          [
           "Bird Of Fire",
           "2019-11-15",
           "Isles In The Sky > Isles In The Sky (Northeast Face)",
           80,
           3.8
          ],
          [
           "Moubit",
           "2019-11-09",
           "Isles Corridor > Isles Corridor - Right Side",
           60,
           2.3
          ],
          [
           "The Guillotine",
           "2019-11-02",
           "Echo Cliffs > The Alcove",
           90,
           3.4
          ],
          [
           "Caution: Falling Snakes",
           "2019-10-06",
           "Invisible Wall > Lower Main Wall",
           null,
           3
          ],
          [
           "Raised On Robbery",
           "2019-09-05",
           "Lower Blair I, Ii, Iii, And Vicinity > Lower Blair I",
           70,
           3.5
          ],
          [
           "Mctech Arete",
           "2019-08-27",
           "Bugaboos > Crescent Spire",
           500,
           3.8
          ],
          [
           "Arrowroot",
           "2019-08-20",
           "Stawamus Chief > Grand Wall Base Area",
           115,
           3.5
          ],
          [
           "Seasoned In The Sun",
           "2019-08-20",
           "Stawamus Chief > Grand Wall Base Area",
           95,
           3.6
          ],
          [
           "Coronary Bypass",
           "2019-08-19",
           "The Smoke Bluffs > Respiration Rock",
           40,
           2.8
          ],
          [
           "The Ultimate Everything",
           "2019-08-18",
           "Stawamus Chief > Echelon Wall",
           1300,
           2.9
          ],
          [
           "Rock On",
           "2019-08-18",
           "Stawamus Chief > The Apron",
           400,
           3.6
          ],
          [
           "Hungry, Hungry Hippos",
           "2019-08-16",
           "Murrin Park > Commonwealth",
           65,
           2.4
          ],
          [
           "Pop-sickle",
           "2019-08-16",
           "Murrin Park > Commonwealth",
           80,
           2
          ],
          [
           "Neat And Cool Offwidth",
           "2019-08-14",
           "The Smoke Bluffs > Neat And Cool",
           70,
           2.4
          ],
          [
           "Flying Circus",
           "2019-08-14",
           "The Smoke Bluffs > Neat And Cool",
           100,
           3.6
          ],
          [
           "Rattletale",
           "2019-08-01",
           "Lookout Point Area > Rattletale Wall",
           null,
           3.8
          ],
          [
           "Tofu Crack",
           "2019-05-13",
           "Indian Creek > 2Nd Meat Wall",
           115,
           3.3
          ],
          [
           "No Name Crack",
           "2019-05-12",
           "Indian Creek > Supercrack Buttress",
           110,
           3.2
          ],
          [
           "Hot Toddy",
           "2019-05-11",
           "Long Canyon > Maverick Buttress",
           80,
           2.9
          ],
          [
           "Texas Two Step",
           "2019-05-11",
           "Long Canyon > Maverick Buttress",
           null,
           2.7
          ],
          [
           "Pocket Rocket",
           "2019-05-09",
           "Day Canyon > Day Canyon Cragging Routes",
           65,
           3.5
          ],
          [
           "Dread Pirate Roberts",
           "2019-05-04",
           "Indian Creek > Cliffs Of Insanity",
           60,
           3.1
          ],
          [
           "Kelley Route 1",
           "2019-05-04",
           "Indian Creek > Cliffs Of Insanity",
           130,
           3.6
          ],
          [
           "Supercrack Of The Desert",
           "2019-05-03",
           "Indian Creek > Supercrack Buttress",
           null,
           3.8
          ],
          [
           "Incredible Hand Crack",
           "2019-05-03",
           "Indian Creek > Supercrack Buttress",
           100,
           3.8
          ],
          [
           "Generic Crack",
           "2019-05-02",
           "Indian Creek > Donnelly Canyon",
           120,
           3.4
          ],
          [
           "Dawn Of An Age",
           "2019-05-01",
           "Indian Creek > Blue Gramma Cliff",
           50,
           2.5
          ],
          [
           "Kemosabe",
           "2019-04-22",
           "07-Willow Spring > Ragged Edges Area",
           100,
           2.6
          ],
          [
           "Getaway",
           "2019-01-19",
           "Box Canyon East > The Getaway",
           65,
           3.3
          ],
          [
           "Holey Moley",
           "2019-01-19",
           "Raven Rocks > Raven Rocks North Face \"Power Block\" Area",
           90,
           3
          ],
          [
           "Celestial Spheres",
           "2018-12-16",
           "03-First Pullout (Calico I) > Dante'S Wall",
           65,
           2.6
          ],
          [
           "Divine Comedy",
           "2018-12-16",
           "03-First Pullout (Calico I) > Dante'S Wall",
           65,
           3.3
          ],
          [
           "The Right Road Lost",
           "2018-12-16",
           "03-First Pullout (Calico I) > Dante'S Wall",
           50,
           2.6
          ],
          [
           "Ches Game",
           "2018-10-25",
           "Invisible Wall > Lower Main Wall",
           null,
           2.3
          ],
          [
           "Twice Stung And Forever Shy",
           "2018-10-25",
           "Invisible Wall > Bug Wall",
           null,
           2.9
          ],
          [
           "Tut",
           "2018-10-21",
           "Century Lake Area > Little Cheops",
           40,
           2
          ],
          [
           "Power Station",
           "2018-10-21",
           "Century Lake Area > The Power Wall",
           50,
           2.9
          ],
          [
           "Power Grid",
           "2018-10-21",
           "Century Lake Area > The Power Wall",
           60,
           2.6
          ],
          [
           "Cleaning Lady",
           "2018-09-17",
           "Hwy 33/Ojai > Potrero John",
           80,
           2.8
          ]
         ],
         "hovertemplate": "Name: %{customdata[0]}<br>Date: %{customdata[1]}<br>Location: %{customdata[2]}<br>Length: %{customdata[3]}ft<br>Avg Stars: %{customdata[4]}",
         "legendgroup": "",
         "marker": {
          "color": "#7A4F25",
          "pattern": {
           "shape": ""
          }
         },
         "name": "",
         "offsetgroup": "",
         "orientation": "h",
         "showlegend": false,
         "textposition": "auto",
         "type": "bar",
         "x": [
          1,
          1,
          1,
          1,
          1,
          1,
          1,
          1,
          1,
          1,
          1,
          1,
          1,
          1,
          1,
          1,
          1,
          1,
          1,
          1,
          1,
          1,
          1,
          1,
          1,
          1,
          1,
          1,
          1,
          1,
          1,
          1,
          1,
          1,
          1,
          1,
          1,
          1,
          1,
          1,
          1,
          1,
          1,
          1,
          1,
          1,
          1,
          1,
          1,
          1,
          1,
          1,
          1,
          1,
          1,
          1,
          1,
          1,
          1,
          1,
          1,
          1,
          1,
          1,
          1,
          1,
          1,
          1,
          1,
          1,
          1,
          1,
          1,
          1,
          1,
          1,
          1,
          1,
          1,
          1,
          1,
          1,
          1,
          1,
          1,
          1,
          1,
          1,
          1,
          1,
          1,
          1,
          1,
          1,
          1,
          1,
          1,
          1,
          1,
          1,
          1,
          1,
          1,
          1,
          1,
          1,
          1,
          1,
          1,
          1,
          1,
          1,
          1,
          1,
          1,
          1,
          1,
          1,
          1,
          1,
          1,
          1,
          1,
          1,
          1,
          1,
          1,
          1,
          1,
          1,
          1,
          1,
          1,
          1,
          1,
          1,
          1,
          1,
          1,
          1,
          1,
          1,
          1,
          1,
          1,
          1,
          1,
          1,
          1,
          1,
          1,
          1,
          1,
          1,
          1,
          1,
          1,
          1,
          1,
          1,
          1,
          1,
          1,
          1,
          1,
          1,
          1,
          1,
          1,
          1,
          1,
          1,
          1,
          1,
          1,
          1,
          1,
          1,
          1,
          1,
          1,
          1,
          1,
          1,
          1,
          1,
          1,
          1,
          1,
          1,
          1,
          1,
          1,
          1,
          1,
          1,
          1,
          1,
          1,
          1,
          1,
          1,
          1,
          1,
          1,
          1,
          1,
          1,
          1,
          1,
          1,
          1,
          1,
          1,
          1,
          1,
          1,
          1,
          1
         ],
         "xaxis": "x",
         "y": [
          "5.11a",
          "5.10b",
          "5.10b",
          "5.10c",
          "5.10d",
          "5.10c",
          "5.10b",
          "5.12a",
          "5.11a",
          "5.10d",
          "5.10c",
          "5.10c",
          "5.11b",
          "5.11b",
          "5.10c",
          "5.11a",
          "5.11a",
          "5.10c",
          "5.10b",
          "5.10c",
          "5.10b",
          "5.10b",
          "5.11c",
          "5.10c",
          "5.10b",
          "5.10a",
          "5.10d",
          "5.10c",
          "5.10b",
          "5.10c",
          "5.10b",
          "5.11a",
          "5.10c",
          "5.10b",
          "5.10b",
          "5.10d",
          "5.10a",
          "5.10b",
          "5.10a",
          "5.11a",
          "5.10a",
          "5.10c",
          "5.10c",
          "5.10a",
          "5.10d",
          "5.10a",
          "5.10b",
          "5.10d",
          "5.11b",
          "5.10a",
          "5.11b",
          "5.10b",
          "5.10a",
          "5.10a",
          "5.10b",
          "5.10b",
          "5.10d",
          "5.11b",
          "5.10c",
          "5.11a",
          "5.10b",
          "5.10a",
          "5.10a",
          "5.11b",
          "5.10a",
          "5.10b",
          "5.10b",
          "5.10a",
          "5.11a",
          "5.10b",
          "5.10c",
          "5.10a",
          "5.10c",
          "5.10b",
          "5.10c",
          "5.10d",
          "5.10c",
          "5.10d",
          "5.10b",
          "5.10c",
          "5.10b",
          "5.10c",
          "5.11b",
          "5.11b",
          "5.10c",
          "5.10b",
          "5.10c",
          "5.10c",
          "5.11a",
          "5.10a",
          "5.10c",
          "5.10c",
          "5.10c",
          "5.10a",
          "5.10c",
          "5.10a",
          "5.10b",
          "5.10b",
          "5.10b",
          "5.10b",
          "5.10a",
          "5.10b",
          "5.10a",
          "5.11b",
          "5.10b",
          "5.10c",
          "5.10d",
          "5.10c",
          "5.10b",
          "5.10b",
          "5.10a",
          "5.10c",
          "5.10c",
          "5.10b",
          "5.10b",
          "5.10a",
          "5.10a",
          "5.10a",
          "5.10c",
          "5.11a",
          "5.11a",
          "5.10b",
          "5.10b",
          "5.11a",
          "5.10a",
          "5.10a",
          "5.10a",
          "5.10c",
          "5.10a",
          "5.10b",
          "5.10a",
          "5.10b",
          "5.10c",
          "5.10a",
          "5.10c",
          "5.10d",
          "5.10c",
          "5.11a",
          "5.10c",
          "5.10d",
          "5.10b",
          "5.10b",
          "5.10d",
          "5.10b",
          "5.10b",
          "5.10b",
          "5.10b",
          "5.10c",
          "5.10a",
          "5.10a",
          "5.10a",
          "5.10a",
          "5.10c",
          "5.10c",
          "5.10a",
          "5.10a",
          "5.10b",
          "5.10b",
          "5.10a",
          "5.10a",
          "5.10a",
          "5.10b",
          "5.10a",
          "5.10a",
          "5.10a",
          "5.10a",
          "5.10a",
          "5.10b",
          "5.10b",
          "5.10a",
          "5.10b",
          "5.10a",
          "5.10a",
          "5.10a",
          "5.10b",
          "5.10c",
          "5.10c",
          "5.10a",
          "5.10b",
          "5.10a",
          "5.10a",
          "5.10a",
          "5.10b",
          "5.10b",
          "5.10b",
          "5.10b",
          "5.10b",
          "5.10a",
          "5.10a",
          "5.10b",
          "5.10a",
          "5.10a",
          "5.10d",
          "5.10b",
          "5.10a",
          "5.10b",
          "5.10b",
          "5.10b",
          "5.10b",
          "5.10b",
          "5.10c",
          "5.10c",
          "5.10c",
          "5.10b",
          "5.10b",
          "5.10a",
          "5.10b",
          "5.10a",
          "5.10a",
          "5.10a",
          "5.10b",
          "5.10a",
          "5.10a",
          "5.10c",
          "5.10a",
          "5.10a",
          "5.10b",
          "5.10a",
          "5.10b"
         ],
         "yaxis": "y"
        }
       ],
       "layout": {
        "bargap": 0,
        "barmode": "relative",
        "font": {
         "color": "black",
         "family": "Courier New",
         "size": 20
        },
        "legend": {
         "tracegroupgap": 0
        },
        "margin": {
         "t": 60
        },
        "paper_bgcolor": "#ece5dc",
        "plot_bgcolor": "#F5D3A5",
        "template": {
         "data": {
          "bar": [
           {
            "error_x": {
             "color": "#2a3f5f"
            },
            "error_y": {
             "color": "#2a3f5f"
            },
            "marker": {
             "line": {
              "color": "#E5ECF6",
              "width": 0.5
             },
             "pattern": {
              "fillmode": "overlay",
              "size": 10,
              "solidity": 0.2
             }
            },
            "type": "bar"
           }
          ],
          "barpolar": [
           {
            "marker": {
             "line": {
              "color": "#E5ECF6",
              "width": 0.5
             },
             "pattern": {
              "fillmode": "overlay",
              "size": 10,
              "solidity": 0.2
             }
            },
            "type": "barpolar"
           }
          ],
          "carpet": [
           {
            "aaxis": {
             "endlinecolor": "#2a3f5f",
             "gridcolor": "white",
             "linecolor": "white",
             "minorgridcolor": "white",
             "startlinecolor": "#2a3f5f"
            },
            "baxis": {
             "endlinecolor": "#2a3f5f",
             "gridcolor": "white",
             "linecolor": "white",
             "minorgridcolor": "white",
             "startlinecolor": "#2a3f5f"
            },
            "type": "carpet"
           }
          ],
          "choropleth": [
           {
            "colorbar": {
             "outlinewidth": 0,
             "ticks": ""
            },
            "type": "choropleth"
           }
          ],
          "contour": [
           {
            "colorbar": {
             "outlinewidth": 0,
             "ticks": ""
            },
            "colorscale": [
             [
              0,
              "#0d0887"
             ],
             [
              0.1111111111111111,
              "#46039f"
             ],
             [
              0.2222222222222222,
              "#7201a8"
             ],
             [
              0.3333333333333333,
              "#9c179e"
             ],
             [
              0.4444444444444444,
              "#bd3786"
             ],
             [
              0.5555555555555556,
              "#d8576b"
             ],
             [
              0.6666666666666666,
              "#ed7953"
             ],
             [
              0.7777777777777778,
              "#fb9f3a"
             ],
             [
              0.8888888888888888,
              "#fdca26"
             ],
             [
              1,
              "#f0f921"
             ]
            ],
            "type": "contour"
           }
          ],
          "contourcarpet": [
           {
            "colorbar": {
             "outlinewidth": 0,
             "ticks": ""
            },
            "type": "contourcarpet"
           }
          ],
          "heatmap": [
           {
            "colorbar": {
             "outlinewidth": 0,
             "ticks": ""
            },
            "colorscale": [
             [
              0,
              "#0d0887"
             ],
             [
              0.1111111111111111,
              "#46039f"
             ],
             [
              0.2222222222222222,
              "#7201a8"
             ],
             [
              0.3333333333333333,
              "#9c179e"
             ],
             [
              0.4444444444444444,
              "#bd3786"
             ],
             [
              0.5555555555555556,
              "#d8576b"
             ],
             [
              0.6666666666666666,
              "#ed7953"
             ],
             [
              0.7777777777777778,
              "#fb9f3a"
             ],
             [
              0.8888888888888888,
              "#fdca26"
             ],
             [
              1,
              "#f0f921"
             ]
            ],
            "type": "heatmap"
           }
          ],
          "heatmapgl": [
           {
            "colorbar": {
             "outlinewidth": 0,
             "ticks": ""
            },
            "colorscale": [
             [
              0,
              "#0d0887"
             ],
             [
              0.1111111111111111,
              "#46039f"
             ],
             [
              0.2222222222222222,
              "#7201a8"
             ],
             [
              0.3333333333333333,
              "#9c179e"
             ],
             [
              0.4444444444444444,
              "#bd3786"
             ],
             [
              0.5555555555555556,
              "#d8576b"
             ],
             [
              0.6666666666666666,
              "#ed7953"
             ],
             [
              0.7777777777777778,
              "#fb9f3a"
             ],
             [
              0.8888888888888888,
              "#fdca26"
             ],
             [
              1,
              "#f0f921"
             ]
            ],
            "type": "heatmapgl"
           }
          ],
          "histogram": [
           {
            "marker": {
             "pattern": {
              "fillmode": "overlay",
              "size": 10,
              "solidity": 0.2
             }
            },
            "type": "histogram"
           }
          ],
          "histogram2d": [
           {
            "colorbar": {
             "outlinewidth": 0,
             "ticks": ""
            },
            "colorscale": [
             [
              0,
              "#0d0887"
             ],
             [
              0.1111111111111111,
              "#46039f"
             ],
             [
              0.2222222222222222,
              "#7201a8"
             ],
             [
              0.3333333333333333,
              "#9c179e"
             ],
             [
              0.4444444444444444,
              "#bd3786"
             ],
             [
              0.5555555555555556,
              "#d8576b"
             ],
             [
              0.6666666666666666,
              "#ed7953"
             ],
             [
              0.7777777777777778,
              "#fb9f3a"
             ],
             [
              0.8888888888888888,
              "#fdca26"
             ],
             [
              1,
              "#f0f921"
             ]
            ],
            "type": "histogram2d"
           }
          ],
          "histogram2dcontour": [
           {
            "colorbar": {
             "outlinewidth": 0,
             "ticks": ""
            },
            "colorscale": [
             [
              0,
              "#0d0887"
             ],
             [
              0.1111111111111111,
              "#46039f"
             ],
             [
              0.2222222222222222,
              "#7201a8"
             ],
             [
              0.3333333333333333,
              "#9c179e"
             ],
             [
              0.4444444444444444,
              "#bd3786"
             ],
             [
              0.5555555555555556,
              "#d8576b"
             ],
             [
              0.6666666666666666,
              "#ed7953"
             ],
             [
              0.7777777777777778,
              "#fb9f3a"
             ],
             [
              0.8888888888888888,
              "#fdca26"
             ],
             [
              1,
              "#f0f921"
             ]
            ],
            "type": "histogram2dcontour"
           }
          ],
          "mesh3d": [
           {
            "colorbar": {
             "outlinewidth": 0,
             "ticks": ""
            },
            "type": "mesh3d"
           }
          ],
          "parcoords": [
           {
            "line": {
             "colorbar": {
              "outlinewidth": 0,
              "ticks": ""
             }
            },
            "type": "parcoords"
           }
          ],
          "pie": [
           {
            "automargin": true,
            "type": "pie"
           }
          ],
          "scatter": [
           {
            "fillpattern": {
             "fillmode": "overlay",
             "size": 10,
             "solidity": 0.2
            },
            "type": "scatter"
           }
          ],
          "scatter3d": [
           {
            "line": {
             "colorbar": {
              "outlinewidth": 0,
              "ticks": ""
             }
            },
            "marker": {
             "colorbar": {
              "outlinewidth": 0,
              "ticks": ""
             }
            },
            "type": "scatter3d"
           }
          ],
          "scattercarpet": [
           {
            "marker": {
             "colorbar": {
              "outlinewidth": 0,
              "ticks": ""
             }
            },
            "type": "scattercarpet"
           }
          ],
          "scattergeo": [
           {
            "marker": {
             "colorbar": {
              "outlinewidth": 0,
              "ticks": ""
             }
            },
            "type": "scattergeo"
           }
          ],
          "scattergl": [
           {
            "marker": {
             "colorbar": {
              "outlinewidth": 0,
              "ticks": ""
             }
            },
            "type": "scattergl"
           }
          ],
          "scattermapbox": [
           {
            "marker": {
             "colorbar": {
              "outlinewidth": 0,
              "ticks": ""
             }
            },
            "type": "scattermapbox"
           }
          ],
          "scatterpolar": [
           {
            "marker": {
             "colorbar": {
              "outlinewidth": 0,
              "ticks": ""
             }
            },
            "type": "scatterpolar"
           }
          ],
          "scatterpolargl": [
           {
            "marker": {
             "colorbar": {
              "outlinewidth": 0,
              "ticks": ""
             }
            },
            "type": "scatterpolargl"
           }
          ],
          "scatterternary": [
           {
            "marker": {
             "colorbar": {
              "outlinewidth": 0,
              "ticks": ""
             }
            },
            "type": "scatterternary"
           }
          ],
          "surface": [
           {
            "colorbar": {
             "outlinewidth": 0,
             "ticks": ""
            },
            "colorscale": [
             [
              0,
              "#0d0887"
             ],
             [
              0.1111111111111111,
              "#46039f"
             ],
             [
              0.2222222222222222,
              "#7201a8"
             ],
             [
              0.3333333333333333,
              "#9c179e"
             ],
             [
              0.4444444444444444,
              "#bd3786"
             ],
             [
              0.5555555555555556,
              "#d8576b"
             ],
             [
              0.6666666666666666,
              "#ed7953"
             ],
             [
              0.7777777777777778,
              "#fb9f3a"
             ],
             [
              0.8888888888888888,
              "#fdca26"
             ],
             [
              1,
              "#f0f921"
             ]
            ],
            "type": "surface"
           }
          ],
          "table": [
           {
            "cells": {
             "fill": {
              "color": "#EBF0F8"
             },
             "line": {
              "color": "white"
             }
            },
            "header": {
             "fill": {
              "color": "#C8D4E3"
             },
             "line": {
              "color": "white"
             }
            },
            "type": "table"
           }
          ]
         },
         "layout": {
          "annotationdefaults": {
           "arrowcolor": "#2a3f5f",
           "arrowhead": 0,
           "arrowwidth": 1
          },
          "autotypenumbers": "strict",
          "coloraxis": {
           "colorbar": {
            "outlinewidth": 0,
            "ticks": ""
           }
          },
          "colorscale": {
           "diverging": [
            [
             0,
             "#8e0152"
            ],
            [
             0.1,
             "#c51b7d"
            ],
            [
             0.2,
             "#de77ae"
            ],
            [
             0.3,
             "#f1b6da"
            ],
            [
             0.4,
             "#fde0ef"
            ],
            [
             0.5,
             "#f7f7f7"
            ],
            [
             0.6,
             "#e6f5d0"
            ],
            [
             0.7,
             "#b8e186"
            ],
            [
             0.8,
             "#7fbc41"
            ],
            [
             0.9,
             "#4d9221"
            ],
            [
             1,
             "#276419"
            ]
           ],
           "sequential": [
            [
             0,
             "#0d0887"
            ],
            [
             0.1111111111111111,
             "#46039f"
            ],
            [
             0.2222222222222222,
             "#7201a8"
            ],
            [
             0.3333333333333333,
             "#9c179e"
            ],
            [
             0.4444444444444444,
             "#bd3786"
            ],
            [
             0.5555555555555556,
             "#d8576b"
            ],
            [
             0.6666666666666666,
             "#ed7953"
            ],
            [
             0.7777777777777778,
             "#fb9f3a"
            ],
            [
             0.8888888888888888,
             "#fdca26"
            ],
            [
             1,
             "#f0f921"
            ]
           ],
           "sequentialminus": [
            [
             0,
             "#0d0887"
            ],
            [
             0.1111111111111111,
             "#46039f"
            ],
            [
             0.2222222222222222,
             "#7201a8"
            ],
            [
             0.3333333333333333,
             "#9c179e"
            ],
            [
             0.4444444444444444,
             "#bd3786"
            ],
            [
             0.5555555555555556,
             "#d8576b"
            ],
            [
             0.6666666666666666,
             "#ed7953"
            ],
            [
             0.7777777777777778,
             "#fb9f3a"
            ],
            [
             0.8888888888888888,
             "#fdca26"
            ],
            [
             1,
             "#f0f921"
            ]
           ]
          },
          "colorway": [
           "#636efa",
           "#EF553B",
           "#00cc96",
           "#ab63fa",
           "#FFA15A",
           "#19d3f3",
           "#FF6692",
           "#B6E880",
           "#FF97FF",
           "#FECB52"
          ],
          "font": {
           "color": "#2a3f5f"
          },
          "geo": {
           "bgcolor": "white",
           "lakecolor": "white",
           "landcolor": "#E5ECF6",
           "showlakes": true,
           "showland": true,
           "subunitcolor": "white"
          },
          "hoverlabel": {
           "align": "left"
          },
          "hovermode": "closest",
          "mapbox": {
           "style": "light"
          },
          "paper_bgcolor": "white",
          "plot_bgcolor": "#E5ECF6",
          "polar": {
           "angularaxis": {
            "gridcolor": "white",
            "linecolor": "white",
            "ticks": ""
           },
           "bgcolor": "#E5ECF6",
           "radialaxis": {
            "gridcolor": "white",
            "linecolor": "white",
            "ticks": ""
           }
          },
          "scene": {
           "xaxis": {
            "backgroundcolor": "#E5ECF6",
            "gridcolor": "white",
            "gridwidth": 2,
            "linecolor": "white",
            "showbackground": true,
            "ticks": "",
            "zerolinecolor": "white"
           },
           "yaxis": {
            "backgroundcolor": "#E5ECF6",
            "gridcolor": "white",
            "gridwidth": 2,
            "linecolor": "white",
            "showbackground": true,
            "ticks": "",
            "zerolinecolor": "white"
           },
           "zaxis": {
            "backgroundcolor": "#E5ECF6",
            "gridcolor": "white",
            "gridwidth": 2,
            "linecolor": "white",
            "showbackground": true,
            "ticks": "",
            "zerolinecolor": "white"
           }
          },
          "shapedefaults": {
           "line": {
            "color": "#2a3f5f"
           }
          },
          "ternary": {
           "aaxis": {
            "gridcolor": "white",
            "linecolor": "white",
            "ticks": ""
           },
           "baxis": {
            "gridcolor": "white",
            "linecolor": "white",
            "ticks": ""
           },
           "bgcolor": "#E5ECF6",
           "caxis": {
            "gridcolor": "white",
            "linecolor": "white",
            "ticks": ""
           }
          },
          "title": {
           "x": 0.05
          },
          "xaxis": {
           "automargin": true,
           "gridcolor": "white",
           "linecolor": "white",
           "ticks": "",
           "title": {
            "standoff": 15
           },
           "zerolinecolor": "white",
           "zerolinewidth": 2
          },
          "yaxis": {
           "automargin": true,
           "gridcolor": "white",
           "linecolor": "white",
           "ticks": "",
           "title": {
            "standoff": 15
           },
           "zerolinecolor": "white",
           "zerolinewidth": 2
          }
         }
        },
        "title": {
         "font": {
          "size": 30
         },
         "text": "Climbing Pyramid",
         "x": 0.5
        },
        "xaxis": {
         "anchor": "y",
         "domain": [
          0,
          1
         ],
         "title": {
          "text": "Number of Routes Sent"
         }
        },
        "yaxis": {
         "anchor": "x",
         "categoryarray": [
          "5.0",
          "5.1",
          "5.2",
          "5.3",
          "5.4",
          "5.5",
          "5.6",
          "5.7",
          "5.8",
          "5.9",
          "5.10a",
          "5.10b",
          "5.10c",
          "5.10d",
          "5.11a",
          "5.11b",
          "5.11c",
          "5.11d",
          "5.12a",
          "5.12b",
          "5.12c",
          "5.12d",
          "5.13a",
          "5.13b",
          "5.13c",
          "5.13d",
          "5.14a",
          "5.14b",
          "5.14c",
          "5.14d",
          "5.15a",
          "5.15b",
          "5.15c",
          "5.15d"
         ],
         "categoryorder": "array",
         "domain": [
          0,
          1
         ],
         "title": {
          "text": "Grade"
         }
        }
       }
      }
     },
     "metadata": {},
     "output_type": "display_data"
    }
   ],
   "source": [
    "df_clean_sends = df[df['Lead Style'].isin(CLEAN_SEND)]\n",
    "df_clean_sends['Route Formatted'] = df_clean_sends['Route'].apply(lambda x: string.capwords(x))\n",
    "df_clean_sends['Location Formatted'] = df_clean_sends['Location'].apply(lambda x: \" > \".join(x.title().split(' > ')[-2::]))\n",
    "\n",
    "fig = px.bar(df_clean_sends, y=\"Rating\", orientation='h', category_orders={\"Rating\": YDS_GRADES_LETTER[::-1]}, custom_data=['Route Formatted', 'Date', 'Location Formatted', 'Length', 'Avg Stars']) # The [::-1] is an inverse slice\n",
    "fig.update_layout(font={'family':'Courier New', 'color':'black', 'size':20}, title={'text':'Climbing Pyramid', 'x':0.5, 'font_size':30}, xaxis={'title': 'Number of Routes Sent'}, yaxis={'title': 'Grade'}, paper_bgcolor='#ece5dc', plot_bgcolor='#F5D3A5', bargap=0)\n",
    "fig.update_traces(marker_color='#7A4F25', hovertemplate='Name: %{customdata[0]}<br>Date: %{customdata[1]}<br>Location: %{customdata[2]}<br>Length: %{customdata[3]}ft<br>Avg Stars: %{customdata[4]}')\n",
    "fig"
   ]
  },
  {
   "cell_type": "code",
   "execution_count": 102,
   "metadata": {},
   "outputs": [
    {
     "data": {
      "application/vnd.plotly.v1+json": {
       "config": {
        "plotlyServerURL": "https://plot.ly"
       },
       "data": [
        {
         "customdata": [
          [
           "Big Guy",
           "2022-11-25",
           "Indian Creek > Scarface",
           120,
           3.9
          ],
          [
           "Unnamed Offwidth",
           "2022-11-24",
           "Indian Creek > South Sixshooter",
           70,
           3
          ],
          [
           "South Face Angling Crack?",
           "2022-11-24",
           "Indian Creek > South Sixshooter",
           90,
           3
          ],
          [
           "Lonely Vigil",
           "2022-11-20",
           "River Road > Lighthouse Tower",
           350,
           3.5
          ],
          [
           "Chasin' Skirt",
           "2022-11-19",
           "Long Canyon > Deadman'S Buttress",
           150,
           3.3
          ],
          [
           "Chopper",
           "2022-11-19",
           "Long Canyon > Deadman'S Buttress",
           190,
           3.6
          ],
          [
           "Program Director",
           "2022-11-19",
           "Long Canyon > Deadman'S Buttress",
           190,
           3.5
          ],
          [
           "Urban Struggle",
           "2022-11-05",
           "Malibu Creek State Park > Ghetto Wall",
           50,
           3.4
          ],
          [
           "Directpissima",
           "2022-11-05",
           "Malibu Creek State Park > Ghetto Wall",
           50,
           2.4
          ],
          [
           "Unnamed",
           "2022-11-05",
           "Malibu Creek State Park > Ghetto Wall",
           45,
           2.4
          ],
          [
           "Three Fools Aka Kelley Route 32",
           "2022-10-21",
           "Indian Creek > Reservoir Wall",
           60,
           2.5
          ],
          [
           "Blue Sky Mining",
           "2022-10-20",
           "Indian Creek > Broken Tooth",
           50,
           2.4
          ],
          [
           "Unnamed Classic Hand Crack Aka Gold Crown",
           "2022-10-20",
           "Indian Creek > Broken Tooth",
           120,
           3.7
          ],
          [
           "Rock Lobster",
           "2022-10-20",
           "Indian Creek > Broken Tooth",
           115,
           3.8
          ],
          [
           "The Mayes",
           "2022-10-17",
           "Indian Creek > Battle Of The Bulge Buttress",
           50,
           2.4
          ],
          [
           "Think Pink",
           "2022-10-17",
           "Indian Creek > Battle Of The Bulge Buttress",
           null,
           3.4
          ],
          [
           "Crack Attack",
           "2022-10-17",
           "Indian Creek > Battle Of The Bulge Buttress",
           null,
           3.7
          ],
          [
           "Desire",
           "2022-10-15",
           "Indian Creek > Way Rambo",
           95,
           2.8
          ],
          [
           "Fuzz",
           "2022-10-15",
           "Indian Creek > Way Rambo",
           115,
           3.3
          ],
          [
           "Pocket Rocket",
           "2022-10-14",
           "Day Canyon > Day Canyon Cragging Routes",
           65,
           3.5
          ],
          [
           "Brush Painted Datsun",
           "2022-10-14",
           "Day Canyon > Day Canyon Cragging Routes",
           70,
           3.6
          ],
          [
           "Boognish Tower",
           "2022-10-14",
           "Day Canyon > Boognish Tower",
           120,
           3.4
          ],
          [
           "Makunaima",
           "2022-10-08",
           "Cold Springs Dome > Makunaima Amphitheater",
           90,
           3.9
          ],
          [
           "Anasazi",
           "2022-10-08",
           "Cold Springs Dome > Makunaima Amphitheater",
           50,
           3
          ],
          [
           "The Consolation Direct",
           "2022-10-01",
           "Tahquitz Rock > (D) Northwest Recess",
           800,
           3.3
          ],
          [
           "Daximus",
           "2022-08-20",
           "Cold Springs Dome > Makunaima Amphitheater",
           90,
           3.4
          ],
          [
           "Rites Of Spring",
           "2022-07-22",
           "Scheelite Canyon / Pratt'S Crack Gully > Armando'S Stilletto / Rites Of Spring",
           400,
           3.5
          ],
          [
           "Baby Scorpions",
           "2022-07-17",
           "Cold Springs Dome > Makunaima Amphitheater",
           70,
           2.6
          ],
          [
           "Anasazi",
           "2022-07-17",
           "Cold Springs Dome > Makunaima Amphitheater",
           50,
           3
          ],
          [
           "The Dihedral Route",
           "2022-07-09",
           "02 - The Sawtooth Ridge > The Juggernaut",
           750,
           3.3
          ],
          [
           "Crimson Gem",
           "2022-07-08",
           "02 - The Sawtooth Ridge > The Juggernaut",
           750,
           3.6
          ],
          [
           "D.d.d.",
           "2022-07-06",
           "Horseshoe Piles > Spring Wall",
           90,
           3.6
          ],
          [
           "Reallyfivenineplus",
           "2022-07-06",
           "Horseshoe Piles > Spring Wall",
           80,
           3.1
          ],
          [
           "Fall Harvest",
           "2022-07-05",
           "Horseshoe Piles > Spring Wall",
           50,
           2.7
          ],
          [
           "Mongoloid",
           "2022-07-04",
           "Dike Wall > North Face",
           60,
           2.3
          ],
          [
           "Black Lassie",
           "2022-07-04",
           "Dike Wall > East Face",
           80,
           3.4
          ],
          [
           "Sideshow",
           "2022-07-02",
           "Rock Creek > Gong Show Wall",
           100,
           3.4
          ],
          [
           "He She",
           "2022-07-02",
           "Rock Creek > Gong Show Wall",
           130,
           3.6
          ],
          [
           "Economique",
           "2022-06-18",
           "Hwy 33/Ojai > Wheeler Gorge",
           80,
           3.1
          ],
          [
           "Blush",
           "2022-06-18",
           "Hwy 33/Ojai > Wheeler Gorge",
           60,
           2.8
          ],
          [
           "The Surprise",
           "2022-05-29",
           "Five Open Books > First Tier",
           400,
           3.1
          ],
          [
           "Werner's Ant Trees",
           "2022-05-29",
           "Five Open Books > First Tier",
           75,
           3.1
          ],
          [
           "Outer Limits",
           "2022-05-13",
           "Aj. Cookie Area > The Cookie Cliff",
           190,
           3.8
          ],
          [
           "Beverly's Tower",
           "2022-05-13",
           "Aj. Cookie Area > The Cookie Cliff",
           100,
           2.7
          ],
          [
           "No Man Knows The Hour",
           "2022-05-07",
           "Lower Mission Canyon / Seven Falls > Upper Theology Crag",
           110,
           2.8
          ],
          [
           "Chimps Ahoy",
           "2022-04-16",
           "Malibu Creek State Park > Stumbling Blocks",
           80,
           2.5
          ],
          [
           "Sons Of Yesterday",
           "2022-04-09",
           "Royal Arches > Western Royal Arches",
           600,
           3.9
          ],
          [
           "Serenity Crack",
           "2022-04-09",
           "Royal Arches > Western Royal Arches",
           350,
           3.8
          ],
          [
           "Have A Beer With Fear",
           "2022-03-13",
           "01-Calico Basin > Cannibal Crag",
           60,
           2.7
          ],
          [
           "What's Eating You",
           "2022-03-13",
           "01-Calico Basin > Cannibal Crag",
           60,
           2.2
          ],
          [
           "Caustic Cock",
           "2022-03-13",
           "01-Calico Basin > Cannibal Crag",
           40,
           3.4
          ],
          [
           "The Walker Spur",
           "2022-03-12",
           "Mescalito > East Face",
           550,
           3.3
          ],
          [
           "Small Purchase",
           "2022-03-12",
           "Magic Mountain > North Face",
           100,
           3.4
          ],
          [
           "Bone Saw",
           "2022-03-11",
           "16-Black Velvet Canyon > The Monument",
           55,
           2.5
          ],
          [
           "Handbone",
           "2022-03-11",
           "16-Black Velvet Canyon > The Monument",
           70,
           3.3
          ],
          [
           "The Gobbler",
           "2022-03-11",
           "16-Black Velvet Canyon > Black Velvet Wall",
           200,
           3.2
          ],
          [
           "Cockblock",
           "2022-02-05",
           "Malibu Creek State Park > Stumbling Blocks",
           40,
           2.5
          ],
          [
           "Skeezer Pleaser",
           "2022-02-05",
           "Malibu Creek State Park > Ghetto Wall",
           45,
           2.8
          ],
          [
           "Dick Pics",
           "2022-02-05",
           "Malibu Creek State Park > Mt. Gorgeous",
           50,
           2.6
          ],
          [
           "Johnny Can't Lead",
           "2022-02-05",
           "Malibu Creek State Park > Ghetto Wall",
           40,
           3.2
          ],
          [
           "The Third Degree",
           "2022-01-23",
           "Malibu Creek State Park > Stumbling Blocks",
           null,
           2.4
          ],
          [
           "Guerilla Drilla",
           "2022-01-23",
           "Malibu Creek State Park > Stumbling Blocks",
           null,
           2.4
          ],
          [
           "Gorgeous",
           "2022-01-23",
           "Malibu Creek State Park > Mt. Gorgeous",
           60,
           2.7
          ],
          [
           "Luscious",
           "2022-01-23",
           "Malibu Creek State Park > Mt. Gorgeous",
           60,
           3.1
          ],
          [
           "Rain Dance",
           "2022-01-15",
           "Whiskey Peak > North Face",
           130,
           2.8
          ],
          [
           "Run For Your Life",
           "2021-12-04",
           "Real Hidden Valley > Tumbling Rainbow Formation",
           90,
           3.7
          ],
          [
           "Illusion Dweller",
           "2021-12-04",
           "The Sentinel > The Sentinel - West Face",
           100,
           3.8
          ],
          [
           "Dancin' With A God",
           "2021-11-07",
           "Upper Level > Upper Level - Left",
           50,
           2.6
          ],
          [
           "Rebel Without A Pause",
           "2021-11-07",
           "Upper Level > Upper Level - Right",
           50,
           3
          ],
          [
           "Slot Machine",
           "2021-11-06",
           "Mescalito > Dark Shadows Wall",
           null,
           3.3
          ],
          [
           "Risky Business",
           "2021-11-06",
           "Mescalito > Dark Shadows Wall",
           400,
           3.8
          ],
          [
           "Sour Mash",
           "2021-11-05",
           "16-Black Velvet Canyon > Black Velvet Wall",
           600,
           3.6
          ],
          [
           "Bittersweet",
           "2021-10-30",
           "Echo Cliffs > Chocolate Wall",
           null,
           2.6
          ],
          [
           "Keyhole Flake",
           "2021-10-21",
           "Indian Creek > Supercrack Buttress",
           null,
           3.1
          ],
          [
           "Gorilla",
           "2021-10-21",
           "Indian Creek > Supercrack Buttress",
           null,
           3.1
          ],
          [
           "Bad Rad Duality",
           "2021-10-21",
           "Indian Creek > Supercrack Buttress",
           120,
           3.5
          ],
          [
           "Unnamed 38 - Wide To Fists And Kind Of Wavy",
           "2021-10-20",
           "Indian Creek > Reservoir Wall",
           65,
           2.8
          ],
          [
           "Ernie Used To Box",
           "2021-10-20",
           "Indian Creek > Reservoir Wall",
           100,
           3.8
          ],
          [
           "Warm-up Handcrack",
           "2021-10-20",
           "Indian Creek > Reservoir Wall",
           100,
           3.7
          ],
          [
           "Where's Carruthers?",
           "2021-10-18",
           "Indian Creek > Scarface",
           60,
           2.7
          ],
          [
           "Wavy Gravy",
           "2021-10-18",
           "Indian Creek > Scarface",
           70,
           3.2
          ],
          [
           "Divide And Conquer",
           "2021-10-17",
           "Indian Creek > Sparks Wall",
           100,
           3.1
          ],
          [
           "Go Sparky Go",
           "2021-10-17",
           "Indian Creek > Sparks Wall",
           70,
           3.4
          ],
          [
           "Jupiter Crack",
           "2021-10-17",
           "Indian Creek > Sparks Wall",
           130,
           3.9
          ],
          [
           "Purple Rain",
           "2021-10-16",
           "Indian Creek > Technicolor Wall",
           70,
           2.7
          ],
          [
           "On The Up And Up",
           "2021-10-16",
           "Indian Creek > Technicolor Wall",
           70,
           3.2
          ],
          [
           "Whale's Back",
           "2021-10-16",
           "Indian Creek > Technicolor Wall",
           120,
           3.7
          ],
          [
           "Salathe (pitch 1)",
           "2021-09-16",
           "Southwest Base > Moby Dick And Pterodactyl Terrace",
           160,
           3.8
          ],
          [
           "Americano",
           "2021-09-03",
           "Echo Cliffs > Java Wall",
           100,
           3
          ],
          [
           "Great Race",
           "2021-08-29",
           "Santa Barbara > San Ysidro",
           70,
           3
          ],
          [
           "Dark Star",
           "2021-08-21",
           "09 - Palisades & Surrounding Peaks > Temple Crag",
           2000,
           3.4
          ],
          [
           "V8 Crack",
           "2021-08-20",
           "Bishop Area > Cardinal Pinnacle",
           80,
           3.9
          ],
          [
           "Crack Kingdom",
           "2021-08-20",
           "Bishop Area > Cardinal Pinnacle",
           550,
           3.5
          ],
          [
           "Little Sheba",
           "2021-07-23",
           "Lamb Dome > West Face Of The Lamb",
           110,
           3.3
          ],
          [
           "Black Lassie",
           "2021-07-22",
           "Dike Wall > East Face",
           80,
           3.4
          ],
          [
           "Cromagnon",
           "2021-07-22",
           "Dike Wall > East Face",
           80,
           3.7
          ],
          [
           "Mongoloid",
           "2021-07-22",
           "Dike Wall > North Face",
           60,
           2.3
          ],
          [
           "Grim Reality",
           "2021-07-22",
           "Dike Wall > East Face",
           90,
           2.2
          ],
          [
           "Black Dihedral",
           "2021-07-20",
           "Dike Wall > East Face",
           70,
           3.4
          ],
          [
           "Direct Northwest Face",
           "2021-06-05",
           "Lembert Dome > Northwest Face",
           400,
           3.4
          ],
          [
           "Third Pillar, Regular Route",
           "2021-06-04",
           "Lee Vining Canyon / Tioga Road > Dana Plateau",
           800,
           3.8
          ],
          [
           "Faithful Friend",
           "2021-06-03",
           "Horseshoe Lake Area > Sunshine Wall",
           100,
           2.4
          ],
          [
           "Edgehog",
           "2021-06-03",
           "Horseshoe Lake Area > Sunshine Wall",
           100,
           2.4
          ],
          [
           "Kung Fu Fighter",
           "2021-05-13",
           "Mount Carmel Tunnel > Kung Fu Theater",
           450,
           3.6
          ],
          [
           "The Headache",
           "2021-05-13",
           "Mount Carmel Tunnel > Headache Area",
           380,
           3.9
          ],
          [
           "X Files",
           "2021-05-02",
           "Malibu Creek State Park > Stumbling Blocks",
           30,
           2.1
          ],
          [
           "Mr. Big",
           "2021-05-02",
           "Malibu Creek State Park > Stumbling Blocks",
           35,
           3.1
          ],
          [
           "The Fox",
           "2021-04-11",
           "01-Calico Basin > The Fox Area",
           150,
           3.9
          ],
          [
           "Unimpeachable Groping",
           "2021-04-09",
           "11-Juniper Canyon > Ginger Buttress",
           760,
           3.5
          ],
          [
           "Tea Bag",
           "2021-03-27",
           "Echo Cliffs > The Tea Room",
           85,
           3
          ],
          [
           "English Breakfast Tea",
           "2021-03-27",
           "Echo Cliffs > The Tea Room",
           80,
           2.5
          ],
          [
           "Darjeeling Extra Fancy",
           "2021-03-27",
           "Echo Cliffs > The Tea Room",
           85,
           2.6
          ],
          [
           "Irish Car Bomb",
           "2021-03-27",
           "Echo Cliffs > The Tea Room",
           80,
           2.6
          ],
          [
           "Casey At The Bat",
           "2021-03-27",
           "Echo Cliffs > Easy Street",
           100,
           3
          ],
          [
           "Too Proud To Ignore",
           "2021-03-21",
           "Upper Gorge > Dihedrals",
           40,
           2.6
          ],
          [
           "Slackjaw",
           "2021-03-21",
           "Upper Gorge > Dihedrals",
           80,
           2.8
          ],
          [
           "Life During Wartime",
           "2021-03-21",
           "Upper Gorge > Dihedrals",
           80,
           2.8
          ],
          [
           "Nirvana",
           "2021-03-14",
           "Central Gorge > Upper Crust",
           70,
           2.3
          ],
          [
           "Hardly Wallbanger",
           "2021-03-14",
           "Central Gorge > Pub Wall",
           90,
           3.6
          ],
          [
           "Spinal Fracture",
           "2021-03-09",
           "Central Gorge > Social Platform",
           null,
           3.2
          ],
          [
           "Glitter Gulch",
           "2021-02-28",
           "04-Second Pullout (Calico Ii) > Sweet Pain Wall",
           65,
           3.4
          ],
          [
           "Bring Out Your Dead",
           "2021-02-20",
           "Santa Barbara > Renaissance Crag",
           40,
           2.2
          ],
          [
           "Pirates On Horseback",
           "2021-02-13",
           "Alabama Hills North > The Shark'S Fin",
           50,
           2.5
          ],
          [
           "Espresso",
           "2021-02-10",
           "Echo Cliffs > Java Wall",
           90,
           3.2
          ],
          [
           "B-line",
           "2021-02-06",
           "Echo Cliffs > Left Flank",
           90,
           2.3
          ],
          [
           "Broken Glass",
           "2021-01-31",
           "Real Hidden Valley > Gateway Rock",
           60,
           2.4
          ],
          [
           "Bird On A Wire",
           "2021-01-30",
           "Lost Horse Wall > Lost Horse Wall - Right Side",
           330,
           3.3
          ],
          [
           "The Paw",
           "2021-01-30",
           "Little Hunk - Sw Face > Sw Face Right (Monkey Business Wall)",
           35,
           2
          ],
          [
           "Roofing Company",
           "2021-01-30",
           "Little Hunk - Sw Face > Sw Face Right (Monkey Business Wall)",
           50,
           2.2
          ],
          [
           "Mic's Master",
           "2021-01-17",
           "Wake Up Wall Area > The Wake-Up Wall",
           55,
           2.7
          ],
          [
           "The Last Drag",
           "2021-01-17",
           "Wake Up Wall Area > The Wake-Up Wall",
           50,
           2.4
          ],
          [
           "First Born",
           "2021-01-17",
           "Wake Up Wall Area > The Wake-Up Wall",
           65,
           1.9
          ],
          [
           "Spanky Spangler",
           "2021-01-17",
           "Wake Up Wall Area > The Wake-Up Wall",
           65,
           2.7
          ],
          [
           "Fall Of Vegas",
           "2021-01-17",
           "Wake Up Wall Area > The Wake-Up Wall",
           50,
           2.3
          ],
          [
           "Mushroom People",
           "2021-01-15",
           "10-Pine Creek Canyon > Brass Wall",
           100,
           3.4
          ],
          [
           "Delicious",
           "2020-12-12",
           "Malibu Creek State Park > Mt. Gorgeous",
           85,
           3
          ],
          [
           "Family Jewel",
           "2020-12-12",
           "Malibu Creek State Park > Mt. Gorgeous",
           50,
           2.9
          ],
          [
           "Stuart's Rig (aka Stu Boy)",
           "2020-12-05",
           "Hwy 33/Ojai > Wheeler Gorge",
           75,
           2.7
          ],
          [
           "Pigs In Space",
           "2020-11-22",
           "Indian Creek > Battle Of The Bulge Buttress",
           120,
           2.9
          ],
          [
           "Casey's Route",
           "2020-11-21",
           "Indian Creek > The Optimator",
           70,
           2.7
          ],
          [
           "Ditch 'em",
           "2020-11-21",
           "Indian Creek > The Optimator",
           50,
           2.6
          ],
          [
           "Lady Pillar",
           "2020-11-21",
           "Indian Creek > The Optimator",
           110,
           2.6
          ],
          [
           "Hayutake",
           "2020-11-21",
           "Indian Creek > The Optimator",
           120,
           3.2
          ],
          [
           "Neat",
           "2020-11-21",
           "Indian Creek > The Optimator",
           100,
           3.2
          ],
          [
           "Dirty Woman",
           "2020-11-20",
           "Indian Creek > The Wall",
           35,
           2.1
          ],
          [
           "Freebird",
           "2020-11-20",
           "Indian Creek > The Wall",
           60,
           3.1
          ],
          [
           "Run Like Hell",
           "2020-11-20",
           "Indian Creek > The Wall",
           70,
           3.5
          ],
          [
           "3am Crack",
           "2020-11-19",
           "Indian Creek > Supercrack Buttress",
           115,
           3.5
          ],
          [
           "Princess Buttercup",
           "2020-11-18",
           "Indian Creek > Cliffs Of Insanity",
           70,
           3
          ],
          [
           "Iocane Powder",
           "2020-11-18",
           "Indian Creek > Cliffs Of Insanity",
           35,
           2.5
          ],
          [
           "Blue Sun",
           "2020-11-15",
           "Indian Creek > Way Rambo",
           70,
           3.6
          ],
          [
           "Elephant Man",
           "2020-11-14",
           "Indian Creek > Donnelly Canyon",
           80,
           2.5
          ],
          [
           "Owl Crack",
           "2020-11-14",
           "Indian Creek > Donnelly Canyon",
           80,
           3.1
          ],
          [
           "Idiot Parade (aka Need To Rest)",
           "2020-10-18",
           "Lower Level > Lower Level - Right",
           50,
           2.9
          ],
          [
           "Vagabonds",
           "2020-10-18",
           "Lower Level > Lower Level - Left",
           70,
           2.7
          ],
          [
           "Atman",
           "2020-10-17",
           "Kraft Mountain Area > Yin And Yang Cliff",
           40,
           3.1
          ],
          [
           "Miss Conception",
           "2020-10-16",
           "Whiskey Peak > North Face",
           200,
           2.8
          ],
          [
           "Spark Plug",
           "2020-10-16",
           "16-Black Velvet Canyon > Black Velvet Wall",
           100,
           3
          ],
          [
           "Sand Felipe",
           "2020-10-16",
           "Whiskey Peak > North Face",
           110,
           2.6
          ],
          [
           "Face The Seam",
           "2020-10-12",
           "Santa Barbara > Fire Crags",
           35,
           2
          ],
          [
           "Gorgeous",
           "2020-09-26",
           "Malibu Creek State Park > Mt. Gorgeous",
           60,
           2.7
          ],
          [
           "Jensen's Jugs",
           "2020-09-14",
           "Santa Barbara > Fire Crags",
           50,
           2.4
          ],
          [
           "Miss Apprehension",
           "2020-09-06",
           "Olmsted Area > Olmsted Canyon Right",
           55,
           2
          ],
          [
           "Crying Time Again",
           "2020-08-28",
           "Lembert Dome > Northwest Face",
           400,
           3.5
          ],
          [
           "But I Don't Drink Scotch",
           "2020-08-15",
           "Crystal Crag > Highlands Wall",
           100,
           2.7
          ],
          [
           "Springbank",
           "2020-08-15",
           "Crystal Crag > Highlands Wall",
           90,
           3.6
          ],
          [
           "Gridlock",
           "2020-08-09",
           "Hwy 33/Ojai > Wheeler Gorge",
           65,
           2.6
          ],
          [
           "Sick Boy",
           "2020-08-09",
           "Hwy 33/Ojai > Wheeler Gorge",
           55,
           3
          ],
          [
           "Cucumbers",
           "2020-07-17",
           "Bishop Area > Cardinal Pinnacle",
           350,
           3.2
          ],
          [
           "West Face",
           "2020-07-17",
           "Bishop Area > Cardinal Pinnacle",
           550,
           3.8
          ],
          [
           "Cut The Cord",
           "2020-07-11",
           "Malibu Creek State Park > Ghetto Wall",
           30,
           2.1
          ],
          [
           "Kathmandu",
           "2020-07-11",
           "Malibu Creek State Park > Ghetto Wall",
           35,
           2.6
          ],
          [
           "Careful, There's A Beverage Here!",
           "2020-06-21",
           "The Playground > Little Lebowski Urban Achievers Crag",
           50,
           2.2
          ],
          [
           "Airy Interlude",
           "2020-06-13",
           "The Needles > The Witch",
           null,
           3.9
          ],
          [
           "The Gibbon",
           "2020-05-10",
           "Gibraltar Area > Upper Gibraltar",
           100,
           2.5
          ],
          [
           "T-crack",
           "2020-04-24",
           "Gibraltar Area > Gibraltar Rock",
           60,
           3.7
          ],
          [
           "Triassic Sands",
           "2020-02-07",
           "Whiskey Peak > North Face",
           700,
           3.8
          ],
          [
           "No Calculators Allowed",
           "2019-11-16",
           "Real Hidden Valley > The Thin Wall",
           50,
           2.6
          ],
          [
           "Fisticuffs",
           "2019-11-16",
           "Real Hidden Valley > Tumbling Rainbow Formation",
           30,
           2.9
          ],
          [
           "Crack 6",
           "2019-11-15",
           "Isles Corridor > Isles Corridor - Left Side",
           50,
           2.9
          ],
          [
           "Bird Of Fire",
           "2019-11-15",
           "Isles In The Sky > Isles In The Sky (Northeast Face)",
           80,
           3.8
          ],
          [
           "Moubit",
           "2019-11-09",
           "Isles Corridor > Isles Corridor - Right Side",
           60,
           2.3
          ],
          [
           "The Guillotine",
           "2019-11-02",
           "Echo Cliffs > The Alcove",
           90,
           3.4
          ],
          [
           "Caution: Falling Snakes",
           "2019-10-06",
           "Invisible Wall > Lower Main Wall",
           null,
           3
          ],
          [
           "Raised On Robbery",
           "2019-09-05",
           "Lower Blair I, Ii, Iii, And Vicinity > Lower Blair I",
           70,
           3.5
          ],
          [
           "Mctech Arete",
           "2019-08-27",
           "Bugaboos > Crescent Spire",
           500,
           3.8
          ],
          [
           "Arrowroot",
           "2019-08-20",
           "Stawamus Chief > Grand Wall Base Area",
           115,
           3.5
          ],
          [
           "Seasoned In The Sun",
           "2019-08-20",
           "Stawamus Chief > Grand Wall Base Area",
           95,
           3.6
          ],
          [
           "Coronary Bypass",
           "2019-08-19",
           "The Smoke Bluffs > Respiration Rock",
           40,
           2.8
          ],
          [
           "The Ultimate Everything",
           "2019-08-18",
           "Stawamus Chief > Echelon Wall",
           1300,
           2.9
          ],
          [
           "Rock On",
           "2019-08-18",
           "Stawamus Chief > The Apron",
           400,
           3.6
          ],
          [
           "Hungry, Hungry Hippos",
           "2019-08-16",
           "Murrin Park > Commonwealth",
           65,
           2.4
          ],
          [
           "Pop-sickle",
           "2019-08-16",
           "Murrin Park > Commonwealth",
           80,
           2
          ],
          [
           "Neat And Cool Offwidth",
           "2019-08-14",
           "The Smoke Bluffs > Neat And Cool",
           70,
           2.4
          ],
          [
           "Flying Circus",
           "2019-08-14",
           "The Smoke Bluffs > Neat And Cool",
           100,
           3.6
          ],
          [
           "Rattletale",
           "2019-08-01",
           "Lookout Point Area > Rattletale Wall",
           null,
           3.8
          ],
          [
           "Tofu Crack",
           "2019-05-13",
           "Indian Creek > 2Nd Meat Wall",
           115,
           3.3
          ],
          [
           "No Name Crack",
           "2019-05-12",
           "Indian Creek > Supercrack Buttress",
           110,
           3.2
          ],
          [
           "Hot Toddy",
           "2019-05-11",
           "Long Canyon > Maverick Buttress",
           80,
           2.9
          ],
          [
           "Texas Two Step",
           "2019-05-11",
           "Long Canyon > Maverick Buttress",
           null,
           2.7
          ],
          [
           "Pocket Rocket",
           "2019-05-09",
           "Day Canyon > Day Canyon Cragging Routes",
           65,
           3.5
          ],
          [
           "Dread Pirate Roberts",
           "2019-05-04",
           "Indian Creek > Cliffs Of Insanity",
           60,
           3.1
          ],
          [
           "Kelley Route 1",
           "2019-05-04",
           "Indian Creek > Cliffs Of Insanity",
           130,
           3.6
          ],
          [
           "Supercrack Of The Desert",
           "2019-05-03",
           "Indian Creek > Supercrack Buttress",
           null,
           3.8
          ],
          [
           "Incredible Hand Crack",
           "2019-05-03",
           "Indian Creek > Supercrack Buttress",
           100,
           3.8
          ],
          [
           "Generic Crack",
           "2019-05-02",
           "Indian Creek > Donnelly Canyon",
           120,
           3.4
          ],
          [
           "Dawn Of An Age",
           "2019-05-01",
           "Indian Creek > Blue Gramma Cliff",
           50,
           2.5
          ],
          [
           "Kemosabe",
           "2019-04-22",
           "07-Willow Spring > Ragged Edges Area",
           100,
           2.6
          ],
          [
           "Getaway",
           "2019-01-19",
           "Box Canyon East > The Getaway",
           65,
           3.3
          ],
          [
           "Holey Moley",
           "2019-01-19",
           "Raven Rocks > Raven Rocks North Face \"Power Block\" Area",
           90,
           3
          ],
          [
           "Celestial Spheres",
           "2018-12-16",
           "03-First Pullout (Calico I) > Dante'S Wall",
           65,
           2.6
          ],
          [
           "Divine Comedy",
           "2018-12-16",
           "03-First Pullout (Calico I) > Dante'S Wall",
           65,
           3.3
          ],
          [
           "The Right Road Lost",
           "2018-12-16",
           "03-First Pullout (Calico I) > Dante'S Wall",
           50,
           2.6
          ],
          [
           "Ches Game",
           "2018-10-25",
           "Invisible Wall > Lower Main Wall",
           null,
           2.3
          ],
          [
           "Twice Stung And Forever Shy",
           "2018-10-25",
           "Invisible Wall > Bug Wall",
           null,
           2.9
          ],
          [
           "Tut",
           "2018-10-21",
           "Century Lake Area > Little Cheops",
           40,
           2
          ],
          [
           "Power Station",
           "2018-10-21",
           "Century Lake Area > The Power Wall",
           50,
           2.9
          ],
          [
           "Power Grid",
           "2018-10-21",
           "Century Lake Area > The Power Wall",
           60,
           2.6
          ],
          [
           "Cleaning Lady",
           "2018-09-17",
           "Hwy 33/Ojai > Potrero John",
           80,
           2.8
          ]
         ],
         "hovertemplate": "Name: %{customdata[0]}<br>Date: %{customdata[1]}<br>Location: %{customdata[2]}<br>Length: %{customdata[3]}ft<br>Avg Stars: %{customdata[4]}",
         "legendgroup": "",
         "marker": {
          "color": "#7A4F25",
          "line": {
           "color": "black",
           "width": 2
          },
          "size": 12,
          "symbol": "square"
         },
         "mode": "markers",
         "name": "",
         "orientation": "v",
         "showlegend": false,
         "type": "scatter",
         "x": [
          "2022-11-25",
          "2022-11-24",
          "2022-11-24",
          "2022-11-20",
          "2022-11-19",
          "2022-11-19",
          "2022-11-19",
          "2022-11-05",
          "2022-11-05",
          "2022-11-05",
          "2022-10-21",
          "2022-10-20",
          "2022-10-20",
          "2022-10-20",
          "2022-10-17",
          "2022-10-17",
          "2022-10-17",
          "2022-10-15",
          "2022-10-15",
          "2022-10-14",
          "2022-10-14",
          "2022-10-14",
          "2022-10-08",
          "2022-10-08",
          "2022-10-01",
          "2022-08-20",
          "2022-07-22",
          "2022-07-17",
          "2022-07-17",
          "2022-07-09",
          "2022-07-08",
          "2022-07-06",
          "2022-07-06",
          "2022-07-05",
          "2022-07-04",
          "2022-07-04",
          "2022-07-02",
          "2022-07-02",
          "2022-06-18",
          "2022-06-18",
          "2022-05-29",
          "2022-05-29",
          "2022-05-13",
          "2022-05-13",
          "2022-05-07",
          "2022-04-16",
          "2022-04-09",
          "2022-04-09",
          "2022-03-13",
          "2022-03-13",
          "2022-03-13",
          "2022-03-12",
          "2022-03-12",
          "2022-03-11",
          "2022-03-11",
          "2022-03-11",
          "2022-02-05",
          "2022-02-05",
          "2022-02-05",
          "2022-02-05",
          "2022-01-23",
          "2022-01-23",
          "2022-01-23",
          "2022-01-23",
          "2022-01-15",
          "2021-12-04",
          "2021-12-04",
          "2021-11-07",
          "2021-11-07",
          "2021-11-06",
          "2021-11-06",
          "2021-11-05",
          "2021-10-30",
          "2021-10-21",
          "2021-10-21",
          "2021-10-21",
          "2021-10-20",
          "2021-10-20",
          "2021-10-20",
          "2021-10-18",
          "2021-10-18",
          "2021-10-17",
          "2021-10-17",
          "2021-10-17",
          "2021-10-16",
          "2021-10-16",
          "2021-10-16",
          "2021-09-16",
          "2021-09-03",
          "2021-08-29",
          "2021-08-21",
          "2021-08-20",
          "2021-08-20",
          "2021-07-23",
          "2021-07-22",
          "2021-07-22",
          "2021-07-22",
          "2021-07-22",
          "2021-07-20",
          "2021-06-05",
          "2021-06-04",
          "2021-06-03",
          "2021-06-03",
          "2021-05-13",
          "2021-05-13",
          "2021-05-02",
          "2021-05-02",
          "2021-04-11",
          "2021-04-09",
          "2021-03-27",
          "2021-03-27",
          "2021-03-27",
          "2021-03-27",
          "2021-03-27",
          "2021-03-21",
          "2021-03-21",
          "2021-03-21",
          "2021-03-14",
          "2021-03-14",
          "2021-03-09",
          "2021-02-28",
          "2021-02-20",
          "2021-02-13",
          "2021-02-10",
          "2021-02-06",
          "2021-01-31",
          "2021-01-30",
          "2021-01-30",
          "2021-01-30",
          "2021-01-17",
          "2021-01-17",
          "2021-01-17",
          "2021-01-17",
          "2021-01-17",
          "2021-01-15",
          "2020-12-12",
          "2020-12-12",
          "2020-12-05",
          "2020-11-22",
          "2020-11-21",
          "2020-11-21",
          "2020-11-21",
          "2020-11-21",
          "2020-11-21",
          "2020-11-20",
          "2020-11-20",
          "2020-11-20",
          "2020-11-19",
          "2020-11-18",
          "2020-11-18",
          "2020-11-15",
          "2020-11-14",
          "2020-11-14",
          "2020-10-18",
          "2020-10-18",
          "2020-10-17",
          "2020-10-16",
          "2020-10-16",
          "2020-10-16",
          "2020-10-12",
          "2020-09-26",
          "2020-09-14",
          "2020-09-06",
          "2020-08-28",
          "2020-08-15",
          "2020-08-15",
          "2020-08-09",
          "2020-08-09",
          "2020-07-17",
          "2020-07-17",
          "2020-07-11",
          "2020-07-11",
          "2020-06-21",
          "2020-06-13",
          "2020-05-10",
          "2020-04-24",
          "2020-02-07",
          "2019-11-16",
          "2019-11-16",
          "2019-11-15",
          "2019-11-15",
          "2019-11-09",
          "2019-11-02",
          "2019-10-06",
          "2019-09-05",
          "2019-08-27",
          "2019-08-20",
          "2019-08-20",
          "2019-08-19",
          "2019-08-18",
          "2019-08-18",
          "2019-08-16",
          "2019-08-16",
          "2019-08-14",
          "2019-08-14",
          "2019-08-01",
          "2019-05-13",
          "2019-05-12",
          "2019-05-11",
          "2019-05-11",
          "2019-05-09",
          "2019-05-04",
          "2019-05-04",
          "2019-05-03",
          "2019-05-03",
          "2019-05-02",
          "2019-05-01",
          "2019-04-22",
          "2019-01-19",
          "2019-01-19",
          "2018-12-16",
          "2018-12-16",
          "2018-12-16",
          "2018-10-25",
          "2018-10-25",
          "2018-10-21",
          "2018-10-21",
          "2018-10-21",
          "2018-09-17"
         ],
         "xaxis": "x",
         "y": [
          "5.11a",
          "5.10b",
          "5.10b",
          "5.10c",
          "5.10d",
          "5.10c",
          "5.10b",
          "5.12a",
          "5.11a",
          "5.10d",
          "5.10c",
          "5.10c",
          "5.11b",
          "5.11b",
          "5.10c",
          "5.11a",
          "5.11a",
          "5.10c",
          "5.10b",
          "5.10c",
          "5.10b",
          "5.10b",
          "5.11c",
          "5.10c",
          "5.10b",
          "5.10a",
          "5.10d",
          "5.10c",
          "5.10b",
          "5.10c",
          "5.10b",
          "5.11a",
          "5.10c",
          "5.10b",
          "5.10b",
          "5.10d",
          "5.10a",
          "5.10b",
          "5.10a",
          "5.11a",
          "5.10a",
          "5.10c",
          "5.10c",
          "5.10a",
          "5.10d",
          "5.10a",
          "5.10b",
          "5.10d",
          "5.11b",
          "5.10a",
          "5.11b",
          "5.10b",
          "5.10a",
          "5.10a",
          "5.10b",
          "5.10b",
          "5.10d",
          "5.11b",
          "5.10c",
          "5.11a",
          "5.10b",
          "5.10a",
          "5.10a",
          "5.11b",
          "5.10a",
          "5.10b",
          "5.10b",
          "5.10a",
          "5.11a",
          "5.10b",
          "5.10c",
          "5.10a",
          "5.10c",
          "5.10b",
          "5.10c",
          "5.10d",
          "5.10c",
          "5.10d",
          "5.10b",
          "5.10c",
          "5.10b",
          "5.10c",
          "5.11b",
          "5.11b",
          "5.10c",
          "5.10b",
          "5.10c",
          "5.10c",
          "5.11a",
          "5.10a",
          "5.10c",
          "5.10c",
          "5.10c",
          "5.10a",
          "5.10c",
          "5.10a",
          "5.10b",
          "5.10b",
          "5.10b",
          "5.10b",
          "5.10a",
          "5.10b",
          "5.10a",
          "5.11b",
          "5.10b",
          "5.10c",
          "5.10d",
          "5.10c",
          "5.10b",
          "5.10b",
          "5.10a",
          "5.10c",
          "5.10c",
          "5.10b",
          "5.10b",
          "5.10a",
          "5.10a",
          "5.10a",
          "5.10c",
          "5.11a",
          "5.11a",
          "5.10b",
          "5.10b",
          "5.11a",
          "5.10a",
          "5.10a",
          "5.10a",
          "5.10c",
          "5.10a",
          "5.10b",
          "5.10a",
          "5.10b",
          "5.10c",
          "5.10a",
          "5.10c",
          "5.10d",
          "5.10c",
          "5.11a",
          "5.10c",
          "5.10d",
          "5.10b",
          "5.10b",
          "5.10d",
          "5.10b",
          "5.10b",
          "5.10b",
          "5.10b",
          "5.10c",
          "5.10a",
          "5.10a",
          "5.10a",
          "5.10a",
          "5.10c",
          "5.10c",
          "5.10a",
          "5.10a",
          "5.10b",
          "5.10b",
          "5.10a",
          "5.10a",
          "5.10a",
          "5.10b",
          "5.10a",
          "5.10a",
          "5.10a",
          "5.10a",
          "5.10a",
          "5.10b",
          "5.10b",
          "5.10a",
          "5.10b",
          "5.10a",
          "5.10a",
          "5.10a",
          "5.10b",
          "5.10c",
          "5.10c",
          "5.10a",
          "5.10b",
          "5.10a",
          "5.10a",
          "5.10a",
          "5.10b",
          "5.10b",
          "5.10b",
          "5.10b",
          "5.10b",
          "5.10a",
          "5.10a",
          "5.10b",
          "5.10a",
          "5.10a",
          "5.10d",
          "5.10b",
          "5.10a",
          "5.10b",
          "5.10b",
          "5.10b",
          "5.10b",
          "5.10b",
          "5.10c",
          "5.10c",
          "5.10c",
          "5.10b",
          "5.10b",
          "5.10a",
          "5.10b",
          "5.10a",
          "5.10a",
          "5.10a",
          "5.10b",
          "5.10a",
          "5.10a",
          "5.10c",
          "5.10a",
          "5.10a",
          "5.10b",
          "5.10a",
          "5.10b"
         ],
         "yaxis": "y"
        }
       ],
       "layout": {
        "bargap": 0,
        "font": {
         "color": "black",
         "family": "Courier New",
         "size": 20
        },
        "legend": {
         "tracegroupgap": 0
        },
        "margin": {
         "t": 60
        },
        "paper_bgcolor": "#ece5dc",
        "plot_bgcolor": "#F5D3A5",
        "template": {
         "data": {
          "bar": [
           {
            "error_x": {
             "color": "#2a3f5f"
            },
            "error_y": {
             "color": "#2a3f5f"
            },
            "marker": {
             "line": {
              "color": "#E5ECF6",
              "width": 0.5
             },
             "pattern": {
              "fillmode": "overlay",
              "size": 10,
              "solidity": 0.2
             }
            },
            "type": "bar"
           }
          ],
          "barpolar": [
           {
            "marker": {
             "line": {
              "color": "#E5ECF6",
              "width": 0.5
             },
             "pattern": {
              "fillmode": "overlay",
              "size": 10,
              "solidity": 0.2
             }
            },
            "type": "barpolar"
           }
          ],
          "carpet": [
           {
            "aaxis": {
             "endlinecolor": "#2a3f5f",
             "gridcolor": "white",
             "linecolor": "white",
             "minorgridcolor": "white",
             "startlinecolor": "#2a3f5f"
            },
            "baxis": {
             "endlinecolor": "#2a3f5f",
             "gridcolor": "white",
             "linecolor": "white",
             "minorgridcolor": "white",
             "startlinecolor": "#2a3f5f"
            },
            "type": "carpet"
           }
          ],
          "choropleth": [
           {
            "colorbar": {
             "outlinewidth": 0,
             "ticks": ""
            },
            "type": "choropleth"
           }
          ],
          "contour": [
           {
            "colorbar": {
             "outlinewidth": 0,
             "ticks": ""
            },
            "colorscale": [
             [
              0,
              "#0d0887"
             ],
             [
              0.1111111111111111,
              "#46039f"
             ],
             [
              0.2222222222222222,
              "#7201a8"
             ],
             [
              0.3333333333333333,
              "#9c179e"
             ],
             [
              0.4444444444444444,
              "#bd3786"
             ],
             [
              0.5555555555555556,
              "#d8576b"
             ],
             [
              0.6666666666666666,
              "#ed7953"
             ],
             [
              0.7777777777777778,
              "#fb9f3a"
             ],
             [
              0.8888888888888888,
              "#fdca26"
             ],
             [
              1,
              "#f0f921"
             ]
            ],
            "type": "contour"
           }
          ],
          "contourcarpet": [
           {
            "colorbar": {
             "outlinewidth": 0,
             "ticks": ""
            },
            "type": "contourcarpet"
           }
          ],
          "heatmap": [
           {
            "colorbar": {
             "outlinewidth": 0,
             "ticks": ""
            },
            "colorscale": [
             [
              0,
              "#0d0887"
             ],
             [
              0.1111111111111111,
              "#46039f"
             ],
             [
              0.2222222222222222,
              "#7201a8"
             ],
             [
              0.3333333333333333,
              "#9c179e"
             ],
             [
              0.4444444444444444,
              "#bd3786"
             ],
             [
              0.5555555555555556,
              "#d8576b"
             ],
             [
              0.6666666666666666,
              "#ed7953"
             ],
             [
              0.7777777777777778,
              "#fb9f3a"
             ],
             [
              0.8888888888888888,
              "#fdca26"
             ],
             [
              1,
              "#f0f921"
             ]
            ],
            "type": "heatmap"
           }
          ],
          "heatmapgl": [
           {
            "colorbar": {
             "outlinewidth": 0,
             "ticks": ""
            },
            "colorscale": [
             [
              0,
              "#0d0887"
             ],
             [
              0.1111111111111111,
              "#46039f"
             ],
             [
              0.2222222222222222,
              "#7201a8"
             ],
             [
              0.3333333333333333,
              "#9c179e"
             ],
             [
              0.4444444444444444,
              "#bd3786"
             ],
             [
              0.5555555555555556,
              "#d8576b"
             ],
             [
              0.6666666666666666,
              "#ed7953"
             ],
             [
              0.7777777777777778,
              "#fb9f3a"
             ],
             [
              0.8888888888888888,
              "#fdca26"
             ],
             [
              1,
              "#f0f921"
             ]
            ],
            "type": "heatmapgl"
           }
          ],
          "histogram": [
           {
            "marker": {
             "pattern": {
              "fillmode": "overlay",
              "size": 10,
              "solidity": 0.2
             }
            },
            "type": "histogram"
           }
          ],
          "histogram2d": [
           {
            "colorbar": {
             "outlinewidth": 0,
             "ticks": ""
            },
            "colorscale": [
             [
              0,
              "#0d0887"
             ],
             [
              0.1111111111111111,
              "#46039f"
             ],
             [
              0.2222222222222222,
              "#7201a8"
             ],
             [
              0.3333333333333333,
              "#9c179e"
             ],
             [
              0.4444444444444444,
              "#bd3786"
             ],
             [
              0.5555555555555556,
              "#d8576b"
             ],
             [
              0.6666666666666666,
              "#ed7953"
             ],
             [
              0.7777777777777778,
              "#fb9f3a"
             ],
             [
              0.8888888888888888,
              "#fdca26"
             ],
             [
              1,
              "#f0f921"
             ]
            ],
            "type": "histogram2d"
           }
          ],
          "histogram2dcontour": [
           {
            "colorbar": {
             "outlinewidth": 0,
             "ticks": ""
            },
            "colorscale": [
             [
              0,
              "#0d0887"
             ],
             [
              0.1111111111111111,
              "#46039f"
             ],
             [
              0.2222222222222222,
              "#7201a8"
             ],
             [
              0.3333333333333333,
              "#9c179e"
             ],
             [
              0.4444444444444444,
              "#bd3786"
             ],
             [
              0.5555555555555556,
              "#d8576b"
             ],
             [
              0.6666666666666666,
              "#ed7953"
             ],
             [
              0.7777777777777778,
              "#fb9f3a"
             ],
             [
              0.8888888888888888,
              "#fdca26"
             ],
             [
              1,
              "#f0f921"
             ]
            ],
            "type": "histogram2dcontour"
           }
          ],
          "mesh3d": [
           {
            "colorbar": {
             "outlinewidth": 0,
             "ticks": ""
            },
            "type": "mesh3d"
           }
          ],
          "parcoords": [
           {
            "line": {
             "colorbar": {
              "outlinewidth": 0,
              "ticks": ""
             }
            },
            "type": "parcoords"
           }
          ],
          "pie": [
           {
            "automargin": true,
            "type": "pie"
           }
          ],
          "scatter": [
           {
            "fillpattern": {
             "fillmode": "overlay",
             "size": 10,
             "solidity": 0.2
            },
            "type": "scatter"
           }
          ],
          "scatter3d": [
           {
            "line": {
             "colorbar": {
              "outlinewidth": 0,
              "ticks": ""
             }
            },
            "marker": {
             "colorbar": {
              "outlinewidth": 0,
              "ticks": ""
             }
            },
            "type": "scatter3d"
           }
          ],
          "scattercarpet": [
           {
            "marker": {
             "colorbar": {
              "outlinewidth": 0,
              "ticks": ""
             }
            },
            "type": "scattercarpet"
           }
          ],
          "scattergeo": [
           {
            "marker": {
             "colorbar": {
              "outlinewidth": 0,
              "ticks": ""
             }
            },
            "type": "scattergeo"
           }
          ],
          "scattergl": [
           {
            "marker": {
             "colorbar": {
              "outlinewidth": 0,
              "ticks": ""
             }
            },
            "type": "scattergl"
           }
          ],
          "scattermapbox": [
           {
            "marker": {
             "colorbar": {
              "outlinewidth": 0,
              "ticks": ""
             }
            },
            "type": "scattermapbox"
           }
          ],
          "scatterpolar": [
           {
            "marker": {
             "colorbar": {
              "outlinewidth": 0,
              "ticks": ""
             }
            },
            "type": "scatterpolar"
           }
          ],
          "scatterpolargl": [
           {
            "marker": {
             "colorbar": {
              "outlinewidth": 0,
              "ticks": ""
             }
            },
            "type": "scatterpolargl"
           }
          ],
          "scatterternary": [
           {
            "marker": {
             "colorbar": {
              "outlinewidth": 0,
              "ticks": ""
             }
            },
            "type": "scatterternary"
           }
          ],
          "surface": [
           {
            "colorbar": {
             "outlinewidth": 0,
             "ticks": ""
            },
            "colorscale": [
             [
              0,
              "#0d0887"
             ],
             [
              0.1111111111111111,
              "#46039f"
             ],
             [
              0.2222222222222222,
              "#7201a8"
             ],
             [
              0.3333333333333333,
              "#9c179e"
             ],
             [
              0.4444444444444444,
              "#bd3786"
             ],
             [
              0.5555555555555556,
              "#d8576b"
             ],
             [
              0.6666666666666666,
              "#ed7953"
             ],
             [
              0.7777777777777778,
              "#fb9f3a"
             ],
             [
              0.8888888888888888,
              "#fdca26"
             ],
             [
              1,
              "#f0f921"
             ]
            ],
            "type": "surface"
           }
          ],
          "table": [
           {
            "cells": {
             "fill": {
              "color": "#EBF0F8"
             },
             "line": {
              "color": "white"
             }
            },
            "header": {
             "fill": {
              "color": "#C8D4E3"
             },
             "line": {
              "color": "white"
             }
            },
            "type": "table"
           }
          ]
         },
         "layout": {
          "annotationdefaults": {
           "arrowcolor": "#2a3f5f",
           "arrowhead": 0,
           "arrowwidth": 1
          },
          "autotypenumbers": "strict",
          "coloraxis": {
           "colorbar": {
            "outlinewidth": 0,
            "ticks": ""
           }
          },
          "colorscale": {
           "diverging": [
            [
             0,
             "#8e0152"
            ],
            [
             0.1,
             "#c51b7d"
            ],
            [
             0.2,
             "#de77ae"
            ],
            [
             0.3,
             "#f1b6da"
            ],
            [
             0.4,
             "#fde0ef"
            ],
            [
             0.5,
             "#f7f7f7"
            ],
            [
             0.6,
             "#e6f5d0"
            ],
            [
             0.7,
             "#b8e186"
            ],
            [
             0.8,
             "#7fbc41"
            ],
            [
             0.9,
             "#4d9221"
            ],
            [
             1,
             "#276419"
            ]
           ],
           "sequential": [
            [
             0,
             "#0d0887"
            ],
            [
             0.1111111111111111,
             "#46039f"
            ],
            [
             0.2222222222222222,
             "#7201a8"
            ],
            [
             0.3333333333333333,
             "#9c179e"
            ],
            [
             0.4444444444444444,
             "#bd3786"
            ],
            [
             0.5555555555555556,
             "#d8576b"
            ],
            [
             0.6666666666666666,
             "#ed7953"
            ],
            [
             0.7777777777777778,
             "#fb9f3a"
            ],
            [
             0.8888888888888888,
             "#fdca26"
            ],
            [
             1,
             "#f0f921"
            ]
           ],
           "sequentialminus": [
            [
             0,
             "#0d0887"
            ],
            [
             0.1111111111111111,
             "#46039f"
            ],
            [
             0.2222222222222222,
             "#7201a8"
            ],
            [
             0.3333333333333333,
             "#9c179e"
            ],
            [
             0.4444444444444444,
             "#bd3786"
            ],
            [
             0.5555555555555556,
             "#d8576b"
            ],
            [
             0.6666666666666666,
             "#ed7953"
            ],
            [
             0.7777777777777778,
             "#fb9f3a"
            ],
            [
             0.8888888888888888,
             "#fdca26"
            ],
            [
             1,
             "#f0f921"
            ]
           ]
          },
          "colorway": [
           "#636efa",
           "#EF553B",
           "#00cc96",
           "#ab63fa",
           "#FFA15A",
           "#19d3f3",
           "#FF6692",
           "#B6E880",
           "#FF97FF",
           "#FECB52"
          ],
          "font": {
           "color": "#2a3f5f"
          },
          "geo": {
           "bgcolor": "white",
           "lakecolor": "white",
           "landcolor": "#E5ECF6",
           "showlakes": true,
           "showland": true,
           "subunitcolor": "white"
          },
          "hoverlabel": {
           "align": "left"
          },
          "hovermode": "closest",
          "mapbox": {
           "style": "light"
          },
          "paper_bgcolor": "white",
          "plot_bgcolor": "#E5ECF6",
          "polar": {
           "angularaxis": {
            "gridcolor": "white",
            "linecolor": "white",
            "ticks": ""
           },
           "bgcolor": "#E5ECF6",
           "radialaxis": {
            "gridcolor": "white",
            "linecolor": "white",
            "ticks": ""
           }
          },
          "scene": {
           "xaxis": {
            "backgroundcolor": "#E5ECF6",
            "gridcolor": "white",
            "gridwidth": 2,
            "linecolor": "white",
            "showbackground": true,
            "ticks": "",
            "zerolinecolor": "white"
           },
           "yaxis": {
            "backgroundcolor": "#E5ECF6",
            "gridcolor": "white",
            "gridwidth": 2,
            "linecolor": "white",
            "showbackground": true,
            "ticks": "",
            "zerolinecolor": "white"
           },
           "zaxis": {
            "backgroundcolor": "#E5ECF6",
            "gridcolor": "white",
            "gridwidth": 2,
            "linecolor": "white",
            "showbackground": true,
            "ticks": "",
            "zerolinecolor": "white"
           }
          },
          "shapedefaults": {
           "line": {
            "color": "#2a3f5f"
           }
          },
          "ternary": {
           "aaxis": {
            "gridcolor": "white",
            "linecolor": "white",
            "ticks": ""
           },
           "baxis": {
            "gridcolor": "white",
            "linecolor": "white",
            "ticks": ""
           },
           "bgcolor": "#E5ECF6",
           "caxis": {
            "gridcolor": "white",
            "linecolor": "white",
            "ticks": ""
           }
          },
          "title": {
           "x": 0.05
          },
          "xaxis": {
           "automargin": true,
           "gridcolor": "white",
           "linecolor": "white",
           "ticks": "",
           "title": {
            "standoff": 15
           },
           "zerolinecolor": "white",
           "zerolinewidth": 2
          },
          "yaxis": {
           "automargin": true,
           "gridcolor": "white",
           "linecolor": "white",
           "ticks": "",
           "title": {
            "standoff": 15
           },
           "zerolinecolor": "white",
           "zerolinewidth": 2
          }
         }
        },
        "title": {
         "font": {
          "size": 30
         },
         "text": "Send by Date",
         "x": 0.5
        },
        "xaxis": {
         "anchor": "y",
         "domain": [
          0,
          1
         ],
         "title": {
          "text": "Date"
         }
        },
        "yaxis": {
         "anchor": "x",
         "categoryarray": [
          "5.0",
          "5.1",
          "5.2",
          "5.3",
          "5.4",
          "5.5",
          "5.6",
          "5.7",
          "5.8",
          "5.9",
          "5.10a",
          "5.10b",
          "5.10c",
          "5.10d",
          "5.11a",
          "5.11b",
          "5.11c",
          "5.11d",
          "5.12a",
          "5.12b",
          "5.12c",
          "5.12d",
          "5.13a",
          "5.13b",
          "5.13c",
          "5.13d",
          "5.14a",
          "5.14b",
          "5.14c",
          "5.14d",
          "5.15a",
          "5.15b",
          "5.15c",
          "5.15d"
         ],
         "categoryorder": "array",
         "domain": [
          0,
          1
         ],
         "title": {
          "text": "Grade"
         }
        }
       }
      }
     },
     "metadata": {},
     "output_type": "display_data"
    }
   ],
   "source": [
    "fig = px.scatter(df_clean_sends, \"Date\", \"Rating\", category_orders={\"Rating\": YDS_GRADES_LETTER[::-1]}, custom_data=['Route Formatted', 'Date', 'Location Formatted', 'Length', 'Avg Stars'])\n",
    "fig.update_layout(font={'family':'Courier New', 'color':'black', 'size':20}, title={'text':'Send by Date', 'x':0.5, 'font_size':30}, xaxis={'title': 'Date'}, yaxis={'title': 'Grade'}, paper_bgcolor='#ece5dc', plot_bgcolor='#F5D3A5', bargap=0)\n",
    "fig.update_traces(marker_symbol='square', marker_color='#7A4F25', marker_size=12, marker_line_width=2, marker_line_color='black', hovertemplate='Name: %{customdata[0]}<br>Date: %{customdata[1]}<br>Location: %{customdata[2]}<br>Length: %{customdata[3]}ft<br>Avg Stars: %{customdata[4]}')"
   ]
  },
  {
   "cell_type": "code",
   "execution_count": 30,
   "metadata": {},
   "outputs": [
    {
     "data": {
      "text/html": [
       "<div>\n",
       "<style scoped>\n",
       "    .dataframe tbody tr th:only-of-type {\n",
       "        vertical-align: middle;\n",
       "    }\n",
       "\n",
       "    .dataframe tbody tr th {\n",
       "        vertical-align: top;\n",
       "    }\n",
       "\n",
       "    .dataframe thead th {\n",
       "        text-align: right;\n",
       "    }\n",
       "</style>\n",
       "<table border=\"1\" class=\"dataframe\">\n",
       "  <thead>\n",
       "    <tr style=\"text-align: right;\">\n",
       "      <th></th>\n",
       "      <th>Date</th>\n",
       "      <th>Route</th>\n",
       "      <th>Original Rating</th>\n",
       "      <th>Rating</th>\n",
       "      <th>Risk</th>\n",
       "      <th>Notes</th>\n",
       "      <th>URL</th>\n",
       "      <th>Pitches</th>\n",
       "      <th>Listed Pitches</th>\n",
       "      <th>Location</th>\n",
       "      <th>Avg Stars</th>\n",
       "      <th>Your Stars</th>\n",
       "      <th>Style</th>\n",
       "      <th>Lead Style</th>\n",
       "      <th>Route Type</th>\n",
       "      <th>Your Rating</th>\n",
       "      <th>Length</th>\n",
       "      <th>Rating Code</th>\n",
       "      <th>Route ID</th>\n",
       "      <th>re mainpage</th>\n",
       "      <th>re statpage</th>\n",
       "    </tr>\n",
       "  </thead>\n",
       "  <tbody>\n",
       "    <tr>\n",
       "      <th>3</th>\n",
       "      <td>2022-11-27</td>\n",
       "      <td>t-crack</td>\n",
       "      <td>5.10c</td>\n",
       "      <td>5.10c</td>\n",
       "      <td></td>\n",
       "      <td>as is the way, big time unsend! the mantle jus...</td>\n",
       "      <td>https://www.mountainproject.com/route/10579304...</td>\n",
       "      <td>1</td>\n",
       "      <td>1</td>\n",
       "      <td>california &gt; central coast &gt; santa barbara &gt; g...</td>\n",
       "      <td>3.7</td>\n",
       "      <td>-1</td>\n",
       "      <td>tr</td>\n",
       "      <td>NaN</td>\n",
       "      <td>trad</td>\n",
       "      <td>NaN</td>\n",
       "      <td>60.0</td>\n",
       "      <td>3200</td>\n",
       "      <td>105793049</td>\n",
       "      <td>&lt;Response [200]&gt;</td>\n",
       "      <td>&lt;Response [200]&gt;</td>\n",
       "    </tr>\n",
       "    <tr>\n",
       "      <th>6</th>\n",
       "      <td>2022-11-25</td>\n",
       "      <td>big guy</td>\n",
       "      <td>5.11-</td>\n",
       "      <td>5.11a</td>\n",
       "      <td></td>\n",
       "      <td>to the upper chains with a break at the lower ...</td>\n",
       "      <td>https://www.mountainproject.com/route/10598171...</td>\n",
       "      <td>1</td>\n",
       "      <td>1</td>\n",
       "      <td>utah &gt; southeast utah &gt; indian creek &gt; scarface</td>\n",
       "      <td>3.9</td>\n",
       "      <td>-1</td>\n",
       "      <td>lead</td>\n",
       "      <td>onsight</td>\n",
       "      <td>trad</td>\n",
       "      <td>NaN</td>\n",
       "      <td>120.0</td>\n",
       "      <td>4700</td>\n",
       "      <td>105981715</td>\n",
       "      <td>&lt;Response [200]&gt;</td>\n",
       "      <td>&lt;Response [200]&gt;</td>\n",
       "    </tr>\n",
       "    <tr>\n",
       "      <th>7</th>\n",
       "      <td>2022-11-24</td>\n",
       "      <td>unnamed offwidth</td>\n",
       "      <td>5.10</td>\n",
       "      <td>5.10b</td>\n",
       "      <td></td>\n",
       "      <td>only had up to a 4 so had to run it out but th...</td>\n",
       "      <td>https://www.mountainproject.com/route/11613223...</td>\n",
       "      <td>1</td>\n",
       "      <td>1</td>\n",
       "      <td>utah &gt; southeast utah &gt; indian creek &gt; south s...</td>\n",
       "      <td>3.0</td>\n",
       "      <td>-1</td>\n",
       "      <td>lead</td>\n",
       "      <td>onsight</td>\n",
       "      <td>trad</td>\n",
       "      <td>NaN</td>\n",
       "      <td>70.0</td>\n",
       "      <td>3000</td>\n",
       "      <td>116132238</td>\n",
       "      <td>&lt;Response [200]&gt;</td>\n",
       "      <td>&lt;Response [200]&gt;</td>\n",
       "    </tr>\n",
       "    <tr>\n",
       "      <th>9</th>\n",
       "      <td>2022-11-24</td>\n",
       "      <td>south face angling crack?</td>\n",
       "      <td>5.10b</td>\n",
       "      <td>5.10b</td>\n",
       "      <td></td>\n",
       "      <td>a very nice climb. cruxy pulling into the slot...</td>\n",
       "      <td>https://www.mountainproject.com/route/10610422...</td>\n",
       "      <td>1</td>\n",
       "      <td>1</td>\n",
       "      <td>utah &gt; southeast utah &gt; indian creek &gt; south s...</td>\n",
       "      <td>3.0</td>\n",
       "      <td>-1</td>\n",
       "      <td>lead</td>\n",
       "      <td>onsight</td>\n",
       "      <td>trad</td>\n",
       "      <td>NaN</td>\n",
       "      <td>90.0</td>\n",
       "      <td>2900</td>\n",
       "      <td>106104224</td>\n",
       "      <td>&lt;Response [200]&gt;</td>\n",
       "      <td>&lt;Response [200]&gt;</td>\n",
       "    </tr>\n",
       "    <tr>\n",
       "      <th>10</th>\n",
       "      <td>2022-11-20</td>\n",
       "      <td>lonely vigil</td>\n",
       "      <td>5.10</td>\n",
       "      <td>5.10c</td>\n",
       "      <td></td>\n",
       "      <td>led all pitches with spencer roberson. east fa...</td>\n",
       "      <td>https://www.mountainproject.com/route/10571763...</td>\n",
       "      <td>5</td>\n",
       "      <td>5</td>\n",
       "      <td>utah &gt; southeast utah &gt; river road &gt; lighthous...</td>\n",
       "      <td>3.5</td>\n",
       "      <td>-1</td>\n",
       "      <td>lead</td>\n",
       "      <td>onsight</td>\n",
       "      <td>trad</td>\n",
       "      <td>NaN</td>\n",
       "      <td>350.0</td>\n",
       "      <td>3000</td>\n",
       "      <td>105717637</td>\n",
       "      <td>&lt;Response [200]&gt;</td>\n",
       "      <td>&lt;Response [200]&gt;</td>\n",
       "    </tr>\n",
       "    <tr>\n",
       "      <th>...</th>\n",
       "      <td>...</td>\n",
       "      <td>...</td>\n",
       "      <td>...</td>\n",
       "      <td>...</td>\n",
       "      <td>...</td>\n",
       "      <td>...</td>\n",
       "      <td>...</td>\n",
       "      <td>...</td>\n",
       "      <td>...</td>\n",
       "      <td>...</td>\n",
       "      <td>...</td>\n",
       "      <td>...</td>\n",
       "      <td>...</td>\n",
       "      <td>...</td>\n",
       "      <td>...</td>\n",
       "      <td>...</td>\n",
       "      <td>...</td>\n",
       "      <td>...</td>\n",
       "      <td>...</td>\n",
       "      <td>...</td>\n",
       "      <td>...</td>\n",
       "    </tr>\n",
       "    <tr>\n",
       "      <th>661</th>\n",
       "      <td>2018-12-17</td>\n",
       "      <td>atman</td>\n",
       "      <td>5.10a</td>\n",
       "      <td>5.10a</td>\n",
       "      <td></td>\n",
       "      <td>got a clean send on tr, think i can lead it cl...</td>\n",
       "      <td>https://www.mountainproject.com/route/10573248...</td>\n",
       "      <td>1</td>\n",
       "      <td>1</td>\n",
       "      <td>nevada &gt; southern nevada &gt; red rocks &gt; 01-cali...</td>\n",
       "      <td>3.1</td>\n",
       "      <td>-1</td>\n",
       "      <td>tr</td>\n",
       "      <td>NaN</td>\n",
       "      <td>trad</td>\n",
       "      <td>NaN</td>\n",
       "      <td>40.0</td>\n",
       "      <td>2600</td>\n",
       "      <td>105732482</td>\n",
       "      <td>&lt;Response [200]&gt;</td>\n",
       "      <td>&lt;Response [200]&gt;</td>\n",
       "    </tr>\n",
       "    <tr>\n",
       "      <th>662</th>\n",
       "      <td>2018-12-17</td>\n",
       "      <td>atman</td>\n",
       "      <td>5.10a</td>\n",
       "      <td>5.10a</td>\n",
       "      <td></td>\n",
       "      <td>got about a third of the way up before hang do...</td>\n",
       "      <td>https://www.mountainproject.com/route/10573248...</td>\n",
       "      <td>1</td>\n",
       "      <td>1</td>\n",
       "      <td>nevada &gt; southern nevada &gt; red rocks &gt; 01-cali...</td>\n",
       "      <td>3.1</td>\n",
       "      <td>-1</td>\n",
       "      <td>lead</td>\n",
       "      <td>fell/hung</td>\n",
       "      <td>trad</td>\n",
       "      <td>NaN</td>\n",
       "      <td>40.0</td>\n",
       "      <td>2600</td>\n",
       "      <td>105732482</td>\n",
       "      <td>&lt;Response [200]&gt;</td>\n",
       "      <td>&lt;Response [200]&gt;</td>\n",
       "    </tr>\n",
       "    <tr>\n",
       "      <th>706</th>\n",
       "      <td>2018-10-25</td>\n",
       "      <td>twice stung and forever shy</td>\n",
       "      <td>5.10-</td>\n",
       "      <td>5.10b</td>\n",
       "      <td></td>\n",
       "      <td>NaN</td>\n",
       "      <td>https://www.mountainproject.com/route/11538342...</td>\n",
       "      <td>1</td>\n",
       "      <td>1</td>\n",
       "      <td>california &gt; central coast &gt; santa barbara &gt; i...</td>\n",
       "      <td>2.9</td>\n",
       "      <td>-1</td>\n",
       "      <td>lead</td>\n",
       "      <td>onsight</td>\n",
       "      <td>sport</td>\n",
       "      <td>NaN</td>\n",
       "      <td>NaN</td>\n",
       "      <td>2700</td>\n",
       "      <td>115383425</td>\n",
       "      <td>&lt;Response [200]&gt;</td>\n",
       "      <td>&lt;Response [200]&gt;</td>\n",
       "    </tr>\n",
       "    <tr>\n",
       "      <th>708</th>\n",
       "      <td>2018-10-21</td>\n",
       "      <td>tut</td>\n",
       "      <td>5.10a</td>\n",
       "      <td>5.10a</td>\n",
       "      <td></td>\n",
       "      <td>NaN</td>\n",
       "      <td>https://www.mountainproject.com/route/10600066...</td>\n",
       "      <td>1</td>\n",
       "      <td>1</td>\n",
       "      <td>california &gt; los angeles basin &gt; santa monica ...</td>\n",
       "      <td>2.0</td>\n",
       "      <td>-1</td>\n",
       "      <td>lead</td>\n",
       "      <td>onsight</td>\n",
       "      <td>sport</td>\n",
       "      <td>NaN</td>\n",
       "      <td>40.0</td>\n",
       "      <td>2600</td>\n",
       "      <td>106000667</td>\n",
       "      <td>&lt;Response [200]&gt;</td>\n",
       "      <td>&lt;Response [200]&gt;</td>\n",
       "    </tr>\n",
       "    <tr>\n",
       "      <th>744</th>\n",
       "      <td>2018-01-28</td>\n",
       "      <td>face the seam</td>\n",
       "      <td>5.10a</td>\n",
       "      <td>5.10a</td>\n",
       "      <td></td>\n",
       "      <td>NaN</td>\n",
       "      <td>https://www.mountainproject.com/route/10592542...</td>\n",
       "      <td>1</td>\n",
       "      <td>1</td>\n",
       "      <td>california &gt; central coast &gt; santa barbara &gt; f...</td>\n",
       "      <td>2.0</td>\n",
       "      <td>-1</td>\n",
       "      <td>tr</td>\n",
       "      <td>NaN</td>\n",
       "      <td>sport</td>\n",
       "      <td>NaN</td>\n",
       "      <td>35.0</td>\n",
       "      <td>2600</td>\n",
       "      <td>105925427</td>\n",
       "      <td>&lt;Response [200]&gt;</td>\n",
       "      <td>&lt;Response [200]&gt;</td>\n",
       "    </tr>\n",
       "  </tbody>\n",
       "</table>\n",
       "<p>243 rows × 21 columns</p>\n",
       "</div>"
      ],
      "text/plain": [
       "           Date                        Route Original Rating Rating Risk  \\\n",
       "3    2022-11-27                      t-crack           5.10c  5.10c        \n",
       "6    2022-11-25                      big guy           5.11-  5.11a        \n",
       "7    2022-11-24             unnamed offwidth            5.10  5.10b        \n",
       "9    2022-11-24    south face angling crack?           5.10b  5.10b        \n",
       "10   2022-11-20                 lonely vigil            5.10  5.10c        \n",
       "..          ...                          ...             ...    ...  ...   \n",
       "661  2018-12-17                        atman           5.10a  5.10a        \n",
       "662  2018-12-17                        atman           5.10a  5.10a        \n",
       "706  2018-10-25  twice stung and forever shy           5.10-  5.10b        \n",
       "708  2018-10-21                          tut           5.10a  5.10a        \n",
       "744  2018-01-28                face the seam           5.10a  5.10a        \n",
       "\n",
       "                                                 Notes  \\\n",
       "3    as is the way, big time unsend! the mantle jus...   \n",
       "6    to the upper chains with a break at the lower ...   \n",
       "7    only had up to a 4 so had to run it out but th...   \n",
       "9    a very nice climb. cruxy pulling into the slot...   \n",
       "10   led all pitches with spencer roberson. east fa...   \n",
       "..                                                 ...   \n",
       "661  got a clean send on tr, think i can lead it cl...   \n",
       "662  got about a third of the way up before hang do...   \n",
       "706                                                NaN   \n",
       "708                                                NaN   \n",
       "744                                                NaN   \n",
       "\n",
       "                                                   URL  Pitches  \\\n",
       "3    https://www.mountainproject.com/route/10579304...        1   \n",
       "6    https://www.mountainproject.com/route/10598171...        1   \n",
       "7    https://www.mountainproject.com/route/11613223...        1   \n",
       "9    https://www.mountainproject.com/route/10610422...        1   \n",
       "10   https://www.mountainproject.com/route/10571763...        5   \n",
       "..                                                 ...      ...   \n",
       "661  https://www.mountainproject.com/route/10573248...        1   \n",
       "662  https://www.mountainproject.com/route/10573248...        1   \n",
       "706  https://www.mountainproject.com/route/11538342...        1   \n",
       "708  https://www.mountainproject.com/route/10600066...        1   \n",
       "744  https://www.mountainproject.com/route/10592542...        1   \n",
       "\n",
       "     Listed Pitches                                           Location  \\\n",
       "3                 1  california > central coast > santa barbara > g...   \n",
       "6                 1    utah > southeast utah > indian creek > scarface   \n",
       "7                 1  utah > southeast utah > indian creek > south s...   \n",
       "9                 1  utah > southeast utah > indian creek > south s...   \n",
       "10                5  utah > southeast utah > river road > lighthous...   \n",
       "..              ...                                                ...   \n",
       "661               1  nevada > southern nevada > red rocks > 01-cali...   \n",
       "662               1  nevada > southern nevada > red rocks > 01-cali...   \n",
       "706               1  california > central coast > santa barbara > i...   \n",
       "708               1  california > los angeles basin > santa monica ...   \n",
       "744               1  california > central coast > santa barbara > f...   \n",
       "\n",
       "     Avg Stars  Your Stars Style Lead Style Route Type Your Rating  Length  \\\n",
       "3          3.7          -1    tr        NaN       trad         NaN    60.0   \n",
       "6          3.9          -1  lead    onsight       trad         NaN   120.0   \n",
       "7          3.0          -1  lead    onsight       trad         NaN    70.0   \n",
       "9          3.0          -1  lead    onsight       trad         NaN    90.0   \n",
       "10         3.5          -1  lead    onsight       trad         NaN   350.0   \n",
       "..         ...         ...   ...        ...        ...         ...     ...   \n",
       "661        3.1          -1    tr        NaN       trad         NaN    40.0   \n",
       "662        3.1          -1  lead  fell/hung       trad         NaN    40.0   \n",
       "706        2.9          -1  lead    onsight      sport         NaN     NaN   \n",
       "708        2.0          -1  lead    onsight      sport         NaN    40.0   \n",
       "744        2.0          -1    tr        NaN      sport         NaN    35.0   \n",
       "\n",
       "     Rating Code   Route ID       re mainpage       re statpage  \n",
       "3           3200  105793049  <Response [200]>  <Response [200]>  \n",
       "6           4700  105981715  <Response [200]>  <Response [200]>  \n",
       "7           3000  116132238  <Response [200]>  <Response [200]>  \n",
       "9           2900  106104224  <Response [200]>  <Response [200]>  \n",
       "10          3000  105717637  <Response [200]>  <Response [200]>  \n",
       "..           ...        ...               ...               ...  \n",
       "661         2600  105732482  <Response [200]>  <Response [200]>  \n",
       "662         2600  105732482  <Response [200]>  <Response [200]>  \n",
       "706         2700  115383425  <Response [200]>  <Response [200]>  \n",
       "708         2600  106000667  <Response [200]>  <Response [200]>  \n",
       "744         2600  105925427  <Response [200]>  <Response [200]>  \n",
       "\n",
       "[243 rows x 21 columns]"
      ]
     },
     "execution_count": 30,
     "metadata": {},
     "output_type": "execute_result"
    }
   ],
   "source": [
    "df_clean_sends_wfalls = df[df['Route'].isin(df_clean_sends['Route'].unique())]\n",
    "df_clean_sends_wfalls"
   ]
  }
 ],
 "metadata": {
  "kernelspec": {
   "display_name": "Python 3.9.12 ('.venv': poetry)",
   "language": "python",
   "name": "python3"
  },
  "language_info": {
   "codemirror_mode": {
    "name": "ipython",
    "version": 3
   },
   "file_extension": ".py",
   "mimetype": "text/x-python",
   "name": "python",
   "nbconvert_exporter": "python",
   "pygments_lexer": "ipython3",
   "version": "3.9.12"
  },
  "orig_nbformat": 4,
  "vscode": {
   "interpreter": {
    "hash": "69c68274f8e9ce57f21b9f4f0cd989e216f773741f6e1c7e6f7ea408f78a94ea"
   }
  }
 },
 "nbformat": 4,
 "nbformat_minor": 2
}
