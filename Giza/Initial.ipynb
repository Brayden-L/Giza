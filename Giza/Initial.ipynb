{
 "cells": [
  {
   "cell_type": "code",
   "execution_count": 1,
   "metadata": {},
   "outputs": [],
   "source": [
    "import numpy as np\n",
    "import pandas as pd\n",
    "import matplotlib.pyplot as plt\n",
    "import seaborn as sns\n",
    "import plotly.express as px\n",
    "import nltk\n",
    "%matplotlib inline\n",
    "\n",
    "from bs4 import BeautifulSoup\n",
    "import requests\n",
    "import re\n",
    "import pyinputplus as pyip\n",
    "import requests\n",
    "import datetime as dt\n",
    "from datetime import datetime\n",
    "import pickle\n",
    "import random\n",
    "import math\n",
    "import string\n",
    "\n",
    "%load_ext autoreload\n",
    "%autoreload 2\n",
    "\n",
    "pd.set_option('display.max_columns', 500)\n",
    "pd.set_option('display.max_rows', 150)"
   ]
  },
  {
   "cell_type": "code",
   "execution_count": 2,
   "metadata": {},
   "outputs": [],
   "source": [
    "# Constants\n",
    "\n",
    "YDS_GRADES_FULL = ['5.0', '5.1', '5.2', '5.3', '5.4', '5.5', '5.6', '5.7', '5.7+', '5.8-', '5.8', '5.8+', '5.9-', '5.9', '5.9+', '5.10a', '5.10-', '5.10a/b', '5.10b', '5.10', '5.10b/c', '5.10c', '5.10+', '5.10c/d', '5.10d', '5.11a', '5.11-', '5.11a/b', '5.11b', '5.11', \n",
    "                   '5.11b/c', '5.11c', '5.11+', '5.11c/d', '5.11d', '5.12a', '5.12-', '5.12a/b', '5.12b', '5.12', '5.12b/c', '5.12c', '5.12+', '5.12c/d', '5.12d', '5.13a', '5.13-', '5.13a/b', '5.13b', '5.13', '5.13b/c', '5.13c', '5.13+', '5.13c/d', '5.13d', '5.14a', \n",
    "                   '5.14-', '5.14a/b', '5.14b', '5.14', '5.14b/c', '5.14c', '5.14+', '5.14c/d', '5.14d', '5.15a', '5.15-', '5.15a/b', '5.15b', '5.15', '5.15b/c' '5.15c', '5.15+', '5.15c/d', '5.15d'] \n",
    "YDS_GRADES_LETTER = ['5.0', '5.1', '5.2', '5.3', '5.4', '5.5', '5.6', '5.7', '5.8', '5.9', '5.10a', '5.10b', '5.10c', '5.10d', '5.11a', '5.11b', '5.11c', '5.11d', '5.12a', '5.12b', '5.12c', '5.12d', '5.13a', '5.13b', '5.13c', '5.13d', '5.14a', '5.14b', '5.14c', '5.14d', '5.15a', '5.15b', '5.15c', '5.15d']\n",
    "YDS_GRADES_SIGN = ['5.0', '5.1', '5.2', '5.3', '5.4', '5.5', '5.6', '5.7', '5.7+', '5.8-', '5.8', '5.8+', '5.9-', '5.9', '5.9+', '5.10-', '5.10', '5.10+', '5.11-', '5.11', '5.11+', '5.12-', '5.12', '5.12+', '5.13-', '5.13', '5.13+', '5.14-', '5.14', '5.14+', '5.15-', '5.15', '5.15+']\n",
    "\n",
    "V_GRADES_FULL = ['v-easy', 'v0-', 'v0', 'v0+', 'v0-1', 'v1-', 'v1', 'v1+', 'v1-2', 'v2-', 'v2', 'v2+', 'v2-3', 'v3-', 'v3', 'v3+', 'v3-4', 'v4-', 'v4', 'v4+', 'v4-5', 'v5-', 'v5', 'v5+', 'v5-6', 'v6-', 'v6', 'v6+', 'v6-7', 'v7-', 'v7', 'v7+', 'v7-8', 'v8-', 'v8', 'v8+', 'v8-9', \n",
    "                 'v9-', 'v9', 'v9+', 'v9-10', 'v10-', 'v10', 'v10+', 'v10-11', 'v11-', 'v11', 'v11+', 'v11-12', 'v12-', 'v12', 'v12+', 'v12-13', 'v13-', 'v13', 'v13+', 'v13-14', 'v14-', 'v14', 'v14+', 'v14-15', 'v15-', 'v15', 'v15+', 'v15-16', 'v16-', 'v16', 'v16+', 'v16-17', 'v17-', 'v17']\n",
    "V_GRADES_SIGN = ['v-easy', 'v0-', 'v0', 'v0+', 'v1-', 'v1', 'v1+', 'v2-', 'v2', 'v2+', 'v3-', 'v3', 'v3+', 'v4-', 'v4', 'v4+', 'v5-', 'v5', 'v5+', 'v6-', 'v6', 'v6+', 'v7-', 'v7', 'v7+', 'v8-', 'v8', 'v8+', \n",
    "                 'v9-', 'v9', 'v9+', 'v10-', 'v10', 'v10+', 'v11-', 'v11', 'v11+', 'v12-', 'v12', 'v12+', 'v13-', 'v13', 'v13+', 'v14-', 'v14', 'v14+', 'v15-', 'v15', 'v15+', 'v16-', 'v16', 'v16+', 'v17-', 'v17']\n",
    "V_GRADES_BASIC = ['v-easy', 'v0', 'v1', 'v2', 'v3', 'v4', 'v5', 'v6', 'v7', 'v8', 'v9', 'v10', 'v11', 'v12', 'v13', 'v14', 'v15', 'v16', 'v17']\n",
    "\n",
    "RISK_GRADES = ['pg', 'pg13', 'r', 'x']\n",
    "\n",
    "CLEAN_SEND = ['onsight', 'flash', 'redpoint', 'pinkpoint']\n",
    "CLEAN_SEND_FIRST = ['onsight', 'flash']\n",
    "CLEAN_SEND_WORKED = ['redpoint', 'pinkpoint']\n",
    "TICK_OPTIONS = ['solo', 'tr', 'follow', 'lead', 'fell/hung', 'onsight', 'flash', 'redpoint', 'pinkpoint']"
   ]
  },
  {
   "cell_type": "code",
   "execution_count": 20,
   "metadata": {},
   "outputs": [
    {
     "name": "stdout",
     "output_type": "stream",
     "text": [
      "Please select one of: csv, link\n"
     ]
    }
   ],
   "source": [
    "# Allow user to select data source\n",
    "\n",
    "datasource_choices = [\"csv\", \"link\"]\n",
    "resp = pyip.inputChoice(datasource_choices)\n",
    "if resp == datasource_choices[0]:\n",
    "    while True:\n",
    "        try:\n",
    "            resp = pyip.inputFilepath(prompt='input csv file path\\n', mustExist=True)\n",
    "            df = pd.read_csv(resp)\n",
    "        except Exception as err:\n",
    "            print(err)\n",
    "            continue\n",
    "        break\n",
    "if resp == datasource_choices[1]:\n",
    "    while True:\n",
    "        try:\n",
    "            resp = input('input link to profile of format \"https://www.mountainproject.com/user/...\"\\n')\n",
    "            df = pd.read_csv(f'{resp}/tick-export')\n",
    "        except Exception as err:\n",
    "            print(err)\n",
    "            continue\n",
    "        break"
   ]
  },
  {
   "cell_type": "code",
   "execution_count": 18,
   "metadata": {},
   "outputs": [
    {
     "data": {
      "text/html": [
       "<div>\n",
       "<style scoped>\n",
       "    .dataframe tbody tr th:only-of-type {\n",
       "        vertical-align: middle;\n",
       "    }\n",
       "\n",
       "    .dataframe tbody tr th {\n",
       "        vertical-align: top;\n",
       "    }\n",
       "\n",
       "    .dataframe thead th {\n",
       "        text-align: right;\n",
       "    }\n",
       "</style>\n",
       "<table border=\"1\" class=\"dataframe\">\n",
       "  <thead>\n",
       "    <tr style=\"text-align: right;\">\n",
       "      <th></th>\n",
       "      <th>Date</th>\n",
       "      <th>Route</th>\n",
       "      <th>Rating</th>\n",
       "      <th>Notes</th>\n",
       "      <th>URL</th>\n",
       "      <th>Pitches</th>\n",
       "      <th>Location</th>\n",
       "      <th>Avg Stars</th>\n",
       "      <th>Your Stars</th>\n",
       "      <th>Style</th>\n",
       "      <th>Lead Style</th>\n",
       "      <th>Route Type</th>\n",
       "      <th>Your Rating</th>\n",
       "      <th>Length</th>\n",
       "      <th>Rating Code</th>\n",
       "    </tr>\n",
       "  </thead>\n",
       "  <tbody>\n",
       "    <tr>\n",
       "      <th>0</th>\n",
       "      <td>2022-11-05</td>\n",
       "      <td>Urban Struggle</td>\n",
       "      <td>5.12a</td>\n",
       "      <td>Got it clean! Felt solid and really dialed thr...</td>\n",
       "      <td>https://www.mountainproject.com/route/10599853...</td>\n",
       "      <td>1</td>\n",
       "      <td>California &gt; Los Angeles Basin &gt; Santa Monica ...</td>\n",
       "      <td>3.4</td>\n",
       "      <td>-1</td>\n",
       "      <td>Lead</td>\n",
       "      <td>Redpoint</td>\n",
       "      <td>Sport</td>\n",
       "      <td>NaN</td>\n",
       "      <td>50.0</td>\n",
       "      <td>6600</td>\n",
       "    </tr>\n",
       "    <tr>\n",
       "      <th>1</th>\n",
       "      <td>2022-11-05</td>\n",
       "      <td>Urban Struggle</td>\n",
       "      <td>5.12a</td>\n",
       "      <td>First effort greased out of the crux pocket.</td>\n",
       "      <td>https://www.mountainproject.com/route/10599853...</td>\n",
       "      <td>1</td>\n",
       "      <td>California &gt; Los Angeles Basin &gt; Santa Monica ...</td>\n",
       "      <td>3.4</td>\n",
       "      <td>-1</td>\n",
       "      <td>Lead</td>\n",
       "      <td>Fell/Hung</td>\n",
       "      <td>Sport</td>\n",
       "      <td>NaN</td>\n",
       "      <td>50.0</td>\n",
       "      <td>6600</td>\n",
       "    </tr>\n",
       "    <tr>\n",
       "      <th>2</th>\n",
       "      <td>2022-11-05</td>\n",
       "      <td>Directpissima</td>\n",
       "      <td>5.11a</td>\n",
       "      <td>The steep stuff up high is so sick. I realized...</td>\n",
       "      <td>https://www.mountainproject.com/route/10592801...</td>\n",
       "      <td>1</td>\n",
       "      <td>California &gt; Los Angeles Basin &gt; Santa Monica ...</td>\n",
       "      <td>2.4</td>\n",
       "      <td>-1</td>\n",
       "      <td>Lead</td>\n",
       "      <td>Redpoint</td>\n",
       "      <td>Sport</td>\n",
       "      <td>NaN</td>\n",
       "      <td>50.0</td>\n",
       "      <td>4600</td>\n",
       "    </tr>\n",
       "    <tr>\n",
       "      <th>3</th>\n",
       "      <td>2022-11-05</td>\n",
       "      <td>Unnamed</td>\n",
       "      <td>5.10d</td>\n",
       "      <td>Very soft for the grade, I would say .10b and ...</td>\n",
       "      <td>https://www.mountainproject.com/route/11939791...</td>\n",
       "      <td>1</td>\n",
       "      <td>California &gt; Los Angeles Basin &gt; Santa Monica ...</td>\n",
       "      <td>2.4</td>\n",
       "      <td>-1</td>\n",
       "      <td>Lead</td>\n",
       "      <td>Onsight</td>\n",
       "      <td>Sport</td>\n",
       "      <td>NaN</td>\n",
       "      <td>45.0</td>\n",
       "      <td>3500</td>\n",
       "    </tr>\n",
       "    <tr>\n",
       "      <th>4</th>\n",
       "      <td>2022-11-05</td>\n",
       "      <td>Spiker Monkey</td>\n",
       "      <td>5.10c</td>\n",
       "      <td>Pretty sure this is the line we did. Good fun!</td>\n",
       "      <td>https://www.mountainproject.com/route/11818569...</td>\n",
       "      <td>1</td>\n",
       "      <td>California &gt; Los Angeles Basin &gt; Santa Monica ...</td>\n",
       "      <td>2.5</td>\n",
       "      <td>-1</td>\n",
       "      <td>TR</td>\n",
       "      <td>NaN</td>\n",
       "      <td>TR</td>\n",
       "      <td>NaN</td>\n",
       "      <td>45.0</td>\n",
       "      <td>3200</td>\n",
       "    </tr>\n",
       "  </tbody>\n",
       "</table>\n",
       "</div>"
      ],
      "text/plain": [
       "         Date           Route Rating  \\\n",
       "0  2022-11-05  Urban Struggle  5.12a   \n",
       "1  2022-11-05  Urban Struggle  5.12a   \n",
       "2  2022-11-05   Directpissima  5.11a   \n",
       "3  2022-11-05         Unnamed  5.10d   \n",
       "4  2022-11-05   Spiker Monkey  5.10c   \n",
       "\n",
       "                                               Notes  \\\n",
       "0  Got it clean! Felt solid and really dialed thr...   \n",
       "1       First effort greased out of the crux pocket.   \n",
       "2  The steep stuff up high is so sick. I realized...   \n",
       "3  Very soft for the grade, I would say .10b and ...   \n",
       "4     Pretty sure this is the line we did. Good fun!   \n",
       "\n",
       "                                                 URL  Pitches  \\\n",
       "0  https://www.mountainproject.com/route/10599853...        1   \n",
       "1  https://www.mountainproject.com/route/10599853...        1   \n",
       "2  https://www.mountainproject.com/route/10592801...        1   \n",
       "3  https://www.mountainproject.com/route/11939791...        1   \n",
       "4  https://www.mountainproject.com/route/11818569...        1   \n",
       "\n",
       "                                            Location  Avg Stars  Your Stars  \\\n",
       "0  California > Los Angeles Basin > Santa Monica ...        3.4          -1   \n",
       "1  California > Los Angeles Basin > Santa Monica ...        3.4          -1   \n",
       "2  California > Los Angeles Basin > Santa Monica ...        2.4          -1   \n",
       "3  California > Los Angeles Basin > Santa Monica ...        2.4          -1   \n",
       "4  California > Los Angeles Basin > Santa Monica ...        2.5          -1   \n",
       "\n",
       "  Style Lead Style Route Type  Your Rating  Length  Rating Code  \n",
       "0  Lead   Redpoint      Sport          NaN    50.0         6600  \n",
       "1  Lead  Fell/Hung      Sport          NaN    50.0         6600  \n",
       "2  Lead   Redpoint      Sport          NaN    50.0         4600  \n",
       "3  Lead    Onsight      Sport          NaN    45.0         3500  \n",
       "4    TR        NaN         TR          NaN    45.0         3200  "
      ]
     },
     "execution_count": 18,
     "metadata": {},
     "output_type": "execute_result"
    }
   ],
   "source": [
    "df = pd.read_csv('./ticks.csv')\n",
    "df.head()"
   ]
  },
  {
   "cell_type": "code",
   "execution_count": null,
   "metadata": {},
   "outputs": [],
   "source": [
    "# Transform all strings to lower case so we don't have to worry about it for operations. Can be turned to camel case later for presentation.\n",
    "df = df.applymap(lambda s: s.lower() if type(s) == str else s)\n",
    "\n",
    "# Apostrophe's are html coded in the notes section for some reason.\n",
    "df['Notes'] = df['Notes'].apply(lambda x: str(x).replace('&#39;',\"'\"))\n",
    "\n",
    "# 'Date' to datetype\n",
    "df['Date'] = pd.to_datetime(df['Date'])\n",
    "\n",
    "# Remove all aid, ice, snow, TR only,and trad/boulder climbing route types as they are not relevant.\n",
    "df = df[df['Route Type'].str.contains(r'aid|ice|snow') != True]\n",
    "df = df[df['Route Type'].str.fullmatch(r'tr') != True] #if this is just a partial match it will detech \"trad\" too!\n",
    "df = df[df['Route Type'].str.contains(r'trad') & df['Route Type'].str.contains(r'boulder') != True]\n",
    "\n",
    "# \"trad, sport\" goes to \"trad\". If it uses gear it's trad!\n",
    "df.loc[df['Route Type'].str.contains(r'trad') & df['Route Type'].str.contains(r'sport'), 'Route Type'] = 'trad'\n",
    "\n",
    "# \"x, alpine\" and \"x, tr\" goes to \"x\" Alpine and tr tags are not useful.\n",
    "def rem_route_el_from_list(ousted, seperator):\n",
    "    el_rem_subset = df['Route Type'].str.contains(ousted) == True\n",
    "    df.loc[el_rem_subset, 'Route Type'] = df[el_rem_subset]['Route Type'].apply(lambda row: [val for val in row.split(seperator) if val != ousted]).apply(lambda x: \", \".join(x))\n",
    "\n",
    "rem_route_el_from_list('alpine', ', ')\n",
    "rem_route_el_from_list('tr', ', ')\n",
    "\n",
    "# Extract route unique identifier from URL and create a new column for it.\n",
    "df.insert(len(df.columns),'Route ID','')\n",
    "df['Route ID'] = df['URL'].apply(lambda x: x.split('/')[4])\n",
    "\n",
    "# Create original rating and length archive to compare against or undo changes.\n",
    "df.insert(df.columns.get_loc('Rating'),'Original Rating',df['Rating'])\n",
    "\n",
    "# Change YDS-Vgrade combos to just Vgrade. They are most likely boulders, so a bouldering grade is relevant.\n",
    "subset = df['Rating'].apply(lambda row: [val for val in row.split() if val in V_GRADES_FULL]).astype(bool)  & df['Rating'].apply(lambda row: [val for val in row.split() if val in YDS_GRADES_FULL]).astype(bool) == True\n",
    "df.loc[subset, 'Rating'] = df[subset]['Rating'].apply(lambda x: x.split()[1])\n",
    "\n",
    "# Seperate risk rating to new column\n",
    "df.insert(df.columns.get_loc('Rating')+1,'Risk','')\n",
    "df['Risk'] = df['Rating'].apply(lambda row: [val for val in row.split() if val in RISK_GRADES]).apply(lambda x: \"\".join(x))\n",
    "# Reduce Rating column to just rating\n",
    "df['Rating'] = df['Rating'].apply(lambda row: [val for val in row.split()][0])\n",
    "# Displays all rows where risk ratings have been seperated\n",
    "# df[df['Risk'].astype(bool)]\n",
    "\n",
    "df.insert(len(df.columns),'Flash/Onsight','')\n",
    "df.insert(len(df.columns),'Worked Clean','')\n",
    "df.insert(len(df.columns),'Grade Breakthrough','')\n",
    "df.insert(len(df.columns),'Attempts','')"
   ]
  },
  {
   "cell_type": "code",
   "execution_count": null,
   "metadata": {},
   "outputs": [],
   "source": [
    "# Download page of each climb\n",
    "\n",
    "df.insert(df.columns.get_loc('Pitches')+1,'Listed Pitches','')\n",
    "df.insert(len(df.columns),'re mainpage','')\n",
    "df.insert(len(df.columns),'re statpage','')\n",
    "df.insert(len(df.columns),'Statpage df','')\n",
    "\n",
    "def insert_str_to_address(url, insert_phrase):\n",
    "    str_list = url.split('/')\n",
    "    str_list.insert(4, insert_phrase)\n",
    "    return '/'.join(str_list)\n",
    "\n",
    "def page_download(url):\n",
    "    try:\n",
    "        res = requests.get(url, timeout=10)\n",
    "    except Exception as e:\n",
    "        print(e)\n",
    "    print(res)\n",
    "    return res\n",
    "\n",
    "df['re mainpage'] = df['URL'].apply(page_download)\n",
    "df['re statpage'] = df['URL'].apply(lambda x: page_download(insert_str_to_address(x, 'stats')))\n",
    "\n",
    "#TODO consider applying this function only to unique row IDs to speed it up, then simply copy and paste it among repeats."
   ]
  },
  {
   "cell_type": "code",
   "execution_count": 209,
   "metadata": {},
   "outputs": [],
   "source": [
    "# Let's analyze the mainpage for listed default pitch lengths. This is not included in the tick export but is helpful in determining user tick methodology\n",
    "\n",
    "def get_pitches(res):\n",
    "    soup = BeautifulSoup(res.text, 'html.parser')\n",
    "    route_type_text = str(soup.find(class_=\"description-details\").find_all('td')[1])\n",
    "    pitch_search = re.search(r'\\d+ pitches',route_type_text)\n",
    "    if str(type(pitch_search)) == \"<class 'NoneType'>\":\n",
    "        num_pitches = 1\n",
    "    else:\n",
    "        num_pitches = pitch_search.group(0).split(' ')[0]\n",
    "    return int(num_pitches)\n",
    "\n",
    "df['Listed Pitches'] = df['re mainpage'].apply(get_pitches)\n"
   ]
  },
  {
   "cell_type": "code",
   "execution_count": 361,
   "metadata": {},
   "outputs": [],
   "source": [
    "# Let's save the now scraped dataframe to a pickle file\n",
    "df.to_pickle('../Data_Archive/df_archive_base')"
   ]
  },
  {
   "cell_type": "code",
   "execution_count": 3,
   "metadata": {},
   "outputs": [],
   "source": [
    "# To load the new pickle file\n",
    "picklefile = open('../Data_Archive/df_archive_base', 'rb')\n",
    "df = pickle.load(picklefile)"
   ]
  },
  {
   "cell_type": "code",
   "execution_count": 4,
   "metadata": {},
   "outputs": [
    {
     "name": "stdout",
     "output_type": "stream",
     "text": [
      "Please select one of: roped, sport, trad, boulder\n",
      "Select a minimum grade to include (blank includes all):\n"
     ]
    }
   ],
   "source": [
    "# The first choice is what type of climbing to analyze.\n",
    "\n",
    "choices = [\"roped\", \"sport\", \"trad\", 'boulder']\n",
    "route_type_selection = pyip.inputChoice(choices)\n",
    "if route_type_selection == choices[0]:\n",
    "    df = df[(df['Route Type'] == 'sport') | (df['Route Type'] == 'trad')]\n",
    "if route_type_selection == choices[1]:\n",
    "    df = df[df['Route Type'] == 'sport']\n",
    "if route_type_selection == choices[2]:\n",
    "    df = df[df['Route Type'] == 'trad']\n",
    "if route_type_selection == choices[3]:\n",
    "    df = df[df['Route Type'] == 'boulder']\n",
    "\n",
    "# Then ask if the user would like to ignore climbs below a certain grade\n",
    "min_grade_included = pyip.inputChoice(prompt='Select a minimum grade to include (blank includes all):\\n', choices=YDS_GRADES_LETTER, blank=True)\n",
    "if min_grade_included != '':\n",
    "    if route_type_selection == 'roped' or 'sport' or 'trad':\n",
    "        df = df[df['Rating'].isin(YDS_GRADES_FULL[YDS_GRADES_FULL.index(min_grade_included):])] # the : here is key, it makes it so that it includes all grades above the min included.\n",
    "    if route_type_selection == 'boulder':\n",
    "        df = df[df['Rating'].isin(V_GRADES_FULL[V_GRADES_FULL.index(min_grade_included):])]"
   ]
  },
  {
   "cell_type": "code",
   "execution_count": null,
   "metadata": {},
   "outputs": [],
   "source": [
    "# Handle route length outliers\n",
    "if route_type_selection == 'boulder':\n",
    "    MIN_LENGTH = 0\n",
    "    MAX_LENGTH = 55 #\"Too Tall to Fall\" is 50'\n",
    "\n",
    "if route_type_selection == 'roped' or 'sport' or 'trad':\n",
    "    MIN_LENGTH = 25\n",
    "    MAX_LENGTH = 4500 #Trango towers are 4,300' tall\n",
    "\n",
    "length_outliers = df[(df['Length'] <= MIN_LENGTH) | (df['Length'] >= MAX_LENGTH)]\n",
    "for loop_count, (index, data) in enumerate(length_outliers.iterrows()):\n",
    "    updated_length = pyip.inputNum(f\"[{loop_count+1}/{length_outliers.shape[0]}] Input Correct Length for Route: {data['Route']} (Currently {data['Length']}ft):\\n\", min=MIN_LENGTH, max=MAX_LENGTH)\n",
    "    df.at[index, 'Length'] = updated_length\n",
    "\n",
    "# Fill empty route lengths\n",
    "length_missing = df[df['Length'].isnull()]\n",
    "for loop_count, (index, data) in enumerate(length_missing.iterrows()):\n",
    "    updated_length = pyip.inputNum(f\"[{loop_count+1}/{length_missing.shape[0]}] Input Estimated Length for Route: {data['Route']}:\\n\", min=MIN_LENGTH, max=MAX_LENGTH)\n",
    "    df.at[index, 'Length'] = updated_length\n",
    "\n",
    "#TODO allow user to select \"assign median height from area\""
   ]
  },
  {
   "cell_type": "code",
   "execution_count": null,
   "metadata": {},
   "outputs": [],
   "source": [
    "if route_type_selection == \"roped\" or \"sport\" or \"trad\":\n",
    "    #Ask user if they would prefer to round down, round up, round even by random, or hand-determine\n",
    "    grademoderatemap = {'5.6-': '5.6', '5.6+': '5.6', '5.7-': '5.7', '5.7+': '5.7', '5.8-': '5.8', '5.8+': '5.8', '5.9-': '5.9', '5.9+': '5.9'}\n",
    "    gradedownmap = {'5.10a/b': '5.10a', '5.10-': '5.10a', '5.10b/c': '5.10b', '5.10': '5.10b', '5.10c/d': '5.10c', '5.10+': '5.10c',\n",
    "                '5.11a/b': '5.11a', '5.11-': '5.11a', '5.11b/c': '5.11b', '5.11': '5.11b', '5.11c/d': '5.11c', '5.11+': '5.11c',\n",
    "                '5.12a/b': '5.12a', '5.12-': '5.12a', '5.12b/c': '5.12b', '5.12': '5.12b', '5.12c/d': '5.12c', '5.12+': '5.12c',\n",
    "                '5.13a/b': '5.13a', '5.13-': '5.13a', '5.13b/c': '5.13b', '5.13': '5.13b', '5.13c/d': '5.13c', '5.13+': '5.13c',\n",
    "                '5.14a/b': '5.14a', '5.14-': '5.14a', '5.14b/c': '5.14b', '5.14': '5.14b', '5.14c/d': '5.14c', '5.14+': '5.14c',\n",
    "                '5.15a/b': '5.15a', '5.15-': '5.15a', '5.15b/c': '5.15b', '5.15': '5.15b', '5.15c/d': '5.15c', '5.15+': '5.15c',\n",
    "    }\n",
    "    gradeupmap = {'5.10a/b': '5.10b', '5.10-': '5.10b', '5.10b/c': '5.10c', '5.10': '5.10c', '5.10c/d': '5.10d', '5.10+': '5.10d',\n",
    "                '5.11a/b': '5.11b', '5.11-': '5.11b', '5.11b/c': '5.11c', '5.11': '5.11c', '5.11c/d': '5.11d', '5.11+': '5.11d',\n",
    "                '5.12a/b': '5.12b', '5.12-': '5.12b', '5.12b/c': '5.12c', '5.12': '5.12c', '5.12c/d': '5.12d', '5.12+': '5.12d',\n",
    "                '5.13a/b': '5.13b', '5.13-': '5.13b', '5.13b/c': '5.13c', '5.13': '5.13c', '5.13c/d': '5.13d', '5.13+': '5.13d',\n",
    "                '5.14a/b': '5.14b', '5.14-': '5.14b', '5.14b/c': '5.14c', '5.14': '5.14c', '5.14c/d': '5.14d', '5.14+': '5.14d',\n",
    "                '5.15a/b': '5.15b', '5.15-': '5.15b', '5.15b/c': '5.15c', '5.15': '5.15c', '5.15c/d': '5.15d', '5.15+': '5.15d',\n",
    "    }\n",
    "\n",
    "    grade_homo_choice = ['round down', 'round up', 'round evenly by random', 'hand determine']\n",
    "    resp = pyip.inputChoice(grade_homo_choice)\n",
    "\n",
    "    def grademoderate():\n",
    "        grade_change_subset = df['Rating'].isin(list(grademoderatemap.keys()))\n",
    "        df.loc[grade_change_subset, 'Rating'] = df[grade_change_subset]['Rating'].map(grademoderatemap)\n",
    "\n",
    "    def grade_split(upmap, downmap):\n",
    "        grade_change_subset = df['Rating'].isin(list(upmap.keys()))\n",
    "        grade_change_subset_df = df[grade_change_subset]\n",
    "        for grade in grade_change_subset_df['Rating'].unique():\n",
    "            to_change = grade_change_subset_df[grade_change_subset_df['Rating'] == grade]\n",
    "            changed_up = to_change.sample(frac=0.5)['Rating'].map(upmap)\n",
    "            df.loc[changed_up.index, 'Rating'] = changed_up\n",
    "        grade_change_subset = df['Rating'].isin(list(downmap.keys()))\n",
    "        grade_change_subset_df = df[grade_change_subset]\n",
    "        for grade in grade_change_subset_df['Rating'].unique():\n",
    "            to_change = grade_change_subset_df[grade_change_subset_df['Rating'] == grade]\n",
    "            changed_down = to_change['Rating'].map(downmap)\n",
    "            df.loc[changed_down.index, 'Rating'] = changed_down\n",
    "\n",
    "    if resp == grade_homo_choice[0]:\n",
    "        grademoderate()\n",
    "        grade_change_subset = df['Rating'].isin(list(gradedownmap.keys()))\n",
    "        df.loc[grade_change_subset, 'Rating'] = df[grade_change_subset]['Rating'].map(gradedownmap)\n",
    "    if resp == grade_homo_choice[1]:\n",
    "        grademoderate()\n",
    "        grade_change_subset = df['Rating'].isin(list(gradeupmap.keys()))\n",
    "        df.loc[grade_change_subset, 'Rating'] = df[grade_change_subset]['Rating'].map(gradeupmap)\n",
    "    if resp == grade_homo_choice[2]:\n",
    "        grademoderate()\n",
    "        grade_split(gradeupmap,gradedownmap)\n",
    "    if resp == grade_homo_choice[3]:\n",
    "        needs_grade_corr = df[df['Rating'].isin(list(grademoderatemap.keys()) + list(gradedownmap.keys()))]\n",
    "        for loop_count, (index, data) in enumerate(needs_grade_corr.iterrows()):\n",
    "            updated_grade = pyip.inputChoice(prompt=f\"[{loop_count+1}/{needs_grade_corr.shape[0]}] Input Grade Correction For: {data['Route'].title()}:\\n\", choices=YDS_GRADES_LETTER)\n",
    "            df.at[index, 'Rating'] = updated_grade\n",
    "\n",
    "if route_type_selection == \"Bouldering\":\n",
    "    gradedownmap = {'v0-1': 'v0', 'v1-2': 'v1', 'v2-3': 'v2', 'v3-4': 'v3', 'v4-5': 'v4', 'v5-6': 'v5', 'v6-7': 'v6', 'v7-8': 'v7', 'v8-9': 'v8', 'v9-10': 'v9', 'v10-11': 'v10', 'v11-12': 'v11', 'v12-13': 'v12', 'v13-14': 'v13', 'v14-15': 'v14', 'v15-16':'v15', 'v16-17': 'v16'}\n",
    "    gradeupmap = {'v0-1': 'v1', 'v1-2': 'v2', 'v2-3': 'v3', 'v3-4': 'v4', 'v4-5': 'v5', 'v5-6': 'v6', 'v6-7': 'v7', 'v7-8': 'v8', 'v8-9': 'v9', 'v9-10': 'v10', 'v10-11': 'v11', 'v11-12': 'v12', 'v12-13': 'v13', 'v13-14': 'v14', 'v14-15': 'v15', 'v15-16':'v16', 'v16-17': 'v17'}\n",
    "    gradeconmap = {'v0-': 'v0', 'v0+': 'v0', 'v1-': 'v1', 'v1+': 'v1', 'v2-': 'v2', 'v2+': 'v2', 'v3-': 'v3', 'v3+': 'v3', 'v4-': 'v4', 'v4+': 'v4', 'v5-': 'v5', 'v5+': 'v5', 'v6-': 'v6', 'v6+': 'v6', 'v7-': 'v7', 'v7+': 'v7', 'v8-': 'v8', 'v8+': 'v8', \n",
    "                    'v9-': 'v9', 'v9+': 'v9', 'v10-': 'v10', 'v10+': 'v10', 'v11-': 'v11', 'v11+': 'v11', 'v12-': 'v12', 'v12+': 'v12', 'v13-': 'v13', 'v13+': 'v13', 'v14-': 'v14', 'v14+': 'v14', 'v15-': 'v15', 'v15+': 'v15', 'v16-': 'v16', 'v16+': 'v16', 'v17-': 'v17', 'v17+': 'v17'}\n",
    "    \n",
    "    # Remove all + and - grades\n",
    "    grade_change_subset = df['Rating'].isin(list(gradeconmap.keys()))\n",
    "    df.loc[grade_change_subset, 'Rating'] = df[grade_change_subset]['Rating'].map(gradeconmap)\n",
    "    \n",
    "    grade_homo_choice = ['round down', 'round up', 'round evenly by random', 'hand determine']\n",
    "    resp = pyip.inputChoice(grade_homo_choice)\n",
    "    \n",
    "    if resp == grade_homo_choice[0]:\n",
    "        grade_change_subset = df['Rating'].isin(list(gradedownmap.keys()))\n",
    "        df.loc[grade_change_subset, 'Rating'] = df[grade_change_subset]['Rating'].map(gradedownmap)\n",
    "    if resp == grade_homo_choice[1]:\n",
    "        grade_change_subset = df['Rating'].isin(list(gradeupmap.keys()))\n",
    "        df.loc[grade_change_subset, 'Rating'] = df[grade_change_subset]['Rating'].map(gradeupmap)\n",
    "    if resp == grade_homo_choice[2]:\n",
    "        grade_split(gradeupmap,gradedownmap)\n",
    "    if resp == grade_homo_choice[3]:\n",
    "        needs_grade_corr = df[df['Rating'].isin(list(grademoderatemap.keys()) + list(gradedownmap.keys()))]\n",
    "        for loop_count, (index, data) in enumerate(needs_grade_corr.iterrows()):\n",
    "            updated_grade = pyip.inputChoice(prompt=f\"[{loop_count+1}/{needs_grade_corr.shape[0]}] Input Grade Correction For: {data['Route'].title()}:\\n\", choices=V_GRADES_BASIC)\n",
    "            df.at[index, 'Rating'] = updated_grade"
   ]
  },
  {
   "cell_type": "code",
   "execution_count": 6,
   "metadata": {},
   "outputs": [],
   "source": [
    "df.to_pickle('../Data_Archive/df_archive')"
   ]
  },
  {
   "cell_type": "code",
   "execution_count": 155,
   "metadata": {},
   "outputs": [],
   "source": [
    "# To load the new pickle file\n",
    "picklefile = open('../Data_Archive/df_archive', 'rb')\n",
    "df = pickle.load(picklefile)"
   ]
  },
  {
   "cell_type": "code",
   "execution_count": null,
   "metadata": {},
   "outputs": [],
   "source": [
    "# multiple pitch climbs ticked as single pitches are either part of a linkup, first pitch only, or combined into a single pitch. If they are combined into a single pitch we want to ask for grade adjustment\n",
    "subset = df[(df['Pitches'] == 1) & (df['Listed Pitches'] > 1)]\n",
    "for loop_count, (index, data) in enumerate(subset.iterrows()):\n",
    "            updated_grade = pyip.inputChoice(prompt=f\"[{loop_count+1}/{subset.shape[0]}] Input Grade Correction For: {data['Route'].title()}:\\n\", choices=YDS_GRADES_LETTER)\n",
    "            df.at[index, 'Rating'] = updated_grade"
   ]
  },
  {
   "cell_type": "code",
   "execution_count": 32,
   "metadata": {},
   "outputs": [],
   "source": [
    "# redpoint ticks with 1x pitch attempt and no prior fell/hung ticks need further data on previous attempts\n",
    "subset = df[(df['Lead Style'].isin(CLEAN_SEND_WORKED)) & ((df['Pitches'] == 1) | ~df.duplicated('Route'))]\n",
    "for loop_count, (index, data) in enumerate(subset.iterrows()):\n",
    "            updated_attempts = pyip.inputnum(prompt=f\"[{loop_count+1}/{subset.shape[0]}] : Redpoint without prior attempt data, please input number of failed attempts on {data['Route'].title()}:\\n\", min=1)\n",
    "            df.at[index, 'Pitches'] = updated_attempts + 1"
   ]
  },
  {
   "cell_type": "code",
   "execution_count": null,
   "metadata": {},
   "outputs": [],
   "source": [
    "# The \"right\" way to tick multiple attempts on a single pitch route is to tick a fell/hung for each attempt. Some people may instead tick a fell/hung with multiple pitches for multiple attempts. Someone who sends something first day but in multiple tries\n",
    "# might also tick a redpoint with multiple pitches to include their attempts leading to that redpoint.\n",
    "\n",
    "# single pitch climbs ticked as multiple pitches\n",
    "# \tTR or follow -> break into multiple same day TR\n",
    "# \tLead\n",
    "# \t\tfell/hung -> break into multiple same day fell/hung\n",
    "# \t\tredpoint or pinkpoint -> N-1 fell hung and transform current into 1 pitch\n",
    "# \t\tflash or onsight -> likely a mistake, change to 1 pitch\n",
    "\n",
    "#TODO these just find the subset so far, still need to perform the action listed above.\n",
    "df[(df['Listed Pitches'] == 1) & (df['Pitches'] > df['Listed Pitches']) & (df['Style'].isin(['tr', 'follow']))]\n",
    "df[(df['Listed Pitches'] == 1) & (df['Pitches'] > df['Listed Pitches']) & (df['Style'] == 'lead') & (df['Lead Style'] == 'fell/hung')]\n",
    "df[(df['Listed Pitches'] == 1) & (df['Pitches'] > df['Listed Pitches']) & (df['Style'] == 'lead') & (df['Lead Style'].isin(CLEAN_SEND_WORKED))]\n",
    "df[(df['Listed Pitches'] == 1) & (df['Pitches'] > df['Listed Pitches']) & (df['Style'] == 'lead') & (df['Lead Style'].isin(CLEAN_SEND_FIRST))]"
   ]
  },
  {
   "cell_type": "code",
   "execution_count": null,
   "metadata": {},
   "outputs": [],
   "source": [
    "# We want to tag important climbs, namely flash/onsights, worked clean routes and grade breakthroughs.\n",
    "\n",
    "# Tag climbs that were flash/onsight\n",
    "df.loc[df['Lead Style'].isin(CLEAN_SEND_FIRST), 'Flash/Onsight'] = True\n",
    "\n",
    "# Create column that flags climbs that were worked. There are three possibilities to consider. We want 1 and 2.\n",
    "# 1. Worked to clean send, no further sends.\n",
    "# 2. Worked to clean send, additional attempts.\n",
    "# 3. Sent clean first try, additional attempts.\n",
    "df_no_dupe = df[df.duplicated(subset=\"Route ID\", keep=False)] # First we filter for all duplicate entries.\n",
    "df_all_worked = df_no_dupe.groupby('Route ID').filter(lambda x: ~x['Lead Style'].isin(CLEAN_SEND_FIRST).any()) # Then we remove all groups which have a lead style of flash or onsight to eliminate group 3.\n",
    "df_worked_sub1 = df_all_worked[df_all_worked.groupby('Route ID')['Lead Style'].apply(lambda x: x.isin(CLEAN_SEND_WORKED))] # fell/hungs and TRs remain, so we take ticks from CLEAN_SEND_WORKED.\n",
    "df_worked_sub2 = df_worked_sub1.loc[df_worked_sub1.groupby('Route ID')['Date'].idxmin()] # Use only the earliest redpoint to correctly identify the first redpoint.\n",
    "df.loc[df_worked_sub2.index.values, \"Worked Clean\"] = True\n",
    "\n",
    "# Flag grade breakthrough ticks\n",
    "dfbreakthr = df[(df['Flash/Onsight'] == True) | (df['Worked Clean'] == True)]\n",
    "breakthrough_indexes = dfbreakthr.groupby('Rating')['Date'].idxmin().values\n",
    "df.loc[breakthrough_indexes, \"Grade Breakthrough\"] = True\n",
    "df.loc[breakthrough_indexes]\n",
    "\n",
    "# Count number of attempts to send\n",
    "# Currently assumes no style lead ticks are fell/hung\n",
    "# Ignores multipitch\n",
    "# This counts clean ticks with multiple pitches as total attempts. It also counts fell/hung, and TR with multiple pitches as multiple attempts.\n",
    "# !!! This will falsely identify a single pitch climb broken into multiple pitches as two attempts, there isn't really a good way to detect this.\n",
    "df_all_worked_sp_only = df_all_worked[df_all_worked['Listed Pitches'] == 1]\n",
    "num_to_send = df_all_worked_sp_only.groupby('Route ID')['Pitches'].sum()\n",
    "matched_attempts = df[df['Worked Clean'] == True].merge(num_to_send, on=\"Route ID\", how=\"left\")\n",
    "matched_attempts.index = df[df['Worked Clean'] == True].index # I'm dumb and this is the best way I could find to get my index to remain\n",
    "df.loc[matched_attempts.index, \"Attempts\"] = matched_attempts.iloc[:,-1]\n"
   ]
  },
  {
   "cell_type": "code",
   "execution_count": 8,
   "metadata": {},
   "outputs": [
    {
     "data": {
      "application/vnd.plotly.v1+json": {
       "config": {
        "plotlyServerURL": "https://plot.ly"
       },
       "data": [
        {
         "alignmentgroup": "True",
         "customdata": [
          [
           "Generic Crack",
           "2019-05-02",
           "Indian Creek > Donnelly Canyon",
           120,
           3.4
          ],
          [
           "Crack Attack",
           "2022-10-17",
           "Indian Creek > Battle Of The Bulge Buttress",
           null,
           3.7
          ],
          [
           "Supercrack Of The Desert",
           "2019-05-03",
           "Indian Creek > Supercrack Buttress",
           null,
           3.8
          ],
          [
           "Incredible Hand Crack",
           "2019-05-03",
           "Indian Creek > Supercrack Buttress",
           100,
           3.8
          ],
          [
           "No Name Crack",
           "2019-05-12",
           "Indian Creek > Supercrack Buttress",
           110,
           3.2
          ],
          [
           "Gorilla",
           "2021-10-21",
           "Indian Creek > Supercrack Buttress",
           null,
           3.1
          ],
          [
           "Think Pink",
           "2022-10-17",
           "Indian Creek > Battle Of The Bulge Buttress",
           null,
           3.4
          ],
          [
           "Keyhole Flake",
           "2021-10-21",
           "Indian Creek > Supercrack Buttress",
           null,
           3.1
          ],
          [
           "Dawn Of An Age",
           "2019-05-01",
           "Indian Creek > Blue Gramma Cliff",
           50,
           2.5
          ],
          [
           "Hot Toddy",
           "2019-05-11",
           "Long Canyon > Maverick Buttress",
           80,
           2.9
          ],
          [
           "Texas Two Step",
           "2019-05-11",
           "Long Canyon > Maverick Buttress",
           null,
           2.7
          ],
          [
           "Lonely Vigil",
           "2022-11-20",
           "River Road > Lighthouse Tower",
           350,
           3.5
          ],
          [
           "Elephant Man",
           "2020-11-14",
           "Indian Creek > Donnelly Canyon",
           80,
           2.5
          ],
          [
           "Bad Rad Duality",
           "2021-10-21",
           "Indian Creek > Supercrack Buttress",
           120,
           3.5
          ],
          [
           "3am Crack",
           "2020-11-19",
           "Indian Creek > Supercrack Buttress",
           115,
           3.5
          ],
          [
           "Wavy Gravy",
           "2021-10-18",
           "Indian Creek > Scarface",
           70,
           3.2
          ],
          [
           "Rock Lobster",
           "2022-10-20",
           "Indian Creek > Broken Tooth",
           115,
           3.8
          ],
          [
           "Unnamed Classic Hand Crack Aka Gold Crown",
           "2022-10-20",
           "Indian Creek > Broken Tooth",
           120,
           3.7
          ],
          [
           "Brush Painted Datsun",
           "2022-10-14",
           "Day Canyon > Day Canyon Cragging Routes",
           70,
           3.6
          ],
          [
           "The Headache",
           "2021-05-13",
           "Mount Carmel Tunnel > Headache Area",
           380,
           3.9
          ],
          [
           "Blue Sun",
           "2020-11-15",
           "Indian Creek > Way Rambo",
           70,
           3.6
          ],
          [
           "Chopper",
           "2022-11-19",
           "Long Canyon > Deadman'S Buttress",
           190,
           3.6
          ],
          [
           "Program Director",
           "2022-11-19",
           "Long Canyon > Deadman'S Buttress",
           190,
           3.5
          ],
          [
           "Neat",
           "2020-11-21",
           "Indian Creek > The Optimator",
           100,
           3.2
          ],
          [
           "Warm-up Handcrack",
           "2021-10-20",
           "Indian Creek > Reservoir Wall",
           100,
           3.7
          ],
          [
           "Lady Pillar",
           "2020-11-21",
           "Indian Creek > The Optimator",
           110,
           2.6
          ],
          [
           "Fuzz",
           "2022-10-15",
           "Indian Creek > Way Rambo",
           115,
           3.3
          ],
          [
           "Casey's Route",
           "2020-11-21",
           "Indian Creek > The Optimator",
           70,
           2.7
          ],
          [
           "Bird Of Fire",
           "2019-11-15",
           "Isles In The Sky > Isles In The Sky (Northeast Face)",
           80,
           3.8
          ],
          [
           "No Calculators Allowed",
           "2019-11-16",
           "Real Hidden Valley > The Thin Wall",
           50,
           2.6
          ],
          [
           "Illusion Dweller",
           "2021-12-04",
           "The Sentinel > The Sentinel - West Face",
           100,
           3.8
          ],
          [
           "Run For Your Life",
           "2021-12-04",
           "Real Hidden Valley > Tumbling Rainbow Formation",
           90,
           3.7
          ],
          [
           "Broken Glass",
           "2021-01-31",
           "Real Hidden Valley > Gateway Rock",
           60,
           2.4
          ],
          [
           "Bird On A Wire",
           "2021-01-30",
           "Lost Horse Wall > Lost Horse Wall - Right Side",
           330,
           3.3
          ],
          [
           "Fisticuffs",
           "2019-11-16",
           "Real Hidden Valley > Tumbling Rainbow Formation",
           30,
           2.9
          ],
          [
           "The Fox",
           "2021-04-11",
           "01-Calico Basin > The Fox Area",
           150,
           3.9
          ],
          [
           "The Gobbler",
           "2022-03-11",
           "16-Black Velvet Canyon > Black Velvet Wall",
           200,
           3.2
          ],
          [
           "Mushroom People",
           "2021-01-15",
           "10-Pine Creek Canyon > Brass Wall",
           100,
           3.4
          ],
          [
           "Triassic Sands",
           "2020-02-07",
           "Whiskey Peak > North Face",
           700,
           3.8
          ],
          [
           "Sour Mash",
           "2021-11-05",
           "16-Black Velvet Canyon > Black Velvet Wall",
           600,
           3.6
          ],
          [
           "Unimpeachable Groping",
           "2021-04-09",
           "11-Juniper Canyon > Ginger Buttress",
           760,
           3.5
          ],
          [
           "Atman",
           "2020-10-17",
           "Kraft Mountain Area > Yin And Yang Cliff",
           40,
           3.1
          ],
          [
           "Rebel Without A Pause",
           "2021-11-07",
           "Upper Level > Upper Level - Right",
           50,
           3
          ],
          [
           "Dancin' With A God",
           "2021-11-07",
           "Upper Level > Upper Level - Left",
           50,
           2.6
          ],
          [
           "Slot Machine",
           "2021-11-06",
           "Mescalito > Dark Shadows Wall",
           null,
           3.3
          ],
          [
           "Sand Felipe",
           "2020-10-16",
           "Whiskey Peak > North Face",
           110,
           2.6
          ],
          [
           "Risky Business",
           "2021-11-06",
           "Mescalito > Dark Shadows Wall",
           400,
           3.8
          ],
          [
           "Small Purchase",
           "2022-03-12",
           "Magic Mountain > North Face",
           100,
           3.4
          ],
          [
           "Kemosabe",
           "2019-04-22",
           "07-Willow Spring > Ragged Edges Area",
           100,
           2.6
          ],
          [
           "Vagabonds",
           "2020-10-18",
           "Lower Level > Lower Level - Left",
           70,
           2.7
          ],
          [
           "The Walker Spur",
           "2022-03-12",
           "Mescalito > East Face",
           550,
           3.3
          ],
          [
           "Glitter Gulch",
           "2021-02-28",
           "04-Second Pullout (Calico Ii) > Sweet Pain Wall",
           65,
           3.4
          ],
          [
           "T-crack",
           "2020-04-24",
           "Gibraltar Area > Gibraltar Rock",
           60,
           3.7
          ],
          [
           "The Gibbon",
           "2020-05-10",
           "Gibraltar Area > Upper Gibraltar",
           100,
           2.5
          ],
          [
           "Great Race",
           "2021-08-29",
           "Santa Barbara > San Ysidro",
           70,
           3
          ],
          [
           "On The Up And Up",
           "2021-10-16",
           "Indian Creek > Technicolor Wall",
           70,
           3.2
          ],
          [
           "Whale's Back",
           "2021-10-16",
           "Indian Creek > Technicolor Wall",
           120,
           3.7
          ],
          [
           "Jensen's Jugs",
           "2020-09-14",
           "Santa Barbara > Fire Crags",
           50,
           2.4
          ],
          [
           "Blush",
           "2022-06-18",
           "Hwy 33/Ojai > Wheeler Gorge",
           60,
           2.8
          ],
          [
           "Economique",
           "2022-06-18",
           "Hwy 33/Ojai > Wheeler Gorge",
           80,
           3.1
          ],
          [
           "Stuart's Rig (aka Stu Boy)",
           "2020-12-05",
           "Hwy 33/Ojai > Wheeler Gorge",
           75,
           2.7
          ],
          [
           "Careful, There's A Beverage Here!",
           "2020-06-21",
           "The Playground > Little Lebowski Urban Achievers Crag",
           50,
           2.2
          ],
          [
           "Tofu Crack",
           "2019-05-13",
           "Indian Creek > 2Nd Meat Wall",
           115,
           3.3
          ],
          [
           "Miss Conception",
           "2020-10-16",
           "Whiskey Peak > North Face",
           200,
           2.8
          ],
          [
           "Hayutake",
           "2020-11-21",
           "Indian Creek > The Optimator",
           120,
           3.2
          ],
          [
           "Crack 6",
           "2019-11-15",
           "Isles Corridor > Isles Corridor - Left Side",
           50,
           2.9
          ],
          [
           "Third Pillar, Regular Route",
           "2021-06-04",
           "Lee Vining Canyon / Tioga Road > Dana Plateau",
           800,
           3.8
          ],
          [
           "Caustic Cock",
           "2022-03-13",
           "01-Calico Basin > Cannibal Crag",
           40,
           3.4
          ],
          [
           "B-line",
           "2021-02-06",
           "Echo Cliffs > Left Flank",
           90,
           2.3
          ],
          [
           "Idiot Parade (aka Need To Rest)",
           "2020-10-18",
           "Lower Level > Lower Level - Right",
           50,
           2.9
          ],
          [
           "Desire",
           "2022-10-15",
           "Indian Creek > Way Rambo",
           95,
           2.8
          ],
          [
           "Pigs In Space",
           "2020-11-22",
           "Indian Creek > Battle Of The Bulge Buttress",
           120,
           2.9
          ],
          [
           "Espresso",
           "2021-02-10",
           "Echo Cliffs > Java Wall",
           90,
           3.2
          ],
          [
           "Airy Interlude",
           "2020-06-13",
           "The Needles > The Witch",
           null,
           3.9
          ],
          [
           "Casey At The Bat",
           "2021-03-27",
           "Echo Cliffs > Easy Street",
           100,
           3
          ],
          [
           "Americano",
           "2021-09-03",
           "Echo Cliffs > Java Wall",
           100,
           3
          ],
          [
           "Too Proud To Ignore",
           "2021-03-21",
           "Upper Gorge > Dihedrals",
           40,
           2.6
          ],
          [
           "Flying Circus",
           "2019-08-14",
           "The Smoke Bluffs > Neat And Cool",
           100,
           3.6
          ],
          [
           "Moubit",
           "2019-11-09",
           "Isles Corridor > Isles Corridor - Right Side",
           60,
           2.3
          ],
          [
           "Serenity Crack",
           "2022-04-09",
           "Royal Arches > Western Royal Arches",
           350,
           3.8
          ],
          [
           "Sons Of Yesterday",
           "2022-04-09",
           "Royal Arches > Western Royal Arches",
           600,
           3.9
          ],
          [
           "V8 Crack",
           "2021-08-20",
           "Bishop Area > Cardinal Pinnacle",
           80,
           3.9
          ],
          [
           "Cucumbers",
           "2020-07-17",
           "Bishop Area > Cardinal Pinnacle",
           350,
           3.2
          ],
          [
           "Salathe (pitch 1)",
           "2021-09-16",
           "Southwest Base > Moby Dick And Pterodactyl Terrace",
           160,
           3.8
          ],
          [
           "Beverly's Tower",
           "2022-05-13",
           "Aj. Cookie Area > The Cookie Cliff",
           100,
           2.7
          ],
          [
           "The Mayes",
           "2022-10-17",
           "Indian Creek > Battle Of The Bulge Buttress",
           50,
           2.4
          ],
          [
           "Mctech Arete",
           "2019-08-27",
           "Bugaboos > Crescent Spire",
           500,
           3.8
          ],
          [
           "Outer Limits",
           "2022-05-13",
           "Aj. Cookie Area > The Cookie Cliff",
           190,
           3.8
          ],
          [
           "Hardly Wallbanger",
           "2021-03-14",
           "Central Gorge > Pub Wall",
           90,
           3.6
          ],
          [
           "Roofing Company",
           "2021-01-30",
           "Little Hunk - Sw Face > Sw Face Right (Monkey Business Wall)",
           50,
           2.2
          ],
          [
           "Go Sparky Go",
           "2021-10-17",
           "Indian Creek > Sparks Wall",
           70,
           3.4
          ],
          [
           "Divide And Conquer",
           "2021-10-17",
           "Indian Creek > Sparks Wall",
           100,
           3.1
          ],
          [
           "Johnny Can't Lead",
           "2022-02-05",
           "Malibu Creek State Park > Ghetto Wall",
           40,
           3.2
          ],
          [
           "Kathmandu",
           "2020-07-11",
           "Malibu Creek State Park > Ghetto Wall",
           35,
           2.6
          ],
          [
           "Gorgeous",
           "2020-09-26",
           "Malibu Creek State Park > Mt. Gorgeous",
           60,
           2.7
          ],
          [
           "Family Jewel",
           "2020-12-12",
           "Malibu Creek State Park > Mt. Gorgeous",
           50,
           2.9
          ],
          [
           "Mr. Big",
           "2021-05-02",
           "Malibu Creek State Park > Stumbling Blocks",
           35,
           3.1
          ],
          [
           "X Files",
           "2021-05-02",
           "Malibu Creek State Park > Stumbling Blocks",
           30,
           2.1
          ],
          [
           "Rites Of Spring",
           "2022-07-22",
           "Scheelite Canyon / Pratt'S Crack Gully > Armando'S Stilletto / Rites Of Spring",
           400,
           3.5
          ],
          [
           "First Born",
           "2021-01-17",
           "Wake Up Wall Area > The Wake-Up Wall",
           65,
           1.9
          ],
          [
           "Rock On",
           "2019-08-18",
           "Stawamus Chief > The Apron",
           400,
           3.6
          ],
          [
           "Cromagnon",
           "2021-07-22",
           "Dike Wall > East Face",
           80,
           3.7
          ],
          [
           "Black Dihedral",
           "2021-07-20",
           "Dike Wall > East Face",
           70,
           3.4
          ],
          [
           "D.d.d.",
           "2022-07-06",
           "Horseshoe Piles > Spring Wall",
           90,
           3.6
          ],
          [
           "Grim Reality",
           "2021-07-22",
           "Dike Wall > East Face",
           90,
           2.2
          ],
          [
           "Black Lassie",
           "2021-07-22",
           "Dike Wall > East Face",
           80,
           3.4
          ],
          [
           "Mongoloid",
           "2021-07-22",
           "Dike Wall > North Face",
           60,
           2.3
          ],
          [
           "Fall Harvest",
           "2022-07-05",
           "Horseshoe Piles > Spring Wall",
           50,
           2.7
          ],
          [
           "Little Sheba",
           "2021-07-23",
           "Lamb Dome > West Face Of The Lamb",
           110,
           3.3
          ],
          [
           "The Paw",
           "2021-01-30",
           "Little Hunk - Sw Face > Sw Face Right (Monkey Business Wall)",
           35,
           2
          ],
          [
           "Holey Moley",
           "2019-01-19",
           "Raven Rocks > Raven Rocks North Face \"Power Block\" Area",
           90,
           3
          ],
          [
           "Skeezer Pleaser",
           "2022-02-05",
           "Malibu Creek State Park > Ghetto Wall",
           45,
           2.8
          ],
          [
           "Crying Time Again",
           "2020-08-28",
           "Lembert Dome > Northwest Face",
           400,
           3.5
          ],
          [
           "Face The Seam",
           "2020-10-12",
           "Santa Barbara > Fire Crags",
           35,
           2
          ],
          [
           "Guerilla Drilla",
           "2022-01-23",
           "Malibu Creek State Park > Stumbling Blocks",
           null,
           2.4
          ],
          [
           "The Third Degree",
           "2022-01-23",
           "Malibu Creek State Park > Stumbling Blocks",
           null,
           2.4
          ],
          [
           "Directpissima",
           "2022-11-05",
           "Malibu Creek State Park > Ghetto Wall",
           50,
           2.4
          ],
          [
           "Blue Sky Mining",
           "2022-10-20",
           "Indian Creek > Broken Tooth",
           50,
           2.4
          ],
          [
           "West Face",
           "2020-07-17",
           "Bishop Area > Cardinal Pinnacle",
           550,
           3.8
          ],
          [
           "Dark Star",
           "2021-08-21",
           "09 - Palisades & Surrounding Peaks > Temple Crag",
           2000,
           3.4
          ],
          [
           "Have A Beer With Fear",
           "2022-03-13",
           "01-Calico Basin > Cannibal Crag",
           60,
           2.7
          ],
          [
           "What's Eating You",
           "2022-03-13",
           "01-Calico Basin > Cannibal Crag",
           60,
           2.2
          ],
          [
           "Werner's Ant Trees",
           "2022-05-29",
           "Five Open Books > First Tier",
           75,
           3.1
          ],
          [
           "Raised On Robbery",
           "2019-09-05",
           "Lower Blair I, Ii, Iii, And Vicinity > Lower Blair I",
           70,
           3.5
          ],
          [
           "Direct Northwest Face",
           "2021-06-05",
           "Lembert Dome > Northwest Face",
           400,
           3.4
          ],
          [
           "Slackjaw",
           "2021-03-21",
           "Upper Gorge > Dihedrals",
           80,
           2.8
          ],
          [
           "Seasoned In The Sun",
           "2019-08-20",
           "Stawamus Chief > Grand Wall Base Area",
           95,
           3.6
          ],
          [
           "Big Guy",
           "2022-11-25",
           "Indian Creek > Scarface",
           120,
           3.9
          ],
          [
           "But I Don't Drink Scotch",
           "2020-08-15",
           "Crystal Crag > Highlands Wall",
           100,
           2.7
          ],
          [
           "Mic's Master",
           "2021-01-17",
           "Wake Up Wall Area > The Wake-Up Wall",
           55,
           2.7
          ],
          [
           "Spanky Spangler",
           "2021-01-17",
           "Wake Up Wall Area > The Wake-Up Wall",
           65,
           2.7
          ],
          [
           "Reallyfivenineplus",
           "2022-07-06",
           "Horseshoe Piles > Spring Wall",
           80,
           3.1
          ],
          [
           "Springbank",
           "2020-08-15",
           "Crystal Crag > Highlands Wall",
           90,
           3.6
          ],
          [
           "Makunaima",
           "2022-10-08",
           "Cold Springs Dome > Makunaima Amphitheater",
           90,
           3.9
          ],
          [
           "The Surprise",
           "2022-05-29",
           "Five Open Books > First Tier",
           400,
           3.1
          ],
          [
           "Urban Struggle",
           "2022-11-05",
           "Malibu Creek State Park > Ghetto Wall",
           50,
           3.4
          ],
          [
           "Power Grid",
           "2018-10-21",
           "Century Lake Area > The Power Wall",
           60,
           2.6
          ],
          [
           "Power Station",
           "2018-10-21",
           "Century Lake Area > The Power Wall",
           50,
           2.9
          ],
          [
           "Tut",
           "2018-10-21",
           "Century Lake Area > Little Cheops",
           40,
           2
          ],
          [
           "Arrowroot",
           "2019-08-20",
           "Stawamus Chief > Grand Wall Base Area",
           115,
           3.5
          ],
          [
           "Bittersweet",
           "2021-10-30",
           "Echo Cliffs > Chocolate Wall",
           null,
           2.6
          ],
          [
           "Pirates On Horseback",
           "2021-02-13",
           "Alabama Hills North > The Shark'S Fin",
           50,
           2.5
          ],
          [
           "Cleaning Lady",
           "2018-09-17",
           "Hwy 33/Ojai > Potrero John",
           80,
           2.8
          ],
          [
           "Delicious",
           "2020-12-12",
           "Malibu Creek State Park > Mt. Gorgeous",
           85,
           3
          ],
          [
           "South Face Angling Crack?",
           "2022-11-24",
           "Indian Creek > South Sixshooter",
           90,
           3
          ],
          [
           "Ditch 'em",
           "2020-11-21",
           "Indian Creek > The Optimator",
           50,
           2.6
          ],
          [
           "Freebird",
           "2020-11-20",
           "Indian Creek > The Wall",
           60,
           3.1
          ],
          [
           "Nirvana",
           "2021-03-14",
           "Central Gorge > Upper Crust",
           70,
           2.3
          ],
          [
           "Life During Wartime",
           "2021-03-21",
           "Upper Gorge > Dihedrals",
           80,
           2.8
          ],
          [
           "Where's Carruthers?",
           "2021-10-18",
           "Indian Creek > Scarface",
           60,
           2.7
          ],
          [
           "Spark Plug",
           "2020-10-16",
           "16-Black Velvet Canyon > Black Velvet Wall",
           100,
           3
          ],
          [
           "Luscious",
           "2022-01-23",
           "Malibu Creek State Park > Mt. Gorgeous",
           60,
           3.1
          ],
          [
           "Rattletale",
           "2019-08-01",
           "Lookout Point Area > Rattletale Wall",
           null,
           3.8
          ],
          [
           "Ernie Used To Box",
           "2021-10-20",
           "Indian Creek > Reservoir Wall",
           100,
           3.8
          ],
          [
           "Pocket Rocket",
           "2019-05-09",
           "Day Canyon > Day Canyon Cragging Routes",
           65,
           3.5
          ],
          [
           "Run Like Hell",
           "2020-11-20",
           "Indian Creek > The Wall",
           70,
           3.5
          ],
          [
           "Handbone",
           "2022-03-11",
           "16-Black Velvet Canyon > The Monument",
           70,
           3.3
          ],
          [
           "Crack Kingdom",
           "2021-08-20",
           "Bishop Area > Cardinal Pinnacle",
           550,
           3.5
          ],
          [
           "The Ultimate Everything",
           "2019-08-18",
           "Stawamus Chief > Echelon Wall",
           1300,
           2.9
          ],
          [
           "English Breakfast Tea",
           "2021-03-27",
           "Echo Cliffs > The Tea Room",
           80,
           2.5
          ],
          [
           "Kelley Route 1",
           "2019-05-04",
           "Indian Creek > Cliffs Of Insanity",
           130,
           3.6
          ],
          [
           "Iocane Powder",
           "2020-11-18",
           "Indian Creek > Cliffs Of Insanity",
           35,
           2.5
          ],
          [
           "Dread Pirate Roberts",
           "2019-05-04",
           "Indian Creek > Cliffs Of Insanity",
           60,
           3.1
          ],
          [
           "Princess Buttercup",
           "2020-11-18",
           "Indian Creek > Cliffs Of Insanity",
           70,
           3
          ],
          [
           "Irish Car Bomb",
           "2021-03-27",
           "Echo Cliffs > The Tea Room",
           80,
           2.6
          ],
          [
           "Tea Bag",
           "2021-03-27",
           "Echo Cliffs > The Tea Room",
           85,
           3
          ],
          [
           "The Guillotine",
           "2019-11-02",
           "Echo Cliffs > The Alcove",
           90,
           3.4
          ],
          [
           "Chimps Ahoy",
           "2022-04-16",
           "Malibu Creek State Park > Stumbling Blocks",
           80,
           2.5
          ],
          [
           "Cut The Cord",
           "2020-07-11",
           "Malibu Creek State Park > Ghetto Wall",
           30,
           2.1
          ],
          [
           "Darjeeling Extra Fancy",
           "2021-03-27",
           "Echo Cliffs > The Tea Room",
           85,
           2.6
          ],
          [
           "He She",
           "2022-07-02",
           "Rock Creek > Gong Show Wall",
           130,
           3.6
          ],
          [
           "Sideshow",
           "2022-07-02",
           "Rock Creek > Gong Show Wall",
           100,
           3.4
          ],
          [
           "Gridlock",
           "2020-08-09",
           "Hwy 33/Ojai > Wheeler Gorge",
           65,
           2.6
          ],
          [
           "Three Fools Aka Kelley Route 32",
           "2022-10-21",
           "Indian Creek > Reservoir Wall",
           60,
           2.5
          ],
          [
           "Cockblock",
           "2022-02-05",
           "Malibu Creek State Park > Stumbling Blocks",
           40,
           2.5
          ],
          [
           "Kung Fu Fighter",
           "2021-05-13",
           "Mount Carmel Tunnel > Kung Fu Theater",
           450,
           3.6
          ],
          [
           "Rain Dance",
           "2022-01-15",
           "Whiskey Peak > North Face",
           130,
           2.8
          ],
          [
           "Fall Of Vegas",
           "2021-01-17",
           "Wake Up Wall Area > The Wake-Up Wall",
           50,
           2.3
          ],
          [
           "The Last Drag",
           "2021-01-17",
           "Wake Up Wall Area > The Wake-Up Wall",
           50,
           2.4
          ],
          [
           "Dirty Woman",
           "2020-11-20",
           "Indian Creek > The Wall",
           35,
           2.1
          ],
          [
           "Bring Out Your Dead",
           "2021-02-20",
           "Santa Barbara > Renaissance Crag",
           40,
           2.2
          ],
          [
           "Jupiter Crack",
           "2021-10-17",
           "Indian Creek > Sparks Wall",
           130,
           3.9
          ],
          [
           "Owl Crack",
           "2020-11-14",
           "Indian Creek > Donnelly Canyon",
           80,
           3.1
          ],
          [
           "Coronary Bypass",
           "2019-08-19",
           "The Smoke Bluffs > Respiration Rock",
           40,
           2.8
          ],
          [
           "Boognish Tower",
           "2022-10-14",
           "Day Canyon > Boognish Tower",
           120,
           3.4
          ],
          [
           "Hungry, Hungry Hippos",
           "2019-08-16",
           "Murrin Park > Commonwealth",
           65,
           2.4
          ],
          [
           "Faithful Friend",
           "2021-06-03",
           "Horseshoe Lake Area > Sunshine Wall",
           100,
           2.4
          ],
          [
           "Unnamed 38 - Wide To Fists And Kind Of Wavy",
           "2021-10-20",
           "Indian Creek > Reservoir Wall",
           65,
           2.8
          ],
          [
           "Crimson Gem",
           "2022-07-08",
           "02 - The Sawtooth Ridge > The Juggernaut",
           750,
           3.6
          ],
          [
           "The Dihedral Route",
           "2022-07-09",
           "02 - The Sawtooth Ridge > The Juggernaut",
           750,
           3.3
          ],
          [
           "Edgehog",
           "2021-06-03",
           "Horseshoe Lake Area > Sunshine Wall",
           100,
           2.4
          ],
          [
           "Divine Comedy",
           "2018-12-16",
           "03-First Pullout (Calico I) > Dante'S Wall",
           65,
           3.3
          ],
          [
           "Celestial Spheres",
           "2018-12-16",
           "03-First Pullout (Calico I) > Dante'S Wall",
           65,
           2.6
          ],
          [
           "The Right Road Lost",
           "2018-12-16",
           "03-First Pullout (Calico I) > Dante'S Wall",
           50,
           2.6
          ],
          [
           "Miss Apprehension",
           "2020-09-06",
           "Olmsted Area > Olmsted Canyon Right",
           55,
           2
          ],
          [
           "The Consolation Direct",
           "2022-10-01",
           "Tahquitz Rock > (D) Northwest Recess",
           800,
           3.3
          ],
          [
           "Neat And Cool Offwidth",
           "2019-08-14",
           "The Smoke Bluffs > Neat And Cool",
           70,
           2.4
          ],
          [
           "Spinal Fracture",
           "2021-03-09",
           "Central Gorge > Social Platform",
           null,
           3.2
          ],
          [
           "Getaway",
           "2019-01-19",
           "Box Canyon East > The Getaway",
           65,
           3.3
          ],
          [
           "Chasin' Skirt",
           "2022-11-19",
           "Long Canyon > Deadman'S Buttress",
           150,
           3.3
          ],
          [
           "Sick Boy",
           "2020-08-09",
           "Hwy 33/Ojai > Wheeler Gorge",
           55,
           3
          ],
          [
           "Pop-sickle",
           "2019-08-16",
           "Murrin Park > Commonwealth",
           80,
           2
          ],
          [
           "No Man Knows The Hour",
           "2022-05-07",
           "Lower Mission Canyon / Seven Falls > Upper Theology Crag",
           110,
           2.8
          ],
          [
           "Purple Rain",
           "2021-10-16",
           "Indian Creek > Technicolor Wall",
           70,
           2.7
          ],
          [
           "Twice Stung And Forever Shy",
           "2018-10-25",
           "Invisible Wall > Bug Wall",
           null,
           2.9
          ],
          [
           "Caution: Falling Snakes",
           "2019-10-06",
           "Invisible Wall > Lower Main Wall",
           null,
           3
          ],
          [
           "Ches Game",
           "2018-10-25",
           "Invisible Wall > Lower Main Wall",
           null,
           2.3
          ],
          [
           "Unnamed Offwidth",
           "2022-11-24",
           "Indian Creek > South Sixshooter",
           70,
           3
          ],
          [
           "Dick Pics",
           "2022-02-05",
           "Malibu Creek State Park > Mt. Gorgeous",
           50,
           2.6
          ],
          [
           "Unnamed",
           "2022-11-05",
           "Malibu Creek State Park > Ghetto Wall",
           45,
           2.4
          ],
          [
           "Bone Saw",
           "2022-03-11",
           "16-Black Velvet Canyon > The Monument",
           55,
           2.5
          ],
          [
           "Anasazi",
           "2022-07-17",
           "Cold Springs Dome > Makunaima Amphitheater",
           50,
           3
          ],
          [
           "Baby Scorpions",
           "2022-07-17",
           "Cold Springs Dome > Makunaima Amphitheater",
           70,
           2.6
          ],
          [
           "Daximus",
           "2022-08-20",
           "Cold Springs Dome > Makunaima Amphitheater",
           90,
           3.4
          ]
         ],
         "hovertemplate": "Name: %{customdata[0]}<br>Date: %{customdata[1]}<br>Location: %{customdata[2]}<br>Length: %{customdata[3]}ft<br>Avg Stars: %{customdata[4]}",
         "legendgroup": "",
         "marker": {
          "color": "#7A4F25",
          "pattern": {
           "shape": ""
          }
         },
         "name": "",
         "offsetgroup": "",
         "orientation": "h",
         "showlegend": false,
         "text": [
          "",
          "",
          "",
          2,
          "",
          "",
          "",
          "",
          "",
          "",
          "",
          "",
          "",
          "",
          2,
          "",
          "",
          "",
          2,
          "",
          "",
          "",
          "",
          "",
          "",
          "",
          "",
          "",
          "",
          "",
          "",
          "",
          "",
          "",
          "",
          "",
          "",
          "",
          "",
          "",
          "",
          3,
          2,
          "",
          "",
          "",
          "",
          "",
          "",
          "",
          "",
          "",
          12,
          "",
          "",
          "",
          "",
          4,
          2,
          "",
          2,
          "",
          "",
          "",
          "",
          "",
          "",
          2,
          "",
          "",
          "",
          "",
          3,
          "",
          "",
          2,
          "",
          "",
          "",
          "",
          "",
          "",
          "",
          "",
          "",
          "",
          "",
          "",
          "",
          "",
          "",
          "",
          "",
          "",
          "",
          2,
          3,
          "",
          "",
          "",
          "",
          3,
          "",
          "",
          2,
          "",
          3,
          "",
          "",
          "",
          "",
          2,
          "",
          3,
          "",
          "",
          2,
          "",
          "",
          "",
          "",
          "",
          "",
          "",
          "",
          "",
          "",
          "",
          "",
          "",
          "",
          "",
          "",
          16,
          "",
          4,
          "",
          "",
          "",
          "",
          "",
          "",
          "",
          2,
          "",
          "",
          "",
          "",
          "",
          "",
          "",
          "",
          "",
          "",
          "",
          "",
          "",
          "",
          "",
          "",
          "",
          "",
          "",
          "",
          "",
          "",
          "",
          "",
          "",
          "",
          "",
          "",
          "",
          "",
          2,
          "",
          "",
          "",
          "",
          "",
          "",
          "",
          "",
          "",
          "",
          "",
          "",
          "",
          "",
          "",
          "",
          "",
          "",
          "",
          "",
          "",
          "",
          "",
          "",
          "",
          "",
          "",
          2,
          "",
          "",
          "",
          "",
          "",
          "",
          "",
          "",
          "",
          "",
          ""
         ],
         "textposition": "inside",
         "type": "bar",
         "x": [
          1,
          1,
          1,
          1,
          1,
          1,
          1,
          1,
          1,
          1,
          1,
          1,
          1,
          1,
          1,
          1,
          1,
          1,
          1,
          1,
          1,
          1,
          1,
          1,
          1,
          1,
          1,
          1,
          1,
          1,
          1,
          1,
          1,
          1,
          1,
          1,
          1,
          1,
          1,
          1,
          1,
          1,
          1,
          1,
          1,
          1,
          1,
          1,
          1,
          1,
          1,
          1,
          1,
          1,
          1,
          1,
          1,
          1,
          1,
          1,
          1,
          1,
          1,
          1,
          1,
          1,
          1,
          1,
          1,
          1,
          1,
          1,
          1,
          1,
          1,
          1,
          1,
          1,
          1,
          1,
          1,
          1,
          1,
          1,
          1,
          1,
          1,
          1,
          1,
          1,
          1,
          1,
          1,
          1,
          1,
          1,
          1,
          1,
          1,
          1,
          1,
          1,
          1,
          1,
          1,
          1,
          1,
          1,
          1,
          1,
          1,
          1,
          1,
          1,
          1,
          1,
          1,
          1,
          1,
          1,
          1,
          1,
          1,
          1,
          1,
          1,
          1,
          1,
          1,
          1,
          1,
          1,
          1,
          1,
          1,
          1,
          1,
          1,
          1,
          1,
          1,
          1,
          1,
          1,
          1,
          1,
          1,
          1,
          1,
          1,
          1,
          1,
          1,
          1,
          1,
          1,
          1,
          1,
          1,
          1,
          1,
          1,
          1,
          1,
          1,
          1,
          1,
          1,
          1,
          1,
          1,
          1,
          1,
          1,
          1,
          1,
          1,
          1,
          1,
          1,
          1,
          1,
          1,
          1,
          1,
          1,
          1,
          1,
          1,
          1,
          1,
          1,
          1,
          1,
          1,
          1,
          1,
          1,
          1,
          1,
          1,
          1,
          1,
          1,
          1,
          1,
          1,
          1,
          1,
          1,
          1,
          1,
          1,
          1
         ],
         "xaxis": "x",
         "y": [
          "5.10b",
          "5.11a",
          "5.10b",
          "5.10c",
          "5.10c",
          "5.10c",
          "5.11a",
          "5.10b",
          "5.10b",
          "5.10b",
          "5.10b",
          "5.10c",
          "5.10b",
          "5.10d",
          "5.10b",
          "5.10b",
          "5.11b",
          "5.11b",
          "5.10c",
          "5.10b",
          "5.10b",
          "5.10c",
          "5.10c",
          "5.10b",
          "5.10b",
          "5.10a",
          "5.10b",
          "5.10c",
          "5.10a",
          "5.10a",
          "5.10b",
          "5.10b",
          "5.10a",
          "5.10a",
          "5.10b",
          "5.10c",
          "5.10b",
          "5.10c",
          "5.10c",
          "5.10a",
          "5.10b",
          "5.10a",
          "5.11a",
          "5.10a",
          "5.10c",
          "5.10a",
          "5.10c",
          "5.10a",
          "5.10a",
          "5.10a",
          "5.10b",
          "5.11a",
          "5.10c",
          "5.10b",
          "5.10a",
          "5.10c",
          "5.10d",
          "5.10b",
          "5.11a",
          "5.10a",
          "5.11a",
          "5.10a",
          "5.10b",
          "5.10b",
          "5.10c",
          "5.10a",
          "5.10b",
          "5.11b",
          "5.10a",
          "5.10c",
          "5.10b",
          "5.10c",
          "5.11a",
          "5.10a",
          "5.10b",
          "5.11a",
          "5.10b",
          "5.10a",
          "5.10a",
          "5.10d",
          "5.10b",
          "5.10c",
          "5.10b",
          "5.10c",
          "5.10a",
          "5.10c",
          "5.10a",
          "5.10c",
          "5.10c",
          "5.10a",
          "5.11c",
          "5.10d",
          "5.11a",
          "5.10a",
          "5.10a",
          "5.10c",
          "5.10d",
          "5.10c",
          "5.10d",
          "5.10b",
          "5.10a",
          "5.10a",
          "5.10b",
          "5.11a",
          "5.10b",
          "5.10d",
          "5.10b",
          "5.10b",
          "5.10a",
          "5.10b",
          "5.10a",
          "5.11b",
          "5.10a",
          "5.10a",
          "5.10a",
          "5.10b",
          "5.11a",
          "5.10c",
          "5.10a",
          "5.10c",
          "5.11b",
          "5.10a",
          "5.10c",
          "5.10b",
          "5.10b",
          "5.10b",
          "5.10b",
          "5.11a",
          "5.10a",
          "5.10b",
          "5.10b",
          "5.10c",
          "5.10a",
          "5.11c",
          "5.10a",
          "5.12a",
          "5.10a",
          "5.10b",
          "5.10a",
          "5.10b",
          "5.10c",
          "5.10b",
          "5.10b",
          "5.10d",
          "5.10b",
          "5.10b",
          "5.10b",
          "5.10a",
          "5.10a",
          "5.10c",
          "5.10b",
          "5.11b",
          "5.10b",
          "5.10d",
          "5.10c",
          "5.10c",
          "5.10b",
          "5.10c",
          "5.10b",
          "5.10a",
          "5.10c",
          "5.10a",
          "5.10c",
          "5.10a",
          "5.10c",
          "5.10b",
          "5.10b",
          "5.10a",
          "5.10b",
          "5.10c",
          "5.10b",
          "5.10a",
          "5.10a",
          "5.10c",
          "5.10d",
          "5.11b",
          "5.10a",
          "5.10a",
          "5.10a",
          "5.10c",
          "5.10a",
          "5.11c",
          "5.10c",
          "5.10a",
          "5.10b",
          "5.10a",
          "5.10b",
          "5.10c",
          "5.10b",
          "5.10b",
          "5.10a",
          "5.10a",
          "5.10b",
          "5.10a",
          "5.10a",
          "5.10a",
          "5.10b",
          "5.11a",
          "5.10a",
          "5.10d",
          "5.10b",
          "5.10d",
          "5.10d",
          "5.10b",
          "5.10a",
          "5.10b",
          "5.10c",
          "5.10c",
          "5.10b",
          "5.10d",
          "5.10a",
          "5.10c",
          "5.10c",
          "5.10a"
         ],
         "yaxis": "y"
        }
       ],
       "layout": {
        "bargap": 0,
        "barmode": "relative",
        "font": {
         "color": "black",
         "family": "Courier New",
         "size": 20
        },
        "legend": {
         "tracegroupgap": 0
        },
        "margin": {
         "t": 60
        },
        "paper_bgcolor": "#ece5dc",
        "plot_bgcolor": "#F5D3A5",
        "template": {
         "data": {
          "bar": [
           {
            "error_x": {
             "color": "#2a3f5f"
            },
            "error_y": {
             "color": "#2a3f5f"
            },
            "marker": {
             "line": {
              "color": "#E5ECF6",
              "width": 0.5
             },
             "pattern": {
              "fillmode": "overlay",
              "size": 10,
              "solidity": 0.2
             }
            },
            "type": "bar"
           }
          ],
          "barpolar": [
           {
            "marker": {
             "line": {
              "color": "#E5ECF6",
              "width": 0.5
             },
             "pattern": {
              "fillmode": "overlay",
              "size": 10,
              "solidity": 0.2
             }
            },
            "type": "barpolar"
           }
          ],
          "carpet": [
           {
            "aaxis": {
             "endlinecolor": "#2a3f5f",
             "gridcolor": "white",
             "linecolor": "white",
             "minorgridcolor": "white",
             "startlinecolor": "#2a3f5f"
            },
            "baxis": {
             "endlinecolor": "#2a3f5f",
             "gridcolor": "white",
             "linecolor": "white",
             "minorgridcolor": "white",
             "startlinecolor": "#2a3f5f"
            },
            "type": "carpet"
           }
          ],
          "choropleth": [
           {
            "colorbar": {
             "outlinewidth": 0,
             "ticks": ""
            },
            "type": "choropleth"
           }
          ],
          "contour": [
           {
            "colorbar": {
             "outlinewidth": 0,
             "ticks": ""
            },
            "colorscale": [
             [
              0,
              "#0d0887"
             ],
             [
              0.1111111111111111,
              "#46039f"
             ],
             [
              0.2222222222222222,
              "#7201a8"
             ],
             [
              0.3333333333333333,
              "#9c179e"
             ],
             [
              0.4444444444444444,
              "#bd3786"
             ],
             [
              0.5555555555555556,
              "#d8576b"
             ],
             [
              0.6666666666666666,
              "#ed7953"
             ],
             [
              0.7777777777777778,
              "#fb9f3a"
             ],
             [
              0.8888888888888888,
              "#fdca26"
             ],
             [
              1,
              "#f0f921"
             ]
            ],
            "type": "contour"
           }
          ],
          "contourcarpet": [
           {
            "colorbar": {
             "outlinewidth": 0,
             "ticks": ""
            },
            "type": "contourcarpet"
           }
          ],
          "heatmap": [
           {
            "colorbar": {
             "outlinewidth": 0,
             "ticks": ""
            },
            "colorscale": [
             [
              0,
              "#0d0887"
             ],
             [
              0.1111111111111111,
              "#46039f"
             ],
             [
              0.2222222222222222,
              "#7201a8"
             ],
             [
              0.3333333333333333,
              "#9c179e"
             ],
             [
              0.4444444444444444,
              "#bd3786"
             ],
             [
              0.5555555555555556,
              "#d8576b"
             ],
             [
              0.6666666666666666,
              "#ed7953"
             ],
             [
              0.7777777777777778,
              "#fb9f3a"
             ],
             [
              0.8888888888888888,
              "#fdca26"
             ],
             [
              1,
              "#f0f921"
             ]
            ],
            "type": "heatmap"
           }
          ],
          "heatmapgl": [
           {
            "colorbar": {
             "outlinewidth": 0,
             "ticks": ""
            },
            "colorscale": [
             [
              0,
              "#0d0887"
             ],
             [
              0.1111111111111111,
              "#46039f"
             ],
             [
              0.2222222222222222,
              "#7201a8"
             ],
             [
              0.3333333333333333,
              "#9c179e"
             ],
             [
              0.4444444444444444,
              "#bd3786"
             ],
             [
              0.5555555555555556,
              "#d8576b"
             ],
             [
              0.6666666666666666,
              "#ed7953"
             ],
             [
              0.7777777777777778,
              "#fb9f3a"
             ],
             [
              0.8888888888888888,
              "#fdca26"
             ],
             [
              1,
              "#f0f921"
             ]
            ],
            "type": "heatmapgl"
           }
          ],
          "histogram": [
           {
            "marker": {
             "pattern": {
              "fillmode": "overlay",
              "size": 10,
              "solidity": 0.2
             }
            },
            "type": "histogram"
           }
          ],
          "histogram2d": [
           {
            "colorbar": {
             "outlinewidth": 0,
             "ticks": ""
            },
            "colorscale": [
             [
              0,
              "#0d0887"
             ],
             [
              0.1111111111111111,
              "#46039f"
             ],
             [
              0.2222222222222222,
              "#7201a8"
             ],
             [
              0.3333333333333333,
              "#9c179e"
             ],
             [
              0.4444444444444444,
              "#bd3786"
             ],
             [
              0.5555555555555556,
              "#d8576b"
             ],
             [
              0.6666666666666666,
              "#ed7953"
             ],
             [
              0.7777777777777778,
              "#fb9f3a"
             ],
             [
              0.8888888888888888,
              "#fdca26"
             ],
             [
              1,
              "#f0f921"
             ]
            ],
            "type": "histogram2d"
           }
          ],
          "histogram2dcontour": [
           {
            "colorbar": {
             "outlinewidth": 0,
             "ticks": ""
            },
            "colorscale": [
             [
              0,
              "#0d0887"
             ],
             [
              0.1111111111111111,
              "#46039f"
             ],
             [
              0.2222222222222222,
              "#7201a8"
             ],
             [
              0.3333333333333333,
              "#9c179e"
             ],
             [
              0.4444444444444444,
              "#bd3786"
             ],
             [
              0.5555555555555556,
              "#d8576b"
             ],
             [
              0.6666666666666666,
              "#ed7953"
             ],
             [
              0.7777777777777778,
              "#fb9f3a"
             ],
             [
              0.8888888888888888,
              "#fdca26"
             ],
             [
              1,
              "#f0f921"
             ]
            ],
            "type": "histogram2dcontour"
           }
          ],
          "mesh3d": [
           {
            "colorbar": {
             "outlinewidth": 0,
             "ticks": ""
            },
            "type": "mesh3d"
           }
          ],
          "parcoords": [
           {
            "line": {
             "colorbar": {
              "outlinewidth": 0,
              "ticks": ""
             }
            },
            "type": "parcoords"
           }
          ],
          "pie": [
           {
            "automargin": true,
            "type": "pie"
           }
          ],
          "scatter": [
           {
            "fillpattern": {
             "fillmode": "overlay",
             "size": 10,
             "solidity": 0.2
            },
            "type": "scatter"
           }
          ],
          "scatter3d": [
           {
            "line": {
             "colorbar": {
              "outlinewidth": 0,
              "ticks": ""
             }
            },
            "marker": {
             "colorbar": {
              "outlinewidth": 0,
              "ticks": ""
             }
            },
            "type": "scatter3d"
           }
          ],
          "scattercarpet": [
           {
            "marker": {
             "colorbar": {
              "outlinewidth": 0,
              "ticks": ""
             }
            },
            "type": "scattercarpet"
           }
          ],
          "scattergeo": [
           {
            "marker": {
             "colorbar": {
              "outlinewidth": 0,
              "ticks": ""
             }
            },
            "type": "scattergeo"
           }
          ],
          "scattergl": [
           {
            "marker": {
             "colorbar": {
              "outlinewidth": 0,
              "ticks": ""
             }
            },
            "type": "scattergl"
           }
          ],
          "scattermapbox": [
           {
            "marker": {
             "colorbar": {
              "outlinewidth": 0,
              "ticks": ""
             }
            },
            "type": "scattermapbox"
           }
          ],
          "scatterpolar": [
           {
            "marker": {
             "colorbar": {
              "outlinewidth": 0,
              "ticks": ""
             }
            },
            "type": "scatterpolar"
           }
          ],
          "scatterpolargl": [
           {
            "marker": {
             "colorbar": {
              "outlinewidth": 0,
              "ticks": ""
             }
            },
            "type": "scatterpolargl"
           }
          ],
          "scatterternary": [
           {
            "marker": {
             "colorbar": {
              "outlinewidth": 0,
              "ticks": ""
             }
            },
            "type": "scatterternary"
           }
          ],
          "surface": [
           {
            "colorbar": {
             "outlinewidth": 0,
             "ticks": ""
            },
            "colorscale": [
             [
              0,
              "#0d0887"
             ],
             [
              0.1111111111111111,
              "#46039f"
             ],
             [
              0.2222222222222222,
              "#7201a8"
             ],
             [
              0.3333333333333333,
              "#9c179e"
             ],
             [
              0.4444444444444444,
              "#bd3786"
             ],
             [
              0.5555555555555556,
              "#d8576b"
             ],
             [
              0.6666666666666666,
              "#ed7953"
             ],
             [
              0.7777777777777778,
              "#fb9f3a"
             ],
             [
              0.8888888888888888,
              "#fdca26"
             ],
             [
              1,
              "#f0f921"
             ]
            ],
            "type": "surface"
           }
          ],
          "table": [
           {
            "cells": {
             "fill": {
              "color": "#EBF0F8"
             },
             "line": {
              "color": "white"
             }
            },
            "header": {
             "fill": {
              "color": "#C8D4E3"
             },
             "line": {
              "color": "white"
             }
            },
            "type": "table"
           }
          ]
         },
         "layout": {
          "annotationdefaults": {
           "arrowcolor": "#2a3f5f",
           "arrowhead": 0,
           "arrowwidth": 1
          },
          "autotypenumbers": "strict",
          "coloraxis": {
           "colorbar": {
            "outlinewidth": 0,
            "ticks": ""
           }
          },
          "colorscale": {
           "diverging": [
            [
             0,
             "#8e0152"
            ],
            [
             0.1,
             "#c51b7d"
            ],
            [
             0.2,
             "#de77ae"
            ],
            [
             0.3,
             "#f1b6da"
            ],
            [
             0.4,
             "#fde0ef"
            ],
            [
             0.5,
             "#f7f7f7"
            ],
            [
             0.6,
             "#e6f5d0"
            ],
            [
             0.7,
             "#b8e186"
            ],
            [
             0.8,
             "#7fbc41"
            ],
            [
             0.9,
             "#4d9221"
            ],
            [
             1,
             "#276419"
            ]
           ],
           "sequential": [
            [
             0,
             "#0d0887"
            ],
            [
             0.1111111111111111,
             "#46039f"
            ],
            [
             0.2222222222222222,
             "#7201a8"
            ],
            [
             0.3333333333333333,
             "#9c179e"
            ],
            [
             0.4444444444444444,
             "#bd3786"
            ],
            [
             0.5555555555555556,
             "#d8576b"
            ],
            [
             0.6666666666666666,
             "#ed7953"
            ],
            [
             0.7777777777777778,
             "#fb9f3a"
            ],
            [
             0.8888888888888888,
             "#fdca26"
            ],
            [
             1,
             "#f0f921"
            ]
           ],
           "sequentialminus": [
            [
             0,
             "#0d0887"
            ],
            [
             0.1111111111111111,
             "#46039f"
            ],
            [
             0.2222222222222222,
             "#7201a8"
            ],
            [
             0.3333333333333333,
             "#9c179e"
            ],
            [
             0.4444444444444444,
             "#bd3786"
            ],
            [
             0.5555555555555556,
             "#d8576b"
            ],
            [
             0.6666666666666666,
             "#ed7953"
            ],
            [
             0.7777777777777778,
             "#fb9f3a"
            ],
            [
             0.8888888888888888,
             "#fdca26"
            ],
            [
             1,
             "#f0f921"
            ]
           ]
          },
          "colorway": [
           "#636efa",
           "#EF553B",
           "#00cc96",
           "#ab63fa",
           "#FFA15A",
           "#19d3f3",
           "#FF6692",
           "#B6E880",
           "#FF97FF",
           "#FECB52"
          ],
          "font": {
           "color": "#2a3f5f"
          },
          "geo": {
           "bgcolor": "white",
           "lakecolor": "white",
           "landcolor": "#E5ECF6",
           "showlakes": true,
           "showland": true,
           "subunitcolor": "white"
          },
          "hoverlabel": {
           "align": "left"
          },
          "hovermode": "closest",
          "mapbox": {
           "style": "light"
          },
          "paper_bgcolor": "white",
          "plot_bgcolor": "#E5ECF6",
          "polar": {
           "angularaxis": {
            "gridcolor": "white",
            "linecolor": "white",
            "ticks": ""
           },
           "bgcolor": "#E5ECF6",
           "radialaxis": {
            "gridcolor": "white",
            "linecolor": "white",
            "ticks": ""
           }
          },
          "scene": {
           "xaxis": {
            "backgroundcolor": "#E5ECF6",
            "gridcolor": "white",
            "gridwidth": 2,
            "linecolor": "white",
            "showbackground": true,
            "ticks": "",
            "zerolinecolor": "white"
           },
           "yaxis": {
            "backgroundcolor": "#E5ECF6",
            "gridcolor": "white",
            "gridwidth": 2,
            "linecolor": "white",
            "showbackground": true,
            "ticks": "",
            "zerolinecolor": "white"
           },
           "zaxis": {
            "backgroundcolor": "#E5ECF6",
            "gridcolor": "white",
            "gridwidth": 2,
            "linecolor": "white",
            "showbackground": true,
            "ticks": "",
            "zerolinecolor": "white"
           }
          },
          "shapedefaults": {
           "line": {
            "color": "#2a3f5f"
           }
          },
          "ternary": {
           "aaxis": {
            "gridcolor": "white",
            "linecolor": "white",
            "ticks": ""
           },
           "baxis": {
            "gridcolor": "white",
            "linecolor": "white",
            "ticks": ""
           },
           "bgcolor": "#E5ECF6",
           "caxis": {
            "gridcolor": "white",
            "linecolor": "white",
            "ticks": ""
           }
          },
          "title": {
           "x": 0.05
          },
          "xaxis": {
           "automargin": true,
           "gridcolor": "white",
           "linecolor": "white",
           "ticks": "",
           "title": {
            "standoff": 15
           },
           "zerolinecolor": "white",
           "zerolinewidth": 2
          },
          "yaxis": {
           "automargin": true,
           "gridcolor": "white",
           "linecolor": "white",
           "ticks": "",
           "title": {
            "standoff": 15
           },
           "zerolinecolor": "white",
           "zerolinewidth": 2
          }
         }
        },
        "title": {
         "font": {
          "size": 30
         },
         "text": "<b>Climbing Pyramid</b>",
         "x": 0.5
        },
        "xaxis": {
         "anchor": "y",
         "domain": [
          0,
          1
         ],
         "title": {
          "text": "Number of Routes Sent"
         }
        },
        "yaxis": {
         "anchor": "x",
         "categoryarray": [
          "5.0",
          "5.1",
          "5.2",
          "5.3",
          "5.4",
          "5.5",
          "5.6",
          "5.7",
          "5.8",
          "5.9",
          "5.10a",
          "5.10b",
          "5.10c",
          "5.10d",
          "5.11a",
          "5.11b",
          "5.11c",
          "5.11d",
          "5.12a",
          "5.12b",
          "5.12c",
          "5.12d",
          "5.13a",
          "5.13b",
          "5.13c",
          "5.13d",
          "5.14a",
          "5.14b",
          "5.14c",
          "5.14d",
          "5.15a",
          "5.15b",
          "5.15c",
          "5.15d"
         ],
         "categoryorder": "array",
         "domain": [
          0,
          1
         ],
         "title": {
          "text": "Grade"
         }
        }
       }
      }
     },
     "metadata": {},
     "output_type": "display_data"
    }
   ],
   "source": [
    "df.loc[df['Lead Style'].isin(CLEAN_SEND_FIRST), \"Attempts\"] = ''\n",
    "df_clean_sends = df[df['Lead Style'].isin(CLEAN_SEND)]\n",
    "df_clean_sends = df_clean_sends.loc[df_clean_sends.groupby('Route ID')['Date'].idxmin()] # Use only earliest clean send, which will have relevant attempt based data\n",
    "df_clean_sends['Route Formatted'] = df_clean_sends['Route'].apply(lambda x: string.capwords(x))\n",
    "df_clean_sends['Location Formatted'] = df_clean_sends['Location'].apply(lambda x: \" > \".join(x.title().split(' > ')[-2::]))\n",
    "df_clean_sends['Date Formatted'] = df_clean_sends['Date'].dt.date\n",
    "\n",
    "fig = px.bar(df_clean_sends, y=\"Rating\", orientation='h', category_orders={\"Rating\": YDS_GRADES_LETTER[::-1]}, text='Attempts', custom_data=['Route Formatted', 'Date Formatted', 'Location Formatted', 'Length', 'Avg Stars']) # The [::-1] is an inverse slice\n",
    "fig.update_layout(font={'family':'Courier New', 'color':'black', 'size':20}, title={'text':'<b>Climbing Pyramid</b>', 'x':0.5, 'font_size':30}, xaxis={'title': 'Number of Routes Sent'}, yaxis={'title': 'Grade'}, paper_bgcolor='#ece5dc', plot_bgcolor='#F5D3A5', bargap=0)\n",
    "fig.update_traces(marker_color='#7A4F25', textposition = \"inside\",  hovertemplate='Name: %{customdata[0]}<br>Date: %{customdata[1]}<br>Location: %{customdata[2]}<br>Length: %{customdata[3]}ft<br>Avg Stars: %{customdata[4]}')\n",
    "# fig.update_traces(marker_color=list(map(lambda x: '#7A4F25' if (x=='') else '#bf9315', df_clean_sends['Attempts'])), textposition = \"inside\",  hovertemplate='Name: %{customdata[0]}<br>Date: %{customdata[1]}<br>Location: %{customdata[2]}<br>Length: %{customdata[3]}ft<br>Avg Stars: %{customdata[4]}')\n",
    "fig"
   ]
  },
  {
   "cell_type": "code",
   "execution_count": 9,
   "metadata": {},
   "outputs": [
    {
     "data": {
      "application/vnd.plotly.v1+json": {
       "config": {
        "plotlyServerURL": "https://plot.ly"
       },
       "data": [
        {
         "customdata": [
          [
           "Generic Crack",
           "2019-05-02",
           "Indian Creek > Donnelly Canyon",
           120,
           3.4
          ],
          [
           "Crack Attack",
           "2022-10-17",
           "Indian Creek > Battle Of The Bulge Buttress",
           null,
           3.7
          ],
          [
           "Supercrack Of The Desert",
           "2019-05-03",
           "Indian Creek > Supercrack Buttress",
           null,
           3.8
          ],
          [
           "Incredible Hand Crack",
           "2019-05-03",
           "Indian Creek > Supercrack Buttress",
           100,
           3.8
          ],
          [
           "No Name Crack",
           "2019-05-12",
           "Indian Creek > Supercrack Buttress",
           110,
           3.2
          ],
          [
           "Gorilla",
           "2021-10-21",
           "Indian Creek > Supercrack Buttress",
           null,
           3.1
          ],
          [
           "Think Pink",
           "2022-10-17",
           "Indian Creek > Battle Of The Bulge Buttress",
           null,
           3.4
          ],
          [
           "Keyhole Flake",
           "2021-10-21",
           "Indian Creek > Supercrack Buttress",
           null,
           3.1
          ],
          [
           "Dawn Of An Age",
           "2019-05-01",
           "Indian Creek > Blue Gramma Cliff",
           50,
           2.5
          ],
          [
           "Hot Toddy",
           "2019-05-11",
           "Long Canyon > Maverick Buttress",
           80,
           2.9
          ],
          [
           "Texas Two Step",
           "2019-05-11",
           "Long Canyon > Maverick Buttress",
           null,
           2.7
          ],
          [
           "Lonely Vigil",
           "2022-11-20",
           "River Road > Lighthouse Tower",
           350,
           3.5
          ],
          [
           "Elephant Man",
           "2020-11-14",
           "Indian Creek > Donnelly Canyon",
           80,
           2.5
          ],
          [
           "Bad Rad Duality",
           "2021-10-21",
           "Indian Creek > Supercrack Buttress",
           120,
           3.5
          ],
          [
           "3am Crack",
           "2020-11-19",
           "Indian Creek > Supercrack Buttress",
           115,
           3.5
          ],
          [
           "Wavy Gravy",
           "2021-10-18",
           "Indian Creek > Scarface",
           70,
           3.2
          ],
          [
           "Rock Lobster",
           "2022-10-20",
           "Indian Creek > Broken Tooth",
           115,
           3.8
          ],
          [
           "Unnamed Classic Hand Crack Aka Gold Crown",
           "2022-10-20",
           "Indian Creek > Broken Tooth",
           120,
           3.7
          ],
          [
           "Brush Painted Datsun",
           "2022-10-14",
           "Day Canyon > Day Canyon Cragging Routes",
           70,
           3.6
          ],
          [
           "The Headache",
           "2021-05-13",
           "Mount Carmel Tunnel > Headache Area",
           380,
           3.9
          ],
          [
           "Blue Sun",
           "2020-11-15",
           "Indian Creek > Way Rambo",
           70,
           3.6
          ],
          [
           "Chopper",
           "2022-11-19",
           "Long Canyon > Deadman'S Buttress",
           190,
           3.6
          ],
          [
           "Program Director",
           "2022-11-19",
           "Long Canyon > Deadman'S Buttress",
           190,
           3.5
          ],
          [
           "Neat",
           "2020-11-21",
           "Indian Creek > The Optimator",
           100,
           3.2
          ],
          [
           "Warm-up Handcrack",
           "2021-10-20",
           "Indian Creek > Reservoir Wall",
           100,
           3.7
          ],
          [
           "Lady Pillar",
           "2020-11-21",
           "Indian Creek > The Optimator",
           110,
           2.6
          ],
          [
           "Fuzz",
           "2022-10-15",
           "Indian Creek > Way Rambo",
           115,
           3.3
          ],
          [
           "Casey's Route",
           "2020-11-21",
           "Indian Creek > The Optimator",
           70,
           2.7
          ],
          [
           "Bird Of Fire",
           "2019-11-15",
           "Isles In The Sky > Isles In The Sky (Northeast Face)",
           80,
           3.8
          ],
          [
           "No Calculators Allowed",
           "2019-11-16",
           "Real Hidden Valley > The Thin Wall",
           50,
           2.6
          ],
          [
           "Illusion Dweller",
           "2021-12-04",
           "The Sentinel > The Sentinel - West Face",
           100,
           3.8
          ],
          [
           "Run For Your Life",
           "2021-12-04",
           "Real Hidden Valley > Tumbling Rainbow Formation",
           90,
           3.7
          ],
          [
           "Broken Glass",
           "2021-01-31",
           "Real Hidden Valley > Gateway Rock",
           60,
           2.4
          ],
          [
           "Bird On A Wire",
           "2021-01-30",
           "Lost Horse Wall > Lost Horse Wall - Right Side",
           330,
           3.3
          ],
          [
           "Fisticuffs",
           "2019-11-16",
           "Real Hidden Valley > Tumbling Rainbow Formation",
           30,
           2.9
          ],
          [
           "The Fox",
           "2021-04-11",
           "01-Calico Basin > The Fox Area",
           150,
           3.9
          ],
          [
           "The Gobbler",
           "2022-03-11",
           "16-Black Velvet Canyon > Black Velvet Wall",
           200,
           3.2
          ],
          [
           "Mushroom People",
           "2021-01-15",
           "10-Pine Creek Canyon > Brass Wall",
           100,
           3.4
          ],
          [
           "Triassic Sands",
           "2020-02-07",
           "Whiskey Peak > North Face",
           700,
           3.8
          ],
          [
           "Sour Mash",
           "2021-11-05",
           "16-Black Velvet Canyon > Black Velvet Wall",
           600,
           3.6
          ],
          [
           "Unimpeachable Groping",
           "2021-04-09",
           "11-Juniper Canyon > Ginger Buttress",
           760,
           3.5
          ],
          [
           "Atman",
           "2020-10-17",
           "Kraft Mountain Area > Yin And Yang Cliff",
           40,
           3.1
          ],
          [
           "Rebel Without A Pause",
           "2021-11-07",
           "Upper Level > Upper Level - Right",
           50,
           3
          ],
          [
           "Dancin' With A God",
           "2021-11-07",
           "Upper Level > Upper Level - Left",
           50,
           2.6
          ],
          [
           "Slot Machine",
           "2021-11-06",
           "Mescalito > Dark Shadows Wall",
           null,
           3.3
          ],
          [
           "Sand Felipe",
           "2020-10-16",
           "Whiskey Peak > North Face",
           110,
           2.6
          ],
          [
           "Risky Business",
           "2021-11-06",
           "Mescalito > Dark Shadows Wall",
           400,
           3.8
          ],
          [
           "Small Purchase",
           "2022-03-12",
           "Magic Mountain > North Face",
           100,
           3.4
          ],
          [
           "Kemosabe",
           "2019-04-22",
           "07-Willow Spring > Ragged Edges Area",
           100,
           2.6
          ],
          [
           "Vagabonds",
           "2020-10-18",
           "Lower Level > Lower Level - Left",
           70,
           2.7
          ],
          [
           "The Walker Spur",
           "2022-03-12",
           "Mescalito > East Face",
           550,
           3.3
          ],
          [
           "Glitter Gulch",
           "2021-02-28",
           "04-Second Pullout (Calico Ii) > Sweet Pain Wall",
           65,
           3.4
          ],
          [
           "T-crack",
           "2020-04-24",
           "Gibraltar Area > Gibraltar Rock",
           60,
           3.7
          ],
          [
           "The Gibbon",
           "2020-05-10",
           "Gibraltar Area > Upper Gibraltar",
           100,
           2.5
          ],
          [
           "Great Race",
           "2021-08-29",
           "Santa Barbara > San Ysidro",
           70,
           3
          ],
          [
           "On The Up And Up",
           "2021-10-16",
           "Indian Creek > Technicolor Wall",
           70,
           3.2
          ],
          [
           "Whale's Back",
           "2021-10-16",
           "Indian Creek > Technicolor Wall",
           120,
           3.7
          ],
          [
           "Jensen's Jugs",
           "2020-09-14",
           "Santa Barbara > Fire Crags",
           50,
           2.4
          ],
          [
           "Blush",
           "2022-06-18",
           "Hwy 33/Ojai > Wheeler Gorge",
           60,
           2.8
          ],
          [
           "Economique",
           "2022-06-18",
           "Hwy 33/Ojai > Wheeler Gorge",
           80,
           3.1
          ],
          [
           "Stuart's Rig (aka Stu Boy)",
           "2020-12-05",
           "Hwy 33/Ojai > Wheeler Gorge",
           75,
           2.7
          ],
          [
           "Careful, There's A Beverage Here!",
           "2020-06-21",
           "The Playground > Little Lebowski Urban Achievers Crag",
           50,
           2.2
          ],
          [
           "Tofu Crack",
           "2019-05-13",
           "Indian Creek > 2Nd Meat Wall",
           115,
           3.3
          ],
          [
           "Miss Conception",
           "2020-10-16",
           "Whiskey Peak > North Face",
           200,
           2.8
          ],
          [
           "Hayutake",
           "2020-11-21",
           "Indian Creek > The Optimator",
           120,
           3.2
          ],
          [
           "Crack 6",
           "2019-11-15",
           "Isles Corridor > Isles Corridor - Left Side",
           50,
           2.9
          ],
          [
           "Third Pillar, Regular Route",
           "2021-06-04",
           "Lee Vining Canyon / Tioga Road > Dana Plateau",
           800,
           3.8
          ],
          [
           "Caustic Cock",
           "2022-03-13",
           "01-Calico Basin > Cannibal Crag",
           40,
           3.4
          ],
          [
           "B-line",
           "2021-02-06",
           "Echo Cliffs > Left Flank",
           90,
           2.3
          ],
          [
           "Idiot Parade (aka Need To Rest)",
           "2020-10-18",
           "Lower Level > Lower Level - Right",
           50,
           2.9
          ],
          [
           "Desire",
           "2022-10-15",
           "Indian Creek > Way Rambo",
           95,
           2.8
          ],
          [
           "Pigs In Space",
           "2020-11-22",
           "Indian Creek > Battle Of The Bulge Buttress",
           120,
           2.9
          ],
          [
           "Espresso",
           "2021-02-10",
           "Echo Cliffs > Java Wall",
           90,
           3.2
          ],
          [
           "Airy Interlude",
           "2020-06-13",
           "The Needles > The Witch",
           null,
           3.9
          ],
          [
           "Casey At The Bat",
           "2021-03-27",
           "Echo Cliffs > Easy Street",
           100,
           3
          ],
          [
           "Americano",
           "2021-09-03",
           "Echo Cliffs > Java Wall",
           100,
           3
          ],
          [
           "Too Proud To Ignore",
           "2021-03-21",
           "Upper Gorge > Dihedrals",
           40,
           2.6
          ],
          [
           "Flying Circus",
           "2019-08-14",
           "The Smoke Bluffs > Neat And Cool",
           100,
           3.6
          ],
          [
           "Moubit",
           "2019-11-09",
           "Isles Corridor > Isles Corridor - Right Side",
           60,
           2.3
          ],
          [
           "Serenity Crack",
           "2022-04-09",
           "Royal Arches > Western Royal Arches",
           350,
           3.8
          ],
          [
           "Sons Of Yesterday",
           "2022-04-09",
           "Royal Arches > Western Royal Arches",
           600,
           3.9
          ],
          [
           "V8 Crack",
           "2021-08-20",
           "Bishop Area > Cardinal Pinnacle",
           80,
           3.9
          ],
          [
           "Cucumbers",
           "2020-07-17",
           "Bishop Area > Cardinal Pinnacle",
           350,
           3.2
          ],
          [
           "Salathe (pitch 1)",
           "2021-09-16",
           "Southwest Base > Moby Dick And Pterodactyl Terrace",
           160,
           3.8
          ],
          [
           "Beverly's Tower",
           "2022-05-13",
           "Aj. Cookie Area > The Cookie Cliff",
           100,
           2.7
          ],
          [
           "The Mayes",
           "2022-10-17",
           "Indian Creek > Battle Of The Bulge Buttress",
           50,
           2.4
          ],
          [
           "Mctech Arete",
           "2019-08-27",
           "Bugaboos > Crescent Spire",
           500,
           3.8
          ],
          [
           "Outer Limits",
           "2022-05-13",
           "Aj. Cookie Area > The Cookie Cliff",
           190,
           3.8
          ],
          [
           "Hardly Wallbanger",
           "2021-03-14",
           "Central Gorge > Pub Wall",
           90,
           3.6
          ],
          [
           "Roofing Company",
           "2021-01-30",
           "Little Hunk - Sw Face > Sw Face Right (Monkey Business Wall)",
           50,
           2.2
          ],
          [
           "Go Sparky Go",
           "2021-10-17",
           "Indian Creek > Sparks Wall",
           70,
           3.4
          ],
          [
           "Divide And Conquer",
           "2021-10-17",
           "Indian Creek > Sparks Wall",
           100,
           3.1
          ],
          [
           "Johnny Can't Lead",
           "2022-02-05",
           "Malibu Creek State Park > Ghetto Wall",
           40,
           3.2
          ],
          [
           "Kathmandu",
           "2020-07-11",
           "Malibu Creek State Park > Ghetto Wall",
           35,
           2.6
          ],
          [
           "Gorgeous",
           "2020-09-26",
           "Malibu Creek State Park > Mt. Gorgeous",
           60,
           2.7
          ],
          [
           "Family Jewel",
           "2020-12-12",
           "Malibu Creek State Park > Mt. Gorgeous",
           50,
           2.9
          ],
          [
           "Mr. Big",
           "2021-05-02",
           "Malibu Creek State Park > Stumbling Blocks",
           35,
           3.1
          ],
          [
           "X Files",
           "2021-05-02",
           "Malibu Creek State Park > Stumbling Blocks",
           30,
           2.1
          ],
          [
           "Rites Of Spring",
           "2022-07-22",
           "Scheelite Canyon / Pratt'S Crack Gully > Armando'S Stilletto / Rites Of Spring",
           400,
           3.5
          ],
          [
           "First Born",
           "2021-01-17",
           "Wake Up Wall Area > The Wake-Up Wall",
           65,
           1.9
          ],
          [
           "Rock On",
           "2019-08-18",
           "Stawamus Chief > The Apron",
           400,
           3.6
          ],
          [
           "Cromagnon",
           "2021-07-22",
           "Dike Wall > East Face",
           80,
           3.7
          ],
          [
           "Black Dihedral",
           "2021-07-20",
           "Dike Wall > East Face",
           70,
           3.4
          ],
          [
           "D.d.d.",
           "2022-07-06",
           "Horseshoe Piles > Spring Wall",
           90,
           3.6
          ],
          [
           "Grim Reality",
           "2021-07-22",
           "Dike Wall > East Face",
           90,
           2.2
          ],
          [
           "Black Lassie",
           "2021-07-22",
           "Dike Wall > East Face",
           80,
           3.4
          ],
          [
           "Mongoloid",
           "2021-07-22",
           "Dike Wall > North Face",
           60,
           2.3
          ],
          [
           "Fall Harvest",
           "2022-07-05",
           "Horseshoe Piles > Spring Wall",
           50,
           2.7
          ],
          [
           "Little Sheba",
           "2021-07-23",
           "Lamb Dome > West Face Of The Lamb",
           110,
           3.3
          ],
          [
           "The Paw",
           "2021-01-30",
           "Little Hunk - Sw Face > Sw Face Right (Monkey Business Wall)",
           35,
           2
          ],
          [
           "Holey Moley",
           "2019-01-19",
           "Raven Rocks > Raven Rocks North Face \"Power Block\" Area",
           90,
           3
          ],
          [
           "Skeezer Pleaser",
           "2022-02-05",
           "Malibu Creek State Park > Ghetto Wall",
           45,
           2.8
          ],
          [
           "Crying Time Again",
           "2020-08-28",
           "Lembert Dome > Northwest Face",
           400,
           3.5
          ],
          [
           "Face The Seam",
           "2020-10-12",
           "Santa Barbara > Fire Crags",
           35,
           2
          ],
          [
           "Guerilla Drilla",
           "2022-01-23",
           "Malibu Creek State Park > Stumbling Blocks",
           null,
           2.4
          ],
          [
           "The Third Degree",
           "2022-01-23",
           "Malibu Creek State Park > Stumbling Blocks",
           null,
           2.4
          ],
          [
           "Directpissima",
           "2022-11-05",
           "Malibu Creek State Park > Ghetto Wall",
           50,
           2.4
          ],
          [
           "Blue Sky Mining",
           "2022-10-20",
           "Indian Creek > Broken Tooth",
           50,
           2.4
          ],
          [
           "West Face",
           "2020-07-17",
           "Bishop Area > Cardinal Pinnacle",
           550,
           3.8
          ],
          [
           "Dark Star",
           "2021-08-21",
           "09 - Palisades & Surrounding Peaks > Temple Crag",
           2000,
           3.4
          ],
          [
           "Have A Beer With Fear",
           "2022-03-13",
           "01-Calico Basin > Cannibal Crag",
           60,
           2.7
          ],
          [
           "What's Eating You",
           "2022-03-13",
           "01-Calico Basin > Cannibal Crag",
           60,
           2.2
          ],
          [
           "Werner's Ant Trees",
           "2022-05-29",
           "Five Open Books > First Tier",
           75,
           3.1
          ],
          [
           "Raised On Robbery",
           "2019-09-05",
           "Lower Blair I, Ii, Iii, And Vicinity > Lower Blair I",
           70,
           3.5
          ],
          [
           "Direct Northwest Face",
           "2021-06-05",
           "Lembert Dome > Northwest Face",
           400,
           3.4
          ],
          [
           "Slackjaw",
           "2021-03-21",
           "Upper Gorge > Dihedrals",
           80,
           2.8
          ],
          [
           "Seasoned In The Sun",
           "2019-08-20",
           "Stawamus Chief > Grand Wall Base Area",
           95,
           3.6
          ],
          [
           "Big Guy",
           "2022-11-25",
           "Indian Creek > Scarface",
           120,
           3.9
          ],
          [
           "But I Don't Drink Scotch",
           "2020-08-15",
           "Crystal Crag > Highlands Wall",
           100,
           2.7
          ],
          [
           "Mic's Master",
           "2021-01-17",
           "Wake Up Wall Area > The Wake-Up Wall",
           55,
           2.7
          ],
          [
           "Spanky Spangler",
           "2021-01-17",
           "Wake Up Wall Area > The Wake-Up Wall",
           65,
           2.7
          ],
          [
           "Reallyfivenineplus",
           "2022-07-06",
           "Horseshoe Piles > Spring Wall",
           80,
           3.1
          ],
          [
           "Springbank",
           "2020-08-15",
           "Crystal Crag > Highlands Wall",
           90,
           3.6
          ],
          [
           "Makunaima",
           "2022-10-08",
           "Cold Springs Dome > Makunaima Amphitheater",
           90,
           3.9
          ],
          [
           "The Surprise",
           "2022-05-29",
           "Five Open Books > First Tier",
           400,
           3.1
          ],
          [
           "Urban Struggle",
           "2022-11-05",
           "Malibu Creek State Park > Ghetto Wall",
           50,
           3.4
          ],
          [
           "Power Grid",
           "2018-10-21",
           "Century Lake Area > The Power Wall",
           60,
           2.6
          ],
          [
           "Power Station",
           "2018-10-21",
           "Century Lake Area > The Power Wall",
           50,
           2.9
          ],
          [
           "Tut",
           "2018-10-21",
           "Century Lake Area > Little Cheops",
           40,
           2
          ],
          [
           "Arrowroot",
           "2019-08-20",
           "Stawamus Chief > Grand Wall Base Area",
           115,
           3.5
          ],
          [
           "Bittersweet",
           "2021-10-30",
           "Echo Cliffs > Chocolate Wall",
           null,
           2.6
          ],
          [
           "Pirates On Horseback",
           "2021-02-13",
           "Alabama Hills North > The Shark'S Fin",
           50,
           2.5
          ],
          [
           "Cleaning Lady",
           "2018-09-17",
           "Hwy 33/Ojai > Potrero John",
           80,
           2.8
          ],
          [
           "Delicious",
           "2020-12-12",
           "Malibu Creek State Park > Mt. Gorgeous",
           85,
           3
          ],
          [
           "South Face Angling Crack?",
           "2022-11-24",
           "Indian Creek > South Sixshooter",
           90,
           3
          ],
          [
           "Ditch 'em",
           "2020-11-21",
           "Indian Creek > The Optimator",
           50,
           2.6
          ],
          [
           "Freebird",
           "2020-11-20",
           "Indian Creek > The Wall",
           60,
           3.1
          ],
          [
           "Nirvana",
           "2021-03-14",
           "Central Gorge > Upper Crust",
           70,
           2.3
          ],
          [
           "Life During Wartime",
           "2021-03-21",
           "Upper Gorge > Dihedrals",
           80,
           2.8
          ],
          [
           "Where's Carruthers?",
           "2021-10-18",
           "Indian Creek > Scarface",
           60,
           2.7
          ],
          [
           "Spark Plug",
           "2020-10-16",
           "16-Black Velvet Canyon > Black Velvet Wall",
           100,
           3
          ],
          [
           "Luscious",
           "2022-01-23",
           "Malibu Creek State Park > Mt. Gorgeous",
           60,
           3.1
          ],
          [
           "Rattletale",
           "2019-08-01",
           "Lookout Point Area > Rattletale Wall",
           null,
           3.8
          ],
          [
           "Ernie Used To Box",
           "2021-10-20",
           "Indian Creek > Reservoir Wall",
           100,
           3.8
          ],
          [
           "Pocket Rocket",
           "2019-05-09",
           "Day Canyon > Day Canyon Cragging Routes",
           65,
           3.5
          ],
          [
           "Run Like Hell",
           "2020-11-20",
           "Indian Creek > The Wall",
           70,
           3.5
          ],
          [
           "Handbone",
           "2022-03-11",
           "16-Black Velvet Canyon > The Monument",
           70,
           3.3
          ],
          [
           "Crack Kingdom",
           "2021-08-20",
           "Bishop Area > Cardinal Pinnacle",
           550,
           3.5
          ],
          [
           "The Ultimate Everything",
           "2019-08-18",
           "Stawamus Chief > Echelon Wall",
           1300,
           2.9
          ],
          [
           "English Breakfast Tea",
           "2021-03-27",
           "Echo Cliffs > The Tea Room",
           80,
           2.5
          ],
          [
           "Kelley Route 1",
           "2019-05-04",
           "Indian Creek > Cliffs Of Insanity",
           130,
           3.6
          ],
          [
           "Iocane Powder",
           "2020-11-18",
           "Indian Creek > Cliffs Of Insanity",
           35,
           2.5
          ],
          [
           "Dread Pirate Roberts",
           "2019-05-04",
           "Indian Creek > Cliffs Of Insanity",
           60,
           3.1
          ],
          [
           "Princess Buttercup",
           "2020-11-18",
           "Indian Creek > Cliffs Of Insanity",
           70,
           3
          ],
          [
           "Irish Car Bomb",
           "2021-03-27",
           "Echo Cliffs > The Tea Room",
           80,
           2.6
          ],
          [
           "Tea Bag",
           "2021-03-27",
           "Echo Cliffs > The Tea Room",
           85,
           3
          ],
          [
           "The Guillotine",
           "2019-11-02",
           "Echo Cliffs > The Alcove",
           90,
           3.4
          ],
          [
           "Chimps Ahoy",
           "2022-04-16",
           "Malibu Creek State Park > Stumbling Blocks",
           80,
           2.5
          ],
          [
           "Cut The Cord",
           "2020-07-11",
           "Malibu Creek State Park > Ghetto Wall",
           30,
           2.1
          ],
          [
           "Darjeeling Extra Fancy",
           "2021-03-27",
           "Echo Cliffs > The Tea Room",
           85,
           2.6
          ],
          [
           "He She",
           "2022-07-02",
           "Rock Creek > Gong Show Wall",
           130,
           3.6
          ],
          [
           "Sideshow",
           "2022-07-02",
           "Rock Creek > Gong Show Wall",
           100,
           3.4
          ],
          [
           "Gridlock",
           "2020-08-09",
           "Hwy 33/Ojai > Wheeler Gorge",
           65,
           2.6
          ],
          [
           "Three Fools Aka Kelley Route 32",
           "2022-10-21",
           "Indian Creek > Reservoir Wall",
           60,
           2.5
          ],
          [
           "Cockblock",
           "2022-02-05",
           "Malibu Creek State Park > Stumbling Blocks",
           40,
           2.5
          ],
          [
           "Kung Fu Fighter",
           "2021-05-13",
           "Mount Carmel Tunnel > Kung Fu Theater",
           450,
           3.6
          ],
          [
           "Rain Dance",
           "2022-01-15",
           "Whiskey Peak > North Face",
           130,
           2.8
          ],
          [
           "Fall Of Vegas",
           "2021-01-17",
           "Wake Up Wall Area > The Wake-Up Wall",
           50,
           2.3
          ],
          [
           "The Last Drag",
           "2021-01-17",
           "Wake Up Wall Area > The Wake-Up Wall",
           50,
           2.4
          ],
          [
           "Dirty Woman",
           "2020-11-20",
           "Indian Creek > The Wall",
           35,
           2.1
          ],
          [
           "Bring Out Your Dead",
           "2021-02-20",
           "Santa Barbara > Renaissance Crag",
           40,
           2.2
          ],
          [
           "Jupiter Crack",
           "2021-10-17",
           "Indian Creek > Sparks Wall",
           130,
           3.9
          ],
          [
           "Owl Crack",
           "2020-11-14",
           "Indian Creek > Donnelly Canyon",
           80,
           3.1
          ],
          [
           "Coronary Bypass",
           "2019-08-19",
           "The Smoke Bluffs > Respiration Rock",
           40,
           2.8
          ],
          [
           "Boognish Tower",
           "2022-10-14",
           "Day Canyon > Boognish Tower",
           120,
           3.4
          ],
          [
           "Hungry, Hungry Hippos",
           "2019-08-16",
           "Murrin Park > Commonwealth",
           65,
           2.4
          ],
          [
           "Faithful Friend",
           "2021-06-03",
           "Horseshoe Lake Area > Sunshine Wall",
           100,
           2.4
          ],
          [
           "Unnamed 38 - Wide To Fists And Kind Of Wavy",
           "2021-10-20",
           "Indian Creek > Reservoir Wall",
           65,
           2.8
          ],
          [
           "Crimson Gem",
           "2022-07-08",
           "02 - The Sawtooth Ridge > The Juggernaut",
           750,
           3.6
          ],
          [
           "The Dihedral Route",
           "2022-07-09",
           "02 - The Sawtooth Ridge > The Juggernaut",
           750,
           3.3
          ],
          [
           "Edgehog",
           "2021-06-03",
           "Horseshoe Lake Area > Sunshine Wall",
           100,
           2.4
          ],
          [
           "Divine Comedy",
           "2018-12-16",
           "03-First Pullout (Calico I) > Dante'S Wall",
           65,
           3.3
          ],
          [
           "Celestial Spheres",
           "2018-12-16",
           "03-First Pullout (Calico I) > Dante'S Wall",
           65,
           2.6
          ],
          [
           "The Right Road Lost",
           "2018-12-16",
           "03-First Pullout (Calico I) > Dante'S Wall",
           50,
           2.6
          ],
          [
           "Miss Apprehension",
           "2020-09-06",
           "Olmsted Area > Olmsted Canyon Right",
           55,
           2
          ],
          [
           "The Consolation Direct",
           "2022-10-01",
           "Tahquitz Rock > (D) Northwest Recess",
           800,
           3.3
          ],
          [
           "Neat And Cool Offwidth",
           "2019-08-14",
           "The Smoke Bluffs > Neat And Cool",
           70,
           2.4
          ],
          [
           "Spinal Fracture",
           "2021-03-09",
           "Central Gorge > Social Platform",
           null,
           3.2
          ],
          [
           "Getaway",
           "2019-01-19",
           "Box Canyon East > The Getaway",
           65,
           3.3
          ],
          [
           "Chasin' Skirt",
           "2022-11-19",
           "Long Canyon > Deadman'S Buttress",
           150,
           3.3
          ],
          [
           "Sick Boy",
           "2020-08-09",
           "Hwy 33/Ojai > Wheeler Gorge",
           55,
           3
          ],
          [
           "Pop-sickle",
           "2019-08-16",
           "Murrin Park > Commonwealth",
           80,
           2
          ],
          [
           "No Man Knows The Hour",
           "2022-05-07",
           "Lower Mission Canyon / Seven Falls > Upper Theology Crag",
           110,
           2.8
          ],
          [
           "Purple Rain",
           "2021-10-16",
           "Indian Creek > Technicolor Wall",
           70,
           2.7
          ],
          [
           "Twice Stung And Forever Shy",
           "2018-10-25",
           "Invisible Wall > Bug Wall",
           null,
           2.9
          ],
          [
           "Caution: Falling Snakes",
           "2019-10-06",
           "Invisible Wall > Lower Main Wall",
           null,
           3
          ],
          [
           "Ches Game",
           "2018-10-25",
           "Invisible Wall > Lower Main Wall",
           null,
           2.3
          ],
          [
           "Unnamed Offwidth",
           "2022-11-24",
           "Indian Creek > South Sixshooter",
           70,
           3
          ],
          [
           "Dick Pics",
           "2022-02-05",
           "Malibu Creek State Park > Mt. Gorgeous",
           50,
           2.6
          ],
          [
           "Unnamed",
           "2022-11-05",
           "Malibu Creek State Park > Ghetto Wall",
           45,
           2.4
          ],
          [
           "Bone Saw",
           "2022-03-11",
           "16-Black Velvet Canyon > The Monument",
           55,
           2.5
          ],
          [
           "Anasazi",
           "2022-07-17",
           "Cold Springs Dome > Makunaima Amphitheater",
           50,
           3
          ],
          [
           "Baby Scorpions",
           "2022-07-17",
           "Cold Springs Dome > Makunaima Amphitheater",
           70,
           2.6
          ],
          [
           "Daximus",
           "2022-08-20",
           "Cold Springs Dome > Makunaima Amphitheater",
           90,
           3.4
          ]
         ],
         "hovertemplate": "Name: %{customdata[0]}<br>Date: %{customdata[1]}<br>Location: %{customdata[2]}<br>Length: %{customdata[3]}ft<br>Avg Stars: %{customdata[4]}",
         "legendgroup": "",
         "marker": {
          "color": "#7A4F25",
          "line": {
           "color": "black",
           "width": 2
          },
          "size": 12,
          "symbol": "square"
         },
         "mode": "markers",
         "name": "",
         "orientation": "v",
         "showlegend": false,
         "type": "scatter",
         "x": [
          "2019-05-02T00:00:00",
          "2022-10-17T00:00:00",
          "2019-05-03T00:00:00",
          "2019-05-03T00:00:00",
          "2019-05-12T00:00:00",
          "2021-10-21T00:00:00",
          "2022-10-17T00:00:00",
          "2021-10-21T00:00:00",
          "2019-05-01T00:00:00",
          "2019-05-11T00:00:00",
          "2019-05-11T00:00:00",
          "2022-11-20T00:00:00",
          "2020-11-14T00:00:00",
          "2021-10-21T00:00:00",
          "2020-11-19T00:00:00",
          "2021-10-18T00:00:00",
          "2022-10-20T00:00:00",
          "2022-10-20T00:00:00",
          "2022-10-14T00:00:00",
          "2021-05-13T00:00:00",
          "2020-11-15T00:00:00",
          "2022-11-19T00:00:00",
          "2022-11-19T00:00:00",
          "2020-11-21T00:00:00",
          "2021-10-20T00:00:00",
          "2020-11-21T00:00:00",
          "2022-10-15T00:00:00",
          "2020-11-21T00:00:00",
          "2019-11-15T00:00:00",
          "2019-11-16T00:00:00",
          "2021-12-04T00:00:00",
          "2021-12-04T00:00:00",
          "2021-01-31T00:00:00",
          "2021-01-30T00:00:00",
          "2019-11-16T00:00:00",
          "2021-04-11T00:00:00",
          "2022-03-11T00:00:00",
          "2021-01-15T00:00:00",
          "2020-02-07T00:00:00",
          "2021-11-05T00:00:00",
          "2021-04-09T00:00:00",
          "2020-10-17T00:00:00",
          "2021-11-07T00:00:00",
          "2021-11-07T00:00:00",
          "2021-11-06T00:00:00",
          "2020-10-16T00:00:00",
          "2021-11-06T00:00:00",
          "2022-03-12T00:00:00",
          "2019-04-22T00:00:00",
          "2020-10-18T00:00:00",
          "2022-03-12T00:00:00",
          "2021-02-28T00:00:00",
          "2020-04-24T00:00:00",
          "2020-05-10T00:00:00",
          "2021-08-29T00:00:00",
          "2021-10-16T00:00:00",
          "2021-10-16T00:00:00",
          "2020-09-14T00:00:00",
          "2022-06-18T00:00:00",
          "2022-06-18T00:00:00",
          "2020-12-05T00:00:00",
          "2020-06-21T00:00:00",
          "2019-05-13T00:00:00",
          "2020-10-16T00:00:00",
          "2020-11-21T00:00:00",
          "2019-11-15T00:00:00",
          "2021-06-04T00:00:00",
          "2022-03-13T00:00:00",
          "2021-02-06T00:00:00",
          "2020-10-18T00:00:00",
          "2022-10-15T00:00:00",
          "2020-11-22T00:00:00",
          "2021-02-10T00:00:00",
          "2020-06-13T00:00:00",
          "2021-03-27T00:00:00",
          "2021-09-03T00:00:00",
          "2021-03-21T00:00:00",
          "2019-08-14T00:00:00",
          "2019-11-09T00:00:00",
          "2022-04-09T00:00:00",
          "2022-04-09T00:00:00",
          "2021-08-20T00:00:00",
          "2020-07-17T00:00:00",
          "2021-09-16T00:00:00",
          "2022-05-13T00:00:00",
          "2022-10-17T00:00:00",
          "2019-08-27T00:00:00",
          "2022-05-13T00:00:00",
          "2021-03-14T00:00:00",
          "2021-01-30T00:00:00",
          "2021-10-17T00:00:00",
          "2021-10-17T00:00:00",
          "2022-02-05T00:00:00",
          "2020-07-11T00:00:00",
          "2020-09-26T00:00:00",
          "2020-12-12T00:00:00",
          "2021-05-02T00:00:00",
          "2021-05-02T00:00:00",
          "2022-07-22T00:00:00",
          "2021-01-17T00:00:00",
          "2019-08-18T00:00:00",
          "2021-07-22T00:00:00",
          "2021-07-20T00:00:00",
          "2022-07-06T00:00:00",
          "2021-07-22T00:00:00",
          "2021-07-22T00:00:00",
          "2021-07-22T00:00:00",
          "2022-07-05T00:00:00",
          "2021-07-23T00:00:00",
          "2021-01-30T00:00:00",
          "2019-01-19T00:00:00",
          "2022-02-05T00:00:00",
          "2020-08-28T00:00:00",
          "2020-10-12T00:00:00",
          "2022-01-23T00:00:00",
          "2022-01-23T00:00:00",
          "2022-11-05T00:00:00",
          "2022-10-20T00:00:00",
          "2020-07-17T00:00:00",
          "2021-08-21T00:00:00",
          "2022-03-13T00:00:00",
          "2022-03-13T00:00:00",
          "2022-05-29T00:00:00",
          "2019-09-05T00:00:00",
          "2021-06-05T00:00:00",
          "2021-03-21T00:00:00",
          "2019-08-20T00:00:00",
          "2022-11-25T00:00:00",
          "2020-08-15T00:00:00",
          "2021-01-17T00:00:00",
          "2021-01-17T00:00:00",
          "2022-07-06T00:00:00",
          "2020-08-15T00:00:00",
          "2022-10-08T00:00:00",
          "2022-05-29T00:00:00",
          "2022-11-05T00:00:00",
          "2018-10-21T00:00:00",
          "2018-10-21T00:00:00",
          "2018-10-21T00:00:00",
          "2019-08-20T00:00:00",
          "2021-10-30T00:00:00",
          "2021-02-13T00:00:00",
          "2018-09-17T00:00:00",
          "2020-12-12T00:00:00",
          "2022-11-24T00:00:00",
          "2020-11-21T00:00:00",
          "2020-11-20T00:00:00",
          "2021-03-14T00:00:00",
          "2021-03-21T00:00:00",
          "2021-10-18T00:00:00",
          "2020-10-16T00:00:00",
          "2022-01-23T00:00:00",
          "2019-08-01T00:00:00",
          "2021-10-20T00:00:00",
          "2019-05-09T00:00:00",
          "2020-11-20T00:00:00",
          "2022-03-11T00:00:00",
          "2021-08-20T00:00:00",
          "2019-08-18T00:00:00",
          "2021-03-27T00:00:00",
          "2019-05-04T00:00:00",
          "2020-11-18T00:00:00",
          "2019-05-04T00:00:00",
          "2020-11-18T00:00:00",
          "2021-03-27T00:00:00",
          "2021-03-27T00:00:00",
          "2019-11-02T00:00:00",
          "2022-04-16T00:00:00",
          "2020-07-11T00:00:00",
          "2021-03-27T00:00:00",
          "2022-07-02T00:00:00",
          "2022-07-02T00:00:00",
          "2020-08-09T00:00:00",
          "2022-10-21T00:00:00",
          "2022-02-05T00:00:00",
          "2021-05-13T00:00:00",
          "2022-01-15T00:00:00",
          "2021-01-17T00:00:00",
          "2021-01-17T00:00:00",
          "2020-11-20T00:00:00",
          "2021-02-20T00:00:00",
          "2021-10-17T00:00:00",
          "2020-11-14T00:00:00",
          "2019-08-19T00:00:00",
          "2022-10-14T00:00:00",
          "2019-08-16T00:00:00",
          "2021-06-03T00:00:00",
          "2021-10-20T00:00:00",
          "2022-07-08T00:00:00",
          "2022-07-09T00:00:00",
          "2021-06-03T00:00:00",
          "2018-12-16T00:00:00",
          "2018-12-16T00:00:00",
          "2018-12-16T00:00:00",
          "2020-09-06T00:00:00",
          "2022-10-01T00:00:00",
          "2019-08-14T00:00:00",
          "2021-03-09T00:00:00",
          "2019-01-19T00:00:00",
          "2022-11-19T00:00:00",
          "2020-08-09T00:00:00",
          "2019-08-16T00:00:00",
          "2022-05-07T00:00:00",
          "2021-10-16T00:00:00",
          "2018-10-25T00:00:00",
          "2019-10-06T00:00:00",
          "2018-10-25T00:00:00",
          "2022-11-24T00:00:00",
          "2022-02-05T00:00:00",
          "2022-11-05T00:00:00",
          "2022-03-11T00:00:00",
          "2022-07-17T00:00:00",
          "2022-07-17T00:00:00",
          "2022-08-20T00:00:00"
         ],
         "xaxis": "x",
         "y": [
          "5.10b",
          "5.11a",
          "5.10b",
          "5.10c",
          "5.10c",
          "5.10c",
          "5.11a",
          "5.10b",
          "5.10b",
          "5.10b",
          "5.10b",
          "5.10c",
          "5.10b",
          "5.10d",
          "5.10b",
          "5.10b",
          "5.11b",
          "5.11b",
          "5.10c",
          "5.10b",
          "5.10b",
          "5.10c",
          "5.10c",
          "5.10b",
          "5.10b",
          "5.10a",
          "5.10b",
          "5.10c",
          "5.10a",
          "5.10a",
          "5.10b",
          "5.10b",
          "5.10a",
          "5.10a",
          "5.10b",
          "5.10c",
          "5.10b",
          "5.10c",
          "5.10c",
          "5.10a",
          "5.10b",
          "5.10a",
          "5.11a",
          "5.10a",
          "5.10c",
          "5.10a",
          "5.10c",
          "5.10a",
          "5.10a",
          "5.10a",
          "5.10b",
          "5.11a",
          "5.10c",
          "5.10b",
          "5.10a",
          "5.10c",
          "5.10d",
          "5.10b",
          "5.11a",
          "5.10a",
          "5.11a",
          "5.10a",
          "5.10b",
          "5.10b",
          "5.10c",
          "5.10a",
          "5.10b",
          "5.11b",
          "5.10a",
          "5.10c",
          "5.10b",
          "5.10c",
          "5.11a",
          "5.10a",
          "5.10b",
          "5.11a",
          "5.10b",
          "5.10a",
          "5.10a",
          "5.10d",
          "5.10b",
          "5.10c",
          "5.10b",
          "5.10c",
          "5.10a",
          "5.10c",
          "5.10a",
          "5.10c",
          "5.10c",
          "5.10a",
          "5.11c",
          "5.10d",
          "5.11a",
          "5.10a",
          "5.10a",
          "5.10c",
          "5.10d",
          "5.10c",
          "5.10d",
          "5.10b",
          "5.10a",
          "5.10a",
          "5.10b",
          "5.11a",
          "5.10b",
          "5.10d",
          "5.10b",
          "5.10b",
          "5.10a",
          "5.10b",
          "5.10a",
          "5.11b",
          "5.10a",
          "5.10a",
          "5.10a",
          "5.10b",
          "5.11a",
          "5.10c",
          "5.10a",
          "5.10c",
          "5.11b",
          "5.10a",
          "5.10c",
          "5.10b",
          "5.10b",
          "5.10b",
          "5.10b",
          "5.11a",
          "5.10a",
          "5.10b",
          "5.10b",
          "5.10c",
          "5.10a",
          "5.11c",
          "5.10a",
          "5.12a",
          "5.10a",
          "5.10b",
          "5.10a",
          "5.10b",
          "5.10c",
          "5.10b",
          "5.10b",
          "5.10d",
          "5.10b",
          "5.10b",
          "5.10b",
          "5.10a",
          "5.10a",
          "5.10c",
          "5.10b",
          "5.11b",
          "5.10b",
          "5.10d",
          "5.10c",
          "5.10c",
          "5.10b",
          "5.10c",
          "5.10b",
          "5.10a",
          "5.10c",
          "5.10a",
          "5.10c",
          "5.10a",
          "5.10c",
          "5.10b",
          "5.10b",
          "5.10a",
          "5.10b",
          "5.10c",
          "5.10b",
          "5.10a",
          "5.10a",
          "5.10c",
          "5.10d",
          "5.11b",
          "5.10a",
          "5.10a",
          "5.10a",
          "5.10c",
          "5.10a",
          "5.11c",
          "5.10c",
          "5.10a",
          "5.10b",
          "5.10a",
          "5.10b",
          "5.10c",
          "5.10b",
          "5.10b",
          "5.10a",
          "5.10a",
          "5.10b",
          "5.10a",
          "5.10a",
          "5.10a",
          "5.10b",
          "5.11a",
          "5.10a",
          "5.10d",
          "5.10b",
          "5.10d",
          "5.10d",
          "5.10b",
          "5.10a",
          "5.10b",
          "5.10c",
          "5.10c",
          "5.10b",
          "5.10d",
          "5.10a",
          "5.10c",
          "5.10c",
          "5.10a"
         ],
         "yaxis": "y"
        }
       ],
       "layout": {
        "bargap": 0,
        "font": {
         "color": "black",
         "family": "Courier New",
         "size": 20
        },
        "legend": {
         "tracegroupgap": 0
        },
        "margin": {
         "t": 60
        },
        "paper_bgcolor": "#ece5dc",
        "plot_bgcolor": "#F5D3A5",
        "template": {
         "data": {
          "bar": [
           {
            "error_x": {
             "color": "#2a3f5f"
            },
            "error_y": {
             "color": "#2a3f5f"
            },
            "marker": {
             "line": {
              "color": "#E5ECF6",
              "width": 0.5
             },
             "pattern": {
              "fillmode": "overlay",
              "size": 10,
              "solidity": 0.2
             }
            },
            "type": "bar"
           }
          ],
          "barpolar": [
           {
            "marker": {
             "line": {
              "color": "#E5ECF6",
              "width": 0.5
             },
             "pattern": {
              "fillmode": "overlay",
              "size": 10,
              "solidity": 0.2
             }
            },
            "type": "barpolar"
           }
          ],
          "carpet": [
           {
            "aaxis": {
             "endlinecolor": "#2a3f5f",
             "gridcolor": "white",
             "linecolor": "white",
             "minorgridcolor": "white",
             "startlinecolor": "#2a3f5f"
            },
            "baxis": {
             "endlinecolor": "#2a3f5f",
             "gridcolor": "white",
             "linecolor": "white",
             "minorgridcolor": "white",
             "startlinecolor": "#2a3f5f"
            },
            "type": "carpet"
           }
          ],
          "choropleth": [
           {
            "colorbar": {
             "outlinewidth": 0,
             "ticks": ""
            },
            "type": "choropleth"
           }
          ],
          "contour": [
           {
            "colorbar": {
             "outlinewidth": 0,
             "ticks": ""
            },
            "colorscale": [
             [
              0,
              "#0d0887"
             ],
             [
              0.1111111111111111,
              "#46039f"
             ],
             [
              0.2222222222222222,
              "#7201a8"
             ],
             [
              0.3333333333333333,
              "#9c179e"
             ],
             [
              0.4444444444444444,
              "#bd3786"
             ],
             [
              0.5555555555555556,
              "#d8576b"
             ],
             [
              0.6666666666666666,
              "#ed7953"
             ],
             [
              0.7777777777777778,
              "#fb9f3a"
             ],
             [
              0.8888888888888888,
              "#fdca26"
             ],
             [
              1,
              "#f0f921"
             ]
            ],
            "type": "contour"
           }
          ],
          "contourcarpet": [
           {
            "colorbar": {
             "outlinewidth": 0,
             "ticks": ""
            },
            "type": "contourcarpet"
           }
          ],
          "heatmap": [
           {
            "colorbar": {
             "outlinewidth": 0,
             "ticks": ""
            },
            "colorscale": [
             [
              0,
              "#0d0887"
             ],
             [
              0.1111111111111111,
              "#46039f"
             ],
             [
              0.2222222222222222,
              "#7201a8"
             ],
             [
              0.3333333333333333,
              "#9c179e"
             ],
             [
              0.4444444444444444,
              "#bd3786"
             ],
             [
              0.5555555555555556,
              "#d8576b"
             ],
             [
              0.6666666666666666,
              "#ed7953"
             ],
             [
              0.7777777777777778,
              "#fb9f3a"
             ],
             [
              0.8888888888888888,
              "#fdca26"
             ],
             [
              1,
              "#f0f921"
             ]
            ],
            "type": "heatmap"
           }
          ],
          "heatmapgl": [
           {
            "colorbar": {
             "outlinewidth": 0,
             "ticks": ""
            },
            "colorscale": [
             [
              0,
              "#0d0887"
             ],
             [
              0.1111111111111111,
              "#46039f"
             ],
             [
              0.2222222222222222,
              "#7201a8"
             ],
             [
              0.3333333333333333,
              "#9c179e"
             ],
             [
              0.4444444444444444,
              "#bd3786"
             ],
             [
              0.5555555555555556,
              "#d8576b"
             ],
             [
              0.6666666666666666,
              "#ed7953"
             ],
             [
              0.7777777777777778,
              "#fb9f3a"
             ],
             [
              0.8888888888888888,
              "#fdca26"
             ],
             [
              1,
              "#f0f921"
             ]
            ],
            "type": "heatmapgl"
           }
          ],
          "histogram": [
           {
            "marker": {
             "pattern": {
              "fillmode": "overlay",
              "size": 10,
              "solidity": 0.2
             }
            },
            "type": "histogram"
           }
          ],
          "histogram2d": [
           {
            "colorbar": {
             "outlinewidth": 0,
             "ticks": ""
            },
            "colorscale": [
             [
              0,
              "#0d0887"
             ],
             [
              0.1111111111111111,
              "#46039f"
             ],
             [
              0.2222222222222222,
              "#7201a8"
             ],
             [
              0.3333333333333333,
              "#9c179e"
             ],
             [
              0.4444444444444444,
              "#bd3786"
             ],
             [
              0.5555555555555556,
              "#d8576b"
             ],
             [
              0.6666666666666666,
              "#ed7953"
             ],
             [
              0.7777777777777778,
              "#fb9f3a"
             ],
             [
              0.8888888888888888,
              "#fdca26"
             ],
             [
              1,
              "#f0f921"
             ]
            ],
            "type": "histogram2d"
           }
          ],
          "histogram2dcontour": [
           {
            "colorbar": {
             "outlinewidth": 0,
             "ticks": ""
            },
            "colorscale": [
             [
              0,
              "#0d0887"
             ],
             [
              0.1111111111111111,
              "#46039f"
             ],
             [
              0.2222222222222222,
              "#7201a8"
             ],
             [
              0.3333333333333333,
              "#9c179e"
             ],
             [
              0.4444444444444444,
              "#bd3786"
             ],
             [
              0.5555555555555556,
              "#d8576b"
             ],
             [
              0.6666666666666666,
              "#ed7953"
             ],
             [
              0.7777777777777778,
              "#fb9f3a"
             ],
             [
              0.8888888888888888,
              "#fdca26"
             ],
             [
              1,
              "#f0f921"
             ]
            ],
            "type": "histogram2dcontour"
           }
          ],
          "mesh3d": [
           {
            "colorbar": {
             "outlinewidth": 0,
             "ticks": ""
            },
            "type": "mesh3d"
           }
          ],
          "parcoords": [
           {
            "line": {
             "colorbar": {
              "outlinewidth": 0,
              "ticks": ""
             }
            },
            "type": "parcoords"
           }
          ],
          "pie": [
           {
            "automargin": true,
            "type": "pie"
           }
          ],
          "scatter": [
           {
            "fillpattern": {
             "fillmode": "overlay",
             "size": 10,
             "solidity": 0.2
            },
            "type": "scatter"
           }
          ],
          "scatter3d": [
           {
            "line": {
             "colorbar": {
              "outlinewidth": 0,
              "ticks": ""
             }
            },
            "marker": {
             "colorbar": {
              "outlinewidth": 0,
              "ticks": ""
             }
            },
            "type": "scatter3d"
           }
          ],
          "scattercarpet": [
           {
            "marker": {
             "colorbar": {
              "outlinewidth": 0,
              "ticks": ""
             }
            },
            "type": "scattercarpet"
           }
          ],
          "scattergeo": [
           {
            "marker": {
             "colorbar": {
              "outlinewidth": 0,
              "ticks": ""
             }
            },
            "type": "scattergeo"
           }
          ],
          "scattergl": [
           {
            "marker": {
             "colorbar": {
              "outlinewidth": 0,
              "ticks": ""
             }
            },
            "type": "scattergl"
           }
          ],
          "scattermapbox": [
           {
            "marker": {
             "colorbar": {
              "outlinewidth": 0,
              "ticks": ""
             }
            },
            "type": "scattermapbox"
           }
          ],
          "scatterpolar": [
           {
            "marker": {
             "colorbar": {
              "outlinewidth": 0,
              "ticks": ""
             }
            },
            "type": "scatterpolar"
           }
          ],
          "scatterpolargl": [
           {
            "marker": {
             "colorbar": {
              "outlinewidth": 0,
              "ticks": ""
             }
            },
            "type": "scatterpolargl"
           }
          ],
          "scatterternary": [
           {
            "marker": {
             "colorbar": {
              "outlinewidth": 0,
              "ticks": ""
             }
            },
            "type": "scatterternary"
           }
          ],
          "surface": [
           {
            "colorbar": {
             "outlinewidth": 0,
             "ticks": ""
            },
            "colorscale": [
             [
              0,
              "#0d0887"
             ],
             [
              0.1111111111111111,
              "#46039f"
             ],
             [
              0.2222222222222222,
              "#7201a8"
             ],
             [
              0.3333333333333333,
              "#9c179e"
             ],
             [
              0.4444444444444444,
              "#bd3786"
             ],
             [
              0.5555555555555556,
              "#d8576b"
             ],
             [
              0.6666666666666666,
              "#ed7953"
             ],
             [
              0.7777777777777778,
              "#fb9f3a"
             ],
             [
              0.8888888888888888,
              "#fdca26"
             ],
             [
              1,
              "#f0f921"
             ]
            ],
            "type": "surface"
           }
          ],
          "table": [
           {
            "cells": {
             "fill": {
              "color": "#EBF0F8"
             },
             "line": {
              "color": "white"
             }
            },
            "header": {
             "fill": {
              "color": "#C8D4E3"
             },
             "line": {
              "color": "white"
             }
            },
            "type": "table"
           }
          ]
         },
         "layout": {
          "annotationdefaults": {
           "arrowcolor": "#2a3f5f",
           "arrowhead": 0,
           "arrowwidth": 1
          },
          "autotypenumbers": "strict",
          "coloraxis": {
           "colorbar": {
            "outlinewidth": 0,
            "ticks": ""
           }
          },
          "colorscale": {
           "diverging": [
            [
             0,
             "#8e0152"
            ],
            [
             0.1,
             "#c51b7d"
            ],
            [
             0.2,
             "#de77ae"
            ],
            [
             0.3,
             "#f1b6da"
            ],
            [
             0.4,
             "#fde0ef"
            ],
            [
             0.5,
             "#f7f7f7"
            ],
            [
             0.6,
             "#e6f5d0"
            ],
            [
             0.7,
             "#b8e186"
            ],
            [
             0.8,
             "#7fbc41"
            ],
            [
             0.9,
             "#4d9221"
            ],
            [
             1,
             "#276419"
            ]
           ],
           "sequential": [
            [
             0,
             "#0d0887"
            ],
            [
             0.1111111111111111,
             "#46039f"
            ],
            [
             0.2222222222222222,
             "#7201a8"
            ],
            [
             0.3333333333333333,
             "#9c179e"
            ],
            [
             0.4444444444444444,
             "#bd3786"
            ],
            [
             0.5555555555555556,
             "#d8576b"
            ],
            [
             0.6666666666666666,
             "#ed7953"
            ],
            [
             0.7777777777777778,
             "#fb9f3a"
            ],
            [
             0.8888888888888888,
             "#fdca26"
            ],
            [
             1,
             "#f0f921"
            ]
           ],
           "sequentialminus": [
            [
             0,
             "#0d0887"
            ],
            [
             0.1111111111111111,
             "#46039f"
            ],
            [
             0.2222222222222222,
             "#7201a8"
            ],
            [
             0.3333333333333333,
             "#9c179e"
            ],
            [
             0.4444444444444444,
             "#bd3786"
            ],
            [
             0.5555555555555556,
             "#d8576b"
            ],
            [
             0.6666666666666666,
             "#ed7953"
            ],
            [
             0.7777777777777778,
             "#fb9f3a"
            ],
            [
             0.8888888888888888,
             "#fdca26"
            ],
            [
             1,
             "#f0f921"
            ]
           ]
          },
          "colorway": [
           "#636efa",
           "#EF553B",
           "#00cc96",
           "#ab63fa",
           "#FFA15A",
           "#19d3f3",
           "#FF6692",
           "#B6E880",
           "#FF97FF",
           "#FECB52"
          ],
          "font": {
           "color": "#2a3f5f"
          },
          "geo": {
           "bgcolor": "white",
           "lakecolor": "white",
           "landcolor": "#E5ECF6",
           "showlakes": true,
           "showland": true,
           "subunitcolor": "white"
          },
          "hoverlabel": {
           "align": "left"
          },
          "hovermode": "closest",
          "mapbox": {
           "style": "light"
          },
          "paper_bgcolor": "white",
          "plot_bgcolor": "#E5ECF6",
          "polar": {
           "angularaxis": {
            "gridcolor": "white",
            "linecolor": "white",
            "ticks": ""
           },
           "bgcolor": "#E5ECF6",
           "radialaxis": {
            "gridcolor": "white",
            "linecolor": "white",
            "ticks": ""
           }
          },
          "scene": {
           "xaxis": {
            "backgroundcolor": "#E5ECF6",
            "gridcolor": "white",
            "gridwidth": 2,
            "linecolor": "white",
            "showbackground": true,
            "ticks": "",
            "zerolinecolor": "white"
           },
           "yaxis": {
            "backgroundcolor": "#E5ECF6",
            "gridcolor": "white",
            "gridwidth": 2,
            "linecolor": "white",
            "showbackground": true,
            "ticks": "",
            "zerolinecolor": "white"
           },
           "zaxis": {
            "backgroundcolor": "#E5ECF6",
            "gridcolor": "white",
            "gridwidth": 2,
            "linecolor": "white",
            "showbackground": true,
            "ticks": "",
            "zerolinecolor": "white"
           }
          },
          "shapedefaults": {
           "line": {
            "color": "#2a3f5f"
           }
          },
          "ternary": {
           "aaxis": {
            "gridcolor": "white",
            "linecolor": "white",
            "ticks": ""
           },
           "baxis": {
            "gridcolor": "white",
            "linecolor": "white",
            "ticks": ""
           },
           "bgcolor": "#E5ECF6",
           "caxis": {
            "gridcolor": "white",
            "linecolor": "white",
            "ticks": ""
           }
          },
          "title": {
           "x": 0.05
          },
          "xaxis": {
           "automargin": true,
           "gridcolor": "white",
           "linecolor": "white",
           "ticks": "",
           "title": {
            "standoff": 15
           },
           "zerolinecolor": "white",
           "zerolinewidth": 2
          },
          "yaxis": {
           "automargin": true,
           "gridcolor": "white",
           "linecolor": "white",
           "ticks": "",
           "title": {
            "standoff": 15
           },
           "zerolinecolor": "white",
           "zerolinewidth": 2
          }
         }
        },
        "title": {
         "font": {
          "size": 30
         },
         "text": "<b>Send by Date</b>",
         "x": 0.5
        },
        "xaxis": {
         "anchor": "y",
         "domain": [
          0,
          1
         ],
         "title": {
          "text": "Date"
         }
        },
        "yaxis": {
         "anchor": "x",
         "categoryarray": [
          "5.0",
          "5.1",
          "5.2",
          "5.3",
          "5.4",
          "5.5",
          "5.6",
          "5.7",
          "5.8",
          "5.9",
          "5.10a",
          "5.10b",
          "5.10c",
          "5.10d",
          "5.11a",
          "5.11b",
          "5.11c",
          "5.11d",
          "5.12a",
          "5.12b",
          "5.12c",
          "5.12d",
          "5.13a",
          "5.13b",
          "5.13c",
          "5.13d",
          "5.14a",
          "5.14b",
          "5.14c",
          "5.14d",
          "5.15a",
          "5.15b",
          "5.15c",
          "5.15d"
         ],
         "categoryorder": "array",
         "domain": [
          0,
          1
         ],
         "title": {
          "text": "Grade"
         }
        }
       }
      }
     },
     "metadata": {},
     "output_type": "display_data"
    }
   ],
   "source": [
    "fig = px.scatter(df_clean_sends, \"Date\", \"Rating\", category_orders={\"Rating\": YDS_GRADES_LETTER[::-1]}, custom_data=['Route Formatted', 'Date Formatted', 'Location Formatted', 'Length', 'Avg Stars'])\n",
    "fig.update_layout(font={'family':'Courier New', 'color':'black', 'size':20}, title={'text':'<b>Send by Date</b>', 'x':0.5, 'font_size':30}, xaxis={'title': 'Date'}, yaxis={'title': 'Grade'}, paper_bgcolor='#ece5dc', plot_bgcolor='#F5D3A5', bargap=0)\n",
    "fig.update_traces(marker_symbol='square', marker_color='#7A4F25', marker_size=12, marker_line_width=2, marker_line_color='black', hovertemplate='Name: %{customdata[0]}<br>Date: %{customdata[1]}<br>Location: %{customdata[2]}<br>Length: %{customdata[3]}ft<br>Avg Stars: %{customdata[4]}')"
   ]
  },
  {
   "cell_type": "code",
   "execution_count": null,
   "metadata": {},
   "outputs": [],
   "source": [
    "# Analyze TR/Lead and OS/FellHung Ratio\n",
    "\n",
    "# of people that lead, how many onsight/flash? Of people who eventually redpoint, how many tries did it take?\n",
    "\n",
    "def get_tick_counts(res):\n",
    "    soup = BeautifulSoup(res.text, 'html.parser')\n",
    "    try:\n",
    "        blocks = list(soup.select(\"#route-stats > div:nth-child(2) > div:nth-last-child(1)\")[0].find_all('div'))\n",
    "    except:\n",
    "        blocks=[]\n",
    "    match = [re.search(r'·\\s[a-zA-z\\/\\s]*\\.', str(x)) for x in blocks]\n",
    "    search = [m.group(0)if m else '' for m in match] # pulls match text if match object is not none\n",
    "    search = [i.lower() for i in search if i] # removes all empty entries, force to lower case for matching strings\n",
    "    search = [i.split(' / ') for i in search]\n",
    "    search = [item for sublist in search for item in sublist] # Flatten\n",
    "    search = [re.sub(r'[^A-Za-z/]', '', substr) for substr in search] # replace all non characters with blank\n",
    "    search = [x for x in search if x in TICK_OPTIONS] # remove all other falsely identified text entries, old ticks did not require a tick type so it identifies the first sentence instead.\n",
    "    # I want a list of counts that default to 0 if the tick type is not found, I had to do some crazy transferring to series to dataframes and back to series to make it work.\n",
    "    search_counts_init = pd.Series(np.nan, index=TICK_OPTIONS).to_frame()\n",
    "    search_counts = pd.Series(search).value_counts().dropna().to_frame()\n",
    "    search_counts = search_counts_init.fillna(search_counts).fillna(0).squeeze()\n",
    "    lead_ratio = search_counts['lead']/(search_counts['follow'] + search_counts['tr'] + search_counts['lead'])\n",
    "    os_ratio = (search_counts['onsight'] + search_counts['flash']) / (search_counts['onsight'] + search_counts['flash'] + search_counts['fell/hung'] + search_counts['redpoint'] + search_counts['pinkpoint'])\n",
    "    return pd.Series([lead_ratio, os_ratio])\n",
    "\n",
    "df[['Lead Ratio', 'OS Ratio']] = df['re statpage'].apply(get_tick_counts)"
   ]
  },
  {
   "cell_type": "code",
   "execution_count": 715,
   "metadata": {},
   "outputs": [
    {
     "name": "stdout",
     "output_type": "stream",
     "text": [
      "[<h1>\n",
      "            Statistics for \n",
      "        Brother From Another Planet\n",
      "        </h1>]\n"
     ]
    },
    {
     "data": {
      "text/html": [
       "<div>\n",
       "<style scoped>\n",
       "    .dataframe tbody tr th:only-of-type {\n",
       "        vertical-align: middle;\n",
       "    }\n",
       "\n",
       "    .dataframe tbody tr th {\n",
       "        vertical-align: top;\n",
       "    }\n",
       "\n",
       "    .dataframe thead th {\n",
       "        text-align: right;\n",
       "    }\n",
       "</style>\n",
       "<table border=\"1\" class=\"dataframe\">\n",
       "  <thead>\n",
       "    <tr style=\"text-align: right;\">\n",
       "      <th></th>\n",
       "      <th>Username</th>\n",
       "      <th>User Link</th>\n",
       "      <th>Entry Date</th>\n",
       "      <th>Pitches</th>\n",
       "      <th>Style</th>\n",
       "      <th>Lead Style</th>\n",
       "      <th>Comment</th>\n",
       "    </tr>\n",
       "  </thead>\n",
       "  <tbody>\n",
       "    <tr>\n",
       "      <th>0</th>\n",
       "      <td>Nathan Litster</td>\n",
       "      <td>https://www.mountainproject.com/user/200380857...</td>\n",
       "      <td>Nov 8, 2022</td>\n",
       "      <td>1</td>\n",
       "      <td>tr</td>\n",
       "      <td></td>\n",
       "      <td>So cool, could not pull the roof and could bar...</td>\n",
       "    </tr>\n",
       "    <tr>\n",
       "      <th>1</th>\n",
       "      <td>Gus Meyers</td>\n",
       "      <td>https://www.mountainproject.com/user/200144496...</td>\n",
       "      <td>Nov 4, 2022</td>\n",
       "      <td>1</td>\n",
       "      <td>tr</td>\n",
       "      <td></td>\n",
       "      <td>very hard but now you have the sequence</td>\n",
       "    </tr>\n",
       "    <tr>\n",
       "      <th>2</th>\n",
       "      <td>Nick G</td>\n",
       "      <td>https://www.mountainproject.com/user/200485331...</td>\n",
       "      <td>Oct 31, 2022</td>\n",
       "      <td>1</td>\n",
       "      <td>tr</td>\n",
       "      <td></td>\n",
       "      <td></td>\n",
       "    </tr>\n",
       "    <tr>\n",
       "      <th>3</th>\n",
       "      <td></td>\n",
       "      <td></td>\n",
       "      <td>Oct 21, 2022</td>\n",
       "      <td>1</td>\n",
       "      <td></td>\n",
       "      <td></td>\n",
       "      <td></td>\n",
       "    </tr>\n",
       "    <tr>\n",
       "      <th>4</th>\n",
       "      <td></td>\n",
       "      <td></td>\n",
       "      <td>Oct 21, 2022</td>\n",
       "      <td>1</td>\n",
       "      <td></td>\n",
       "      <td></td>\n",
       "      <td></td>\n",
       "    </tr>\n",
       "    <tr>\n",
       "      <th>5</th>\n",
       "      <td></td>\n",
       "      <td></td>\n",
       "      <td>Nov 24, 2019</td>\n",
       "      <td>1</td>\n",
       "      <td></td>\n",
       "      <td></td>\n",
       "      <td></td>\n",
       "    </tr>\n",
       "    <tr>\n",
       "      <th>6</th>\n",
       "      <td></td>\n",
       "      <td></td>\n",
       "      <td>Apr 2, 2015</td>\n",
       "      <td>1</td>\n",
       "      <td></td>\n",
       "      <td></td>\n",
       "      <td></td>\n",
       "    </tr>\n",
       "    <tr>\n",
       "      <th>7</th>\n",
       "      <td></td>\n",
       "      <td></td>\n",
       "      <td>Mar 21, 2015</td>\n",
       "      <td>1</td>\n",
       "      <td></td>\n",
       "      <td></td>\n",
       "      <td></td>\n",
       "    </tr>\n",
       "    <tr>\n",
       "      <th>8</th>\n",
       "      <td>Jonathan Wagenet</td>\n",
       "      <td>https://www.mountainproject.com/user/200220022...</td>\n",
       "      <td>May 9, 2022</td>\n",
       "      <td>1</td>\n",
       "      <td>tr</td>\n",
       "      <td></td>\n",
       "      <td></td>\n",
       "    </tr>\n",
       "    <tr>\n",
       "      <th>9</th>\n",
       "      <td>Jeff Dunbar</td>\n",
       "      <td>https://www.mountainproject.com/user/105967115...</td>\n",
       "      <td>Nov 20, 2021</td>\n",
       "      <td>1</td>\n",
       "      <td>lead</td>\n",
       "      <td>fell/hung</td>\n",
       "      <td>First time on this went great, right up until ...</td>\n",
       "    </tr>\n",
       "    <tr>\n",
       "      <th>10</th>\n",
       "      <td>Jacob Lamb</td>\n",
       "      <td>https://www.mountainproject.com/user/200166539...</td>\n",
       "      <td>Nov 13, 2021</td>\n",
       "      <td>1</td>\n",
       "      <td></td>\n",
       "      <td></td>\n",
       "      <td>Tried and flailed</td>\n",
       "    </tr>\n",
       "    <tr>\n",
       "      <th>11</th>\n",
       "      <td>Dana D</td>\n",
       "      <td>https://www.mountainproject.com/user/112916652...</td>\n",
       "      <td>Oct 20, 2021</td>\n",
       "      <td>1</td>\n",
       "      <td>tr</td>\n",
       "      <td></td>\n",
       "      <td>attempted the invert a couple times then haule...</td>\n",
       "    </tr>\n",
       "    <tr>\n",
       "      <th>12</th>\n",
       "      <td>Erika M</td>\n",
       "      <td>https://www.mountainproject.com/user/200351498...</td>\n",
       "      <td>Feb 26, 2021</td>\n",
       "      <td>1</td>\n",
       "      <td>tr</td>\n",
       "      <td></td>\n",
       "      <td></td>\n",
       "    </tr>\n",
       "    <tr>\n",
       "      <th>13</th>\n",
       "      <td>Doug Kern</td>\n",
       "      <td>https://www.mountainproject.com/user/107436205...</td>\n",
       "      <td>Dec 8, 2020</td>\n",
       "      <td>1</td>\n",
       "      <td>lead</td>\n",
       "      <td>fell/hung</td>\n",
       "      <td></td>\n",
       "    </tr>\n",
       "    <tr>\n",
       "      <th>14</th>\n",
       "      <td>Blayne Ferrell</td>\n",
       "      <td>https://www.mountainproject.com/user/200242446...</td>\n",
       "      <td>Oct 22, 2020</td>\n",
       "      <td>1</td>\n",
       "      <td>lead</td>\n",
       "      <td>fell/hung</td>\n",
       "      <td>I tried. wow. the #7 makes it comfy. im gonna ...</td>\n",
       "    </tr>\n",
       "    <tr>\n",
       "      <th>15</th>\n",
       "      <td>kristinr</td>\n",
       "      <td>https://www.mountainproject.com/user/111204809...</td>\n",
       "      <td>Oct 13, 2020</td>\n",
       "      <td>1</td>\n",
       "      <td>lead</td>\n",
       "      <td>fell/hung</td>\n",
       "      <td>Haaarrrd after invert</td>\n",
       "    </tr>\n",
       "    <tr>\n",
       "      <th>16</th>\n",
       "      <td>Charlie Martz</td>\n",
       "      <td>https://www.mountainproject.com/user/200072880...</td>\n",
       "      <td>Oct 3, 2020</td>\n",
       "      <td>1</td>\n",
       "      <td>tr</td>\n",
       "      <td></td>\n",
       "      <td></td>\n",
       "    </tr>\n",
       "    <tr>\n",
       "      <th>17</th>\n",
       "      <td>Charlie Martz</td>\n",
       "      <td>https://www.mountainproject.com/user/200072880...</td>\n",
       "      <td>Oct 3, 2020</td>\n",
       "      <td>1</td>\n",
       "      <td>lead</td>\n",
       "      <td>fell/hung</td>\n",
       "      <td></td>\n",
       "    </tr>\n",
       "    <tr>\n",
       "      <th>18</th>\n",
       "      <td>Charlie Martz</td>\n",
       "      <td>https://www.mountainproject.com/user/200072880...</td>\n",
       "      <td>Nov 24, 2019</td>\n",
       "      <td>1</td>\n",
       "      <td>tr</td>\n",
       "      <td></td>\n",
       "      <td>Not to top</td>\n",
       "    </tr>\n",
       "    <tr>\n",
       "      <th>19</th>\n",
       "      <td>Auden Alsop</td>\n",
       "      <td>https://www.mountainproject.com/user/112470261...</td>\n",
       "      <td>Jul 8, 2020</td>\n",
       "      <td>1</td>\n",
       "      <td>lead</td>\n",
       "      <td>fell/hung</td>\n",
       "      <td>Absolutely shitmixed: meltdown. 100% could sen...</td>\n",
       "    </tr>\n",
       "    <tr>\n",
       "      <th>20</th>\n",
       "      <td>Jeff Simpson</td>\n",
       "      <td>https://www.mountainproject.com/user/109796585...</td>\n",
       "      <td>Nov 19, 2019</td>\n",
       "      <td>1</td>\n",
       "      <td>lead</td>\n",
       "      <td>fell/hung</td>\n",
       "      <td></td>\n",
       "    </tr>\n",
       "    <tr>\n",
       "      <th>21</th>\n",
       "      <td>Jesse Yon</td>\n",
       "      <td>https://www.mountainproject.com/user/109671373...</td>\n",
       "      <td>Oct 30, 2019</td>\n",
       "      <td>1</td>\n",
       "      <td>lead</td>\n",
       "      <td>fell/hung</td>\n",
       "      <td>Took the whip figuring out how to exit the inv...</td>\n",
       "    </tr>\n",
       "    <tr>\n",
       "      <th>22</th>\n",
       "      <td>Michael Allen</td>\n",
       "      <td>https://www.mountainproject.com/user/200158411...</td>\n",
       "      <td>Oct 22, 2019</td>\n",
       "      <td>1</td>\n",
       "      <td>lead</td>\n",
       "      <td>fell/hung</td>\n",
       "      <td></td>\n",
       "    </tr>\n",
       "    <tr>\n",
       "      <th>23</th>\n",
       "      <td>Michael Allen</td>\n",
       "      <td>https://www.mountainproject.com/user/200158411...</td>\n",
       "      <td>Oct 22, 2019</td>\n",
       "      <td>1</td>\n",
       "      <td>tr</td>\n",
       "      <td></td>\n",
       "      <td></td>\n",
       "    </tr>\n",
       "    <tr>\n",
       "      <th>24</th>\n",
       "      <td>Eric C</td>\n",
       "      <td>https://www.mountainproject.com/user/200123269...</td>\n",
       "      <td>Oct 22, 2019</td>\n",
       "      <td>1</td>\n",
       "      <td>tr</td>\n",
       "      <td></td>\n",
       "      <td>Awesome invert, but could not finish</td>\n",
       "    </tr>\n",
       "    <tr>\n",
       "      <th>25</th>\n",
       "      <td>Michael Murdock</td>\n",
       "      <td>https://www.mountainproject.com/user/200067071...</td>\n",
       "      <td>Oct 22, 2019</td>\n",
       "      <td>1</td>\n",
       "      <td>tr</td>\n",
       "      <td></td>\n",
       "      <td></td>\n",
       "    </tr>\n",
       "    <tr>\n",
       "      <th>26</th>\n",
       "      <td>Sam Zavislan</td>\n",
       "      <td>https://www.mountainproject.com/user/112359042...</td>\n",
       "      <td>Oct 15, 2019</td>\n",
       "      <td>1</td>\n",
       "      <td>lead</td>\n",
       "      <td>redpoint</td>\n",
       "      <td></td>\n",
       "    </tr>\n",
       "    <tr>\n",
       "      <th>27</th>\n",
       "      <td>Lisa B</td>\n",
       "      <td>https://www.mountainproject.com/user/107324472...</td>\n",
       "      <td>Oct 13, 2019</td>\n",
       "      <td>1</td>\n",
       "      <td>tr</td>\n",
       "      <td></td>\n",
       "      <td>Yeee haw what a hard climb. Right HJ palm towa...</td>\n",
       "    </tr>\n",
       "    <tr>\n",
       "      <th>28</th>\n",
       "      <td>Athena</td>\n",
       "      <td>https://www.mountainproject.com/user/106767428...</td>\n",
       "      <td>Oct 13, 2019</td>\n",
       "      <td>1</td>\n",
       "      <td>tr</td>\n",
       "      <td></td>\n",
       "      <td>Couldn’t do the roof!</td>\n",
       "    </tr>\n",
       "    <tr>\n",
       "      <th>29</th>\n",
       "      <td>Matt Mendonza</td>\n",
       "      <td>https://www.mountainproject.com/user/106189953...</td>\n",
       "      <td>Oct 13, 2019</td>\n",
       "      <td>1</td>\n",
       "      <td>lead</td>\n",
       "      <td>fell/hung</td>\n",
       "      <td>aided the hard bit, tried again on TR, still n...</td>\n",
       "    </tr>\n",
       "    <tr>\n",
       "      <th>30</th>\n",
       "      <td>Brian Davis</td>\n",
       "      <td>https://www.mountainproject.com/user/200451851...</td>\n",
       "      <td>Sep 28, 2019</td>\n",
       "      <td>1</td>\n",
       "      <td>tr</td>\n",
       "      <td></td>\n",
       "      <td>Would like to lead this.</td>\n",
       "    </tr>\n",
       "    <tr>\n",
       "      <th>31</th>\n",
       "      <td>Kris Schrijvers</td>\n",
       "      <td>https://www.mountainproject.com/user/108419528...</td>\n",
       "      <td>Sep 5, 2019</td>\n",
       "      <td>1</td>\n",
       "      <td>lead</td>\n",
       "      <td>redpoint</td>\n",
       "      <td>Second go</td>\n",
       "    </tr>\n",
       "    <tr>\n",
       "      <th>32</th>\n",
       "      <td>Alex Fyfe</td>\n",
       "      <td>https://www.mountainproject.com/user/112225055...</td>\n",
       "      <td>Aug 27, 2019</td>\n",
       "      <td>1</td>\n",
       "      <td>lead</td>\n",
       "      <td>redpoint</td>\n",
       "      <td>first 12 in the creek, last October</td>\n",
       "    </tr>\n",
       "    <tr>\n",
       "      <th>33</th>\n",
       "      <td>Mark Van Slyke</td>\n",
       "      <td>https://www.mountainproject.com/user/200218048...</td>\n",
       "      <td>May 7, 2019</td>\n",
       "      <td>1</td>\n",
       "      <td>lead</td>\n",
       "      <td>fell/hung</td>\n",
       "      <td></td>\n",
       "    </tr>\n",
       "    <tr>\n",
       "      <th>34</th>\n",
       "      <td>Aaron Cannistra</td>\n",
       "      <td>https://www.mountainproject.com/user/109989009...</td>\n",
       "      <td>Nov 24, 2018</td>\n",
       "      <td>1</td>\n",
       "      <td>lead</td>\n",
       "      <td>fell/hung</td>\n",
       "      <td>Why did I bother trying again before I'd train...</td>\n",
       "    </tr>\n",
       "    <tr>\n",
       "      <th>35</th>\n",
       "      <td>Aaron Cannistra</td>\n",
       "      <td>https://www.mountainproject.com/user/109989009...</td>\n",
       "      <td>Nov 21, 2018</td>\n",
       "      <td>1</td>\n",
       "      <td>lead</td>\n",
       "      <td>fell/hung</td>\n",
       "      <td>Couldn't pull off the invert and un-invert mov...</td>\n",
       "    </tr>\n",
       "    <tr>\n",
       "      <th>36</th>\n",
       "      <td>Tom Ashley</td>\n",
       "      <td>https://www.mountainproject.com/user/109417951...</td>\n",
       "      <td>Nov 24, 2018</td>\n",
       "      <td>1</td>\n",
       "      <td>lead</td>\n",
       "      <td>fell/hung</td>\n",
       "      <td>shut down</td>\n",
       "    </tr>\n",
       "    <tr>\n",
       "      <th>37</th>\n",
       "      <td>Mike Calvert</td>\n",
       "      <td>https://www.mountainproject.com/user/200177328...</td>\n",
       "      <td>Nov 15, 2018</td>\n",
       "      <td>1</td>\n",
       "      <td>lead</td>\n",
       "      <td></td>\n",
       "      <td></td>\n",
       "    </tr>\n",
       "    <tr>\n",
       "      <th>38</th>\n",
       "      <td>matt hoffman</td>\n",
       "      <td>https://www.mountainproject.com/user/111958483...</td>\n",
       "      <td>Nov 1, 2018</td>\n",
       "      <td>1</td>\n",
       "      <td>lead</td>\n",
       "      <td>redpoint</td>\n",
       "      <td>very hungover day after halloween</td>\n",
       "    </tr>\n",
       "    <tr>\n",
       "      <th>39</th>\n",
       "      <td>Kris Schrijvers</td>\n",
       "      <td>https://www.mountainproject.com/user/110899719...</td>\n",
       "      <td>Oct 18, 2018</td>\n",
       "      <td>1</td>\n",
       "      <td>lead</td>\n",
       "      <td>redpoint</td>\n",
       "      <td></td>\n",
       "    </tr>\n",
       "    <tr>\n",
       "      <th>40</th>\n",
       "      <td>TradPrincess Eden</td>\n",
       "      <td>https://www.mountainproject.com/user/110660719...</td>\n",
       "      <td>Aug 8, 2018</td>\n",
       "      <td>1</td>\n",
       "      <td>lead</td>\n",
       "      <td>redpoint</td>\n",
       "      <td></td>\n",
       "    </tr>\n",
       "    <tr>\n",
       "      <th>41</th>\n",
       "      <td>Mercadi Carlson</td>\n",
       "      <td>https://www.mountainproject.com/user/110829158...</td>\n",
       "      <td>Aug 2, 2018</td>\n",
       "      <td>1</td>\n",
       "      <td>lead</td>\n",
       "      <td>fell/hung</td>\n",
       "      <td></td>\n",
       "    </tr>\n",
       "    <tr>\n",
       "      <th>42</th>\n",
       "      <td>Clay Thomas</td>\n",
       "      <td>https://www.mountainproject.com/user/111710269...</td>\n",
       "      <td>Apr 9, 2018</td>\n",
       "      <td>1</td>\n",
       "      <td>lead</td>\n",
       "      <td>fell/hung</td>\n",
       "      <td>Took a couple flipper whippers!! Aided the lip...</td>\n",
       "    </tr>\n",
       "    <tr>\n",
       "      <th>43</th>\n",
       "      <td>Mary Grace Stocker</td>\n",
       "      <td>https://www.mountainproject.com/user/111064200...</td>\n",
       "      <td>Nov 28, 2017</td>\n",
       "      <td>1</td>\n",
       "      <td></td>\n",
       "      <td></td>\n",
       "      <td></td>\n",
       "    </tr>\n",
       "    <tr>\n",
       "      <th>44</th>\n",
       "      <td>Juniper C</td>\n",
       "      <td>https://www.mountainproject.com/user/200682065...</td>\n",
       "      <td>Nov 28, 2017</td>\n",
       "      <td>1</td>\n",
       "      <td>lead</td>\n",
       "      <td>flash</td>\n",
       "      <td>w mary mark and kristen</td>\n",
       "    </tr>\n",
       "    <tr>\n",
       "      <th>45</th>\n",
       "      <td>Dan Nix</td>\n",
       "      <td>https://www.mountainproject.com/user/111347304...</td>\n",
       "      <td>Nov 26, 2017</td>\n",
       "      <td>1</td>\n",
       "      <td>lead</td>\n",
       "      <td>fell/hung</td>\n",
       "      <td>Thrutch fiesta!</td>\n",
       "    </tr>\n",
       "    <tr>\n",
       "      <th>46</th>\n",
       "      <td>Josh Bender</td>\n",
       "      <td>https://www.mountainproject.com/user/200079461...</td>\n",
       "      <td>Nov 20, 2017</td>\n",
       "      <td>1</td>\n",
       "      <td>lead</td>\n",
       "      <td>fell/hung</td>\n",
       "      <td></td>\n",
       "    </tr>\n",
       "    <tr>\n",
       "      <th>47</th>\n",
       "      <td>D Scott Clark</td>\n",
       "      <td>https://www.mountainproject.com/user/107484179...</td>\n",
       "      <td>Nov 20, 2016</td>\n",
       "      <td>1</td>\n",
       "      <td>tr</td>\n",
       "      <td></td>\n",
       "      <td>Will be so excited to send when I can figure o...</td>\n",
       "    </tr>\n",
       "    <tr>\n",
       "      <th>48</th>\n",
       "      <td>Austin Martin</td>\n",
       "      <td>https://www.mountainproject.com/user/109559968...</td>\n",
       "      <td>Oct 21, 2016</td>\n",
       "      <td>1</td>\n",
       "      <td></td>\n",
       "      <td></td>\n",
       "      <td>first invert offwidth. TR, still effing hard</td>\n",
       "    </tr>\n",
       "    <tr>\n",
       "      <th>49</th>\n",
       "      <td>Ray Lovestead</td>\n",
       "      <td>https://www.mountainproject.com/user/106088903...</td>\n",
       "      <td>Nov 30, 2015</td>\n",
       "      <td>1</td>\n",
       "      <td></td>\n",
       "      <td></td>\n",
       "      <td>TR'd with Lee.  Holy crap it was hard.  I'd li...</td>\n",
       "    </tr>\n",
       "    <tr>\n",
       "      <th>50</th>\n",
       "      <td>Seth Kane</td>\n",
       "      <td>https://www.mountainproject.com/user/108349349...</td>\n",
       "      <td>Nov 24, 2015</td>\n",
       "      <td>1</td>\n",
       "      <td>tr</td>\n",
       "      <td></td>\n",
       "      <td>fell/hung</td>\n",
       "    </tr>\n",
       "    <tr>\n",
       "      <th>51</th>\n",
       "      <td>JoergB</td>\n",
       "      <td>https://www.mountainproject.com/user/106374335...</td>\n",
       "      <td>Oct 4, 2009</td>\n",
       "      <td>1</td>\n",
       "      <td></td>\n",
       "      <td></td>\n",
       "      <td>TR übel hochgehampelt</td>\n",
       "    </tr>\n",
       "    <tr>\n",
       "      <th>52</th>\n",
       "      <td>Patrick Kingsbury</td>\n",
       "      <td>https://www.mountainproject.com/user/106062796...</td>\n",
       "      <td>Mar 21, 2006</td>\n",
       "      <td>1</td>\n",
       "      <td>lead</td>\n",
       "      <td>redpoint</td>\n",
       "      <td></td>\n",
       "    </tr>\n",
       "  </tbody>\n",
       "</table>\n",
       "</div>"
      ],
      "text/plain": [
       "              Username                                          User Link  \\\n",
       "0       Nathan Litster  https://www.mountainproject.com/user/200380857...   \n",
       "1           Gus Meyers  https://www.mountainproject.com/user/200144496...   \n",
       "2               Nick G  https://www.mountainproject.com/user/200485331...   \n",
       "3                                                                           \n",
       "4                                                                           \n",
       "5                                                                           \n",
       "6                                                                           \n",
       "7                                                                           \n",
       "8     Jonathan Wagenet  https://www.mountainproject.com/user/200220022...   \n",
       "9          Jeff Dunbar  https://www.mountainproject.com/user/105967115...   \n",
       "10          Jacob Lamb  https://www.mountainproject.com/user/200166539...   \n",
       "11              Dana D  https://www.mountainproject.com/user/112916652...   \n",
       "12             Erika M  https://www.mountainproject.com/user/200351498...   \n",
       "13           Doug Kern  https://www.mountainproject.com/user/107436205...   \n",
       "14      Blayne Ferrell  https://www.mountainproject.com/user/200242446...   \n",
       "15            kristinr  https://www.mountainproject.com/user/111204809...   \n",
       "16       Charlie Martz  https://www.mountainproject.com/user/200072880...   \n",
       "17       Charlie Martz  https://www.mountainproject.com/user/200072880...   \n",
       "18       Charlie Martz  https://www.mountainproject.com/user/200072880...   \n",
       "19         Auden Alsop  https://www.mountainproject.com/user/112470261...   \n",
       "20        Jeff Simpson  https://www.mountainproject.com/user/109796585...   \n",
       "21           Jesse Yon  https://www.mountainproject.com/user/109671373...   \n",
       "22       Michael Allen  https://www.mountainproject.com/user/200158411...   \n",
       "23       Michael Allen  https://www.mountainproject.com/user/200158411...   \n",
       "24              Eric C  https://www.mountainproject.com/user/200123269...   \n",
       "25     Michael Murdock  https://www.mountainproject.com/user/200067071...   \n",
       "26        Sam Zavislan  https://www.mountainproject.com/user/112359042...   \n",
       "27              Lisa B  https://www.mountainproject.com/user/107324472...   \n",
       "28              Athena  https://www.mountainproject.com/user/106767428...   \n",
       "29       Matt Mendonza  https://www.mountainproject.com/user/106189953...   \n",
       "30         Brian Davis  https://www.mountainproject.com/user/200451851...   \n",
       "31     Kris Schrijvers  https://www.mountainproject.com/user/108419528...   \n",
       "32           Alex Fyfe  https://www.mountainproject.com/user/112225055...   \n",
       "33      Mark Van Slyke  https://www.mountainproject.com/user/200218048...   \n",
       "34     Aaron Cannistra  https://www.mountainproject.com/user/109989009...   \n",
       "35     Aaron Cannistra  https://www.mountainproject.com/user/109989009...   \n",
       "36          Tom Ashley  https://www.mountainproject.com/user/109417951...   \n",
       "37        Mike Calvert  https://www.mountainproject.com/user/200177328...   \n",
       "38        matt hoffman  https://www.mountainproject.com/user/111958483...   \n",
       "39     Kris Schrijvers  https://www.mountainproject.com/user/110899719...   \n",
       "40   TradPrincess Eden  https://www.mountainproject.com/user/110660719...   \n",
       "41     Mercadi Carlson  https://www.mountainproject.com/user/110829158...   \n",
       "42         Clay Thomas  https://www.mountainproject.com/user/111710269...   \n",
       "43  Mary Grace Stocker  https://www.mountainproject.com/user/111064200...   \n",
       "44           Juniper C  https://www.mountainproject.com/user/200682065...   \n",
       "45             Dan Nix  https://www.mountainproject.com/user/111347304...   \n",
       "46         Josh Bender  https://www.mountainproject.com/user/200079461...   \n",
       "47       D Scott Clark  https://www.mountainproject.com/user/107484179...   \n",
       "48       Austin Martin  https://www.mountainproject.com/user/109559968...   \n",
       "49       Ray Lovestead  https://www.mountainproject.com/user/106088903...   \n",
       "50           Seth Kane  https://www.mountainproject.com/user/108349349...   \n",
       "51              JoergB  https://www.mountainproject.com/user/106374335...   \n",
       "52   Patrick Kingsbury  https://www.mountainproject.com/user/106062796...   \n",
       "\n",
       "      Entry Date  Pitches  Style Lead Style  \\\n",
       "0    Nov 8, 2022        1     tr              \n",
       "1    Nov 4, 2022        1     tr              \n",
       "2   Oct 31, 2022        1     tr              \n",
       "3   Oct 21, 2022        1                     \n",
       "4   Oct 21, 2022        1                     \n",
       "5   Nov 24, 2019        1                     \n",
       "6    Apr 2, 2015        1                     \n",
       "7   Mar 21, 2015        1                     \n",
       "8    May 9, 2022        1     tr              \n",
       "9   Nov 20, 2021        1   lead  fell/hung   \n",
       "10  Nov 13, 2021        1                     \n",
       "11  Oct 20, 2021        1     tr              \n",
       "12  Feb 26, 2021        1     tr              \n",
       "13   Dec 8, 2020        1   lead  fell/hung   \n",
       "14  Oct 22, 2020        1   lead  fell/hung   \n",
       "15  Oct 13, 2020        1   lead  fell/hung   \n",
       "16   Oct 3, 2020        1     tr              \n",
       "17   Oct 3, 2020        1   lead  fell/hung   \n",
       "18  Nov 24, 2019        1     tr              \n",
       "19   Jul 8, 2020        1   lead  fell/hung   \n",
       "20  Nov 19, 2019        1   lead  fell/hung   \n",
       "21  Oct 30, 2019        1   lead  fell/hung   \n",
       "22  Oct 22, 2019        1   lead  fell/hung   \n",
       "23  Oct 22, 2019        1     tr              \n",
       "24  Oct 22, 2019        1     tr              \n",
       "25  Oct 22, 2019        1     tr              \n",
       "26  Oct 15, 2019        1   lead   redpoint   \n",
       "27  Oct 13, 2019        1     tr              \n",
       "28  Oct 13, 2019        1     tr              \n",
       "29  Oct 13, 2019        1   lead  fell/hung   \n",
       "30  Sep 28, 2019        1     tr              \n",
       "31   Sep 5, 2019        1   lead   redpoint   \n",
       "32  Aug 27, 2019        1   lead   redpoint   \n",
       "33   May 7, 2019        1   lead  fell/hung   \n",
       "34  Nov 24, 2018        1   lead  fell/hung   \n",
       "35  Nov 21, 2018        1   lead  fell/hung   \n",
       "36  Nov 24, 2018        1   lead  fell/hung   \n",
       "37  Nov 15, 2018        1   lead              \n",
       "38   Nov 1, 2018        1   lead   redpoint   \n",
       "39  Oct 18, 2018        1   lead   redpoint   \n",
       "40   Aug 8, 2018        1   lead   redpoint   \n",
       "41   Aug 2, 2018        1   lead  fell/hung   \n",
       "42   Apr 9, 2018        1   lead  fell/hung   \n",
       "43  Nov 28, 2017        1                     \n",
       "44  Nov 28, 2017        1   lead      flash   \n",
       "45  Nov 26, 2017        1   lead  fell/hung   \n",
       "46  Nov 20, 2017        1   lead  fell/hung   \n",
       "47  Nov 20, 2016        1     tr              \n",
       "48  Oct 21, 2016        1                     \n",
       "49  Nov 30, 2015        1                     \n",
       "50  Nov 24, 2015        1     tr              \n",
       "51   Oct 4, 2009        1                     \n",
       "52  Mar 21, 2006        1   lead   redpoint   \n",
       "\n",
       "                                              Comment  \n",
       "0   So cool, could not pull the roof and could bar...  \n",
       "1             very hard but now you have the sequence  \n",
       "2                                                      \n",
       "3                                                      \n",
       "4                                                      \n",
       "5                                                      \n",
       "6                                                      \n",
       "7                                                      \n",
       "8                                                      \n",
       "9   First time on this went great, right up until ...  \n",
       "10                                 Tried and flailed   \n",
       "11  attempted the invert a couple times then haule...  \n",
       "12                                                     \n",
       "13                                                     \n",
       "14  I tried. wow. the #7 makes it comfy. im gonna ...  \n",
       "15                              Haaarrrd after invert  \n",
       "16                                                     \n",
       "17                                                     \n",
       "18                                         Not to top  \n",
       "19  Absolutely shitmixed: meltdown. 100% could sen...  \n",
       "20                                                     \n",
       "21  Took the whip figuring out how to exit the inv...  \n",
       "22                                                     \n",
       "23                                                     \n",
       "24               Awesome invert, but could not finish  \n",
       "25                                                     \n",
       "26                                                     \n",
       "27  Yeee haw what a hard climb. Right HJ palm towa...  \n",
       "28                              Couldn’t do the roof!  \n",
       "29  aided the hard bit, tried again on TR, still n...  \n",
       "30                          Would like to lead this.   \n",
       "31                                          Second go  \n",
       "32                first 12 in the creek, last October  \n",
       "33                                                     \n",
       "34  Why did I bother trying again before I'd train...  \n",
       "35  Couldn't pull off the invert and un-invert mov...  \n",
       "36                                          shut down  \n",
       "37                                                     \n",
       "38                  very hungover day after halloween  \n",
       "39                                                     \n",
       "40                                                     \n",
       "41                                                     \n",
       "42  Took a couple flipper whippers!! Aided the lip...  \n",
       "43                                                     \n",
       "44                            w mary mark and kristen  \n",
       "45                                    Thrutch fiesta!  \n",
       "46                                                     \n",
       "47  Will be so excited to send when I can figure o...  \n",
       "48      first invert offwidth. TR, still effing hard   \n",
       "49  TR'd with Lee.  Holy crap it was hard.  I'd li...  \n",
       "50                                          fell/hung  \n",
       "51                              TR übel hochgehampelt  \n",
       "52                                                     "
      ]
     },
     "execution_count": 715,
     "metadata": {},
     "output_type": "execute_result"
    }
   ],
   "source": [
    "# Analyze TR/Lead and OS/FellHung Ratio\n",
    "\n",
    "# of people that lead, how many onsight/flash? Of people who eventually redpoint, how many tries did it take?\n",
    "\n",
    "def get_tick_details(res):\n",
    "    name = []\n",
    "    namelink = []\n",
    "    entrydate = []\n",
    "    pitches = []\n",
    "    style = []\n",
    "    lead_style = []\n",
    "    comment = []\n",
    "    soup = BeautifulSoup(res.text, 'html.parser')\n",
    "    \n",
    "    print(soup.select(\"#route-stats > div.row.pt-main-content > div > h1\")) # Tells you which page is being scraped, useful for debugging\n",
    "    try:\n",
    "        blocks = list(soup.select(\"#route-stats > div:nth-child(2) > div:nth-last-child(1)\")[0].find_all('tr'))\n",
    "    except:\n",
    "        blocks = []\n",
    "    for x in blocks:\n",
    "        soup = BeautifulSoup(str(x), 'html.parser')\n",
    "        entries = soup.find_all('div', attrs={'class': None})\n",
    "        for entry in entries:\n",
    "            entrytext = entry.text\n",
    "            try:\n",
    "                name.append(soup.find('a').text)\n",
    "            except:\n",
    "                name.append('')\n",
    "                \n",
    "            try:\n",
    "                namelink.append(soup.find('a')['href'])\n",
    "            except:\n",
    "                namelink.append('')\n",
    "            \n",
    "            try:\n",
    "                date_search = [re.search(r'\\w{3}\\s\\d{1,2},\\s\\d{4}', entrytext)]\n",
    "                entrydate.append([subresult.group(0) if subresult else '' for subresult in date_search][0]) # pulls match text if match object is not none\n",
    "            except:\n",
    "                entrydate.append('')\n",
    "            \n",
    "            try:\n",
    "                pitches_search = [re.search(r'·([^.]+\\s(pitches))', entrytext)] # regex for starting at · and ending at first period only if it includes the word \"pitches\"\n",
    "                pitchesinterm = [subresult.group(0) if subresult else '' for subresult in pitches_search]\n",
    "                pitches.append([int(re.search(r'\\d+', subresult).group(0)) if subresult else 1 for subresult in pitchesinterm][0]) # take just the digit of the string\n",
    "            except:\n",
    "                pitches.append(1)\n",
    "            \n",
    "            try:\n",
    "                style_search = [re.search(r\"·\\s\\s(solo|tr|follow|lead)\", entrytext.lower())]\n",
    "                style_val = [subresult.group(0)[2:] if subresult else '' for subresult in style_search][0] # I have a conditional in the comment search that depends on this so I made it a separate variable\n",
    "                style.append(style_val)\n",
    "            except:\n",
    "                style.append('')\n",
    "            \n",
    "            try:\n",
    "                if style_val != '':\n",
    "                    lead_style_search = [re.search(r\"/([^.]+)\", entrytext.lower())]\n",
    "                    lead_style.append([subresult.group(0)[2:] if subresult else '' for subresult in lead_style_search][0])\n",
    "                else:\n",
    "                    lead_style.append('')\n",
    "            except:\n",
    "                lead_style.append('')\n",
    "            \n",
    "            try:\n",
    "                if style_val != '': # If no style comment then entire phrase is the comment.\n",
    "                    comment_search = [re.search(r\"(Solo|TR|Follow|Lead).*\", entrytext)]\n",
    "                    commentinterm = ([subresult.group(0) if subresult else '' for subresult in comment_search])\n",
    "                    comment.append([re.search(r\"\\..*\", subresult).group(0)[2:] if subresult else '' for subresult in commentinterm][0])\n",
    "                else:\n",
    "                    comment_search = [re.search(r\"·(.*)\", entrytext)]\n",
    "                    comment.append([subresult.group(0)[2:] if subresult else '' for subresult in comment_search][0])\n",
    "            except:\n",
    "                comment.append('')\n",
    "    # print (len(name),len(namelink),len(entrydate),len(pitches),len(style),len(lead_style),len(comment))\n",
    "    # print (name,namelink,entrydate,pitches,style,lead_style,comment)\n",
    "    d = pd.DataFrame({'Username' : name, \"User Link\" : namelink, \"Entry Date\": entrydate, \"Pitches\": pitches, \"Style\": style, \"Lead Style\": lead_style, \"Comment\": comment})\n",
    "    # One last possible error correction\n",
    "    d.loc[~d['Lead Style'].isin(TICK_OPTIONS), 'Lead Style'] = ''\n",
    "    return d\n",
    "\n",
    "d=get_tick_details(df['re statpage'][22])\n",
    "d\n",
    "\n",
    "# df['Statpage df'] = df['re statpage'].apply(get_tick_details)\n",
    "# df['Statpage df']\n"
   ]
  },
  {
   "cell_type": "code",
   "execution_count": 686,
   "metadata": {},
   "outputs": [],
   "source": [
    "extext = blocks[0][2]\n",
    "\n",
    "name = []\n",
    "namelink = []\n",
    "entrydate = []\n",
    "pitches = []\n",
    "style = []\n",
    "lead_style = []\n",
    "comment = []\n",
    "\n",
    "soup = BeautifulSoup(str(extext), 'html.parser')\n",
    "entries = soup.find_all('div', attrs={'class': None})\n",
    "\n",
    "for entry in entries:\n",
    "    entrytext = entry.text\n",
    "    \n",
    "    namelink.append(soup.find('a')['href'])\n",
    "    name.append(soup.find('a').text)\n",
    "    \n",
    "    date_search = [re.search(r'\\w{3}\\s\\d{1,2},\\s\\d{4}', entrytext)]\n",
    "    entrydate.append([subresult.group(0)if subresult else '' for subresult in date_search][0]) # pulls match text if match object is not none\n",
    "    \n",
    "    pitches_search = [re.search(r'·([^.]+\\s(pitches))', entrytext)] # regex for starting at · and ending at first period only if it includes the word \"pitches\"\n",
    "    pitchesinterm = [subresult.group(0) if subresult else '' for subresult in pitches_search]\n",
    "    pitches.append([int(re.search(r'\\d+', subresult).group(0)) if subresult else 1 for subresult in pitchesinterm][0]) # take just the digit of the string\n",
    "    \n",
    "    style_search = [re.search(r\"(solo|tr|follow|lead)\", entrytext.lower())]\n",
    "    style.append([subresult.group(0) if subresult else '' for subresult in style_search][0])\n",
    "    \n",
    "    lead_style_search = [re.search(r\"/([^.]+)\", entrytext.lower())]\n",
    "    lead_style.append([subresult.group(0)[2:] if subresult else '' for subresult in lead_style_search][0])\n",
    "    \n",
    "    comment_search = [re.search(r\"(solo|tr|follow|lead).*\", entrytext.lower())]\n",
    "    commentinterm = ([subresult.group(0)[2:] if subresult else '' for subresult in comment_search])\n",
    "    comment.append([re.search(r\"\\..*\", subresult).group(0)[2:] if subresult else '' for subresult in commentinterm][0])\n",
    "    \n",
    "    \n",
    "# print (len(name),len(namelink),len(entrydate),len(pitches),len(style),len(lead_style),len(comment))\n",
    "# print (name,namelink,entrydate,pitches,style,lead_style,comment)\n",
    "d = pd.DataFrame({'Username' : name, \"User Link\" : namelink, \"Entry Date\": entrydate, \"Pitches\": pitches, \"Style\": style, \"Lead Style\": lead_style, \"Comment\": comment})"
   ]
  }
 ],
 "metadata": {
  "kernelspec": {
   "display_name": "Python 3.9.12 ('.venv': poetry)",
   "language": "python",
   "name": "python3"
  },
  "language_info": {
   "codemirror_mode": {
    "name": "ipython",
    "version": 3
   },
   "file_extension": ".py",
   "mimetype": "text/x-python",
   "name": "python",
   "nbconvert_exporter": "python",
   "pygments_lexer": "ipython3",
   "version": "3.9.12"
  },
  "orig_nbformat": 4,
  "vscode": {
   "interpreter": {
    "hash": "69c68274f8e9ce57f21b9f4f0cd989e216f773741f6e1c7e6f7ea408f78a94ea"
   }
  }
 },
 "nbformat": 4,
 "nbformat_minor": 2
}
